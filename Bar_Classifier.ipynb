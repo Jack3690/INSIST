{
  "nbformat": 4,
  "nbformat_minor": 0,
  "metadata": {
    "accelerator": "GPU",
    "colab": {
      "name": "Bar_Classifier.ipynb",
      "provenance": [],
      "collapsed_sections": [
        "p8ytkSZL61vG",
        "OwfGLCDQavp5",
        "oDGexfr2a1wG",
        "eInj9O5NuDAE",
        "RVtZtp4lE0gn"
      ],
      "authorship_tag": "ABX9TyNx48Rnmd4kMCqOyTrvTd7S",
      "include_colab_link": true
    },
    "kernelspec": {
      "display_name": "Python 3",
      "name": "python3"
    }
  },
  "cells": [
    {
      "cell_type": "markdown",
      "metadata": {
        "id": "view-in-github",
        "colab_type": "text"
      },
      "source": [
        "<a href=\"https://colab.research.google.com/github/Jack3690/Kugelblitz/blob/main/Bar_Classifier.ipynb\" target=\"_parent\"><img src=\"https://colab.research.google.com/assets/colab-badge.svg\" alt=\"Open In Colab\"/></a>"
      ]
    },
    {
      "cell_type": "markdown",
      "metadata": {
        "id": "p8ytkSZL61vG"
      },
      "source": [
        "# **Initialization**"
      ]
    },
    {
      "cell_type": "markdown",
      "metadata": {
        "id": "lHYO07ikL3SX"
      },
      "source": [
        "## **SDSS-Marvin**"
      ]
    },
    {
      "cell_type": "code",
      "metadata": {
        "id": "UdmKMsauMsmY",
        "colab": {
          "base_uri": "https://localhost:8080/"
        },
        "outputId": "9b066ee2-cb1c-4e06-cd51-70505ca4274d"
      },
      "source": [
        "!pip install sdss-marvin --quiet"
      ],
      "execution_count": 1,
      "outputs": [
        {
          "output_type": "stream",
          "name": "stdout",
          "text": [
            "\u001b[K     |████████████████████████████████| 393 kB 5.6 MB/s \n",
            "\u001b[K     |████████████████████████████████| 50 kB 4.2 MB/s \n",
            "\u001b[K     |████████████████████████████████| 284 kB 26.7 MB/s \n",
            "\u001b[K     |████████████████████████████████| 54 kB 1.4 MB/s \n",
            "\u001b[K     |████████████████████████████████| 50 kB 6.2 MB/s \n",
            "\u001b[K     |████████████████████████████████| 55 kB 3.1 MB/s \n",
            "\u001b[K     |████████████████████████████████| 49 kB 5.5 MB/s \n",
            "\u001b[K     |████████████████████████████████| 525 kB 36.7 MB/s \n",
            "\u001b[K     |████████████████████████████████| 596 kB 40.9 MB/s \n",
            "\u001b[K     |████████████████████████████████| 169 kB 46.1 MB/s \n",
            "\u001b[K     |████████████████████████████████| 100 kB 8.6 MB/s \n",
            "\u001b[K     |████████████████████████████████| 548 kB 47.2 MB/s \n",
            "\u001b[K     |████████████████████████████████| 212 kB 44.2 MB/s \n",
            "\u001b[K     |████████████████████████████████| 40 kB 5.0 MB/s \n",
            "\u001b[K     |████████████████████████████████| 41 kB 323 kB/s \n",
            "\u001b[K     |████████████████████████████████| 111 kB 46.2 MB/s \n",
            "\u001b[K     |████████████████████████████████| 47 kB 4.7 MB/s \n",
            "\u001b[K     |████████████████████████████████| 241 kB 46.4 MB/s \n",
            "\u001b[?25h  Building wheel for Flask-JWT-Extended (setup.py) ... \u001b[?25l\u001b[?25hdone\n",
            "  Building wheel for python-Levenshtein (setup.py) ... \u001b[?25l\u001b[?25hdone\n",
            "  Building wheel for daemonocle (setup.py) ... \u001b[?25l\u001b[?25hdone\n",
            "  Building wheel for infinity (setup.py) ... \u001b[?25l\u001b[?25hdone\n",
            "  Building wheel for yamlordereddictloader (setup.py) ... \u001b[?25l\u001b[?25hdone\n",
            "\u001b[31mERROR: pip's dependency resolver does not currently take into account all the packages that are installed. This behaviour is the source of the following dependency conflicts.\n",
            "datascience 0.10.6 requires folium==0.2.1, but you have folium 0.8.3 which is incompatible.\u001b[0m\n"
          ]
        }
      ]
    },
    {
      "cell_type": "code",
      "metadata": {
        "id": "DL7_i7CYMwtj",
        "colab": {
          "base_uri": "https://localhost:8080/"
        },
        "outputId": "00b470a5-9658-4e71-853f-f762cff5ea2a"
      },
      "source": [
        "!git clone https://github.com/Jack3690/Kugelblitz"
      ],
      "execution_count": 2,
      "outputs": [
        {
          "output_type": "stream",
          "name": "stdout",
          "text": [
            "Cloning into 'Kugelblitz'...\n",
            "remote: Enumerating objects: 38, done.\u001b[K\n",
            "remote: Counting objects: 100% (38/38), done.\u001b[K\n",
            "remote: Compressing objects: 100% (27/27), done.\u001b[K\n",
            "remote: Total 38 (delta 6), reused 31 (delta 2), pack-reused 0\u001b[K\n",
            "Unpacking objects: 100% (38/38), done.\n"
          ]
        }
      ]
    },
    {
      "cell_type": "markdown",
      "metadata": {
        "id": "_vOYN_GzL-Al"
      },
      "source": [
        "### **Configuring Marvin**"
      ]
    },
    {
      "cell_type": "code",
      "metadata": {
        "id": "HAO1OL7gNV3P",
        "colab": {
          "base_uri": "https://localhost:8080/"
        },
        "outputId": "3d3df27d-25da-4fbb-e6fe-68f046811f00"
      },
      "source": [
        "cd Kugelblitz/"
      ],
      "execution_count": 3,
      "outputs": [
        {
          "output_type": "stream",
          "name": "stdout",
          "text": [
            "/content/Kugelblitz\n"
          ]
        }
      ]
    },
    {
      "cell_type": "code",
      "metadata": {
        "id": "a2UOYvL5NIwH",
        "colab": {
          "base_uri": "https://localhost:8080/"
        },
        "outputId": "41886a22-a01e-4a0e-8d7a-888b219e70a6"
      },
      "source": [
        "!cp -a sas/ /root/\n",
        "\n",
        "!cp -a sas/map.py /usr/local/lib/python3.7/dist-packages/marvin/utils/plot/\n",
        "\n",
        "!mkdir  /root/sas/dr16\n",
        "!cp -a /root/sas/mangawork/manga/ /root/sas/dr16"
      ],
      "execution_count": 10,
      "outputs": [
        {
          "output_type": "stream",
          "name": "stdout",
          "text": [
            "mkdir: cannot create directory ‘/root/sas/dr16’: File exists\n"
          ]
        }
      ]
    },
    {
      "cell_type": "code",
      "metadata": {
        "colab": {
          "base_uri": "https://localhost:8080/"
        },
        "id": "zrGpNDl5NPJX",
        "outputId": "946605e9-761e-4e94-dc56-ee270e0c366c"
      },
      "source": [
        "import os\n",
        "import sys\n",
        "import requests\n",
        "import warnings\n",
        "import PIL\n",
        "import copy\n",
        "\n",
        "from matplotlib import pyplot as plt\n",
        "from matplotlib import colors\n",
        "import seaborn as sb\n",
        "import matplotlib\n",
        "import numpy as np\n",
        "from matplotlib import gridspec\n",
        "import pandas as pd\n",
        "import marvin.utils.plot.colorbar as colorbar\n",
        "from matplotlib.colors import ListedColormap\n",
        "from IPython.display import clear_output\n",
        "\n",
        "from marvin.tools.maps import Maps\n",
        "import marvin.utils.plot.map as mapplot\n",
        "from astropy.table import Table\n",
        "import astropy.units as u\n",
        "from astropy.io import ascii\n",
        "from astropy.wcs import WCS\n",
        "from astropy.coordinates import Distance\n",
        "from astropy.cosmology import WMAP9 as cosmo\n",
        "from astropy.cosmology import Planck15\n",
        "from astropy.io import fits\n",
        "from matplotlib.ticker import (MultipleLocator, AutoMinorLocator)\n",
        "if sys.version_info.major == 2:\n",
        "    from cStringIO import StringIO as stringio\n",
        "else:\n",
        "    from io import StringIO as stringio\n",
        "    from io import BytesIO as bytesio\n",
        "\n",
        "matplotlib.rcParams['figure.figsize']=(10,10)\n",
        "matplotlib.rcParams['font.size']=15\n",
        "\n",
        "#sb.set_style('dark')"
      ],
      "execution_count": 11,
      "outputs": [
        {
          "output_type": "stream",
          "name": "stderr",
          "text": [
            "/usr/local/lib/python3.7/dist-packages/marvin/core/exceptions.py:51: UserWarning: cannot initiate Sentry error reporting: [Errno 6] No such device or address.\n",
            "  UserWarning)\n",
            "\u001b[0;34m[INFO]: \u001b[0mNo release version set. Setting default to DR15\n"
          ]
        }
      ]
    },
    {
      "cell_type": "markdown",
      "metadata": {
        "id": "egxdd6JFMEiq"
      },
      "source": [
        "## **Fast.ai**"
      ]
    },
    {
      "cell_type": "code",
      "metadata": {
        "colab": {
          "base_uri": "https://localhost:8080/"
        },
        "id": "KgAXZHTluGlW",
        "outputId": "a2fe983f-0bde-4feb-ead1-59f58879a7f3"
      },
      "source": [
        "!pip install -Uqq fastbook\n",
        "import fastbook\n",
        "fastbook.setup_book()"
      ],
      "execution_count": 12,
      "outputs": [
        {
          "output_type": "stream",
          "name": "stdout",
          "text": [
            "\u001b[K     |████████████████████████████████| 720 kB 5.4 MB/s \n",
            "\u001b[K     |████████████████████████████████| 1.2 MB 37.3 MB/s \n",
            "\u001b[K     |████████████████████████████████| 46 kB 3.8 MB/s \n",
            "\u001b[K     |████████████████████████████████| 186 kB 52.6 MB/s \n",
            "\u001b[K     |████████████████████████████████| 56 kB 3.4 MB/s \n",
            "\u001b[K     |████████████████████████████████| 51 kB 272 kB/s \n",
            "\u001b[?25hMounted at /content/gdrive\n"
          ]
        }
      ]
    },
    {
      "cell_type": "code",
      "metadata": {
        "id": "EnyYN9llwzCs"
      },
      "source": [
        "from fastai.vision.all import *\n",
        "from fastbook import *\n",
        "from fastai.vision.widgets import *"
      ],
      "execution_count": 13,
      "outputs": []
    },
    {
      "cell_type": "code",
      "metadata": {
        "colab": {
          "base_uri": "https://localhost:8080/"
        },
        "id": "P-5bsA1mBNCA",
        "outputId": "ec5b46ea-48a3-41f3-ac18-a8653e697087"
      },
      "source": [
        "path=Path('/content/gdrive/My Drive')\n",
        "path.exists()"
      ],
      "execution_count": 14,
      "outputs": [
        {
          "output_type": "execute_result",
          "data": {
            "text/plain": [
              "True"
            ]
          },
          "metadata": {},
          "execution_count": 14
        }
      ]
    },
    {
      "cell_type": "markdown",
      "metadata": {
        "id": "oDGexfr2a1wG"
      },
      "source": [
        "# **Data & Image acquisition**"
      ]
    },
    {
      "cell_type": "code",
      "metadata": {
        "id": "jkJI4AFLj7Bw"
      },
      "source": [
        "import matplotlib.pyplot as plt\n",
        "import pandas as pd"
      ],
      "execution_count": 15,
      "outputs": []
    },
    {
      "cell_type": "markdown",
      "metadata": {
        "id": "w3V9dN15AdMy"
      },
      "source": [
        "**Table with MaNGA Galaxies**"
      ]
    },
    {
      "cell_type": "code",
      "metadata": {
        "colab": {
          "base_uri": "https://localhost:8080/",
          "height": 414
        },
        "id": "xL3gAHEFDvwp",
        "outputId": "9cdb2bb9-f552-40af-d74c-f3e4c5c62d2b"
      },
      "source": [
        "df=pd.read_csv('data/mangaifu.csv')\n",
        "df=df[df.ifudesignsize>0][[\"plateifu\",\"mangaid\",\"objra\",\"objdec\"]]\n",
        "df"
      ],
      "execution_count": 17,
      "outputs": [
        {
          "output_type": "execute_result",
          "data": {
            "text/html": [
              "<div>\n",
              "<style scoped>\n",
              "    .dataframe tbody tr th:only-of-type {\n",
              "        vertical-align: middle;\n",
              "    }\n",
              "\n",
              "    .dataframe tbody tr th {\n",
              "        vertical-align: top;\n",
              "    }\n",
              "\n",
              "    .dataframe thead th {\n",
              "        text-align: right;\n",
              "    }\n",
              "</style>\n",
              "<table border=\"1\" class=\"dataframe\">\n",
              "  <thead>\n",
              "    <tr style=\"text-align: right;\">\n",
              "      <th></th>\n",
              "      <th>plateifu</th>\n",
              "      <th>mangaid</th>\n",
              "      <th>objra</th>\n",
              "      <th>objdec</th>\n",
              "    </tr>\n",
              "  </thead>\n",
              "  <tbody>\n",
              "    <tr>\n",
              "      <th>0</th>\n",
              "      <td>8935-12701</td>\n",
              "      <td>1-404249</td>\n",
              "      <td>194.523424</td>\n",
              "      <td>29.017353</td>\n",
              "    </tr>\n",
              "    <tr>\n",
              "      <th>1</th>\n",
              "      <td>7977-12701</td>\n",
              "      <td>1-114955</td>\n",
              "      <td>332.602090</td>\n",
              "      <td>11.713077</td>\n",
              "    </tr>\n",
              "    <tr>\n",
              "      <th>2</th>\n",
              "      <td>9494-12701</td>\n",
              "      <td>1-412866</td>\n",
              "      <td>126.910630</td>\n",
              "      <td>21.256855</td>\n",
              "    </tr>\n",
              "    <tr>\n",
              "      <th>3</th>\n",
              "      <td>8150-12701</td>\n",
              "      <td>1-389685</td>\n",
              "      <td>146.701430</td>\n",
              "      <td>31.719579</td>\n",
              "    </tr>\n",
              "    <tr>\n",
              "      <th>4</th>\n",
              "      <td>9487-12701</td>\n",
              "      <td>1-44618</td>\n",
              "      <td>122.522873</td>\n",
              "      <td>46.193025</td>\n",
              "    </tr>\n",
              "    <tr>\n",
              "      <th>...</th>\n",
              "      <td>...</td>\n",
              "      <td>...</td>\n",
              "      <td>...</td>\n",
              "      <td>...</td>\n",
              "    </tr>\n",
              "    <tr>\n",
              "      <th>4819</th>\n",
              "      <td>8155-9102</td>\n",
              "      <td>1-202101</td>\n",
              "      <td>53.686515</td>\n",
              "      <td>-1.245784</td>\n",
              "    </tr>\n",
              "    <tr>\n",
              "      <th>4820</th>\n",
              "      <td>9042-9102</td>\n",
              "      <td>1-549071</td>\n",
              "      <td>235.032077</td>\n",
              "      <td>28.152265</td>\n",
              "    </tr>\n",
              "    <tr>\n",
              "      <th>4821</th>\n",
              "      <td>9870-9102</td>\n",
              "      <td>1-199224</td>\n",
              "      <td>233.165629</td>\n",
              "      <td>43.057807</td>\n",
              "    </tr>\n",
              "    <tr>\n",
              "      <th>4822</th>\n",
              "      <td>8719-9102</td>\n",
              "      <td>1-44693</td>\n",
              "      <td>121.744779</td>\n",
              "      <td>46.562969</td>\n",
              "    </tr>\n",
              "    <tr>\n",
              "      <th>4823</th>\n",
              "      <td>8718-9102</td>\n",
              "      <td>1-44660</td>\n",
              "      <td>121.434741</td>\n",
              "      <td>46.024424</td>\n",
              "    </tr>\n",
              "  </tbody>\n",
              "</table>\n",
              "<p>4824 rows × 4 columns</p>\n",
              "</div>"
            ],
            "text/plain": [
              "        plateifu   mangaid       objra     objdec\n",
              "0     8935-12701  1-404249  194.523424  29.017353\n",
              "1     7977-12701  1-114955  332.602090  11.713077\n",
              "2     9494-12701  1-412866  126.910630  21.256855\n",
              "3     8150-12701  1-389685  146.701430  31.719579\n",
              "4     9487-12701   1-44618  122.522873  46.193025\n",
              "...          ...       ...         ...        ...\n",
              "4819   8155-9102  1-202101   53.686515  -1.245784\n",
              "4820   9042-9102  1-549071  235.032077  28.152265\n",
              "4821   9870-9102  1-199224  233.165629  43.057807\n",
              "4822   8719-9102   1-44693  121.744779  46.562969\n",
              "4823   8718-9102   1-44660  121.434741  46.024424\n",
              "\n",
              "[4824 rows x 4 columns]"
            ]
          },
          "metadata": {},
          "execution_count": 17
        }
      ]
    },
    {
      "cell_type": "code",
      "metadata": {
        "colab": {
          "base_uri": "https://localhost:8080/"
        },
        "id": "9__gnHzzLf87",
        "outputId": "6fdca3f2-e499-4810-db54-7117f7840142"
      },
      "source": [
        "if not os.path.exists(path/'mangaifu/'):\n",
        "  os.mkdir(path/'mangaifu/')\n",
        "count = 0\n",
        "for plateifu in df.plateifu:\n",
        "  count+=1\n",
        "  try:\n",
        "    maps = Maps(plateifu=plateifu,mode='remote')\n",
        "\n",
        "    sdss_cutout = maps.getImage()\n",
        "    scale = maps.wcs.to_header()['PC2_2']*3600\n",
        "    size = 2*maps.wcs.to_header()['CRPIX1']*scale\n",
        "    sdss_cutout.get_new_cutout(size,size,scale=size/512)\n",
        "\n",
        "    sdss_cutout.save(path/f'mangaifu/{plateifu}.png')\n",
        "\n",
        "    if count%10==0:\n",
        "      print('.',end='')\n",
        "    if count%1000==0:\n",
        "      print(count)\n",
        "  except:\n",
        "    print(f\"Error for plateifu : {plateifu}\")"
      ],
      "execution_count": null,
      "outputs": [
        {
          "output_type": "stream",
          "name": "stdout",
          "text": [
            "Error for plateifu : 8480-12701\n",
            "."
          ]
        }
      ]
    },
    {
      "cell_type": "code",
      "metadata": {
        "id": "1dF02XpDQZyV"
      },
      "source": [
        "sdss_cutout.save(path/'mangaifu/plateifu.png')"
      ],
      "execution_count": null,
      "outputs": []
    },
    {
      "cell_type": "markdown",
      "metadata": {
        "id": "RVtZtp4lE0gn"
      },
      "source": [
        "# **Caffe Classifier (Sheelu et.al)**\n",
        "\n",
        "https://doi.org/10.1093/mnras/sty627"
      ]
    },
    {
      "cell_type": "code",
      "metadata": {
        "colab": {
          "base_uri": "https://localhost:8080/"
        },
        "id": "Q7UG8OVcFcwZ",
        "outputId": "94b0f998-9c48-4a17-9a6c-33a87d3e57d5"
      },
      "source": [
        "!git clone https://github.com/vadimkantorov/caffemodel2pytorch"
      ],
      "execution_count": 9,
      "outputs": [
        {
          "output_type": "stream",
          "name": "stdout",
          "text": [
            "Cloning into 'caffemodel2pytorch'...\n",
            "remote: Enumerating objects: 294, done.\u001b[K\n",
            "remote: Counting objects: 100% (7/7), done.\u001b[K\n",
            "remote: Compressing objects: 100% (7/7), done.\u001b[K\n",
            "remote: Total 294 (delta 1), reused 0 (delta 0), pack-reused 287\u001b[K\n",
            "Receiving objects: 100% (294/294), 81.26 KiB | 2.71 MiB/s, done.\n",
            "Resolving deltas: 100% (98/98), done.\n"
          ]
        }
      ]
    },
    {
      "cell_type": "code",
      "metadata": {
        "id": "ckkaAHJ2F6Qm"
      },
      "source": [
        "import caffemodel2pytorch.caffemodel2pytorch as caffemodel2pytorch"
      ],
      "execution_count": 10,
      "outputs": []
    },
    {
      "cell_type": "code",
      "metadata": {
        "colab": {
          "base_uri": "https://localhost:8080/"
        },
        "id": "jnIlBqlFGbQA",
        "outputId": "e02acf90-1fc7-4cb2-b3e6-7a7a3812cc1b"
      },
      "source": [
        "model = caffemodel2pytorch.Net(\n",
        "\tprototxt = path/'bar_model/deploy.prototxt',\n",
        "\tweights = path/'bar_model/snapshot_iter_471780.caffemodel',\n",
        "\tcaffe_proto = 'https://raw.githubusercontent.com/BVLC/caffe/master/src/caffe/proto/caffe.proto'\n",
        ");"
      ],
      "execution_count": 11,
      "outputs": [
        {
          "output_type": "stream",
          "name": "stdout",
          "text": [
            "caffemodel2pytorch: loading model from [/content/gdrive/My Drive/bar_model/snapshot_iter_471780.caffemodel] in HDF5 format failed [Unable to open file (file signature not found)], falling back to caffemodel format\n",
            "caffemodel2pytorch: loaded model from [/content/gdrive/My Drive/bar_model/snapshot_iter_471780.caffemodel] in caffemodel format\n"
          ]
        }
      ]
    },
    {
      "cell_type": "code",
      "metadata": {
        "id": "eRnpkHHjEy0V"
      },
      "source": [
        "image_path=get_image_files(path/'WHAN/')"
      ],
      "execution_count": null,
      "outputs": []
    },
    {
      "cell_type": "code",
      "metadata": {
        "colab": {
          "base_uri": "https://localhost:8080/"
        },
        "id": "L5hLsidMHpUE",
        "outputId": "67facf81-f12a-4887-f209-ce0247ee48ef"
      },
      "source": [
        "# Dict object to store data\n",
        "barclass= {\n",
        "    'barred' : [],\n",
        "    'unbarred': [],\n",
        "}\n",
        "count=0\n",
        "for path_img in image_path:\n",
        "  # Loading image from file\n",
        "  img=Image.open(path_img)\n",
        "  image=img.resize((256,256))\n",
        "  data=tensor(image).permute(2,1,0).unsqueeze(0).float()\n",
        "  if torch.cuda.is_available():\n",
        "    data=data.cuda()\n",
        "  \n",
        "  # Clasifying using Caffe model\n",
        "  out= model(data = data)\n",
        "\n",
        "  # Using output probabilities to find class\n",
        "  if ( (out['softmax'][0][0].item() > out['softmax'][0][1].item()) and (out['softmax'][0][0].item() > 0.5) ):\n",
        "    ch='barred'\n",
        "    prob=out['softmax'][0][0].item() \n",
        "  elif ( (out['softmax'][0][0].item() < out['softmax'][0][1].item()) and (out['softmax'][0][1].item() > 0.5) ):\n",
        "    ch='unbarred'\n",
        "    prob = out['softmax'][0][1].item()\n",
        "\n",
        "  # Appending data to dict\n",
        "  barclass[ch].append([path_img.name[:-4],prob])\n",
        "  count+=1\n",
        "\n",
        "  print(\".\",end=\"\")\n",
        "  if count%100==0:\n",
        "    print(count)\n",
        "print(count)"
      ],
      "execution_count": null,
      "outputs": [
        {
          "output_type": "stream",
          "text": [
            "....................................................................................................100\n",
            "....................................................................................................200\n",
            "....................................................................................................300\n",
            "....................................................................................................400\n",
            "....................................................................................................500\n",
            "....................................................................................................600\n",
            "....................................................................................................700\n",
            "....................................................................................................800\n",
            "....................................................................................................900\n",
            "....................................................................................................1000\n",
            "....................................................................................................1100\n",
            "....................................................................................................1200\n",
            "....................................................................................................1300\n",
            "....................................................................................................1400\n",
            "....................................................................................................1500\n",
            "....................................................................................................1600\n",
            "....................................................................................................1700\n",
            "....................................................................................................1800\n",
            "....................................................................................................1900\n",
            "....................................................................................................2000\n",
            "....................................................................................................2100\n",
            "....................................................................................................2200\n",
            "....................................................................................................2300\n",
            "....................................................................................................2400\n",
            "....................................................................................................2500\n",
            "....................................................................................................2600\n",
            "....................................................................................................2700\n",
            "....................................................................................................2800\n",
            "....................................................................................................2900\n",
            "....................................................................................................3000\n",
            "....................................................................................................3100\n",
            "....................................................................................................3200\n",
            "....................................................................................................3300\n",
            "....................................................................................................3400\n",
            "....................................................................................................3500\n",
            "....................................................................................................3600\n",
            "....................................................................................................3700\n",
            "....................................................................................................3800\n",
            "....................................................................................................3900\n",
            "....................................................................................................4000\n",
            "....................................................................................................4100\n",
            "....................................................................................................4200\n",
            "....................................................................................................4300\n",
            "....................................................................................................4400\n",
            "....................................................................................................4500\n",
            "....................................................................................................4600\n",
            "....................................................................................................4700\n",
            "..........................................................................................4790\n"
          ],
          "name": "stdout"
        }
      ]
    },
    {
      "cell_type": "code",
      "metadata": {
        "id": "RD_O97LEPQ7a"
      },
      "source": [
        "bar=pd.DataFrame(barclass['barred'],columns=['plateifu','prob'])\n",
        "nobar=pd.DataFrame(barclass['unbarred'],columns=['plateifu','prob'])"
      ],
      "execution_count": null,
      "outputs": []
    },
    {
      "cell_type": "code",
      "metadata": {
        "id": "VNeyRKHfPl9q"
      },
      "source": [
        "bar.to_csv(path/'manga_caffe_bar.csv')\n",
        "nobar.to_csv(path/'manga_caffe_unbarred.csv')"
      ],
      "execution_count": null,
      "outputs": []
    },
    {
      "cell_type": "code",
      "metadata": {
        "colab": {
          "base_uri": "https://localhost:8080/"
        },
        "id": "lQjVjToscWCn",
        "outputId": "a3f06cda-4f63-4b30-e6d3-634eb33e7f09"
      },
      "source": [
        "print(\"Number of barred galaxies :\",bar.count()[0])\n",
        "print(\"Number of unbarred galaxies :\",nobar.count()[0])\n",
        "print(\"Total :\",bar.count()[0]+nobar.count()[0])"
      ],
      "execution_count": null,
      "outputs": [
        {
          "output_type": "stream",
          "text": [
            "Number of barred galaxies : 77\n",
            "Number of unbarred galaxies : 4713\n",
            "Total : 4790\n"
          ],
          "name": "stdout"
        }
      ]
    },
    {
      "cell_type": "markdown",
      "metadata": {
        "id": "eInj9O5NuDAE"
      },
      "source": [
        "# **ResNet152 Classifier (Fast.ai)**\n",
        "Work in progess"
      ]
    },
    {
      "cell_type": "code",
      "metadata": {
        "id": "AjshHq2q3sYr"
      },
      "source": [
        "learn = load_learner(path/'bar_model/export.pkl')"
      ],
      "execution_count": null,
      "outputs": []
    },
    {
      "cell_type": "code",
      "metadata": {
        "colab": {
          "base_uri": "https://localhost:8080/"
        },
        "id": "BBglOm1Jt8FH",
        "outputId": "d375e3b0-3df0-4c96-a06c-68a67ab4cdf1"
      },
      "source": [
        "learn.dls.vocab"
      ],
      "execution_count": null,
      "outputs": [
        {
          "output_type": "execute_result",
          "data": {
            "text/plain": [
              "['barred', 'unbarred']"
            ]
          },
          "metadata": {
            "tags": []
          },
          "execution_count": 6
        }
      ]
    },
    {
      "cell_type": "code",
      "metadata": {
        "colab": {
          "base_uri": "https://localhost:8080/"
        },
        "id": "8AMqJHGot-i0",
        "outputId": "08ffdb6a-9a66-43d8-c4c3-b7b677234004"
      },
      "source": [
        "(path/'WHAN/').exists()"
      ],
      "execution_count": null,
      "outputs": [
        {
          "output_type": "execute_result",
          "data": {
            "text/plain": [
              "True"
            ]
          },
          "metadata": {
            "tags": []
          },
          "execution_count": 7
        }
      ]
    },
    {
      "cell_type": "code",
      "metadata": {
        "id": "RWyMMSOiwnwi"
      },
      "source": [
        "image_path=get_image_files(path/'WHAN/')"
      ],
      "execution_count": null,
      "outputs": []
    },
    {
      "cell_type": "code",
      "metadata": {
        "colab": {
          "base_uri": "https://localhost:8080/"
        },
        "id": "Xi8dIpUobQYO",
        "outputId": "cc2f15a6-0171-49e4-a99f-955b2898d154"
      },
      "source": [
        "len(image_path)"
      ],
      "execution_count": null,
      "outputs": [
        {
          "output_type": "execute_result",
          "data": {
            "text/plain": [
              "4790"
            ]
          },
          "metadata": {
            "tags": []
          },
          "execution_count": 23
        }
      ]
    },
    {
      "cell_type": "code",
      "metadata": {
        "colab": {
          "base_uri": "https://localhost:8080/",
          "height": 51
        },
        "id": "p0gkRlbL2Per",
        "outputId": "67436727-51b4-40db-afc9-dabce959e75d"
      },
      "source": [
        "# Dict object to store data\n",
        "barclass= {\n",
        "    'barred' : [],\n",
        "    'unbarred': [],\n",
        "}\n",
        "count=0\n",
        "for img in image_path:\n",
        "  # Loading and classifying image\n",
        "  c,i,p=learn.predict(img)\n",
        "  # Appening data to dict \n",
        "  barclass[c].append([img.name[:-4],p[i].numpy().item()])\n",
        "  count+=1\n",
        "  if count%100==0:\n",
        "    print(count)\n",
        "    break\n",
        "print(count)"
      ],
      "execution_count": null,
      "outputs": [
        {
          "output_type": "display_data",
          "data": {
            "text/html": [
              ""
            ],
            "text/plain": [
              "<IPython.core.display.HTML object>"
            ]
          },
          "metadata": {
            "tags": []
          }
        },
        {
          "output_type": "display_data",
          "data": {
            "text/html": [
              ""
            ],
            "text/plain": [
              "<IPython.core.display.HTML object>"
            ]
          },
          "metadata": {
            "tags": []
          }
        },
        {
          "output_type": "display_data",
          "data": {
            "text/html": [
              ""
            ],
            "text/plain": [
              "<IPython.core.display.HTML object>"
            ]
          },
          "metadata": {
            "tags": []
          }
        },
        {
          "output_type": "display_data",
          "data": {
            "text/html": [
              ""
            ],
            "text/plain": [
              "<IPython.core.display.HTML object>"
            ]
          },
          "metadata": {
            "tags": []
          }
        },
        {
          "output_type": "display_data",
          "data": {
            "text/html": [
              ""
            ],
            "text/plain": [
              "<IPython.core.display.HTML object>"
            ]
          },
          "metadata": {
            "tags": []
          }
        },
        {
          "output_type": "display_data",
          "data": {
            "text/html": [
              ""
            ],
            "text/plain": [
              "<IPython.core.display.HTML object>"
            ]
          },
          "metadata": {
            "tags": []
          }
        },
        {
          "output_type": "display_data",
          "data": {
            "text/html": [
              ""
            ],
            "text/plain": [
              "<IPython.core.display.HTML object>"
            ]
          },
          "metadata": {
            "tags": []
          }
        },
        {
          "output_type": "display_data",
          "data": {
            "text/html": [
              ""
            ],
            "text/plain": [
              "<IPython.core.display.HTML object>"
            ]
          },
          "metadata": {
            "tags": []
          }
        },
        {
          "output_type": "display_data",
          "data": {
            "text/html": [
              ""
            ],
            "text/plain": [
              "<IPython.core.display.HTML object>"
            ]
          },
          "metadata": {
            "tags": []
          }
        },
        {
          "output_type": "display_data",
          "data": {
            "text/html": [
              ""
            ],
            "text/plain": [
              "<IPython.core.display.HTML object>"
            ]
          },
          "metadata": {
            "tags": []
          }
        },
        {
          "output_type": "display_data",
          "data": {
            "text/html": [
              ""
            ],
            "text/plain": [
              "<IPython.core.display.HTML object>"
            ]
          },
          "metadata": {
            "tags": []
          }
        },
        {
          "output_type": "display_data",
          "data": {
            "text/html": [
              ""
            ],
            "text/plain": [
              "<IPython.core.display.HTML object>"
            ]
          },
          "metadata": {
            "tags": []
          }
        },
        {
          "output_type": "display_data",
          "data": {
            "text/html": [
              ""
            ],
            "text/plain": [
              "<IPython.core.display.HTML object>"
            ]
          },
          "metadata": {
            "tags": []
          }
        },
        {
          "output_type": "display_data",
          "data": {
            "text/html": [
              ""
            ],
            "text/plain": [
              "<IPython.core.display.HTML object>"
            ]
          },
          "metadata": {
            "tags": []
          }
        },
        {
          "output_type": "display_data",
          "data": {
            "text/html": [
              ""
            ],
            "text/plain": [
              "<IPython.core.display.HTML object>"
            ]
          },
          "metadata": {
            "tags": []
          }
        },
        {
          "output_type": "display_data",
          "data": {
            "text/html": [
              ""
            ],
            "text/plain": [
              "<IPython.core.display.HTML object>"
            ]
          },
          "metadata": {
            "tags": []
          }
        },
        {
          "output_type": "display_data",
          "data": {
            "text/html": [
              ""
            ],
            "text/plain": [
              "<IPython.core.display.HTML object>"
            ]
          },
          "metadata": {
            "tags": []
          }
        },
        {
          "output_type": "display_data",
          "data": {
            "text/html": [
              ""
            ],
            "text/plain": [
              "<IPython.core.display.HTML object>"
            ]
          },
          "metadata": {
            "tags": []
          }
        },
        {
          "output_type": "display_data",
          "data": {
            "text/html": [
              ""
            ],
            "text/plain": [
              "<IPython.core.display.HTML object>"
            ]
          },
          "metadata": {
            "tags": []
          }
        },
        {
          "output_type": "display_data",
          "data": {
            "text/html": [
              ""
            ],
            "text/plain": [
              "<IPython.core.display.HTML object>"
            ]
          },
          "metadata": {
            "tags": []
          }
        },
        {
          "output_type": "display_data",
          "data": {
            "text/html": [
              ""
            ],
            "text/plain": [
              "<IPython.core.display.HTML object>"
            ]
          },
          "metadata": {
            "tags": []
          }
        },
        {
          "output_type": "display_data",
          "data": {
            "text/html": [
              ""
            ],
            "text/plain": [
              "<IPython.core.display.HTML object>"
            ]
          },
          "metadata": {
            "tags": []
          }
        },
        {
          "output_type": "display_data",
          "data": {
            "text/html": [
              ""
            ],
            "text/plain": [
              "<IPython.core.display.HTML object>"
            ]
          },
          "metadata": {
            "tags": []
          }
        },
        {
          "output_type": "display_data",
          "data": {
            "text/html": [
              ""
            ],
            "text/plain": [
              "<IPython.core.display.HTML object>"
            ]
          },
          "metadata": {
            "tags": []
          }
        },
        {
          "output_type": "display_data",
          "data": {
            "text/html": [
              ""
            ],
            "text/plain": [
              "<IPython.core.display.HTML object>"
            ]
          },
          "metadata": {
            "tags": []
          }
        },
        {
          "output_type": "display_data",
          "data": {
            "text/html": [
              ""
            ],
            "text/plain": [
              "<IPython.core.display.HTML object>"
            ]
          },
          "metadata": {
            "tags": []
          }
        },
        {
          "output_type": "display_data",
          "data": {
            "text/html": [
              ""
            ],
            "text/plain": [
              "<IPython.core.display.HTML object>"
            ]
          },
          "metadata": {
            "tags": []
          }
        },
        {
          "output_type": "display_data",
          "data": {
            "text/html": [
              ""
            ],
            "text/plain": [
              "<IPython.core.display.HTML object>"
            ]
          },
          "metadata": {
            "tags": []
          }
        },
        {
          "output_type": "display_data",
          "data": {
            "text/html": [
              ""
            ],
            "text/plain": [
              "<IPython.core.display.HTML object>"
            ]
          },
          "metadata": {
            "tags": []
          }
        },
        {
          "output_type": "display_data",
          "data": {
            "text/html": [
              ""
            ],
            "text/plain": [
              "<IPython.core.display.HTML object>"
            ]
          },
          "metadata": {
            "tags": []
          }
        },
        {
          "output_type": "display_data",
          "data": {
            "text/html": [
              ""
            ],
            "text/plain": [
              "<IPython.core.display.HTML object>"
            ]
          },
          "metadata": {
            "tags": []
          }
        },
        {
          "output_type": "display_data",
          "data": {
            "text/html": [
              ""
            ],
            "text/plain": [
              "<IPython.core.display.HTML object>"
            ]
          },
          "metadata": {
            "tags": []
          }
        },
        {
          "output_type": "display_data",
          "data": {
            "text/html": [
              ""
            ],
            "text/plain": [
              "<IPython.core.display.HTML object>"
            ]
          },
          "metadata": {
            "tags": []
          }
        },
        {
          "output_type": "display_data",
          "data": {
            "text/html": [
              ""
            ],
            "text/plain": [
              "<IPython.core.display.HTML object>"
            ]
          },
          "metadata": {
            "tags": []
          }
        },
        {
          "output_type": "display_data",
          "data": {
            "text/html": [
              ""
            ],
            "text/plain": [
              "<IPython.core.display.HTML object>"
            ]
          },
          "metadata": {
            "tags": []
          }
        },
        {
          "output_type": "display_data",
          "data": {
            "text/html": [
              ""
            ],
            "text/plain": [
              "<IPython.core.display.HTML object>"
            ]
          },
          "metadata": {
            "tags": []
          }
        },
        {
          "output_type": "display_data",
          "data": {
            "text/html": [
              ""
            ],
            "text/plain": [
              "<IPython.core.display.HTML object>"
            ]
          },
          "metadata": {
            "tags": []
          }
        },
        {
          "output_type": "display_data",
          "data": {
            "text/html": [
              ""
            ],
            "text/plain": [
              "<IPython.core.display.HTML object>"
            ]
          },
          "metadata": {
            "tags": []
          }
        },
        {
          "output_type": "display_data",
          "data": {
            "text/html": [
              ""
            ],
            "text/plain": [
              "<IPython.core.display.HTML object>"
            ]
          },
          "metadata": {
            "tags": []
          }
        },
        {
          "output_type": "display_data",
          "data": {
            "text/html": [
              ""
            ],
            "text/plain": [
              "<IPython.core.display.HTML object>"
            ]
          },
          "metadata": {
            "tags": []
          }
        },
        {
          "output_type": "display_data",
          "data": {
            "text/html": [
              ""
            ],
            "text/plain": [
              "<IPython.core.display.HTML object>"
            ]
          },
          "metadata": {
            "tags": []
          }
        },
        {
          "output_type": "display_data",
          "data": {
            "text/html": [
              ""
            ],
            "text/plain": [
              "<IPython.core.display.HTML object>"
            ]
          },
          "metadata": {
            "tags": []
          }
        },
        {
          "output_type": "display_data",
          "data": {
            "text/html": [
              ""
            ],
            "text/plain": [
              "<IPython.core.display.HTML object>"
            ]
          },
          "metadata": {
            "tags": []
          }
        },
        {
          "output_type": "display_data",
          "data": {
            "text/html": [
              ""
            ],
            "text/plain": [
              "<IPython.core.display.HTML object>"
            ]
          },
          "metadata": {
            "tags": []
          }
        },
        {
          "output_type": "display_data",
          "data": {
            "text/html": [
              ""
            ],
            "text/plain": [
              "<IPython.core.display.HTML object>"
            ]
          },
          "metadata": {
            "tags": []
          }
        },
        {
          "output_type": "display_data",
          "data": {
            "text/html": [
              ""
            ],
            "text/plain": [
              "<IPython.core.display.HTML object>"
            ]
          },
          "metadata": {
            "tags": []
          }
        },
        {
          "output_type": "display_data",
          "data": {
            "text/html": [
              ""
            ],
            "text/plain": [
              "<IPython.core.display.HTML object>"
            ]
          },
          "metadata": {
            "tags": []
          }
        },
        {
          "output_type": "display_data",
          "data": {
            "text/html": [
              ""
            ],
            "text/plain": [
              "<IPython.core.display.HTML object>"
            ]
          },
          "metadata": {
            "tags": []
          }
        },
        {
          "output_type": "display_data",
          "data": {
            "text/html": [
              ""
            ],
            "text/plain": [
              "<IPython.core.display.HTML object>"
            ]
          },
          "metadata": {
            "tags": []
          }
        },
        {
          "output_type": "display_data",
          "data": {
            "text/html": [
              ""
            ],
            "text/plain": [
              "<IPython.core.display.HTML object>"
            ]
          },
          "metadata": {
            "tags": []
          }
        },
        {
          "output_type": "display_data",
          "data": {
            "text/html": [
              ""
            ],
            "text/plain": [
              "<IPython.core.display.HTML object>"
            ]
          },
          "metadata": {
            "tags": []
          }
        },
        {
          "output_type": "display_data",
          "data": {
            "text/html": [
              ""
            ],
            "text/plain": [
              "<IPython.core.display.HTML object>"
            ]
          },
          "metadata": {
            "tags": []
          }
        },
        {
          "output_type": "display_data",
          "data": {
            "text/html": [
              ""
            ],
            "text/plain": [
              "<IPython.core.display.HTML object>"
            ]
          },
          "metadata": {
            "tags": []
          }
        },
        {
          "output_type": "display_data",
          "data": {
            "text/html": [
              ""
            ],
            "text/plain": [
              "<IPython.core.display.HTML object>"
            ]
          },
          "metadata": {
            "tags": []
          }
        },
        {
          "output_type": "display_data",
          "data": {
            "text/html": [
              ""
            ],
            "text/plain": [
              "<IPython.core.display.HTML object>"
            ]
          },
          "metadata": {
            "tags": []
          }
        },
        {
          "output_type": "display_data",
          "data": {
            "text/html": [
              ""
            ],
            "text/plain": [
              "<IPython.core.display.HTML object>"
            ]
          },
          "metadata": {
            "tags": []
          }
        },
        {
          "output_type": "display_data",
          "data": {
            "text/html": [
              ""
            ],
            "text/plain": [
              "<IPython.core.display.HTML object>"
            ]
          },
          "metadata": {
            "tags": []
          }
        },
        {
          "output_type": "display_data",
          "data": {
            "text/html": [
              ""
            ],
            "text/plain": [
              "<IPython.core.display.HTML object>"
            ]
          },
          "metadata": {
            "tags": []
          }
        },
        {
          "output_type": "display_data",
          "data": {
            "text/html": [
              ""
            ],
            "text/plain": [
              "<IPython.core.display.HTML object>"
            ]
          },
          "metadata": {
            "tags": []
          }
        },
        {
          "output_type": "display_data",
          "data": {
            "text/html": [
              ""
            ],
            "text/plain": [
              "<IPython.core.display.HTML object>"
            ]
          },
          "metadata": {
            "tags": []
          }
        },
        {
          "output_type": "display_data",
          "data": {
            "text/html": [
              ""
            ],
            "text/plain": [
              "<IPython.core.display.HTML object>"
            ]
          },
          "metadata": {
            "tags": []
          }
        },
        {
          "output_type": "display_data",
          "data": {
            "text/html": [
              ""
            ],
            "text/plain": [
              "<IPython.core.display.HTML object>"
            ]
          },
          "metadata": {
            "tags": []
          }
        },
        {
          "output_type": "display_data",
          "data": {
            "text/html": [
              ""
            ],
            "text/plain": [
              "<IPython.core.display.HTML object>"
            ]
          },
          "metadata": {
            "tags": []
          }
        },
        {
          "output_type": "display_data",
          "data": {
            "text/html": [
              ""
            ],
            "text/plain": [
              "<IPython.core.display.HTML object>"
            ]
          },
          "metadata": {
            "tags": []
          }
        },
        {
          "output_type": "display_data",
          "data": {
            "text/html": [
              ""
            ],
            "text/plain": [
              "<IPython.core.display.HTML object>"
            ]
          },
          "metadata": {
            "tags": []
          }
        },
        {
          "output_type": "display_data",
          "data": {
            "text/html": [
              ""
            ],
            "text/plain": [
              "<IPython.core.display.HTML object>"
            ]
          },
          "metadata": {
            "tags": []
          }
        },
        {
          "output_type": "display_data",
          "data": {
            "text/html": [
              ""
            ],
            "text/plain": [
              "<IPython.core.display.HTML object>"
            ]
          },
          "metadata": {
            "tags": []
          }
        },
        {
          "output_type": "display_data",
          "data": {
            "text/html": [
              ""
            ],
            "text/plain": [
              "<IPython.core.display.HTML object>"
            ]
          },
          "metadata": {
            "tags": []
          }
        },
        {
          "output_type": "display_data",
          "data": {
            "text/html": [
              ""
            ],
            "text/plain": [
              "<IPython.core.display.HTML object>"
            ]
          },
          "metadata": {
            "tags": []
          }
        },
        {
          "output_type": "display_data",
          "data": {
            "text/html": [
              ""
            ],
            "text/plain": [
              "<IPython.core.display.HTML object>"
            ]
          },
          "metadata": {
            "tags": []
          }
        },
        {
          "output_type": "display_data",
          "data": {
            "text/html": [
              ""
            ],
            "text/plain": [
              "<IPython.core.display.HTML object>"
            ]
          },
          "metadata": {
            "tags": []
          }
        },
        {
          "output_type": "display_data",
          "data": {
            "text/html": [
              ""
            ],
            "text/plain": [
              "<IPython.core.display.HTML object>"
            ]
          },
          "metadata": {
            "tags": []
          }
        },
        {
          "output_type": "display_data",
          "data": {
            "text/html": [
              ""
            ],
            "text/plain": [
              "<IPython.core.display.HTML object>"
            ]
          },
          "metadata": {
            "tags": []
          }
        },
        {
          "output_type": "display_data",
          "data": {
            "text/html": [
              ""
            ],
            "text/plain": [
              "<IPython.core.display.HTML object>"
            ]
          },
          "metadata": {
            "tags": []
          }
        },
        {
          "output_type": "display_data",
          "data": {
            "text/html": [
              ""
            ],
            "text/plain": [
              "<IPython.core.display.HTML object>"
            ]
          },
          "metadata": {
            "tags": []
          }
        },
        {
          "output_type": "display_data",
          "data": {
            "text/html": [
              ""
            ],
            "text/plain": [
              "<IPython.core.display.HTML object>"
            ]
          },
          "metadata": {
            "tags": []
          }
        },
        {
          "output_type": "display_data",
          "data": {
            "text/html": [
              ""
            ],
            "text/plain": [
              "<IPython.core.display.HTML object>"
            ]
          },
          "metadata": {
            "tags": []
          }
        },
        {
          "output_type": "display_data",
          "data": {
            "text/html": [
              ""
            ],
            "text/plain": [
              "<IPython.core.display.HTML object>"
            ]
          },
          "metadata": {
            "tags": []
          }
        },
        {
          "output_type": "display_data",
          "data": {
            "text/html": [
              ""
            ],
            "text/plain": [
              "<IPython.core.display.HTML object>"
            ]
          },
          "metadata": {
            "tags": []
          }
        },
        {
          "output_type": "display_data",
          "data": {
            "text/html": [
              ""
            ],
            "text/plain": [
              "<IPython.core.display.HTML object>"
            ]
          },
          "metadata": {
            "tags": []
          }
        },
        {
          "output_type": "display_data",
          "data": {
            "text/html": [
              ""
            ],
            "text/plain": [
              "<IPython.core.display.HTML object>"
            ]
          },
          "metadata": {
            "tags": []
          }
        },
        {
          "output_type": "display_data",
          "data": {
            "text/html": [
              ""
            ],
            "text/plain": [
              "<IPython.core.display.HTML object>"
            ]
          },
          "metadata": {
            "tags": []
          }
        },
        {
          "output_type": "display_data",
          "data": {
            "text/html": [
              ""
            ],
            "text/plain": [
              "<IPython.core.display.HTML object>"
            ]
          },
          "metadata": {
            "tags": []
          }
        },
        {
          "output_type": "display_data",
          "data": {
            "text/html": [
              ""
            ],
            "text/plain": [
              "<IPython.core.display.HTML object>"
            ]
          },
          "metadata": {
            "tags": []
          }
        },
        {
          "output_type": "display_data",
          "data": {
            "text/html": [
              ""
            ],
            "text/plain": [
              "<IPython.core.display.HTML object>"
            ]
          },
          "metadata": {
            "tags": []
          }
        },
        {
          "output_type": "display_data",
          "data": {
            "text/html": [
              ""
            ],
            "text/plain": [
              "<IPython.core.display.HTML object>"
            ]
          },
          "metadata": {
            "tags": []
          }
        },
        {
          "output_type": "display_data",
          "data": {
            "text/html": [
              ""
            ],
            "text/plain": [
              "<IPython.core.display.HTML object>"
            ]
          },
          "metadata": {
            "tags": []
          }
        },
        {
          "output_type": "display_data",
          "data": {
            "text/html": [
              ""
            ],
            "text/plain": [
              "<IPython.core.display.HTML object>"
            ]
          },
          "metadata": {
            "tags": []
          }
        },
        {
          "output_type": "display_data",
          "data": {
            "text/html": [
              ""
            ],
            "text/plain": [
              "<IPython.core.display.HTML object>"
            ]
          },
          "metadata": {
            "tags": []
          }
        },
        {
          "output_type": "display_data",
          "data": {
            "text/html": [
              ""
            ],
            "text/plain": [
              "<IPython.core.display.HTML object>"
            ]
          },
          "metadata": {
            "tags": []
          }
        },
        {
          "output_type": "display_data",
          "data": {
            "text/html": [
              ""
            ],
            "text/plain": [
              "<IPython.core.display.HTML object>"
            ]
          },
          "metadata": {
            "tags": []
          }
        },
        {
          "output_type": "display_data",
          "data": {
            "text/html": [
              ""
            ],
            "text/plain": [
              "<IPython.core.display.HTML object>"
            ]
          },
          "metadata": {
            "tags": []
          }
        },
        {
          "output_type": "display_data",
          "data": {
            "text/html": [
              ""
            ],
            "text/plain": [
              "<IPython.core.display.HTML object>"
            ]
          },
          "metadata": {
            "tags": []
          }
        },
        {
          "output_type": "display_data",
          "data": {
            "text/html": [
              ""
            ],
            "text/plain": [
              "<IPython.core.display.HTML object>"
            ]
          },
          "metadata": {
            "tags": []
          }
        },
        {
          "output_type": "display_data",
          "data": {
            "text/html": [
              ""
            ],
            "text/plain": [
              "<IPython.core.display.HTML object>"
            ]
          },
          "metadata": {
            "tags": []
          }
        },
        {
          "output_type": "display_data",
          "data": {
            "text/html": [
              ""
            ],
            "text/plain": [
              "<IPython.core.display.HTML object>"
            ]
          },
          "metadata": {
            "tags": []
          }
        },
        {
          "output_type": "display_data",
          "data": {
            "text/html": [
              ""
            ],
            "text/plain": [
              "<IPython.core.display.HTML object>"
            ]
          },
          "metadata": {
            "tags": []
          }
        },
        {
          "output_type": "display_data",
          "data": {
            "text/html": [
              ""
            ],
            "text/plain": [
              "<IPython.core.display.HTML object>"
            ]
          },
          "metadata": {
            "tags": []
          }
        },
        {
          "output_type": "display_data",
          "data": {
            "text/html": [
              ""
            ],
            "text/plain": [
              "<IPython.core.display.HTML object>"
            ]
          },
          "metadata": {
            "tags": []
          }
        },
        {
          "output_type": "display_data",
          "data": {
            "text/html": [
              ""
            ],
            "text/plain": [
              "<IPython.core.display.HTML object>"
            ]
          },
          "metadata": {
            "tags": []
          }
        },
        {
          "output_type": "stream",
          "text": [
            "100\n",
            "100\n"
          ],
          "name": "stdout"
        }
      ]
    },
    {
      "cell_type": "code",
      "metadata": {
        "colab": {
          "background_save": true
        },
        "id": "fznDaepI1VHU"
      },
      "source": [
        "bar=pd.DataFrame(barclass['barred'],columns=['plateifu','prob'])\n",
        "nobar=pd.DataFrame(barclass['unbarred'],columns=['plateifu','prob'])"
      ],
      "execution_count": null,
      "outputs": []
    },
    {
      "cell_type": "code",
      "metadata": {
        "colab": {
          "background_save": true
        },
        "id": "7Na6U4RBD-Wh"
      },
      "source": [
        "bar.to_csv(path/'manga_bar.csv')\n",
        "nobar.to_csv(path/'manga_unbarred.csv')"
      ],
      "execution_count": null,
      "outputs": []
    },
    {
      "cell_type": "code",
      "metadata": {
        "colab": {
          "base_uri": "https://localhost:8080/"
        },
        "id": "olmT2SgsEAd8",
        "outputId": "e70b7f2e-a1f3-4158-f1ac-5c1ce3b9bd40"
      },
      "source": [
        "print(\"Number of barred galaxies :\",bar.count()[0])\n",
        "print(\"Number of unbarred galaxies :\",nobar.count()[0])\n",
        "print(\"Total :\",bar.count()[0]+nobar.count()[0])"
      ],
      "execution_count": null,
      "outputs": [
        {
          "output_type": "stream",
          "text": [
            "Number of barred galaxies : 1784\n",
            "Number of unbarred galaxies : 3006\n",
            "Total : 4790\n"
          ],
          "name": "stdout"
        }
      ]
    }
  ]
}