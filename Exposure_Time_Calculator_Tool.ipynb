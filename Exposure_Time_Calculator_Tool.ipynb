{
 "cells": [
  {
   "cell_type": "code",
   "execution_count": 1,
   "metadata": {
    "id": "FuIcrEMwRAi7"
   },
   "outputs": [],
   "source": [
    "import numpy as np\n",
    "import pandas as pd\n",
    "import matplotlib\n",
    "import matplotlib.pyplot as plt\n",
    "from astropy.modeling import fitting, models\n",
    "from scipy.integrate import quadrature,trapz\n",
    "import seaborn as sb\n",
    "import os\n",
    "from io import BytesIO as bytesio\n",
    "from ipywidgets import widgets\n",
    "import ipywidgets as ipw\n",
    "\n",
    "sb.set_style('darkgrid')\n",
    "matplotlib.rcParams['font.size']=12\n",
    "matplotlib.rcParams['figure.figsize']=(10,10)"
   ]
  },
  {
   "cell_type": "markdown",
   "metadata": {
    "id": "shwu5mC3nR_A"
   },
   "source": [
    "# **Exposure Time Calculator**"
   ]
  },
  {
   "cell_type": "code",
   "execution_count": 2,
   "metadata": {},
   "outputs": [],
   "source": [
    "def coeff_calc(x0,xn,x=None,y=None,mode = None):\n",
    "    if mode == 'Gaussian':\n",
    "        model = models.Gaussian1D(mean = (x0+xn)*0.5, stddev = xn-x0)\n",
    "        int_y,err = quadrature(model,x0,xn)\n",
    "        return int_y/(xn-x0)\n",
    "    else :\n",
    "        return trapz(y,x)/(xn-x0)"
   ]
  },
  {
   "cell_type": "code",
   "execution_count": 3,
   "metadata": {},
   "outputs": [],
   "source": [
    "def exposure_time(det_params,M,SNR):\n",
    "    wavelength     = det_params['wavelength']\n",
    "    bandwidth      = det_params['bandwidth']\n",
    "    effective_area = det_params['effective_area']\n",
    "    M_sky          = det_params['sky_brightness']\n",
    "    plate_scale    = det_params['plate_scale']\n",
    "    aperture       = det_params['aperture']\n",
    "    dark_current   = det_params['dark_current']\n",
    "    read_noise     = det_params['read_noise']\n",
    "\n",
    "    F_0_p   = 1.51e3*(bandwidth/wavelength)*3631*effective_area\n",
    "    F_m_p   = F_0_p*pow(10,-0.4*M)\n",
    "    M_sky_p = M_sky - 2.5*np.log10(plate_scale**2)\n",
    "    F_sky_p = F_0_p*pow(10,-0.4*M_sky_p)\n",
    "\n",
    "    n_pix   = np.pi*((0.5*aperture)/plate_scale)**2\n",
    "\n",
    "    A =  (F_m_p/SNR)**2\n",
    "    B = -(F_m_p + F_sky_p*n_pix + dark_current*n_pix)\n",
    "    C = -n_pix*(read_noise)**2\n",
    "\n",
    "    t1 = (-B + np.sqrt(B**2 - 4*A*C))/(2*A)\n",
    "    t2 = (-B - np.sqrt(B**2 - 4*A*C))/(2*A)\n",
    "    t = np.where(t1>0,t1/60,t2/60)\n",
    "\n",
    "    return t"
   ]
  },
  {
   "cell_type": "code",
   "execution_count": 4,
   "metadata": {},
   "outputs": [],
   "source": [
    "def SNR_t(det_params,M,SNR):\n",
    "    wavelength     = det_params['wavelength']\n",
    "    bandwidth      = det_params['bandwidth']\n",
    "    effective_area = det_params['effective_area']\n",
    "    M_sky          = det_params['sky_brightness']\n",
    "    plate_scale    = det_params['plate_scale']\n",
    "    aperture       = det_params['aperture']\n",
    "    dark_current   = det_params['dark_current']\n",
    "    read_noise     = det_params['read_noise']\n",
    "\n",
    "    F_0_p   = 1.51e3*(bandwidth/wavelength)*3631*effective_area\n",
    "    F_m_p   = F_0_p*pow(10,-0.4*M)\n",
    "    M_sky_p = M_sky - 2.5*np.log10(plate_scale**2)\n",
    "    F_sky_p = F_0_p*pow(10,-0.4*M_sky_p)\n",
    "\n",
    "    n_pix   = np.pi*((0.5*aperture)/plate_scale)**2\n",
    "\n",
    "    B = (F_m_p + F_sky_p*n_pix + dark_current*n_pix)\n",
    "    C = n_pix*(read_noise)**2\n",
    "    t_out =  []\n",
    "    t     = 1e-2\n",
    "    dt    = 1e-1\n",
    "    \n",
    "    SNR_out = []\n",
    "    SNR_t   = 0\n",
    "    while True:\n",
    "        SNR_t =  (F_m_p*t)/(np.sqrt(B*t +C))\n",
    "        if SNR_t>SNR or len(t_out)>1000:\n",
    "            break\n",
    "        t_out.append(t)\n",
    "        SNR_out.append(SNR_t)\n",
    "        t +=dt  \n",
    "        \n",
    "    return t_out,SNR_out"
   ]
  },
  {
   "cell_type": "code",
   "execution_count": 5,
   "metadata": {},
   "outputs": [],
   "source": [
    "df = pd.read_csv('data/detector_parameters.csv')"
   ]
  },
  {
   "cell_type": "code",
   "execution_count": 6,
   "metadata": {},
   "outputs": [],
   "source": [
    "def pixel_scale(src):\n",
    "    choices['telescope'] = src\n",
    "    return str(df[df['telescope']==src]['plate_scale'].values[0])"
   ]
  },
  {
   "cell_type": "code",
   "execution_count": 7,
   "metadata": {},
   "outputs": [],
   "source": [
    "def filters(src):\n",
    "    eff_l.value = r\"Effective area $(cm^2)$ (From Database)\"\n",
    "    return df[df['telescope']==src]['filter'].values"
   ]
  },
  {
   "cell_type": "code",
   "execution_count": 8,
   "metadata": {},
   "outputs": [],
   "source": [
    "def bandwidth(src):\n",
    "    choices['filter'] = src\n",
    "    return str(df[(df['telescope']==choices['telescope']) & (df['filter']==src)]['bandwidth'].values[0])"
   ]
  },
  {
   "cell_type": "code",
   "execution_count": 9,
   "metadata": {},
   "outputs": [],
   "source": [
    "def eff_lambda(src):\n",
    "    eff_l.value = r\"Effective area $(cm^2)$ (From Database)\"\n",
    "    return str(df[(df['telescope']==choices['telescope']) & (df['filter']==src)]['wavelength'].values[0])"
   ]
  },
  {
   "cell_type": "code",
   "execution_count": 10,
   "metadata": {},
   "outputs": [],
   "source": [
    "def eff_area(src):\n",
    "    return str(df[(df['telescope']==choices['telescope']) & (df['filter']==src)]['effective_area'].values[0])"
   ]
  },
  {
   "cell_type": "code",
   "execution_count": 11,
   "metadata": {},
   "outputs": [],
   "source": [
    "def aperture(src):\n",
    "    return str(df[(df['telescope']==choices['telescope']) & (df['filter']==src)]['aperture'].values[0])"
   ]
  },
  {
   "cell_type": "code",
   "execution_count": 12,
   "metadata": {},
   "outputs": [],
   "source": [
    "def rn(src):\n",
    "    return str(df[(df['telescope']==choices['telescope']) & (df['filter']==src)]['read_noise'].values[0])"
   ]
  },
  {
   "cell_type": "code",
   "execution_count": 13,
   "metadata": {},
   "outputs": [],
   "source": [
    "def dc(src):\n",
    "    return str(df[(df['telescope']==choices['telescope']) & (df['filter']==src)]['dark_current'].values[0])"
   ]
  },
  {
   "cell_type": "code",
   "execution_count": 14,
   "metadata": {},
   "outputs": [],
   "source": [
    "def sky_bri(src):\n",
    "    return str(df[(df['telescope']==choices['telescope']) & (df['filter']==src)]['sky_brightness'].values[0])"
   ]
  },
  {
   "cell_type": "code",
   "execution_count": 15,
   "metadata": {},
   "outputs": [],
   "source": [
    "import base64\n",
    "import pandas as pd\n",
    "from IPython.display import HTML\n",
    "\n",
    "def create_download_link( df, title = \"Download CSV file\", filename = \"data.csv\"):\n",
    "    csv = df.to_csv()\n",
    "    b64 = base64.b64encode(csv.encode())\n",
    "    payload = b64.decode()\n",
    "    html_buttons = '''<html>\n",
    "        <head>\n",
    "        <meta name=\"viewport\" content=\"width=device-width, initial-scale=1\">\n",
    "        </head>\n",
    "        <body>\n",
    "        <a download=\"{filename}\" href=\"data:text/csv;base64,{payload}\" download>\n",
    "        <button class=\"p-Widget jupyter-widgets jupyter-button widget-button mod-warning\">Download as CSV</button>\n",
    "        </a>\n",
    "        </body>\n",
    "        </html>\n",
    "        '''\n",
    "    html_button = html_buttons.format(payload=payload,filename=filename)\n",
    "    return display(HTML(html_button))\n",
    "    "
   ]
  },
  {
   "cell_type": "code",
   "execution_count": 20,
   "metadata": {},
   "outputs": [
    {
     "data": {
      "text/html": [
       "<style>\n",
       ".box_style1{\n",
       "    width:auto;\n",
       "    border : 2px solid black;\n",
       "    height: auto;\n",
       "    background-color:#FF5233 ;\n",
       "}\n",
       "</style>\n"
      ],
      "text/plain": [
       "<IPython.core.display.HTML object>"
      ]
     },
     "metadata": {},
     "output_type": "display_data"
    }
   ],
   "source": [
    "%%html\n",
    "<style>\n",
    ".box_style1{\n",
    "    width:auto;\n",
    "    border : 2px solid black;\n",
    "    height: auto;\n",
    "    background-color:#FF5233 ;\n",
    "}\n",
    "</style>\n"
   ]
  },
  {
   "cell_type": "code",
   "execution_count": 21,
   "metadata": {},
   "outputs": [
    {
     "data": {
      "text/html": [
       "<style>\n",
       ".box_style2{\n",
       "    width:auto;\n",
       "    border : 2px solid black;\n",
       "    height: auto;\n",
       "    background-color:#FFA833;\n",
       "}\n",
       "</style>\n"
      ],
      "text/plain": [
       "<IPython.core.display.HTML object>"
      ]
     },
     "metadata": {},
     "output_type": "display_data"
    }
   ],
   "source": [
    "%%html\n",
    "<style>\n",
    ".box_style2{\n",
    "    width:auto;\n",
    "    border : 2px solid black;\n",
    "    height: auto;\n",
    "    background-color:#FFA833;\n",
    "}\n",
    "</style>\n"
   ]
  },
  {
   "cell_type": "code",
   "execution_count": 22,
   "metadata": {},
   "outputs": [
    {
     "data": {
      "text/html": [
       "<style>\n",
       ".box_style3{\n",
       "    width:auto;\n",
       "    border : 2px solid black;\n",
       "    height: auto;\n",
       "    background-color:#FF5233 ;\n",
       "}\n",
       "</style>\n"
      ],
      "text/plain": [
       "<IPython.core.display.HTML object>"
      ]
     },
     "metadata": {},
     "output_type": "display_data"
    }
   ],
   "source": [
    "%%html\n",
    "<style>\n",
    ".box_style3{\n",
    "    width:auto;\n",
    "    border : 2px solid black;\n",
    "    height: auto;\n",
    "    background-color:#FF5233 ;\n",
    "}\n",
    "</style>\n"
   ]
  },
  {
   "cell_type": "code",
   "execution_count": 33,
   "metadata": {},
   "outputs": [
    {
     "data": {
      "application/vnd.jupyter.widget-view+json": {
       "model_id": "052994f4b99340fd845ea14fb422d081",
       "version_major": 2,
       "version_minor": 0
      },
      "text/plain": [
       "HBox(children=(VBox(children=(HTML(value='<h2>----------------Telescope-----------------</h2>'), Label(value='…"
      ]
     },
     "metadata": {},
     "output_type": "display_data"
    },
    {
     "data": {
      "application/vnd.jupyter.widget-view+json": {
       "model_id": "c5570b519745458a998f29c91c0a76d4",
       "version_major": 2,
       "version_minor": 0
      },
      "text/plain": [
       "Label(value='Effective area $(cm^2)$ (From Database)')"
      ]
     },
     "metadata": {},
     "output_type": "display_data"
    },
    {
     "data": {
      "application/vnd.jupyter.widget-view+json": {
       "model_id": "aeb5bd305e794ae492e8d883f77ec0cd",
       "version_major": 2,
       "version_minor": 0
      },
      "text/plain": [
       "Text(value='1042.30504')"
      ]
     },
     "metadata": {},
     "output_type": "display_data"
    },
    {
     "data": {
      "application/vnd.jupyter.widget-view+json": {
       "model_id": "d9d966ee274f443391ff632da01c3a86",
       "version_major": 2,
       "version_minor": 0
      },
      "text/plain": [
       "Button(description='Recalculate', style=ButtonStyle())"
      ]
     },
     "metadata": {},
     "output_type": "display_data"
    },
    {
     "data": {
      "application/vnd.jupyter.widget-view+json": {
       "model_id": "83cf16764a47443db5b1ac44fb198d45",
       "version_major": 2,
       "version_minor": 0
      },
      "text/plain": [
       "HTML(value='<h1>Source</h1>')"
      ]
     },
     "metadata": {},
     "output_type": "display_data"
    },
    {
     "data": {
      "application/vnd.jupyter.widget-view+json": {
       "model_id": "499e68e8f62d494ea7514468495f9880",
       "version_major": 2,
       "version_minor": 0
      },
      "text/plain": [
       "Label(value='Select calculator mode')"
      ]
     },
     "metadata": {},
     "output_type": "display_data"
    },
    {
     "data": {
      "application/vnd.jupyter.widget-view+json": {
       "model_id": "8bd62e7ee71a4fd98befed70b4ef2628",
       "version_major": 2,
       "version_minor": 0
      },
      "text/plain": [
       "Dropdown(options=('Exposure time', 'SNR'), value='Exposure time')"
      ]
     },
     "metadata": {},
     "output_type": "display_data"
    },
    {
     "data": {
      "application/vnd.jupyter.widget-view+json": {
       "model_id": "9088d20ae3414182bc81b5a03ea01895",
       "version_major": 2,
       "version_minor": 0
      },
      "text/plain": [
       "Label(value='Enter AB magnitude of the source')"
      ]
     },
     "metadata": {},
     "output_type": "display_data"
    },
    {
     "data": {
      "application/vnd.jupyter.widget-view+json": {
       "model_id": "1f60872354b04ccda918238cefa429c0",
       "version_major": 2,
       "version_minor": 0
      },
      "text/plain": [
       "Text(value='20')"
      ]
     },
     "metadata": {},
     "output_type": "display_data"
    },
    {
     "data": {
      "application/vnd.jupyter.widget-view+json": {
       "model_id": "95ffae8d0b5e403e8ecffef3514ada26",
       "version_major": 2,
       "version_minor": 0
      },
      "text/plain": [
       "Label(value='Enter required SNR')"
      ]
     },
     "metadata": {},
     "output_type": "display_data"
    },
    {
     "data": {
      "application/vnd.jupyter.widget-view+json": {
       "model_id": "4b4fcd95022a4a77a587619176edb219",
       "version_major": 2,
       "version_minor": 0
      },
      "text/plain": [
       "Text(value='5')"
      ]
     },
     "metadata": {},
     "output_type": "display_data"
    },
    {
     "data": {
      "application/vnd.jupyter.widget-view+json": {
       "model_id": "398f3f96eecd4601af605a7c62fc1a8e",
       "version_major": 2,
       "version_minor": 0
      },
      "text/plain": [
       "Button(description='Submit', style=ButtonStyle())"
      ]
     },
     "metadata": {},
     "output_type": "display_data"
    },
    {
     "data": {
      "application/vnd.jupyter.widget-view+json": {
       "model_id": "5d4e6d3efc204070a76057d1d637f811",
       "version_major": 2,
       "version_minor": 0
      },
      "text/plain": [
       "Output()"
      ]
     },
     "metadata": {},
     "output_type": "display_data"
    }
   ],
   "source": [
    "global choices\n",
    "choices = {}\n",
    "choices['coeff'] = None\n",
    "\n",
    "eff_l = widgets.Label(r\"Effective area $(cm^2)$ (From Database)\")\n",
    "eff_t = widgets.Text(\"0.9\")\n",
    "\n",
    "#------------------Telescope-------------------\n",
    "\n",
    "c1 = []\n",
    "c1.append(widgets.HTML(\"<h2>----------------Telescope-----------------</h2>\"))\n",
    "c1.append(widgets.Label(\"Select Telescope\"))\n",
    "\n",
    "c1.append(widgets.Dropdown(\n",
    "    options=df['telescope'].unique(),\n",
    "    value='INSIST'))\n",
    "\n",
    "c1.append(widgets.HTML('<h>Diameter of primary (cm)</h>'))\n",
    "c1.append(widgets.Text(\"100\"))\n",
    "\n",
    "c1.append(widgets.HTML('<h>Plate Scale (\\\"/pixels)</h>'))\n",
    "c1.append(widgets.Text())\n",
    "\n",
    "c1.append(widgets.HTML('<h>No of reflecting surfaces</h>'))\n",
    "c1.append(widgets.Text(\"5\"))\n",
    "\n",
    "c1.append(widgets.HTML('<h>Coating coefficient</h>'))\n",
    "c1.append(widgets.Text(\"0.8\"))\n",
    "\n",
    "c1.append(widgets.HTML(\"<h fontsize=10>Custom coating coefficient</h>\"))\n",
    "c1.append(widgets.FileUpload(multiple=True))\n",
    "\n",
    "ipw.dlink((c1[2],'value'), (c1[6],'value'), transform = pixel_scale)\n",
    "\n",
    "v1 = widgets.VBox(c1,layout=ipw.Layout(justify_content= 'flex-end'))\n",
    "\n",
    "v1.add_class(\"box_style1\")\n",
    "#------------------Filter-------------------------\n",
    "\n",
    "c2 = []\n",
    "\n",
    "c2.append(widgets.HTML(\"<h2>---------------------Filter--------------------<h2>\"))\n",
    "c2.append(widgets.Label(\"Select Filter :\"))\n",
    "\n",
    "c2.append(widgets.Dropdown(\n",
    "    options=df[df['telescope']==c1[2].value]['filter'].unique(),\n",
    "    value='UV'))\n",
    "\n",
    "ipw.dlink((c1[2],'value'), (c2[2],'options'), transform = filters)\n",
    "\n",
    "c2.append(widgets.Label(r\"$\\Delta\\lambda$ (Å)\"))\n",
    "c2.append(widgets.Text())\n",
    "\n",
    "c2.append(widgets.Label(r\"$\\lambda_{eff}$ (Å)\"))\n",
    "c2.append(widgets.Text())\n",
    "\n",
    "c2.append(widgets.Label(\"Transmission Coefficient\"))\n",
    "c2.append(widgets.Text(\"0.9\"))\n",
    "\n",
    "c2.append(widgets.Label(\"Sky Brightness\"))\n",
    "c2.append(widgets.Text())\n",
    "\n",
    "\n",
    "c2.append(widgets.HTML(\"<h fontsize=10>Custom filter Response functions</h>\"))\n",
    "c2.append(widgets.FileUpload(multiple=True))\n",
    "\n",
    "ipw.dlink((c2[2],'value'), (c2[4],'value'), transform = bandwidth)\n",
    "ipw.dlink((c2[2],'value'), (c2[6],'value'), transform = eff_lambda)\n",
    "ipw.dlink((c2[2],'value'), (c2[10],'value'), transform = sky_bri)\n",
    "ipw.dlink((c2[2],'value'), (eff_t,'value'), transform = eff_area)\n",
    "\n",
    "v2 = widgets.VBox(c2,layout=ipw.Layout(justify_content= 'flex-end'))\n",
    "v2.add_class(\"box_style2\")\n",
    "#--------------------Detector----------------------------\n",
    "\n",
    "c3 = []\n",
    "\n",
    "c3.append(widgets.HTML(\"<h2>----------------Detector----------------</h2>\"))\n",
    "c3.append(widgets.Label(\"Photometric aperture (arcsec)\"))\n",
    "c3.append(widgets.Text())\n",
    "\n",
    "ipw.dlink((c2[2],'value'), (c3[2],'value'), transform = aperture)\n",
    "\n",
    "c3.append(widgets.Label(r\"Quantum efficiency\"))\n",
    "c3.append(widgets.Text(\"0.5\"))\n",
    "\n",
    "c3.append(widgets.Label(\"Read Noise\"))\n",
    "c3.append(widgets.Text())\n",
    "\n",
    "c3.append(widgets.Label(\"Dark Current\"))\n",
    "c3.append(widgets.Text())\n",
    "\n",
    "c3.append(widgets.HTML(\"<h fontsize=10>Custom Quantum Efficiency profile</h>\"))\n",
    "c3.append(widgets.FileUpload(multiple=True))\n",
    "\n",
    "ipw.dlink((c2[2],'value'), (c3[6],'value'), transform = rn)\n",
    "ipw.dlink((c2[2],'value'), (c3[8],'value'), transform = dc)\n",
    "\n",
    "v3 = widgets.VBox(c3)\n",
    "\n",
    "v3.add_class(\"box_style3\")\n",
    "\n",
    "h = widgets.HBox([v1, v2,v3])\n",
    "\n",
    "\n",
    "display(h)\n",
    "display(eff_l,eff_t)\n",
    "\n",
    "eff_b = widgets.Button(description=\"Recalculate\")\n",
    "\n",
    "display(eff_b)\n",
    "\n",
    "h0 = widgets.HTML(\"<h1>Source</h1>\")\n",
    "display(h0)\n",
    "\n",
    "l1 = widgets.Label(\"Select calculator mode\")\n",
    "display(l1)\n",
    "\n",
    "mode = widgets.Dropdown(\n",
    "    options=['Exposure time','SNR'],\n",
    "    value='Exposure time'\n",
    ")\n",
    "display(mode)\n",
    "\n",
    "l2 = widgets.Label(\"Enter AB magnitude of the source\")\n",
    "display(l2)\n",
    "Mag = widgets.Text(\"20\")\n",
    "display(Mag)\n",
    "\n",
    "l2 = widgets.Label(\"Enter required SNR\")\n",
    "display(l2)\n",
    "\n",
    "SNR = widgets.Text(\"5\")\n",
    "display(SNR)\n",
    "\n",
    "btn = widgets.Button(description=\"Submit\")\n",
    "\n",
    "display(btn)\n",
    "\n",
    "output = widgets.Output()\n",
    "\n",
    "@output.capture(clear_output=True,wait=True)\n",
    "\n",
    "def recalc(b):\n",
    "    # Telescope coefficients\n",
    "    if len(c1[-1].value)> 0 :\n",
    "        coeff_t = []\n",
    "        for file in c1[-1].value:\n",
    "            df_coff = pd.read_csv(bytesio(c1[-1].value[file]['content']))\n",
    "            coeff_t.append(coeff_calc(df_coeff['wav'].min(),df_coeff['wav'].max(),x=df_coeff['wav'].values,y=df_coeff['response'].values))\n",
    "        coeff_t = np.array(coeff_t).prod()\n",
    "        no_refl_surf = float(c[8].value)\n",
    "\n",
    "        coeff_t = pow(coeff_t,no_refl_surf)\n",
    "\n",
    "    elif c1[10].value.replace('.','',1).isnumeric()==True and float(c1[10].value)>0 and c1[8].value.replace('.','',1).isnumeric()==True:\n",
    "        coeff_t = float(c1[10].value)\n",
    "        no_refl_surf = float(c1[8].value)\n",
    "        coeff_t = pow(coeff_t,no_refl_surf)\n",
    "        \n",
    "    # Filter Coefficients\n",
    "\n",
    "    if len(c2[-1].value)> 0 :\n",
    "        coeff_t = []\n",
    "        for file in c1[-1].value:\n",
    "            df_coff = pd.read_csv(bytesio(c1[-1].value[file]['content']))\n",
    "            coeff_f.append(coeff_calc(df_coeff['wav'].min(),df_coeff['wav'].max(),x=df_coeff['wav'].values,y=df_coeff['response'].values))\n",
    "\n",
    "        coeff_f = np.array(coeff_f).prod()\n",
    "\n",
    "    elif c2[8].value.replace('.','',1).isnumeric()==True :\n",
    "        if float(c2[8].value)>0:\n",
    "            coeff_f = float(c2[8].value)\n",
    "\n",
    "    # Detecter Coefficients\n",
    "    if len(c3[-1].value)> 0 :\n",
    "        coeff_d = []\n",
    "        for file in c1[-1].value:\n",
    "            df_coff = pd.read_csv(bytesio(c1[-1].value[file]['content']))\n",
    "            coeff_d.append(coeff_calc(df_coeff['wav'].min(),df_coeff['wav'].max(),x=df_coeff['wav'].values,y=df_coeff['response'].values))  \n",
    "        coeff_d = np.array(coeff_d).prod()\n",
    "    elif c3[4].value.replace('.','',1).isnumeric()==True :\n",
    "        if float(c3[4].value)>0:\n",
    "            coeff_d = float(c3[4].value)\n",
    "    \n",
    "    choices['coeff']          = coeff_t*coeff_f*coeff_d \n",
    "    choices['effective_area'] = choices['coeff']*0.25*np.pi*float(c1[4].value)**2 \n",
    "    \n",
    "    eff_l.value = r\"Effective area $(cm^2)$ (Calculated)\"\n",
    "    eff_t.value = f\"{choices['effective_area']}\"\n",
    "    \n",
    "@output.capture(clear_output=True,wait=True)\n",
    "\n",
    "def submit(b):\n",
    "    if len(Mag.value)<1:\n",
    "        Mag.value = '22'\n",
    "        out = widgets.Label(f\"Default AB magnitude set : 22\")\n",
    "        display(out)\n",
    "    if len(SNR.value)<1:\n",
    "        SNR.value = '5'\n",
    "        out = widgets.Label(f\"Default SNR set : 5\")\n",
    "        display(out)\n",
    "\n",
    "    if float(Mag.value)>0  and float(SNR.value)>0 :\n",
    "        \n",
    "        temp = df[ (df['telescope']==choices['telescope']) & (df['filter']==choices['filter'])]\n",
    "\n",
    "        global det_params\n",
    "\n",
    "        det_params = choices\n",
    "        det_params['wavelength']     = float(c2[6].value) if c2[6].value.replace('.','',1).isnumeric()==True else temp['wavelength'].values[0]\n",
    "        det_params['bandwidth']      = float(c2[4].value) if c2[4].value.replace('.','',1).isnumeric()==True else temp['bandwidth'].values[0]\n",
    "\n",
    "        if len(eff_t.value)>0:\n",
    "            det_params['effective_area'] =  float(eff_t.value)\n",
    "\n",
    "        det_params['sky_brightness'] = float(c2[10].value) if c2[10].value.replace('.','',1).isnumeric()==True else temp['sky_brightness'].values[0]\n",
    "        det_params['plate_scale']    = float(c1[6].value) if c1[6].value.replace('.','',1).isnumeric()==True else temp['pixel_scale'].values[0]\n",
    "        det_params['aperture']       = float(c3[2].value) if c3[2].value.replace('.','',1).isnumeric()==True else temp['aperture'].values[0]\n",
    "        det_params['read_noise']     = float(c3[6].value) if c3[6].value.replace('.','',1).isnumeric()==True else temp['read_noise'].values[0]\n",
    "        det_params['dark_current']   = float(c3[8].value) if c3[8].value.replace('.','',1).isnumeric()==True else temp['dark_current'].values[0]\n",
    "\n",
    "        if mode.value==\"Exposure time\" and float(SNR.value)>0:\n",
    "            t = exposure_time(det_params,float(Mag.value),float(SNR.value))\n",
    "            out = widgets.Label(f\"Required exposure time for observing source with magnitude {Mag.value} and SNR {SNR.value} = {np.round(t,5)} minutes\")\n",
    "            display(out)\n",
    "            l1 = widgets.Label(f\"Effective Area used in calclation : {np.round(det_params['effective_area'],3)} cm2\")\n",
    "            display(l1)\n",
    "            \n",
    "        elif mode.value==\"SNR\":\n",
    "            t,SNR_ = SNR_t(det_params,float(Mag.value),float(SNR.value))\n",
    "            plt.figure(figsize = (15,8))\n",
    "            plt.plot(t,SNR_,'.-')\n",
    "            \n",
    "            df_out = pd.DataFrame(zip(t,SNR_), columns=['exp_time','SNR'])\n",
    "                                  \n",
    "            plt.xlabel('time (seconds)')\n",
    "            plt.ylabel('SNR')\n",
    "            plt.title(f'Exposure time Vs SNR for source of ABmag : {Mag.value}')\n",
    "            plt.show()\n",
    "               \n",
    "            create_download_link(df_out)\n",
    "        else:\n",
    "            out = widgets.Label(\"Check Input\")\n",
    "            display(out)\n",
    "            \n",
    "    else:\n",
    "        out = widgets.Label(\"AB magnitude and SNR should be greater than 0\")\n",
    "        display(out)\n",
    "\n",
    "btn.on_click(submit)\n",
    "eff_b.on_click(recalc)\n",
    "\n",
    "output"
   ]
  },
  {
   "cell_type": "code",
   "execution_count": null,
   "metadata": {},
   "outputs": [],
   "source": []
  }
 ],
 "metadata": {
  "colab": {
   "collapsed_sections": [],
   "name": "PSF Simulator.ipynb",
   "provenance": []
  },
  "kernelspec": {
   "display_name": "Python 3 (ipykernel)",
   "language": "python",
   "name": "python3"
  },
  "language_info": {
   "codemirror_mode": {
    "name": "ipython",
    "version": 3
   },
   "file_extension": ".py",
   "mimetype": "text/x-python",
   "name": "python",
   "nbconvert_exporter": "python",
   "pygments_lexer": "ipython3",
   "version": "3.7.12"
  },
  "widgets": {
   "application/vnd.jupyter.widget-state+json": {
    "01c41eeb18fa40709395fff4fc3c2b12": {
     "model_module": "@jupyter-widgets/output",
     "model_module_version": "1.0.0",
     "model_name": "OutputModel",
     "state": {
      "_dom_classes": [],
      "_model_module": "@jupyter-widgets/output",
      "_model_module_version": "1.0.0",
      "_model_name": "OutputModel",
      "_view_count": null,
      "_view_module": "@jupyter-widgets/output",
      "_view_module_version": "1.0.0",
      "_view_name": "OutputView",
      "layout": "IPY_MODEL_09bf565d7c0f4a099c6106320ad83419",
      "msg_id": "",
      "outputs": [
       {
        "data": {
         "application/vnd.jupyter.widget-view+json": {
          "model_id": "6f74eba0faf44c2ea6f2111df70e18b5",
          "version_major": 2,
          "version_minor": 0
         },
         "text/plain": "Label(value='Loading sources in the field...')"
        },
        "metadata": {},
        "output_type": "display_data"
       },
       {
        "data": {
         "application/vnd.jupyter.widget-view+json": {
          "model_id": "994881ec5a2c425ea216a6b096f52ec1",
          "version_major": 2,
          "version_minor": 0
         },
         "text/plain": "Label(value='Default Pixel Scale : 0.1 set')"
        },
        "metadata": {},
        "output_type": "display_data"
       },
       {
        "data": {
         "application/vnd.jupyter.widget-view+json": {
          "model_id": "b5bc83157b5e417f962e3cbc319a41cc",
          "version_major": 2,
          "version_minor": 0
         },
         "text/plain": "Label(value='Invalid Source name or server error')"
        },
        "metadata": {},
        "output_type": "display_data"
       },
       {
        "data": {
         "application/vnd.jupyter.widget-view+json": {
          "model_id": "8f517895b433457eb698fe216e8691c8",
          "version_major": 2,
          "version_minor": 0
         },
         "text/plain": "Label(value='Time taken : 0.032 seconds')"
        },
        "metadata": {},
        "output_type": "display_data"
       },
       {
        "data": {
         "application/vnd.jupyter.widget-view+json": {
          "model_id": "c5b1337dd6cb4d1e9e070ee62038d188",
          "version_major": 2,
          "version_minor": 0
         },
         "text/plain": "HBox(children=(Button(description='Show Image', style=ButtonStyle()), Button(description='Download FITS', styl…"
        },
        "metadata": {},
        "output_type": "display_data"
       }
      ]
     }
    },
    "09bf565d7c0f4a099c6106320ad83419": {
     "model_module": "@jupyter-widgets/base",
     "model_module_version": "1.2.0",
     "model_name": "LayoutModel",
     "state": {
      "_model_module": "@jupyter-widgets/base",
      "_model_module_version": "1.2.0",
      "_model_name": "LayoutModel",
      "_view_count": null,
      "_view_module": "@jupyter-widgets/base",
      "_view_module_version": "1.2.0",
      "_view_name": "LayoutView",
      "align_content": null,
      "align_items": null,
      "align_self": null,
      "border": null,
      "bottom": null,
      "display": null,
      "flex": null,
      "flex_flow": null,
      "grid_area": null,
      "grid_auto_columns": null,
      "grid_auto_flow": null,
      "grid_auto_rows": null,
      "grid_column": null,
      "grid_gap": null,
      "grid_row": null,
      "grid_template_areas": null,
      "grid_template_columns": null,
      "grid_template_rows": null,
      "height": null,
      "justify_content": null,
      "justify_items": null,
      "left": null,
      "margin": null,
      "max_height": null,
      "max_width": null,
      "min_height": null,
      "min_width": null,
      "object_fit": null,
      "object_position": null,
      "order": null,
      "overflow": null,
      "overflow_x": null,
      "overflow_y": null,
      "padding": null,
      "right": null,
      "top": null,
      "visibility": null,
      "width": null
     }
    },
    "1a9d76d88e2345678966836250defb25": {
     "model_module": "@jupyter-widgets/controls",
     "model_module_version": "1.5.0",
     "model_name": "TextModel",
     "state": {
      "_dom_classes": [],
      "_model_module": "@jupyter-widgets/controls",
      "_model_module_version": "1.5.0",
      "_model_name": "TextModel",
      "_view_count": null,
      "_view_module": "@jupyter-widgets/controls",
      "_view_module_version": "1.5.0",
      "_view_name": "TextView",
      "continuous_update": true,
      "description": "",
      "description_tooltip": null,
      "disabled": false,
      "layout": "IPY_MODEL_5fabfbd613fb4e3484b56b2e0c993642",
      "placeholder": "​",
      "style": "IPY_MODEL_f6e66ccddf7c41c7963c92091a61f41a",
      "value": "5.3"
     }
    },
    "1b12462f3d5c47c68493c8c409003702": {
     "model_module": "@jupyter-widgets/base",
     "model_module_version": "1.2.0",
     "model_name": "LayoutModel",
     "state": {
      "_model_module": "@jupyter-widgets/base",
      "_model_module_version": "1.2.0",
      "_model_name": "LayoutModel",
      "_view_count": null,
      "_view_module": "@jupyter-widgets/base",
      "_view_module_version": "1.2.0",
      "_view_name": "LayoutView",
      "align_content": null,
      "align_items": null,
      "align_self": null,
      "border": null,
      "bottom": null,
      "display": null,
      "flex": null,
      "flex_flow": null,
      "grid_area": null,
      "grid_auto_columns": null,
      "grid_auto_flow": null,
      "grid_auto_rows": null,
      "grid_column": null,
      "grid_gap": null,
      "grid_row": null,
      "grid_template_areas": null,
      "grid_template_columns": null,
      "grid_template_rows": null,
      "height": null,
      "justify_content": null,
      "justify_items": null,
      "left": null,
      "margin": null,
      "max_height": null,
      "max_width": null,
      "min_height": null,
      "min_width": null,
      "object_fit": null,
      "object_position": null,
      "order": null,
      "overflow": null,
      "overflow_x": null,
      "overflow_y": null,
      "padding": null,
      "right": null,
      "top": null,
      "visibility": null,
      "width": null
     }
    },
    "40c0ef5203d54ec4b85e6eae678dd7cf": {
     "model_module": "@jupyter-widgets/controls",
     "model_module_version": "1.5.0",
     "model_name": "DescriptionStyleModel",
     "state": {
      "_model_module": "@jupyter-widgets/controls",
      "_model_module_version": "1.5.0",
      "_model_name": "DescriptionStyleModel",
      "_view_count": null,
      "_view_module": "@jupyter-widgets/base",
      "_view_module_version": "1.2.0",
      "_view_name": "StyleView",
      "description_width": ""
     }
    },
    "42263a83d4c84758b950f4e879814564": {
     "model_module": "@jupyter-widgets/controls",
     "model_module_version": "1.5.0",
     "model_name": "ButtonModel",
     "state": {
      "_dom_classes": [],
      "_model_module": "@jupyter-widgets/controls",
      "_model_module_version": "1.5.0",
      "_model_name": "ButtonModel",
      "_view_count": null,
      "_view_module": "@jupyter-widgets/controls",
      "_view_module_version": "1.5.0",
      "_view_name": "ButtonView",
      "button_style": "",
      "description": "Show Image",
      "disabled": false,
      "icon": "",
      "layout": "IPY_MODEL_9f82e1ebe6744f48ae18147ad703bdb0",
      "style": "IPY_MODEL_bbcacd8b1a6942d1bc8d4e7eaadd92c7",
      "tooltip": ""
     }
    },
    "4a4af41271aa4fb091da1cc7f91da42c": {
     "model_module": "@jupyter-widgets/base",
     "model_module_version": "1.2.0",
     "model_name": "LayoutModel",
     "state": {
      "_model_module": "@jupyter-widgets/base",
      "_model_module_version": "1.2.0",
      "_model_name": "LayoutModel",
      "_view_count": null,
      "_view_module": "@jupyter-widgets/base",
      "_view_module_version": "1.2.0",
      "_view_name": "LayoutView",
      "align_content": null,
      "align_items": null,
      "align_self": null,
      "border": null,
      "bottom": null,
      "display": null,
      "flex": null,
      "flex_flow": null,
      "grid_area": null,
      "grid_auto_columns": null,
      "grid_auto_flow": null,
      "grid_auto_rows": null,
      "grid_column": null,
      "grid_gap": null,
      "grid_row": null,
      "grid_template_areas": null,
      "grid_template_columns": null,
      "grid_template_rows": null,
      "height": null,
      "justify_content": null,
      "justify_items": null,
      "left": null,
      "margin": null,
      "max_height": null,
      "max_width": null,
      "min_height": null,
      "min_width": null,
      "object_fit": null,
      "object_position": null,
      "order": null,
      "overflow": null,
      "overflow_x": null,
      "overflow_y": null,
      "padding": null,
      "right": null,
      "top": null,
      "visibility": null,
      "width": null
     }
    },
    "567e3b862c7d496eabbe41655df473c6": {
     "model_module": "@jupyter-widgets/base",
     "model_module_version": "1.2.0",
     "model_name": "LayoutModel",
     "state": {
      "_model_module": "@jupyter-widgets/base",
      "_model_module_version": "1.2.0",
      "_model_name": "LayoutModel",
      "_view_count": null,
      "_view_module": "@jupyter-widgets/base",
      "_view_module_version": "1.2.0",
      "_view_name": "LayoutView",
      "align_content": null,
      "align_items": null,
      "align_self": null,
      "border": null,
      "bottom": null,
      "display": null,
      "flex": null,
      "flex_flow": null,
      "grid_area": null,
      "grid_auto_columns": null,
      "grid_auto_flow": null,
      "grid_auto_rows": null,
      "grid_column": null,
      "grid_gap": null,
      "grid_row": null,
      "grid_template_areas": null,
      "grid_template_columns": null,
      "grid_template_rows": null,
      "height": null,
      "justify_content": null,
      "justify_items": null,
      "left": null,
      "margin": null,
      "max_height": null,
      "max_width": null,
      "min_height": null,
      "min_width": null,
      "object_fit": null,
      "object_position": null,
      "order": null,
      "overflow": null,
      "overflow_x": null,
      "overflow_y": null,
      "padding": null,
      "right": null,
      "top": null,
      "visibility": null,
      "width": null
     }
    },
    "5fabfbd613fb4e3484b56b2e0c993642": {
     "model_module": "@jupyter-widgets/base",
     "model_module_version": "1.2.0",
     "model_name": "LayoutModel",
     "state": {
      "_model_module": "@jupyter-widgets/base",
      "_model_module_version": "1.2.0",
      "_model_name": "LayoutModel",
      "_view_count": null,
      "_view_module": "@jupyter-widgets/base",
      "_view_module_version": "1.2.0",
      "_view_name": "LayoutView",
      "align_content": null,
      "align_items": null,
      "align_self": null,
      "border": null,
      "bottom": null,
      "display": null,
      "flex": null,
      "flex_flow": null,
      "grid_area": null,
      "grid_auto_columns": null,
      "grid_auto_flow": null,
      "grid_auto_rows": null,
      "grid_column": null,
      "grid_gap": null,
      "grid_row": null,
      "grid_template_areas": null,
      "grid_template_columns": null,
      "grid_template_rows": null,
      "height": null,
      "justify_content": null,
      "justify_items": null,
      "left": null,
      "margin": null,
      "max_height": null,
      "max_width": null,
      "min_height": null,
      "min_width": null,
      "object_fit": null,
      "object_position": null,
      "order": null,
      "overflow": null,
      "overflow_x": null,
      "overflow_y": null,
      "padding": null,
      "right": null,
      "top": null,
      "visibility": null,
      "width": null
     }
    },
    "67335c081ef34a769bf414189a07612b": {
     "model_module": "@jupyter-widgets/base",
     "model_module_version": "1.2.0",
     "model_name": "LayoutModel",
     "state": {
      "_model_module": "@jupyter-widgets/base",
      "_model_module_version": "1.2.0",
      "_model_name": "LayoutModel",
      "_view_count": null,
      "_view_module": "@jupyter-widgets/base",
      "_view_module_version": "1.2.0",
      "_view_name": "LayoutView",
      "align_content": null,
      "align_items": null,
      "align_self": null,
      "border": null,
      "bottom": null,
      "display": null,
      "flex": null,
      "flex_flow": null,
      "grid_area": null,
      "grid_auto_columns": null,
      "grid_auto_flow": null,
      "grid_auto_rows": null,
      "grid_column": null,
      "grid_gap": null,
      "grid_row": null,
      "grid_template_areas": null,
      "grid_template_columns": null,
      "grid_template_rows": null,
      "height": null,
      "justify_content": null,
      "justify_items": null,
      "left": null,
      "margin": null,
      "max_height": null,
      "max_width": null,
      "min_height": null,
      "min_width": null,
      "object_fit": null,
      "object_position": null,
      "order": null,
      "overflow": null,
      "overflow_x": null,
      "overflow_y": null,
      "padding": null,
      "right": null,
      "top": null,
      "visibility": null,
      "width": null
     }
    },
    "6bcf528f86be45569ec40890180c8a33": {
     "model_module": "@jupyter-widgets/base",
     "model_module_version": "1.2.0",
     "model_name": "LayoutModel",
     "state": {
      "_model_module": "@jupyter-widgets/base",
      "_model_module_version": "1.2.0",
      "_model_name": "LayoutModel",
      "_view_count": null,
      "_view_module": "@jupyter-widgets/base",
      "_view_module_version": "1.2.0",
      "_view_name": "LayoutView",
      "align_content": null,
      "align_items": null,
      "align_self": null,
      "border": null,
      "bottom": null,
      "display": null,
      "flex": null,
      "flex_flow": null,
      "grid_area": null,
      "grid_auto_columns": null,
      "grid_auto_flow": null,
      "grid_auto_rows": null,
      "grid_column": null,
      "grid_gap": null,
      "grid_row": null,
      "grid_template_areas": null,
      "grid_template_columns": null,
      "grid_template_rows": null,
      "height": null,
      "justify_content": null,
      "justify_items": null,
      "left": null,
      "margin": null,
      "max_height": null,
      "max_width": null,
      "min_height": null,
      "min_width": null,
      "object_fit": null,
      "object_position": null,
      "order": null,
      "overflow": null,
      "overflow_x": null,
      "overflow_y": null,
      "padding": null,
      "right": null,
      "top": null,
      "visibility": null,
      "width": null
     }
    },
    "6f74eba0faf44c2ea6f2111df70e18b5": {
     "model_module": "@jupyter-widgets/controls",
     "model_module_version": "1.5.0",
     "model_name": "LabelModel",
     "state": {
      "_dom_classes": [],
      "_model_module": "@jupyter-widgets/controls",
      "_model_module_version": "1.5.0",
      "_model_name": "LabelModel",
      "_view_count": null,
      "_view_module": "@jupyter-widgets/controls",
      "_view_module_version": "1.5.0",
      "_view_name": "LabelView",
      "description": "",
      "description_tooltip": null,
      "layout": "IPY_MODEL_67335c081ef34a769bf414189a07612b",
      "placeholder": "​",
      "style": "IPY_MODEL_40c0ef5203d54ec4b85e6eae678dd7cf",
      "value": "Loading sources in the field..."
     }
    },
    "711e120dd0cd4dd586b38b5fee63e752": {
     "model_module": "@jupyter-widgets/controls",
     "model_module_version": "1.5.0",
     "model_name": "DescriptionStyleModel",
     "state": {
      "_model_module": "@jupyter-widgets/controls",
      "_model_module_version": "1.5.0",
      "_model_name": "DescriptionStyleModel",
      "_view_count": null,
      "_view_module": "@jupyter-widgets/base",
      "_view_module_version": "1.2.0",
      "_view_name": "StyleView",
      "description_width": ""
     }
    },
    "7fb5e57b09d24ede98cef686be8c5e14": {
     "model_module": "@jupyter-widgets/controls",
     "model_module_version": "1.5.0",
     "model_name": "DescriptionStyleModel",
     "state": {
      "_model_module": "@jupyter-widgets/controls",
      "_model_module_version": "1.5.0",
      "_model_name": "DescriptionStyleModel",
      "_view_count": null,
      "_view_module": "@jupyter-widgets/base",
      "_view_module_version": "1.2.0",
      "_view_name": "StyleView",
      "description_width": ""
     }
    },
    "833394a337fe4894b48f721aa452a298": {
     "model_module": "@jupyter-widgets/base",
     "model_module_version": "1.2.0",
     "model_name": "LayoutModel",
     "state": {
      "_model_module": "@jupyter-widgets/base",
      "_model_module_version": "1.2.0",
      "_model_name": "LayoutModel",
      "_view_count": null,
      "_view_module": "@jupyter-widgets/base",
      "_view_module_version": "1.2.0",
      "_view_name": "LayoutView",
      "align_content": null,
      "align_items": null,
      "align_self": null,
      "border": null,
      "bottom": null,
      "display": null,
      "flex": null,
      "flex_flow": null,
      "grid_area": null,
      "grid_auto_columns": null,
      "grid_auto_flow": null,
      "grid_auto_rows": null,
      "grid_column": null,
      "grid_gap": null,
      "grid_row": null,
      "grid_template_areas": null,
      "grid_template_columns": null,
      "grid_template_rows": null,
      "height": null,
      "justify_content": null,
      "justify_items": null,
      "left": null,
      "margin": null,
      "max_height": null,
      "max_width": null,
      "min_height": null,
      "min_width": null,
      "object_fit": null,
      "object_position": null,
      "order": null,
      "overflow": null,
      "overflow_x": null,
      "overflow_y": null,
      "padding": null,
      "right": null,
      "top": null,
      "visibility": null,
      "width": null
     }
    },
    "83f8b58b65fc4f1a8ed3d8843e0b487d": {
     "model_module": "@jupyter-widgets/base",
     "model_module_version": "1.2.0",
     "model_name": "LayoutModel",
     "state": {
      "_model_module": "@jupyter-widgets/base",
      "_model_module_version": "1.2.0",
      "_model_name": "LayoutModel",
      "_view_count": null,
      "_view_module": "@jupyter-widgets/base",
      "_view_module_version": "1.2.0",
      "_view_name": "LayoutView",
      "align_content": null,
      "align_items": null,
      "align_self": null,
      "border": null,
      "bottom": null,
      "display": null,
      "flex": null,
      "flex_flow": null,
      "grid_area": null,
      "grid_auto_columns": null,
      "grid_auto_flow": null,
      "grid_auto_rows": null,
      "grid_column": null,
      "grid_gap": null,
      "grid_row": null,
      "grid_template_areas": null,
      "grid_template_columns": null,
      "grid_template_rows": null,
      "height": null,
      "justify_content": null,
      "justify_items": null,
      "left": null,
      "margin": null,
      "max_height": null,
      "max_width": null,
      "min_height": null,
      "min_width": null,
      "object_fit": null,
      "object_position": null,
      "order": null,
      "overflow": null,
      "overflow_x": null,
      "overflow_y": null,
      "padding": null,
      "right": null,
      "top": null,
      "visibility": null,
      "width": null
     }
    },
    "85a074637d314dc5a3658c0c6e33607f": {
     "model_module": "@jupyter-widgets/controls",
     "model_module_version": "1.5.0",
     "model_name": "DescriptionStyleModel",
     "state": {
      "_model_module": "@jupyter-widgets/controls",
      "_model_module_version": "1.5.0",
      "_model_name": "DescriptionStyleModel",
      "_view_count": null,
      "_view_module": "@jupyter-widgets/base",
      "_view_module_version": "1.2.0",
      "_view_name": "StyleView",
      "description_width": ""
     }
    },
    "8f517895b433457eb698fe216e8691c8": {
     "model_module": "@jupyter-widgets/controls",
     "model_module_version": "1.5.0",
     "model_name": "LabelModel",
     "state": {
      "_dom_classes": [],
      "_model_module": "@jupyter-widgets/controls",
      "_model_module_version": "1.5.0",
      "_model_name": "LabelModel",
      "_view_count": null,
      "_view_module": "@jupyter-widgets/controls",
      "_view_module_version": "1.5.0",
      "_view_name": "LabelView",
      "description": "",
      "description_tooltip": null,
      "layout": "IPY_MODEL_d0c0956b00fb4c6293da60796c60264b",
      "placeholder": "​",
      "style": "IPY_MODEL_f73b827b32c5471491f871e21c505d8a",
      "value": "Time taken : 0.032 seconds"
     }
    },
    "91f6edbc220047abb6446a119a00b1e2": {
     "model_module": "@jupyter-widgets/controls",
     "model_module_version": "1.5.0",
     "model_name": "DescriptionStyleModel",
     "state": {
      "_model_module": "@jupyter-widgets/controls",
      "_model_module_version": "1.5.0",
      "_model_name": "DescriptionStyleModel",
      "_view_count": null,
      "_view_module": "@jupyter-widgets/base",
      "_view_module_version": "1.2.0",
      "_view_name": "StyleView",
      "description_width": ""
     }
    },
    "9849a0ce1a0e49758d019868b89ed61d": {
     "model_module": "@jupyter-widgets/controls",
     "model_module_version": "1.5.0",
     "model_name": "DescriptionStyleModel",
     "state": {
      "_model_module": "@jupyter-widgets/controls",
      "_model_module_version": "1.5.0",
      "_model_name": "DescriptionStyleModel",
      "_view_count": null,
      "_view_module": "@jupyter-widgets/base",
      "_view_module_version": "1.2.0",
      "_view_name": "StyleView",
      "description_width": ""
     }
    },
    "994881ec5a2c425ea216a6b096f52ec1": {
     "model_module": "@jupyter-widgets/controls",
     "model_module_version": "1.5.0",
     "model_name": "LabelModel",
     "state": {
      "_dom_classes": [],
      "_model_module": "@jupyter-widgets/controls",
      "_model_module_version": "1.5.0",
      "_model_name": "LabelModel",
      "_view_count": null,
      "_view_module": "@jupyter-widgets/controls",
      "_view_module_version": "1.5.0",
      "_view_name": "LabelView",
      "description": "",
      "description_tooltip": null,
      "layout": "IPY_MODEL_83f8b58b65fc4f1a8ed3d8843e0b487d",
      "placeholder": "​",
      "style": "IPY_MODEL_e1e98350d90e4a1c99b5e95940016866",
      "value": "Default Pixel Scale : 0.1 set"
     }
    },
    "9a5778540bbb4f87b2d8d8fec2fb5271": {
     "model_module": "@jupyter-widgets/controls",
     "model_module_version": "1.5.0",
     "model_name": "ButtonStyleModel",
     "state": {
      "_model_module": "@jupyter-widgets/controls",
      "_model_module_version": "1.5.0",
      "_model_name": "ButtonStyleModel",
      "_view_count": null,
      "_view_module": "@jupyter-widgets/base",
      "_view_module_version": "1.2.0",
      "_view_name": "StyleView",
      "button_color": null,
      "font_weight": ""
     }
    },
    "9d5975a5dfb241b39063be18367db120": {
     "model_module": "@jupyter-widgets/base",
     "model_module_version": "1.2.0",
     "model_name": "LayoutModel",
     "state": {
      "_model_module": "@jupyter-widgets/base",
      "_model_module_version": "1.2.0",
      "_model_name": "LayoutModel",
      "_view_count": null,
      "_view_module": "@jupyter-widgets/base",
      "_view_module_version": "1.2.0",
      "_view_name": "LayoutView",
      "align_content": null,
      "align_items": null,
      "align_self": null,
      "border": null,
      "bottom": null,
      "display": null,
      "flex": null,
      "flex_flow": null,
      "grid_area": null,
      "grid_auto_columns": null,
      "grid_auto_flow": null,
      "grid_auto_rows": null,
      "grid_column": null,
      "grid_gap": null,
      "grid_row": null,
      "grid_template_areas": null,
      "grid_template_columns": null,
      "grid_template_rows": null,
      "height": null,
      "justify_content": null,
      "justify_items": null,
      "left": null,
      "margin": null,
      "max_height": null,
      "max_width": null,
      "min_height": null,
      "min_width": null,
      "object_fit": null,
      "object_position": null,
      "order": null,
      "overflow": null,
      "overflow_x": null,
      "overflow_y": null,
      "padding": null,
      "right": null,
      "top": null,
      "visibility": null,
      "width": null
     }
    },
    "9f82e1ebe6744f48ae18147ad703bdb0": {
     "model_module": "@jupyter-widgets/base",
     "model_module_version": "1.2.0",
     "model_name": "LayoutModel",
     "state": {
      "_model_module": "@jupyter-widgets/base",
      "_model_module_version": "1.2.0",
      "_model_name": "LayoutModel",
      "_view_count": null,
      "_view_module": "@jupyter-widgets/base",
      "_view_module_version": "1.2.0",
      "_view_name": "LayoutView",
      "align_content": null,
      "align_items": null,
      "align_self": null,
      "border": null,
      "bottom": null,
      "display": null,
      "flex": null,
      "flex_flow": null,
      "grid_area": null,
      "grid_auto_columns": null,
      "grid_auto_flow": null,
      "grid_auto_rows": null,
      "grid_column": null,
      "grid_gap": null,
      "grid_row": null,
      "grid_template_areas": null,
      "grid_template_columns": null,
      "grid_template_rows": null,
      "height": null,
      "justify_content": null,
      "justify_items": null,
      "left": null,
      "margin": null,
      "max_height": null,
      "max_width": null,
      "min_height": null,
      "min_width": null,
      "object_fit": null,
      "object_position": null,
      "order": null,
      "overflow": null,
      "overflow_x": null,
      "overflow_y": null,
      "padding": null,
      "right": null,
      "top": null,
      "visibility": null,
      "width": null
     }
    },
    "a18afed386d544e1a888a8165cd98218": {
     "model_module": "@jupyter-widgets/controls",
     "model_module_version": "1.5.0",
     "model_name": "TextModel",
     "state": {
      "_dom_classes": [],
      "_model_module": "@jupyter-widgets/controls",
      "_model_module_version": "1.5.0",
      "_model_name": "TextModel",
      "_view_count": null,
      "_view_module": "@jupyter-widgets/controls",
      "_view_module_version": "1.5.0",
      "_view_name": "TextView",
      "continuous_update": true,
      "description": "",
      "description_tooltip": null,
      "disabled": false,
      "layout": "IPY_MODEL_d4220c1c77e24b3da497b6aa05820fc5",
      "placeholder": "​",
      "style": "IPY_MODEL_7fb5e57b09d24ede98cef686be8c5e14",
      "value": ""
     }
    },
    "a5f2e02da20e4a3898781900cde580aa": {
     "model_module": "@jupyter-widgets/controls",
     "model_module_version": "1.5.0",
     "model_name": "DescriptionStyleModel",
     "state": {
      "_model_module": "@jupyter-widgets/controls",
      "_model_module_version": "1.5.0",
      "_model_name": "DescriptionStyleModel",
      "_view_count": null,
      "_view_module": "@jupyter-widgets/base",
      "_view_module_version": "1.2.0",
      "_view_name": "StyleView",
      "description_width": ""
     }
    },
    "a9ada0731ac5462587d2954ba18d7e70": {
     "model_module": "@jupyter-widgets/base",
     "model_module_version": "1.2.0",
     "model_name": "LayoutModel",
     "state": {
      "_model_module": "@jupyter-widgets/base",
      "_model_module_version": "1.2.0",
      "_model_name": "LayoutModel",
      "_view_count": null,
      "_view_module": "@jupyter-widgets/base",
      "_view_module_version": "1.2.0",
      "_view_name": "LayoutView",
      "align_content": null,
      "align_items": null,
      "align_self": null,
      "border": null,
      "bottom": null,
      "display": null,
      "flex": null,
      "flex_flow": null,
      "grid_area": null,
      "grid_auto_columns": null,
      "grid_auto_flow": null,
      "grid_auto_rows": null,
      "grid_column": null,
      "grid_gap": null,
      "grid_row": null,
      "grid_template_areas": null,
      "grid_template_columns": null,
      "grid_template_rows": null,
      "height": null,
      "justify_content": null,
      "justify_items": null,
      "left": null,
      "margin": null,
      "max_height": null,
      "max_width": null,
      "min_height": null,
      "min_width": null,
      "object_fit": null,
      "object_position": null,
      "order": null,
      "overflow": null,
      "overflow_x": null,
      "overflow_y": null,
      "padding": null,
      "right": null,
      "top": null,
      "visibility": null,
      "width": null
     }
    },
    "b004850862494288abefb06f1d56293f": {
     "model_module": "@jupyter-widgets/controls",
     "model_module_version": "1.5.0",
     "model_name": "ButtonModel",
     "state": {
      "_dom_classes": [],
      "_model_module": "@jupyter-widgets/controls",
      "_model_module_version": "1.5.0",
      "_model_name": "ButtonModel",
      "_view_count": null,
      "_view_module": "@jupyter-widgets/controls",
      "_view_module_version": "1.5.0",
      "_view_name": "ButtonView",
      "button_style": "",
      "description": "Download FITS",
      "disabled": false,
      "icon": "",
      "layout": "IPY_MODEL_833394a337fe4894b48f721aa452a298",
      "style": "IPY_MODEL_9a5778540bbb4f87b2d8d8fec2fb5271",
      "tooltip": ""
     }
    },
    "b5bc83157b5e417f962e3cbc319a41cc": {
     "model_module": "@jupyter-widgets/controls",
     "model_module_version": "1.5.0",
     "model_name": "LabelModel",
     "state": {
      "_dom_classes": [],
      "_model_module": "@jupyter-widgets/controls",
      "_model_module_version": "1.5.0",
      "_model_name": "LabelModel",
      "_view_count": null,
      "_view_module": "@jupyter-widgets/controls",
      "_view_module_version": "1.5.0",
      "_view_name": "LabelView",
      "description": "",
      "description_tooltip": null,
      "layout": "IPY_MODEL_4a4af41271aa4fb091da1cc7f91da42c",
      "placeholder": "​",
      "style": "IPY_MODEL_711e120dd0cd4dd586b38b5fee63e752",
      "value": "Invalid Source name or server error"
     }
    },
    "b78b6ba21082426693f657fd0607f704": {
     "model_module": "@jupyter-widgets/controls",
     "model_module_version": "1.5.0",
     "model_name": "TextModel",
     "state": {
      "_dom_classes": [],
      "_model_module": "@jupyter-widgets/controls",
      "_model_module_version": "1.5.0",
      "_model_name": "TextModel",
      "_view_count": null,
      "_view_module": "@jupyter-widgets/controls",
      "_view_module_version": "1.5.0",
      "_view_name": "TextView",
      "continuous_update": true,
      "description": "",
      "description_tooltip": null,
      "disabled": false,
      "layout": "IPY_MODEL_9d5975a5dfb241b39063be18367db120",
      "placeholder": "​",
      "style": "IPY_MODEL_85a074637d314dc5a3658c0c6e33607f",
      "value": "M 67"
     }
    },
    "bbcacd8b1a6942d1bc8d4e7eaadd92c7": {
     "model_module": "@jupyter-widgets/controls",
     "model_module_version": "1.5.0",
     "model_name": "ButtonStyleModel",
     "state": {
      "_model_module": "@jupyter-widgets/controls",
      "_model_module_version": "1.5.0",
      "_model_name": "ButtonStyleModel",
      "_view_count": null,
      "_view_module": "@jupyter-widgets/base",
      "_view_module_version": "1.2.0",
      "_view_name": "StyleView",
      "button_color": null,
      "font_weight": ""
     }
    },
    "c5b1337dd6cb4d1e9e070ee62038d188": {
     "model_module": "@jupyter-widgets/controls",
     "model_module_version": "1.5.0",
     "model_name": "HBoxModel",
     "state": {
      "_dom_classes": [],
      "_model_module": "@jupyter-widgets/controls",
      "_model_module_version": "1.5.0",
      "_model_name": "HBoxModel",
      "_view_count": null,
      "_view_module": "@jupyter-widgets/controls",
      "_view_module_version": "1.5.0",
      "_view_name": "HBoxView",
      "box_style": "",
      "children": [
       "IPY_MODEL_42263a83d4c84758b950f4e879814564",
       "IPY_MODEL_b004850862494288abefb06f1d56293f"
      ],
      "layout": "IPY_MODEL_6bcf528f86be45569ec40890180c8a33"
     }
    },
    "cc9a979132af41d4b5ac73e5462db5b8": {
     "model_module": "@jupyter-widgets/controls",
     "model_module_version": "1.5.0",
     "model_name": "LabelModel",
     "state": {
      "_dom_classes": [],
      "_model_module": "@jupyter-widgets/controls",
      "_model_module_version": "1.5.0",
      "_model_name": "LabelModel",
      "_view_count": null,
      "_view_module": "@jupyter-widgets/controls",
      "_view_module_version": "1.5.0",
      "_view_name": "LabelView",
      "description": "",
      "description_tooltip": null,
      "layout": "IPY_MODEL_1b12462f3d5c47c68493c8c409003702",
      "placeholder": "​",
      "style": "IPY_MODEL_9849a0ce1a0e49758d019868b89ed61d",
      "value": "Enter Pixel scale of detector (arcseconds/pixels)"
     }
    },
    "d0c0956b00fb4c6293da60796c60264b": {
     "model_module": "@jupyter-widgets/base",
     "model_module_version": "1.2.0",
     "model_name": "LayoutModel",
     "state": {
      "_model_module": "@jupyter-widgets/base",
      "_model_module_version": "1.2.0",
      "_model_name": "LayoutModel",
      "_view_count": null,
      "_view_module": "@jupyter-widgets/base",
      "_view_module_version": "1.2.0",
      "_view_name": "LayoutView",
      "align_content": null,
      "align_items": null,
      "align_self": null,
      "border": null,
      "bottom": null,
      "display": null,
      "flex": null,
      "flex_flow": null,
      "grid_area": null,
      "grid_auto_columns": null,
      "grid_auto_flow": null,
      "grid_auto_rows": null,
      "grid_column": null,
      "grid_gap": null,
      "grid_row": null,
      "grid_template_areas": null,
      "grid_template_columns": null,
      "grid_template_rows": null,
      "height": null,
      "justify_content": null,
      "justify_items": null,
      "left": null,
      "margin": null,
      "max_height": null,
      "max_width": null,
      "min_height": null,
      "min_width": null,
      "object_fit": null,
      "object_position": null,
      "order": null,
      "overflow": null,
      "overflow_x": null,
      "overflow_y": null,
      "padding": null,
      "right": null,
      "top": null,
      "visibility": null,
      "width": null
     }
    },
    "d4220c1c77e24b3da497b6aa05820fc5": {
     "model_module": "@jupyter-widgets/base",
     "model_module_version": "1.2.0",
     "model_name": "LayoutModel",
     "state": {
      "_model_module": "@jupyter-widgets/base",
      "_model_module_version": "1.2.0",
      "_model_name": "LayoutModel",
      "_view_count": null,
      "_view_module": "@jupyter-widgets/base",
      "_view_module_version": "1.2.0",
      "_view_name": "LayoutView",
      "align_content": null,
      "align_items": null,
      "align_self": null,
      "border": null,
      "bottom": null,
      "display": null,
      "flex": null,
      "flex_flow": null,
      "grid_area": null,
      "grid_auto_columns": null,
      "grid_auto_flow": null,
      "grid_auto_rows": null,
      "grid_column": null,
      "grid_gap": null,
      "grid_row": null,
      "grid_template_areas": null,
      "grid_template_columns": null,
      "grid_template_rows": null,
      "height": null,
      "justify_content": null,
      "justify_items": null,
      "left": null,
      "margin": null,
      "max_height": null,
      "max_width": null,
      "min_height": null,
      "min_width": null,
      "object_fit": null,
      "object_position": null,
      "order": null,
      "overflow": null,
      "overflow_x": null,
      "overflow_y": null,
      "padding": null,
      "right": null,
      "top": null,
      "visibility": null,
      "width": null
     }
    },
    "d450f161785746e3a8c0929f2269c50b": {
     "model_module": "@jupyter-widgets/controls",
     "model_module_version": "1.5.0",
     "model_name": "LabelModel",
     "state": {
      "_dom_classes": [],
      "_model_module": "@jupyter-widgets/controls",
      "_model_module_version": "1.5.0",
      "_model_name": "LabelModel",
      "_view_count": null,
      "_view_module": "@jupyter-widgets/controls",
      "_view_module_version": "1.5.0",
      "_view_name": "LabelView",
      "description": "",
      "description_tooltip": null,
      "layout": "IPY_MODEL_a9ada0731ac5462587d2954ba18d7e70",
      "placeholder": "​",
      "style": "IPY_MODEL_91f6edbc220047abb6446a119a00b1e2",
      "value": "Enter FWHM of the PSF (arcseconds)"
     }
    },
    "d6aa387d8813458fbedee48ce46d858c": {
     "model_module": "@jupyter-widgets/controls",
     "model_module_version": "1.5.0",
     "model_name": "ButtonStyleModel",
     "state": {
      "_model_module": "@jupyter-widgets/controls",
      "_model_module_version": "1.5.0",
      "_model_name": "ButtonStyleModel",
      "_view_count": null,
      "_view_module": "@jupyter-widgets/base",
      "_view_module_version": "1.2.0",
      "_view_name": "StyleView",
      "button_color": null,
      "font_weight": ""
     }
    },
    "de1ab2d24dd6467ebda3c5a84566d19b": {
     "model_module": "@jupyter-widgets/controls",
     "model_module_version": "1.5.0",
     "model_name": "ButtonModel",
     "state": {
      "_dom_classes": [],
      "_model_module": "@jupyter-widgets/controls",
      "_model_module_version": "1.5.0",
      "_model_name": "ButtonModel",
      "_view_count": null,
      "_view_module": "@jupyter-widgets/controls",
      "_view_module_version": "1.5.0",
      "_view_name": "ButtonView",
      "button_style": "",
      "description": "Submit",
      "disabled": false,
      "icon": "",
      "layout": "IPY_MODEL_f2a485d6b04d42f3a25ddb261c769f12",
      "style": "IPY_MODEL_d6aa387d8813458fbedee48ce46d858c",
      "tooltip": ""
     }
    },
    "e1e98350d90e4a1c99b5e95940016866": {
     "model_module": "@jupyter-widgets/controls",
     "model_module_version": "1.5.0",
     "model_name": "DescriptionStyleModel",
     "state": {
      "_model_module": "@jupyter-widgets/controls",
      "_model_module_version": "1.5.0",
      "_model_name": "DescriptionStyleModel",
      "_view_count": null,
      "_view_module": "@jupyter-widgets/base",
      "_view_module_version": "1.2.0",
      "_view_name": "StyleView",
      "description_width": ""
     }
    },
    "f2a485d6b04d42f3a25ddb261c769f12": {
     "model_module": "@jupyter-widgets/base",
     "model_module_version": "1.2.0",
     "model_name": "LayoutModel",
     "state": {
      "_model_module": "@jupyter-widgets/base",
      "_model_module_version": "1.2.0",
      "_model_name": "LayoutModel",
      "_view_count": null,
      "_view_module": "@jupyter-widgets/base",
      "_view_module_version": "1.2.0",
      "_view_name": "LayoutView",
      "align_content": null,
      "align_items": null,
      "align_self": null,
      "border": null,
      "bottom": null,
      "display": null,
      "flex": null,
      "flex_flow": null,
      "grid_area": null,
      "grid_auto_columns": null,
      "grid_auto_flow": null,
      "grid_auto_rows": null,
      "grid_column": null,
      "grid_gap": null,
      "grid_row": null,
      "grid_template_areas": null,
      "grid_template_columns": null,
      "grid_template_rows": null,
      "height": null,
      "justify_content": null,
      "justify_items": null,
      "left": null,
      "margin": null,
      "max_height": null,
      "max_width": null,
      "min_height": null,
      "min_width": null,
      "object_fit": null,
      "object_position": null,
      "order": null,
      "overflow": null,
      "overflow_x": null,
      "overflow_y": null,
      "padding": null,
      "right": null,
      "top": null,
      "visibility": null,
      "width": null
     }
    },
    "f6e66ccddf7c41c7963c92091a61f41a": {
     "model_module": "@jupyter-widgets/controls",
     "model_module_version": "1.5.0",
     "model_name": "DescriptionStyleModel",
     "state": {
      "_model_module": "@jupyter-widgets/controls",
      "_model_module_version": "1.5.0",
      "_model_name": "DescriptionStyleModel",
      "_view_count": null,
      "_view_module": "@jupyter-widgets/base",
      "_view_module_version": "1.2.0",
      "_view_name": "StyleView",
      "description_width": ""
     }
    },
    "f73b827b32c5471491f871e21c505d8a": {
     "model_module": "@jupyter-widgets/controls",
     "model_module_version": "1.5.0",
     "model_name": "DescriptionStyleModel",
     "state": {
      "_model_module": "@jupyter-widgets/controls",
      "_model_module_version": "1.5.0",
      "_model_name": "DescriptionStyleModel",
      "_view_count": null,
      "_view_module": "@jupyter-widgets/base",
      "_view_module_version": "1.2.0",
      "_view_name": "StyleView",
      "description_width": ""
     }
    },
    "f757ffb4af994c7b996e889eab25f597": {
     "model_module": "@jupyter-widgets/controls",
     "model_module_version": "1.5.0",
     "model_name": "LabelModel",
     "state": {
      "_dom_classes": [],
      "_model_module": "@jupyter-widgets/controls",
      "_model_module_version": "1.5.0",
      "_model_name": "LabelModel",
      "_view_count": null,
      "_view_module": "@jupyter-widgets/controls",
      "_view_module_version": "1.5.0",
      "_view_name": "LabelView",
      "description": "",
      "description_tooltip": null,
      "layout": "IPY_MODEL_567e3b862c7d496eabbe41655df473c6",
      "placeholder": "​",
      "style": "IPY_MODEL_a5f2e02da20e4a3898781900cde580aa",
      "value": "Enter Source name or coordinates(Eg. M 67, 06h 03m 20s 42 18 00)"
     }
    }
   }
  }
 },
 "nbformat": 4,
 "nbformat_minor": 4
}
