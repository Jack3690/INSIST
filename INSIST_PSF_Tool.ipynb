{
  "nbformat": 4,
  "nbformat_minor": 0,
  "metadata": {
    "colab": {
      "name": "INSIST_PSF_Tool.ipynb",
      "provenance": [],
      "collapsed_sections": [
        "JRqCRHqjhB86",
        "Jky8ToHfhEEX",
        "USNEHEc-MpxZ"
      ],
      "authorship_tag": "ABX9TyN3lTZr6Q0UFk1HeaZX+u1b",
      "include_colab_link": true
    },
    "kernelspec": {
      "name": "python3",
      "display_name": "Python 3"
    },
    "language_info": {
      "name": "python"
    },
    "widgets": {
      "application/vnd.jupyter.widget-state+json": {
        "4a704a715eba438c8cac20771c642686": {
          "model_module": "@jupyter-widgets/controls",
          "model_name": "HBoxModel",
          "model_module_version": "1.5.0",
          "state": {
            "_dom_classes": [],
            "_model_module": "@jupyter-widgets/controls",
            "_model_module_version": "1.5.0",
            "_model_name": "HBoxModel",
            "_view_count": null,
            "_view_module": "@jupyter-widgets/controls",
            "_view_module_version": "1.5.0",
            "_view_name": "HBoxView",
            "box_style": "",
            "children": [
              "IPY_MODEL_47818f4fc7de4e35bda5f98ef18fe147",
              "IPY_MODEL_3e4e67d0725f4762a1312866a2bd3207",
              "IPY_MODEL_9b4bcdbb88f3436eb014b3691f624758"
            ],
            "layout": "IPY_MODEL_3bd2a237a85e4e108a17b3343102fe83"
          }
        },
        "47818f4fc7de4e35bda5f98ef18fe147": {
          "model_module": "@jupyter-widgets/controls",
          "model_name": "HTMLModel",
          "model_module_version": "1.5.0",
          "state": {
            "_dom_classes": [],
            "_model_module": "@jupyter-widgets/controls",
            "_model_module_version": "1.5.0",
            "_model_name": "HTMLModel",
            "_view_count": null,
            "_view_module": "@jupyter-widgets/controls",
            "_view_module_version": "1.5.0",
            "_view_name": "HTMLView",
            "description": "",
            "description_tooltip": null,
            "layout": "IPY_MODEL_dda30f22e84745838c565c97be8da3f0",
            "placeholder": "​",
            "style": "IPY_MODEL_ea3d7fa7acef454ab6ede1388a150edd",
            "value": "Cosmix: 100%"
          }
        },
        "3e4e67d0725f4762a1312866a2bd3207": {
          "model_module": "@jupyter-widgets/controls",
          "model_name": "FloatProgressModel",
          "model_module_version": "1.5.0",
          "state": {
            "_dom_classes": [],
            "_model_module": "@jupyter-widgets/controls",
            "_model_module_version": "1.5.0",
            "_model_name": "FloatProgressModel",
            "_view_count": null,
            "_view_module": "@jupyter-widgets/controls",
            "_view_module_version": "1.5.0",
            "_view_name": "ProgressView",
            "bar_style": "success",
            "description": "",
            "description_tooltip": null,
            "layout": "IPY_MODEL_baea7491ccf0443b9cd6cc4675e6f38a",
            "max": 100,
            "min": 0,
            "orientation": "horizontal",
            "style": "IPY_MODEL_609b10d2e8f84dc2a04ec3fe2116026c",
            "value": 100
          }
        },
        "9b4bcdbb88f3436eb014b3691f624758": {
          "model_module": "@jupyter-widgets/controls",
          "model_name": "HTMLModel",
          "model_module_version": "1.5.0",
          "state": {
            "_dom_classes": [],
            "_model_module": "@jupyter-widgets/controls",
            "_model_module_version": "1.5.0",
            "_model_name": "HTMLModel",
            "_view_count": null,
            "_view_module": "@jupyter-widgets/controls",
            "_view_module_version": "1.5.0",
            "_view_name": "HTMLView",
            "description": "",
            "description_tooltip": null,
            "layout": "IPY_MODEL_4ee33e9e2bb34bafb20530d124e2c628",
            "placeholder": "​",
            "style": "IPY_MODEL_3f59d00b7106487da54fb68e3a67218f",
            "value": " 100/100 [00:02&lt;00:00, 40.88 particle/s]"
          }
        },
        "3bd2a237a85e4e108a17b3343102fe83": {
          "model_module": "@jupyter-widgets/base",
          "model_name": "LayoutModel",
          "model_module_version": "1.2.0",
          "state": {
            "_model_module": "@jupyter-widgets/base",
            "_model_module_version": "1.2.0",
            "_model_name": "LayoutModel",
            "_view_count": null,
            "_view_module": "@jupyter-widgets/base",
            "_view_module_version": "1.2.0",
            "_view_name": "LayoutView",
            "align_content": null,
            "align_items": null,
            "align_self": null,
            "border": null,
            "bottom": null,
            "display": null,
            "flex": null,
            "flex_flow": null,
            "grid_area": null,
            "grid_auto_columns": null,
            "grid_auto_flow": null,
            "grid_auto_rows": null,
            "grid_column": null,
            "grid_gap": null,
            "grid_row": null,
            "grid_template_areas": null,
            "grid_template_columns": null,
            "grid_template_rows": null,
            "height": null,
            "justify_content": null,
            "justify_items": null,
            "left": null,
            "margin": null,
            "max_height": null,
            "max_width": null,
            "min_height": null,
            "min_width": null,
            "object_fit": null,
            "object_position": null,
            "order": null,
            "overflow": null,
            "overflow_x": null,
            "overflow_y": null,
            "padding": null,
            "right": null,
            "top": null,
            "visibility": null,
            "width": null
          }
        },
        "dda30f22e84745838c565c97be8da3f0": {
          "model_module": "@jupyter-widgets/base",
          "model_name": "LayoutModel",
          "model_module_version": "1.2.0",
          "state": {
            "_model_module": "@jupyter-widgets/base",
            "_model_module_version": "1.2.0",
            "_model_name": "LayoutModel",
            "_view_count": null,
            "_view_module": "@jupyter-widgets/base",
            "_view_module_version": "1.2.0",
            "_view_name": "LayoutView",
            "align_content": null,
            "align_items": null,
            "align_self": null,
            "border": null,
            "bottom": null,
            "display": null,
            "flex": null,
            "flex_flow": null,
            "grid_area": null,
            "grid_auto_columns": null,
            "grid_auto_flow": null,
            "grid_auto_rows": null,
            "grid_column": null,
            "grid_gap": null,
            "grid_row": null,
            "grid_template_areas": null,
            "grid_template_columns": null,
            "grid_template_rows": null,
            "height": null,
            "justify_content": null,
            "justify_items": null,
            "left": null,
            "margin": null,
            "max_height": null,
            "max_width": null,
            "min_height": null,
            "min_width": null,
            "object_fit": null,
            "object_position": null,
            "order": null,
            "overflow": null,
            "overflow_x": null,
            "overflow_y": null,
            "padding": null,
            "right": null,
            "top": null,
            "visibility": null,
            "width": null
          }
        },
        "ea3d7fa7acef454ab6ede1388a150edd": {
          "model_module": "@jupyter-widgets/controls",
          "model_name": "DescriptionStyleModel",
          "model_module_version": "1.5.0",
          "state": {
            "_model_module": "@jupyter-widgets/controls",
            "_model_module_version": "1.5.0",
            "_model_name": "DescriptionStyleModel",
            "_view_count": null,
            "_view_module": "@jupyter-widgets/base",
            "_view_module_version": "1.2.0",
            "_view_name": "StyleView",
            "description_width": ""
          }
        },
        "baea7491ccf0443b9cd6cc4675e6f38a": {
          "model_module": "@jupyter-widgets/base",
          "model_name": "LayoutModel",
          "model_module_version": "1.2.0",
          "state": {
            "_model_module": "@jupyter-widgets/base",
            "_model_module_version": "1.2.0",
            "_model_name": "LayoutModel",
            "_view_count": null,
            "_view_module": "@jupyter-widgets/base",
            "_view_module_version": "1.2.0",
            "_view_name": "LayoutView",
            "align_content": null,
            "align_items": null,
            "align_self": null,
            "border": null,
            "bottom": null,
            "display": null,
            "flex": null,
            "flex_flow": null,
            "grid_area": null,
            "grid_auto_columns": null,
            "grid_auto_flow": null,
            "grid_auto_rows": null,
            "grid_column": null,
            "grid_gap": null,
            "grid_row": null,
            "grid_template_areas": null,
            "grid_template_columns": null,
            "grid_template_rows": null,
            "height": null,
            "justify_content": null,
            "justify_items": null,
            "left": null,
            "margin": null,
            "max_height": null,
            "max_width": null,
            "min_height": null,
            "min_width": null,
            "object_fit": null,
            "object_position": null,
            "order": null,
            "overflow": null,
            "overflow_x": null,
            "overflow_y": null,
            "padding": null,
            "right": null,
            "top": null,
            "visibility": null,
            "width": null
          }
        },
        "609b10d2e8f84dc2a04ec3fe2116026c": {
          "model_module": "@jupyter-widgets/controls",
          "model_name": "ProgressStyleModel",
          "model_module_version": "1.5.0",
          "state": {
            "_model_module": "@jupyter-widgets/controls",
            "_model_module_version": "1.5.0",
            "_model_name": "ProgressStyleModel",
            "_view_count": null,
            "_view_module": "@jupyter-widgets/base",
            "_view_module_version": "1.2.0",
            "_view_name": "StyleView",
            "bar_color": null,
            "description_width": ""
          }
        },
        "4ee33e9e2bb34bafb20530d124e2c628": {
          "model_module": "@jupyter-widgets/base",
          "model_name": "LayoutModel",
          "model_module_version": "1.2.0",
          "state": {
            "_model_module": "@jupyter-widgets/base",
            "_model_module_version": "1.2.0",
            "_model_name": "LayoutModel",
            "_view_count": null,
            "_view_module": "@jupyter-widgets/base",
            "_view_module_version": "1.2.0",
            "_view_name": "LayoutView",
            "align_content": null,
            "align_items": null,
            "align_self": null,
            "border": null,
            "bottom": null,
            "display": null,
            "flex": null,
            "flex_flow": null,
            "grid_area": null,
            "grid_auto_columns": null,
            "grid_auto_flow": null,
            "grid_auto_rows": null,
            "grid_column": null,
            "grid_gap": null,
            "grid_row": null,
            "grid_template_areas": null,
            "grid_template_columns": null,
            "grid_template_rows": null,
            "height": null,
            "justify_content": null,
            "justify_items": null,
            "left": null,
            "margin": null,
            "max_height": null,
            "max_width": null,
            "min_height": null,
            "min_width": null,
            "object_fit": null,
            "object_position": null,
            "order": null,
            "overflow": null,
            "overflow_x": null,
            "overflow_y": null,
            "padding": null,
            "right": null,
            "top": null,
            "visibility": null,
            "width": null
          }
        },
        "3f59d00b7106487da54fb68e3a67218f": {
          "model_module": "@jupyter-widgets/controls",
          "model_name": "DescriptionStyleModel",
          "model_module_version": "1.5.0",
          "state": {
            "_model_module": "@jupyter-widgets/controls",
            "_model_module_version": "1.5.0",
            "_model_name": "DescriptionStyleModel",
            "_view_count": null,
            "_view_module": "@jupyter-widgets/base",
            "_view_module_version": "1.2.0",
            "_view_name": "StyleView",
            "description_width": ""
          }
        }
      }
    }
  },
  "cells": [
    {
      "cell_type": "markdown",
      "metadata": {
        "id": "view-in-github",
        "colab_type": "text"
      },
      "source": [
        "<a href=\"https://colab.research.google.com/github/Jack3690/INSIST/blob/main/INSIST_PSF_Tool.ipynb\" target=\"_parent\"><img src=\"https://colab.research.google.com/assets/colab-badge.svg\" alt=\"Open In Colab\"/></a>"
      ]
    },
    {
      "cell_type": "code",
      "execution_count": null,
      "metadata": {
        "id": "b-3oyuBVOK6-"
      },
      "outputs": [],
      "source": [
        "!pip install git+https://github.com/rlwastro/mastcasjobs@master --quiet\n",
        "!pip install photutils --quiet\n",
        "!pip install pyxel-sim[all] --quiet\n",
        "!pip install Jinja2~=2.2 --quiet"
      ]
    },
    {
      "cell_type": "markdown",
      "source": [
        "# **GitHub**"
      ],
      "metadata": {
        "id": "JRqCRHqjhB86"
      }
    },
    {
      "cell_type": "code",
      "source": [
        "!git clone https://github.com/Jack3690/INSIST"
      ],
      "metadata": {
        "colab": {
          "base_uri": "https://localhost:8080/"
        },
        "id": "5kU1kx9cO3YF",
        "outputId": "2207a8a9-d235-457c-885e-902308681fe9"
      },
      "execution_count": null,
      "outputs": [
        {
          "output_type": "stream",
          "name": "stdout",
          "text": [
            "Cloning into 'INSIST'...\n",
            "remote: Enumerating objects: 1124, done.\u001b[K\n",
            "remote: Total 1124 (delta 0), reused 0 (delta 0), pack-reused 1124\u001b[K\n",
            "Receiving objects: 100% (1124/1124), 165.72 MiB | 12.04 MiB/s, done.\n",
            "Resolving deltas: 100% (612/612), done.\n"
          ]
        }
      ]
    },
    {
      "cell_type": "code",
      "source": [
        "cd /content/INSIST/"
      ],
      "metadata": {
        "colab": {
          "base_uri": "https://localhost:8080/"
        },
        "id": "u1GZ6Xx5O8rA",
        "outputId": "f20173d2-0d3b-4c34-e12d-8a2a98026b24"
      },
      "execution_count": null,
      "outputs": [
        {
          "output_type": "stream",
          "name": "stdout",
          "text": [
            "/content/INSIST\n"
          ]
        }
      ]
    },
    {
      "cell_type": "markdown",
      "source": [
        "# **Imports**"
      ],
      "metadata": {
        "id": "Jky8ToHfhEEX"
      }
    },
    {
      "cell_type": "code",
      "source": [
        "import numpy as np\n",
        "import pandas as pd\n",
        "import matplotlib\n",
        "import matplotlib.pyplot as plt\n",
        "import seaborn as sb\n",
        "\n",
        "from astropy import units as u\n",
        "from astropy.coordinates import SkyCoord\n",
        "from astropy.stats import gaussian_fwhm_to_sigma, gaussian_sigma_to_fwhm\n",
        "from astropy.modeling import models, fitting\n",
        "from astropy.visualization import LogStretch\n",
        "from astropy.visualization.mpl_normalize import ImageNormalize\n",
        "from astropy.io import fits\n",
        "from astropy.convolution import Gaussian2DKernel, convolve\n",
        "from astropy.table import Table\n",
        "\n",
        "from matplotlib import cm\n",
        "from matplotlib.colors import ListedColormap, LinearSegmentedColormap\n",
        "import matplotlib.gridspec as gridspec\n",
        "from matplotlib import colors as col\n",
        "from astropy.wcs import WCS\n",
        "\n",
        "from photutils import aperture as aper\n",
        "from photutils.aperture import aperture_photometry\n",
        "from photutils.aperture import CircularAperture\n",
        "\n",
        "from scipy.stats import norm\n",
        "\n",
        "import os\n",
        "from time import perf_counter\n",
        "import json\n",
        "import requests\n",
        "\n",
        "import mastcasjobs\n",
        "\n",
        "# get the WSID and password if not already defined\n",
        "if not os.environ.get('CASJOBS_USERID'):\n",
        "    os.environ['CASJOBS_USERID'] = \"avinashck90\"\n",
        "if not os.environ.get('CASJOBS_PW'):\n",
        "    os.environ['CASJOBS_PW'] = \"INSIST369\"\n",
        "\n",
        "sb.set_style('darkgrid')\n",
        "matplotlib.rcParams['font.size']=12\n",
        "matplotlib.rcParams['figure.figsize']=(10,10)"
      ],
      "metadata": {
        "id": "Auvo_cCRP4mi"
      },
      "execution_count": null,
      "outputs": []
    },
    {
      "cell_type": "markdown",
      "source": [
        "# **DataFrame to Image**"
      ],
      "metadata": {
        "id": "Lw5wI3xshRjh"
      }
    },
    {
      "cell_type": "code",
      "metadata": {
        "id": "2kufoQvbGh-D"
      },
      "source": [
        "class PSF_gen():\n",
        "\n",
        "  def __init__(self,name,df, cols, axis, mode,exp_time,fov):   \n",
        "    \"\"\"PSF Generator using Source catalog. Class which simulates the field \n",
        "    and creates image\n",
        "\n",
        "    Parameters\n",
        "    ----------\n",
        "    name  : str, Catalog name or coordinates of the source\n",
        "\n",
        "    df   : pd.DataFrame, Pandas dataframe with source catalog\n",
        "\n",
        "    cols  :,dict dict object with column name conversions for ra,dec,mag_nuv. \n",
        "    Eg {'RA': 'ra','Dec' : 'dec', 'ABmag' : 'mag_nuv'}\n",
        "\n",
        "      'ra' (degrees)\n",
        "\n",
        "      'dec' (degrees)\n",
        "\n",
        "      'mag_nuv' (ABmag)\n",
        "    axis     : str, 'Off' or \"On\", Secondary of the telescope.\n",
        "    mode     : str, 'HCIPy' or 'Zeemax', PSF patch generation method\n",
        "    exp_time : float, Exposure time in seconds \n",
        "    fov      : float, Field of View in degrees\n",
        "    \"\"\"\n",
        "    self.name   = name\n",
        "    self.axis   = axis\n",
        "    self.mode   = mode\n",
        "    self.cols   = cols\n",
        "    self.fov    = fov\n",
        "    self.radius = fov/2\n",
        "\n",
        "    # Flags\n",
        "    self.shot_noise = True\n",
        "    self.QE         = True\n",
        "    self.sky        = True\n",
        "    self.PRNU       = True\n",
        "    self.DC         = True\n",
        "    self.DNFP       = True\n",
        "    self.QN         = True\n",
        "\n",
        "    # Parameters\n",
        "    self.pixel_scale = 0.1\n",
        "    self.params = {'shot_noise' : 'Gaussian',\n",
        "                   'M_sky'      :  27.5,\n",
        "                   'qe'         :  0.5,\n",
        "                   'qe_sigma'   :  0.01,\n",
        "                   'bias'       :  0.008,      # Volts\n",
        "                   'bit_res'    :  16,        \n",
        "                   'RN'         :  3,          # elec/pix\n",
        "                   'PRNU_frac'  :  0.0025,\n",
        "                   'T'          :  218,        # K\n",
        "                   'DFM'        :  1.424e-2,   # 14.24pA\n",
        "                   'pixel_area' :  1e-6,       # \n",
        "                   'DN'         :  0.01,\n",
        "                   'OGC'        :  5e-6,\n",
        "                   'NF'         :  2.75       # electrons \n",
        "                   }\n",
        "\n",
        "    self.full_well_capacity = 250000 # electrons\n",
        "    self.voltage_max        = self.full_well_capacity*self.params['OGC']\n",
        "\n",
        "    self.M_sky_p     = self.params['M_sky'] - 2.5*np.log10(self.pixel_scale**2)\n",
        "    self.exp_time    = exp_time  # seconds\n",
        "    self.df          = df\n",
        "    if self.df is not None or self.name is not None:\n",
        "        self.init_df()\n",
        "        self.init_psf_patch() \n",
        "    else:\n",
        "        print(\"df cannot be None\")\n",
        "\n",
        "  def init_psf_patch(self, return_psf = False):\n",
        "\n",
        "    self.zero_mag_s_on =  self.exp_time*1.51e3*3631*np.pi*(100/2)**2*(1500/2250)*0.8**6*0.95**2*0.68*0.83 # Photons\n",
        "\n",
        "    self.zero_mag_s_off = self.exp_time*1.51e3*3631*np.pi*(100/2)**2*(1500/2250)*0.8**5*0.95**2*0.83      # Photons\n",
        "\n",
        "    if self.mode == 'Zeemax':\n",
        "      if self.axis =='On':\n",
        "        image =  np.load('/content/INSIST/data/On_PSF_Zmax.npy')\n",
        "        image /= image.sum()\n",
        "        self.image_g_sub = image\n",
        "        F_sky_p           = self.zero_mag_s_on*pow(10,-0.4*self.M_sky_p)\n",
        "        self.sky_bag_flux = F_sky_p    \n",
        "        self.zero_flux    = self.zero_mag_s_on \n",
        "\n",
        "      elif self.axis=='Off':\n",
        "        image  = np.load('/content/INSIST/data/Off_PSF_Zmax.npy')\n",
        "        image /= image.sum()\n",
        "        self.image_g_sub  = image\n",
        "        F_sky_p           = self.zero_mag_s_off*pow(10,-0.4*self.M_sky_p)\n",
        "        self.sky_bag_flux = F_sky_p    \n",
        "        self.zero_flux    = self.zero_mag_s_off \n",
        "\n",
        "    elif self.mode =='HCIPy':\n",
        "      if self.axis =='On':\n",
        "        image  = np.load('/content/INSIST/data/on_axis_hcipy.npy')\n",
        "        image /= image.sum()\n",
        "        self.image_g_sub =  image\n",
        "        F_sky_p           = self.zero_mag_s_on*pow(10,-0.4*self.M_sky_p)\n",
        "        self.sky_bag_flux = F_sky_p    \n",
        "        self.zero_flux    = self.zero_mag_s_on  \n",
        "\n",
        "      elif self.axis=='Off':\n",
        "        image  = np.load('/content/INSIST/data/off_axis_hcipy.npy')\n",
        "        image /= image.sum()\n",
        "        self.image_g_sub  = image\n",
        "        F_sky_p           = self.zero_mag_s_off*pow(10,-0.4*self.M_sky_p)\n",
        "        self.sky_bag_flux = F_sky_p    \n",
        "        self.zero_flux    = self.zero_mag_s_off \n",
        "\n",
        "    if return_psf:\n",
        "      return image*self.zero_flux\n",
        "\n",
        "  def mastQuery(self,request, json_return=False):\n",
        "    \"\"\"\n",
        "    Perform a MAST query.\n",
        "\n",
        "    Parameters\n",
        "    ----------\n",
        "    request (dictionary): The MAST request json object\n",
        "\n",
        "    Returns the text response or (if json_return=True) the json response\n",
        "    \"\"\"\n",
        "\n",
        "    url = \"https://mast.stsci.edu/api/v0/invoke\"\n",
        "\n",
        "    # Encoding the request as a json string\n",
        "    requestString = json.dumps(request)\n",
        "\n",
        "    # make the query\n",
        "    r = requests.post(url, data=dict(request=requestString))\n",
        "\n",
        "    # raise exception on error\n",
        "    r.raise_for_status()\n",
        "\n",
        "    if json_return:\n",
        "      return r.json()\n",
        "    else:\n",
        "      return r.text\n",
        "\n",
        "\n",
        "  def resolve(self,name):\n",
        "      \"\"\"Get the RA and Dec for an object using the MAST name resolver\n",
        "      \n",
        "      Parameters\n",
        "      ----------\n",
        "      name (str): Name of object\n",
        "\n",
        "      Returns RA, Dec tuple with position\"\"\"\n",
        "\n",
        "      resolverRequest = {'service':'Mast.Name.Lookup',\n",
        "                        'params':{'input':name,\n",
        "                                  'format':'json'\n",
        "                                  },\n",
        "                        }\n",
        "      resolvedObject = self.mastQuery(resolverRequest, json_return=True)\n",
        "      # The resolver returns a variety of information about the resolved object, \n",
        "      # however for our purposes all we need are the RA and Dec\n",
        "      try:\n",
        "          objRa = resolvedObject['resolvedCoordinate'][0]['ra']\n",
        "          objDec = resolvedObject['resolvedCoordinate'][0]['decl']\n",
        "      except IndexError as e:\n",
        "          raise ValueError(\"Unknown object '{}'\".format(name))\n",
        "      return (objRa, objDec)\n",
        "  \n",
        "\n",
        "  def init_df(self):     \n",
        "\n",
        "    if self.name is not None and self.df is None:\n",
        "      self.ra,self.dec = self.resolve(self.name)\n",
        "      print(\"Input : MASTCasJobs\")\n",
        "      self.jobs = mastcasjobs.MastCasJobs(context=\"GALEX_Catalogs\")\n",
        "      self.query =   f\"\"\"SELECT ra,dec, mag_nuv,mag_fuv \n",
        "                          FROM\n",
        "                          gcat_asc\n",
        "                          WHERE\n",
        "                          ra BETWEEN {self.ra} - {self.radius} AND {self.ra}   \n",
        "                          + {self.radius}\n",
        "                          AND \n",
        "                          dec BETWEEN {self.dec}- {self.radius} AND {self.dec} \n",
        "                          + {self.radius}\n",
        "                      \"\"\"\n",
        "      print(\"Generating Dataframe\")\n",
        "      self.df = self.jobs.quick(self.query, task_name=\"python cone search\").to_pandas()\n",
        "\n",
        "    else: \n",
        "      print(\"Input : Dataframe.\")\n",
        "\n",
        "      if self.cols is not None:\n",
        "        self.df = self.df.rename(columns = self.cols) \n",
        "      self.ra   = (self.df['ra'].max()+self.df['ra'].min())/2\n",
        "      self.dec  = (self.df['dec'].max()+self.df['dec'].min())/2\n",
        "      \n",
        "      self.df = self.df[ (self.df['ra']>self.ra - self.radius) & (self.df['ra']<self.ra + self.radius)]\n",
        "      self.df = self.df[ (self.df['dec']>self.dec - self.radius) & (self.df['dec']<self.dec + self.radius)]\n",
        "\n",
        "    self.name = f\" RA : {np.round(self.ra,3)} degrees, Dec : {np.round(self.dec,3)} degrees\"\n",
        "\n",
        "  def init_image_array(self, return_img = False):\n",
        "    \"\"\"\n",
        "    Creates a base image array for adding photons\n",
        "\n",
        "    Parameters\n",
        "    ----------\n",
        "    return_img : bool, optional\n",
        "        DESCRIPTION. The default is False.\n",
        "\n",
        "    Returns\n",
        "    -------\n",
        "    numpy.ndarray\n",
        "        if return_img is true return base image array\n",
        " \n",
        "\n",
        "    \"\"\"\n",
        "    self.n_pix_sub  = self.image_g_sub.shape[0]\n",
        "    del_ra  = self.df.ra.max()  - self.df.ra.min()\n",
        "    del_dec = self.df.dec.max() - self.df.dec.min()\n",
        "    \n",
        "    n_pix_main = del_ra*3600/self.pixel_scale if del_ra>=del_dec else del_dec*3600/self.pixel_scale\n",
        "  \n",
        "    self.n_pix_main = int(n_pix_main) + 2*self.n_pix_sub\n",
        "\n",
        "    if self.n_pix_main <=10000:\n",
        "      self.image    = np.zeros((self.n_pix_main, self.n_pix_main))\n",
        "      self.wcs      = self.create_wcs(self.n_pix_main,self.ra, self.dec, self.pixel_scale)\n",
        "      \n",
        "    else:\n",
        "      print(\"FoV is too big.\")\n",
        "\n",
        "    if return_img:\n",
        "      return self.image, self.wcs\n",
        "\n",
        "\n",
        "  def create_wcs(self,npix,ra,dec,pixel_scale):\n",
        "    \"\"\"\n",
        "    \n",
        "\n",
        "    Parameters\n",
        "    ----------\n",
        "    npix : int\n",
        "        number of pixels in image\n",
        "    ra : float (degrees)\n",
        "        right ascension of center of image.\n",
        "    dec : float (degrees)\n",
        "        declination of center of image.\n",
        "    pixel_scale : floats\n",
        "        arcsecs/pixel.\n",
        "\n",
        "    Returns\n",
        "    -------\n",
        "    w : wcs object\n",
        "\n",
        "\n",
        "    \"\"\" \n",
        "    w = WCS(naxis=2)\n",
        "    w.wcs.crpix = [(npix-1)//2, (npix-1)//2]\n",
        "    w.wcs.cdelt = np.array([-pixel_scale/3600, self.pixel_scale/3600])\n",
        "    w.wcs.crval = [ra, dec]\n",
        "    w.wcs.ctype = [\"RA---TAN\", \"DEC--TAN\"]\n",
        "    return w\n",
        "\n",
        "  def compute_coeff_arrays(self):\n",
        "    \"\"\"\n",
        "    \n",
        "    Computed coefficients based on input parameters\n",
        "    Returns\n",
        "    -------\n",
        "    None.\n",
        "\n",
        "    \"\"\"\n",
        "    if self.QE:\n",
        "      if self.params['qe']>0 and self.params['qe']<1:\n",
        "\n",
        "        n_pix = self.n_pix_main - self.n_pix_sub\n",
        "\n",
        "        if n_pix > 205 :\n",
        "          n_pix -= self.n_pix_sub\n",
        "\n",
        "        self.qe_array =  np.random.normal(loc=self.params['qe'], \n",
        "                                          scale=self.params['qe_sigma'],\n",
        "                                          size=(n_pix, n_pix))\n",
        "      else:\n",
        "        print('QE should in the range (0,1]')\n",
        "    else:\n",
        "      self.qe_array = 0.5\n",
        "\n",
        "    self.bias_array =  np.random.normal(loc=self.params['bias'], \n",
        "                                      scale=self.params['RN']*self.params['OGC'],\n",
        "                                      size=(n_pix, n_pix))\n",
        "    if self.PRNU:\n",
        "\n",
        "      self.PRNU_array =  np.random.normal(loc=0, \n",
        "                                        scale = self.params['PRNU_frac'],\n",
        "                                        size=(n_pix, n_pix))\n",
        "    if self.DC:\n",
        "      self.DR = self.dark_current(self.params['T'], self.params['DFM'], \n",
        "                                  self.params['pixel_area'])\n",
        "\n",
        "      self.DC_array = np.random.normal(loc = self.DR*self.exp_time, \n",
        "                                          scale = np.sqrt(self.DR*self.exp_time),\n",
        "                                          size=(n_pix, n_pix))\n",
        "\n",
        "    if self.DNFP and self.DC:\n",
        "      self.DNFP_array =  np.random.lognormal(mean= 0, \n",
        "                                    sigma = self.exp_time*self.DR*self.params['DN'],\n",
        "                                    size=(n_pix, n_pix))\n",
        "      self.DC_array*=(1 + self.DNFP_array)\n",
        "\n",
        "    if self.QN:\n",
        "      self.QN_value = (self.voltage_max/(pow(2,self.params['bit_res'])\n",
        "                                            *np.sqrt(12)))\n",
        "\n",
        "      self.QN_array = self.QN_value*np.random.randint(-1,2,size = (n_pix,n_pix))\n",
        "    else :\n",
        "      self.QN_array = 0\n",
        "    print(\"Coefficients Computed...\")\n",
        "\n",
        "  def dark_current(self,T, DFM, pixel_area):\n",
        "    \"\"\"\n",
        "      \n",
        "\n",
        "      Parameters\n",
        "      ----------\n",
        "      T : float\n",
        "          Detector Temperature\n",
        "      DFM : float\n",
        "          Dark current figure of merit\n",
        "      pixel_area : float\n",
        "          Area of pixel\n",
        "\n",
        "      Returns\n",
        "      -------\n",
        "      DR : float\n",
        "         Dark current rate e/s/pixels\n",
        "\n",
        "      \"\"\"\n",
        "    Kb  = 8.62e-5\n",
        "    const\t= 2.55741439581387e15\n",
        "\n",
        "    EgT\t= 1.1557 - (7.021e-4*T**2/(1108+T))\n",
        "    DR\t= const*pixel_area*(T**1.5)*DFM*np.exp(-EgT/(2*Kb*T))\n",
        "    return DR\n",
        "    \n",
        "  def generate_photons(self, image,npix_m, npix_s,df):\n",
        "    \"\"\"\n",
        "      This function creates PSFs based on ABmag  on a \n",
        "      small patch (2D array) of size n_pix_s*n_pix_s. \n",
        "      \n",
        "      The patch with the PSF is then added to the image array of size \n",
        "      n_pix_m*n_pix_m using wcs object.\n",
        "\n",
        "      Parameters\n",
        "      ----------\n",
        "      image : numpy.ndarray\n",
        "         base image array for inserting star PSFs\n",
        "      npix_m : int\n",
        "          number of pixels (length) in base image\n",
        "      npix_s : int\n",
        "          number of pixels (length) in psf patch image\n",
        "      df : pandas.dataframe\n",
        "          Dataframe containing source list\n",
        "          \n",
        "    \n",
        "\n",
        "      Returns\n",
        "      -------\n",
        "      image : numpy.ndarray\n",
        "          Array with PSFs added based on df\n",
        "\n",
        "      \"\"\"\n",
        "    if npix_s%2 ==0:\n",
        "      patch_width_l = npix_s//2\n",
        "      patch_width_r = npix_s//2\n",
        "\n",
        "    else:\n",
        "      patch_width_l = npix_s//2 \n",
        "      patch_width_r = npix_s//2 +1\n",
        "\n",
        "    for i, row in df.iterrows():\n",
        "\n",
        "        c = SkyCoord(row['ra'],row['dec'],unit=u.deg)\n",
        "        pix = self.wcs.world_to_array_index(c)\n",
        "        ABmag = row['mag_nuv']\n",
        "\n",
        "        flux  = self.zero_flux*10**(-ABmag/2.5)  # Photo-elec per second\n",
        "\n",
        "        patch =  flux*self.image_g_sub\n",
        "\n",
        "        x1 = pix[0] - patch_width_l\n",
        "        x2 = pix[0] + patch_width_r\n",
        "        y1 = pix[1] - patch_width_l\n",
        "        y2 = pix[1] + patch_width_r\n",
        "\n",
        "        image[ x1: x2, y1:y2 ] += patch\n",
        "\n",
        "    image   = image[patch_width_l-1:-patch_width_r-1,patch_width_l-1:-patch_width_r-1]\n",
        "    if image.shape[0]>205:\n",
        "      image = image[patch_width_l-1:-patch_width_r-1,patch_width_l-1:-patch_width_r-1]\n",
        "\n",
        "    return image\n",
        "\n",
        "  def compute_shot_noise(self,array,type_ = 'Gaussian'):\n",
        "    \"\"\"\n",
        "\n",
        "    Parameters\n",
        "    ----------\n",
        "    array : numpy.ndarray\n",
        "        input array\n",
        "    type_ : str, optional\n",
        "         The default is 'gaussian'.\n",
        "\n",
        "    Returns\n",
        "    -------\n",
        "    shot_noise : numpy.ndarray\n",
        "         Return array with shot noise\n",
        "\n",
        "    \"\"\"\n",
        "\n",
        "    if type(array) == np.float64 :\n",
        "      n_pix = self.n_pix_main\n",
        "    else :\n",
        "      n_pix = array.shape[0]\n",
        "\n",
        "    if type_ == 'Gaussian':\n",
        "        shot_noise = np.random.normal(loc=array, scale=np.sqrt(array), size = (n_pix, n_pix))\n",
        "    elif type_ =='Poisson':\n",
        "        shot_noise = np.random.poisson(lam=array, size = (n_pix, n_pix)).astype(array.dtype)\n",
        "    else:\n",
        "      print('Invalid type')\n",
        "\n",
        "    return shot_noise  \n",
        "\n",
        "\n",
        "  def __call__(self,params = None,n_stack =1,stack_type = 'median'):\n",
        "    \"\"\"\n",
        "    \n",
        "     Parameters\n",
        "     ----------\n",
        "     params : dict, optional\n",
        "     Dictionary contianing simulation parametes. The default is None.\n",
        "     n_stack : int, optional\n",
        "     Number of observations to be stacked. The default is 1.\n",
        "     stack_type : str, optional\n",
        "     Stacking method. The default is 'median'.\n",
        "     \n",
        "     \n",
        "    Simulates field by taking dataframe as input by inserting PSF patches in \n",
        "    image array using WCS\n",
        "     Returns\n",
        "     -------\n",
        "     numpy.ndarray\n",
        "     Final image array after adding all layers of simulation\n",
        "    \n",
        "    \"\"\"\n",
        "    if params is not None:\n",
        "      self.params.update(params)\n",
        "    digital_stack = []\n",
        "\n",
        "    self.init_image_array()\n",
        "    self.compute_coeff_arrays()\n",
        "    \n",
        "    for i in range(n_stack):\n",
        "\n",
        "      self.init_image_array()\n",
        "\n",
        "      self.source_photoelec = self.generate_photons(self.image,self.n_pix_main,self.n_pix_sub, self.df)*self.qe_array\n",
        "      \n",
        "      if self.shot_noise:\n",
        "         self.source_photoelec  = self.compute_shot_noise(self.source_photoelec \n",
        "                              ,type_ = self.params['shot_noise'])*self.qe_array\n",
        "\n",
        "      self.n_pix_main = self.source_photoelec.shape[0]\n",
        "\n",
        "      if self.sky:\n",
        "        self.sky_photoelec = self.compute_shot_noise(self.sky_bag_flux,\n",
        "                                                     'Gaussian')*self.qe_array\n",
        "        \n",
        "        self.light_array = self.source_photoelec +  self.sky_photoelec\n",
        "      else:\n",
        "        self.light_array = self.source_photoelec\n",
        "\n",
        "      if self.PRNU:\n",
        "        self.light_array*=(1+self.PRNU_array)\n",
        "\n",
        "      if self.DC:\n",
        "        self.photoelec_array = self.light_array + self.DC_array\n",
        "      else:\n",
        "        self.photoelec_array  = self.light_array\n",
        "\n",
        "      self.charge = self.photoelec_array + self.params['NF']\n",
        "      \n",
        "      self.signal = self.charge*self.params['OGC'] + self.bias_array + self.QN_array\n",
        "\n",
        "      # Full well condition\n",
        "      self.signal  = np.where(self.signal>=self.voltage_max,self.voltage_max, self.signal)\n",
        "\n",
        "      self.digital = (self.signal*pow(2,self.params['bit_res'])/self.voltage_max).astype(int)\n",
        "      \n",
        "      digital_stack.append(self.digital)\n",
        "    \n",
        "    digital_stack = np.array(digital_stack)\n",
        "    if n_stack>1:\n",
        "      if stack_type   == 'median':\n",
        "        self.digital  = np.median(digital_stack, axis = 0)\n",
        "      elif stack_type == 'mean':\n",
        "        self.digital  = np.median(digital_stack, axis = 0)\n",
        "\n",
        "    self.wcs = self.create_wcs(self.n_pix_main,self.ra,self.dec, self.pixel_scale)\n",
        "\n",
        "    self.header = self.wcs.to_header()\n",
        "\n",
        "    print(\"Image Simulation Complete...\")\n",
        "    \n",
        "    return self.digital"
      ],
      "execution_count": null,
      "outputs": []
    },
    {
      "cell_type": "code",
      "source": [
        "class PSF(PSF_gen):\n",
        "  def __init__(self, name = None,df = None, cols = None, axis = 'On',mode = 'Zeemax',\n",
        "               exp_time = 100, fov = 0.02):\n",
        "      super().__init__(name = name, df=df, cols=cols, axis=axis, mode=mode,\n",
        "                       exp_time = exp_time, fov = fov)\n",
        "      \"\"\"\n",
        "      \n",
        "      A class to visualize and analyze the simulated image\n",
        "      \n",
        "      Parameters\n",
        "      ----------\n",
        "      name  : str, Catalog name or coordinates of the source\n",
        "\n",
        "      df   : pd.DataFrame, Pandas dataframe with source catalog\n",
        "\n",
        "      cols  :,dict dict object with column name conversions for ra,dec,mag_nuv. \n",
        "      Eg {'RA': 'ra','Dec' : 'dec', 'ABmag' : 'mag_nuv'}\n",
        "\n",
        "        'ra' (degrees)\n",
        "\n",
        "        'dec' (degrees)\n",
        "\n",
        "        'mag_nuv' (ABmag)\n",
        "      axis     : str, 'Off' or \"On\", Secondary of the telescope.\n",
        "      mode     : str, 'HCIPy' or 'Zeemax', PSF patch generation method\n",
        "      exp_time : float, Exposure time in seconds \n",
        "      fov      : float, Field of View in degrees\n",
        "      \n",
        "     \n",
        "\n",
        "      Returns\n",
        "      -------\n",
        "      None.\n",
        "\n",
        "      \"\"\"\n",
        "\n",
        "  def __call__(self,params= None, n_stack =1, stack_type ='median'):\n",
        "    super().__call__(params = params, n_stack = n_stack, stack_type = stack_type)\n",
        "    \"\"\"\n",
        "    \n",
        "    Performs PSF simulation and PSF Photometry\n",
        "    \n",
        "    TBW\n",
        "    \"\"\"\n",
        "    \n",
        "    \n",
        "    if self.axis == 'Off':\n",
        "      zero_p_flux = (3010478142.88666  + self.params['bias'])\n",
        "    else:\n",
        "      zero_p_flux = (1516505736.205873 + self.params['bias'])\n",
        "\n",
        "    c          = SkyCoord(self.df['ra'], self.df['dec'],unit=u.deg)\n",
        "    data       = self.digital.astype(float)\n",
        "    wcs        = self.wcs\n",
        "    pix        = wcs.world_to_array_index(c)\n",
        "\n",
        "    position        = [(i,j) for i,j in zip(pix[1],pix[0])]\n",
        "\n",
        "    aperture        = aper.CircularAperture(position, r=0.3/0.1)\n",
        "    ap_pix          = np.count_nonzero(aperture.to_mask()[0])\n",
        "    aperture_bag    = aper.CircularAnnulus(position, r_in = 0.3/0.1, r_out = 1/0.1)\n",
        "    bag_mask        = aperture_bag.to_mask()[0]\n",
        "\n",
        "    bag_flux        = bag_mask.get_values(data)\n",
        "\n",
        "    # Median bag flux\n",
        "    bag_flux_med    = np.sort(bag_flux)[len(bag_flux)//2]\n",
        "\n",
        "    phot_table      = aperture_photometry(data, [aperture, aperture_bag])\n",
        "\n",
        "    phot_table['sky_flux'] = ap_pix*bag_flux_med\n",
        "    phot_table['flux']     = phot_table['aperture_sum_0'].value - phot_table['sky_flux'].value\n",
        "\n",
        "    phot_table['flux_err'] = np.sqrt( phot_table['flux'].value  + phot_table['sky_flux'].value )\n",
        " \n",
        "    phot_table['SNR']      = phot_table['flux'].value/ phot_table['flux_err'].value\n",
        "\n",
        "    phot_table['mag_in']   = self.df.mag_nuv\n",
        "    phot_table['mag_0.3']  = -2.5*np.log10(phot_table['flux'].value/(zero_p_flux*self.exp_time))\n",
        "    phot_table['mag_err']  = 1.087*phot_table['flux_err'].value/phot_table['flux'].value\n",
        "    self.phot_table = phot_table\n",
        "\n",
        "\n",
        "  def show_field(self,figsize=(10,10)):\n",
        "    \"\"\"\n",
        "    Function for creating a scatter plot of sources within the FoV\n",
        "\n",
        "    Returns\n",
        "    -------\n",
        "    fig, ax\n",
        "    \"\"\"\n",
        "    if self.wcs is None :\n",
        "      self.init_image_array()\n",
        "\n",
        "    fig, ax = plt.subplots(1,1,figsize=figsize)\n",
        "    ax.scatter(self.df['ra'],self.df['dec'],marker='.',color='black')\n",
        "    ax.set_title(f\" Requested Center : {self.name} \\n FoV : {np.round(self.pixel_scale*(self.n_pix_main-2*self.n_pix_sub )/3600,3)} degrees | {len(self.df)} sources\")\n",
        "    ax.invert_xaxis()\n",
        "    ax.set_xlabel('RA (Degrees)')\n",
        "    ax.set_ylabel('Dec (Degrees)')\n",
        "    return fig,ax\n",
        "\n",
        "  def show_image(self, source = 'Digital', figsize = (15,10), download = False):\n",
        "    \"\"\"\n",
        "    Function for plotting the simulated field with PSFs\n",
        "\n",
        "    Returns\n",
        "    -------\n",
        "    fig, ax\n",
        "    \"\"\"\n",
        "\n",
        "    fig = plt.figure(figsize = figsize)\n",
        "    norm = None\n",
        "    \n",
        "    if source == 'Digital':\n",
        "      data  = self.digital\n",
        "      norm = col.LogNorm()\n",
        "    elif source =='Charge':\n",
        "      data  = self.charge\n",
        "      norm = col.LogNorm()\n",
        "    elif source == 'Sky':\n",
        "      data = self.sky_photoelec\n",
        "    elif source == 'DC':\n",
        "      data = self.DC_array\n",
        "    elif source == 'QE':\n",
        "      data = self.qe_array\n",
        "    elif source =='Bias':\n",
        "      data = self.bias_array + self.DC_array \n",
        "    elif source == 'PRNU':\n",
        "      data = self.PRNU_array\n",
        "    elif source == 'DNFP':\n",
        "      norm = col.LogNorm()\n",
        "      data = self.DNFP_array\n",
        "    elif source == 'QN':\n",
        "      data = self.QN_array\n",
        "\n",
        "    ax = fig.add_subplot(projection=self.wcs)\n",
        "    ax.patch.set_edgecolor('black')  \n",
        "    ax.patch.set_linewidth('3') \n",
        "    img = ax.imshow(data,cmap='jet' , norm = norm)\n",
        "    plt.colorbar(img)\n",
        "    ax.set_title(f'{source} \\nRequested center : {self.name}')\n",
        "    ax.grid(False)\n",
        "    if download:\n",
        "        fig.savefig(f\"{source}.png\", format = 'png')\n",
        "    return fig,ax\n",
        "\n",
        "  def show_hist(self, source = 'Digital',bins = None,figsize=(15,8)):\n",
        "    fig, ax = plt.subplots(1,1,figsize=figsize)\n",
        "\n",
        "    if source == 'Digital':\n",
        "      data  = self.digital.ravel()\n",
        "    elif source =='Charge':\n",
        "      data  = self.charge.ravel()\n",
        "      norm = col.LogNorm()\n",
        "    elif source == 'Sky':\n",
        "      data = self.sky_photoelec.ravel()\n",
        "    elif source == 'DC':\n",
        "      data = self.DC_array.ravel()\n",
        "    elif source == 'QE':\n",
        "      data = self.qe_array\n",
        "    elif source =='Bias':\n",
        "      data = (self.bias_array + self.DC_array).ravel()\n",
        "    elif source == 'PRNU':\n",
        "      data = self.PRNU_array.ravel()\n",
        "    elif source == 'DNFP':\n",
        "      data = self.DNFP_array.ravel()\n",
        "    elif source == 'QN':\n",
        "      data = self.QN_array.ravel()\n",
        "\n",
        "    if bins is None:\n",
        "      bins  = np.linspace(data.min(), data.max(), 20)\n",
        "    ax.hist(data, bins = bins)\n",
        "    ax.set_title(f'{source} histogram')\n",
        "    ax.set_ylabel('Count')\n",
        "    ax.set_yscale('log')\n",
        "    return fig, ax\n",
        "\n",
        "  def writeto(self,name):\n",
        "    \"\"\"\n",
        "    Function for downloading a fits file of simulated field\n",
        "    \"\"\"\n",
        "    if np.all(self.image) !=None:\n",
        "      hdu = fits.PrimaryHDU(self.charge, header = self.header)\n",
        "      hdu.wcs = self.wcs\n",
        "      hdul = fits.HDUList([hdu])\n",
        "      hdul.writeto(f'{name}',overwrite= True)\n",
        "    else:\n",
        "      print(\"Generate PSF\")"
      ],
      "metadata": {
        "id": "REmJccUWLvRu"
      },
      "execution_count": null,
      "outputs": []
    },
    {
      "cell_type": "code",
      "source": [
        "name = input(\"Enter source name or coordinates : \") or  \"M 67\"\n",
        "fov = float(input(\"Enter FoV of the region (degrees) : \") or \"0.02\")"
      ],
      "metadata": {
        "id": "hXDIPiQAmRKs",
        "colab": {
          "base_uri": "https://localhost:8080/"
        },
        "outputId": "810911ee-d7db-4744-e1c5-aea5aecd27be"
      },
      "execution_count": null,
      "outputs": [
        {
          "name": "stdout",
          "output_type": "stream",
          "text": [
            "Enter source name or coordinates : \n",
            "Enter FoV of the region (degrees) : \n"
          ]
        }
      ]
    },
    {
      "cell_type": "code",
      "source": [
        "ra      = [0]\n",
        "dec     = [0]\n",
        "mag_nuv = [7]\n",
        "df      = pd.DataFrame(zip(ra,dec,mag_nuv), columns= ['ra', 'dec', 'mag_nuv'])"
      ],
      "metadata": {
        "id": "wyUGmYQmN0Ts"
      },
      "execution_count": null,
      "outputs": []
    },
    {
      "cell_type": "code",
      "source": [
        "df = Table.read('data/phatm31.fit').to_pandas()"
      ],
      "metadata": {
        "colab": {
          "base_uri": "https://localhost:8080/"
        },
        "id": "1z5oZAFnhhV9",
        "outputId": "38daf444-789e-40f1-9425-846825452036"
      },
      "execution_count": null,
      "outputs": [
        {
          "output_type": "stream",
          "name": "stderr",
          "text": [
            "WARNING: hdu= was not specified but multiple tables are present, reading in first available table (hdu=1) [astropy.io.fits.connect]\n"
          ]
        }
      ]
    },
    {
      "cell_type": "code",
      "source": [
        "cols = {'RAJ2000' : 'ra', 'DEJ2000' :'dec', 'F275W' : 'mag_nuv'}\n",
        "psf = PSF( df  = df, axis='On',cols = cols ,mode='HCIPy',exp_time = 60)\n",
        "psf()"
      ],
      "metadata": {
        "colab": {
          "base_uri": "https://localhost:8080/"
        },
        "id": "TBwl57k3L3fl",
        "outputId": "0d5da155-324f-4a57-ce67-411d14a95be9"
      },
      "execution_count": null,
      "outputs": [
        {
          "output_type": "stream",
          "name": "stdout",
          "text": [
            "Input : Dataframe.\n",
            "Coefficients Computed...\n",
            "Image Simulation Complete...\n"
          ]
        }
      ]
    },
    {
      "cell_type": "code",
      "source": [
        "psf.signal.max()"
      ],
      "metadata": {
        "colab": {
          "base_uri": "https://localhost:8080/"
        },
        "id": "PjhHD2_KWN8Y",
        "outputId": "e47305d2-3b53-469c-c8b9-0c2095704f49"
      },
      "execution_count": null,
      "outputs": [
        {
          "output_type": "execute_result",
          "data": {
            "text/plain": [
              "1.25"
            ]
          },
          "metadata": {},
          "execution_count": 19
        }
      ]
    },
    {
      "cell_type": "code",
      "source": [
        "psf.show_image()"
      ],
      "metadata": {
        "colab": {
          "base_uri": "https://localhost:8080/",
          "height": 680
        },
        "id": "gNbfgi57WLph",
        "outputId": "6ef9598e-8a7b-4715-e70b-02137cba700f"
      },
      "execution_count": null,
      "outputs": [
        {
          "output_type": "execute_result",
          "data": {
            "text/plain": [
              "(<Figure size 1080x720 with 2 Axes>,\n",
              " <matplotlib.axes._subplots.WCSAxesSubplot at 0x7f1d76f9bad0>)"
            ]
          },
          "metadata": {},
          "execution_count": 20
        },
        {
          "output_type": "display_data",
          "data": {
            "text/plain": [
              "<Figure size 1080x720 with 2 Axes>"
            ],
            "image/png": "[encoded data removed]"
          },
          "metadata": {}
        }
      ]
    },
    {
      "cell_type": "code",
      "source": [
        "plt.plot(psf.digital[103,75:125])"
      ],
      "metadata": {
        "colab": {
          "base_uri": "https://localhost:8080/",
          "height": 612
        },
        "id": "uG_GqCni0iYy",
        "outputId": "1ec52b09-e9f2-4f47-ed35-4a9a3fbdc9eb"
      },
      "execution_count": null,
      "outputs": [
        {
          "output_type": "execute_result",
          "data": {
            "text/plain": [
              "[<matplotlib.lines.Line2D at 0x7f1d7510fa10>]"
            ]
          },
          "metadata": {},
          "execution_count": 21
        },
        {
          "output_type": "display_data",
          "data": {
            "text/plain": [
              "<Figure size 720x720 with 1 Axes>"
            ],
            "image/png": "[encoded data removed]"
          },
          "metadata": {}
        }
      ]
    },
    {
      "cell_type": "code",
      "source": [
        "signal     = psf.readout\n",
        "noise = psf.readout - (psf.photon_array + psf.sky_bag_flux)*psf.qe_array - psf.DR*psf.exp_time"
      ],
      "metadata": {
        "id": "9HnWdPcmA4S9"
      },
      "execution_count": null,
      "outputs": []
    },
    {
      "cell_type": "code",
      "source": [
        "plt.plot(signal.ravel(),noise.ravel(), 'o')\n",
        "plt.xlabel('signal')\n",
        "plt.ylabel('Shot noise')\n",
        "plt.xscale('log')\n",
        "plt.yscale('log')"
      ],
      "metadata": {
        "colab": {
          "base_uri": "https://localhost:8080/",
          "height": 615
        },
        "id": "PEkKusD7YzbV",
        "outputId": "1fd5fd95-51d1-4199-d63b-0ec2d4021640"
      },
      "execution_count": null,
      "outputs": [
        {
          "output_type": "display_data",
          "data": {
            "text/plain": [
              "<Figure size 720x720 with 1 Axes>"
            ],
            "image/png": "[encoded data removed]"
          },
          "metadata": {}
        }
      ]
    },
    {
      "cell_type": "code",
      "source": [
        "shot_noise.min(), signal.min()"
      ],
      "metadata": {
        "colab": {
          "base_uri": "https://localhost:8080/"
        },
        "id": "IqQxQSxNdhZx",
        "outputId": "1758c687-a2df-4d75-e681-60a2c456b195"
      },
      "execution_count": null,
      "outputs": [
        {
          "output_type": "execute_result",
          "data": {
            "text/plain": [
              "(0.008230834705535815, 6.774663994985285e-05)"
            ]
          },
          "metadata": {},
          "execution_count": 378
        }
      ]
    },
    {
      "cell_type": "code",
      "source": [
        "psf.writeto('/content/INSIST/data/source.fits')"
      ],
      "metadata": {
        "id": "VbF5wOROVmC6"
      },
      "execution_count": null,
      "outputs": []
    },
    {
      "cell_type": "markdown",
      "source": [
        "# **Pyxel**"
      ],
      "metadata": {
        "id": "USNEHEc-MpxZ"
      }
    },
    {
      "cell_type": "code",
      "source": [
        "with open(\"/content/INSIST/data/exposure_on.yaml\",'r') as f:\n",
        "  dat = yaml.load(f)"
      ],
      "metadata": {
        "id": "dh2V0GKDVpmK"
      },
      "execution_count": null,
      "outputs": []
    },
    {
      "cell_type": "code",
      "source": [
        "dat['pipeline']['photon_generation'][0]['arguments']['image_file'] = 'data/source.fits'"
      ],
      "metadata": {
        "id": "Uo7CYdBNV3ai"
      },
      "execution_count": null,
      "outputs": []
    },
    {
      "cell_type": "code",
      "source": [
        "dat['pipeline']['optics'][0]['arguments']['fov_arcsec'] = 20.5"
      ],
      "metadata": {
        "id": "czQ9-z3fWTNg"
      },
      "execution_count": null,
      "outputs": []
    },
    {
      "cell_type": "code",
      "source": [
        "dat['cmos_detector']['geometry']['row']= psf.photon_array.shape[0]\n",
        "dat['cmos_detector']['geometry']['col']= psf.photon_array.shape[1]\n",
        "dat['cmos_detector']['geometry']['total_thickness'] = 10"
      ],
      "metadata": {
        "id": "WewHgf8zWmwt"
      },
      "execution_count": null,
      "outputs": []
    },
    {
      "cell_type": "code",
      "source": [
        "with open(\"/content/INSIST/data/exposure_on.yaml\", 'w') as out:\n",
        "  yaml.dump(dat,out)"
      ],
      "metadata": {
        "id": "5LIY2d2VWtKc"
      },
      "execution_count": null,
      "outputs": []
    },
    {
      "cell_type": "code",
      "source": [
        "config = pyxel.load(\"/content/INSIST/data/exposure_on.yaml\")\n",
        "exposure = config.exposure  # class Single\n",
        "detector = config.cmos_detector  # class CMOS\n",
        "pipeline = config.pipeline  # class DetectionPipeline"
      ],
      "metadata": {
        "id": "2KPMHuyfWvx0"
      },
      "execution_count": null,
      "outputs": []
    },
    {
      "cell_type": "code",
      "source": [
        "result = pyxel.exposure_mode(exposure=exposure, detector=detector, pipeline=pipeline)\n",
        "result"
      ],
      "metadata": {
        "id": "z3lYT8JeWxNR",
        "colab": {
          "base_uri": "https://localhost:8080/",
          "height": 374,
          "referenced_widgets": [
            "4a704a715eba438c8cac20771c642686",
            "47818f4fc7de4e35bda5f98ef18fe147",
            "3e4e67d0725f4762a1312866a2bd3207",
            "9b4bcdbb88f3436eb014b3691f624758",
            "3bd2a237a85e4e108a17b3343102fe83",
            "dda30f22e84745838c565c97be8da3f0",
            "ea3d7fa7acef454ab6ede1388a150edd",
            "baea7491ccf0443b9cd6cc4675e6f38a",
            "609b10d2e8f84dc2a04ec3fe2116026c",
            "4ee33e9e2bb34bafb20530d124e2c628",
            "3f59d00b7106487da54fb68e3a67218f"
          ]
        },
        "outputId": "932ce115-31ae-49b7-801f-659ceb2ec79a"
      },
      "execution_count": null,
      "outputs": [
        {
          "output_type": "stream",
          "name": "stderr",
          "text": [
            "/usr/local/lib/python3.7/dist-packages/pyxel/data_structure/photon.py:61: UserWarning: Trying to set negative values in the Photon array! Negative values clipped to 0.\n",
            "  \"Trying to set negative values in the Photon array! Negative values clipped to 0.\"\n"
          ]
        },
        {
          "output_type": "display_data",
          "data": {
            "text/plain": [
              "Cosmix:   0%|          | 0/100 [00:00<?, ? particle/s]"
            ],
            "application/vnd.jupyter.widget-view+json": {
              "version_major": 2,
              "version_minor": 0,
              "model_id": "4a704a715eba438c8cac20771c642686"
            }
          },
          "metadata": {}
        },
        {
          "output_type": "execute_result",
          "data": {
            "text/plain": [
              "<xarray.Dataset>\n",
              "Dimensions:       (readout_time: 1, x: 3785, y: 3785)\n",
              "Coordinates:\n",
              "  * readout_time  (readout_time) int64 1\n",
              "  * y             (y) int64 0 1 2 3 4 5 6 ... 3778 3779 3780 3781 3782 3783 3784\n",
              "  * x             (x) int64 0 1 2 3 4 5 6 ... 3778 3779 3780 3781 3782 3783 3784\n",
              "Data variables:\n",
              "    image         (readout_time, y, x) uint32 3 1 1 3 5 5 6 ... 9 6 7 11 6 10 8\n",
              "    signal        (readout_time, y, x) float64 0.0003276 0.0001241 ... 0.001178\n",
              "    pixel         (readout_time, y, x) float64 1.092 0.4137 ... 5.053 3.928"
            ],
            "text/html": [
              "<div><svg style=\"position: absolute; width: 0; height: 0; overflow: hidden\">\n",
              "<defs>\n",
              "<symbol id=\"icon-database\" viewBox=\"0 0 32 32\">\n",
              "<path d=\"M16 0c-8.837 0-16 2.239-16 5v4c0 2.761 7.163 5 16 5s16-2.239 16-5v-4c0-2.761-7.163-5-16-5z\"></path>\n",
              "<path d=\"M16 17c-8.837 0-16-2.239-16-5v6c0 2.761 7.163 5 16 5s16-2.239 16-5v-6c0 2.761-7.163 5-16 5z\"></path>\n",
              "<path d=\"M16 26c-8.837 0-16-2.239-16-5v6c0 2.761 7.163 5 16 5s16-2.239 16-5v-6c0 2.761-7.163 5-16 5z\"></path>\n",
              "</symbol>\n",
              "<symbol id=\"icon-file-text2\" viewBox=\"0 0 32 32\">\n",
              "<path d=\"M28.681 7.159c-0.694-0.947-1.662-2.053-2.724-3.116s-2.169-2.030-3.116-2.724c-1.612-1.182-2.393-1.319-2.841-1.319h-15.5c-1.378 0-2.5 1.121-2.5 2.5v27c0 1.378 1.122 2.5 2.5 2.5h23c1.378 0 2.5-1.122 2.5-2.5v-19.5c0-0.448-0.137-1.23-1.319-2.841zM24.543 5.457c0.959 0.959 1.712 1.825 2.268 2.543h-4.811v-4.811c0.718 0.556 1.584 1.309 2.543 2.268zM28 29.5c0 0.271-0.229 0.5-0.5 0.5h-23c-0.271 0-0.5-0.229-0.5-0.5v-27c0-0.271 0.229-0.5 0.5-0.5 0 0 15.499-0 15.5 0v7c0 0.552 0.448 1 1 1h7v19.5z\"></path>\n",
              "<path d=\"M23 26h-14c-0.552 0-1-0.448-1-1s0.448-1 1-1h14c0.552 0 1 0.448 1 1s-0.448 1-1 1z\"></path>\n",
              "<path d=\"M23 22h-14c-0.552 0-1-0.448-1-1s0.448-1 1-1h14c0.552 0 1 0.448 1 1s-0.448 1-1 1z\"></path>\n",
              "<path d=\"M23 18h-14c-0.552 0-1-0.448-1-1s0.448-1 1-1h14c0.552 0 1 0.448 1 1s-0.448 1-1 1z\"></path>\n",
              "</symbol>\n",
              "</defs>\n",
              "</svg>\n",
              "<style>/* CSS stylesheet for displaying xarray objects in jupyterlab.\n",
              " *\n",
              " */\n",
              "\n",
              ":root {\n",
              "  --xr-font-color0: var(--jp-content-font-color0, rgba(0, 0, 0, 1));\n",
              "  --xr-font-color2: var(--jp-content-font-color2, rgba(0, 0, 0, 0.54));\n",
              "  --xr-font-color3: var(--jp-content-font-color3, rgba(0, 0, 0, 0.38));\n",
              "  --xr-border-color: var(--jp-border-color2, #e0e0e0);\n",
              "  --xr-disabled-color: var(--jp-layout-color3, #bdbdbd);\n",
              "  --xr-background-color: var(--jp-layout-color0, white);\n",
              "  --xr-background-color-row-even: var(--jp-layout-color1, white);\n",
              "  --xr-background-color-row-odd: var(--jp-layout-color2, #eeeeee);\n",
              "}\n",
              "\n",
              "html[theme=dark],\n",
              "body.vscode-dark {\n",
              "  --xr-font-color0: rgba(255, 255, 255, 1);\n",
              "  --xr-font-color2: rgba(255, 255, 255, 0.54);\n",
              "  --xr-font-color3: rgba(255, 255, 255, 0.38);\n",
              "  --xr-border-color: #1F1F1F;\n",
              "  --xr-disabled-color: #515151;\n",
              "  --xr-background-color: #111111;\n",
              "  --xr-background-color-row-even: #111111;\n",
              "  --xr-background-color-row-odd: #313131;\n",
              "}\n",
              "\n",
              ".xr-wrap {\n",
              "  display: block;\n",
              "  min-width: 300px;\n",
              "  max-width: 700px;\n",
              "}\n",
              "\n",
              ".xr-text-repr-fallback {\n",
              "  /* fallback to plain text repr when CSS is not injected (untrusted notebook) */\n",
              "  display: none;\n",
              "}\n",
              "\n",
              ".xr-header {\n",
              "  padding-top: 6px;\n",
              "  padding-bottom: 6px;\n",
              "  margin-bottom: 4px;\n",
              "  border-bottom: solid 1px var(--xr-border-color);\n",
              "}\n",
              "\n",
              ".xr-header > div,\n",
              ".xr-header > ul {\n",
              "  display: inline;\n",
              "  margin-top: 0;\n",
              "  margin-bottom: 0;\n",
              "}\n",
              "\n",
              ".xr-obj-type,\n",
              ".xr-array-name {\n",
              "  margin-left: 2px;\n",
              "  margin-right: 10px;\n",
              "}\n",
              "\n",
              ".xr-obj-type {\n",
              "  color: var(--xr-font-color2);\n",
              "}\n",
              "\n",
              ".xr-sections {\n",
              "  padding-left: 0 !important;\n",
              "  display: grid;\n",
              "  grid-template-columns: 150px auto auto 1fr 20px 20px;\n",
              "}\n",
              "\n",
              ".xr-section-item {\n",
              "  display: contents;\n",
              "}\n",
              "\n",
              ".xr-section-item input {\n",
              "  display: none;\n",
              "}\n",
              "\n",
              ".xr-section-item input + label {\n",
              "  color: var(--xr-disabled-color);\n",
              "}\n",
              "\n",
              ".xr-section-item input:enabled + label {\n",
              "  cursor: pointer;\n",
              "  color: var(--xr-font-color2);\n",
              "}\n",
              "\n",
              ".xr-section-item input:enabled + label:hover {\n",
              "  color: var(--xr-font-color0);\n",
              "}\n",
              "\n",
              ".xr-section-summary {\n",
              "  grid-column: 1;\n",
              "  color: var(--xr-font-color2);\n",
              "  font-weight: 500;\n",
              "}\n",
              "\n",
              ".xr-section-summary > span {\n",
              "  display: inline-block;\n",
              "  padding-left: 0.5em;\n",
              "}\n",
              "\n",
              ".xr-section-summary-in:disabled + label {\n",
              "  color: var(--xr-font-color2);\n",
              "}\n",
              "\n",
              ".xr-section-summary-in + label:before {\n",
              "  display: inline-block;\n",
              "  content: '►';\n",
              "  font-size: 11px;\n",
              "  width: 15px;\n",
              "  text-align: center;\n",
              "}\n",
              "\n",
              ".xr-section-summary-in:disabled + label:before {\n",
              "  color: var(--xr-disabled-color);\n",
              "}\n",
              "\n",
              ".xr-section-summary-in:checked + label:before {\n",
              "  content: '▼';\n",
              "}\n",
              "\n",
              ".xr-section-summary-in:checked + label > span {\n",
              "  display: none;\n",
              "}\n",
              "\n",
              ".xr-section-summary,\n",
              ".xr-section-inline-details {\n",
              "  padding-top: 4px;\n",
              "  padding-bottom: 4px;\n",
              "}\n",
              "\n",
              ".xr-section-inline-details {\n",
              "  grid-column: 2 / -1;\n",
              "}\n",
              "\n",
              ".xr-section-details {\n",
              "  display: none;\n",
              "  grid-column: 1 / -1;\n",
              "  margin-bottom: 5px;\n",
              "}\n",
              "\n",
              ".xr-section-summary-in:checked ~ .xr-section-details {\n",
              "  display: contents;\n",
              "}\n",
              "\n",
              ".xr-array-wrap {\n",
              "  grid-column: 1 / -1;\n",
              "  display: grid;\n",
              "  grid-template-columns: 20px auto;\n",
              "}\n",
              "\n",
              ".xr-array-wrap > label {\n",
              "  grid-column: 1;\n",
              "  vertical-align: top;\n",
              "}\n",
              "\n",
              ".xr-preview {\n",
              "  color: var(--xr-font-color3);\n",
              "}\n",
              "\n",
              ".xr-array-preview,\n",
              ".xr-array-data {\n",
              "  padding: 0 5px !important;\n",
              "  grid-column: 2;\n",
              "}\n",
              "\n",
              ".xr-array-data,\n",
              ".xr-array-in:checked ~ .xr-array-preview {\n",
              "  display: none;\n",
              "}\n",
              "\n",
              ".xr-array-in:checked ~ .xr-array-data,\n",
              ".xr-array-preview {\n",
              "  display: inline-block;\n",
              "}\n",
              "\n",
              ".xr-dim-list {\n",
              "  display: inline-block !important;\n",
              "  list-style: none;\n",
              "  padding: 0 !important;\n",
              "  margin: 0;\n",
              "}\n",
              "\n",
              ".xr-dim-list li {\n",
              "  display: inline-block;\n",
              "  padding: 0;\n",
              "  margin: 0;\n",
              "}\n",
              "\n",
              ".xr-dim-list:before {\n",
              "  content: '(';\n",
              "}\n",
              "\n",
              ".xr-dim-list:after {\n",
              "  content: ')';\n",
              "}\n",
              "\n",
              ".xr-dim-list li:not(:last-child):after {\n",
              "  content: ',';\n",
              "  padding-right: 5px;\n",
              "}\n",
              "\n",
              ".xr-has-index {\n",
              "  font-weight: bold;\n",
              "}\n",
              "\n",
              ".xr-var-list,\n",
              ".xr-var-item {\n",
              "  display: contents;\n",
              "}\n",
              "\n",
              ".xr-var-item > div,\n",
              ".xr-var-item label,\n",
              ".xr-var-item > .xr-var-name span {\n",
              "  background-color: var(--xr-background-color-row-even);\n",
              "  margin-bottom: 0;\n",
              "}\n",
              "\n",
              ".xr-var-item > .xr-var-name:hover span {\n",
              "  padding-right: 5px;\n",
              "}\n",
              "\n",
              ".xr-var-list > li:nth-child(odd) > div,\n",
              ".xr-var-list > li:nth-child(odd) > label,\n",
              ".xr-var-list > li:nth-child(odd) > .xr-var-name span {\n",
              "  background-color: var(--xr-background-color-row-odd);\n",
              "}\n",
              "\n",
              ".xr-var-name {\n",
              "  grid-column: 1;\n",
              "}\n",
              "\n",
              ".xr-var-dims {\n",
              "  grid-column: 2;\n",
              "}\n",
              "\n",
              ".xr-var-dtype {\n",
              "  grid-column: 3;\n",
              "  text-align: right;\n",
              "  color: var(--xr-font-color2);\n",
              "}\n",
              "\n",
              ".xr-var-preview {\n",
              "  grid-column: 4;\n",
              "}\n",
              "\n",
              ".xr-var-name,\n",
              ".xr-var-dims,\n",
              ".xr-var-dtype,\n",
              ".xr-preview,\n",
              ".xr-attrs dt {\n",
              "  white-space: nowrap;\n",
              "  overflow: hidden;\n",
              "  text-overflow: ellipsis;\n",
              "  padding-right: 10px;\n",
              "}\n",
              "\n",
              ".xr-var-name:hover,\n",
              ".xr-var-dims:hover,\n",
              ".xr-var-dtype:hover,\n",
              ".xr-attrs dt:hover {\n",
              "  overflow: visible;\n",
              "  width: auto;\n",
              "  z-index: 1;\n",
              "}\n",
              "\n",
              ".xr-var-attrs,\n",
              ".xr-var-data {\n",
              "  display: none;\n",
              "  background-color: var(--xr-background-color) !important;\n",
              "  padding-bottom: 5px !important;\n",
              "}\n",
              "\n",
              ".xr-var-attrs-in:checked ~ .xr-var-attrs,\n",
              ".xr-var-data-in:checked ~ .xr-var-data {\n",
              "  display: block;\n",
              "}\n",
              "\n",
              ".xr-var-data > table {\n",
              "  float: right;\n",
              "}\n",
              "\n",
              ".xr-var-name span,\n",
              ".xr-var-data,\n",
              ".xr-attrs {\n",
              "  padding-left: 25px !important;\n",
              "}\n",
              "\n",
              ".xr-attrs,\n",
              ".xr-var-attrs,\n",
              ".xr-var-data {\n",
              "  grid-column: 1 / -1;\n",
              "}\n",
              "\n",
              "dl.xr-attrs {\n",
              "  padding: 0;\n",
              "  margin: 0;\n",
              "  display: grid;\n",
              "  grid-template-columns: 125px auto;\n",
              "}\n",
              "\n",
              ".xr-attrs dt,\n",
              ".xr-attrs dd {\n",
              "  padding: 0;\n",
              "  margin: 0;\n",
              "  float: left;\n",
              "  padding-right: 10px;\n",
              "  width: auto;\n",
              "}\n",
              "\n",
              ".xr-attrs dt {\n",
              "  font-weight: normal;\n",
              "  grid-column: 1;\n",
              "}\n",
              "\n",
              ".xr-attrs dt:hover span {\n",
              "  display: inline-block;\n",
              "  background: var(--xr-background-color);\n",
              "  padding-right: 10px;\n",
              "}\n",
              "\n",
              ".xr-attrs dd {\n",
              "  grid-column: 2;\n",
              "  white-space: pre-wrap;\n",
              "  word-break: break-all;\n",
              "}\n",
              "\n",
              ".xr-icon-database,\n",
              ".xr-icon-file-text2 {\n",
              "  display: inline-block;\n",
              "  vertical-align: middle;\n",
              "  width: 1em;\n",
              "  height: 1.5em !important;\n",
              "  stroke-width: 0;\n",
              "  stroke: currentColor;\n",
              "  fill: currentColor;\n",
              "}\n",
              "</style><pre class='xr-text-repr-fallback'>&lt;xarray.Dataset&gt;\n",
              "Dimensions:       (readout_time: 1, x: 3785, y: 3785)\n",
              "Coordinates:\n",
              "  * readout_time  (readout_time) int64 1\n",
              "  * y             (y) int64 0 1 2 3 4 5 6 ... 3778 3779 3780 3781 3782 3783 3784\n",
              "  * x             (x) int64 0 1 2 3 4 5 6 ... 3778 3779 3780 3781 3782 3783 3784\n",
              "Data variables:\n",
              "    image         (readout_time, y, x) uint32 3 1 1 3 5 5 6 ... 9 6 7 11 6 10 8\n",
              "    signal        (readout_time, y, x) float64 0.0003276 0.0001241 ... 0.001178\n",
              "    pixel         (readout_time, y, x) float64 1.092 0.4137 ... 5.053 3.928</pre><div class='xr-wrap' hidden><div class='xr-header'><div class='xr-obj-type'>xarray.Dataset</div></div><ul class='xr-sections'><li class='xr-section-item'><input id='section-53308870-144f-4563-b474-a81d993ef4f4' class='xr-section-summary-in' type='checkbox' disabled ><label for='section-53308870-144f-4563-b474-a81d993ef4f4' class='xr-section-summary'  title='Expand/collapse section'>Dimensions:</label><div class='xr-section-inline-details'><ul class='xr-dim-list'><li><span class='xr-has-index'>readout_time</span>: 1</li><li><span class='xr-has-index'>x</span>: 3785</li><li><span class='xr-has-index'>y</span>: 3785</li></ul></div><div class='xr-section-details'></div></li><li class='xr-section-item'><input id='section-17b150ee-2b52-4c8d-8392-e48f15a1852b' class='xr-section-summary-in' type='checkbox'  checked><label for='section-17b150ee-2b52-4c8d-8392-e48f15a1852b' class='xr-section-summary' >Coordinates: <span>(3)</span></label><div class='xr-section-inline-details'></div><div class='xr-section-details'><ul class='xr-var-list'><li class='xr-var-item'><div class='xr-var-name'><span class='xr-has-index'>readout_time</span></div><div class='xr-var-dims'>(readout_time)</div><div class='xr-var-dtype'>int64</div><div class='xr-var-preview xr-preview'>1</div><input id='attrs-49c8fce1-b4d7-41cf-8aa6-fd6fea63f89e' class='xr-var-attrs-in' type='checkbox' disabled><label for='attrs-49c8fce1-b4d7-41cf-8aa6-fd6fea63f89e' title='Show/Hide attributes'><svg class='icon xr-icon-file-text2'><use xlink:href='#icon-file-text2'></use></svg></label><input id='data-74fce9cd-039c-46d5-af64-6e5b4f81932b' class='xr-var-data-in' type='checkbox'><label for='data-74fce9cd-039c-46d5-af64-6e5b4f81932b' title='Show/Hide data repr'><svg class='icon xr-icon-database'><use xlink:href='#icon-database'></use></svg></label><div class='xr-var-attrs'><dl class='xr-attrs'></dl></div><div class='xr-var-data'><pre>array([1])</pre></div></li><li class='xr-var-item'><div class='xr-var-name'><span class='xr-has-index'>y</span></div><div class='xr-var-dims'>(y)</div><div class='xr-var-dtype'>int64</div><div class='xr-var-preview xr-preview'>0 1 2 3 4 ... 3781 3782 3783 3784</div><input id='attrs-44ffa904-ecdb-41cc-bb2e-ad96dd41a78b' class='xr-var-attrs-in' type='checkbox' disabled><label for='attrs-44ffa904-ecdb-41cc-bb2e-ad96dd41a78b' title='Show/Hide attributes'><svg class='icon xr-icon-file-text2'><use xlink:href='#icon-file-text2'></use></svg></label><input id='data-97991c16-ff72-49b9-835d-bac36bee59f3' class='xr-var-data-in' type='checkbox'><label for='data-97991c16-ff72-49b9-835d-bac36bee59f3' title='Show/Hide data repr'><svg class='icon xr-icon-database'><use xlink:href='#icon-database'></use></svg></label><div class='xr-var-attrs'><dl class='xr-attrs'></dl></div><div class='xr-var-data'><pre>array([   0,    1,    2, ..., 3782, 3783, 3784])</pre></div></li><li class='xr-var-item'><div class='xr-var-name'><span class='xr-has-index'>x</span></div><div class='xr-var-dims'>(x)</div><div class='xr-var-dtype'>int64</div><div class='xr-var-preview xr-preview'>0 1 2 3 4 ... 3781 3782 3783 3784</div><input id='attrs-4afb4366-c2fc-4860-9227-537860082f87' class='xr-var-attrs-in' type='checkbox' disabled><label for='attrs-4afb4366-c2fc-4860-9227-537860082f87' title='Show/Hide attributes'><svg class='icon xr-icon-file-text2'><use xlink:href='#icon-file-text2'></use></svg></label><input id='data-aa7623ec-ce27-4e32-91ed-e2a1aa820375' class='xr-var-data-in' type='checkbox'><label for='data-aa7623ec-ce27-4e32-91ed-e2a1aa820375' title='Show/Hide data repr'><svg class='icon xr-icon-database'><use xlink:href='#icon-database'></use></svg></label><div class='xr-var-attrs'><dl class='xr-attrs'></dl></div><div class='xr-var-data'><pre>array([   0,    1,    2, ..., 3782, 3783, 3784])</pre></div></li></ul></div></li><li class='xr-section-item'><input id='section-194e8ef7-5e41-4fc7-9e91-72e75bf89599' class='xr-section-summary-in' type='checkbox'  checked><label for='section-194e8ef7-5e41-4fc7-9e91-72e75bf89599' class='xr-section-summary' >Data variables: <span>(3)</span></label><div class='xr-section-inline-details'></div><div class='xr-section-details'><ul class='xr-var-list'><li class='xr-var-item'><div class='xr-var-name'><span>image</span></div><div class='xr-var-dims'>(readout_time, y, x)</div><div class='xr-var-dtype'>uint32</div><div class='xr-var-preview xr-preview'>3 1 1 3 5 5 6 6 ... 9 6 7 11 6 10 8</div><input id='attrs-572eeae6-a095-4cda-a8ec-8d1d41a73475' class='xr-var-attrs-in' type='checkbox' disabled><label for='attrs-572eeae6-a095-4cda-a8ec-8d1d41a73475' title='Show/Hide attributes'><svg class='icon xr-icon-file-text2'><use xlink:href='#icon-file-text2'></use></svg></label><input id='data-b9160754-9e98-419e-a572-1bea3d744680' class='xr-var-data-in' type='checkbox'><label for='data-b9160754-9e98-419e-a572-1bea3d744680' title='Show/Hide data repr'><svg class='icon xr-icon-database'><use xlink:href='#icon-database'></use></svg></label><div class='xr-var-attrs'><dl class='xr-attrs'></dl></div><div class='xr-var-data'><pre>array([[[ 3,  1,  1, ...,  8,  4, 12],\n",
              "        [ 7,  3,  4, ...,  2,  4, 10],\n",
              "        [ 3,  4,  4, ...,  3,  3, 11],\n",
              "        ...,\n",
              "        [ 3,  4,  4, ...,  7,  6,  8],\n",
              "        [ 6,  6,  5, ...,  4,  6,  6],\n",
              "        [ 6,  7,  7, ...,  6, 10,  8]]], dtype=uint32)</pre></div></li><li class='xr-var-item'><div class='xr-var-name'><span>signal</span></div><div class='xr-var-dims'>(readout_time, y, x)</div><div class='xr-var-dtype'>float64</div><div class='xr-var-preview xr-preview'>0.0003276 0.0001241 ... 0.001178</div><input id='attrs-43e84d14-1356-49e0-85bc-f1b20394c5c6' class='xr-var-attrs-in' type='checkbox' disabled><label for='attrs-43e84d14-1356-49e0-85bc-f1b20394c5c6' title='Show/Hide attributes'><svg class='icon xr-icon-file-text2'><use xlink:href='#icon-file-text2'></use></svg></label><input id='data-9cf1c8a3-f296-467c-b50b-e0455978fdf1' class='xr-var-data-in' type='checkbox'><label for='data-9cf1c8a3-f296-467c-b50b-e0455978fdf1' title='Show/Hide data repr'><svg class='icon xr-icon-database'><use xlink:href='#icon-database'></use></svg></label><div class='xr-var-attrs'><dl class='xr-attrs'></dl></div><div class='xr-var-data'><pre>array([[[0.0003276 , 0.00012412, 0.0001116 , ..., 0.00117454,\n",
              "         0.00052667, 0.00181623],\n",
              "        [0.00104064, 0.00038883, 0.00051176, ..., 0.00016039,\n",
              "         0.00055734, 0.00151644],\n",
              "        [0.00043891, 0.00045926, 0.00057021, ..., 0.00034983,\n",
              "         0.00044579, 0.00156218],\n",
              "        ...,\n",
              "        [0.00032826, 0.00048738, 0.00053854, ..., 0.00095701,\n",
              "         0.00084853, 0.00107265],\n",
              "        [0.00087109, 0.0008776 , 0.00063934, ..., 0.00054494,\n",
              "         0.00086637, 0.00085494],\n",
              "        [0.00085611, 0.0010349 , 0.00103592, ..., 0.00083342,\n",
              "         0.00151599, 0.00117832]]])</pre></div></li><li class='xr-var-item'><div class='xr-var-name'><span>pixel</span></div><div class='xr-var-dims'>(readout_time, y, x)</div><div class='xr-var-dtype'>float64</div><div class='xr-var-preview xr-preview'>1.092 0.4137 0.372 ... 5.053 3.928</div><input id='attrs-8704fff1-0dff-4784-b9b0-72dd5c9cf5bd' class='xr-var-attrs-in' type='checkbox' disabled><label for='attrs-8704fff1-0dff-4784-b9b0-72dd5c9cf5bd' title='Show/Hide attributes'><svg class='icon xr-icon-file-text2'><use xlink:href='#icon-file-text2'></use></svg></label><input id='data-8c01d45d-3ab5-4770-a41d-12533d8801f6' class='xr-var-data-in' type='checkbox'><label for='data-8c01d45d-3ab5-4770-a41d-12533d8801f6' title='Show/Hide data repr'><svg class='icon xr-icon-database'><use xlink:href='#icon-database'></use></svg></label><div class='xr-var-attrs'><dl class='xr-attrs'></dl></div><div class='xr-var-data'><pre>array([[[1.09201225, 0.41374696, 0.37200407, ..., 3.91512868,\n",
              "         1.75555402, 6.05410485],\n",
              "        [3.46880326, 1.29609097, 1.70585486, ..., 0.53464196,\n",
              "         1.85778455, 5.05479518],\n",
              "        [1.46304443, 1.53087829, 1.90069159, ..., 1.16611359,\n",
              "         1.4859776 , 5.20727131],\n",
              "        ...,\n",
              "        [1.09420579, 1.62460762, 1.79513154, ..., 3.19004449,\n",
              "         2.82841776, 3.57551635],\n",
              "        [2.90363805, 2.92532074, 2.13112771, ..., 1.81645479,\n",
              "         2.88791567, 2.8498048 ],\n",
              "        [2.8537116 , 3.44965071, 3.45306236, ..., 2.77805694,\n",
              "         5.05329542, 3.92772422]]])</pre></div></li></ul></div></li><li class='xr-section-item'><input id='section-d7d2902b-9218-443f-bb1f-9f3645814adf' class='xr-section-summary-in' type='checkbox' disabled ><label for='section-d7d2902b-9218-443f-bb1f-9f3645814adf' class='xr-section-summary'  title='Expand/collapse section'>Attributes: <span>(0)</span></label><div class='xr-section-inline-details'></div><div class='xr-section-details'><dl class='xr-attrs'></dl></div></li></ul></div></div>"
            ]
          },
          "metadata": {},
          "execution_count": 34
        }
      ]
    },
    {
      "cell_type": "code",
      "source": [
        "plt.imshow(result.pixel.data[0], cmap = 'jet', norm = col.LogNorm());"
      ],
      "metadata": {
        "colab": {
          "base_uri": "https://localhost:8080/",
          "height": 269
        },
        "id": "VvHKy1AwWzJN",
        "outputId": "ce8f105e-80b5-4bd6-f09e-d636757b332c"
      },
      "execution_count": null,
      "outputs": [
        {
          "output_type": "display_data",
          "data": {
            "text/plain": [
              "<Figure size 432x288 with 1 Axes>"
            ],
            "image/png": "[encoded data removed]"
          },
          "metadata": {
            "needs_background": "light"
          }
        }
      ]
    },
    {
      "cell_type": "code",
      "source": [
        "result.pixel.data[0].max()"
      ],
      "metadata": {
        "colab": {
          "base_uri": "https://localhost:8080/"
        },
        "id": "iHFQNu1XDXuC",
        "outputId": "9ec21f10-abd3-49e6-a4bd-7a0c17b8c492"
      },
      "execution_count": null,
      "outputs": [
        {
          "output_type": "execute_result",
          "data": {
            "text/plain": [
              "100000.0"
            ]
          },
          "metadata": {},
          "execution_count": 36
        }
      ]
    },
    {
      "cell_type": "code",
      "source": [
        "hdu = fits.PrimaryHDU(result.pixel.data[0])\n",
        "hdul = fits.HDUList(hdu)\n",
        "hdul.writeto('pyxel.fits')"
      ],
      "metadata": {
        "id": "xVLRft1CgyBX"
      },
      "execution_count": null,
      "outputs": []
    },
    {
      "cell_type": "markdown",
      "source": [
        "# **Photometry**"
      ],
      "metadata": {
        "id": "FdY_TSpUMsOA"
      }
    },
    {
      "cell_type": "code",
      "source": [
        "c = SkyCoord(psf3.df['ra'],psf3.df['dec'],unit=u.deg)\n",
        "data       = psf3.readout\n",
        "wcs        = psf3.wcs\n",
        "pix        = wcs.world_to_array_index(c)\n",
        "\n",
        "position     = [(i,j) for i,j in zip(pix[1],pix[0])]\n",
        "\n",
        "aperture        = CircularAperture(position, r=0.3/0.1)\n",
        "ap_pix          = np.count_nonzero(aperture.to_mask()[0])\n",
        "aperture_bag    = aper.CircularAnnulus(position, r_in = 0.5/0.1, r_out = 1/0.1)\n",
        "bag_pix         = np.count_nonzero(aperture_bag.to_mask()[0])\n",
        "\n",
        "bag_mask        = aperture_bag.to_mask()[0]\n",
        "bag_flux        = bag_mask.get_values(data)\n",
        "\n",
        "# Median bag flux\n",
        "bag_flux_med    = np.sort(bag_flux)[len(bag_flux)//2]\n",
        "\n",
        "phot_table_on   = aperture_photometry(data , [aperture, aperture_bag])\n",
        "\n",
        "phot_table_on['sky_flux'] = ap_pix*bag_flux_med\n",
        "\n",
        "phot_table_on['flux']     = phot_table_on['aperture_sum_0'].value - phot_table_on['sky_flux'].value\n",
        "\n",
        "phot_table_on['flux_err'] = np.sqrt( (phot_table_on['flux'].value + phot_table_on['sky_flux'].value ))\n",
        "\n",
        "phot_table_on['SNR']      = (phot_table_on['flux'].value)/phot_table_on['flux_err'].value \n",
        "phot_table_on['mag_in']   = psf.df.mag_nuv\n",
        "\n",
        "phot_table_on['mag_0.3']  = -2.5*np.log10(phot_table_on['flux'].value/(821562478.8712546*psf.exp_time))\n",
        "phot_table_on['mag_err']  = 1.087*phot_table_on['flux_err'].value/phot_table_on['flux'].value\n",
        "phot_table_on"
      ],
      "metadata": {
        "colab": {
          "base_uri": "https://localhost:8080/",
          "height": 142
        },
        "id": "9HDWP3ZWNUg6",
        "outputId": "94f91680-5265-4374-bfdf-bf9f8fb8ead0"
      },
      "execution_count": null,
      "outputs": [
        {
          "output_type": "execute_result",
          "data": {
            "text/plain": [
              "<QTable length=1>\n",
              "  id  xcenter ycenter ... mag_in      mag_0.3            mag_err      \n",
              "        pix     pix   ...                                             \n",
              "int64 float64 float64 ... int64       float64            float64      \n",
              "----- ------- ------- ... ------ ------------------ ------------------\n",
              "    1   101.0   101.0 ...     23 25.712648604194527 2.3822977093166284"
            ],
            "text/html": [
              "<div><i>QTable length=1</i>\n",
              "<table id=\"table139845507537488\" class=\"table-striped table-bordered table-condensed\">\n",
              "<thead><tr><th>id</th><th>xcenter</th><th>ycenter</th><th>aperture_sum_0</th><th>aperture_sum_1</th><th>sky_flux</th><th>flux</th><th>flux_err</th><th>SNR</th><th>mag_in</th><th>mag_0.3</th><th>mag_err</th></tr></thead>\n",
              "<thead><tr><th></th><th>pix</th><th>pix</th><th></th><th></th><th></th><th></th><th></th><th></th><th></th><th></th><th></th></tr></thead>\n",
              "<thead><tr><th>int64</th><th>float64</th><th>float64</th><th>float64</th><th>float64</th><th>float64</th><th>float64</th><th>float64</th><th>float64</th><th>int64</th><th>float64</th><th>float64</th></tr></thead>\n",
              "<tr><td>1</td><td>101.0</td><td>101.0</td><td>3140.4927038699702</td><td>16585.63808066534</td><td>3114.9226051154023</td><td>25.57009875456788</td><td>56.04009907084364</td><td>0.4562821832674348</td><td>23</td><td>25.712648604194527</td><td>2.3822977093166284</td></tr>\n",
              "</table></div>"
            ]
          },
          "metadata": {},
          "execution_count": 73
        }
      ]
    },
    {
      "cell_type": "code",
      "source": [
        "plt.figure(figsize = (15,8))\n",
        "plt.plot(phot_table_off['mag_in'].value, phot_table_off['SNR'].value, '-o')\n",
        "plt.plot(phot_table_on['mag_in'].value, phot_table_on['SNR'].value, '-o')\n",
        "\n",
        "plt.legend(['Off axis', 'On axis'])\n",
        "plt.xlabel('ABmag')\n",
        "plt.ylabel('SNR')\n",
        "plt.yscale('log')\n",
        "plt.title(f\"ABmag vs SNR for exposure time of {psf.exp_time} seconds\")"
      ],
      "metadata": {
        "colab": {
          "base_uri": "https://localhost:8080/",
          "height": 531
        },
        "id": "pTDprjOiRV1N",
        "outputId": "190f75cb-5d66-4bbd-a4b7-1a9168277c63"
      },
      "execution_count": null,
      "outputs": [
        {
          "output_type": "execute_result",
          "data": {
            "text/plain": [
              "Text(0.5, 1.0, 'ABmag vs SNR for exposure time of 5000 seconds')"
            ]
          },
          "metadata": {},
          "execution_count": 50
        },
        {
          "output_type": "display_data",
          "data": {
            "text/plain": [
              "<Figure size 1080x576 with 1 Axes>"
            ],
            "image/png": "[encoded data removed]"
          },
          "metadata": {
            "needs_background": "light"
          }
        }
      ]
    },
    {
      "cell_type": "code",
      "source": [
        "plt.figure(figsize = (15,8))\n",
        "plt.plot(phot_table_off['mag_in'].value, phot_table_off['mag_0.3'].value- phot_table_off['mag_in'].value, 'o')\n",
        "plt.plot(phot_table_on['mag_in'].value, phot_table_on['mag_0.3'].value - phot_table_on['mag_in'].value, 'o')\n",
        "\n",
        "plt.legend(['Off axis', 'On axis'])\n",
        "plt.xlabel('ABmag')\n",
        "plt.ylabel('ABmag Diff(Output - Input')\n",
        "plt.yscale('log')\n",
        "plt.title(f\"ABmag vs ABmag diff for exposure time of {psf.exp_time} seconds\")"
      ],
      "metadata": {
        "colab": {
          "base_uri": "https://localhost:8080/",
          "height": 531
        },
        "id": "VwV03qpgT4Rb",
        "outputId": "a4522bb7-03cc-4e68-da3d-6b0710822c61"
      },
      "execution_count": null,
      "outputs": [
        {
          "output_type": "execute_result",
          "data": {
            "text/plain": [
              "Text(0.5, 1.0, 'ABmag vs ABmag diff for exposure time of 5000 seconds')"
            ]
          },
          "metadata": {},
          "execution_count": 51
        },
        {
          "output_type": "display_data",
          "data": {
            "text/plain": [
              "<Figure size 1080x576 with 1 Axes>"
            ],
            "image/png": "[encoded data removed]"
          },
          "metadata": {
            "needs_background": "light"
          }
        }
      ]
    },
    {
      "cell_type": "code",
      "source": [
        "sky_flux_diff = phot_table_on['sky_flux'].value[1] -phot_table_off['sky_flux'].value[1]\n",
        "\n",
        "-2.5*np.log10(sky_flux_diff/(821562478.8712546*psf.exp_time))"
      ],
      "metadata": {
        "id": "lW6qpRIyUJqf",
        "colab": {
          "base_uri": "https://localhost:8080/"
        },
        "outputId": "bb654648-772f-4979-8476-df50125b1f91"
      },
      "execution_count": null,
      "outputs": [
        {
          "output_type": "execute_result",
          "data": {
            "text/plain": [
              "26.24499230952706"
            ]
          },
          "metadata": {},
          "execution_count": 52
        }
      ]
    },
    {
      "cell_type": "code",
      "source": [
        ""
      ],
      "metadata": {
        "id": "y6L6j1nfsU0K"
      },
      "execution_count": null,
      "outputs": []
    },
    {
      "cell_type": "code",
      "source": [
        "16:02:51.17"
      ],
      "metadata": {
        "colab": {
          "base_uri": "https://localhost:8080/",
          "height": 135
        },
        "id": "WU5ahf-RpKBc",
        "outputId": "9e24aa2c-813a-4b02-c693-75fca26ae244"
      },
      "execution_count": null,
      "outputs": [
        {
          "output_type": "error",
          "ename": "SyntaxError",
          "evalue": "ignored",
          "traceback": [
            "\u001b[0;36m  File \u001b[0;32m\"<ipython-input-1-d9c64e07af61>\"\u001b[0;36m, line \u001b[0;32m1\u001b[0m\n\u001b[0;31m    16:02:51.17\u001b[0m\n\u001b[0m        ^\u001b[0m\n\u001b[0;31mSyntaxError\u001b[0m\u001b[0;31m:\u001b[0m invalid token\n"
          ]
        }
      ]
    },
    {
      "cell_type": "code",
      "source": [
        "16 + 2/60 + 51.17/3600"
      ],
      "metadata": {
        "colab": {
          "base_uri": "https://localhost:8080/"
        },
        "id": "wLdUfvjQpLIR",
        "outputId": "9bed038c-c692-4a33-8e1f-35053ab90a8b"
      },
      "execution_count": null,
      "outputs": [
        {
          "output_type": "execute_result",
          "data": {
            "text/plain": [
              "16.047547222222224"
            ]
          },
          "metadata": {},
          "execution_count": 2
        }
      ]
    },
    {
      "cell_type": "code",
      "source": [
        "16.047547222222224*15"
      ],
      "metadata": {
        "colab": {
          "base_uri": "https://localhost:8080/"
        },
        "id": "uOaG-NtnpSli",
        "outputId": "0531a34b-8b07-4ad3-8b5c-88b4eb16c0df"
      },
      "execution_count": null,
      "outputs": [
        {
          "output_type": "execute_result",
          "data": {
            "text/plain": [
              "240.71320833333337"
            ]
          },
          "metadata": {},
          "execution_count": 3
        }
      ]
    },
    {
      "cell_type": "code",
      "source": [
        "-24:01:50.45"
      ],
      "metadata": {
        "id": "wosTNH1FpUv8"
      },
      "execution_count": null,
      "outputs": []
    },
    {
      "cell_type": "code",
      "source": [
        "24 + 1/60 + 50.45/3600"
      ],
      "metadata": {
        "colab": {
          "base_uri": "https://localhost:8080/"
        },
        "id": "Zk-ozEZBpewe",
        "outputId": "dc0cd905-e3c5-4708-909d-2d1abee92a62"
      },
      "execution_count": null,
      "outputs": [
        {
          "output_type": "execute_result",
          "data": {
            "text/plain": [
              "24.030680555555556"
            ]
          },
          "metadata": {},
          "execution_count": 4
        }
      ]
    },
    {
      "cell_type": "code",
      "source": [
        ""
      ],
      "metadata": {
        "id": "EBudByWhpiOI"
      },
      "execution_count": null,
      "outputs": []
    }
  ]
}