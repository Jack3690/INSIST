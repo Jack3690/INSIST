{
  "nbformat": 4,
  "nbformat_minor": 0,
  "metadata": {
    "orig_nbformat": 4,
    "colab": {
      "name": "PSF Simulator.ipynb",
      "provenance": [],
      "collapsed_sections": []
    },
    "kernelspec": {
      "display_name": "Python 3 (ipykernel)",
      "language": "python",
      "name": "python3"
    },
    "language_info": {
      "codemirror_mode": {
        "name": "ipython",
        "version": 3
      },
      "file_extension": ".py",
      "mimetype": "text/x-python",
      "name": "python",
      "nbconvert_exporter": "python",
      "pygments_lexer": "ipython3",
      "version": "3.7.10"
    }
  },
  "cells": [
    {
      "cell_type": "code",
      "metadata": {
        "id": "FuIcrEMwRAi7",
        "trusted": true
      },
      "source": [
        "import numpy as np\n",
        "import pandas as pd\n",
        "import matplotlib\n",
        "import matplotlib.pyplot as plt\n",
        "import seaborn as sb\n",
        "\n",
        "import requests\n",
        "\n",
        "import os\n",
        "from ipywidgets import widgets\n",
        "from IPython.display import  FileLink\n",
        "from time import perf_counter\n",
        "import json\n",
        "\n",
        "# get the WSID and password if not already defined\n",
        "if not os.environ.get('CASJOBS_USERID'):\n",
        "    os.environ['CASJOBS_USERID'] = \"avinashck90\"\n",
        "if not os.environ.get('CASJOBS_PW'):\n",
        "    os.environ['CASJOBS_PW'] = \"INSIST369\"\n",
        "\n",
        "from astropy import units as u\n",
        "from astropy.coordinates import SkyCoord\n",
        "from astropy.stats import gaussian_fwhm_to_sigma, gaussian_sigma_to_fwhm\n",
        "from astropy.modeling import models, fitting\n",
        "from astropy.visualization import LogStretch\n",
        "from astropy.visualization.mpl_normalize import ImageNormalize\n",
        "from astropy import wcs\n",
        "from astropy.io import fits\n",
        "from matplotlib import cm\n",
        "from matplotlib.colors import ListedColormap, LinearSegmentedColormap\n",
        "\n",
        "sb.set_style('dark')\n",
        "matplotlib.rcParams['font.size']=12\n",
        "matplotlib.rcParams['figure.figsize']=(10,10)"
      ],
      "execution_count": null,
      "outputs": []
    },
    {
      "cell_type": "code",
      "metadata": {
        "trusted": true,
        "id": "hJ5CnZS7vX-f"
      },
      "source": [
        "if not os.path.exists('mastcasjobs'):\n",
        "    os.system(\"pip install git+https://github.com/rlwastro/mastcasjobs@master --quiet\")"
      ],
      "execution_count": null,
      "outputs": []
    },
    {
      "cell_type": "code",
      "metadata": {
        "trusted": true,
        "id": "p8gOW5AuvX-h"
      },
      "source": [
        "import mastcasjobs"
      ],
      "execution_count": null,
      "outputs": []
    },
    {
      "cell_type": "code",
      "metadata": {
        "trusted": true,
        "id": "H5Rq9LpGvX-i"
      },
      "source": [
        "def mastQuery(request, json_return=False):\n",
        "    \"\"\"Perform a MAST query.\n",
        "\n",
        "    Parameters\n",
        "    ----------\n",
        "    request (dictionary): The MAST request json object\n",
        "    \n",
        "    Returns the text response or (if json_return=True) the json response\n",
        "    \"\"\"\n",
        "    \n",
        "    url = \"https://mast.stsci.edu/api/v0/invoke\"\n",
        "\n",
        "    # Encoding the request as a json string\n",
        "    requestString = json.dumps(request)\n",
        "    \n",
        "    # make the query\n",
        "    r = requests.post(url, data=dict(request=requestString))\n",
        "    \n",
        "    # raise exception on error\n",
        "    r.raise_for_status()\n",
        "    \n",
        "    if json_return:\n",
        "        return r.json()\n",
        "    else:\n",
        "        return r.text\n",
        "\n",
        "\n",
        "def resolve(name):\n",
        "    \"\"\"Get the RA and Dec for an object using the MAST name resolver\n",
        "    \n",
        "    Parameters\n",
        "    ----------\n",
        "    name (str): Name of object\n",
        "\n",
        "    Returns RA, Dec tuple with position\"\"\"\n",
        "\n",
        "    resolverRequest = {'service':'Mast.Name.Lookup',\n",
        "                       'params':{'input':name,\n",
        "                                 'format':'json'\n",
        "                                },\n",
        "                      }\n",
        "    resolvedObject = mastQuery(resolverRequest, json_return=True)\n",
        "    # The resolver returns a variety of information about the resolved object, \n",
        "    # however for our purposes all we need are the RA and Dec\n",
        "    try:\n",
        "        objRa = resolvedObject['resolvedCoordinate'][0]['ra']\n",
        "        objDec = resolvedObject['resolvedCoordinate'][0]['decl']\n",
        "    except IndexError as e:\n",
        "        raise ValueError(\"Unknown object '{}'\".format(name))\n",
        "    return (objRa, objDec)"
      ],
      "execution_count": null,
      "outputs": []
    },
    {
      "cell_type": "code",
      "metadata": {
        "trusted": true,
        "id": "qo3AXm3TvX-j"
      },
      "source": [
        "class PSF_gen():\n",
        "    def __init__(self,name,pixel_scale=0.1,fwhm_in=0.2,n_pix_main=8000,n_pix_sub=200):\n",
        "        self.name = name\n",
        "        self.ra,self.dec = resolve(name)\n",
        "        self.pixel_scale = pixel_scale\n",
        "        self.fwhm = fwhm_in/pixel_scale\n",
        "        self.n_pix_main = n_pix_main\n",
        "        self.n_pix_sub = n_pix_sub\n",
        "        self.jobs = mastcasjobs.MastCasJobs(context=\"GALEX_Catalogs\")\n",
        "        self.query =   f\"\"\"SELECT ra,dec,mag_nuv,mag_fuv \n",
        "                            FROM\n",
        "                            gcat_asc\n",
        "                            WHERE\n",
        "                            ra BETWEEN {self.ra} -0.1 AND {self.ra}+0.1\n",
        "                            AND \n",
        "                            dec BETWEEN {self.dec}-0.1 AND {self.dec}+0.1\n",
        "                        \"\"\"\n",
        "        self.df = self.jobs.quick(self.query, task_name=\"python cone search\").to_pandas()\n",
        "        self.wcs = self.create_wcs()\n",
        "        self.df_field = self.create_field()\n",
        "        self.image = None\n",
        "        \n",
        "    def create_wcs(self):\n",
        "        w = wcs.WCS(naxis=2)\n",
        "        w.wcs.crpix = [self.n_pix_main//2,self.n_pix_main//2]\n",
        "        w.wcs.cdelt = np.array([self.pixel_scale/3600, self.pixel_scale/3600])\n",
        "        w.wcs.crval = [self.ra, self.dec]\n",
        "        w.wcs.ctype = [\"RA---TAN\", \"DEC--TAN\"]\n",
        "        return w\n",
        "    def create_field(self):\n",
        "        field_ra_min  = self.ra  - 0.5*self.n_pix_main*self.pixel_scale/3600 + 0.5*self.n_pix_sub*self.pixel_scale/3600\n",
        "        field_ra_max  = self.ra  + 0.5*self.n_pix_main*self.pixel_scale/3600 - 0.5*self.n_pix_sub*self.pixel_scale/3600\n",
        "        field_dec_min = self.dec - 0.5*self.n_pix_main*self.pixel_scale/3600 + 0.5*self.n_pix_sub*self.pixel_scale/3600\n",
        "        field_dec_max = self.dec + 0.5*self.n_pix_main*self.pixel_scale/3600 - 0.5*self.n_pix_sub*self.pixel_scale/3600\n",
        "\n",
        "        df_field = self.df[(self.df['ra']>field_ra_min) &(self.df['ra']<field_ra_max) &(self.df['dec']>field_dec_min) &(self.df['dec']<field_dec_max)]\n",
        "        return df_field\n",
        "    \n",
        "    def show_field(self,figsize=(10,10)):\n",
        "        \n",
        "        fig, ax = plt.subplots(1,1,figsize=figsize)\n",
        "        ax.scatter(self.df_field['ra'],self.df_field['dec'],marker='.',color='black')\n",
        "        ax.set_title(f\" Requested Center : {self.name} \\n FoV : {np.round(self.pixel_scale*self.n_pix_main/3600,3)} degrees | {len(self.df_field)} sources\")\n",
        "        ax.invert_xaxis()\n",
        "        ax.set_xlabel('RA (Degrees)')\n",
        "        ax.set_ylabel('Dec (Degrees)')\n",
        "        plt.show()\n",
        "        return fig, ax\n",
        "        \n",
        "    def generate_psf(self):\n",
        "        n_pix_sub = self.n_pix_sub\n",
        "        image_g_main = np.zeros((self.n_pix_main,self.n_pix_main))\n",
        "        f=[]\n",
        "        for i, row in self.df_field.iterrows():\n",
        "            c = SkyCoord(row['ra'],row['dec'],unit=u.deg)\n",
        "            pix = self.wcs.world_to_array_index(c)\n",
        "\n",
        "            ABmag = row['mag_nuv']\n",
        "            flux = 3631*10**(-ABmag/2.5)\n",
        "            f.append(flux)     \n",
        "            sigma_psf = self.fwhm*gaussian_fwhm_to_sigma\n",
        "\n",
        "            amplitude = flux/(sigma_psf**2*2*np.pi)\n",
        "            model_gauss = models.Gaussian2D(amplitude,n_pix_sub//2 , n_pix_sub//2 , sigma_psf, sigma_psf)\n",
        "            y, x  = np.mgrid[0:(n_pix_sub), 0:(n_pix_sub)]\n",
        "\n",
        "            image_g_sub = model_gauss(x,y)\n",
        "\n",
        "            image_g_main[pix[0]-n_pix_sub//2:pix[0]+n_pix_sub//2,pix[1]-n_pix_sub//2:pix[1]+n_pix_sub//2]+=image_g_sub\n",
        "        if np.round(np.array(f).sum(),4)!= np.round(image_g_main.sum(),4):\n",
        "            print(\"Patch width is too small\")\n",
        "        self.image = image_g_main\n",
        "\n",
        "    def show_image(self):\n",
        "        if np.all(self.image) !=None:\n",
        "            fig = plt.figure(figsize = (15,10))\n",
        "            ax = fig.add_subplot(projection=self.wcs)\n",
        "            image = self.image.astype(np.float32)\n",
        "            ax.imshow(image,cmap='gray',vmin = 1e-11,vmax = 5.5e-9 )\n",
        "            ax.set_title(f'Requested center : {self.name}\\n Pixel Scale : {self.pixel_scale} arcseconds/pixel | FWHM = {self.fwhm*self.pixel_scale} arcsecs')\n",
        "            ax.invert_xaxis()\n",
        "            plt.show()\n",
        "            return fig,ax\n",
        "        else:\n",
        "            print(\"Generate PSF\")\n",
        "    def writeto(self,name):\n",
        "        if np.all(self.image) !=None:\n",
        "            hdu = fits.PrimaryHDU(self.image.astype(np.float32))\n",
        "            hdu.wcs= self.wcs\n",
        "            hdul = fits.HDUList([hdu])\n",
        "            hdul.writeto(f'{name}.fits')\n",
        "        else:\n",
        "            print(\"Generate PSF\")\n"
      ],
      "execution_count": null,
      "outputs": []
    },
    {
      "cell_type": "markdown",
      "metadata": {
        "id": "shwu5mC3nR_A"
      },
      "source": [
        "# **PSF Generator using MAST CasJobs**\n"
      ]
    },
    {
      "cell_type": "code",
      "metadata": {
        "trusted": true,
        "colab": {
          "referenced_widgets": [
            "8b1e4779f4ef4e4faeed928b87ea51c7",
            "8436ffe1e142418c98ac1fc5e0f14705",
            "261700eb46074bf2a91511b34d9423a8",
            "6582d9068bad44a7af89db9d7e98bd20",
            "e096f6577e05428aa75d2bd5cb6a722e",
            "4622b9ecd88447b7b330fb11ddb830e5",
            "7939f5d3bc2a4a908225c6b4e9f397b3",
            "3778873960dd48f8b43b6689890a3e09"
          ]
        },
        "id": "7KrwVC2HvX-p",
        "outputId": "87c17ccc-7dc3-4427-e2a2-a3fef239ee70"
      },
      "source": [
        "l1 = widgets.Label(\"Enter Source name or coordinates(Eg. M 67, 06h 03m 20s 42 18 00)\")\n",
        "display(l1)\n",
        "name = widgets.Text()\n",
        "display(name)\n",
        "\n",
        "l2 = widgets.Label(\"Enter Pixel scale of detector (arcseconds/pixels)\")\n",
        "display(l2)\n",
        "ps = widgets.Text()\n",
        "display(ps)\n",
        "\n",
        "\n",
        "l3 = widgets.Label(\"Enter FWHM of the PSF (arcseconds)\" )\n",
        "display(l3)\n",
        "fwhm = widgets.Text()\n",
        "display(fwhm)\n",
        "btn = widgets.Button(description=\"Submit\")\n",
        "\n",
        "btn_show_image = widgets.Button(description = \"Show Image\")\n",
        "\n",
        "btn_dn = widgets.Button(description = \"Download FITS\")\n",
        "buttons = widgets.HBox([btn_show_image,btn_dn])\n",
        "\n",
        "display(btn)\n",
        "\n",
        "output = widgets.Output()\n",
        "\n",
        "@output.capture(clear_output=True,wait=True)\n",
        "\n",
        "def submit(b):\n",
        "    l4= widgets.Label(\"Loading sources in the field...\",font_size=75)\n",
        "    display(l4)\n",
        "    \n",
        "    start=perf_counter()\n",
        "    if len(ps.value)<1 or np.all(np.char.isnumeric(ps.value.split('.')))!=True:\n",
        "        pixel_scale = 0.1\n",
        "        l5= widgets.Label(\"Default Pixel Scale : 0.1 set\")\n",
        "        display(l5)\n",
        "            \n",
        "    else:\n",
        "        pixel_scale = float(ps.value)\n",
        "        \n",
        "    if len(fwhm.value)<1 or np.all(np.char.isnumeric(fwhm.value.split('.')))!=True:\n",
        "        fwhm_in = 0.3\n",
        "        l5= widgets.Label(\"Default FWHM : 0.3 set\")\n",
        "        display(l5)\n",
        "    else:\n",
        "        fwhm_in = float(fwhm.value)\n",
        "    \n",
        "    if len(name.value)> 2:\n",
        "        psf = PSF_gen(name.value,pixel_scale,fwhm_in,n_pix_main=8000,n_pix_sub=200)\n",
        "        psf.show_field()\n",
        "        psf.generate_psf()\n",
        "        global psf_\n",
        "        psf_ = psf\n",
        "        time_taken = perf_counter() - start\n",
        "        l5= widgets.Label(f\"Time taken : {np.round(time_taken,3)} seconds\")\n",
        "        display(l5)\n",
        "        display(buttons) \n",
        "    \n",
        "    else:\n",
        "        l5= widgets.Label(\"Incorrect source Syntax\")\n",
        "        display(l5) \n",
        "    \n",
        "\n",
        "def show(b):\n",
        "    with output:\n",
        "        l5= widgets.Label(\"Loading Image...\")\n",
        "        display(l5) \n",
        "        psf_.show_image()  \n",
        "    \n",
        "def download(b):\n",
        "    with output:\n",
        "        l5= widgets.Label(\"Coming Soon..\")\n",
        "        display(l5) \n",
        "        #psf_.writeto(f'{psf_.name}')\n",
        "        #local_file = FileLink(f'{psf_.name}.fits', result_html_prefix=\"Click here to download: \")\n",
        "        #display(local_file)\n",
        "    \n",
        "btn.on_click(submit) \n",
        "\n",
        "btn_show_image.on_click(show)\n",
        "\n",
        "btn_dn.on_click(download) \n",
        "output"
      ],
      "execution_count": null,
      "outputs": [
        {
          "output_type": "display_data",
          "data": {
            "text/plain": "Label(value='Enter Source name or coordinates(Eg. M 67, 06h 03m 20s 42 18 00)')",
            "application/vnd.jupyter.widget-view+json": {
              "version_major": 2,
              "version_minor": 0,
              "model_id": "8b1e4779f4ef4e4faeed928b87ea51c7"
            }
          },
          "metadata": {}
        },
        {
          "output_type": "display_data",
          "data": {
            "text/plain": "Text(value='')",
            "application/vnd.jupyter.widget-view+json": {
              "version_major": 2,
              "version_minor": 0,
              "model_id": "8436ffe1e142418c98ac1fc5e0f14705"
            }
          },
          "metadata": {}
        },
        {
          "output_type": "display_data",
          "data": {
            "text/plain": "Label(value='Enter Pixel scale of detector (arcseconds/pixels)')",
            "application/vnd.jupyter.widget-view+json": {
              "version_major": 2,
              "version_minor": 0,
              "model_id": "261700eb46074bf2a91511b34d9423a8"
            }
          },
          "metadata": {}
        },
        {
          "output_type": "display_data",
          "data": {
            "text/plain": "Text(value='')",
            "application/vnd.jupyter.widget-view+json": {
              "version_major": 2,
              "version_minor": 0,
              "model_id": "6582d9068bad44a7af89db9d7e98bd20"
            }
          },
          "metadata": {}
        },
        {
          "output_type": "display_data",
          "data": {
            "text/plain": "Label(value='Enter FWHM of the PSF (arcseconds)')",
            "application/vnd.jupyter.widget-view+json": {
              "version_major": 2,
              "version_minor": 0,
              "model_id": "e096f6577e05428aa75d2bd5cb6a722e"
            }
          },
          "metadata": {}
        },
        {
          "output_type": "display_data",
          "data": {
            "text/plain": "Text(value='')",
            "application/vnd.jupyter.widget-view+json": {
              "version_major": 2,
              "version_minor": 0,
              "model_id": "4622b9ecd88447b7b330fb11ddb830e5"
            }
          },
          "metadata": {}
        },
        {
          "output_type": "display_data",
          "data": {
            "text/plain": "Button(description='Submit', style=ButtonStyle())",
            "application/vnd.jupyter.widget-view+json": {
              "version_major": 2,
              "version_minor": 0,
              "model_id": "7939f5d3bc2a4a908225c6b4e9f397b3"
            }
          },
          "metadata": {}
        },
        {
          "output_type": "display_data",
          "data": {
            "text/plain": "Output()",
            "application/vnd.jupyter.widget-view+json": {
              "version_major": 2,
              "version_minor": 0,
              "model_id": "3778873960dd48f8b43b6689890a3e09"
            }
          },
          "metadata": {}
        }
      ]
    },
    {
      "cell_type": "code",
      "metadata": {
        "id": "bAO5PiZkxSMP"
      },
      "source": [
        ""
      ],
      "execution_count": null,
      "outputs": []
    }
  ]
}