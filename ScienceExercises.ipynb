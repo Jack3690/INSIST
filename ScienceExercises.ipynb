{
  "nbformat": 4,
  "nbformat_minor": 0,
  "metadata": {
    "kernelspec": {
      "display_name": "Python 3",
      "language": "python",
      "name": "python3"
    },
    "language_info": {
      "codemirror_mode": {
        "name": "ipython",
        "version": 3
      },
      "file_extension": ".py",
      "mimetype": "text/x-python",
      "name": "python",
      "nbconvert_exporter": "python",
      "pygments_lexer": "ipython3",
      "version": "3.7.9"
    },
    "colab": {
      "name": "ScienceExercises.ipynb",
      "provenance": [],
      "include_colab_link": true
    }
  },
  "cells": [
    {
      "cell_type": "markdown",
      "metadata": {
        "id": "view-in-github",
        "colab_type": "text"
      },
      "source": [
        "<a href=\"https://colab.research.google.com/github/Jack3690/Kugelblitz/blob/main/ScienceExercises.ipynb\" target=\"_parent\"><img src=\"https://colab.research.google.com/assets/colab-badge.svg\" alt=\"Open In Colab\"/></a>"
      ]
    },
    {
      "cell_type": "markdown",
      "metadata": {
        "id": "h3BvE_RAMj4k"
      },
      "source": [
        "# **SDSS Marvin on Colab**"
      ]
    },
    {
      "cell_type": "code",
      "metadata": {
        "id": "UdmKMsauMsmY",
        "outputId": "a136bde8-c139-42bf-cb96-dc56d8329802",
        "colab": {
          "base_uri": "https://localhost:8080/"
        }
      },
      "source": [
        "!pip install sdss-marvin --quiet"
      ],
      "execution_count": 1,
      "outputs": [
        {
          "output_type": "stream",
          "name": "stdout",
          "text": [
            "\u001b[?25l\r\u001b[K     |▉                               | 10 kB 26.2 MB/s eta 0:00:01\r\u001b[K     |█▋                              | 20 kB 29.7 MB/s eta 0:00:01\r\u001b[K     |██▌                             | 30 kB 25.1 MB/s eta 0:00:01\r\u001b[K     |███▎                            | 40 kB 19.3 MB/s eta 0:00:01\r\u001b[K     |████▏                           | 51 kB 9.2 MB/s eta 0:00:01\r\u001b[K     |█████                           | 61 kB 9.5 MB/s eta 0:00:01\r\u001b[K     |█████▉                          | 71 kB 7.9 MB/s eta 0:00:01\r\u001b[K     |██████▋                         | 81 kB 8.9 MB/s eta 0:00:01\r\u001b[K     |███████▌                        | 92 kB 7.7 MB/s eta 0:00:01\r\u001b[K     |████████▎                       | 102 kB 8.3 MB/s eta 0:00:01\r\u001b[K     |█████████▏                      | 112 kB 8.3 MB/s eta 0:00:01\r\u001b[K     |██████████                      | 122 kB 8.3 MB/s eta 0:00:01\r\u001b[K     |██████████▉                     | 133 kB 8.3 MB/s eta 0:00:01\r\u001b[K     |███████████▋                    | 143 kB 8.3 MB/s eta 0:00:01\r\u001b[K     |████████████▌                   | 153 kB 8.3 MB/s eta 0:00:01\r\u001b[K     |█████████████▎                  | 163 kB 8.3 MB/s eta 0:00:01\r\u001b[K     |██████████████▏                 | 174 kB 8.3 MB/s eta 0:00:01\r\u001b[K     |███████████████                 | 184 kB 8.3 MB/s eta 0:00:01\r\u001b[K     |███████████████▉                | 194 kB 8.3 MB/s eta 0:00:01\r\u001b[K     |████████████████▋               | 204 kB 8.3 MB/s eta 0:00:01\r\u001b[K     |█████████████████▌              | 215 kB 8.3 MB/s eta 0:00:01\r\u001b[K     |██████████████████▎             | 225 kB 8.3 MB/s eta 0:00:01\r\u001b[K     |███████████████████▏            | 235 kB 8.3 MB/s eta 0:00:01\r\u001b[K     |████████████████████            | 245 kB 8.3 MB/s eta 0:00:01\r\u001b[K     |████████████████████▉           | 256 kB 8.3 MB/s eta 0:00:01\r\u001b[K     |█████████████████████▋          | 266 kB 8.3 MB/s eta 0:00:01\r\u001b[K     |██████████████████████▌         | 276 kB 8.3 MB/s eta 0:00:01\r\u001b[K     |███████████████████████▎        | 286 kB 8.3 MB/s eta 0:00:01\r\u001b[K     |████████████████████████▏       | 296 kB 8.3 MB/s eta 0:00:01\r\u001b[K     |█████████████████████████       | 307 kB 8.3 MB/s eta 0:00:01\r\u001b[K     |█████████████████████████▉      | 317 kB 8.3 MB/s eta 0:00:01\r\u001b[K     |██████████████████████████▋     | 327 kB 8.3 MB/s eta 0:00:01\r\u001b[K     |███████████████████████████▌    | 337 kB 8.3 MB/s eta 0:00:01\r\u001b[K     |████████████████████████████▎   | 348 kB 8.3 MB/s eta 0:00:01\r\u001b[K     |█████████████████████████████▏  | 358 kB 8.3 MB/s eta 0:00:01\r\u001b[K     |██████████████████████████████  | 368 kB 8.3 MB/s eta 0:00:01\r\u001b[K     |██████████████████████████████▉ | 378 kB 8.3 MB/s eta 0:00:01\r\u001b[K     |███████████████████████████████▋| 389 kB 8.3 MB/s eta 0:00:01\r\u001b[K     |████████████████████████████████| 393 kB 8.3 MB/s \n",
            "\u001b[K     |████████████████████████████████| 55 kB 3.9 MB/s \n",
            "\u001b[K     |████████████████████████████████| 54 kB 3.0 MB/s \n",
            "\u001b[K     |████████████████████████████████| 284 kB 51.2 MB/s \n",
            "\u001b[K     |████████████████████████████████| 50 kB 5.3 MB/s \n",
            "\u001b[K     |████████████████████████████████| 50 kB 6.6 MB/s \n",
            "\u001b[K     |████████████████████████████████| 49 kB 5.5 MB/s \n",
            "\u001b[K     |████████████████████████████████| 1.3 MB 34.2 MB/s \n",
            "\u001b[K     |████████████████████████████████| 636 kB 67.5 MB/s \n",
            "\u001b[K     |████████████████████████████████| 525 kB 74.3 MB/s \n",
            "\u001b[K     |████████████████████████████████| 67 kB 6.5 MB/s \n",
            "\u001b[K     |████████████████████████████████| 100 kB 10.0 MB/s \n",
            "\u001b[K     |████████████████████████████████| 169 kB 77.0 MB/s \n",
            "\u001b[K     |████████████████████████████████| 548 kB 59.5 MB/s \n",
            "\u001b[K     |████████████████████████████████| 41 kB 349 kB/s \n",
            "\u001b[K     |████████████████████████████████| 40 kB 6.0 MB/s \n",
            "\u001b[K     |████████████████████████████████| 212 kB 53.3 MB/s \n",
            "\u001b[K     |████████████████████████████████| 112 kB 72.7 MB/s \n",
            "\u001b[K     |████████████████████████████████| 47 kB 5.0 MB/s \n",
            "\u001b[K     |████████████████████████████████| 241 kB 59.2 MB/s \n",
            "\u001b[?25h  Building wheel for Flask-JWT-Extended (setup.py) ... \u001b[?25l\u001b[?25hdone\n",
            "  Building wheel for python-Levenshtein (setup.py) ... \u001b[?25l\u001b[?25hdone\n",
            "  Building wheel for daemonocle (setup.py) ... \u001b[?25l\u001b[?25hdone\n",
            "  Building wheel for infinity (setup.py) ... \u001b[?25l\u001b[?25hdone\n",
            "  Building wheel for yamlordereddictloader (setup.py) ... \u001b[?25l\u001b[?25hdone\n",
            "\u001b[31mERROR: pip's dependency resolver does not currently take into account all the packages that are installed. This behaviour is the source of the following dependency conflicts.\n",
            "datascience 0.10.6 requires folium==0.2.1, but you have folium 0.8.3 which is incompatible.\n",
            "albumentations 0.1.12 requires imgaug<0.2.7,>=0.2.5, but you have imgaug 0.2.9 which is incompatible.\u001b[0m\n"
          ]
        }
      ]
    },
    {
      "cell_type": "code",
      "metadata": {
        "id": "DL7_i7CYMwtj",
        "outputId": "4b520daa-e5c3-4d6e-8bda-25cec86a79ec",
        "colab": {
          "base_uri": "https://localhost:8080/"
        }
      },
      "source": [
        "!git clone https://github.com/Jack3690/Kugelblitz"
      ],
      "execution_count": 2,
      "outputs": [
        {
          "output_type": "stream",
          "name": "stdout",
          "text": [
            "Cloning into 'Kugelblitz'...\n",
            "remote: Enumerating objects: 220, done.\u001b[K\n",
            "remote: Counting objects: 100% (220/220), done.\u001b[K\n",
            "remote: Compressing objects: 100% (201/201), done.\u001b[K\n",
            "remote: Total 220 (delta 103), reused 47 (delta 5), pack-reused 0\u001b[K\n",
            "Receiving objects: 100% (220/220), 36.92 MiB | 17.54 MiB/s, done.\n",
            "Resolving deltas: 100% (103/103), done.\n"
          ]
        }
      ]
    },
    {
      "cell_type": "markdown",
      "metadata": {
        "id": "_vOYN_GzL-Al"
      },
      "source": [
        "# **Configuring Marvin**"
      ]
    },
    {
      "cell_type": "code",
      "metadata": {
        "id": "HAO1OL7gNV3P",
        "outputId": "e0e82d60-ff75-417a-9f8b-34edbfc9b9d9",
        "colab": {
          "base_uri": "https://localhost:8080/"
        }
      },
      "source": [
        "cd Kugelblitz/"
      ],
      "execution_count": 6,
      "outputs": [
        {
          "output_type": "stream",
          "name": "stdout",
          "text": [
            "/bin/bash: line 0: cd: Kugelblitz/: No such file or directory\n"
          ]
        }
      ]
    },
    {
      "cell_type": "code",
      "metadata": {
        "id": "a2UOYvL5NIwH"
      },
      "source": [
        "!cp -a sas /root/\n",
        "\n",
        "!cp -a sas/map.py /usr/local/lib/python3.7/dist-packages/marvin/utils/plot/\n",
        "\n",
        "!mkdir  /root/sas/dr16\n",
        "!cp -a /root/sas/mangawork/manga/ /root/sas/dr16"
      ],
      "execution_count": 8,
      "outputs": []
    },
    {
      "cell_type": "markdown",
      "metadata": {
        "id": "XNd44zavMsIs"
      },
      "source": [
        "## **Imports**"
      ]
    },
    {
      "cell_type": "code",
      "metadata": {
        "id": "Yrs7jdvmIdle",
        "outputId": "2ada867b-9c1b-4b77-be15-7ffbb2d733a4",
        "colab": {
          "base_uri": "https://localhost:8080/"
        }
      },
      "source": [
        "import os\n",
        "import sys\n",
        "import requests\n",
        "import warnings\n",
        "import PIL\n",
        "import copy\n",
        "\n",
        "from matplotlib import pyplot as plt\n",
        "from matplotlib import colors\n",
        "import seaborn as sb\n",
        "import matplotlib\n",
        "import numpy as np\n",
        "from matplotlib import gridspec\n",
        "import pandas as pd\n",
        "import marvin.utils.plot.colorbar as colorbar\n",
        "from matplotlib.colors import ListedColormap\n",
        "from IPython.display import clear_output\n",
        "\n",
        "from marvin.tools.maps import Maps\n",
        "import marvin.utils.plot.map as mapplot\n",
        "from astropy.table import Table\n",
        "import astropy.units as u\n",
        "from astropy.io import ascii\n",
        "from astropy.wcs import WCS\n",
        "from astropy.coordinates import Distance\n",
        "from astropy.cosmology import WMAP9 as cosmo\n",
        "from astropy.cosmology import Planck15\n",
        "from astropy.io import fits\n",
        "from matplotlib.ticker import (MultipleLocator, AutoMinorLocator)\n",
        "if sys.version_info.major == 2:\n",
        "    from cStringIO import StringIO as stringio\n",
        "else:\n",
        "    from io import StringIO as stringio\n",
        "    from io import BytesIO as bytesio\n",
        "\n",
        "matplotlib.rcParams['figure.figsize']=(10,10)\n",
        "matplotlib.rcParams['font.size']=15\n",
        "\n",
        "#sb.set_style('dark')"
      ],
      "execution_count": 9,
      "outputs": [
        {
          "output_type": "stream",
          "name": "stderr",
          "text": [
            "/usr/local/lib/python3.7/dist-packages/marvin/core/exceptions.py:51: UserWarning: cannot initiate Sentry error reporting: [Errno 6] No such device or address.\n",
            "  UserWarning)\n",
            "\u001b[0;34m[INFO]: \u001b[0mNo release version set. Setting default to DR15\n"
          ]
        }
      ]
    },
    {
      "cell_type": "markdown",
      "metadata": {
        "heading_collapsed": "true",
        "id": "VwCtcTgHIdl2"
      },
      "source": [
        "# **Data**"
      ]
    },
    {
      "cell_type": "code",
      "metadata": {
        "id": "egDL-zwoIdl4"
      },
      "source": [
        "df = pd.read_csv('data/MaNGA_Barred_Dataset.csv')\n",
        "df"
      ],
      "execution_count": null,
      "outputs": []
    },
    {
      "cell_type": "markdown",
      "metadata": {
        "id": "VMU5PJhBONfy"
      },
      "source": [
        "## **Saving to Google Drive**"
      ]
    },
    {
      "cell_type": "code",
      "metadata": {
        "id": "HowIdUV9N88i",
        "colab": {
          "base_uri": "https://localhost:8080/"
        },
        "outputId": "3cf34b80-08a7-4e4d-8f92-02237a6d5c35"
      },
      "source": [
        "from google.colab import drive\n",
        "\n",
        "drive.mount('/content/gdrive')"
      ],
      "execution_count": 8,
      "outputs": [
        {
          "output_type": "stream",
          "name": "stdout",
          "text": [
            "Mounted at /content/gdrive\n"
          ]
        }
      ]
    },
    {
      "cell_type": "markdown",
      "metadata": {
        "id": "U2w23zaSsv_7"
      },
      "source": [
        "Choose a location in your drive"
      ]
    },
    {
      "cell_type": "code",
      "metadata": {
        "id": "l240pwbiOcYV",
        "outputId": "975ef3aa-b602-471a-db0f-81af4a30e68d",
        "colab": {
          "base_uri": "https://localhost:8080/"
        }
      },
      "source": [
        "cd '/content/gdrive/MyDrive/Star forming Bars in S0 Galaxies/SF Bar BPT'"
      ],
      "execution_count": 17,
      "outputs": [
        {
          "output_type": "stream",
          "name": "stdout",
          "text": [
            "/content/gdrive/MyDrive/Star forming Bars in S0 Galaxies/SF Bar BPT\n"
          ]
        }
      ]
    },
    {
      "cell_type": "markdown",
      "metadata": {
        "heading_collapsed": "true",
        "id": "aZyM_uwAIdmJ"
      },
      "source": [
        "# **Maps with Mapplot**"
      ]
    },
    {
      "cell_type": "code",
      "metadata": {
        "id": "DrJJDv5jIdmK"
      },
      "source": [
        "download = 1\n",
        "format = 'png'\n",
        "\n",
        "for plateifu in ['8083-3702', '9181-9101', '8553-12705', '8600-1901', '8551-9102', '8946-6102', '8335-6101', '9049-3704'] :\n",
        "    if not os.path.exists('maps'):\n",
        "        os.mkdir('maps')    \n",
        "    \n",
        "    maps = Maps(plateifu=plateifu)\n",
        "    mangaid=maps.mangaid\n",
        "    # Set the size of image cutout \n",
        "    scale = maps.wcs.to_header()['PC2_2']*3600\n",
        "    size = 2*maps.wcs.to_header()['CRPIX1']*scale\n",
        "    # Get SDSS Image\n",
        "    optical = maps.getImage()\n",
        "\n",
        "    # Crop Image to match IFU size\n",
        "    optical.get_new_cutout(size,size)\n",
        "    gs = gridspec.GridSpec(2,3) \n",
        "\n",
        "    fig=plt.figure(figsize=(27,14))\n",
        "\n",
        "    filter_r=np.rot90(np.array(optical.data)[:,:,0].T )\n",
        "    levels=[60.,  90., 120., 150., 180., 210., 240.]\n",
        "\n",
        "\n",
        "    # H-alpha with optical contours\n",
        "    ax1 = fig.add_subplot(gs[0,0],projection=maps.wcs,slices=('x','y',0))\n",
        "    ha = maps.emline_gflux_ha_6564\n",
        "\n",
        "    ax1.grid(True,which='major')\n",
        "    fig,ax1,cb=mapplot.plot(dapmap=ha,ax=ax1,fig=fig,return_cb=True)\n",
        "    ax1.set_autoscale_on(False)\n",
        "    ax1.contour(filter_r, transform=ax1.get_transform(optical.wcs), colors='red',levels=levels,zorder=11)\n",
        "    cb.remove()\n",
        "    cb=plt.colorbar(ax1.get_images()[1],ax=ax1,anchor=(0,5),shrink=0.86)\n",
        "    ax1.set_xlabel('pos.eq.ra')\n",
        "    ax1.set_ylabel('pos.eq.dec')\n",
        "    \n",
        "    # H alpha EW\n",
        "    ewha = maps['emline_sew_ha_6564']\n",
        "    \n",
        "    ax2 = fig.add_subplot(gs[0,1],projection=maps.wcs,slices=('x','y',0))\n",
        "\n",
        "    ax2.grid(True,which='major')\n",
        "    fig,ax2,cb=mapplot.plot(dapmap=ewha,ax=ax2,fig=fig,return_cb=True)\n",
        "    ax2.set_autoscale_on(False)\n",
        "    ax2.contour(filter_r, transform=ax2.get_transform(optical.wcs), colors='red',levels=levels,zorder=11)\n",
        "    cb.remove()\n",
        "    cb=plt.colorbar(ax2.get_images()[1],ax=ax2,anchor=(0,5),shrink=0.86)\n",
        "    ax2.set_xlabel('pos.eq.ra')\n",
        "    ax2.set_ylabel('pos.eq.dec')\n",
        "\n",
        "    #------------------------------------------------------------------------------------------\n",
        "    \n",
        "    mask, fig_bpt, ax_bpt = maps.get_bpt(show_plot=False)\n",
        "\n",
        "    # Complete the missing lines\n",
        "\n",
        "    SF = mask['sf']['global'].astype(np.float64)\n",
        "    COMP = mask['comp']['global'].astype(np.float64)\n",
        "    SEYF = mask['seyfert']['global'].astype(np.float64)\n",
        "    LIN = mask['liner']['global'].astype(np.float64)\n",
        "    AMB = mask['ambiguous']['global'].astype(np.float64)\n",
        "\n",
        "    # Giving labels to each class\n",
        "\n",
        "    SF *= 5\n",
        "    COMP *= 4\n",
        "    SEYF *= 3\n",
        "    LIN *= 2\n",
        "    AMB *= 1\n",
        "\n",
        "    # Sum the above masks\n",
        "    bpt = SF + COMP + SEYF + LIN + AMB\n",
        "\n",
        "    # Let's make a color map for BPT map\n",
        "\n",
        "    cmap = colors.ListedColormap(['grey','red', 'purple', 'green', 'cyan'])\n",
        "\n",
        "    # IFU nocov mask\n",
        "    ha = maps.emline_gew_ha_6564 # For getting pixmask\n",
        "\n",
        "    nocov = ha.pixmask.get_mask('NOCOV')\n",
        "\n",
        "    # Plot\n",
        "\n",
        "    ax3 = fig.add_subplot(gs[0,2],projection=maps.wcs,slices=('x','y',0))\n",
        "    # Mapplot plot\n",
        "\n",
        "    fig, ax3, cb = mapplot.plot(value=bpt, ivar = bpt, mask=nocov, cmap=cmap,fig=fig,ax=ax3, use_masks='NOCOV', return_cb=True, cbrange=(0.5, 5.5), title='BPT Diagram')\n",
        "\n",
        "    ax3.set_autoscale_on(False)\n",
        "\n",
        "    # Over plot optical contours with black color and given levels\n",
        "\n",
        "    levels=[60., 90., 120., 150., 180., 210., 240.]\n",
        "\n",
        "    # Get SDSS image \n",
        "\n",
        "    optical = maps.getImage()\n",
        "\n",
        "    # Prepare for plotting contours\n",
        "\n",
        "    # Set the size of image cutout\n",
        "\n",
        "    scale = maps.wcs.to_header()['PC2_2']*3600  # Gives arcsec/ pixel\n",
        "\n",
        "    size = 2*maps.wcs.to_header()['CRPIX1']*scale # Give angular size in arcseconds\n",
        "\n",
        "    # Getting new cutout\n",
        "\n",
        "    optical.get_new_cutout(width = size, height = size)\n",
        "\n",
        "    filter_r = np.rot90(np.array(optical.data)[:,:,0].T )\n",
        "\n",
        "    # Remove grid\n",
        "    ax3.grid(False)\n",
        "\n",
        "    # Plot contours and transform it with optical.wcs and assign the contours black color with levels = levels and zorder =11\n",
        "    ax3.contour(filter_r, transform=ax3.get_transform(optical.wcs), colors='black',levels=levels,zorder=11)\n",
        "\n",
        "    # Remove default colorbar\n",
        "    cb.remove()\n",
        "    # Generate new color bar\n",
        "    cb = plt.colorbar(ax3.get_images()[1],ax=ax3,anchor=(0,5),shrink=0.86)\n",
        "    cb.set_ticks([1, 2, 3, 4, 5])\n",
        "    cb.set_ticklabels(['Ambiguous','Seyfert','LINER','Comp', 'SF'])\n",
        "    # Set x and y label\n",
        "    ax3.set_xlabel('pos.eq.ra')\n",
        "    ax3.set_ylabel('pos.eq.dec')\n",
        "\n",
        "\n",
        "    # WHAN\n",
        "    nii = maps.emline_gflux_nii_6585  # Get emline gaussian flux of nii with wavelength 6585\n",
        "    ha = maps.emline_gflux_ha_6564    # Get emline gaussian flux of H alpha  with wavelength 6564\n",
        "    niiha = nii/ha\n",
        "\n",
        "    ewha = maps['emline_sew_ha_6564']  # Get emline_sew of H alpha  with wavelength 6564\n",
        "    ewnii = maps['emline_sew_nii_6585'] # Get emline_sew of nii with wavelength 6585\n",
        "\n",
        "    # Take the log of the NII/Ha ratio\n",
        "    logniiha = np.log10(niiha.value)\n",
        "\n",
        "    # Create the WHAN categories. Hint : Use ewha.value, ewnii.value, and logniiha\n",
        "\n",
        "    psf = (logniiha < -0.4) & (ewha.value > 3)                        # Pure Star Forming\n",
        "    sagn = (logniiha > -0.4) & (ewha.value > 6)                       # Strong AGN\n",
        "    wagn = (logniiha > -0.4) & ((ewha.value > 3) & (ewha.value < 6))  # Weak AGN\n",
        "    rg = ewha.value < 3                                               # Retired Galaxy  \n",
        "    pg = (ewha.value < 0.5) & (ewnii.value < 0.5)                     # Passive Galaxy\n",
        "\n",
        "    # Create a custom array for a WHAN categories (we copy the EW Ha array just to get a 2d-array of the original size)\n",
        "\n",
        "    value = ewha.value.copy()\n",
        "    value[psf]  = 1     # pure star-forming \n",
        "    value[sagn] = 2     # strong agn\n",
        "    value[wagn] = 3     # weak agn\n",
        "    value[rg]   = 4     # retired galaxies\n",
        "    value[pg]   = 5     # passive galaxies\n",
        "\n",
        "    # Set ivar to 0 where the SNR < 1\n",
        "    niiha_low_snr = mapplot.mask_low_snr(niiha.value, niiha.ivar, snr_min=1)\n",
        "    ewha_low_snr  = mapplot.mask_low_snr(ewha.value, ewha.ivar, snr_min=1)\n",
        "    ewnii_low_snr = mapplot.mask_low_snr(ewnii.value, ewnii.ivar, snr_min=1)\n",
        "    low_snr       = np.logical_or(niiha_low_snr, ewha_low_snr, ewnii_low_snr)\n",
        "\n",
        "    ivar = ewha.value.copy()\n",
        "    ivar[low_snr] = 0\n",
        "    value[low_snr] = 6\n",
        "\n",
        "    #------------------------------------------------------------------------------------------\n",
        "\n",
        "    # WHAN IFU\n",
        "\n",
        "    ax4 = fig.add_subplot(gs[1,0],projection=maps.wcs,slices=('x','y',0))\n",
        "    #  Remove grid\n",
        "    ax4.grid(False)\n",
        "\n",
        "    # Create colomap with colors 'red', 'blue', 'goldenrod', 'green', 'purple'\n",
        "    cmap = colors.ListedColormap(['red', 'blue', 'goldenrod', 'green', 'purple'])\n",
        "\n",
        "    # Get nocov mask from ewha map\n",
        "\n",
        "    nocov = ewha.pixmask.get_mask('NOCOV')\n",
        "\n",
        "    # Complete the mapplot.plot  function call\n",
        "    fig, ax4, cb = mapplot.plot(value=value, ivar=ivar, mask=nocov, cmap=cmap,fig=fig,ax=ax4, use_masks='NOCOV', return_cb=True, cbrange=(0.5, 5.5), title='WHAN Diagram')\n",
        "\n",
        "    # Set autoscale to False\n",
        "    ax4.set_autoscale_on(False)\n",
        "\n",
        "    # Get SDSS optical image\n",
        "    optical = maps.getImage()\n",
        "\n",
        "    # Set the size of image cutout \n",
        "    scale = maps.wcs.to_header()['PC2_2']*3600\n",
        "    size = 2*maps.wcs.to_header()['CRPIX1']*scale\n",
        "\n",
        "    # Get new cutout with new size\n",
        "    optical.get_new_cutout(size,size,size/512)\n",
        "\n",
        "    # Slice the optical image and get r band data\n",
        "    filter_r=np.rot90(np.array(optical.data)[:,:,0].T )\n",
        "\n",
        "    # Assign levels [60.,  90., 120., 150., 180., 210., 240.]\n",
        "    levels = [60.,  90., 120., 150., 180., 210., 240.]\n",
        "\n",
        "    # Create contour of filter_r and transform it using optical.wcs. Give color = 'black' and zorder=11\n",
        "    ax4.contour(filter_r, transform=ax4.get_transform(optical.wcs), colors='black',levels=levels,zorder=11)\n",
        "\n",
        "    # Remove default colorbar\n",
        "    cb.remove()\n",
        "\n",
        "    # Create new color bar\n",
        "    cb=plt.colorbar(ax4.get_images()[1],ax=ax4,anchor=(0,5),shrink=0.86)\n",
        "\n",
        "    # Set ticks [1, 2, 3, 4, 5]\n",
        "    cb.set_ticks([1, 2, 3, 4, 5])\n",
        "\n",
        "    # Set ticklabels ['PSF', 'SAGN', 'WAGN', 'RG', 'PG']\n",
        "    cb.set_ticklabels(['PSF', 'SAGN', 'WAGN', 'RG', 'PG'])\n",
        "\n",
        "    # Set axes labels\n",
        "    ax4.set_xlabel('pos.eq.ra')\n",
        "    ax4.set_ylabel('pos.eq.dec')\n",
        "    \n",
        "    #------------------------------------------------------------------------------------------\n",
        "\n",
        "    # Metallicity Map\n",
        "    ax5 = fig.add_subplot(gs[1,1],projection=maps.wcs,slices=('x','y',0))\n",
        "    nii = maps.emline_gflux_nii_6585\n",
        "    n2 = nii/ ha\n",
        "    logn2 = np.log10(n2)\n",
        "    oh = 8.90 + 0.57 * logn2\n",
        "\n",
        "    mask_bad_data = n2.pixmask.get_mask(['NOCOV', 'UNRELIABLE', 'DONOTUSE'])\n",
        "    min_snr = 3.\n",
        "    mask_nii_low_snr = (np.abs(nii.value * np.sqrt(nii.ivar)) < min_snr)\n",
        "    mask_ha_low_snr = (np.abs(ha.value * np.sqrt(ha.ivar)) < min_snr)\n",
        "\n",
        "    mask =  mask_bad_data | mask_nii_low_snr | mask_ha_low_snr\n",
        "    ax5.grid(True,which='major')\n",
        "    fig,ax5,cb=mapplot.plot(dapmap=oh,mask=mask,ax=ax5,fig=fig,return_cb=True,cbrange=[8.65,8.9],title='Metallicity Map')\n",
        "    ax5.set_autoscale_on(False)\n",
        "    ax5.contour(filter_r, transform=ax5.get_transform(optical.wcs), colors='red',levels=levels,zorder=11)\n",
        "    cb.remove()\n",
        "    cb=plt.colorbar(ax5.get_images()[1],ax=ax5,anchor=(0,5),shrink=0.82,label= '12+log(O/H)')\n",
        "    ax5.set_xlabel('pos.eq.ra')\n",
        "    ax5.set_ylabel('pos.eq.dec')\n",
        "\n",
        "     #------------------------------------------------------------------------------------------\n",
        "\n",
        "    # DN 4000 with optical contours    \n",
        "    ax6 = fig.add_subplot(gs[1,2],projection=maps.wcs,slices=('x','y',0))\n",
        "\n",
        "    dn = maps.specindex_dn4000\n",
        "    ax6.grid(True,which='major')\n",
        "    fig,ax6,cb=mapplot.plot(dapmap=dn,ax=ax6,fig=fig,return_cb=True,cbrange=[1,2])\n",
        "    ax6.set_autoscale_on(False)\n",
        "    ax6.contour(filter_r, transform=ax6.get_transform(optical.wcs), colors='red',levels=levels,zorder=11)\n",
        "    cb.remove()\n",
        "    cb=plt.colorbar(ax6.get_images()[1],ax=ax6,anchor=(0,5),shrink=0.82)\n",
        "    ax6.set_xlabel('pos.eq.ra')\n",
        "    ax6.set_ylabel('pos.eq.dec')\n",
        "\n",
        "    fig.suptitle(\" \",size=20,va='top',y=0.9)\n",
        "    plt.subplots_adjust(left=0.1)\n",
        "    if download:\n",
        "      fig.savefig(f'eifu}maps',bbox_inches = 'tight',format = format)\n",
        "  \n",
        "    #------------------------------------------------------------------------------------------\n",
        "    break\n",
        "    plt.pause(0.5)"
      ],
      "execution_count": null,
      "outputs": []
    },
    {
      "cell_type": "markdown",
      "metadata": {
        "id": "gZoVjMD3IdmM"
      },
      "source": [
        "# **Maps with Matplotlib**"
      ]
    },
    {
      "cell_type": "code",
      "metadata": {
        "id": "0xVhtH8xIdmM"
      },
      "source": [
        "use_masks = ['NOCOV','LOWCOV','DEADFIBER','FORESTAR','NOVALUE','UNRELIABLE','MATHERROR','FITFAILED','NOCORRECTION','MULTICOMP','NEARBOUND','DONOTUSE']\n",
        "def goodspax(dapmap):\n",
        "    bad_data = dapmap.pixmask.get_mask(use_masks,dtype = np.bool)\n",
        "    low_snr = dapmap.value*np.sqrt(dapmap.ivar)<1.0\n",
        "    mask = np.logical_or.reduce((bad_data, low_snr))\n",
        "    mask = np.where(mask==True,np.nan,1)\n",
        "    return dapmap.value*mask"
      ],
      "execution_count": 21,
      "outputs": []
    },
    {
      "cell_type": "code",
      "metadata": {
        "id": "Kd2HkKG4IdmN",
        "outputId": "7cfb2dba-c378-4212-d655-89fd09fde7ef",
        "colab": {
          "base_uri": "https://localhost:8080/",
          "height": 505
        }
      },
      "source": [
        "download = 0\n",
        "format = 'png'\n",
        "for plateifu in ['8083-3702', '9181-9101', '8553-12705', '8600-1901', '8551-9102', '8946-6102', '8335-6101', '9049-3704']:\n",
        "\n",
        "    if not os.path.exists(f'{plateifu}'):\n",
        "        os.mkdir(f'{plateifu}')\n",
        "  \n",
        "    maps = Maps(plateifu=plateifu,mode='remote')\n",
        "    mangaid = maps.mangaid\n",
        "\n",
        "    # Set the size of image cutout \n",
        "    scale = maps.wcs.to_header()['PC2_2']*3600\n",
        "    size = 2*maps.wcs.to_header()['CRPIX1']*scale\n",
        "\n",
        "    # Get SDSS Image\n",
        "    optical=maps.getImage()\n",
        "\n",
        "    # Optical Image\n",
        "    fig = plt.figure(figsize = (10,10))\n",
        "    ax1 = fig.add_subplot(projection=optical.wcs)\n",
        "    ax1.grid(False)\n",
        "    ax1.imshow(optical.data)\n",
        "    ax1.grid(False)\n",
        "    if download:\n",
        "        fig.savefig(f'{plateifu}/SDSS_cutout',bbox_inches = 'tight',format=format)\n",
        "    \n",
        "    #------------------------------------------------------------------------------------------\n",
        "    \n",
        "    # Crop Image to match IFU size\n",
        "\n",
        "    optical.get_new_cutout(size,size)\n",
        "    filter_r=np.rot90(np.array(optical.data)[:,:,0].T )\n",
        "    levels=[60.,  90., 120., 150., 180., 210., 240.]\n",
        "    \n",
        "  # H-alpha with optical contours\n",
        "\n",
        "    fig = plt.figure(figsize = (10,10))\n",
        "    ax3 = fig.add_subplot( projection=maps.wcs,slices=('x','y',0))\n",
        "    ha = maps.emline_gflux_ha_6564\n",
        "\n",
        "    ax3.grid(False)\n",
        "    cbr = mapplot.plot(dapmap=ha,return_cbrange=True)\n",
        "    img = ax3.imshow(goodspax(ha),vmin=cbr[0],vmax=cbr[1],cmap='jet')\n",
        "    ax3.grid(False)\n",
        "    ax3.set_autoscale_on(False)\n",
        "    ax3.contour(filter_r, transform=ax3.get_transform(optical.wcs), colors='red',levels=levels,zorder=11)\n",
        "    ax3.annotate(r'H alpha Map',(len(ha)-len(ha)/3.5,len(ha)-len(ha)/13),weight='bold',family='serif')\n",
        "    cb=plt.colorbar(img,ax=ax3,anchor=(0,5),shrink=0.824)\n",
        "    cb.set_label(r'$1\\times10^{-17}ergcm^{-2}s^{-1}$')\n",
        "    ax3.set_xlabel('pos.eq.ra')\n",
        "    ax3.set_ylabel('pos.eq.dec')\n",
        "\n",
        "    if download:\n",
        "        fig.savefig(f'{plateifu}/H_alpha',bbox_inches = 'tight',format = format)\n",
        "    #------------------------------------------------------------------------------------------\n",
        "\n",
        "    # WHAN Map\n",
        "\n",
        "    # grab the NII/Ha flux ratio, Ha and NII equivalent width arrays\n",
        "    nii=maps.emli40ne_gflux_nii_6585\n",
        "    ha=maps.emline_gflux_ha_6564\n",
        "    niiha = nii/ha\n",
        "    ewha = maps['emline_sew_ha_6564']\n",
        "    ewnii = maps['emline_sew_nii_6585']\n",
        "    # take the log of the NII/Ha ratio\n",
        "    logniiha = np.log10(niiha.value)\n",
        "\n",
        "    # create the WHAN categories\n",
        "    psf = (logniiha < -0.4) & (ewha.value > 3)\n",
        "    sagn = (logniiha > -0.4) & (ewha.value > 6)\n",
        "    wagn = (logniiha > -0.4) & ((ewha.value > 3) & (ewha.value < 6))\n",
        "    rg = ewha.value < 3\n",
        "    pg = (ewha.value < 0.5) & (ewnii.value < 0.5) \n",
        "\n",
        "    # create a custom array for a WHAN categories (we copy the EW Ha array just to get a 2d-array of the original size)\n",
        "    value = ewha.value.copy()\n",
        "    value[psf]  = 1     # pure star-forming \n",
        "    value[sagn] = 2     # strong agn\n",
        "    value[wagn] = 3     # weak agn\n",
        "    value[rg]   = 4     # retired galaxies\n",
        "    value[pg]   = 5     # passive galaxies\n",
        "\n",
        "    # Set ivar to 0 where the SNR < 1\n",
        "    niiha_low_snr = mapplot.mask_low_snr(niiha.value, niiha.ivar, snr_min=1)\n",
        "    ewha_low_snr = mapplot.mask_low_snr(ewha.value, ewha.ivar, snr_min=1)\n",
        "    ewnii_low_snr = mapplot.mask_low_snr(ewnii.value, ewnii.ivar, snr_min=1)\n",
        "    low_snr = np.logical_or(niiha_low_snr, ewha_low_snr, ewnii_low_snr)\n",
        "\n",
        "    ivar = ewha.value.copy()\n",
        "    ivar[low_snr] = 0\n",
        "    value[low_snr] = np.nan\n",
        "\n",
        "    # Set the size of image cutout \n",
        "    scale = maps.wcs.to_header()['PC2_2']*3600\n",
        "    size = 2*maps.wcs.to_header()['CRPIX1']*scale\n",
        "\n",
        "    # WHAN IFU\n",
        "    fig = plt.figure(figsize = (10,10))\n",
        "    ax2 = fig.add_subplot(projection=maps.wcs,slices=('x','y',0))\n",
        "    ax2.grid(False)\n",
        "    cmap = colors.ListedColormap(['red', 'blue', 'goldenrod', 'green', 'purple'])\n",
        "    nocov = ewha.pixmask.get_mask('NOCOV',dtype=np.bool)\n",
        "    mask = np.where(nocov==True,np.nan,1)\n",
        "    #fig, ax2, cb = mapplot.plot(value=value, ivar=ivar, mask=nocov, cmap=cmap,fig=fig,ax=ax2, use_masks='NOCOV', return_cb=True, cbrange=(0.5, 5.5), title='')\n",
        "    img = ax2.imshow(value,cmap=cmap,vmin=0.5,vmax=5.5)\n",
        "    ax2.grid(False)\n",
        "    ax2.set_autoscale_on(False)\n",
        "    ax2.annotate(r'WHAN Map',(len(ha)-len(ha)/4,len(ha)-len(ha)/13),weight='bold',family='serif')\n",
        "\n",
        "    filter_r=np.rot90(np.array(optical.data)[:,:,0].T )\n",
        "    levels=[60.,  90., 120., 150., 180., 210., 240.]\n",
        "    ax2.contour(filter_r, transform=ax2.get_transform(optical.wcs), colors='black',levels=levels,zorder=11)\n",
        "\n",
        "    cb=plt.colorbar(img,ax=ax2,anchor=(0,5),shrink=0.825)\n",
        "    cb.set_ticks([1, 2, 3, 4, 5])\n",
        "    cb.set_ticklabels(['PSF', 'SAGN', 'WAGN', 'RG', 'PG'])\n",
        "    ax2.set_xlabel('pos.eq.ra')\n",
        "    ax2.set_ylabel('pos.eq.dec')\n",
        "    \n",
        "    if download:\n",
        "        fig.savefig(f'S0_{plateifu}/WHAN',bbox_inches = 'tight',format=format)\n",
        "    #------------------------------------------------------------------------------------------\n",
        "    \n",
        "    fig = plt.figure(figsize = (10,10))\n",
        "    ax4 = fig.add_subplot(projection=maps.wcs,slices=('x','y',0))\n",
        "    m, f ,a = maps.get_bpt(show_plot=False)\n",
        "    \n",
        "    SF = sf= m['sf']['global'].astype('float64')*5\n",
        "    COMP = m['comp']['global'].astype('float64')*4\n",
        "    LIN = m['liner']['global'].astype('float64')*3\n",
        "    SEY = m['seyfert']['global'].astype('float64')*2\n",
        "    AMB = m['ambiguous']['global'].astype('float64')*1\n",
        "    \n",
        "    bpt = SF + COMP + LIN + SEY + AMB\n",
        "    \n",
        "    cmap = colors.ListedColormap(['grey','red', 'purple', 'green', 'cyan'])\n",
        "    nocov = ewha.pixmask.get_mask('NOCOV')\n",
        "    \n",
        "    bpt[bpt==0]=np.nan\n",
        "    \n",
        "    #fig, ax4, cb = mapplot.plot(value=bpt, ivar = bpt, mask=nocov, cmap=cmap,fig=fig,ax=ax4, use_masks='NOCOV', return_cb=True, cbrange=(0.5, 5.5), title='')\n",
        "    img = ax4.imshow(bpt,cmap=cmap,vmin=0.5,vmax=5.5)\n",
        "    ax4.set_autoscale_on(False)\n",
        "    ax4.contour(filter_r, transform=ax4.get_transform(optical.wcs), colors='black',levels=levels,zorder=11)\n",
        "\n",
        "    cb=plt.colorbar(img,ax=ax4,anchor=(0,5),shrink=0.825)\n",
        "    cb.set_ticks([1, 2, 3, 4, 5])\n",
        "    cb.set_ticklabels(['Ambiguous','Seyfert','LINER','Comp', 'SF'])\n",
        "    ax4.set_xlabel('pos.eq.ra')\n",
        "    ax4.set_ylabel('pos.eq.dec')\n",
        "    ax4.annotate(r'BPT Map',(len(ha)-len(ha)/4.6,len(ha)-len(ha)/12),weight='bold',family='serif')\n",
        "\n",
        "    if download:\n",
        "        fig.savefig(f'S0_{plateifu}/BPT',bbox_inches = 'tight', format = format)\n",
        "  \n",
        "    #------------------------------------------------------------------------------------------\n",
        "\n",
        "    dn=maps.specindex_dn4000\n",
        "\n",
        "    fig = plt.figure(figsize = (10,10))\n",
        "    ax4 = fig.add_subplot(projection=maps.wcs,slices=('x','y',0))\n",
        "    ax4.grid(False)\n",
        "    cbr=mapplot.plot(dapmap=dn,return_cbrange=True)\n",
        "    img = ax4.imshow(goodspax(dn),vmin=cbr[0],vmax=cbr[1],cmap='jet')\n",
        "    ax4.grid(False)\n",
        "    ax4.set_autoscale_on(False)\n",
        "    ax4.contour(filter_r, transform=ax4.get_transform(optical.wcs), colors='red',levels=levels,zorder=11)\n",
        "    cb=plt.colorbar(img,ax=ax4,anchor=(0,5),shrink=0.824)\n",
        "    ax4.set_xlabel('pos.eq.ra')\n",
        "    ax4.set_ylabel('pos.eq.dec')\n",
        "    ax4.annotate(r'Dn 4000 Map',(len(ha)-len(ha)/3.3,len(ha)-len(ha)/13),weight='bold',family='serif')\n",
        "    if download:\n",
        "        fig.savefig(f'S0_{plateifu}/DN4000',bbox_inches = 'tight',format = format)\n",
        "        \n",
        "    #------------------------------------------------------------------------------------------\n",
        "    fig = plt.figure(figsize = (10,10))\n",
        "    ax3 = fig.add_subplot(projection=maps.wcs,slices=('x','y',0))\n",
        "    nii = maps.emline_gflux_nii_6585\n",
        "    n2 = nii/ ha\n",
        "    logn2 = np.log10(n2)\n",
        "    logoh = 8.90 + 0.57 * logn2\n",
        "\n",
        "    mask_bad_data = n2.pixmask.get_mask(['NOCOV', 'UNRELIABLE', 'DONOTUSE'])\n",
        "    min_snr = 3.\n",
        "    mask_nii_low_snr = (np.abs(nii.value * np.sqrt(nii.ivar)) < min_snr)\n",
        "    mask_ha_low_snr = (np.abs(ha.value * np.sqrt(ha.ivar)) < min_snr)\n",
        "\n",
        "    mask =  (mask_bad_data | mask_nii_low_snr | mask_ha_low_snr).astype(np.bool)\n",
        "    ax3.grid(False)\n",
        "    cbr = mapplot.plot(dapmap=logoh,mask=mask,return_cbrange=True)\n",
        "    mask = np.where(mask==True,np.nan,1)\n",
        "    img = ax3.imshow(logoh.value*mask,vmin=cbr[0],vmax=cbr[1],cmap = 'viridis')\n",
        "    ax3.grid(False)\n",
        "    ax3.set_autoscale_on(False)\n",
        "    ax3.contour(filter_r, transform=ax3.get_transform(optical.wcs), colors='red',levels=levels,zorder=11)\n",
        "    cb=plt.colorbar(img,ax=ax3,anchor=(0,5),shrink=0.825,label= '12+log(O/H)')\n",
        "    ax3.set_xlabel('pos.eq.ra')\n",
        "    ax3.set_ylabel('pos.eq.dec')\n",
        "    ax3.annotate(r'N2 Metallicity Map',(len(ha)-len(ha)/2.5,len(ha)-len(ha)/13),weight='bold',family='serif')\n",
        "    if download:\n",
        "        fig.savefig(f'S0_{plateifu}/Metallicity',bbox_inches = 'tight',format = format)\n",
        "        \n",
        "   #------------------------------------------------------------------------------------------\n",
        "    \n",
        "    hb = maps.emline_gflux_hb_4862\n",
        "    ha_hb = maps.getMapRatio('emline_gflux','ha_6564','hb_4862')\n",
        "    ha_sf    = ha*sf\n",
        "    hb_sf    = hb*sf\n",
        "    ha_hb_sf = ha_hb*sf\n",
        "    \n",
        "    z = maps.dapall['z']\n",
        "\n",
        "    fa = ha_sf*1e-17*pow(10,2.468*0.934*np.log10(ha_hb_sf.value/2.86))\n",
        "\n",
        "    D_L = cosmo.luminosity_distance(z).to(u.cm)\n",
        "\n",
        "    Lha =  (fa.value*4*np.pi*D_L*D_L)*(u.erg/u.second)\n",
        "\n",
        "    SFR = 5.5e-42*Lha\n",
        "\n",
        "    SFR = SFR.value*(u.solMass/u.year)\n",
        "\n",
        "    ang_dist = Planck15.kpc_proper_per_arcmin(z).to(u.kpc/u.arcsec)\n",
        "\n",
        "    area = (ang_dist.value**2*maps.bin_area.value)\n",
        "\n",
        "    area = area*(u.kpc**2)\n",
        "\n",
        "    SFRD = SFR/area\n",
        "\n",
        "    R = maps.spx_ellcoo_elliptical_radius.value\n",
        "    R_e=float(maps.header['reff'])\n",
        "\n",
        "    x = (R/R_e)\n",
        "    y = SFRD\n",
        "    \n",
        "    fig = plt.figure(figsize = (10,10))\n",
        "    ax = fig.add_subplot()\n",
        "    ax.scatter(x,y)\n",
        "    ax.set_xlabel(r'$R/R_e$')\n",
        "    ax.set_ylabel('SFRD ' + r'$M_{\\odot}kpc^{-2}yr^{-1}$')\n",
        "    \n",
        "    ax.xaxis.set_minor_locator(AutoMinorLocator())\n",
        "    ax.yaxis.set_minor_locator(AutoMinorLocator())\n",
        "\n",
        "    ax.tick_params(which='both', width=2,direction=\"in\")\n",
        "    ax.tick_params(which='major', length=7,direction=\"in\")\n",
        "    ax.tick_params(which='minor', length=4, color='black',direction=\"in\")\n",
        "    \n",
        "    if 0:\n",
        "        fig.savefig(f'S0_{plateifu}/SFRD',bbox_inches = 'tight',format = format)\n",
        "    \n",
        "   #------------------------------------------------------------------------------------------\n",
        "    \n",
        "   # Specific SFR/ log M\n",
        "    \n",
        "    cube =  maps.getCube()\n",
        "    M = cube.vacs.firefly._make_map('stellar_mass')\n",
        "    \n",
        "    mask = None\n",
        "    mask = (M < -10) if not mask else mask\n",
        "    masked_array = np.ma.array(M, mask=mask) #log(M)\n",
        "    \n",
        "    ssfr = SFR.value/10**(masked_array)\n",
        "    ssfr = np.log10(ssfr)\n",
        "    fig = plt.figure(figsize = (10,10))\n",
        "    ax = fig.add_subplot(projection=maps.wcs,slices=('x','y',0))\n",
        "    \n",
        "    #fig, ax, cb = mapplot.plot(value=ssfr, ivar = ssfr, mask=nocov, fig=fig, ax= ax,cmap='RdYlBu_r', use_masks='NOCOV', return_cb=True)\n",
        "    mask = mask.astype(np.bool)\n",
        "    mask = np.where(mask==True,np.nan,1)\n",
        "    ax.grid(False)\n",
        "    img = ax.imshow(ssfr*mask, cmap = 'RdYlBu_r')\n",
        "    ax.grid(False)\n",
        "    ax.set_autoscale_on(False)\n",
        "    ax.contour(filter_r, transform=ax.get_transform(optical.wcs), colors='black',levels=levels,zorder=11)\n",
        "    \n",
        "    # plot the colour bar\n",
        "    cbar = fig.colorbar(img, ax=ax,anchor=(0,5),shrink=0.824)\n",
        "    cbar.set_label(r'$log(sSFR (yr^{-1}))$')\n",
        "    ax.set_xlabel('pos.eq.ra')\n",
        "    ax.set_ylabel('pos.eq.dec')\n",
        "    ax.annotate(r'sSFR Map',(len(ha)-len(ha)/4,len(ha)-len(ha)/13),weight='bold',family='serif')\n",
        "    \n",
        "    if download:\n",
        "        fig.savefig(f'S0_{plateifu}/sSFR',bbox_inches = 'tight',format = format)\n",
        "\n",
        "   #------------------------------------------------------------------------------------------   \n",
        "    \n",
        "    # OIII/OII map\n",
        "    OIII_OII= maps.getMapRatio('emline_gflux','oiii_5008','oii_3729')\n",
        "    \n",
        "    fig = plt.figure(figsize = (10,10))\n",
        "    \n",
        "    ax4 = fig.add_subplot(projection=maps.wcs,slices=('x','y',0))\n",
        "\n",
        "    ax4.grid(False)\n",
        "    cbr = mapplot.plot(dapmap = OIII_OII, return_cbrange = True)\n",
        "    \n",
        "    img = ax4.imshow(goodspax(OIII_OII),vmin=cbr[0],vmax=cbr[1],cmap = 'magma')\n",
        "    ax4.grid(False)\n",
        "    ax4.set_autoscale_on(False)\n",
        "    ax4.contour(filter_r, transform = ax4.get_transform(optical.wcs), colors = 'red',levels = levels,zorder=11)\n",
        "    cb=plt.colorbar(img, ax=ax4,anchor=(0,5),shrink=0.824)\n",
        "    ax4.set_xlabel('pos.eq.ra')\n",
        "    ax4.set_ylabel('pos.eq.dec')\n",
        "    ax4.annotate(r'OIII/OII Map',(len(ha)-len(ha)/3.3,len(ha)-len(ha)/13),weight='bold',family='serif')\n",
        "    if download:\n",
        "        fig.savefig(f'S0_{plateifu}/OIII_OII',bbox_inches = 'tight',format = format)\n",
        "\n",
        "    #------------------------------------------------------------------------------------------\n",
        "        \n",
        "     # H alpha EW\n",
        "    ewha = maps['emline_sew_ha_6564']\n",
        "    fig = plt.figure(figsize = (10,10))\n",
        "    ax2 = fig.add_subplot(projection=maps.wcs,slices=('x','y',0))\n",
        "\n",
        "    ax2.grid(False)\n",
        "    cbr=mapplot.plot(dapmap=ewha,return_cbrange=True)\n",
        "    img = ax2.imshow(goodspax(ewha),vmin=cbr[0],vmax=cbr[1],cmap = 'plasma')\n",
        "    ax2.grid(False)\n",
        "    ax2.set_autoscale_on(False)\n",
        "    ax2.contour(filter_r, transform=ax2.get_transform(optical.wcs), colors='white',levels=levels,zorder=11)\n",
        "    cb=plt.colorbar(img,ax=ax2,anchor=(0,5),shrink=0.824)\n",
        "    ax2.set_xlabel('pos.eq.ra')\n",
        "    ax2.set_ylabel('pos.eq.dec')\n",
        "    ax2.annotate(r'H alpha EW Map',(len(ha)-len(ha)/2.7,len(ha)-len(ha)/13),weight='bold',family='serif')\n",
        "    cb.set_label(r'$\\AA$')\n",
        "    if download:\n",
        "        fig.savefig(f'S0_{plateifu}/ewH_alpha',bbox_inches = 'tight')\n",
        "        \n",
        "    # OIII 5007 EW\n",
        "    ewOIII = maps['emline_sew_oiii_5008']\n",
        "    fig = plt.figure(figsize = (10,10))\n",
        "    ax3 = fig.add_subplot(projection=maps.wcs,slices=('x','y',0))\n",
        "\n",
        "    ax3.grid(False)\n",
        "    cbr = mapplot.plot(dapmap = ewOIII ,return_cbrange = True)\n",
        "    img = ax3.imshow(goodspax(ewOIII),vmin=cbr[0],vmax=cbr[1],cmap = 'plasma')\n",
        "    ax3.grid(False)\n",
        "    ax3.set_autoscale_on(False)\n",
        "    ax3.contour(filter_r, transform = ax3.get_transform(optical.wcs), colors = 'white',levels = levels,zorder=11)\n",
        "    cb=plt.colorbar(img,ax=ax3,anchor=(0,5),shrink=0.824)\n",
        "    ax3.set_xlabel('pos.eq.ra')\n",
        "    ax3.set_ylabel('pos.eq.dec')\n",
        "    ax3.annotate(r'OIII EW Map',(len(ha)-len(ha)/3.3,len(ha)-len(ha)/13),weight='bold',family='serif')\n",
        "    cb.set_label(r'$\\AA$')\n",
        "    if download:\n",
        "        fig.savefig(f'S0_{plateifu}/ewOIII',bbox_inches = 'tight',format = format)\n",
        "     #------------------------------------------------------------------------------------------\n",
        "    break"
      ],
      "execution_count": 23,
      "outputs": [
        {
          "metadata": {
            "tags": null
          },
          "name": "stderr",
          "output_type": "stream",
          "text": [
            "\u001b[1;33m[WARNING]: \u001b[0m\u001b[0;39mdrpall file not found. Downloading it.\u001b[0m \u001b[0;36m(MarvinUserWarning)\u001b[0m\n",
            "Progress: 100%|██████████| 1/1 [00:05<00:00,  5.01s/files, n_files=1, n_streams=1]\n",
            "\u001b[1;33m[WARNING]: \u001b[0m\u001b[0;39mdrpall file not found. Downloading it.\u001b[0m \u001b[0;36m(MarvinUserWarning)\u001b[0m\n"
          ]
        },
        {
          "metadata": {
            "tags": null
          },
          "name": "stdout",
          "output_type": "stream",
          "text": [
            "SDSS_ACCESS> Done!\n"
          ]
        },
        {
          "metadata": {
            "tags": null
          },
          "name": "stderr",
          "output_type": "stream",
          "text": [
            "Progress:   0%|          | 0/1 [00:00<?, ?files/s, n_files=1, n_streams=1]"
          ]
        },
        {
          "metadata": {
            "tags": null
          },
          "name": "stdout",
          "output_type": "stream",
          "text": [
            "SDSS_ACCESS> Done!\n"
          ]
        },
        {
          "metadata": {
            "tags": null
          },
          "name": "stderr",
          "output_type": "stream",
          "text": [
            "\n"
          ]
        },
        {
          "ename": "FileNotFoundError",
          "evalue": "ignored",
          "output_type": "error",
          "traceback": [
            "\u001b[0;31m---------------------------------------------------------------------------\u001b[0m",
            "\u001b[0;31mFileNotFoundError\u001b[0m                         Traceback (most recent call last)",
            "\u001b[0;32m<ipython-input-23-07e05d856efa>\u001b[0m in \u001b[0;36m<module>\u001b[0;34m()\u001b[0m\n\u001b[1;32m     14\u001b[0m \u001b[0;34m\u001b[0m\u001b[0m\n\u001b[1;32m     15\u001b[0m     \u001b[0;31m# Get SDSS Image\u001b[0m\u001b[0;34m\u001b[0m\u001b[0;34m\u001b[0m\u001b[0;34m\u001b[0m\u001b[0m\n\u001b[0;32m---> 16\u001b[0;31m     \u001b[0moptical\u001b[0m\u001b[0;34m=\u001b[0m\u001b[0mmaps\u001b[0m\u001b[0;34m.\u001b[0m\u001b[0mgetImage\u001b[0m\u001b[0;34m(\u001b[0m\u001b[0;34m)\u001b[0m\u001b[0;34m\u001b[0m\u001b[0;34m\u001b[0m\u001b[0m\n\u001b[0m\u001b[1;32m     17\u001b[0m \u001b[0;34m\u001b[0m\u001b[0m\n\u001b[1;32m     18\u001b[0m     \u001b[0;31m# Optical Image\u001b[0m\u001b[0;34m\u001b[0m\u001b[0;34m\u001b[0m\u001b[0;34m\u001b[0m\u001b[0m\n",
            "\u001b[0;32m/usr/local/lib/python3.7/dist-packages/marvin/tools/core.py\u001b[0m in \u001b[0;36mgetImage\u001b[0;34m(self)\u001b[0m\n\u001b[1;32m    303\u001b[0m         \u001b[0;34m''' Retrieves the Image :class:`~marvin.tools.image.Image` for this object '''\u001b[0m\u001b[0;34m\u001b[0m\u001b[0;34m\u001b[0m\u001b[0m\n\u001b[1;32m    304\u001b[0m \u001b[0;34m\u001b[0m\u001b[0m\n\u001b[0;32m--> 305\u001b[0;31m         \u001b[0mimage\u001b[0m \u001b[0;34m=\u001b[0m \u001b[0mmarvin\u001b[0m\u001b[0;34m.\u001b[0m\u001b[0mtools\u001b[0m\u001b[0;34m.\u001b[0m\u001b[0mimage\u001b[0m\u001b[0;34m.\u001b[0m\u001b[0mImage\u001b[0m\u001b[0;34m(\u001b[0m\u001b[0mplateifu\u001b[0m\u001b[0;34m=\u001b[0m\u001b[0mself\u001b[0m\u001b[0;34m.\u001b[0m\u001b[0mplateifu\u001b[0m\u001b[0;34m,\u001b[0m \u001b[0mrelease\u001b[0m\u001b[0;34m=\u001b[0m\u001b[0mself\u001b[0m\u001b[0;34m.\u001b[0m\u001b[0mrelease\u001b[0m\u001b[0;34m)\u001b[0m\u001b[0;34m\u001b[0m\u001b[0;34m\u001b[0m\u001b[0m\n\u001b[0m\u001b[1;32m    306\u001b[0m         \u001b[0;32mreturn\u001b[0m \u001b[0mimage\u001b[0m\u001b[0;34m\u001b[0m\u001b[0;34m\u001b[0m\u001b[0m\n",
            "\u001b[0;32m/usr/local/lib/python3.7/dist-packages/marvin/tools/image.py\u001b[0m in \u001b[0;36m__init__\u001b[0;34m(self, input, filename, mangaid, plateifu, mode, data, release, download)\u001b[0m\n\u001b[1;32m     75\u001b[0m             \u001b[0;32mraise\u001b[0m \u001b[0mMarvinError\u001b[0m\u001b[0;34m(\u001b[0m\u001b[0;34m'Images cannot currently be accessed from the db'\u001b[0m\u001b[0;34m)\u001b[0m\u001b[0;34m\u001b[0m\u001b[0;34m\u001b[0m\u001b[0m\n\u001b[1;32m     76\u001b[0m         \u001b[0;32melif\u001b[0m \u001b[0mself\u001b[0m\u001b[0;34m.\u001b[0m\u001b[0mdata_origin\u001b[0m \u001b[0;34m==\u001b[0m \u001b[0;34m'api'\u001b[0m\u001b[0;34m:\u001b[0m\u001b[0;34m\u001b[0m\u001b[0;34m\u001b[0m\u001b[0m\n\u001b[0;32m---> 77\u001b[0;31m             \u001b[0mself\u001b[0m\u001b[0;34m.\u001b[0m\u001b[0m_load_image_from_api\u001b[0m\u001b[0;34m(\u001b[0m\u001b[0;34m)\u001b[0m\u001b[0;34m\u001b[0m\u001b[0;34m\u001b[0m\u001b[0m\n\u001b[0m\u001b[1;32m     78\u001b[0m \u001b[0;34m\u001b[0m\u001b[0m\n\u001b[1;32m     79\u001b[0m         \u001b[0;31m# initialize attributes\u001b[0m\u001b[0;34m\u001b[0m\u001b[0;34m\u001b[0m\u001b[0;34m\u001b[0m\u001b[0m\n",
            "\u001b[0;32m/usr/local/lib/python3.7/dist-packages/marvin/tools/image.py\u001b[0m in \u001b[0;36m_load_image_from_api\u001b[0;34m(self)\u001b[0m\n\u001b[1;32m    170\u001b[0m         \u001b[0;34m''' Load an image from a remote location '''\u001b[0m\u001b[0;34m\u001b[0m\u001b[0;34m\u001b[0m\u001b[0m\n\u001b[1;32m    171\u001b[0m \u001b[0;34m\u001b[0m\u001b[0m\n\u001b[0;32m--> 172\u001b[0;31m         \u001b[0mfilepath\u001b[0m \u001b[0;34m=\u001b[0m \u001b[0mself\u001b[0m\u001b[0;34m.\u001b[0m\u001b[0m_getFullPath\u001b[0m\u001b[0;34m(\u001b[0m\u001b[0;34m)\u001b[0m\u001b[0;34m\u001b[0m\u001b[0;34m\u001b[0m\u001b[0m\n\u001b[0m\u001b[1;32m    173\u001b[0m         \u001b[0mresponse\u001b[0m \u001b[0;34m=\u001b[0m \u001b[0mrequests\u001b[0m\u001b[0;34m.\u001b[0m\u001b[0mget\u001b[0m\u001b[0;34m(\u001b[0m\u001b[0mself\u001b[0m\u001b[0;34m.\u001b[0m\u001b[0murl\u001b[0m\u001b[0;34m)\u001b[0m\u001b[0;34m\u001b[0m\u001b[0;34m\u001b[0m\u001b[0m\n\u001b[1;32m    174\u001b[0m         \u001b[0;32mif\u001b[0m \u001b[0;32mnot\u001b[0m \u001b[0mresponse\u001b[0m\u001b[0;34m.\u001b[0m\u001b[0mok\u001b[0m\u001b[0;34m:\u001b[0m\u001b[0;34m\u001b[0m\u001b[0;34m\u001b[0m\u001b[0m\n",
            "\u001b[0;32m/usr/local/lib/python3.7/dist-packages/marvin/tools/image.py\u001b[0m in \u001b[0;36m_getFullPath\u001b[0;34m(self)\u001b[0m\n\u001b[1;32m    132\u001b[0m \u001b[0;34m\u001b[0m\u001b[0m\n\u001b[1;32m    133\u001b[0m         \u001b[0mplate\u001b[0m\u001b[0;34m,\u001b[0m \u001b[0mifu\u001b[0m \u001b[0;34m=\u001b[0m \u001b[0mself\u001b[0m\u001b[0;34m.\u001b[0m\u001b[0mplateifu\u001b[0m\u001b[0;34m.\u001b[0m\u001b[0msplit\u001b[0m\u001b[0;34m(\u001b[0m\u001b[0;34m'-'\u001b[0m\u001b[0;34m)\u001b[0m\u001b[0;34m\u001b[0m\u001b[0;34m\u001b[0m\u001b[0m\n\u001b[0;32m--> 134\u001b[0;31m         \u001b[0mdir3d\u001b[0m \u001b[0;34m=\u001b[0m \u001b[0mself\u001b[0m\u001b[0;34m.\u001b[0m\u001b[0m_get_image_dir\u001b[0m\u001b[0;34m(\u001b[0m\u001b[0;34m)\u001b[0m\u001b[0;34m\u001b[0m\u001b[0;34m\u001b[0m\u001b[0m\n\u001b[0m\u001b[1;32m    135\u001b[0m \u001b[0;34m\u001b[0m\u001b[0m\n\u001b[1;32m    136\u001b[0m         \u001b[0mname\u001b[0m \u001b[0;34m=\u001b[0m \u001b[0;34m'mangaimage'\u001b[0m\u001b[0;34m\u001b[0m\u001b[0;34m\u001b[0m\u001b[0m\n",
            "\u001b[0;32m/usr/local/lib/python3.7/dist-packages/marvin/tools/image.py\u001b[0m in \u001b[0;36m_get_image_dir\u001b[0;34m(self)\u001b[0m\n\u001b[1;32m    121\u001b[0m \u001b[0;34m\u001b[0m\u001b[0m\n\u001b[1;32m    122\u001b[0m         \u001b[0;31m# get the appropriate image directory\u001b[0m\u001b[0;34m\u001b[0m\u001b[0;34m\u001b[0m\u001b[0;34m\u001b[0m\u001b[0m\n\u001b[0;32m--> 123\u001b[0;31m         \u001b[0mis_mastar\u001b[0m \u001b[0;34m=\u001b[0m \u001b[0mtarget_is_mastar\u001b[0m\u001b[0;34m(\u001b[0m\u001b[0mself\u001b[0m\u001b[0;34m.\u001b[0m\u001b[0mplateifu\u001b[0m\u001b[0;34m,\u001b[0m \u001b[0mdrpver\u001b[0m\u001b[0;34m=\u001b[0m\u001b[0mself\u001b[0m\u001b[0;34m.\u001b[0m\u001b[0m_drpver\u001b[0m\u001b[0;34m)\u001b[0m\u001b[0;34m\u001b[0m\u001b[0;34m\u001b[0m\u001b[0m\n\u001b[0m\u001b[1;32m    124\u001b[0m         \u001b[0mimage_dir\u001b[0m \u001b[0;34m=\u001b[0m \u001b[0;34m'mastar'\u001b[0m \u001b[0;32mif\u001b[0m \u001b[0mis_mastar\u001b[0m \u001b[0;32melse\u001b[0m \u001b[0;34m'stack'\u001b[0m\u001b[0;34m\u001b[0m\u001b[0;34m\u001b[0m\u001b[0m\n\u001b[1;32m    125\u001b[0m         \u001b[0;32mreturn\u001b[0m \u001b[0mimage_dir\u001b[0m\u001b[0;34m\u001b[0m\u001b[0;34m\u001b[0m\u001b[0m\n",
            "\u001b[0;32m/usr/local/lib/python3.7/dist-packages/marvin/utils/general/general.py\u001b[0m in \u001b[0;36mtarget_is_mastar\u001b[0;34m(plateifu, drpver, drpall)\u001b[0m\n\u001b[1;32m   1725\u001b[0m     '''\n\u001b[1;32m   1726\u001b[0m \u001b[0;34m\u001b[0m\u001b[0m\n\u001b[0;32m-> 1727\u001b[0;31m     \u001b[0mrow\u001b[0m \u001b[0;34m=\u001b[0m \u001b[0mget_drpall_row\u001b[0m\u001b[0;34m(\u001b[0m\u001b[0mplateifu\u001b[0m\u001b[0;34m,\u001b[0m \u001b[0mdrpver\u001b[0m\u001b[0;34m=\u001b[0m\u001b[0mdrpver\u001b[0m\u001b[0;34m,\u001b[0m \u001b[0mdrpall\u001b[0m\u001b[0;34m=\u001b[0m\u001b[0mdrpall\u001b[0m\u001b[0;34m)\u001b[0m\u001b[0;34m\u001b[0m\u001b[0;34m\u001b[0m\u001b[0m\n\u001b[0m\u001b[1;32m   1728\u001b[0m     \u001b[0;32mreturn\u001b[0m \u001b[0mrow\u001b[0m\u001b[0;34m[\u001b[0m\u001b[0;34m'srvymode'\u001b[0m\u001b[0;34m]\u001b[0m \u001b[0;34m==\u001b[0m \u001b[0;34m'APOGEE lead'\u001b[0m\u001b[0;34m\u001b[0m\u001b[0;34m\u001b[0m\u001b[0m\n\u001b[1;32m   1729\u001b[0m \u001b[0;34m\u001b[0m\u001b[0m\n",
            "\u001b[0;32m/usr/local/lib/python3.7/dist-packages/marvin/utils/general/general.py\u001b[0m in \u001b[0;36mget_drpall_row\u001b[0;34m(plateifu, drpver, drpall)\u001b[0m\n\u001b[1;32m    986\u001b[0m \u001b[0;34m\u001b[0m\u001b[0m\n\u001b[1;32m    987\u001b[0m     \u001b[0;31m# get the drpall table\u001b[0m\u001b[0;34m\u001b[0m\u001b[0;34m\u001b[0m\u001b[0;34m\u001b[0m\u001b[0m\n\u001b[0;32m--> 988\u001b[0;31m     \u001b[0mdrpall_table\u001b[0m \u001b[0;34m=\u001b[0m \u001b[0mget_drpall_table\u001b[0m\u001b[0;34m(\u001b[0m\u001b[0mdrpver\u001b[0m\u001b[0;34m=\u001b[0m\u001b[0mdrpver\u001b[0m\u001b[0;34m,\u001b[0m \u001b[0mdrpall\u001b[0m\u001b[0;34m=\u001b[0m\u001b[0mdrpall\u001b[0m\u001b[0;34m,\u001b[0m \u001b[0mhdu\u001b[0m\u001b[0;34m=\u001b[0m\u001b[0;34m'MANGA'\u001b[0m\u001b[0;34m)\u001b[0m\u001b[0;34m\u001b[0m\u001b[0;34m\u001b[0m\u001b[0m\n\u001b[0m\u001b[1;32m    989\u001b[0m     \u001b[0min_table\u001b[0m \u001b[0;34m=\u001b[0m \u001b[0mplateifu\u001b[0m \u001b[0;32min\u001b[0m \u001b[0mdrpall_table\u001b[0m\u001b[0;34m[\u001b[0m\u001b[0;34m'plateifu'\u001b[0m\u001b[0;34m]\u001b[0m\u001b[0;34m\u001b[0m\u001b[0;34m\u001b[0m\u001b[0m\n\u001b[1;32m    990\u001b[0m     \u001b[0;31m# check the mastar extension\u001b[0m\u001b[0;34m\u001b[0m\u001b[0;34m\u001b[0m\u001b[0;34m\u001b[0m\u001b[0m\n",
            "\u001b[0;32m/usr/local/lib/python3.7/dist-packages/marvin/utils/general/general.py\u001b[0m in \u001b[0;36mget_drpall_table\u001b[0;34m(drpver, drpall, hdu)\u001b[0m\n\u001b[1;32m   1768\u001b[0m     \u001b[0;32mif\u001b[0m \u001b[0mhdu\u001b[0m \u001b[0;32mnot\u001b[0m \u001b[0;32min\u001b[0m \u001b[0mdrpTable\u001b[0m\u001b[0;34m[\u001b[0m\u001b[0mdrpver\u001b[0m\u001b[0;34m]\u001b[0m\u001b[0;34m:\u001b[0m\u001b[0;34m\u001b[0m\u001b[0;34m\u001b[0m\u001b[0m\n\u001b[1;32m   1769\u001b[0m         \u001b[0mdrpall\u001b[0m \u001b[0;34m=\u001b[0m \u001b[0mdrpall\u001b[0m \u001b[0;32mif\u001b[0m \u001b[0mdrpall\u001b[0m \u001b[0;32melse\u001b[0m \u001b[0mget_drpall_path\u001b[0m\u001b[0;34m(\u001b[0m\u001b[0mdrpver\u001b[0m\u001b[0;34m=\u001b[0m\u001b[0mdrpver\u001b[0m\u001b[0;34m)\u001b[0m\u001b[0;34m\u001b[0m\u001b[0;34m\u001b[0m\u001b[0m\n\u001b[0;32m-> 1770\u001b[0;31m         \u001b[0mdata\u001b[0m \u001b[0;34m=\u001b[0m \u001b[0;34m{\u001b[0m\u001b[0mhduext\u001b[0m\u001b[0;34m:\u001b[0m \u001b[0mtable\u001b[0m\u001b[0;34m.\u001b[0m\u001b[0mTable\u001b[0m\u001b[0;34m.\u001b[0m\u001b[0mread\u001b[0m\u001b[0;34m(\u001b[0m\u001b[0mdrpall\u001b[0m\u001b[0;34m,\u001b[0m \u001b[0mhdu\u001b[0m\u001b[0;34m=\u001b[0m\u001b[0mhduext\u001b[0m\u001b[0;34m)\u001b[0m\u001b[0;34m}\u001b[0m\u001b[0;34m\u001b[0m\u001b[0;34m\u001b[0m\u001b[0m\n\u001b[0m\u001b[1;32m   1771\u001b[0m         \u001b[0mdrpTable\u001b[0m\u001b[0;34m[\u001b[0m\u001b[0mdrpver\u001b[0m\u001b[0;34m]\u001b[0m\u001b[0;34m.\u001b[0m\u001b[0mupdate\u001b[0m\u001b[0;34m(\u001b[0m\u001b[0mdata\u001b[0m\u001b[0;34m)\u001b[0m\u001b[0;34m\u001b[0m\u001b[0;34m\u001b[0m\u001b[0m\n\u001b[1;32m   1772\u001b[0m \u001b[0;34m\u001b[0m\u001b[0m\n",
            "\u001b[0;32m/usr/local/lib/python3.7/dist-packages/astropy/table/connect.py\u001b[0m in \u001b[0;36m__call__\u001b[0;34m(self, *args, **kwargs)\u001b[0m\n\u001b[1;32m     59\u001b[0m         \u001b[0mdescriptions\u001b[0m \u001b[0;34m=\u001b[0m \u001b[0mkwargs\u001b[0m\u001b[0;34m.\u001b[0m\u001b[0mpop\u001b[0m\u001b[0;34m(\u001b[0m\u001b[0;34m'descriptions'\u001b[0m\u001b[0;34m,\u001b[0m \u001b[0;32mNone\u001b[0m\u001b[0;34m)\u001b[0m\u001b[0;34m\u001b[0m\u001b[0;34m\u001b[0m\u001b[0m\n\u001b[1;32m     60\u001b[0m \u001b[0;34m\u001b[0m\u001b[0m\n\u001b[0;32m---> 61\u001b[0;31m         \u001b[0mout\u001b[0m \u001b[0;34m=\u001b[0m \u001b[0mregistry\u001b[0m\u001b[0;34m.\u001b[0m\u001b[0mread\u001b[0m\u001b[0;34m(\u001b[0m\u001b[0mcls\u001b[0m\u001b[0;34m,\u001b[0m \u001b[0;34m*\u001b[0m\u001b[0margs\u001b[0m\u001b[0;34m,\u001b[0m \u001b[0;34m**\u001b[0m\u001b[0mkwargs\u001b[0m\u001b[0;34m)\u001b[0m\u001b[0;34m\u001b[0m\u001b[0;34m\u001b[0m\u001b[0m\n\u001b[0m\u001b[1;32m     62\u001b[0m \u001b[0;34m\u001b[0m\u001b[0m\n\u001b[1;32m     63\u001b[0m         \u001b[0;31m# For some readers (e.g., ascii.ecsv), the returned `out` class is not\u001b[0m\u001b[0;34m\u001b[0m\u001b[0;34m\u001b[0m\u001b[0;34m\u001b[0m\u001b[0m\n",
            "\u001b[0;32m/usr/local/lib/python3.7/dist-packages/astropy/io/registry.py\u001b[0m in \u001b[0;36mread\u001b[0;34m(cls, format, cache, *args, **kwargs)\u001b[0m\n\u001b[1;32m    510\u001b[0m                     \u001b[0;32mtry\u001b[0m\u001b[0;34m:\u001b[0m\u001b[0;34m\u001b[0m\u001b[0;34m\u001b[0m\u001b[0m\n\u001b[1;32m    511\u001b[0m                         \u001b[0mctx\u001b[0m \u001b[0;34m=\u001b[0m \u001b[0mget_readable_fileobj\u001b[0m\u001b[0;34m(\u001b[0m\u001b[0margs\u001b[0m\u001b[0;34m[\u001b[0m\u001b[0;36m0\u001b[0m\u001b[0;34m]\u001b[0m\u001b[0;34m,\u001b[0m \u001b[0mencoding\u001b[0m\u001b[0;34m=\u001b[0m\u001b[0;34m'binary'\u001b[0m\u001b[0;34m,\u001b[0m \u001b[0mcache\u001b[0m\u001b[0;34m=\u001b[0m\u001b[0mcache\u001b[0m\u001b[0;34m)\u001b[0m\u001b[0;34m\u001b[0m\u001b[0;34m\u001b[0m\u001b[0m\n\u001b[0;32m--> 512\u001b[0;31m                         \u001b[0mfileobj\u001b[0m \u001b[0;34m=\u001b[0m \u001b[0mctx\u001b[0m\u001b[0;34m.\u001b[0m\u001b[0m__enter__\u001b[0m\u001b[0;34m(\u001b[0m\u001b[0;34m)\u001b[0m\u001b[0;34m\u001b[0m\u001b[0;34m\u001b[0m\u001b[0m\n\u001b[0m\u001b[1;32m    513\u001b[0m                     \u001b[0;32mexcept\u001b[0m \u001b[0mOSError\u001b[0m\u001b[0;34m:\u001b[0m\u001b[0;34m\u001b[0m\u001b[0;34m\u001b[0m\u001b[0m\n\u001b[1;32m    514\u001b[0m                         \u001b[0;32mraise\u001b[0m\u001b[0;34m\u001b[0m\u001b[0;34m\u001b[0m\u001b[0m\n",
            "\u001b[0;32m/usr/lib/python3.7/contextlib.py\u001b[0m in \u001b[0;36m__enter__\u001b[0;34m(self)\u001b[0m\n\u001b[1;32m    110\u001b[0m         \u001b[0;32mdel\u001b[0m \u001b[0mself\u001b[0m\u001b[0;34m.\u001b[0m\u001b[0margs\u001b[0m\u001b[0;34m,\u001b[0m \u001b[0mself\u001b[0m\u001b[0;34m.\u001b[0m\u001b[0mkwds\u001b[0m\u001b[0;34m,\u001b[0m \u001b[0mself\u001b[0m\u001b[0;34m.\u001b[0m\u001b[0mfunc\u001b[0m\u001b[0;34m\u001b[0m\u001b[0;34m\u001b[0m\u001b[0m\n\u001b[1;32m    111\u001b[0m         \u001b[0;32mtry\u001b[0m\u001b[0;34m:\u001b[0m\u001b[0;34m\u001b[0m\u001b[0;34m\u001b[0m\u001b[0m\n\u001b[0;32m--> 112\u001b[0;31m             \u001b[0;32mreturn\u001b[0m \u001b[0mnext\u001b[0m\u001b[0;34m(\u001b[0m\u001b[0mself\u001b[0m\u001b[0;34m.\u001b[0m\u001b[0mgen\u001b[0m\u001b[0;34m)\u001b[0m\u001b[0;34m\u001b[0m\u001b[0;34m\u001b[0m\u001b[0m\n\u001b[0m\u001b[1;32m    113\u001b[0m         \u001b[0;32mexcept\u001b[0m \u001b[0mStopIteration\u001b[0m\u001b[0;34m:\u001b[0m\u001b[0;34m\u001b[0m\u001b[0;34m\u001b[0m\u001b[0m\n\u001b[1;32m    114\u001b[0m             \u001b[0;32mraise\u001b[0m \u001b[0mRuntimeError\u001b[0m\u001b[0;34m(\u001b[0m\u001b[0;34m\"generator didn't yield\"\u001b[0m\u001b[0;34m)\u001b[0m \u001b[0;32mfrom\u001b[0m \u001b[0;32mNone\u001b[0m\u001b[0;34m\u001b[0m\u001b[0;34m\u001b[0m\u001b[0m\n",
            "\u001b[0;32m/usr/local/lib/python3.7/dist-packages/astropy/utils/data.py\u001b[0m in \u001b[0;36mget_readable_fileobj\u001b[0;34m(name_or_obj, encoding, cache, show_progress, remote_timeout, sources, http_headers)\u001b[0m\n\u001b[1;32m    260\u001b[0m                 \u001b[0mtimeout\u001b[0m\u001b[0;34m=\u001b[0m\u001b[0mremote_timeout\u001b[0m\u001b[0;34m,\u001b[0m \u001b[0msources\u001b[0m\u001b[0;34m=\u001b[0m\u001b[0msources\u001b[0m\u001b[0;34m,\u001b[0m\u001b[0;34m\u001b[0m\u001b[0;34m\u001b[0m\u001b[0m\n\u001b[1;32m    261\u001b[0m                 http_headers=http_headers)\n\u001b[0;32m--> 262\u001b[0;31m         \u001b[0mfileobj\u001b[0m \u001b[0;34m=\u001b[0m \u001b[0mio\u001b[0m\u001b[0;34m.\u001b[0m\u001b[0mFileIO\u001b[0m\u001b[0;34m(\u001b[0m\u001b[0mname_or_obj\u001b[0m\u001b[0;34m,\u001b[0m \u001b[0;34m'r'\u001b[0m\u001b[0;34m)\u001b[0m\u001b[0;34m\u001b[0m\u001b[0;34m\u001b[0m\u001b[0m\n\u001b[0m\u001b[1;32m    263\u001b[0m         \u001b[0;32mif\u001b[0m \u001b[0mis_url\u001b[0m \u001b[0;32mand\u001b[0m \u001b[0;32mnot\u001b[0m \u001b[0mcache\u001b[0m\u001b[0;34m:\u001b[0m\u001b[0;34m\u001b[0m\u001b[0;34m\u001b[0m\u001b[0m\n\u001b[1;32m    264\u001b[0m             \u001b[0mdelete_fds\u001b[0m\u001b[0;34m.\u001b[0m\u001b[0mappend\u001b[0m\u001b[0;34m(\u001b[0m\u001b[0mfileobj\u001b[0m\u001b[0;34m)\u001b[0m\u001b[0;34m\u001b[0m\u001b[0;34m\u001b[0m\u001b[0m\n",
            "\u001b[0;31mFileNotFoundError\u001b[0m: [Errno 2] No such file or directory: '/root/sas/dr16/manga/spectro/redux/v2_4_3/drpall-v2_4_3.fits'"
          ]
        }
      ]
    },
    {
      "cell_type": "code",
      "metadata": {
        "id": "K_DAW8wJIdmP"
      },
      "source": [
        ""
      ],
      "execution_count": null,
      "outputs": []
    }
  ]
}