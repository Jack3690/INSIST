{
  "nbformat": 4,
  "nbformat_minor": 0,
  "metadata": {
    "colab": {
      "name": "UV_Stellar_Catalog.ipynb",
      "provenance": [],
      "authorship_tag": "ABX9TyNsgX/tiA/IM1O9VQZUEclP",
      "include_colab_link": true
    },
    "kernelspec": {
      "name": "python3",
      "display_name": "Python 3"
    },
    "language_info": {
      "name": "python"
    }
  },
  "cells": [
    {
      "cell_type": "markdown",
      "metadata": {
        "id": "view-in-github",
        "colab_type": "text"
      },
      "source": [
        "<a href=\"https://colab.research.google.com/github/Jack3690/INSIST/blob/main/UV_Stellar_Catalog.ipynb\" target=\"_parent\"><img src=\"https://colab.research.google.com/assets/colab-badge.svg\" alt=\"Open In Colab\"/></a>"
      ]
    },
    {
      "cell_type": "markdown",
      "source": [
        "# **Install**"
      ],
      "metadata": {
        "id": "QOmHvVRpWmqp"
      }
    },
    {
      "cell_type": "code",
      "metadata": {
        "id": "kmKFEMMFZ74N",
        "outputId": "0efc895a-ee34-4404-9151-bde4cd37d69e",
        "colab": {
          "base_uri": "https://localhost:8080/"
        }
      },
      "source": [
        "!pip install git+https://github.com/rlwastro/mastcasjobs@master --quiet\n",
        "!pip install git+https://github.com/astrofrog/sedfitter@master --quiet"
      ],
      "execution_count": 1,
      "outputs": [
        {
          "output_type": "stream",
          "name": "stdout",
          "text": [
            "\u001b[K     |████████████████████████████████| 10.8 MB 4.4 MB/s \n",
            "\u001b[?25h  Installing build dependencies ... \u001b[?25l\u001b[?25hdone\n",
            "  Getting requirements to build wheel ... \u001b[?25l\u001b[?25hdone\n",
            "  Installing backend dependencies ... \u001b[?25l\u001b[?25hdone\n",
            "    Preparing wheel metadata ... \u001b[?25l\u001b[?25hdone\n",
            "  Building wheel for pysynphot (PEP 517) ... \u001b[?25l\u001b[?25hdone\n",
            "  Building wheel for mastcasjobs (setup.py) ... \u001b[?25l\u001b[?25hdone\n",
            "  Building wheel for casjobs (setup.py) ... \u001b[?25l\u001b[?25hdone\n",
            "  Building wheel for sedfitter (setup.py) ... \u001b[?25l\u001b[?25hdone\n"
          ]
        }
      ]
    },
    {
      "cell_type": "markdown",
      "source": [
        "# **GitHub**"
      ],
      "metadata": {
        "id": "i1mcLAB5DFSt"
      }
    },
    {
      "cell_type": "code",
      "metadata": {
        "colab": {
          "base_uri": "https://localhost:8080/"
        },
        "id": "4D-dNXcqSeX_",
        "outputId": "ed9e71d8-fb04-4968-acab-b8762650489f"
      },
      "source": [
        "!git clone https://github.com/Jack3690/INSIST"
      ],
      "execution_count": 43,
      "outputs": [
        {
          "output_type": "stream",
          "name": "stdout",
          "text": [
            "Cloning into 'INSIST'...\n",
            "remote: Enumerating objects: 746, done.\u001b[K\n",
            "remote: Counting objects: 100% (371/371), done.\u001b[K\n",
            "remote: Compressing objects: 100% (367/367), done.\u001b[K\n",
            "remote: Total 746 (delta 207), reused 4 (delta 2), pack-reused 375\u001b[K\n",
            "Receiving objects: 100% (746/746), 89.48 MiB | 13.68 MiB/s, done.\n",
            "Resolving deltas: 100% (395/395), done.\n"
          ]
        }
      ]
    },
    {
      "cell_type": "code",
      "metadata": {
        "id": "u7R9oIZbSjB5",
        "outputId": "9067793f-2978-4fdf-af09-ceb8ed55d5d7",
        "colab": {
          "base_uri": "https://localhost:8080/"
        }
      },
      "source": [
        "cd INSIST/data"
      ],
      "execution_count": 73,
      "outputs": [
        {
          "output_type": "stream",
          "name": "stdout",
          "text": [
            "[Errno 2] No such file or directory: 'INSIST/data'\n",
            "/content/INSIST/data\n"
          ]
        }
      ]
    },
    {
      "cell_type": "code",
      "source": [
        "!cp -a plot.py /usr/local/lib/python3.7/dist-packages/sedfitter"
      ],
      "metadata": {
        "id": "AqO9xmcu88zH"
      },
      "execution_count": 45,
      "outputs": []
    },
    {
      "cell_type": "markdown",
      "metadata": {
        "id": "19zz7u-cSXtd"
      },
      "source": [
        "#**Imports**"
      ]
    },
    {
      "cell_type": "code",
      "metadata": {
        "id": "qVyee94faMdF"
      },
      "source": [
        "import numpy as np\n",
        "import pandas as pd\n",
        "import matplotlib\n",
        "import matplotlib.pyplot as plt\n",
        "import seaborn as sb\n",
        "\n",
        "from astropy import units as u\n",
        "from astropy.coordinates import SkyCoord\n",
        "from astropy.stats import gaussian_fwhm_to_sigma, gaussian_sigma_to_fwhm\n",
        "from astropy.modeling import models, fitting\n",
        "from astropy.visualization import LogStretch\n",
        "from astropy.visualization.mpl_normalize import ImageNormalize\n",
        "from astropy import wcs\n",
        "from matplotlib import cm\n",
        "from matplotlib.colors import ListedColormap, LinearSegmentedColormap\n",
        "from astropy.table import Table\n",
        "from astropy.io import fits\n",
        "\n",
        "import os\n",
        "from time import perf_counter\n",
        "import json\n",
        "import requests\n",
        "import sedfitter as sed\n",
        "\n",
        "import mastcasjobs\n",
        "from scipy.optimize import minimize_scalar,minimize\n",
        "\n",
        "# get the WSID and password if not already defined\n",
        "if not os.environ.get('CASJOBS_USERID'):\n",
        "    os.environ['CASJOBS_USERID'] = \"avinashck90\"\n",
        "if not os.environ.get('CASJOBS_PW'):\n",
        "    os.environ['CASJOBS_PW'] = \"INSIST369\"\n",
        "\n",
        "matplotlib.rcParams['font.size']=15\n",
        "matplotlib.rcParams['figure.figsize']=(15,10)\n",
        "sb.set_style('darkgrid')"
      ],
      "execution_count": 72,
      "outputs": []
    },
    {
      "cell_type": "markdown",
      "metadata": {
        "id": "EQW8jnRkGst-"
      },
      "source": [
        "# **Data**"
      ]
    },
    {
      "cell_type": "markdown",
      "metadata": {
        "id": "gtQQDMuCTv6D"
      },
      "source": [
        "## **CasJobs Script**"
      ]
    },
    {
      "cell_type": "code",
      "metadata": {
        "id": "wkGNEfD32zu7"
      },
      "source": [
        "def mastQuery(request, json_return=False):\n",
        "    \"\"\"Perform a MAST query.\n",
        "\n",
        "    Parameters\n",
        "    ----------\n",
        "    request (dictionary): The MAST request json object\n",
        "    \n",
        "    Returns the text response or (if json_return=True) the json response\n",
        "    \"\"\"\n",
        "    \n",
        "    url = \"https://mast.stsci.edu/api/v0/invoke\"\n",
        "\n",
        "    # Encoding the request as a json string\n",
        "    requestString = json.dumps(request)\n",
        "    \n",
        "    # make the query\n",
        "    r = requests.post(url, data=dict(request=requestString))\n",
        "    \n",
        "    # raise exception on error\n",
        "    r.raise_for_status()\n",
        "    \n",
        "    if json_return:\n",
        "        return r.json()\n",
        "    else:\n",
        "        return r.text\n",
        "\n",
        "\n",
        "def resolve(name):\n",
        "    \"\"\"Get the RA and Dec for an object using the MAST name resolver\n",
        "    \n",
        "    Parameters\n",
        "    ----------\n",
        "    name (str): Name of object\n",
        "\n",
        "    Returns RA, Dec tuple with position\"\"\"\n",
        "\n",
        "    resolverRequest = {'service':'Mast.Name.Lookup',\n",
        "                       'params':{'input':name,\n",
        "                                 'format':'json'\n",
        "                                },\n",
        "                      }\n",
        "    resolvedObject = mastQuery(resolverRequest, json_return=True)\n",
        "    # The resolver returns a variety of information about the resolved object, \n",
        "    # however for our purposes all we need are the RA and Dec\n",
        "    try:\n",
        "        objRa = resolvedObject['resolvedCoordinate'][0]['ra']\n",
        "        objDec = resolvedObject['resolvedCoordinate'][0]['decl']\n",
        "    except IndexError as e:\n",
        "        raise ValueError(\"Unknown object '{}'\".format(name))\n",
        "    return (objRa, objDec)"
      ],
      "execution_count": null,
      "outputs": []
    },
    {
      "cell_type": "code",
      "metadata": {
        "id": "wIHbrJgX4ju2"
      },
      "source": [
        "class casjobs():\n",
        "    \"\"\"PSF Generator using Source catalog or CasJobs GALEX Catalog\n",
        "\n",
        "    Parameters\n",
        "    ----------\n",
        "    name (string) : Catalog name or coordinates of the source\n",
        "\n",
        "    df   (pd.DataFrame ): Pandas dataframe with source catalog\n",
        "\n",
        "    cols (dict) : dict object with column name conversions for ra,dec,mag_nuv. Eg {'RA': 'ra','Dec' : 'dec', 'ABmag' : 'mag_nuv'}\n",
        "\n",
        "        'ra' (degrees)\n",
        "\n",
        "        'dec' (degrees)\n",
        "\n",
        "        'mag_nuv' (ABmag)\n",
        "\n",
        "    pixel_scale (float) : pixel scale of detector in the unit of arcseconds/pixels\n",
        "\n",
        "    fwhm_in (float) : Full Width at Half Maximum of the Gaussian PSF\n",
        "\n",
        "    n_pix_main (int) : Number of pixels along one axis in the detector. Total number of pixels in the detector is n_pix_main**2\n",
        "\n",
        "    n_pix_sub (int) : Number of pixels along one axis in the path. Total number of pixels in the patch is n_pix_sub**2\n",
        "\n",
        "    \"\"\"\n",
        "    def __init__(self,name = None, df = None ,cols = None):   \n",
        "\n",
        "        if name is not None and df is None:\n",
        "          self.name = name\n",
        "          self.ra,self.dec = resolve(name)\n",
        "      \n",
        "          self.jobs = mastcasjobs.MastCasJobs(context=\"PanSTARRS_DR2\")\n",
        "          self.query =   f\"\"\"select psc.objid,o.raStack,o.decStack,mag.gPSFMag, mag.gPSFMagErr,mag.rPSFMag, mag.rPSFMagErr,mag.iPSFMag, mag.iPSFMagErr,mag.zPSFMag,mag.zPSFMagErr, mag.yPSFMag,mag.yPSFMagErr,psc.ps_score\n",
        "                            from fGetNearbyObjEq({self.ra}, {self.dec}, 28) f\n",
        "                            join ObjectThin o on o.objid=f.objid\n",
        "                            join HLSP_PS1_PSC.pointsource_scores psc on psc.objid=f.objid\n",
        "                            join StackObjectThin mag on mag.objid=psc.objid\n",
        "                            WHERE\n",
        "                            mag.gPSFMag>-900 and \n",
        "                            mag.rPSFMag>-900 and \n",
        "                            mag.iPSFMag>-900 and \n",
        "                            mag.zPSFMag>-900 and \n",
        "                            mag.yPSFMag>-900 \n",
        "                          \"\"\"\n",
        "          self.df = self.jobs.quick(self.query, task_name=\"python cone search\").to_pandas()\n",
        "        else:\n",
        "          self.df = df \n",
        "        if cols is not None:\n",
        "          self.df = self.df.rename(columns=cols) \n",
        "    \n",
        "    def show_field(self,figsize=(10,10)):\n",
        "      \"\"\"\n",
        "      Function for creating a scatter plot of sources within the FoV\n",
        "      \n",
        "      Returns\n",
        "      -------\n",
        "      fig, ax\n",
        "      \"\"\"\n",
        "        \n",
        "      fig, ax = plt.subplots(1,1,figsize=figsize)\n",
        "      ax.scatter(self.df['ra'],self.df['dec'],marker='.',color='black')\n",
        "      ax.set_title(f\" Requested Center : {self.name} \\n  {len(self.df)} sources\")\n",
        "      ax.invert_xaxis()\n",
        "      ax.set_xlabel('RA (Degrees)')\n",
        "      ax.set_ylabel('Dec (Degrees)')\n",
        "      return fig,ax\n",
        "      \n",
        "        "
      ],
      "execution_count": null,
      "outputs": []
    },
    {
      "cell_type": "markdown",
      "metadata": {
        "id": "0gXXf6vJR5EO"
      },
      "source": [
        "## **Query**"
      ]
    },
    {
      "cell_type": "code",
      "source": [
        "df = pd.read_csv('M67_PS1.csv')\n",
        "df =  df.rename(columns = {'raStack':'ra','decStack':'dec'})"
      ],
      "metadata": {
        "id": "wKbprcA0ivBk"
      },
      "execution_count": null,
      "outputs": []
    },
    {
      "cell_type": "code",
      "metadata": {
        "id": "Ag0wgh7Y7GQN"
      },
      "source": [
        "df_star = df[df['ps_score']>0.5].copy()[:100]"
      ],
      "execution_count": null,
      "outputs": []
    },
    {
      "cell_type": "code",
      "source": [
        ""
      ],
      "metadata": {
        "id": "RpCLuPVA_E1_"
      },
      "execution_count": null,
      "outputs": []
    },
    {
      "cell_type": "markdown",
      "source": [
        "# **M 31**"
      ],
      "metadata": {
        "id": "rnSsRJIU_FtV"
      }
    },
    {
      "cell_type": "code",
      "source": [
        "df_M31 = Table.read('M31_UVIT_PanSTARRS_crossmatch.fits').to_pandas()"
      ],
      "metadata": {
        "id": "ISlKPkhT2hDW"
      },
      "execution_count": 5,
      "outputs": []
    },
    {
      "cell_type": "code",
      "source": [
        "df_star = df_M31[df_M31['ps_score']>0.5][:10].copy()\n",
        "df_star =  df_star.rename(columns = {'raStack':'ra','decStack':'dec'})"
      ],
      "metadata": {
        "id": "Hskutq_y2wJV"
      },
      "execution_count": 137,
      "outputs": []
    },
    {
      "cell_type": "code",
      "metadata": {
        "colab": {
          "base_uri": "https://localhost:8080/",
          "height": 601
        },
        "id": "-aTHfno94j2D",
        "outputId": "c26937a8-f543-47a0-8f67-7fa0a10bcd1c"
      },
      "source": [
        "df_star"
      ],
      "execution_count": 138,
      "outputs": [
        {
          "output_type": "execute_result",
          "data": {
            "text/html": [
              "\n",
              "  <div id=\"df-f99fbbbc-e2a0-4015-9c11-1b0a9e94f32a\">\n",
              "    <div class=\"colab-df-container\">\n",
              "      <div>\n",
              "<style scoped>\n",
              "    .dataframe tbody tr th:only-of-type {\n",
              "        vertical-align: middle;\n",
              "    }\n",
              "\n",
              "    .dataframe tbody tr th {\n",
              "        vertical-align: top;\n",
              "    }\n",
              "\n",
              "    .dataframe thead th {\n",
              "        text-align: right;\n",
              "    }\n",
              "</style>\n",
              "<table border=\"1\" class=\"dataframe\">\n",
              "  <thead>\n",
              "    <tr style=\"text-align: right;\">\n",
              "      <th></th>\n",
              "      <th>objid</th>\n",
              "      <th>ra</th>\n",
              "      <th>dec</th>\n",
              "      <th>gPSFMag</th>\n",
              "      <th>gPSFMagErr</th>\n",
              "      <th>rPSFMag</th>\n",
              "      <th>rPSFMagErr</th>\n",
              "      <th>iPSFMag</th>\n",
              "      <th>iPSFMagErr</th>\n",
              "      <th>zPSFMag</th>\n",
              "      <th>zPSFMagErr</th>\n",
              "      <th>yPSFMag</th>\n",
              "      <th>yPSFMagErr</th>\n",
              "      <th>ps_score</th>\n",
              "      <th>Filt1</th>\n",
              "      <th>Filt2</th>\n",
              "      <th>RAJ2000</th>\n",
              "      <th>DEJ2000</th>\n",
              "      <th>ABmag1</th>\n",
              "      <th>mag1</th>\n",
              "      <th>Errmag1</th>\n",
              "      <th>Field1</th>\n",
              "      <th>RA2deg</th>\n",
              "      <th>DE2deg</th>\n",
              "      <th>ABmag2</th>\n",
              "      <th>mag2</th>\n",
              "      <th>Errmag2</th>\n",
              "      <th>Field2</th>\n",
              "      <th>Sep</th>\n",
              "      <th>Separation</th>\n",
              "    </tr>\n",
              "  </thead>\n",
              "  <tbody>\n",
              "    <tr>\n",
              "      <th>0</th>\n",
              "      <td>157340109227129762</td>\n",
              "      <td>10.922739</td>\n",
              "      <td>41.124300</td>\n",
              "      <td>19.166800</td>\n",
              "      <td>0.006854</td>\n",
              "      <td>19.014500</td>\n",
              "      <td>0.007228</td>\n",
              "      <td>19.201599</td>\n",
              "      <td>0.006759</td>\n",
              "      <td>19.291201</td>\n",
              "      <td>0.018884</td>\n",
              "      <td>19.500000</td>\n",
              "      <td>0.030220</td>\n",
              "      <td>0.980958</td>\n",
              "      <td>b'FUVCaF2    '</td>\n",
              "      <td>b'NUVN2      '</td>\n",
              "      <td>10.9228</td>\n",
              "      <td>41.1242</td>\n",
              "      <td>22.156</td>\n",
              "      <td>19.755</td>\n",
              "      <td>0.124</td>\n",
              "      <td>b'1         '</td>\n",
              "      <td>10.9227</td>\n",
              "      <td>41.1243</td>\n",
              "      <td>20.267</td>\n",
              "      <td>18.767</td>\n",
              "      <td>0.145</td>\n",
              "      <td>b'1         '</td>\n",
              "      <td>0.33</td>\n",
              "      <td>0.395743</td>\n",
              "    </tr>\n",
              "    <tr>\n",
              "      <th>1</th>\n",
              "      <td>157350108218814598</td>\n",
              "      <td>10.821905</td>\n",
              "      <td>41.128297</td>\n",
              "      <td>19.927500</td>\n",
              "      <td>0.011572</td>\n",
              "      <td>19.940701</td>\n",
              "      <td>0.013347</td>\n",
              "      <td>20.227200</td>\n",
              "      <td>0.015063</td>\n",
              "      <td>20.469200</td>\n",
              "      <td>0.058316</td>\n",
              "      <td>21.181499</td>\n",
              "      <td>0.179356</td>\n",
              "      <td>0.754958</td>\n",
              "      <td>b'FUVCaF2    '</td>\n",
              "      <td>b'NUVN2      '</td>\n",
              "      <td>10.8219</td>\n",
              "      <td>41.1283</td>\n",
              "      <td>22.973</td>\n",
              "      <td>20.572</td>\n",
              "      <td>0.189</td>\n",
              "      <td>b'1         '</td>\n",
              "      <td>10.8219</td>\n",
              "      <td>41.1283</td>\n",
              "      <td>20.959</td>\n",
              "      <td>19.459</td>\n",
              "      <td>0.207</td>\n",
              "      <td>b'1         '</td>\n",
              "      <td>0.08</td>\n",
              "      <td>0.017808</td>\n",
              "    </tr>\n",
              "    <tr>\n",
              "      <th>9</th>\n",
              "      <td>157370109140545982</td>\n",
              "      <td>10.914085</td>\n",
              "      <td>41.146146</td>\n",
              "      <td>19.370600</td>\n",
              "      <td>0.007357</td>\n",
              "      <td>19.448799</td>\n",
              "      <td>0.007755</td>\n",
              "      <td>19.645700</td>\n",
              "      <td>0.009382</td>\n",
              "      <td>19.651600</td>\n",
              "      <td>0.022474</td>\n",
              "      <td>19.953100</td>\n",
              "      <td>0.047216</td>\n",
              "      <td>0.878381</td>\n",
              "      <td>b'FUVCaF2    '</td>\n",
              "      <td>b'NUVN2      '</td>\n",
              "      <td>10.9140</td>\n",
              "      <td>41.1461</td>\n",
              "      <td>21.984</td>\n",
              "      <td>19.583</td>\n",
              "      <td>0.114</td>\n",
              "      <td>b'1         '</td>\n",
              "      <td>10.9140</td>\n",
              "      <td>41.1462</td>\n",
              "      <td>20.669</td>\n",
              "      <td>19.169</td>\n",
              "      <td>0.176</td>\n",
              "      <td>b'1         '</td>\n",
              "      <td>0.24</td>\n",
              "      <td>0.284070</td>\n",
              "    </tr>\n",
              "    <tr>\n",
              "      <th>12</th>\n",
              "      <td>157370109233994618</td>\n",
              "      <td>10.923382</td>\n",
              "      <td>41.144935</td>\n",
              "      <td>20.432600</td>\n",
              "      <td>0.015134</td>\n",
              "      <td>20.618200</td>\n",
              "      <td>0.021923</td>\n",
              "      <td>20.797400</td>\n",
              "      <td>0.024957</td>\n",
              "      <td>21.109900</td>\n",
              "      <td>0.089870</td>\n",
              "      <td>21.309000</td>\n",
              "      <td>0.171389</td>\n",
              "      <td>0.827542</td>\n",
              "      <td>b'FUVCaF2    '</td>\n",
              "      <td>b'NUVN2      '</td>\n",
              "      <td>10.9234</td>\n",
              "      <td>41.1449</td>\n",
              "      <td>21.955</td>\n",
              "      <td>19.554</td>\n",
              "      <td>0.112</td>\n",
              "      <td>b'1         '</td>\n",
              "      <td>10.9234</td>\n",
              "      <td>41.1449</td>\n",
              "      <td>20.833</td>\n",
              "      <td>19.333</td>\n",
              "      <td>0.187</td>\n",
              "      <td>b'1         '</td>\n",
              "      <td>0.08</td>\n",
              "      <td>0.134448</td>\n",
              "    </tr>\n",
              "    <tr>\n",
              "      <th>15</th>\n",
              "      <td>157380108253555129</td>\n",
              "      <td>10.825354</td>\n",
              "      <td>41.153794</td>\n",
              "      <td>20.025299</td>\n",
              "      <td>0.012747</td>\n",
              "      <td>20.400499</td>\n",
              "      <td>0.019732</td>\n",
              "      <td>20.898899</td>\n",
              "      <td>0.029436</td>\n",
              "      <td>21.675200</td>\n",
              "      <td>0.161203</td>\n",
              "      <td>22.522200</td>\n",
              "      <td>0.547691</td>\n",
              "      <td>0.742468</td>\n",
              "      <td>b'FUVCaF2    '</td>\n",
              "      <td>b'NUVN2      '</td>\n",
              "      <td>10.8254</td>\n",
              "      <td>41.1538</td>\n",
              "      <td>21.068</td>\n",
              "      <td>18.667</td>\n",
              "      <td>0.078</td>\n",
              "      <td>b'1         '</td>\n",
              "      <td>10.8253</td>\n",
              "      <td>41.1538</td>\n",
              "      <td>19.989</td>\n",
              "      <td>18.489</td>\n",
              "      <td>0.129</td>\n",
              "      <td>b'1         '</td>\n",
              "      <td>0.14</td>\n",
              "      <td>0.126107</td>\n",
              "    </tr>\n",
              "    <tr>\n",
              "      <th>16</th>\n",
              "      <td>157380109041666548</td>\n",
              "      <td>10.904230</td>\n",
              "      <td>41.155025</td>\n",
              "      <td>20.680901</td>\n",
              "      <td>0.020027</td>\n",
              "      <td>21.081699</td>\n",
              "      <td>0.035581</td>\n",
              "      <td>21.052099</td>\n",
              "      <td>0.038105</td>\n",
              "      <td>21.200899</td>\n",
              "      <td>0.109916</td>\n",
              "      <td>20.672199</td>\n",
              "      <td>0.094312</td>\n",
              "      <td>0.662577</td>\n",
              "      <td>b'FUVCaF2    '</td>\n",
              "      <td>b'NUVN2      '</td>\n",
              "      <td>10.9044</td>\n",
              "      <td>41.1549</td>\n",
              "      <td>20.982</td>\n",
              "      <td>18.581</td>\n",
              "      <td>0.077</td>\n",
              "      <td>b'1         '</td>\n",
              "      <td>10.9043</td>\n",
              "      <td>41.1549</td>\n",
              "      <td>20.423</td>\n",
              "      <td>18.923</td>\n",
              "      <td>0.156</td>\n",
              "      <td>b'1         '</td>\n",
              "      <td>0.22</td>\n",
              "      <td>0.644070</td>\n",
              "    </tr>\n",
              "    <tr>\n",
              "      <th>17</th>\n",
              "      <td>157380109152072565</td>\n",
              "      <td>10.915229</td>\n",
              "      <td>41.151610</td>\n",
              "      <td>19.637100</td>\n",
              "      <td>0.008957</td>\n",
              "      <td>19.394400</td>\n",
              "      <td>0.008442</td>\n",
              "      <td>19.478201</td>\n",
              "      <td>0.008784</td>\n",
              "      <td>19.429001</td>\n",
              "      <td>0.018646</td>\n",
              "      <td>19.729099</td>\n",
              "      <td>0.044062</td>\n",
              "      <td>0.982000</td>\n",
              "      <td>b'FUVCaF2    '</td>\n",
              "      <td>b'NUVN2      '</td>\n",
              "      <td>10.9152</td>\n",
              "      <td>41.1516</td>\n",
              "      <td>22.216</td>\n",
              "      <td>19.815</td>\n",
              "      <td>0.129</td>\n",
              "      <td>b'1         '</td>\n",
              "      <td>10.9152</td>\n",
              "      <td>41.1515</td>\n",
              "      <td>20.471</td>\n",
              "      <td>18.971</td>\n",
              "      <td>0.158</td>\n",
              "      <td>b'1         '</td>\n",
              "      <td>0.23</td>\n",
              "      <td>0.086737</td>\n",
              "    </tr>\n",
              "    <tr>\n",
              "      <th>21</th>\n",
              "      <td>157380109682042534</td>\n",
              "      <td>10.968279</td>\n",
              "      <td>41.151657</td>\n",
              "      <td>20.176800</td>\n",
              "      <td>0.014718</td>\n",
              "      <td>20.649500</td>\n",
              "      <td>0.031072</td>\n",
              "      <td>20.860201</td>\n",
              "      <td>0.025429</td>\n",
              "      <td>20.725201</td>\n",
              "      <td>0.057236</td>\n",
              "      <td>20.750299</td>\n",
              "      <td>0.103234</td>\n",
              "      <td>0.908333</td>\n",
              "      <td>b'FUVCaF2    '</td>\n",
              "      <td>b'NUVN2      '</td>\n",
              "      <td>10.9682</td>\n",
              "      <td>41.1516</td>\n",
              "      <td>20.445</td>\n",
              "      <td>18.044</td>\n",
              "      <td>0.047</td>\n",
              "      <td>b'1, 7      '</td>\n",
              "      <td>10.9682</td>\n",
              "      <td>41.1516</td>\n",
              "      <td>19.935</td>\n",
              "      <td>18.435</td>\n",
              "      <td>0.092</td>\n",
              "      <td>b'1, 7      '</td>\n",
              "      <td>0.14</td>\n",
              "      <td>0.298064</td>\n",
              "    </tr>\n",
              "    <tr>\n",
              "      <th>22</th>\n",
              "      <td>157390108841348391</td>\n",
              "      <td>10.884237</td>\n",
              "      <td>41.164827</td>\n",
              "      <td>19.809000</td>\n",
              "      <td>0.010636</td>\n",
              "      <td>19.623899</td>\n",
              "      <td>0.010883</td>\n",
              "      <td>19.896900</td>\n",
              "      <td>0.013037</td>\n",
              "      <td>19.758699</td>\n",
              "      <td>0.028134</td>\n",
              "      <td>20.024599</td>\n",
              "      <td>0.048989</td>\n",
              "      <td>0.723396</td>\n",
              "      <td>b'FUVCaF2    '</td>\n",
              "      <td>b'NUVN2      '</td>\n",
              "      <td>10.8842</td>\n",
              "      <td>41.1648</td>\n",
              "      <td>20.654</td>\n",
              "      <td>18.253</td>\n",
              "      <td>0.068</td>\n",
              "      <td>b'1         '</td>\n",
              "      <td>10.8842</td>\n",
              "      <td>41.1648</td>\n",
              "      <td>19.753</td>\n",
              "      <td>18.253</td>\n",
              "      <td>0.115</td>\n",
              "      <td>b'1         '</td>\n",
              "      <td>0.19</td>\n",
              "      <td>0.140736</td>\n",
              "    </tr>\n",
              "    <tr>\n",
              "      <th>23</th>\n",
              "      <td>157390108898417576</td>\n",
              "      <td>10.889968</td>\n",
              "      <td>41.164172</td>\n",
              "      <td>20.032000</td>\n",
              "      <td>0.012276</td>\n",
              "      <td>20.002300</td>\n",
              "      <td>0.014587</td>\n",
              "      <td>20.626900</td>\n",
              "      <td>0.021584</td>\n",
              "      <td>21.151501</td>\n",
              "      <td>0.091410</td>\n",
              "      <td>20.598000</td>\n",
              "      <td>0.083246</td>\n",
              "      <td>0.824387</td>\n",
              "      <td>b'FUVCaF2    '</td>\n",
              "      <td>b'NUVN2      '</td>\n",
              "      <td>10.8900</td>\n",
              "      <td>41.1642</td>\n",
              "      <td>20.115</td>\n",
              "      <td>17.714</td>\n",
              "      <td>0.056</td>\n",
              "      <td>b'1         '</td>\n",
              "      <td>10.8900</td>\n",
              "      <td>41.1642</td>\n",
              "      <td>19.719</td>\n",
              "      <td>18.219</td>\n",
              "      <td>0.116</td>\n",
              "      <td>b'1         '</td>\n",
              "      <td>0.02</td>\n",
              "      <td>0.132102</td>\n",
              "    </tr>\n",
              "  </tbody>\n",
              "</table>\n",
              "</div>\n",
              "      <button class=\"colab-df-convert\" onclick=\"convertToInteractive('df-f99fbbbc-e2a0-4015-9c11-1b0a9e94f32a')\"\n",
              "              title=\"Convert this dataframe to an interactive table.\"\n",
              "              style=\"display:none;\">\n",
              "        \n",
              "  <svg xmlns=\"http://www.w3.org/2000/svg\" height=\"24px\"viewBox=\"0 0 24 24\"\n",
              "       width=\"24px\">\n",
              "    <path d=\"M0 0h24v24H0V0z\" fill=\"none\"/>\n",
              "    <path d=\"M18.56 5.44l.94 2.06.94-2.06 2.06-.94-2.06-.94-.94-2.06-.94 2.06-2.06.94zm-11 1L8.5 8.5l.94-2.06 2.06-.94-2.06-.94L8.5 2.5l-.94 2.06-2.06.94zm10 10l.94 2.06.94-2.06 2.06-.94-2.06-.94-.94-2.06-.94 2.06-2.06.94z\"/><path d=\"M17.41 7.96l-1.37-1.37c-.4-.4-.92-.59-1.43-.59-.52 0-1.04.2-1.43.59L10.3 9.45l-7.72 7.72c-.78.78-.78 2.05 0 2.83L4 21.41c.39.39.9.59 1.41.59.51 0 1.02-.2 1.41-.59l7.78-7.78 2.81-2.81c.8-.78.8-2.07 0-2.86zM5.41 20L4 18.59l7.72-7.72 1.47 1.35L5.41 20z\"/>\n",
              "  </svg>\n",
              "      </button>\n",
              "      \n",
              "  <style>\n",
              "    .colab-df-container {\n",
              "      display:flex;\n",
              "      flex-wrap:wrap;\n",
              "      gap: 12px;\n",
              "    }\n",
              "\n",
              "    .colab-df-convert {\n",
              "      background-color: #E8F0FE;\n",
              "      border: none;\n",
              "      border-radius: 50%;\n",
              "      cursor: pointer;\n",
              "      display: none;\n",
              "      fill: #1967D2;\n",
              "      height: 32px;\n",
              "      padding: 0 0 0 0;\n",
              "      width: 32px;\n",
              "    }\n",
              "\n",
              "    .colab-df-convert:hover {\n",
              "      background-color: #E2EBFA;\n",
              "      box-shadow: 0px 1px 2px rgba(60, 64, 67, 0.3), 0px 1px 3px 1px rgba(60, 64, 67, 0.15);\n",
              "      fill: #174EA6;\n",
              "    }\n",
              "\n",
              "    [theme=dark] .colab-df-convert {\n",
              "      background-color: #3B4455;\n",
              "      fill: #D2E3FC;\n",
              "    }\n",
              "\n",
              "    [theme=dark] .colab-df-convert:hover {\n",
              "      background-color: #434B5C;\n",
              "      box-shadow: 0px 1px 3px 1px rgba(0, 0, 0, 0.15);\n",
              "      filter: drop-shadow(0px 1px 2px rgba(0, 0, 0, 0.3));\n",
              "      fill: #FFFFFF;\n",
              "    }\n",
              "  </style>\n",
              "\n",
              "      <script>\n",
              "        const buttonEl =\n",
              "          document.querySelector('#df-f99fbbbc-e2a0-4015-9c11-1b0a9e94f32a button.colab-df-convert');\n",
              "        buttonEl.style.display =\n",
              "          google.colab.kernel.accessAllowed ? 'block' : 'none';\n",
              "\n",
              "        async function convertToInteractive(key) {\n",
              "          const element = document.querySelector('#df-f99fbbbc-e2a0-4015-9c11-1b0a9e94f32a');\n",
              "          const dataTable =\n",
              "            await google.colab.kernel.invokeFunction('convertToInteractive',\n",
              "                                                     [key], {});\n",
              "          if (!dataTable) return;\n",
              "\n",
              "          const docLinkHtml = 'Like what you see? Visit the ' +\n",
              "            '<a target=\"_blank\" href=https://colab.research.google.com/notebooks/data_table.ipynb>data table notebook</a>'\n",
              "            + ' to learn more about interactive tables.';\n",
              "          element.innerHTML = '';\n",
              "          dataTable['output_type'] = 'display_data';\n",
              "          await google.colab.output.renderOutput(dataTable, element);\n",
              "          const docLink = document.createElement('div');\n",
              "          docLink.innerHTML = docLinkHtml;\n",
              "          element.appendChild(docLink);\n",
              "        }\n",
              "      </script>\n",
              "    </div>\n",
              "  </div>\n",
              "  "
            ],
            "text/plain": [
              "                 objid         ra        dec  ...         Field2   Sep  Separation\n",
              "0   157340109227129762  10.922739  41.124300  ...  b'1         '  0.33    0.395743\n",
              "1   157350108218814598  10.821905  41.128297  ...  b'1         '  0.08    0.017808\n",
              "9   157370109140545982  10.914085  41.146146  ...  b'1         '  0.24    0.284070\n",
              "12  157370109233994618  10.923382  41.144935  ...  b'1         '  0.08    0.134448\n",
              "15  157380108253555129  10.825354  41.153794  ...  b'1         '  0.14    0.126107\n",
              "16  157380109041666548  10.904230  41.155025  ...  b'1         '  0.22    0.644070\n",
              "17  157380109152072565  10.915229  41.151610  ...  b'1         '  0.23    0.086737\n",
              "21  157380109682042534  10.968279  41.151657  ...  b'1, 7      '  0.14    0.298064\n",
              "22  157390108841348391  10.884237  41.164827  ...  b'1         '  0.19    0.140736\n",
              "23  157390108898417576  10.889968  41.164172  ...  b'1         '  0.02    0.132102\n",
              "\n",
              "[10 rows x 30 columns]"
            ]
          },
          "metadata": {},
          "execution_count": 138
        }
      ]
    },
    {
      "cell_type": "markdown",
      "metadata": {
        "id": "lpFsL5gWGx8c"
      },
      "source": [
        "# **Synthetic Spectra**"
      ]
    },
    {
      "cell_type": "markdown",
      "metadata": {
        "id": "6M19ommnIJ9F"
      },
      "source": [
        "## **Model**"
      ]
    },
    {
      "cell_type": "code",
      "metadata": {
        "id": "y8m_Kx4YlcfE"
      },
      "source": [
        "if os.path.exists('models_kurucz'):\n",
        "  os.system('rm -r models_kurucz')"
      ],
      "execution_count": 52,
      "outputs": []
    },
    {
      "cell_type": "code",
      "metadata": {
        "colab": {
          "base_uri": "https://localhost:8080/"
        },
        "id": "isKoiK_IaAPo",
        "outputId": "dc31609f-edf2-449c-bebd-b4d71012df9a"
      },
      "source": [
        "!curl -o models ftp://ftp.astro.wisc.edu/outgoing/tom/model_packages/models_kurucz_05sep11.tgz"
      ],
      "execution_count": 53,
      "outputs": [
        {
          "output_type": "stream",
          "name": "stdout",
          "text": [
            "  % Total    % Received % Xferd  Average Speed   Time    Time     Time  Current\n",
            "                                 Dload  Upload   Total   Spent    Left  Speed\n",
            "100 83.0M  100 83.0M    0     0  7203k      0  0:00:11  0:00:11 --:--:-- 12.2M\n"
          ]
        }
      ]
    },
    {
      "cell_type": "code",
      "metadata": {
        "id": "H1pHXnSTb4qs"
      },
      "source": [
        "!tar -xzf models"
      ],
      "execution_count": 54,
      "outputs": []
    },
    {
      "cell_type": "code",
      "metadata": {
        "id": "xKCvXhlRSDpM"
      },
      "source": [
        "!rm models"
      ],
      "execution_count": 55,
      "outputs": []
    },
    {
      "cell_type": "markdown",
      "metadata": {
        "id": "Uzzj0EYnIM_k"
      },
      "source": [
        "## **Filters**\n",
        "\n",
        "Initializing filter parameters using response curves"
      ]
    },
    {
      "cell_type": "code",
      "metadata": {
        "id": "_UsoB6lmQKSn"
      },
      "source": [
        "filter_dict = {'PS1g'    : [4881.47, 'PAN-STARRS_PS1.g.dat' ],\n",
        "               'PS1r'    : [6198.41, 'PAN-STARRS_PS1.r.dat' ],\n",
        "               'PS1i'    : [7549.34, 'PAN-STARRS_PS1.i.dat' ],\n",
        "               'PS1z'    : [8701.37, 'PAN-STARRS_PS1.z.dat' ],\n",
        "               'PS1y'    : [9509.80,'PAN-STARRS_PS1.y.dat' ],\n",
        "               'UVIT_NUV': [2792.56,'Astrosat_UVIT.N279N.dat'],\n",
        "               'UVIT_FUV': [1506.00,'Astrosat_UVIT.F148Wa.dat']}\n",
        "\n",
        "model_dir = 'models_kurucz'\n",
        "filter_list = []\n",
        "for filter in filter_dict.keys():\n",
        "\n",
        "  filt_obj = sed.filter.Filter()\n",
        "  filt_obj.name = filter\n",
        "  filt_obj.central_wavelength = (filter_dict[filter][0]*u.angstrom).to(u.micron)\n",
        "  filt_obj_wl, filt_obj_rsr = np.loadtxt(filter_dict[filter][1], usecols=(0, 1), unpack=True)\n",
        "  filt_obj.nu = 3.0e18 * u.Hz / np.flip(filt_obj_wl)\n",
        "  filt_obj_rsr = np.flip(filt_obj_rsr)\n",
        "  filt_obj.response = filt_obj_rsr/filt_obj_rsr.max() \n",
        "  filt_obj.normalize()\n",
        "  filter_list.append(filt_obj)"
      ],
      "execution_count": 95,
      "outputs": []
    },
    {
      "cell_type": "markdown",
      "source": [
        "Convolving filters with models"
      ],
      "metadata": {
        "id": "Mm94n46FfuyF"
      }
    },
    {
      "cell_type": "code",
      "source": [
        "sed.convolve.convolve_model_dir(model_dir, filter_list)"
      ],
      "metadata": {
        "id": "Mt88zrxnNY7v",
        "outputId": "d6134d99-fff0-4f88-82e9-3f22ed8313d7",
        "colab": {
          "base_uri": "https://localhost:8080/"
        }
      },
      "execution_count": 96,
      "outputs": [
        {
          "output_type": "stream",
          "name": "stderr",
          "text": [
            "WARNING: VerifyWarning: It is strongly recommended that column names contain only upper and lower-case ASCII letters, digits, or underscores for maximum compatibility with other software (got '[Z/H]'). [astropy.io.fits.column]\n"
          ]
        },
        {
          "output_type": "stream",
          "name": "stdout",
          "text": [
            "INFO: 3808 SEDs found in models_kurucz [sedfitter.convolve.convolve]\n",
            "INFO: Rebinning filters [sedfitter.convolve.convolve]\n"
          ]
        },
        {
          "output_type": "stream",
          "name": "stderr",
          "text": [
            "WARNING: AstropyDeprecationWarning: \"clobber\" was deprecated in version 2.0 and will be removed in a future version. Use argument \"overwrite\" instead. [sedfitter.convolved_fluxes.convolved_fluxes]\n"
          ]
        }
      ]
    },
    {
      "cell_type": "code",
      "metadata": {
        "colab": {
          "base_uri": "https://localhost:8080/",
          "height": 649
        },
        "id": "QvT2qTaxWQSW",
        "outputId": "14f93651-8166-49b5-e27b-bfdfab7cdc42"
      },
      "source": [
        "plt.figure(figsize = (20,10))\n",
        "for filter in filter_list:\n",
        "  plt.plot(filter.nu, filter.response)\n",
        "\n",
        "plt.xlabel(r'$\\nu$ (Hz)')\n",
        "plt.title('Normalized Filter Response',size=20)\n",
        "plt.legend(['g','r','i','z','y' ,'NUV','FUV'])\n"
      ],
      "execution_count": 60,
      "outputs": [
        {
          "output_type": "execute_result",
          "data": {
            "text/plain": [
              "<matplotlib.legend.Legend at 0x7f2c66a46610>"
            ]
          },
          "metadata": {},
          "execution_count": 60
        },
        {
          "output_type": "display_data",
          "data": {
            "image/png": "[encoded data removed]",
            "text/plain": [
              "<Figure size 1440x720 with 1 Axes>"
            ]
          },
          "metadata": {}
        }
      ]
    },
    {
      "cell_type": "markdown",
      "source": [
        "## **SED Fitting**"
      ],
      "metadata": {
        "id": "sf7SXtANK_t9"
      }
    },
    {
      "cell_type": "markdown",
      "source": [
        "### **SED Fitter**"
      ],
      "metadata": {
        "id": "_c01Mj7XLCxg"
      }
    },
    {
      "cell_type": "markdown",
      "source": [
        "#### **Without UV**"
      ],
      "metadata": {
        "id": "MRYE7pzxeOBc"
      }
    },
    {
      "cell_type": "code",
      "source": [
        "for i in ['g','r','i','z','y']:\n",
        "  df_star[f'{i}PSFFlux']     = 3631*pow(10,-df_star[f'{i}PSFMag']/2.5)*1000            #mJy\n",
        "\n",
        "  df_star[f'{i}PSFFlux_err'] = (df_star[f'{i}PSFMagErr']*df_star[f'{i}PSFFlux'])/1.09  #mJy\n",
        "\n",
        "df_star['g_flag']  = 1\n",
        "df_star['i_flag']  = 1\n",
        "df_star['r_flag']  = 1\n",
        "df_star['z_flag']  = 1\n",
        "df_star['y_flag']  = 1\n",
        "\n",
        "df_star = df_star.drop_duplicates('objid')\n",
        "\n",
        "df_out = df_star[['objid', 'ra', 'dec','g_flag', 'i_flag', 'r_flag', 'z_flag','y_flag','gPSFFlux','gPSFFlux_err','rPSFFlux', 'rPSFFlux_err','iPSFFlux', 'iPSFFlux_err','zPSFFlux', 'zPSFFlux_err','yPSFFlux', 'yPSFFlux_err']]\n",
        "\n",
        "df_out.to_csv('data_input.dat', sep = \" \",index=False, header=False)"
      ],
      "metadata": {
        "id": "qImQe0eKB4kX"
      },
      "execution_count": 210,
      "outputs": []
    },
    {
      "cell_type": "code",
      "source": [
        "model_dir = 'models_kurucz'\n",
        "\n",
        "# Read in extinction law)\n",
        "extinction = sed.Extinction.from_file('kmh94.par', columns=[0, 3],\n",
        "                                  wav_unit=u.micron, chi_unit=u.cm**2 / u.g)\n",
        "\n",
        "# Define filters and apertures\n",
        "filters = ['PS1g', 'PS1r', 'PS1i', 'PS1z', 'PS1y']\n",
        "apertures = [3., 3., 3., 3., 3.] * u.arcsec\n",
        "\n",
        "# Run the fitting\n",
        "d = sed.fit('data_input.dat', filters, apertures, model_dir, 'output.fitinfo', extinction_law=extinction, distance_range=[0.01, 2.] * u.Mpc,av_range=[0., 40.],output_convolved=True)"
      ],
      "metadata": {
        "id": "2jBtfjJCfPxP",
        "outputId": "03edae46-a0f2-4fa8-cb15-ab0919231e5b",
        "colab": {
          "base_uri": "https://localhost:8080/"
        }
      },
      "execution_count": 211,
      "outputs": [
        {
          "output_type": "stream",
          "name": "stdout",
          "text": [
            " ------------------------------------------------------------\n",
            "  => Model parameters\n",
            " ------------------------------------------------------------\n",
            "\n",
            "   Models              :  Kurucz stellar photospheres\n",
            "   Log[d] stepping     :  0.02\n",
            "\n",
            " ------------------------------------------------------------\n",
            "  => Reading in convolved fluxes\n",
            " ------------------------------------------------------------\n",
            "\n",
            "   Reading models_kurucz/convolved/PS1g.fits\n",
            "   Reading models_kurucz/convolved/PS1r.fits\n",
            "   Reading models_kurucz/convolved/PS1i.fits\n",
            "   Reading models_kurucz/convolved/PS1z.fits\n",
            "   Reading models_kurucz/convolved/PS1y.fits\n",
            " ------------------------------------------------------------\n",
            "  => Fitting parameters\n",
            " ------------------------------------------------------------\n",
            "\n",
            "   Minimum A_V      :     0.000 mag\n",
            "   Maximum A_V      :    40.000 mag\n",
            "   Minimum distance :     0.010 Mpc\n",
            "   Maximum distance :     2.000 Mpc\n",
            "\n",
            " ------------------------------------------------------------\n",
            "  => Output parameters\n",
            " ------------------------------------------------------------\n",
            "\n",
            "   File   : output.fitinfo\n",
            "   Format : F\n",
            "   Number : 6\n",
            "\n",
            " ------------------------------------------------------------\n",
            "  => Data format parameters\n",
            " ------------------------------------------------------------\n",
            "\n",
            "   Number of filters :  5\n",
            "\n",
            "\n",
            "     Filter    Wavelength    Aperture (\")   \n",
            "    ----------------------------------------\n",
            "        PS1g        0.49       3.00        \n",
            "        PS1r        0.62       3.00        \n",
            "        PS1i        0.75       3.00        \n",
            "        PS1z        0.87       3.00        \n",
            "        PS1y        0.95       3.00        \n",
            "\n",
            "Delete file output.fitinfo? [y/[n]] y\n",
            "\n",
            "   # Sources    CPU time (sec)    Sources/sec  \n",
            " ----------------------------------------------\n",
            "         11              0.1         173.98\n"
          ]
        }
      ]
    },
    {
      "cell_type": "markdown",
      "source": [
        "\n",
        "Extracting fitting parameters from SED Fitter output"
      ],
      "metadata": {
        "id": "7x93oO_ufopS"
      }
    },
    {
      "cell_type": "code",
      "source": [
        "from sedfitter import plot\n",
        "plot('output.fitinfo', 'plots_seds',format='png' , dpi = 1024)"
      ],
      "metadata": {
        "colab": {
          "base_uri": "https://localhost:8080/"
        },
        "outputId": "e44e6a42-b463-4ec1-ed0a-8e01d2533d3b",
        "id": "oUwMzy55fopS"
      },
      "execution_count": 212,
      "outputs": [
        {
          "output_type": "stream",
          "name": "stdout",
          "text": [
            "Delete directory plots_seds? [y/[n]] y\n",
            "\n"
          ]
        }
      ]
    },
    {
      "cell_type": "code",
      "source": [
        "fin = sed.FitInfoFile('output.fitinfo', 'r')\n",
        "modpar = sed.utils.parfile.read(\"%s/models.conf\" % fin.meta.model_dir, 'conf')\n",
        "\n",
        "f1 = Table.read('models_kurucz/convolved/PS1g.fits',hdu=1)\n",
        "f2 = Table.read('models_kurucz/convolved/PS1r.fits',hdu=1)\n",
        "f3 = Table.read('models_kurucz/convolved/PS1i.fits',hdu=1)\n",
        "f4 = Table.read('models_kurucz/convolved/PS1z.fits',hdu=1)\n",
        "f5 = Table.read('models_kurucz/convolved/PS1y.fits',hdu=1)\n",
        "FUV = Table.read('models_kurucz/convolved/UVIT_FUV.fits',hdu=1) \n",
        "\n",
        "\n",
        "flux     = []\n",
        "flux_err = []\n",
        "chi2     = []\n",
        "Avs      = []\n",
        "scs      = []\n",
        "\n",
        "model_names = []\n",
        "for info in fin:\n",
        "  Avs.append(info.av[0])\n",
        "  scs.append(info.sc[0])\n",
        "  model_name = info.model_name[0]\n",
        "  model_names.append(model_name)\n",
        "  chi2.append(info.chi2[0])\n",
        "\n",
        "  g = [f1[f1['MODEL_NAME'] == model_name]['TOTAL_FLUX'].value[0][0] , f1[f1['MODEL_NAME'] == model_name]['TOTAL_FLUX_ERR'].value[0][0]]\n",
        "  r = [f2[f2['MODEL_NAME'] == model_name]['TOTAL_FLUX'].value[0][0] , f2[f2['MODEL_NAME'] == model_name]['TOTAL_FLUX_ERR'].value[0][0]]\n",
        "  i = [f3[f3['MODEL_NAME'] == model_name]['TOTAL_FLUX'].value[0][0] , f3[f3['MODEL_NAME'] == model_name]['TOTAL_FLUX_ERR'].value[0][0]]\n",
        "  z = [f4[f4['MODEL_NAME'] == model_name]['TOTAL_FLUX'].value[0][0] , f4[f4['MODEL_NAME'] == model_name]['TOTAL_FLUX_ERR'].value[0][0]]\n",
        "  y = [f5[f5['MODEL_NAME'] == model_name]['TOTAL_FLUX'].value[0][0] , f5[f5['MODEL_NAME'] == model_name]['TOTAL_FLUX_ERR'].value[0][0]]\n",
        "\n",
        "  fuv =[FUV[FUV['MODEL_NAME'] == model_name]['TOTAL_FLUX'].value[0][0] , FUV[FUV['MODEL_NAME'] == model_name]['TOTAL_FLUX_ERR'].value[0][0]]\n",
        "\n",
        "  flux.append([fuv[0], g[0], r[0], i[0], z[0], y[0]])\n",
        "\n",
        "  flux_err.append([fuv[1],g[1], r[1], i[1], z[1], y[1]])\n",
        "\n",
        "flux = np.array(flux)\n",
        "\n",
        "flux_err = np.array(flux_err)\n",
        "\n",
        "Avs = np.array(Avs)\n",
        "\n",
        "scs = np.array(scs)"
      ],
      "metadata": {
        "id": "LTah2LPTfR7R"
      },
      "execution_count": 213,
      "outputs": []
    },
    {
      "cell_type": "code",
      "source": [
        "plt.plot(chi2)\n",
        "plt.yscale('log')\n",
        "plt.ylabel(r'$\\chi^2$')\n",
        "plt.xlabel('Sources')\n",
        "plt.title('SED Fitter')"
      ],
      "metadata": {
        "id": "ZXEEOneTfzCC",
        "outputId": "da2f3950-a1e3-4c80-f813-0353a7930510",
        "colab": {
          "base_uri": "https://localhost:8080/",
          "height": 642
        }
      },
      "execution_count": 214,
      "outputs": [
        {
          "output_type": "execute_result",
          "data": {
            "text/plain": [
              "Text(0.5, 1.0, 'SED Fitter')"
            ]
          },
          "metadata": {},
          "execution_count": 214
        },
        {
          "output_type": "display_data",
          "data": {
            "image/png": "[encoded data removed]",
            "text/plain": [
              "<Figure size 1080x720 with 1 Axes>"
            ]
          },
          "metadata": {}
        }
      ]
    },
    {
      "cell_type": "markdown",
      "source": [
        "#### **With UV**"
      ],
      "metadata": {
        "id": "qRC_xl-yfVch"
      }
    },
    {
      "cell_type": "code",
      "source": [
        "for i in ['g','r','i','z','y']:\n",
        "  df_star[f'{i}PSFFlux']     = 3631*pow(10,-df_star[f'{i}PSFMag']/2.5)*1000            #mJy\n",
        "\n",
        "  df_star[f'{i}PSFFlux_err'] = (df_star[f'{i}PSFMagErr']*df_star[f'{i}PSFFlux'])/1.09  #mJy\n",
        "\n",
        "\n",
        "df_star['FUVFlux'] = 3631*pow(10,-df_star['ABmag1']/2.5)*1000 \n",
        "df_star['FUVFlux_err'] = (df_star['Errmag1']*df_star['FUVFlux'])/1.09  #mJy \n",
        "\n",
        "df_star['NUVFlux'] = 3631*pow(10,-df_star['ABmag2']/2.5)*1000 \n",
        "df_star['NUVFlux_err'] = (df_star['Errmag2']*df_star['NUVFlux'])/1.09  #mJy \n",
        "\n",
        "df_star['fuv_flag']  = 1\n",
        "df_star['nuv_flag']  = 1\n",
        "df_star['g_flag']  = 1\n",
        "df_star['i_flag']  = 1\n",
        "df_star['r_flag']  = 1\n",
        "df_star['z_flag']  = 1\n",
        "df_star['y_flag']  = 1\n",
        "\n",
        "df_star = df_star.drop_duplicates('objid')\n",
        "\n",
        "df_out = df_star[['objid', 'ra', 'dec','fuv_flag','nuv_flag','g_flag', 'i_flag', 'r_flag', 'z_flag','y_flag','FUVFlux','FUVFlux_err','NUVFlux','NUVFlux_err','gPSFFlux','gPSFFlux_err','rPSFFlux', 'rPSFFlux_err','iPSFFlux', 'iPSFFlux_err','zPSFFlux', 'zPSFFlux_err','yPSFFlux', 'yPSFFlux_err']]\n",
        "\n",
        "df_out.to_csv('data_input.dat', sep = \" \",index=False, header=False)"
      ],
      "metadata": {
        "id": "kLuBZ_SwaGDT"
      },
      "execution_count": 188,
      "outputs": []
    },
    {
      "cell_type": "code",
      "metadata": {
        "id": "hISQHnrhh4oa"
      },
      "source": [
        "model_dir = 'models_kurucz'\n",
        "\n",
        "# Read in extinction law)\n",
        "extinction = sed.Extinction.from_file('kmh94.par', columns=[0, 3],\n",
        "                                  wav_unit=u.micron, chi_unit=u.cm**2 / u.g)\n",
        "\n",
        "# Define filters and apertures\n",
        "filters = ['UVIT_FUV', 'UVIT_NUV','PS1g', 'PS1r', 'PS1i', 'PS1z', 'PS1y']\n",
        "apertures = [1.8,1.8, 1.51, 1.39, 1.34, 1.27, 1.21] * u.arcsec\n",
        "\n",
        "# Run the fitting\n",
        "d = sed.fit('data_input.dat', filters, apertures, model_dir, 'output.fitinfo', extinction_law=extinction, distance_range=[0.01, 2.] * u.Mpc,av_range=[0., 10.],output_convolved=True)"
      ],
      "execution_count": null,
      "outputs": []
    },
    {
      "cell_type": "markdown",
      "source": [
        "\n",
        "Extracting fitting parameters from SED Fitter output"
      ],
      "metadata": {
        "id": "8cXsO5H0fzVS"
      }
    },
    {
      "cell_type": "code",
      "source": [
        "from sedfitter import plot\n",
        "plot('output.fitinfo', 'plots_seds_UV',format='png' , dpi = 1024)"
      ],
      "metadata": {
        "colab": {
          "base_uri": "https://localhost:8080/"
        },
        "id": "Cz9fEoAIxAqn",
        "outputId": "f2b738a5-b239-43aa-a92c-2d9bacbed996"
      },
      "execution_count": 198,
      "outputs": [
        {
          "output_type": "stream",
          "name": "stdout",
          "text": [
            "Delete directory plots_seds? [y/[n]] y\n",
            "\n"
          ]
        }
      ]
    },
    {
      "cell_type": "code",
      "source": [
        "fin = sed.FitInfoFile('output.fitinfo', 'r')\n",
        "modpar = sed.utils.parfile.read(\"%s/models.conf\" % fin.meta.model_dir, 'conf')\n",
        "\n",
        "\n",
        "FUV = Table.read('models_kurucz/convolved/UVIT_FUV.fits',hdu=1) \n",
        "NUV = Table.read('models_kurucz/convolved/UVIT_NUV.fits',hdu=1) \n",
        "\n",
        "f1 = Table.read('models_kurucz/convolved/PS1g.fits',hdu=1)\n",
        "f2 = Table.read('models_kurucz/convolved/PS1r.fits',hdu=1)\n",
        "f3 = Table.read('models_kurucz/convolved/PS1i.fits',hdu=1)\n",
        "f4 = Table.read('models_kurucz/convolved/PS1z.fits',hdu=1)\n",
        "f5 = Table.read('models_kurucz/convolved/PS1y.fits',hdu=1)\n",
        "\n",
        "flux     = []\n",
        "flux_err = []\n",
        "chi2     = []\n",
        "Avs      = []\n",
        "scs      = []\n",
        "\n",
        "model_names = []\n",
        "for info in fin:\n",
        "  Avs.append([info.av[0]]*7)\n",
        "  scs.append([info.sc[0]]*7)\n",
        "  model_name = info.model_name[0]\n",
        "  model_names.append(model_name)\n",
        "  chi2.append(info.chi2[0])\n",
        "\n",
        "  fuv =[FUV[FUV['MODEL_NAME'] == model_name]['TOTAL_FLUX'].value[0][0] , FUV[FUV['MODEL_NAME'] == model_name]['TOTAL_FLUX_ERR'].value[0][0]]\n",
        "\n",
        "  nuv =[NUV[NUV['MODEL_NAME'] == model_name]['TOTAL_FLUX'].value[0][0] , NUV[NUV['MODEL_NAME'] == model_name]['TOTAL_FLUX_ERR'].value[0][0]]\n",
        "\n",
        "  g = [f1[f1['MODEL_NAME'] == model_name]['TOTAL_FLUX'].value[0][0] , f1[f1['MODEL_NAME'] == model_name]['TOTAL_FLUX_ERR'].value[0][0]]\n",
        "  r = [f2[f2['MODEL_NAME'] == model_name]['TOTAL_FLUX'].value[0][0] , f2[f2['MODEL_NAME'] == model_name]['TOTAL_FLUX_ERR'].value[0][0]]\n",
        "  i = [f3[f3['MODEL_NAME'] == model_name]['TOTAL_FLUX'].value[0][0] , f3[f3['MODEL_NAME'] == model_name]['TOTAL_FLUX_ERR'].value[0][0]]\n",
        "  z = [f4[f4['MODEL_NAME'] == model_name]['TOTAL_FLUX'].value[0][0] , f4[f4['MODEL_NAME'] == model_name]['TOTAL_FLUX_ERR'].value[0][0]]\n",
        "  y = [f5[f5['MODEL_NAME'] == model_name]['TOTAL_FLUX'].value[0][0] , f5[f5['MODEL_NAME'] == model_name]['TOTAL_FLUX_ERR'].value[0][0]]\n",
        "\n",
        "\n",
        "  flux.append([fuv[0], nuv[0],  g[0], r[0], i[0], z[0], y[0]])\n",
        "\n",
        "  flux_err.append([fuv[1], nuv[1], g[1], r[1], i[1], z[1], y[1]])\n",
        "\n",
        "flux = np.array(flux)\n",
        "\n",
        "flux_err = np.array(flux_err)\n",
        "\n",
        "Avs = np.array(Avs)\n",
        "\n",
        "scs = np.array(scs)"
      ],
      "metadata": {
        "id": "CPqVMcz-kYBp"
      },
      "execution_count": 201,
      "outputs": []
    },
    {
      "cell_type": "code",
      "source": [
        "plt.plot(chi2)\n",
        "plt.yscale('log')\n",
        "plt.ylabel(r'$\\chi^2$')\n",
        "plt.xlabel('Sources')\n",
        "plt.title('SED Fitter')"
      ],
      "metadata": {
        "id": "xVZ6bNQSNsKm",
        "colab": {
          "base_uri": "https://localhost:8080/",
          "height": 642
        },
        "outputId": "57d1a3bf-9273-43d0-dbc7-6d108edcac51"
      },
      "execution_count": 107,
      "outputs": [
        {
          "output_type": "execute_result",
          "data": {
            "text/plain": [
              "Text(0.5, 1.0, 'SED Fitter')"
            ]
          },
          "metadata": {},
          "execution_count": 107
        },
        {
          "output_type": "display_data",
          "data": {
            "image/png": "[encoded data removed]",
            "text/plain": [
              "<Figure size 1080x720 with 1 Axes>"
            ]
          },
          "metadata": {}
        }
      ]
    },
    {
      "cell_type": "markdown",
      "source": [
        "### **SED Fitting Routine**"
      ],
      "metadata": {
        "id": "DZz_lg2LgAeH"
      }
    },
    {
      "cell_type": "markdown",
      "source": [
        "EMCEE : Bayesian. "
      ],
      "metadata": {
        "id": "1zoGmWyp_rhl"
      }
    },
    {
      "cell_type": "markdown",
      "source": [
        "#### **Data**"
      ],
      "metadata": {
        "id": "B-m7KaGO6R7D"
      }
    },
    {
      "cell_type": "code",
      "source": [
        "df_star = df_star.reset_index()"
      ],
      "metadata": {
        "id": "6MFlhQNQ6Q6R"
      },
      "execution_count": 80,
      "outputs": []
    },
    {
      "cell_type": "code",
      "source": [
        "for i in ['g','r','i','z','y']:\n",
        "  df_star[f'{i}PSFFlux']     = 3631*pow(10,-df_star[f'{i}PSFMag']/2.5)*1000            #mJy\n",
        "\n",
        "  df_star[f'{i}PSFFlux_err'] = (df_star[f'{i}PSFMagErr']*df_star[f'{i}PSFFlux'])/1.09  #mJy"
      ],
      "metadata": {
        "id": "387c96A46Q6S"
      },
      "execution_count": 81,
      "outputs": []
    },
    {
      "cell_type": "markdown",
      "source": [
        "#### **Without Av**"
      ],
      "metadata": {
        "id": "WQrCLm-A6k6J"
      }
    },
    {
      "cell_type": "code",
      "source": [
        "def chi2_func(Md,flux,model_flux,flux_err):\n",
        "  chi = (flux - Md*model_flux)/flux_err\n",
        "  return chi@chi"
      ],
      "metadata": {
        "id": "6Ncs6VwBZhN5"
      },
      "execution_count": null,
      "outputs": []
    },
    {
      "cell_type": "code",
      "source": [
        "# Convolved Filters\n",
        "\n",
        "f1 = Table.read('models_kurucz/convolved/PS1g.fits',hdu=1)['TOTAL_FLUX'].value[:,0]\n",
        "f2 = Table.read('models_kurucz/convolved/PS1r.fits',hdu=1)['TOTAL_FLUX'].value[:,0]\n",
        "f3 = Table.read('models_kurucz/convolved/PS1i.fits',hdu=1)['TOTAL_FLUX'].value[:,0]\n",
        "f4 = Table.read('models_kurucz/convolved/PS1z.fits',hdu=1)['TOTAL_FLUX'].value[:,0]\n",
        "f5 = Table.read('models_kurucz/convolved/PS1y.fits',hdu=1)['TOTAL_FLUX'].value[:,0]\n",
        "\n",
        "model_name = [ i  for i in Table.read('models_kurucz/convolved/PS1g.fits',hdu=1)['MODEL_NAME']]\n",
        "chi_set = []\n",
        "\n",
        "# Chi2 loop : Takes about 5 minutes with current settings\n",
        "for i,row in df_star.iterrows():\n",
        "  flux     = row[['gPSFFlux', 'rPSFFlux', 'iPSFFlux', 'zPSFFlux']].values\n",
        "  flux_err = row[['gPSFFlux_err', 'rPSFFlux_err', 'iPSFFlux_err', 'zPSFFlux_err']].values\n",
        "\n",
        "  for j,model_flux in enumerate(zip(f1,f2,f3,f4)):\n",
        "    model_flux = np.array(model_flux)\n",
        "    \n",
        "    Md = minimize_scalar(chi2_func,args=(flux,model_flux,flux_err)).x\n",
        "    \n",
        "    chi2   = chi2_func(Md,flux,model_flux,flux_err)\n",
        "    chi_set.append([row['objid'],model_name[j],Md,chi2])"
      ],
      "metadata": {
        "id": "KJl-6PRgSPPr"
      },
      "execution_count": null,
      "outputs": []
    },
    {
      "cell_type": "code",
      "source": [
        "df_chi = pd.DataFrame(chi_set, columns = ['objid','model_name','Md','chi2'])"
      ],
      "metadata": {
        "id": "Id5BL9rDcx8_"
      },
      "execution_count": null,
      "outputs": []
    },
    {
      "cell_type": "markdown",
      "source": [
        "#### **With Av**"
      ],
      "metadata": {
        "id": "S1Zj9mGVaWcx"
      }
    },
    {
      "cell_type": "markdown",
      "source": [
        "$\\chi^2 =\\dfrac{1}{N - n_p}\\sum\\limits_{i=1}^j\\left(\\dfrac{Y_{i,o} -M_d \\times Y_{i,M}\\times10^{-0.4\\times ext_i\\times A_v}}{\\sigma_{i,o}}\\right)^2$"
      ],
      "metadata": {
        "id": "kMPkihTNsf9T"
      }
    },
    {
      "cell_type": "code",
      "source": [
        "def chi2_func(params,flux,model_flux,flux_err,ext):\n",
        "  Md, av = params\n",
        "  chi = (flux - Md*model_flux*pow(10,-0.4*av*ext))/flux_err\n",
        "  return chi@chi"
      ],
      "metadata": {
        "id": "FtlzBKAGFSj-"
      },
      "execution_count": 60,
      "outputs": []
    },
    {
      "cell_type": "code",
      "source": [
        "# Convolved Filters\n",
        "\n",
        "f1 = Table.read('models_kurucz/convolved/PS1g.fits',hdu=1)['TOTAL_FLUX'].value[:,0]\n",
        "f2 = Table.read('models_kurucz/convolved/PS1r.fits',hdu=1)['TOTAL_FLUX'].value[:,0]\n",
        "f3 = Table.read('models_kurucz/convolved/PS1i.fits',hdu=1)['TOTAL_FLUX'].value[:,0]\n",
        "f4 = Table.read('models_kurucz/convolved/PS1z.fits',hdu=1)['TOTAL_FLUX'].value[:,0]\n",
        "f5 = Table.read('models_kurucz/convolved/PS1y.fits',hdu=1)['TOTAL_FLUX'].value[:,0]\n",
        "\n",
        "model_name = [ i  for i in Table.read('models_kurucz/convolved/PS1g.fits',hdu=1)['MODEL_NAME']]\n",
        "ext = np.array([1.18, 0.881, 0.667, 0.534,0.457])\n",
        "chi_set = []\n",
        "\n",
        "# Chi2 loop : Takes about 5 minutes with current settings\n",
        "for i,row in df_star.iterrows():\n",
        "  flux     = row[['gPSFFlux', 'rPSFFlux', 'iPSFFlux', 'zPSFFlux', 'yPSFFlux']].values\n",
        "  flux_err = row[['gPSFFlux_err', 'rPSFFlux_err', 'iPSFFlux_err', 'zPSFFlux_err', 'yPSFFlux_err']].values\n",
        "\n",
        "  for j,model_flux in enumerate(zip(f1,f2,f3,f4,f5)):\n",
        "    model_flux = np.array(model_flux)\n",
        "    \n",
        "    params = minimize(chi2_func,x0 = (1e-2,0.5),bounds=([0,np.inf],[0,np.inf]),args=(flux,model_flux,flux_err,ext)).x\n",
        "    Md, Av = params\n",
        "    chi2   = chi2_func(params,flux,model_flux,flux_err,ext)\n",
        "    chi_set.append([row['objid'],model_name[j],Md,Av,chi2])"
      ],
      "metadata": {
        "id": "N6H7xdrqZrQa"
      },
      "execution_count": 61,
      "outputs": []
    },
    {
      "cell_type": "code",
      "source": [
        "df_chi = pd.DataFrame(chi_set, columns = ['objid','model_name','Md','Av','chi2'])"
      ],
      "metadata": {
        "id": "X02-rJYpcvJV"
      },
      "execution_count": 62,
      "outputs": []
    },
    {
      "cell_type": "markdown",
      "source": [
        "#### **Minimize chi**"
      ],
      "metadata": {
        "id": "92Neow1Mac8I"
      }
    },
    {
      "cell_type": "code",
      "source": [
        "df_chi_min = df_chi[0:0]\n",
        "for i in df_chi['objid'].unique():\n",
        "  df_temp = df_chi[ df_chi['objid'] == i]\n",
        "  df_chi_min = df_chi_min.append(df_temp[df_temp['chi2']==df_temp['chi2'].min()])"
      ],
      "metadata": {
        "id": "Tt69f08oTkND"
      },
      "execution_count": 63,
      "outputs": []
    },
    {
      "cell_type": "code",
      "source": [
        "df_chi_min "
      ],
      "metadata": {
        "id": "P5cxrco0pKMN",
        "outputId": "86e1c6cb-580a-4f86-ba38-1674e6301f61",
        "colab": {
          "base_uri": "https://localhost:8080/",
          "height": 424
        }
      },
      "execution_count": 64,
      "outputs": [
        {
          "output_type": "execute_result",
          "data": {
            "text/html": [
              "\n",
              "  <div id=\"df-0716f8e7-538e-4cf6-b2d0-bfe671034880\">\n",
              "    <div class=\"colab-df-container\">\n",
              "      <div>\n",
              "<style scoped>\n",
              "    .dataframe tbody tr th:only-of-type {\n",
              "        vertical-align: middle;\n",
              "    }\n",
              "\n",
              "    .dataframe tbody tr th {\n",
              "        vertical-align: top;\n",
              "    }\n",
              "\n",
              "    .dataframe thead th {\n",
              "        text-align: right;\n",
              "    }\n",
              "</style>\n",
              "<table border=\"1\" class=\"dataframe\">\n",
              "  <thead>\n",
              "    <tr style=\"text-align: right;\">\n",
              "      <th></th>\n",
              "      <th>objid</th>\n",
              "      <th>model_name</th>\n",
              "      <th>Md</th>\n",
              "      <th>Av</th>\n",
              "      <th>chi2</th>\n",
              "    </tr>\n",
              "  </thead>\n",
              "  <tbody>\n",
              "    <tr>\n",
              "      <th>1514</th>\n",
              "      <td>157340109227129762</td>\n",
              "      <td>kt07750g+5.0z+0.5</td>\n",
              "      <td>0.005458</td>\n",
              "      <td>0.011774</td>\n",
              "      <td>163.507443</td>\n",
              "    </tr>\n",
              "    <tr>\n",
              "      <th>5594</th>\n",
              "      <td>157350108218814598</td>\n",
              "      <td>kt08750g+5.0z+0.5</td>\n",
              "      <td>0.001595</td>\n",
              "      <td>0.000000</td>\n",
              "      <td>81.514517</td>\n",
              "    </tr>\n",
              "    <tr>\n",
              "      <th>9210</th>\n",
              "      <td>157370109140545982</td>\n",
              "      <td>kt08250g+1.0z+0.5</td>\n",
              "      <td>0.003258</td>\n",
              "      <td>0.036439</td>\n",
              "      <td>33.166431</td>\n",
              "    </tr>\n",
              "    <tr>\n",
              "      <th>14842</th>\n",
              "      <td>157370109233994618</td>\n",
              "      <td>kt31000g+3.5z+0.5</td>\n",
              "      <td>0.000183</td>\n",
              "      <td>0.859586</td>\n",
              "      <td>4.119895</td>\n",
              "    </tr>\n",
              "    <tr>\n",
              "      <th>18674</th>\n",
              "      <td>157380108253555129</td>\n",
              "      <td>kt31000g+5.0z+0.5</td>\n",
              "      <td>0.000114</td>\n",
              "      <td>0.000092</td>\n",
              "      <td>48.453917</td>\n",
              "    </tr>\n",
              "    <tr>\n",
              "      <th>...</th>\n",
              "      <td>...</td>\n",
              "      <td>...</td>\n",
              "      <td>...</td>\n",
              "      <td>...</td>\n",
              "      <td>...</td>\n",
              "    </tr>\n",
              "    <tr>\n",
              "      <th>365010</th>\n",
              "      <td>157500109945884951</td>\n",
              "      <td>kt26000g+3.0z+0.5</td>\n",
              "      <td>0.000382</td>\n",
              "      <td>0.470004</td>\n",
              "      <td>45.902579</td>\n",
              "    </tr>\n",
              "    <tr>\n",
              "      <th>367010</th>\n",
              "      <td>157500110013222746</td>\n",
              "      <td>kt07500g+5.0z+0.5</td>\n",
              "      <td>0.004401</td>\n",
              "      <td>0.082608</td>\n",
              "      <td>36.385458</td>\n",
              "    </tr>\n",
              "    <tr>\n",
              "      <th>370751</th>\n",
              "      <td>157500110272453951</td>\n",
              "      <td>kt07500g+0.5z-2.5</td>\n",
              "      <td>0.002251</td>\n",
              "      <td>0.790770</td>\n",
              "      <td>6.476241</td>\n",
              "    </tr>\n",
              "    <tr>\n",
              "      <th>375918</th>\n",
              "      <td>157500110440108541</td>\n",
              "      <td>kt14000g+3.0z-2.0</td>\n",
              "      <td>0.000434</td>\n",
              "      <td>0.000000</td>\n",
              "      <td>133.128799</td>\n",
              "    </tr>\n",
              "    <tr>\n",
              "      <th>378543</th>\n",
              "      <td>157500110485004676</td>\n",
              "      <td>kt08000g+2.5z-2.5</td>\n",
              "      <td>0.021166</td>\n",
              "      <td>0.013185</td>\n",
              "      <td>191.919681</td>\n",
              "    </tr>\n",
              "  </tbody>\n",
              "</table>\n",
              "<p>100 rows × 5 columns</p>\n",
              "</div>\n",
              "      <button class=\"colab-df-convert\" onclick=\"convertToInteractive('df-0716f8e7-538e-4cf6-b2d0-bfe671034880')\"\n",
              "              title=\"Convert this dataframe to an interactive table.\"\n",
              "              style=\"display:none;\">\n",
              "        \n",
              "  <svg xmlns=\"http://www.w3.org/2000/svg\" height=\"24px\"viewBox=\"0 0 24 24\"\n",
              "       width=\"24px\">\n",
              "    <path d=\"M0 0h24v24H0V0z\" fill=\"none\"/>\n",
              "    <path d=\"M18.56 5.44l.94 2.06.94-2.06 2.06-.94-2.06-.94-.94-2.06-.94 2.06-2.06.94zm-11 1L8.5 8.5l.94-2.06 2.06-.94-2.06-.94L8.5 2.5l-.94 2.06-2.06.94zm10 10l.94 2.06.94-2.06 2.06-.94-2.06-.94-.94-2.06-.94 2.06-2.06.94z\"/><path d=\"M17.41 7.96l-1.37-1.37c-.4-.4-.92-.59-1.43-.59-.52 0-1.04.2-1.43.59L10.3 9.45l-7.72 7.72c-.78.78-.78 2.05 0 2.83L4 21.41c.39.39.9.59 1.41.59.51 0 1.02-.2 1.41-.59l7.78-7.78 2.81-2.81c.8-.78.8-2.07 0-2.86zM5.41 20L4 18.59l7.72-7.72 1.47 1.35L5.41 20z\"/>\n",
              "  </svg>\n",
              "      </button>\n",
              "      \n",
              "  <style>\n",
              "    .colab-df-container {\n",
              "      display:flex;\n",
              "      flex-wrap:wrap;\n",
              "      gap: 12px;\n",
              "    }\n",
              "\n",
              "    .colab-df-convert {\n",
              "      background-color: #E8F0FE;\n",
              "      border: none;\n",
              "      border-radius: 50%;\n",
              "      cursor: pointer;\n",
              "      display: none;\n",
              "      fill: #1967D2;\n",
              "      height: 32px;\n",
              "      padding: 0 0 0 0;\n",
              "      width: 32px;\n",
              "    }\n",
              "\n",
              "    .colab-df-convert:hover {\n",
              "      background-color: #E2EBFA;\n",
              "      box-shadow: 0px 1px 2px rgba(60, 64, 67, 0.3), 0px 1px 3px 1px rgba(60, 64, 67, 0.15);\n",
              "      fill: #174EA6;\n",
              "    }\n",
              "\n",
              "    [theme=dark] .colab-df-convert {\n",
              "      background-color: #3B4455;\n",
              "      fill: #D2E3FC;\n",
              "    }\n",
              "\n",
              "    [theme=dark] .colab-df-convert:hover {\n",
              "      background-color: #434B5C;\n",
              "      box-shadow: 0px 1px 3px 1px rgba(0, 0, 0, 0.15);\n",
              "      filter: drop-shadow(0px 1px 2px rgba(0, 0, 0, 0.3));\n",
              "      fill: #FFFFFF;\n",
              "    }\n",
              "  </style>\n",
              "\n",
              "      <script>\n",
              "        const buttonEl =\n",
              "          document.querySelector('#df-0716f8e7-538e-4cf6-b2d0-bfe671034880 button.colab-df-convert');\n",
              "        buttonEl.style.display =\n",
              "          google.colab.kernel.accessAllowed ? 'block' : 'none';\n",
              "\n",
              "        async function convertToInteractive(key) {\n",
              "          const element = document.querySelector('#df-0716f8e7-538e-4cf6-b2d0-bfe671034880');\n",
              "          const dataTable =\n",
              "            await google.colab.kernel.invokeFunction('convertToInteractive',\n",
              "                                                     [key], {});\n",
              "          if (!dataTable) return;\n",
              "\n",
              "          const docLinkHtml = 'Like what you see? Visit the ' +\n",
              "            '<a target=\"_blank\" href=https://colab.research.google.com/notebooks/data_table.ipynb>data table notebook</a>'\n",
              "            + ' to learn more about interactive tables.';\n",
              "          element.innerHTML = '';\n",
              "          dataTable['output_type'] = 'display_data';\n",
              "          await google.colab.output.renderOutput(dataTable, element);\n",
              "          const docLink = document.createElement('div');\n",
              "          docLink.innerHTML = docLinkHtml;\n",
              "          element.appendChild(docLink);\n",
              "        }\n",
              "      </script>\n",
              "    </div>\n",
              "  </div>\n",
              "  "
            ],
            "text/plain": [
              "                     objid         model_name        Md        Av        chi2\n",
              "1514    157340109227129762  kt07750g+5.0z+0.5  0.005458  0.011774  163.507443\n",
              "5594    157350108218814598  kt08750g+5.0z+0.5  0.001595  0.000000   81.514517\n",
              "9210    157370109140545982  kt08250g+1.0z+0.5  0.003258  0.036439   33.166431\n",
              "14842   157370109233994618  kt31000g+3.5z+0.5  0.000183  0.859586    4.119895\n",
              "18674   157380108253555129  kt31000g+5.0z+0.5  0.000114  0.000092   48.453917\n",
              "...                    ...                ...       ...       ...         ...\n",
              "365010  157500109945884951  kt26000g+3.0z+0.5  0.000382  0.470004   45.902579\n",
              "367010  157500110013222746  kt07500g+5.0z+0.5  0.004401  0.082608   36.385458\n",
              "370751  157500110272453951  kt07500g+0.5z-2.5  0.002251  0.790770    6.476241\n",
              "375918  157500110440108541  kt14000g+3.0z-2.0  0.000434  0.000000  133.128799\n",
              "378543  157500110485004676  kt08000g+2.5z-2.5  0.021166  0.013185  191.919681\n",
              "\n",
              "[100 rows x 5 columns]"
            ]
          },
          "metadata": {},
          "execution_count": 64
        }
      ]
    },
    {
      "cell_type": "code",
      "source": [
        "plt.plot(df_chi_min['chi2'].values,'o-')\n",
        "plt.ylabel(r'$\\chi^2$')\n",
        "plt.xlabel('Sources')\n",
        "plt.yscale('log')"
      ],
      "metadata": {
        "colab": {
          "base_uri": "https://localhost:8080/",
          "height": 609
        },
        "id": "-JhdZLhvUiK-",
        "outputId": "553359bb-fc36-479d-d2f2-cb84afbd9968"
      },
      "execution_count": 91,
      "outputs": [
        {
          "output_type": "display_data",
          "data": {
            "image/png": "[encoded data removed]",
            "text/plain": [
              "<Figure size 1080x720 with 1 Axes>"
            ]
          },
          "metadata": {}
        }
      ]
    },
    {
      "cell_type": "code",
      "source": [
        "FUV = Table.read('models_kurucz/convolved/UVIT_FUV.fits',hdu=1) \n",
        "NUV = Table.read('models_kurucz/convolved/UVIT_NUV.fits',hdu=1) \n",
        "f1 = Table.read('models_kurucz/convolved/PS1g.fits',hdu=1)\n",
        "f2 = Table.read('models_kurucz/convolved/PS1r.fits',hdu=1)\n",
        "f3 = Table.read('models_kurucz/convolved/PS1i.fits',hdu=1)\n",
        "f4 = Table.read('models_kurucz/convolved/PS1z.fits',hdu=1)\n",
        "f5 = Table.read('models_kurucz/convolved/PS1y.fits',hdu=1)\n",
        "\n",
        "\n",
        "flux     = []\n",
        "flux_err = []\n",
        "model_names = []\n",
        "for i,row in df_chi_min.iterrows():\n",
        "  model_name = row['model_name']\n",
        "\n",
        "  fuv =[FUV[FUV['MODEL_NAME'] == model_name]['TOTAL_FLUX'].value[0][0] , FUV[FUV['MODEL_NAME'] == model_name]['TOTAL_FLUX_ERR'].value[0][0]]\n",
        "  nuv =[NUV[NUV['MODEL_NAME'] == model_name]['TOTAL_FLUX'].value[0][0] , NUV[NUV['MODEL_NAME'] == model_name]['TOTAL_FLUX_ERR'].value[0][0]]\n",
        "  g = [f1[f1['MODEL_NAME'] == model_name]['TOTAL_FLUX'].value[0][0] , f1[f1['MODEL_NAME'] == model_name]['TOTAL_FLUX_ERR'].value[0][0]]\n",
        "  r = [f2[f2['MODEL_NAME'] == model_name]['TOTAL_FLUX'].value[0][0] , f2[f2['MODEL_NAME'] == model_name]['TOTAL_FLUX_ERR'].value[0][0]]\n",
        "  i = [f3[f3['MODEL_NAME'] == model_name]['TOTAL_FLUX'].value[0][0] , f3[f3['MODEL_NAME'] == model_name]['TOTAL_FLUX_ERR'].value[0][0]]\n",
        "  z = [f4[f4['MODEL_NAME'] == model_name]['TOTAL_FLUX'].value[0][0] , f4[f4['MODEL_NAME'] == model_name]['TOTAL_FLUX_ERR'].value[0][0]]\n",
        "  y = [f5[f5['MODEL_NAME'] == model_name]['TOTAL_FLUX'].value[0][0] , f5[f5['MODEL_NAME'] == model_name]['TOTAL_FLUX_ERR'].value[0][0]]\n",
        "  fuv =[FUV[FUV['MODEL_NAME'] == model_name]['TOTAL_FLUX'].value[0][0] , FUV[FUV['MODEL_NAME'] == model_name]['TOTAL_FLUX_ERR'].value[0][0]]\n",
        "\n",
        "  flux.append([fuv[0], nuv[0], g[0], r[0], i[0], z[0], y[0]])\n",
        "\n",
        "  flux_err.append([fuv[1], nuv[1], g[1], r[1], i[1], z[1], y[1]])\n",
        "\n",
        "flux = np.array(flux)\n",
        "\n",
        "flux_err = np.array(flux_err)"
      ],
      "metadata": {
        "id": "1f8dObnL4MdP"
      },
      "execution_count": 76,
      "outputs": []
    },
    {
      "cell_type": "code",
      "source": [
        "tab_star = Table.from_pandas(df_star)\n",
        "\n",
        "tab_star['model_flux']     = flux\n",
        "tab_star['Md']             = df_chi_min['Md']\n",
        "tab_star['Av']             = df_chi_min['Av']\n",
        "\n",
        "model_mag = []\n",
        "ext = np.array([2.67,1.95, 1.18, 0.881, 0.667, 0.534,0.457])\n",
        "\n",
        "for row in tab_star:\n",
        "  Av = row['Av']\n",
        "  Md = row['Md']\n",
        "  model_flux = row['model_flux']\n",
        "\n",
        "  model_mag.append(-2.5*np.log10(Md*model_flux*pow(10,-0.4*ext*Av)/3631e3))\n",
        "\n",
        "tab_star['model_mag']  = model_mag\n",
        "tab_star['chi2'] = df_chi_min['chi2']"
      ],
      "metadata": {
        "id": "MRNprdk63ziW"
      },
      "execution_count": 82,
      "outputs": []
    },
    {
      "cell_type": "code",
      "source": [
        ""
      ],
      "metadata": {
        "id": "69Zf_9bVRqi2"
      },
      "execution_count": null,
      "outputs": []
    },
    {
      "cell_type": "code",
      "source": [
        "filters = ['ABmag1','ABmag2','gPSFMag','rPSFMag','iPSFMag','zPSFMag','yPSFMag']\n",
        "\n",
        "x = ['FUV', 'NUV', 'gPSFMag','rPSFMag','iPSFMag','zPSFMag','yPSFMag']\n",
        "\n",
        "FUV_diff = []\n",
        "FUV_obs = []\n",
        "\n",
        "NUV_diff = []\n",
        "NUV_obs = []\n",
        "for i,fl in df_star[filters].iterrows():\n",
        "  #plt.plot(x,fl, 'o-', color = 'black')\n",
        "  #plt.plot(x,tab_star['model_mag'].value[i],'s--')\n",
        "  FUV_obs.append(fl[0])\n",
        "  FUV_diff.append(fl[0] - tab_star['model_mag'].value[i][0])\n",
        "\n",
        "  NUV_obs.append(fl[1])\n",
        "  NUV_diff.append(fl[1] - tab_star['model_mag'].value[i][1])\n",
        " # plt.legend(['Observed','Model'])\n",
        " # plt.show()"
      ],
      "metadata": {
        "id": "AOr67Krp5jUd"
      },
      "execution_count": 92,
      "outputs": []
    },
    {
      "cell_type": "code",
      "source": [
        "plt.scatter(FUV_obs,FUV_diff)\n",
        "plt.ylabel('FUV (Observed - Predicted )')\n",
        "plt.xlabel('FUV observed')\n",
        "plt.title('SED Fitting with Md and Av')\n"
      ],
      "metadata": {
        "colab": {
          "base_uri": "https://localhost:8080/",
          "height": 642
        },
        "id": "_2KsFLK0HpSi",
        "outputId": "215091b1-3e1f-41f0-88c2-98d7ca9f6ddf"
      },
      "execution_count": 93,
      "outputs": [
        {
          "output_type": "execute_result",
          "data": {
            "text/plain": [
              "Text(0.5, 1.0, 'SED Fitting with Md and Av')"
            ]
          },
          "metadata": {},
          "execution_count": 93
        },
        {
          "output_type": "display_data",
          "data": {
            "image/png": "[encoded data removed]",
            "text/plain": [
              "<Figure size 1080x720 with 1 Axes>"
            ]
          },
          "metadata": {}
        }
      ]
    },
    {
      "cell_type": "code",
      "source": [
        "plt.scatter(NUV_obs,NUV_diff)\n",
        "plt.ylabel('NUV (Observed - Predicted )')\n",
        "plt.xlabel('NUV observed')\n",
        "plt.title('SED Fitting with Md and Av')\n"
      ],
      "metadata": {
        "colab": {
          "base_uri": "https://localhost:8080/",
          "height": 642
        },
        "id": "4bfpAduqSaAV",
        "outputId": "250de09b-4188-403c-e288-bf623be25dd3"
      },
      "execution_count": 90,
      "outputs": [
        {
          "output_type": "execute_result",
          "data": {
            "text/plain": [
              "Text(0.5, 1.0, 'SED Fitting with Md and Av')"
            ]
          },
          "metadata": {},
          "execution_count": 90
        },
        {
          "output_type": "display_data",
          "data": {
            "image/png": "[encoded data removed]",
            "text/plain": [
              "<Figure size 1080x720 with 1 Axes>"
            ]
          },
          "metadata": {}
        }
      ]
    },
    {
      "cell_type": "code",
      "source": [
        "df_chi_min['chi2']"
      ],
      "metadata": {
        "colab": {
          "base_uri": "https://localhost:8080/"
        },
        "id": "_Oo6qTVOKg8p",
        "outputId": "25558b8e-907c-49a3-a484-ce290b4e7b98"
      },
      "execution_count": null,
      "outputs": [
        {
          "output_type": "execute_result",
          "data": {
            "text/plain": [
              "1383         8.365718\n",
              "7602        26.792365\n",
              "9178         2.553384\n",
              "12807       40.971728\n",
              "16602       11.043201\n",
              "             ...     \n",
              "363969     107.093313\n",
              "367018     187.890014\n",
              "370831      16.210884\n",
              "376626       3.292204\n",
              "380786    1508.570969\n",
              "Name: chi2, Length: 100, dtype: float64"
            ]
          },
          "metadata": {},
          "execution_count": 69
        }
      ]
    },
    {
      "cell_type": "code",
      "source": [
        ""
      ],
      "metadata": {
        "id": "lq7CmDFyTTqc"
      },
      "execution_count": null,
      "outputs": []
    }
  ]
}