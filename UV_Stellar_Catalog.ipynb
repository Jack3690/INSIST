{
  "nbformat": 4,
  "nbformat_minor": 0,
  "metadata": {
    "colab": {
      "name": "UV_Stellar_Catalog.ipynb",
      "provenance": [],
      "authorship_tag": "ABX9TyM7a1s7ZLBnFCkfDej/Rk9g",
      "include_colab_link": true
    },
    "kernelspec": {
      "name": "python3",
      "display_name": "Python 3"
    },
    "language_info": {
      "name": "python"
    }
  },
  "cells": [
    {
      "cell_type": "markdown",
      "metadata": {
        "id": "view-in-github",
        "colab_type": "text"
      },
      "source": [
        "<a href=\"https://colab.research.google.com/github/Jack3690/INSIST/blob/main/UV_Stellar_Catalog.ipynb\" target=\"_parent\"><img src=\"https://colab.research.google.com/assets/colab-badge.svg\" alt=\"Open In Colab\"/></a>"
      ]
    },
    {
      "cell_type": "markdown",
      "source": [
        "# **Install**"
      ],
      "metadata": {
        "id": "QOmHvVRpWmqp"
      }
    },
    {
      "cell_type": "code",
      "metadata": {
        "colab": {
          "base_uri": "https://localhost:8080/"
        },
        "id": "kmKFEMMFZ74N",
        "outputId": "8791fc85-6a06-4a2d-c560-a2e6fc5a0334"
      },
      "source": [
        "!pip install pysynphot --quiet\n",
        "!pip install git+https://github.com/rlwastro/mastcasjobs@master --quiet\n",
        "!pip install git+https://github.com/astrofrog/sedfitter@master --quiet"
      ],
      "execution_count": 1,
      "outputs": [
        {
          "output_type": "stream",
          "name": "stdout",
          "text": [
            "\u001b[K     |████████████████████████████████| 10.8 MB 14.8 MB/s \n",
            "\u001b[?25h  Installing build dependencies ... \u001b[?25l\u001b[?25hdone\n",
            "  Getting requirements to build wheel ... \u001b[?25l\u001b[?25hdone\n",
            "  Installing backend dependencies ... \u001b[?25l\u001b[?25hdone\n",
            "    Preparing wheel metadata ... \u001b[?25l\u001b[?25hdone\n",
            "  Building wheel for pysynphot (PEP 517) ... \u001b[?25l\u001b[?25hdone\n",
            "  Building wheel for mastcasjobs (setup.py) ... \u001b[?25l\u001b[?25hdone\n",
            "  Building wheel for casjobs (setup.py) ... \u001b[?25l\u001b[?25hdone\n",
            "  Building wheel for sedfitter (setup.py) ... \u001b[?25l\u001b[?25hdone\n"
          ]
        }
      ]
    },
    {
      "cell_type": "markdown",
      "source": [
        "# **GitHub**"
      ],
      "metadata": {
        "id": "i1mcLAB5DFSt"
      }
    },
    {
      "cell_type": "code",
      "metadata": {
        "colab": {
          "base_uri": "https://localhost:8080/"
        },
        "id": "4D-dNXcqSeX_",
        "outputId": "5db45111-7b09-46a7-ea8a-f874f77d4219"
      },
      "source": [
        "!git clone https://github.com/Jack3690/INSIST"
      ],
      "execution_count": 5,
      "outputs": [
        {
          "output_type": "stream",
          "name": "stdout",
          "text": [
            "Cloning into 'INSIST'...\n",
            "remote: Enumerating objects: 691, done.\u001b[K\n",
            "remote: Counting objects: 100% (316/316), done.\u001b[K\n",
            "remote: Compressing objects: 100% (312/312), done.\u001b[K\n",
            "remote: Total 691 (delta 175), reused 4 (delta 2), pack-reused 375\u001b[K\n",
            "Receiving objects: 100% (691/691), 78.33 MiB | 14.53 MiB/s, done.\n",
            "Resolving deltas: 100% (363/363), done.\n"
          ]
        }
      ]
    },
    {
      "cell_type": "code",
      "metadata": {
        "id": "u7R9oIZbSjB5",
        "outputId": "1e7cf44a-5883-4d65-fb02-caf55ffb9be2",
        "colab": {
          "base_uri": "https://localhost:8080/"
        }
      },
      "source": [
        "cd INSIST/data"
      ],
      "execution_count": 6,
      "outputs": [
        {
          "output_type": "stream",
          "name": "stdout",
          "text": [
            "/content/INSIST/data\n"
          ]
        }
      ]
    },
    {
      "cell_type": "code",
      "source": [
        "!cp -a plot.py /usr/local/lib/python3.7/dist-packages/sedfitter"
      ],
      "metadata": {
        "id": "AqO9xmcu88zH"
      },
      "execution_count": 7,
      "outputs": []
    },
    {
      "cell_type": "markdown",
      "metadata": {
        "id": "19zz7u-cSXtd"
      },
      "source": [
        "#**Imports**"
      ]
    },
    {
      "cell_type": "code",
      "metadata": {
        "id": "8rbZ1cHlQ892"
      },
      "source": [
        "import pysynphot as S"
      ],
      "execution_count": 8,
      "outputs": []
    },
    {
      "cell_type": "code",
      "metadata": {
        "id": "ben7JXnefwTQ"
      },
      "source": [
        "!export PYSYN_CDBS=/my/local/dir/trds/"
      ],
      "execution_count": 9,
      "outputs": []
    },
    {
      "cell_type": "code",
      "metadata": {
        "id": "qVyee94faMdF"
      },
      "source": [
        "import numpy as np\n",
        "import pandas as pd\n",
        "import matplotlib\n",
        "import matplotlib.pyplot as plt\n",
        "import seaborn as sb\n",
        "\n",
        "from astropy import units as u\n",
        "from astropy.coordinates import SkyCoord\n",
        "from astropy.stats import gaussian_fwhm_to_sigma, gaussian_sigma_to_fwhm\n",
        "from astropy.modeling import models, fitting\n",
        "from astropy.visualization import LogStretch\n",
        "from astropy.visualization.mpl_normalize import ImageNormalize\n",
        "from astropy import wcs\n",
        "from matplotlib import cm\n",
        "from matplotlib.colors import ListedColormap, LinearSegmentedColormap\n",
        "from astropy.table import Table\n",
        "from astropy.io import fits\n",
        "\n",
        "import os\n",
        "from time import perf_counter\n",
        "import json\n",
        "import requests\n",
        "import pysynphot as S\n",
        "import sedfitter as sed\n",
        "\n",
        "import mastcasjobs\n",
        "from scipy.optimize import minimize_scalar,minimize\n",
        "\n",
        "# get the WSID and password if not already defined\n",
        "if not os.environ.get('CASJOBS_USERID'):\n",
        "    os.environ['CASJOBS_USERID'] = \"avinashck90\"\n",
        "if not os.environ.get('CASJOBS_PW'):\n",
        "    os.environ['CASJOBS_PW'] = \"INSIST369\"\n",
        "\n",
        "matplotlib.rcParams['font.size']=15\n",
        "matplotlib.rcParams['figure.figsize']=(15,10)\n",
        "sb.set_style('darkgrid')"
      ],
      "execution_count": 10,
      "outputs": []
    },
    {
      "cell_type": "markdown",
      "metadata": {
        "id": "EQW8jnRkGst-"
      },
      "source": [
        "# **Data**"
      ]
    },
    {
      "cell_type": "markdown",
      "metadata": {
        "id": "gtQQDMuCTv6D"
      },
      "source": [
        "## **CasJobs Script**"
      ]
    },
    {
      "cell_type": "code",
      "metadata": {
        "id": "wkGNEfD32zu7"
      },
      "source": [
        "def mastQuery(request, json_return=False):\n",
        "    \"\"\"Perform a MAST query.\n",
        "\n",
        "    Parameters\n",
        "    ----------\n",
        "    request (dictionary): The MAST request json object\n",
        "    \n",
        "    Returns the text response or (if json_return=True) the json response\n",
        "    \"\"\"\n",
        "    \n",
        "    url = \"https://mast.stsci.edu/api/v0/invoke\"\n",
        "\n",
        "    # Encoding the request as a json string\n",
        "    requestString = json.dumps(request)\n",
        "    \n",
        "    # make the query\n",
        "    r = requests.post(url, data=dict(request=requestString))\n",
        "    \n",
        "    # raise exception on error\n",
        "    r.raise_for_status()\n",
        "    \n",
        "    if json_return:\n",
        "        return r.json()\n",
        "    else:\n",
        "        return r.text\n",
        "\n",
        "\n",
        "def resolve(name):\n",
        "    \"\"\"Get the RA and Dec for an object using the MAST name resolver\n",
        "    \n",
        "    Parameters\n",
        "    ----------\n",
        "    name (str): Name of object\n",
        "\n",
        "    Returns RA, Dec tuple with position\"\"\"\n",
        "\n",
        "    resolverRequest = {'service':'Mast.Name.Lookup',\n",
        "                       'params':{'input':name,\n",
        "                                 'format':'json'\n",
        "                                },\n",
        "                      }\n",
        "    resolvedObject = mastQuery(resolverRequest, json_return=True)\n",
        "    # The resolver returns a variety of information about the resolved object, \n",
        "    # however for our purposes all we need are the RA and Dec\n",
        "    try:\n",
        "        objRa = resolvedObject['resolvedCoordinate'][0]['ra']\n",
        "        objDec = resolvedObject['resolvedCoordinate'][0]['decl']\n",
        "    except IndexError as e:\n",
        "        raise ValueError(\"Unknown object '{}'\".format(name))\n",
        "    return (objRa, objDec)"
      ],
      "execution_count": 83,
      "outputs": []
    },
    {
      "cell_type": "code",
      "metadata": {
        "id": "wIHbrJgX4ju2"
      },
      "source": [
        "class casjobs():\n",
        "    \"\"\"PSF Generator using Source catalog or CasJobs GALEX Catalog\n",
        "\n",
        "    Parameters\n",
        "    ----------\n",
        "    name (string) : Catalog name or coordinates of the source\n",
        "\n",
        "    df   (pd.DataFrame ): Pandas dataframe with source catalog\n",
        "\n",
        "    cols (dict) : dict object with column name conversions for ra,dec,mag_nuv. Eg {'RA': 'ra','Dec' : 'dec', 'ABmag' : 'mag_nuv'}\n",
        "\n",
        "        'ra' (degrees)\n",
        "\n",
        "        'dec' (degrees)\n",
        "\n",
        "        'mag_nuv' (ABmag)\n",
        "\n",
        "    pixel_scale (float) : pixel scale of detector in the unit of arcseconds/pixels\n",
        "\n",
        "    fwhm_in (float) : Full Width at Half Maximum of the Gaussian PSF\n",
        "\n",
        "    n_pix_main (int) : Number of pixels along one axis in the detector. Total number of pixels in the detector is n_pix_main**2\n",
        "\n",
        "    n_pix_sub (int) : Number of pixels along one axis in the path. Total number of pixels in the patch is n_pix_sub**2\n",
        "\n",
        "    \"\"\"\n",
        "    def __init__(self,name = None, df = None ,cols = None):   \n",
        "\n",
        "        if name is not None and df is None:\n",
        "          self.name = name\n",
        "          self.ra,self.dec = resolve(name)\n",
        "      \n",
        "          self.jobs = mastcasjobs.MastCasJobs(context=\"PanSTARRS_DR2\")\n",
        "          self.query =   f\"\"\"select psc.objid,o.raStack,o.decStack,mag.gPSFMag, mag.gPSFMagErr,mag.rPSFMag, mag.rPSFMagErr,mag.iPSFMag, mag.iPSFMagErr,mag.zPSFMag,mag.zPSFMagErr, mag.yPSFMag,mag.yPSFMagErr,psc.ps_score\n",
        "                            from fGetNearbyObjEq({self.ra}, {self.dec}, 28) f\n",
        "                            join ObjectThin o on o.objid=f.objid\n",
        "                            join HLSP_PS1_PSC.pointsource_scores psc on psc.objid=f.objid\n",
        "                            join StackObjectThin mag on mag.objid=psc.objid\n",
        "                            WHERE\n",
        "                            mag.gPSFMag>-900 and \n",
        "                            mag.rPSFMag>-900 and \n",
        "                            mag.iPSFMag>-900 and \n",
        "                            mag.zPSFMag>-900 and \n",
        "                            mag.yPSFMag>-900 \n",
        "                          \"\"\"\n",
        "          self.df = self.jobs.quick(self.query, task_name=\"python cone search\").to_pandas()\n",
        "        else:\n",
        "          self.df = df \n",
        "        if cols is not None:\n",
        "          self.df = self.df.rename(columns=cols) \n",
        "    \n",
        "    def show_field(self,figsize=(10,10)):\n",
        "      \"\"\"\n",
        "      Function for creating a scatter plot of sources within the FoV\n",
        "      \n",
        "      Returns\n",
        "      -------\n",
        "      fig, ax\n",
        "      \"\"\"\n",
        "        \n",
        "      fig, ax = plt.subplots(1,1,figsize=figsize)\n",
        "      ax.scatter(self.df['ra'],self.df['dec'],marker='.',color='black')\n",
        "      ax.set_title(f\" Requested Center : {self.name} \\n  {len(self.df)} sources\")\n",
        "      ax.invert_xaxis()\n",
        "      ax.set_xlabel('RA (Degrees)')\n",
        "      ax.set_ylabel('Dec (Degrees)')\n",
        "      return fig,ax\n",
        "      \n",
        "        "
      ],
      "execution_count": 84,
      "outputs": []
    },
    {
      "cell_type": "markdown",
      "metadata": {
        "id": "0gXXf6vJR5EO"
      },
      "source": [
        "## **Query**"
      ]
    },
    {
      "cell_type": "code",
      "source": [
        "df = pd.read_csv('M67_PS1.csv')\n",
        "df =  df.rename(columns = {'raStack':'ra','decStack':'dec'})"
      ],
      "metadata": {
        "id": "wKbprcA0ivBk"
      },
      "execution_count": 111,
      "outputs": []
    },
    {
      "cell_type": "code",
      "metadata": {
        "id": "Ag0wgh7Y7GQN"
      },
      "source": [
        "df_star = df[df['ps_score']>0.5].copy()[:1]"
      ],
      "execution_count": 112,
      "outputs": []
    },
    {
      "cell_type": "code",
      "metadata": {
        "colab": {
          "base_uri": "https://localhost:8080/",
          "height": 81
        },
        "id": "-aTHfno94j2D",
        "outputId": "e27fadc8-5484-4cd9-bc99-b1b13ac12949"
      },
      "source": [
        "df_star"
      ],
      "execution_count": 113,
      "outputs": [
        {
          "output_type": "execute_result",
          "data": {
            "text/html": [
              "\n",
              "  <div id=\"df-e877fdde-fca2-48cc-8a6e-3e4df21b3f9e\">\n",
              "    <div class=\"colab-df-container\">\n",
              "      <div>\n",
              "<style scoped>\n",
              "    .dataframe tbody tr th:only-of-type {\n",
              "        vertical-align: middle;\n",
              "    }\n",
              "\n",
              "    .dataframe tbody tr th {\n",
              "        vertical-align: top;\n",
              "    }\n",
              "\n",
              "    .dataframe thead th {\n",
              "        text-align: right;\n",
              "    }\n",
              "</style>\n",
              "<table border=\"1\" class=\"dataframe\">\n",
              "  <thead>\n",
              "    <tr style=\"text-align: right;\">\n",
              "      <th></th>\n",
              "      <th>objid</th>\n",
              "      <th>ra</th>\n",
              "      <th>dec</th>\n",
              "      <th>gPSFMag</th>\n",
              "      <th>gPSFMagErr</th>\n",
              "      <th>rPSFMag</th>\n",
              "      <th>rPSFMagErr</th>\n",
              "      <th>iPSFMag</th>\n",
              "      <th>iPSFMagErr</th>\n",
              "      <th>zPSFMag</th>\n",
              "      <th>zPSFMagErr</th>\n",
              "      <th>yPSFMag</th>\n",
              "      <th>yPSFMagErr</th>\n",
              "      <th>ps_score</th>\n",
              "    </tr>\n",
              "  </thead>\n",
              "  <tbody>\n",
              "    <tr>\n",
              "      <th>2</th>\n",
              "      <td>121971328494717854</td>\n",
              "      <td>132.84946</td>\n",
              "      <td>11.647811</td>\n",
              "      <td>14.8691</td>\n",
              "      <td>0.000533</td>\n",
              "      <td>14.3603</td>\n",
              "      <td>0.000274</td>\n",
              "      <td>14.2388</td>\n",
              "      <td>0.00032</td>\n",
              "      <td>14.228</td>\n",
              "      <td>0.000519</td>\n",
              "      <td>14.1805</td>\n",
              "      <td>0.000877</td>\n",
              "      <td>0.9975</td>\n",
              "    </tr>\n",
              "  </tbody>\n",
              "</table>\n",
              "</div>\n",
              "      <button class=\"colab-df-convert\" onclick=\"convertToInteractive('df-e877fdde-fca2-48cc-8a6e-3e4df21b3f9e')\"\n",
              "              title=\"Convert this dataframe to an interactive table.\"\n",
              "              style=\"display:none;\">\n",
              "        \n",
              "  <svg xmlns=\"http://www.w3.org/2000/svg\" height=\"24px\"viewBox=\"0 0 24 24\"\n",
              "       width=\"24px\">\n",
              "    <path d=\"M0 0h24v24H0V0z\" fill=\"none\"/>\n",
              "    <path d=\"M18.56 5.44l.94 2.06.94-2.06 2.06-.94-2.06-.94-.94-2.06-.94 2.06-2.06.94zm-11 1L8.5 8.5l.94-2.06 2.06-.94-2.06-.94L8.5 2.5l-.94 2.06-2.06.94zm10 10l.94 2.06.94-2.06 2.06-.94-2.06-.94-.94-2.06-.94 2.06-2.06.94z\"/><path d=\"M17.41 7.96l-1.37-1.37c-.4-.4-.92-.59-1.43-.59-.52 0-1.04.2-1.43.59L10.3 9.45l-7.72 7.72c-.78.78-.78 2.05 0 2.83L4 21.41c.39.39.9.59 1.41.59.51 0 1.02-.2 1.41-.59l7.78-7.78 2.81-2.81c.8-.78.8-2.07 0-2.86zM5.41 20L4 18.59l7.72-7.72 1.47 1.35L5.41 20z\"/>\n",
              "  </svg>\n",
              "      </button>\n",
              "      \n",
              "  <style>\n",
              "    .colab-df-container {\n",
              "      display:flex;\n",
              "      flex-wrap:wrap;\n",
              "      gap: 12px;\n",
              "    }\n",
              "\n",
              "    .colab-df-convert {\n",
              "      background-color: #E8F0FE;\n",
              "      border: none;\n",
              "      border-radius: 50%;\n",
              "      cursor: pointer;\n",
              "      display: none;\n",
              "      fill: #1967D2;\n",
              "      height: 32px;\n",
              "      padding: 0 0 0 0;\n",
              "      width: 32px;\n",
              "    }\n",
              "\n",
              "    .colab-df-convert:hover {\n",
              "      background-color: #E2EBFA;\n",
              "      box-shadow: 0px 1px 2px rgba(60, 64, 67, 0.3), 0px 1px 3px 1px rgba(60, 64, 67, 0.15);\n",
              "      fill: #174EA6;\n",
              "    }\n",
              "\n",
              "    [theme=dark] .colab-df-convert {\n",
              "      background-color: #3B4455;\n",
              "      fill: #D2E3FC;\n",
              "    }\n",
              "\n",
              "    [theme=dark] .colab-df-convert:hover {\n",
              "      background-color: #434B5C;\n",
              "      box-shadow: 0px 1px 3px 1px rgba(0, 0, 0, 0.15);\n",
              "      filter: drop-shadow(0px 1px 2px rgba(0, 0, 0, 0.3));\n",
              "      fill: #FFFFFF;\n",
              "    }\n",
              "  </style>\n",
              "\n",
              "      <script>\n",
              "        const buttonEl =\n",
              "          document.querySelector('#df-e877fdde-fca2-48cc-8a6e-3e4df21b3f9e button.colab-df-convert');\n",
              "        buttonEl.style.display =\n",
              "          google.colab.kernel.accessAllowed ? 'block' : 'none';\n",
              "\n",
              "        async function convertToInteractive(key) {\n",
              "          const element = document.querySelector('#df-e877fdde-fca2-48cc-8a6e-3e4df21b3f9e');\n",
              "          const dataTable =\n",
              "            await google.colab.kernel.invokeFunction('convertToInteractive',\n",
              "                                                     [key], {});\n",
              "          if (!dataTable) return;\n",
              "\n",
              "          const docLinkHtml = 'Like what you see? Visit the ' +\n",
              "            '<a target=\"_blank\" href=https://colab.research.google.com/notebooks/data_table.ipynb>data table notebook</a>'\n",
              "            + ' to learn more about interactive tables.';\n",
              "          element.innerHTML = '';\n",
              "          dataTable['output_type'] = 'display_data';\n",
              "          await google.colab.output.renderOutput(dataTable, element);\n",
              "          const docLink = document.createElement('div');\n",
              "          docLink.innerHTML = docLinkHtml;\n",
              "          element.appendChild(docLink);\n",
              "        }\n",
              "      </script>\n",
              "    </div>\n",
              "  </div>\n",
              "  "
            ],
            "text/plain": [
              "                objid         ra        dec  ...  yPSFMag  yPSFMagErr  ps_score\n",
              "2  121971328494717854  132.84946  11.647811  ...  14.1805    0.000877    0.9975\n",
              "\n",
              "[1 rows x 14 columns]"
            ]
          },
          "metadata": {},
          "execution_count": 113
        }
      ]
    },
    {
      "cell_type": "markdown",
      "metadata": {
        "id": "lpFsL5gWGx8c"
      },
      "source": [
        "# **Synthetic Spectra**"
      ]
    },
    {
      "cell_type": "markdown",
      "metadata": {
        "id": "6M19ommnIJ9F"
      },
      "source": [
        "## **Model**"
      ]
    },
    {
      "cell_type": "code",
      "metadata": {
        "id": "y8m_Kx4YlcfE"
      },
      "source": [
        "if os.path.exists('models_kurucz'):\n",
        "  os.system('rm -r models_kurucz')"
      ],
      "execution_count": 12,
      "outputs": []
    },
    {
      "cell_type": "code",
      "metadata": {
        "colab": {
          "base_uri": "https://localhost:8080/"
        },
        "id": "isKoiK_IaAPo",
        "outputId": "22990c40-6a39-4497-a55b-497d3d72df7a"
      },
      "source": [
        "!curl -o models ftp://ftp.astro.wisc.edu/outgoing/tom/model_packages/models_kurucz_05sep11.tgz"
      ],
      "execution_count": 13,
      "outputs": [
        {
          "output_type": "stream",
          "name": "stdout",
          "text": [
            "  % Total    % Received % Xferd  Average Speed   Time    Time     Time  Current\n",
            "                                 Dload  Upload   Total   Spent    Left  Speed\n",
            "100 83.0M  100 83.0M    0     0  3986k      0  0:00:21  0:00:21 --:--:-- 11.3M\n"
          ]
        }
      ]
    },
    {
      "cell_type": "code",
      "metadata": {
        "id": "H1pHXnSTb4qs"
      },
      "source": [
        "!tar -xzf models"
      ],
      "execution_count": 14,
      "outputs": []
    },
    {
      "cell_type": "code",
      "metadata": {
        "id": "xKCvXhlRSDpM"
      },
      "source": [
        "!rm models"
      ],
      "execution_count": 15,
      "outputs": []
    },
    {
      "cell_type": "markdown",
      "metadata": {
        "id": "Uzzj0EYnIM_k"
      },
      "source": [
        "## **Filters**\n",
        "\n",
        "Initializing filter parameters using response curves"
      ]
    },
    {
      "cell_type": "code",
      "metadata": {
        "id": "_UsoB6lmQKSn"
      },
      "source": [
        "filter_dict = {'PS1g'    : [4881.47, 'PAN-STARRS_PS1.g.dat' ],\n",
        "               'PS1r'    : [6198.41, 'PAN-STARRS_PS1.r.dat' ],\n",
        "               'PS1i'    : [7549.34, 'PAN-STARRS_PS1.i.dat' ],\n",
        "               'PS1z'    : [8701.37, 'PAN-STARRS_PS1.z.dat' ],\n",
        "               'PS1y'    : [9509.80,'PAN-STARRS_PS1.y.dat' ],\n",
        "               'UVIT_NUV': [2792.56,'Astrosat_UVIT.N279N.dat'],\n",
        "               'UVIT_FUV': [1506.00,'Astrosat_UVIT.F148Wa.dat']}\n",
        "\n",
        "model_dir = 'models_kurucz'\n",
        "\n",
        "filter_list = []\n",
        "for filter in filter_dict.keys():\n",
        "\n",
        "  filt_obj = sed.filter.Filter()\n",
        "  filt_obj.name = filter\n",
        "  filt_obj.central_wavelength = (filter_dict[filter][0]*u.angstrom).to(u.micron)\n",
        "  filt_obj_wl, filt_obj_rsr = np.loadtxt(filter_dict[filter][1], usecols=(0, 1), unpack=True)\n",
        "  filt_obj.nu = 3.0e18 * u.Hz / np.flip(filt_obj_wl)\n",
        "  filt_obj.response = filt_obj_rsr/filt_obj_rsr.max() \n",
        "  filt_obj.normalize()\n",
        "  filter_list.append(filt_obj)"
      ],
      "execution_count": 16,
      "outputs": []
    },
    {
      "cell_type": "markdown",
      "source": [
        "Convolving filters with models"
      ],
      "metadata": {
        "id": "Mm94n46FfuyF"
      }
    },
    {
      "cell_type": "code",
      "source": [
        "sed.convolve.convolve_model_dir(model_dir, filter_list)"
      ],
      "metadata": {
        "id": "Mt88zrxnNY7v",
        "outputId": "8b38d5f6-79e6-45bb-855c-299f8fcadebc",
        "colab": {
          "base_uri": "https://localhost:8080/"
        }
      },
      "execution_count": 17,
      "outputs": [
        {
          "output_type": "stream",
          "name": "stderr",
          "text": [
            "WARNING: VerifyWarning: It is strongly recommended that column names contain only upper and lower-case ASCII letters, digits, or underscores for maximum compatibility with other software (got '[Z/H]'). [astropy.io.fits.column]\n"
          ]
        },
        {
          "output_type": "stream",
          "name": "stdout",
          "text": [
            "INFO: 3808 SEDs found in models_kurucz [sedfitter.convolve.convolve]\n",
            "INFO: Rebinning filters [sedfitter.convolve.convolve]\n"
          ]
        },
        {
          "output_type": "stream",
          "name": "stderr",
          "text": [
            "WARNING: AstropyDeprecationWarning: \"clobber\" was deprecated in version 2.0 and will be removed in a future version. Use argument \"overwrite\" instead. [sedfitter.convolved_fluxes.convolved_fluxes]\n"
          ]
        }
      ]
    },
    {
      "cell_type": "code",
      "metadata": {
        "colab": {
          "base_uri": "https://localhost:8080/",
          "height": 651
        },
        "id": "QvT2qTaxWQSW",
        "outputId": "91dc7c13-b7b0-4214-9624-8ba3fbd9de93"
      },
      "source": [
        "plt.figure(figsize = (20,10))\n",
        "for filter in filter_list:\n",
        "  plt.plot(3e18/np.flip(filter.nu),filter.response)\n",
        "\n",
        "plt.xlabel(r'$\\lambda$ ($\\AA$)')\n",
        "plt.title('Normalized Filter Response',size=20)\n",
        "plt.legend(['g','r','i','z','y' ,'NUV','FUV'])"
      ],
      "execution_count": 166,
      "outputs": [
        {
          "output_type": "execute_result",
          "data": {
            "text/plain": [
              "<matplotlib.legend.Legend at 0x7fd7d5615ed0>"
            ]
          },
          "metadata": {},
          "execution_count": 166
        },
        {
          "output_type": "display_data",
          "data": {
            "image/png": "[encoded data removed]",
            "text/plain": [
              "<Figure size 1440x720 with 1 Axes>"
            ]
          },
          "metadata": {}
        }
      ]
    },
    {
      "cell_type": "markdown",
      "source": [
        "## **SED Fitting**"
      ],
      "metadata": {
        "id": "sf7SXtANK_t9"
      }
    },
    {
      "cell_type": "markdown",
      "source": [
        "### **SED Fitter**"
      ],
      "metadata": {
        "id": "_c01Mj7XLCxg"
      }
    },
    {
      "cell_type": "markdown",
      "source": [
        "#### **Data**"
      ],
      "metadata": {
        "id": "squc81iS6Z0u"
      }
    },
    {
      "cell_type": "code",
      "source": [
        "df_star "
      ],
      "metadata": {
        "id": "Z7gWYTHK9CPw",
        "outputId": "329e353d-314a-4c40-c9ad-5dfd2230aac9",
        "colab": {
          "base_uri": "https://localhost:8080/",
          "height": 81
        }
      },
      "execution_count": 114,
      "outputs": [
        {
          "output_type": "execute_result",
          "data": {
            "text/html": [
              "\n",
              "  <div id=\"df-4ada5cdf-d957-406d-b5b5-8d410c9753ba\">\n",
              "    <div class=\"colab-df-container\">\n",
              "      <div>\n",
              "<style scoped>\n",
              "    .dataframe tbody tr th:only-of-type {\n",
              "        vertical-align: middle;\n",
              "    }\n",
              "\n",
              "    .dataframe tbody tr th {\n",
              "        vertical-align: top;\n",
              "    }\n",
              "\n",
              "    .dataframe thead th {\n",
              "        text-align: right;\n",
              "    }\n",
              "</style>\n",
              "<table border=\"1\" class=\"dataframe\">\n",
              "  <thead>\n",
              "    <tr style=\"text-align: right;\">\n",
              "      <th></th>\n",
              "      <th>objid</th>\n",
              "      <th>ra</th>\n",
              "      <th>dec</th>\n",
              "      <th>gPSFMag</th>\n",
              "      <th>gPSFMagErr</th>\n",
              "      <th>rPSFMag</th>\n",
              "      <th>rPSFMagErr</th>\n",
              "      <th>iPSFMag</th>\n",
              "      <th>iPSFMagErr</th>\n",
              "      <th>zPSFMag</th>\n",
              "      <th>zPSFMagErr</th>\n",
              "      <th>yPSFMag</th>\n",
              "      <th>yPSFMagErr</th>\n",
              "      <th>ps_score</th>\n",
              "    </tr>\n",
              "  </thead>\n",
              "  <tbody>\n",
              "    <tr>\n",
              "      <th>2</th>\n",
              "      <td>121971328494717854</td>\n",
              "      <td>132.84946</td>\n",
              "      <td>11.647811</td>\n",
              "      <td>14.8691</td>\n",
              "      <td>0.000533</td>\n",
              "      <td>14.3603</td>\n",
              "      <td>0.000274</td>\n",
              "      <td>14.2388</td>\n",
              "      <td>0.00032</td>\n",
              "      <td>14.228</td>\n",
              "      <td>0.000519</td>\n",
              "      <td>14.1805</td>\n",
              "      <td>0.000877</td>\n",
              "      <td>0.9975</td>\n",
              "    </tr>\n",
              "  </tbody>\n",
              "</table>\n",
              "</div>\n",
              "      <button class=\"colab-df-convert\" onclick=\"convertToInteractive('df-4ada5cdf-d957-406d-b5b5-8d410c9753ba')\"\n",
              "              title=\"Convert this dataframe to an interactive table.\"\n",
              "              style=\"display:none;\">\n",
              "        \n",
              "  <svg xmlns=\"http://www.w3.org/2000/svg\" height=\"24px\"viewBox=\"0 0 24 24\"\n",
              "       width=\"24px\">\n",
              "    <path d=\"M0 0h24v24H0V0z\" fill=\"none\"/>\n",
              "    <path d=\"M18.56 5.44l.94 2.06.94-2.06 2.06-.94-2.06-.94-.94-2.06-.94 2.06-2.06.94zm-11 1L8.5 8.5l.94-2.06 2.06-.94-2.06-.94L8.5 2.5l-.94 2.06-2.06.94zm10 10l.94 2.06.94-2.06 2.06-.94-2.06-.94-.94-2.06-.94 2.06-2.06.94z\"/><path d=\"M17.41 7.96l-1.37-1.37c-.4-.4-.92-.59-1.43-.59-.52 0-1.04.2-1.43.59L10.3 9.45l-7.72 7.72c-.78.78-.78 2.05 0 2.83L4 21.41c.39.39.9.59 1.41.59.51 0 1.02-.2 1.41-.59l7.78-7.78 2.81-2.81c.8-.78.8-2.07 0-2.86zM5.41 20L4 18.59l7.72-7.72 1.47 1.35L5.41 20z\"/>\n",
              "  </svg>\n",
              "      </button>\n",
              "      \n",
              "  <style>\n",
              "    .colab-df-container {\n",
              "      display:flex;\n",
              "      flex-wrap:wrap;\n",
              "      gap: 12px;\n",
              "    }\n",
              "\n",
              "    .colab-df-convert {\n",
              "      background-color: #E8F0FE;\n",
              "      border: none;\n",
              "      border-radius: 50%;\n",
              "      cursor: pointer;\n",
              "      display: none;\n",
              "      fill: #1967D2;\n",
              "      height: 32px;\n",
              "      padding: 0 0 0 0;\n",
              "      width: 32px;\n",
              "    }\n",
              "\n",
              "    .colab-df-convert:hover {\n",
              "      background-color: #E2EBFA;\n",
              "      box-shadow: 0px 1px 2px rgba(60, 64, 67, 0.3), 0px 1px 3px 1px rgba(60, 64, 67, 0.15);\n",
              "      fill: #174EA6;\n",
              "    }\n",
              "\n",
              "    [theme=dark] .colab-df-convert {\n",
              "      background-color: #3B4455;\n",
              "      fill: #D2E3FC;\n",
              "    }\n",
              "\n",
              "    [theme=dark] .colab-df-convert:hover {\n",
              "      background-color: #434B5C;\n",
              "      box-shadow: 0px 1px 3px 1px rgba(0, 0, 0, 0.15);\n",
              "      filter: drop-shadow(0px 1px 2px rgba(0, 0, 0, 0.3));\n",
              "      fill: #FFFFFF;\n",
              "    }\n",
              "  </style>\n",
              "\n",
              "      <script>\n",
              "        const buttonEl =\n",
              "          document.querySelector('#df-4ada5cdf-d957-406d-b5b5-8d410c9753ba button.colab-df-convert');\n",
              "        buttonEl.style.display =\n",
              "          google.colab.kernel.accessAllowed ? 'block' : 'none';\n",
              "\n",
              "        async function convertToInteractive(key) {\n",
              "          const element = document.querySelector('#df-4ada5cdf-d957-406d-b5b5-8d410c9753ba');\n",
              "          const dataTable =\n",
              "            await google.colab.kernel.invokeFunction('convertToInteractive',\n",
              "                                                     [key], {});\n",
              "          if (!dataTable) return;\n",
              "\n",
              "          const docLinkHtml = 'Like what you see? Visit the ' +\n",
              "            '<a target=\"_blank\" href=https://colab.research.google.com/notebooks/data_table.ipynb>data table notebook</a>'\n",
              "            + ' to learn more about interactive tables.';\n",
              "          element.innerHTML = '';\n",
              "          dataTable['output_type'] = 'display_data';\n",
              "          await google.colab.output.renderOutput(dataTable, element);\n",
              "          const docLink = document.createElement('div');\n",
              "          docLink.innerHTML = docLinkHtml;\n",
              "          element.appendChild(docLink);\n",
              "        }\n",
              "      </script>\n",
              "    </div>\n",
              "  </div>\n",
              "  "
            ],
            "text/plain": [
              "                objid         ra        dec  ...  yPSFMag  yPSFMagErr  ps_score\n",
              "2  121971328494717854  132.84946  11.647811  ...  14.1805    0.000877    0.9975\n",
              "\n",
              "[1 rows x 14 columns]"
            ]
          },
          "metadata": {},
          "execution_count": 114
        }
      ]
    },
    {
      "cell_type": "code",
      "source": [
        "for i in ['g','r','i','z','y']:\n",
        "  df_star[f'{i}PSFFlux']     = 3631*pow(10,-df_star[f'{i}PSFMag']/2.5)*1000            #mJy\n",
        "\n",
        "  df_star[f'{i}PSFFlux_err'] = (df_star[f'{i}PSFMagErr']*df_star[f'{i}PSFFlux'])/1.09  #mJy"
      ],
      "metadata": {
        "id": "qImQe0eKB4kX"
      },
      "execution_count": 115,
      "outputs": []
    },
    {
      "cell_type": "code",
      "metadata": {
        "id": "2kTmpx6BX-nn"
      },
      "source": [
        "df_star['g_flag']  = 1\n",
        "df_star['i_flag']  = 1\n",
        "df_star['r_flag']  = 1\n",
        "df_star['z_flag']  = 1\n",
        "df_star['y_flag']  = 1"
      ],
      "execution_count": 116,
      "outputs": []
    },
    {
      "cell_type": "code",
      "metadata": {
        "id": "aO34sL0xnECU",
        "outputId": "8fcc2793-fc8c-46e8-c6a8-a798bb6b3387",
        "colab": {
          "base_uri": "https://localhost:8080/",
          "height": 145
        }
      },
      "source": [
        "df_star = df_star.drop_duplicates('objid')\n",
        "df_star"
      ],
      "execution_count": 188,
      "outputs": [
        {
          "output_type": "execute_result",
          "data": {
            "text/html": [
              "\n",
              "  <div id=\"df-c7d994c7-df20-4c60-9afc-a78993b6f50f\">\n",
              "    <div class=\"colab-df-container\">\n",
              "      <div>\n",
              "<style scoped>\n",
              "    .dataframe tbody tr th:only-of-type {\n",
              "        vertical-align: middle;\n",
              "    }\n",
              "\n",
              "    .dataframe tbody tr th {\n",
              "        vertical-align: top;\n",
              "    }\n",
              "\n",
              "    .dataframe thead th {\n",
              "        text-align: right;\n",
              "    }\n",
              "</style>\n",
              "<table border=\"1\" class=\"dataframe\">\n",
              "  <thead>\n",
              "    <tr style=\"text-align: right;\">\n",
              "      <th></th>\n",
              "      <th>objid</th>\n",
              "      <th>ra</th>\n",
              "      <th>dec</th>\n",
              "      <th>gPSFMag</th>\n",
              "      <th>gPSFMagErr</th>\n",
              "      <th>rPSFMag</th>\n",
              "      <th>rPSFMagErr</th>\n",
              "      <th>iPSFMag</th>\n",
              "      <th>iPSFMagErr</th>\n",
              "      <th>zPSFMag</th>\n",
              "      <th>zPSFMagErr</th>\n",
              "      <th>yPSFMag</th>\n",
              "      <th>yPSFMagErr</th>\n",
              "      <th>ps_score</th>\n",
              "      <th>gPSFFlux</th>\n",
              "      <th>gPSFFlux_err</th>\n",
              "      <th>rPSFFlux</th>\n",
              "      <th>rPSFFlux_err</th>\n",
              "      <th>iPSFFlux</th>\n",
              "      <th>iPSFFlux_err</th>\n",
              "      <th>zPSFFlux</th>\n",
              "      <th>zPSFFlux_err</th>\n",
              "      <th>yPSFFlux</th>\n",
              "      <th>yPSFFlux_err</th>\n",
              "      <th>g_flag</th>\n",
              "      <th>i_flag</th>\n",
              "      <th>r_flag</th>\n",
              "      <th>z_flag</th>\n",
              "      <th>y_flag</th>\n",
              "    </tr>\n",
              "  </thead>\n",
              "  <tbody>\n",
              "    <tr>\n",
              "      <th>2</th>\n",
              "      <td>121971328494717854</td>\n",
              "      <td>132.84946</td>\n",
              "      <td>11.647811</td>\n",
              "      <td>14.8691</td>\n",
              "      <td>0.000533</td>\n",
              "      <td>14.3603</td>\n",
              "      <td>0.000274</td>\n",
              "      <td>14.2388</td>\n",
              "      <td>0.00032</td>\n",
              "      <td>14.228</td>\n",
              "      <td>0.000519</td>\n",
              "      <td>14.1805</td>\n",
              "      <td>0.000877</td>\n",
              "      <td>0.9975</td>\n",
              "      <td>4.09625</td>\n",
              "      <td>0.002003</td>\n",
              "      <td>6.544948</td>\n",
              "      <td>0.001645</td>\n",
              "      <td>7.319918</td>\n",
              "      <td>0.002149</td>\n",
              "      <td>7.393096</td>\n",
              "      <td>0.00352</td>\n",
              "      <td>7.723715</td>\n",
              "      <td>0.006214</td>\n",
              "      <td>1</td>\n",
              "      <td>1</td>\n",
              "      <td>1</td>\n",
              "      <td>1</td>\n",
              "      <td>1</td>\n",
              "    </tr>\n",
              "  </tbody>\n",
              "</table>\n",
              "</div>\n",
              "      <button class=\"colab-df-convert\" onclick=\"convertToInteractive('df-c7d994c7-df20-4c60-9afc-a78993b6f50f')\"\n",
              "              title=\"Convert this dataframe to an interactive table.\"\n",
              "              style=\"display:none;\">\n",
              "        \n",
              "  <svg xmlns=\"http://www.w3.org/2000/svg\" height=\"24px\"viewBox=\"0 0 24 24\"\n",
              "       width=\"24px\">\n",
              "    <path d=\"M0 0h24v24H0V0z\" fill=\"none\"/>\n",
              "    <path d=\"M18.56 5.44l.94 2.06.94-2.06 2.06-.94-2.06-.94-.94-2.06-.94 2.06-2.06.94zm-11 1L8.5 8.5l.94-2.06 2.06-.94-2.06-.94L8.5 2.5l-.94 2.06-2.06.94zm10 10l.94 2.06.94-2.06 2.06-.94-2.06-.94-.94-2.06-.94 2.06-2.06.94z\"/><path d=\"M17.41 7.96l-1.37-1.37c-.4-.4-.92-.59-1.43-.59-.52 0-1.04.2-1.43.59L10.3 9.45l-7.72 7.72c-.78.78-.78 2.05 0 2.83L4 21.41c.39.39.9.59 1.41.59.51 0 1.02-.2 1.41-.59l7.78-7.78 2.81-2.81c.8-.78.8-2.07 0-2.86zM5.41 20L4 18.59l7.72-7.72 1.47 1.35L5.41 20z\"/>\n",
              "  </svg>\n",
              "      </button>\n",
              "      \n",
              "  <style>\n",
              "    .colab-df-container {\n",
              "      display:flex;\n",
              "      flex-wrap:wrap;\n",
              "      gap: 12px;\n",
              "    }\n",
              "\n",
              "    .colab-df-convert {\n",
              "      background-color: #E8F0FE;\n",
              "      border: none;\n",
              "      border-radius: 50%;\n",
              "      cursor: pointer;\n",
              "      display: none;\n",
              "      fill: #1967D2;\n",
              "      height: 32px;\n",
              "      padding: 0 0 0 0;\n",
              "      width: 32px;\n",
              "    }\n",
              "\n",
              "    .colab-df-convert:hover {\n",
              "      background-color: #E2EBFA;\n",
              "      box-shadow: 0px 1px 2px rgba(60, 64, 67, 0.3), 0px 1px 3px 1px rgba(60, 64, 67, 0.15);\n",
              "      fill: #174EA6;\n",
              "    }\n",
              "\n",
              "    [theme=dark] .colab-df-convert {\n",
              "      background-color: #3B4455;\n",
              "      fill: #D2E3FC;\n",
              "    }\n",
              "\n",
              "    [theme=dark] .colab-df-convert:hover {\n",
              "      background-color: #434B5C;\n",
              "      box-shadow: 0px 1px 3px 1px rgba(0, 0, 0, 0.15);\n",
              "      filter: drop-shadow(0px 1px 2px rgba(0, 0, 0, 0.3));\n",
              "      fill: #FFFFFF;\n",
              "    }\n",
              "  </style>\n",
              "\n",
              "      <script>\n",
              "        const buttonEl =\n",
              "          document.querySelector('#df-c7d994c7-df20-4c60-9afc-a78993b6f50f button.colab-df-convert');\n",
              "        buttonEl.style.display =\n",
              "          google.colab.kernel.accessAllowed ? 'block' : 'none';\n",
              "\n",
              "        async function convertToInteractive(key) {\n",
              "          const element = document.querySelector('#df-c7d994c7-df20-4c60-9afc-a78993b6f50f');\n",
              "          const dataTable =\n",
              "            await google.colab.kernel.invokeFunction('convertToInteractive',\n",
              "                                                     [key], {});\n",
              "          if (!dataTable) return;\n",
              "\n",
              "          const docLinkHtml = 'Like what you see? Visit the ' +\n",
              "            '<a target=\"_blank\" href=https://colab.research.google.com/notebooks/data_table.ipynb>data table notebook</a>'\n",
              "            + ' to learn more about interactive tables.';\n",
              "          element.innerHTML = '';\n",
              "          dataTable['output_type'] = 'display_data';\n",
              "          await google.colab.output.renderOutput(dataTable, element);\n",
              "          const docLink = document.createElement('div');\n",
              "          docLink.innerHTML = docLinkHtml;\n",
              "          element.appendChild(docLink);\n",
              "        }\n",
              "      </script>\n",
              "    </div>\n",
              "  </div>\n",
              "  "
            ],
            "text/plain": [
              "                objid         ra        dec  ...  r_flag  z_flag  y_flag\n",
              "2  121971328494717854  132.84946  11.647811  ...       1       1       1\n",
              "\n",
              "[1 rows x 29 columns]"
            ]
          },
          "metadata": {},
          "execution_count": 188
        }
      ]
    },
    {
      "cell_type": "code",
      "source": [
        "df_star['gPSFFlux']*(4.7e-9)/(3631e3)    # ergs cm-2 s-1 A-1"
      ],
      "metadata": {
        "id": "wizdxSOUcdjE",
        "outputId": "83955a86-6ac8-4c24-a36c-0d3494cb8773",
        "colab": {
          "base_uri": "https://localhost:8080/"
        }
      },
      "execution_count": 189,
      "outputs": [
        {
          "output_type": "execute_result",
          "data": {
            "text/plain": [
              "2    5.302223e-15\n",
              "Name: gPSFFlux, dtype: float64"
            ]
          },
          "metadata": {},
          "execution_count": 189
        }
      ]
    },
    {
      "cell_type": "code",
      "source": [
        "df_star['rPSFFlux']*(2.87e-9 )/(3631e3) "
      ],
      "metadata": {
        "colab": {
          "base_uri": "https://localhost:8080/"
        },
        "id": "koukeCYLsUh3",
        "outputId": "5041a7f3-f6ab-4b66-e3b3-5c9d98f826bf"
      },
      "execution_count": 190,
      "outputs": [
        {
          "output_type": "execute_result",
          "data": {
            "text/plain": [
              "2    5.173231e-15\n",
              "Name: rPSFFlux, dtype: float64"
            ]
          },
          "metadata": {},
          "execution_count": 190
        }
      ]
    },
    {
      "cell_type": "code",
      "source": [
        "df_star['iPSFFlux']*(1.93e-9 )/(3631e3) "
      ],
      "metadata": {
        "colab": {
          "base_uri": "https://localhost:8080/"
        },
        "id": "J4yxG7OmsHjl",
        "outputId": "52e267a8-f743-4c82-ea5a-1f1710788e48"
      },
      "execution_count": 191,
      "outputs": [
        {
          "output_type": "execute_result",
          "data": {
            "text/plain": [
              "2    3.890786e-15\n",
              "Name: iPSFFlux, dtype: float64"
            ]
          },
          "metadata": {},
          "execution_count": 191
        }
      ]
    },
    {
      "cell_type": "code",
      "source": [
        "df_star['zPSFFlux']*(1.45e-9 )/(3631e3) "
      ],
      "metadata": {
        "colab": {
          "base_uri": "https://localhost:8080/"
        },
        "id": "NDHK8Orcsiir",
        "outputId": "376a0cc6-2c63-45a1-bffe-f27aa1e73675"
      },
      "execution_count": 192,
      "outputs": [
        {
          "output_type": "execute_result",
          "data": {
            "text/plain": [
              "2    2.952352e-15\n",
              "Name: zPSFFlux, dtype: float64"
            ]
          },
          "metadata": {},
          "execution_count": 192
        }
      ]
    },
    {
      "cell_type": "code",
      "source": [
        "df_star['yPSFFlux']*(1.18e-9)/(3631e3) "
      ],
      "metadata": {
        "colab": {
          "base_uri": "https://localhost:8080/"
        },
        "id": "8T0aVPY8tev-",
        "outputId": "4354f59d-f81a-4cc7-d197-c0720c3d6a55"
      },
      "execution_count": 193,
      "outputs": [
        {
          "output_type": "execute_result",
          "data": {
            "text/plain": [
              "2    2.510048e-15\n",
              "Name: yPSFFlux, dtype: float64"
            ]
          },
          "metadata": {},
          "execution_count": 193
        }
      ]
    },
    {
      "cell_type": "code",
      "source": [
        "filters = ['gPSFMag','rPSFMag','iPSFMag','zPSFMag','yPSFMag', ]"
      ],
      "metadata": {
        "id": "XIEl7rtSgK9c"
      },
      "execution_count": 194,
      "outputs": []
    },
    {
      "cell_type": "code",
      "source": [
        "df_star[filters]"
      ],
      "metadata": {
        "id": "HiLQ8Y8OhGtR",
        "outputId": "8e643ec3-ebf1-4917-ae3a-1f632cd04633",
        "colab": {
          "base_uri": "https://localhost:8080/",
          "height": 81
        }
      },
      "execution_count": 195,
      "outputs": [
        {
          "output_type": "execute_result",
          "data": {
            "text/html": [
              "\n",
              "  <div id=\"df-cdc4bf3f-ec24-4234-9327-b8a6580f075b\">\n",
              "    <div class=\"colab-df-container\">\n",
              "      <div>\n",
              "<style scoped>\n",
              "    .dataframe tbody tr th:only-of-type {\n",
              "        vertical-align: middle;\n",
              "    }\n",
              "\n",
              "    .dataframe tbody tr th {\n",
              "        vertical-align: top;\n",
              "    }\n",
              "\n",
              "    .dataframe thead th {\n",
              "        text-align: right;\n",
              "    }\n",
              "</style>\n",
              "<table border=\"1\" class=\"dataframe\">\n",
              "  <thead>\n",
              "    <tr style=\"text-align: right;\">\n",
              "      <th></th>\n",
              "      <th>gPSFMag</th>\n",
              "      <th>rPSFMag</th>\n",
              "      <th>iPSFMag</th>\n",
              "      <th>zPSFMag</th>\n",
              "      <th>yPSFMag</th>\n",
              "    </tr>\n",
              "  </thead>\n",
              "  <tbody>\n",
              "    <tr>\n",
              "      <th>2</th>\n",
              "      <td>14.8691</td>\n",
              "      <td>14.3603</td>\n",
              "      <td>14.2388</td>\n",
              "      <td>14.228</td>\n",
              "      <td>14.1805</td>\n",
              "    </tr>\n",
              "  </tbody>\n",
              "</table>\n",
              "</div>\n",
              "      <button class=\"colab-df-convert\" onclick=\"convertToInteractive('df-cdc4bf3f-ec24-4234-9327-b8a6580f075b')\"\n",
              "              title=\"Convert this dataframe to an interactive table.\"\n",
              "              style=\"display:none;\">\n",
              "        \n",
              "  <svg xmlns=\"http://www.w3.org/2000/svg\" height=\"24px\"viewBox=\"0 0 24 24\"\n",
              "       width=\"24px\">\n",
              "    <path d=\"M0 0h24v24H0V0z\" fill=\"none\"/>\n",
              "    <path d=\"M18.56 5.44l.94 2.06.94-2.06 2.06-.94-2.06-.94-.94-2.06-.94 2.06-2.06.94zm-11 1L8.5 8.5l.94-2.06 2.06-.94-2.06-.94L8.5 2.5l-.94 2.06-2.06.94zm10 10l.94 2.06.94-2.06 2.06-.94-2.06-.94-.94-2.06-.94 2.06-2.06.94z\"/><path d=\"M17.41 7.96l-1.37-1.37c-.4-.4-.92-.59-1.43-.59-.52 0-1.04.2-1.43.59L10.3 9.45l-7.72 7.72c-.78.78-.78 2.05 0 2.83L4 21.41c.39.39.9.59 1.41.59.51 0 1.02-.2 1.41-.59l7.78-7.78 2.81-2.81c.8-.78.8-2.07 0-2.86zM5.41 20L4 18.59l7.72-7.72 1.47 1.35L5.41 20z\"/>\n",
              "  </svg>\n",
              "      </button>\n",
              "      \n",
              "  <style>\n",
              "    .colab-df-container {\n",
              "      display:flex;\n",
              "      flex-wrap:wrap;\n",
              "      gap: 12px;\n",
              "    }\n",
              "\n",
              "    .colab-df-convert {\n",
              "      background-color: #E8F0FE;\n",
              "      border: none;\n",
              "      border-radius: 50%;\n",
              "      cursor: pointer;\n",
              "      display: none;\n",
              "      fill: #1967D2;\n",
              "      height: 32px;\n",
              "      padding: 0 0 0 0;\n",
              "      width: 32px;\n",
              "    }\n",
              "\n",
              "    .colab-df-convert:hover {\n",
              "      background-color: #E2EBFA;\n",
              "      box-shadow: 0px 1px 2px rgba(60, 64, 67, 0.3), 0px 1px 3px 1px rgba(60, 64, 67, 0.15);\n",
              "      fill: #174EA6;\n",
              "    }\n",
              "\n",
              "    [theme=dark] .colab-df-convert {\n",
              "      background-color: #3B4455;\n",
              "      fill: #D2E3FC;\n",
              "    }\n",
              "\n",
              "    [theme=dark] .colab-df-convert:hover {\n",
              "      background-color: #434B5C;\n",
              "      box-shadow: 0px 1px 3px 1px rgba(0, 0, 0, 0.15);\n",
              "      filter: drop-shadow(0px 1px 2px rgba(0, 0, 0, 0.3));\n",
              "      fill: #FFFFFF;\n",
              "    }\n",
              "  </style>\n",
              "\n",
              "      <script>\n",
              "        const buttonEl =\n",
              "          document.querySelector('#df-cdc4bf3f-ec24-4234-9327-b8a6580f075b button.colab-df-convert');\n",
              "        buttonEl.style.display =\n",
              "          google.colab.kernel.accessAllowed ? 'block' : 'none';\n",
              "\n",
              "        async function convertToInteractive(key) {\n",
              "          const element = document.querySelector('#df-cdc4bf3f-ec24-4234-9327-b8a6580f075b');\n",
              "          const dataTable =\n",
              "            await google.colab.kernel.invokeFunction('convertToInteractive',\n",
              "                                                     [key], {});\n",
              "          if (!dataTable) return;\n",
              "\n",
              "          const docLinkHtml = 'Like what you see? Visit the ' +\n",
              "            '<a target=\"_blank\" href=https://colab.research.google.com/notebooks/data_table.ipynb>data table notebook</a>'\n",
              "            + ' to learn more about interactive tables.';\n",
              "          element.innerHTML = '';\n",
              "          dataTable['output_type'] = 'display_data';\n",
              "          await google.colab.output.renderOutput(dataTable, element);\n",
              "          const docLink = document.createElement('div');\n",
              "          docLink.innerHTML = docLinkHtml;\n",
              "          element.appendChild(docLink);\n",
              "        }\n",
              "      </script>\n",
              "    </div>\n",
              "  </div>\n",
              "  "
            ],
            "text/plain": [
              "   gPSFMag  rPSFMag  iPSFMag  zPSFMag  yPSFMag\n",
              "2  14.8691  14.3603  14.2388   14.228  14.1805"
            ]
          },
          "metadata": {},
          "execution_count": 195
        }
      ]
    },
    {
      "cell_type": "code",
      "source": [
        "for i,flux in df_star[filters].iterrows():\n",
        "  plt.scatter(['gPSFMag','rPSFMag','iPSFMag','zPSFMag','yPSFMag', ],flux,marker = 'o', color = 'black')\n",
        "  plt.plot(['gPSFMag','rPSFMag','iPSFMag','zPSFMag','yPSFMag', ],flux)\n",
        "  break"
      ],
      "metadata": {
        "id": "MTY-uRBdgklm",
        "outputId": "0e9e6fe6-9d2f-4faa-8d36-b2fe111df6c8",
        "colab": {
          "base_uri": "https://localhost:8080/",
          "height": 593
        }
      },
      "execution_count": 196,
      "outputs": [
        {
          "output_type": "display_data",
          "data": {
            "image/png": "[encoded data removed]",
            "text/plain": [
              "<Figure size 1080x720 with 1 Axes>"
            ]
          },
          "metadata": {}
        }
      ]
    },
    {
      "cell_type": "code",
      "metadata": {
        "id": "CGBh1IRhDcnL"
      },
      "source": [
        "df_out = df_star[['objid', 'ra', 'dec','g_flag', 'i_flag', 'r_flag', 'z_flag','y_flag','gPSFFlux','gPSFFlux_err','rPSFFlux', 'rPSFFlux_err','iPSFFlux', 'iPSFFlux_err','zPSFFlux', 'zPSFFlux_err','yPSFFlux', 'yPSFFlux_err']]"
      ],
      "execution_count": 197,
      "outputs": []
    },
    {
      "cell_type": "code",
      "metadata": {
        "colab": {
          "base_uri": "https://localhost:8080/",
          "height": 81
        },
        "id": "X9MV-0Y8JBJS",
        "outputId": "2949def5-645b-4af7-8027-d18484efe42e"
      },
      "source": [
        "df_out "
      ],
      "execution_count": 198,
      "outputs": [
        {
          "output_type": "execute_result",
          "data": {
            "text/html": [
              "\n",
              "  <div id=\"df-487de291-9182-4707-a3fd-a0e15f04d00e\">\n",
              "    <div class=\"colab-df-container\">\n",
              "      <div>\n",
              "<style scoped>\n",
              "    .dataframe tbody tr th:only-of-type {\n",
              "        vertical-align: middle;\n",
              "    }\n",
              "\n",
              "    .dataframe tbody tr th {\n",
              "        vertical-align: top;\n",
              "    }\n",
              "\n",
              "    .dataframe thead th {\n",
              "        text-align: right;\n",
              "    }\n",
              "</style>\n",
              "<table border=\"1\" class=\"dataframe\">\n",
              "  <thead>\n",
              "    <tr style=\"text-align: right;\">\n",
              "      <th></th>\n",
              "      <th>objid</th>\n",
              "      <th>ra</th>\n",
              "      <th>dec</th>\n",
              "      <th>g_flag</th>\n",
              "      <th>i_flag</th>\n",
              "      <th>r_flag</th>\n",
              "      <th>z_flag</th>\n",
              "      <th>y_flag</th>\n",
              "      <th>gPSFFlux</th>\n",
              "      <th>gPSFFlux_err</th>\n",
              "      <th>rPSFFlux</th>\n",
              "      <th>rPSFFlux_err</th>\n",
              "      <th>iPSFFlux</th>\n",
              "      <th>iPSFFlux_err</th>\n",
              "      <th>zPSFFlux</th>\n",
              "      <th>zPSFFlux_err</th>\n",
              "      <th>yPSFFlux</th>\n",
              "      <th>yPSFFlux_err</th>\n",
              "    </tr>\n",
              "  </thead>\n",
              "  <tbody>\n",
              "    <tr>\n",
              "      <th>2</th>\n",
              "      <td>121971328494717854</td>\n",
              "      <td>132.84946</td>\n",
              "      <td>11.647811</td>\n",
              "      <td>1</td>\n",
              "      <td>1</td>\n",
              "      <td>1</td>\n",
              "      <td>1</td>\n",
              "      <td>1</td>\n",
              "      <td>4.09625</td>\n",
              "      <td>0.002003</td>\n",
              "      <td>6.544948</td>\n",
              "      <td>0.001645</td>\n",
              "      <td>7.319918</td>\n",
              "      <td>0.002149</td>\n",
              "      <td>7.393096</td>\n",
              "      <td>0.00352</td>\n",
              "      <td>7.723715</td>\n",
              "      <td>0.006214</td>\n",
              "    </tr>\n",
              "  </tbody>\n",
              "</table>\n",
              "</div>\n",
              "      <button class=\"colab-df-convert\" onclick=\"convertToInteractive('df-487de291-9182-4707-a3fd-a0e15f04d00e')\"\n",
              "              title=\"Convert this dataframe to an interactive table.\"\n",
              "              style=\"display:none;\">\n",
              "        \n",
              "  <svg xmlns=\"http://www.w3.org/2000/svg\" height=\"24px\"viewBox=\"0 0 24 24\"\n",
              "       width=\"24px\">\n",
              "    <path d=\"M0 0h24v24H0V0z\" fill=\"none\"/>\n",
              "    <path d=\"M18.56 5.44l.94 2.06.94-2.06 2.06-.94-2.06-.94-.94-2.06-.94 2.06-2.06.94zm-11 1L8.5 8.5l.94-2.06 2.06-.94-2.06-.94L8.5 2.5l-.94 2.06-2.06.94zm10 10l.94 2.06.94-2.06 2.06-.94-2.06-.94-.94-2.06-.94 2.06-2.06.94z\"/><path d=\"M17.41 7.96l-1.37-1.37c-.4-.4-.92-.59-1.43-.59-.52 0-1.04.2-1.43.59L10.3 9.45l-7.72 7.72c-.78.78-.78 2.05 0 2.83L4 21.41c.39.39.9.59 1.41.59.51 0 1.02-.2 1.41-.59l7.78-7.78 2.81-2.81c.8-.78.8-2.07 0-2.86zM5.41 20L4 18.59l7.72-7.72 1.47 1.35L5.41 20z\"/>\n",
              "  </svg>\n",
              "      </button>\n",
              "      \n",
              "  <style>\n",
              "    .colab-df-container {\n",
              "      display:flex;\n",
              "      flex-wrap:wrap;\n",
              "      gap: 12px;\n",
              "    }\n",
              "\n",
              "    .colab-df-convert {\n",
              "      background-color: #E8F0FE;\n",
              "      border: none;\n",
              "      border-radius: 50%;\n",
              "      cursor: pointer;\n",
              "      display: none;\n",
              "      fill: #1967D2;\n",
              "      height: 32px;\n",
              "      padding: 0 0 0 0;\n",
              "      width: 32px;\n",
              "    }\n",
              "\n",
              "    .colab-df-convert:hover {\n",
              "      background-color: #E2EBFA;\n",
              "      box-shadow: 0px 1px 2px rgba(60, 64, 67, 0.3), 0px 1px 3px 1px rgba(60, 64, 67, 0.15);\n",
              "      fill: #174EA6;\n",
              "    }\n",
              "\n",
              "    [theme=dark] .colab-df-convert {\n",
              "      background-color: #3B4455;\n",
              "      fill: #D2E3FC;\n",
              "    }\n",
              "\n",
              "    [theme=dark] .colab-df-convert:hover {\n",
              "      background-color: #434B5C;\n",
              "      box-shadow: 0px 1px 3px 1px rgba(0, 0, 0, 0.15);\n",
              "      filter: drop-shadow(0px 1px 2px rgba(0, 0, 0, 0.3));\n",
              "      fill: #FFFFFF;\n",
              "    }\n",
              "  </style>\n",
              "\n",
              "      <script>\n",
              "        const buttonEl =\n",
              "          document.querySelector('#df-487de291-9182-4707-a3fd-a0e15f04d00e button.colab-df-convert');\n",
              "        buttonEl.style.display =\n",
              "          google.colab.kernel.accessAllowed ? 'block' : 'none';\n",
              "\n",
              "        async function convertToInteractive(key) {\n",
              "          const element = document.querySelector('#df-487de291-9182-4707-a3fd-a0e15f04d00e');\n",
              "          const dataTable =\n",
              "            await google.colab.kernel.invokeFunction('convertToInteractive',\n",
              "                                                     [key], {});\n",
              "          if (!dataTable) return;\n",
              "\n",
              "          const docLinkHtml = 'Like what you see? Visit the ' +\n",
              "            '<a target=\"_blank\" href=https://colab.research.google.com/notebooks/data_table.ipynb>data table notebook</a>'\n",
              "            + ' to learn more about interactive tables.';\n",
              "          element.innerHTML = '';\n",
              "          dataTable['output_type'] = 'display_data';\n",
              "          await google.colab.output.renderOutput(dataTable, element);\n",
              "          const docLink = document.createElement('div');\n",
              "          docLink.innerHTML = docLinkHtml;\n",
              "          element.appendChild(docLink);\n",
              "        }\n",
              "      </script>\n",
              "    </div>\n",
              "  </div>\n",
              "  "
            ],
            "text/plain": [
              "                objid         ra  ...  yPSFFlux  yPSFFlux_err\n",
              "2  121971328494717854  132.84946  ...  7.723715      0.006214\n",
              "\n",
              "[1 rows x 18 columns]"
            ]
          },
          "metadata": {},
          "execution_count": 198
        }
      ]
    },
    {
      "cell_type": "code",
      "source": [
        "df_out.to_csv('data_input.dat', sep = \" \",index=False, header=False)"
      ],
      "metadata": {
        "id": "mEWSzpiPaBUr"
      },
      "execution_count": 199,
      "outputs": []
    },
    {
      "cell_type": "markdown",
      "source": [
        "#### **Fit**"
      ],
      "metadata": {
        "id": "QXepz9-O6gMK"
      }
    },
    {
      "cell_type": "code",
      "metadata": {
        "colab": {
          "base_uri": "https://localhost:8080/"
        },
        "id": "hISQHnrhh4oa",
        "outputId": "ab6a61de-a7e7-4bfe-ffa4-65b6e096ef3d"
      },
      "source": [
        "model_dir = 'models_kurucz'\n",
        "\n",
        "# Read in extinction law)\n",
        "extinction = sed.Extinction.from_file('kmh94.par', columns=[0, 3],\n",
        "                                  wav_unit=u.micron, chi_unit=u.cm**2 / u.g)\n",
        "\n",
        "# Define filters and apertures\n",
        "filters = ['PS1g', 'PS1r', 'PS1i', 'PS1z', 'PS1y']\n",
        "apertures = [3., 3., 3., 3., 3.] * u.arcsec\n",
        "\n",
        "# Run the fitting\n",
        "d = sed.fit('data_input.dat', filters, apertures, model_dir, 'output.fitinfo', extinction_law=extinction, distance_range=[0.01, 2.] * u.Mpc,av_range=[0., 40.],output_convolved=True)"
      ],
      "execution_count": 200,
      "outputs": [
        {
          "output_type": "stream",
          "name": "stdout",
          "text": [
            " ------------------------------------------------------------\n",
            "  => Model parameters\n",
            " ------------------------------------------------------------\n",
            "\n",
            "   Models              :  Kurucz stellar photospheres\n",
            "   Log[d] stepping     :  0.02\n",
            "\n",
            " ------------------------------------------------------------\n",
            "  => Reading in convolved fluxes\n",
            " ------------------------------------------------------------\n",
            "\n",
            "   Reading models_kurucz/convolved/PS1g.fits\n",
            "   Reading models_kurucz/convolved/PS1r.fits\n",
            "   Reading models_kurucz/convolved/PS1i.fits\n",
            "   Reading models_kurucz/convolved/PS1z.fits\n",
            "   Reading models_kurucz/convolved/PS1y.fits\n",
            " ------------------------------------------------------------\n",
            "  => Fitting parameters\n",
            " ------------------------------------------------------------\n",
            "\n",
            "   Minimum A_V      :     0.000 mag\n",
            "   Maximum A_V      :    40.000 mag\n",
            "   Minimum distance :     0.010 Mpc\n",
            "   Maximum distance :     2.000 Mpc\n",
            "\n",
            " ------------------------------------------------------------\n",
            "  => Output parameters\n",
            " ------------------------------------------------------------\n",
            "\n",
            "   File   : output.fitinfo\n",
            "   Format : F\n",
            "   Number : 6\n",
            "\n",
            " ------------------------------------------------------------\n",
            "  => Data format parameters\n",
            " ------------------------------------------------------------\n",
            "\n",
            "   Number of filters :  5\n",
            "\n",
            "\n",
            "     Filter    Wavelength    Aperture (\")   \n",
            "    ----------------------------------------\n",
            "        PS1g        0.49       3.00        \n",
            "        PS1r        0.62       3.00        \n",
            "        PS1i        0.75       3.00        \n",
            "        PS1z        0.87       3.00        \n",
            "        PS1y        0.95       3.00        \n",
            "\n",
            "Delete file output.fitinfo? [y/[n]] y\n",
            "\n",
            "   # Sources    CPU time (sec)    Sources/sec  \n",
            " ----------------------------------------------\n",
            "          2              0.0         245.86\n"
          ]
        }
      ]
    },
    {
      "cell_type": "code",
      "source": [
        "tab = extinction.to_table()"
      ],
      "metadata": {
        "id": "j5Cl6hPZhv70"
      },
      "execution_count": 201,
      "outputs": []
    },
    {
      "cell_type": "code",
      "source": [
        "plt.plot(tab['wav'],tab['chi'],'o-')\n",
        "plt.xscale('log')\n",
        "plt.xlabel(r\"$\\lambda$ ($\\mu m$)\")\n",
        "plt.ylabel(r\"$chi$ ($g/cm^2$)\");"
      ],
      "metadata": {
        "id": "SHt54OdRiIyL",
        "outputId": "445eb305-2c42-4fb7-8d5a-45952232be7c",
        "colab": {
          "base_uri": "https://localhost:8080/",
          "height": 616
        }
      },
      "execution_count": 202,
      "outputs": [
        {
          "output_type": "display_data",
          "data": {
            "image/png": "[encoded data removed]",
            "text/plain": [
              "<Figure size 1080x720 with 1 Axes>"
            ]
          },
          "metadata": {}
        }
      ]
    },
    {
      "cell_type": "code",
      "source": [
        "from sedfitter import plot\n",
        "plot('output.fitinfo', 'plots_seds', select_format=('F', 3), show_convolved=True,format='png')"
      ],
      "metadata": {
        "id": "f29CgenLg6Ba"
      },
      "execution_count": null,
      "outputs": []
    },
    {
      "cell_type": "code",
      "source": [
        "img = plt.imread(f\"plots_seds/{os.listdir('plots_seds')[0]}\")\n",
        "plt.imshow(img)"
      ],
      "metadata": {
        "id": "n6SVjsXQgt_t"
      },
      "execution_count": null,
      "outputs": []
    },
    {
      "cell_type": "markdown",
      "source": [
        "\n",
        "Extracting fitting parameters from SED Fitter output"
      ],
      "metadata": {
        "id": "8cXsO5H0fzVS"
      }
    },
    {
      "cell_type": "code",
      "source": [
        "fin = sed.FitInfoFile('output.fitinfo', 'r')\n",
        "modpar = sed.utils.parfile.read(\"%s/models.conf\" % fin.meta.model_dir, 'conf')\n",
        "\n",
        "f1 = Table.read('models_kurucz/convolved/PS1g.fits',hdu=1)\n",
        "f2 = Table.read('models_kurucz/convolved/PS1r.fits',hdu=1)\n",
        "f3 = Table.read('models_kurucz/convolved/PS1i.fits',hdu=1)\n",
        "f4 = Table.read('models_kurucz/convolved/PS1z.fits',hdu=1)\n",
        "f5 = Table.read('models_kurucz/convolved/PS1y.fits',hdu=1)\n",
        "\n",
        "flux     = []\n",
        "flux_err = []\n",
        "chi2     = []\n",
        "Avs      = []\n",
        "scs      = []\n",
        "\n",
        "model_names = []\n",
        "for info in fin:\n",
        "  Avs.append(info.av[0])\n",
        "  scs.append(info.sc[0])\n",
        "  model_name = info.model_name[0]\n",
        "  model_names.append(model_name)\n",
        "  chi2.append(info.chi2[0])\n",
        "\n",
        "  g = [f1[f1['MODEL_NAME'] == model_name]['TOTAL_FLUX'].value[0][0] , f1[f1['MODEL_NAME'] == model_name]['TOTAL_FLUX_ERR'].value[0][0]]\n",
        "  r = [f2[f2['MODEL_NAME'] == model_name]['TOTAL_FLUX'].value[0][0] , f2[f2['MODEL_NAME'] == model_name]['TOTAL_FLUX_ERR'].value[0][0]]\n",
        "  i = [f3[f3['MODEL_NAME'] == model_name]['TOTAL_FLUX'].value[0][0] , f3[f3['MODEL_NAME'] == model_name]['TOTAL_FLUX_ERR'].value[0][0]]\n",
        "  z = [f4[f4['MODEL_NAME'] == model_name]['TOTAL_FLUX'].value[0][0] , f4[f4['MODEL_NAME'] == model_name]['TOTAL_FLUX_ERR'].value[0][0]]\n",
        "  y = [f5[f5['MODEL_NAME'] == model_name]['TOTAL_FLUX'].value[0][0] , f5[f5['MODEL_NAME'] == model_name]['TOTAL_FLUX_ERR'].value[0][0]]\n",
        "\n",
        "  flux.append([g[0], r[0], i[0], z[0], y[0]])\n",
        "\n",
        "  flux_err.append([g[1], r[1], i[1], z[1], y[1]])\n",
        "\n",
        "flux = np.array(flux)\n",
        "\n",
        "flux_err = np.array(flux_err)\n",
        "\n",
        "Avs = np.array(Avs)\n",
        "\n",
        "scs = np.array(scs)"
      ],
      "metadata": {
        "id": "CPqVMcz-kYBp"
      },
      "execution_count": 252,
      "outputs": []
    },
    {
      "cell_type": "code",
      "source": [
        "model_names"
      ],
      "metadata": {
        "id": "JFywr21namhJ",
        "outputId": "097f44d6-2151-43ab-cdc7-e5c624b705bb",
        "colab": {
          "base_uri": "https://localhost:8080/"
        }
      },
      "execution_count": 253,
      "outputs": [
        {
          "output_type": "execute_result",
          "data": {
            "text/plain": [
              "['kt05750g+1.5z+0.0']"
            ]
          },
          "metadata": {},
          "execution_count": 253
        }
      ]
    },
    {
      "cell_type": "code",
      "source": [
        "Avs"
      ],
      "metadata": {
        "id": "IIpaTTl0zEyE",
        "outputId": "51d59789-c662-4757-dbaf-dfa99f3ed297",
        "colab": {
          "base_uri": "https://localhost:8080/"
        }
      },
      "execution_count": 261,
      "outputs": [
        {
          "output_type": "execute_result",
          "data": {
            "text/plain": [
              "array([0.08073438])"
            ]
          },
          "metadata": {},
          "execution_count": 261
        }
      ]
    },
    {
      "cell_type": "code",
      "source": [
        "tab_star = Table.from_pandas(df_star)\n",
        "\n",
        "tab_star['model_flux']     = flux\n",
        "tab_star['model_flux_err'] = flux_err\n",
        "tab_star['Av']             = Avs\n",
        "tab_star['Sc']             = scs\n",
        "tab_star['model_mag']      = -2.5*np.log10(tab_star['model_flux']/3631e3) \n",
        "tab_star['model_mag_err']  =  1.09*tab_star['model_flux_err']/tab_star['model_mag'] \n",
        "tab_star['chi2'] =chi2"
      ],
      "metadata": {
        "id": "ZivaWg7o9dNl"
      },
      "execution_count": 262,
      "outputs": []
    },
    {
      "cell_type": "code",
      "source": [
        "filters = ['gPSFMag','rPSFMag','iPSFMag','zPSFMag','yPSFMag']\n",
        "\n",
        "x = ['gPSFMag','rPSFMag','iPSFMag','zPSFMag','yPSFMag']\n",
        "for i,fl in df_star[filters].iterrows():\n",
        "  plt.scatter(x,fl,marker = 'o', color = 'black')\n",
        "  plt.plot(x,fl)\n",
        "  break\n",
        "  \n",
        "plt.plot(x,tab_star['model_mag'].value[0])\n",
        "plt.scatter(x,tab_star['model_mag'].value[0])"
      ],
      "metadata": {
        "colab": {
          "base_uri": "https://localhost:8080/",
          "height": 609
        },
        "id": "LLu_sLr5eHnX",
        "outputId": "d3fc69ec-206f-4251-8fc6-75ad1d76f98c"
      },
      "execution_count": 263,
      "outputs": [
        {
          "output_type": "execute_result",
          "data": {
            "text/plain": [
              "<matplotlib.collections.PathCollection at 0x7fd7d4f9cc10>"
            ]
          },
          "metadata": {},
          "execution_count": 263
        },
        {
          "output_type": "display_data",
          "data": {
            "image/png": "[encoded data removed]",
            "text/plain": [
              "<Figure size 1080x720 with 1 Axes>"
            ]
          },
          "metadata": {}
        }
      ]
    },
    {
      "cell_type": "code",
      "source": [
        "plt.plot(chi2)\n",
        "plt.yscale('log')\n",
        "plt.ylabel(r'$\\chi^2$')\n",
        "plt.xlabel('Sources')\n",
        "plt.title('SED Fitter')"
      ],
      "metadata": {
        "id": "xVZ6bNQSNsKm"
      },
      "execution_count": null,
      "outputs": []
    },
    {
      "cell_type": "markdown",
      "source": [
        "### **SED Fitting Routine**"
      ],
      "metadata": {
        "id": "DZz_lg2LgAeH"
      }
    },
    {
      "cell_type": "markdown",
      "source": [
        "EMCEE : Bayesian. "
      ],
      "metadata": {
        "id": "1zoGmWyp_rhl"
      }
    },
    {
      "cell_type": "markdown",
      "source": [
        "#### **Data**"
      ],
      "metadata": {
        "id": "B-m7KaGO6R7D"
      }
    },
    {
      "cell_type": "code",
      "source": [
        "df_star.head(5)"
      ],
      "metadata": {
        "id": "6MFlhQNQ6Q6R",
        "outputId": "d2a1b51a-5b3d-4a41-bbda-67ebf7a23b09",
        "colab": {
          "base_uri": "https://localhost:8080/",
          "height": 145
        }
      },
      "execution_count": 209,
      "outputs": [
        {
          "output_type": "execute_result",
          "data": {
            "text/html": [
              "\n",
              "  <div id=\"df-85a4ae8f-a139-49ae-9564-3c6d2d4ef05d\">\n",
              "    <div class=\"colab-df-container\">\n",
              "      <div>\n",
              "<style scoped>\n",
              "    .dataframe tbody tr th:only-of-type {\n",
              "        vertical-align: middle;\n",
              "    }\n",
              "\n",
              "    .dataframe tbody tr th {\n",
              "        vertical-align: top;\n",
              "    }\n",
              "\n",
              "    .dataframe thead th {\n",
              "        text-align: right;\n",
              "    }\n",
              "</style>\n",
              "<table border=\"1\" class=\"dataframe\">\n",
              "  <thead>\n",
              "    <tr style=\"text-align: right;\">\n",
              "      <th></th>\n",
              "      <th>objid</th>\n",
              "      <th>ra</th>\n",
              "      <th>dec</th>\n",
              "      <th>gPSFMag</th>\n",
              "      <th>gPSFMagErr</th>\n",
              "      <th>rPSFMag</th>\n",
              "      <th>rPSFMagErr</th>\n",
              "      <th>iPSFMag</th>\n",
              "      <th>iPSFMagErr</th>\n",
              "      <th>zPSFMag</th>\n",
              "      <th>zPSFMagErr</th>\n",
              "      <th>yPSFMag</th>\n",
              "      <th>yPSFMagErr</th>\n",
              "      <th>ps_score</th>\n",
              "      <th>gPSFFlux</th>\n",
              "      <th>gPSFFlux_err</th>\n",
              "      <th>rPSFFlux</th>\n",
              "      <th>rPSFFlux_err</th>\n",
              "      <th>iPSFFlux</th>\n",
              "      <th>iPSFFlux_err</th>\n",
              "      <th>zPSFFlux</th>\n",
              "      <th>zPSFFlux_err</th>\n",
              "      <th>yPSFFlux</th>\n",
              "      <th>yPSFFlux_err</th>\n",
              "      <th>g_flag</th>\n",
              "      <th>i_flag</th>\n",
              "      <th>r_flag</th>\n",
              "      <th>z_flag</th>\n",
              "      <th>y_flag</th>\n",
              "    </tr>\n",
              "  </thead>\n",
              "  <tbody>\n",
              "    <tr>\n",
              "      <th>2</th>\n",
              "      <td>121971328494717854</td>\n",
              "      <td>132.84946</td>\n",
              "      <td>11.647811</td>\n",
              "      <td>14.8691</td>\n",
              "      <td>0.000533</td>\n",
              "      <td>14.3603</td>\n",
              "      <td>0.000274</td>\n",
              "      <td>14.2388</td>\n",
              "      <td>0.00032</td>\n",
              "      <td>14.228</td>\n",
              "      <td>0.000519</td>\n",
              "      <td>14.1805</td>\n",
              "      <td>0.000877</td>\n",
              "      <td>0.9975</td>\n",
              "      <td>4.09625</td>\n",
              "      <td>0.002003</td>\n",
              "      <td>6.544948</td>\n",
              "      <td>0.001645</td>\n",
              "      <td>7.319918</td>\n",
              "      <td>0.002149</td>\n",
              "      <td>7.393096</td>\n",
              "      <td>0.00352</td>\n",
              "      <td>7.723715</td>\n",
              "      <td>0.006214</td>\n",
              "      <td>1</td>\n",
              "      <td>1</td>\n",
              "      <td>1</td>\n",
              "      <td>1</td>\n",
              "      <td>1</td>\n",
              "    </tr>\n",
              "  </tbody>\n",
              "</table>\n",
              "</div>\n",
              "      <button class=\"colab-df-convert\" onclick=\"convertToInteractive('df-85a4ae8f-a139-49ae-9564-3c6d2d4ef05d')\"\n",
              "              title=\"Convert this dataframe to an interactive table.\"\n",
              "              style=\"display:none;\">\n",
              "        \n",
              "  <svg xmlns=\"http://www.w3.org/2000/svg\" height=\"24px\"viewBox=\"0 0 24 24\"\n",
              "       width=\"24px\">\n",
              "    <path d=\"M0 0h24v24H0V0z\" fill=\"none\"/>\n",
              "    <path d=\"M18.56 5.44l.94 2.06.94-2.06 2.06-.94-2.06-.94-.94-2.06-.94 2.06-2.06.94zm-11 1L8.5 8.5l.94-2.06 2.06-.94-2.06-.94L8.5 2.5l-.94 2.06-2.06.94zm10 10l.94 2.06.94-2.06 2.06-.94-2.06-.94-.94-2.06-.94 2.06-2.06.94z\"/><path d=\"M17.41 7.96l-1.37-1.37c-.4-.4-.92-.59-1.43-.59-.52 0-1.04.2-1.43.59L10.3 9.45l-7.72 7.72c-.78.78-.78 2.05 0 2.83L4 21.41c.39.39.9.59 1.41.59.51 0 1.02-.2 1.41-.59l7.78-7.78 2.81-2.81c.8-.78.8-2.07 0-2.86zM5.41 20L4 18.59l7.72-7.72 1.47 1.35L5.41 20z\"/>\n",
              "  </svg>\n",
              "      </button>\n",
              "      \n",
              "  <style>\n",
              "    .colab-df-container {\n",
              "      display:flex;\n",
              "      flex-wrap:wrap;\n",
              "      gap: 12px;\n",
              "    }\n",
              "\n",
              "    .colab-df-convert {\n",
              "      background-color: #E8F0FE;\n",
              "      border: none;\n",
              "      border-radius: 50%;\n",
              "      cursor: pointer;\n",
              "      display: none;\n",
              "      fill: #1967D2;\n",
              "      height: 32px;\n",
              "      padding: 0 0 0 0;\n",
              "      width: 32px;\n",
              "    }\n",
              "\n",
              "    .colab-df-convert:hover {\n",
              "      background-color: #E2EBFA;\n",
              "      box-shadow: 0px 1px 2px rgba(60, 64, 67, 0.3), 0px 1px 3px 1px rgba(60, 64, 67, 0.15);\n",
              "      fill: #174EA6;\n",
              "    }\n",
              "\n",
              "    [theme=dark] .colab-df-convert {\n",
              "      background-color: #3B4455;\n",
              "      fill: #D2E3FC;\n",
              "    }\n",
              "\n",
              "    [theme=dark] .colab-df-convert:hover {\n",
              "      background-color: #434B5C;\n",
              "      box-shadow: 0px 1px 3px 1px rgba(0, 0, 0, 0.15);\n",
              "      filter: drop-shadow(0px 1px 2px rgba(0, 0, 0, 0.3));\n",
              "      fill: #FFFFFF;\n",
              "    }\n",
              "  </style>\n",
              "\n",
              "      <script>\n",
              "        const buttonEl =\n",
              "          document.querySelector('#df-85a4ae8f-a139-49ae-9564-3c6d2d4ef05d button.colab-df-convert');\n",
              "        buttonEl.style.display =\n",
              "          google.colab.kernel.accessAllowed ? 'block' : 'none';\n",
              "\n",
              "        async function convertToInteractive(key) {\n",
              "          const element = document.querySelector('#df-85a4ae8f-a139-49ae-9564-3c6d2d4ef05d');\n",
              "          const dataTable =\n",
              "            await google.colab.kernel.invokeFunction('convertToInteractive',\n",
              "                                                     [key], {});\n",
              "          if (!dataTable) return;\n",
              "\n",
              "          const docLinkHtml = 'Like what you see? Visit the ' +\n",
              "            '<a target=\"_blank\" href=https://colab.research.google.com/notebooks/data_table.ipynb>data table notebook</a>'\n",
              "            + ' to learn more about interactive tables.';\n",
              "          element.innerHTML = '';\n",
              "          dataTable['output_type'] = 'display_data';\n",
              "          await google.colab.output.renderOutput(dataTable, element);\n",
              "          const docLink = document.createElement('div');\n",
              "          docLink.innerHTML = docLinkHtml;\n",
              "          element.appendChild(docLink);\n",
              "        }\n",
              "      </script>\n",
              "    </div>\n",
              "  </div>\n",
              "  "
            ],
            "text/plain": [
              "                objid         ra        dec  ...  r_flag  z_flag  y_flag\n",
              "2  121971328494717854  132.84946  11.647811  ...       1       1       1\n",
              "\n",
              "[1 rows x 29 columns]"
            ]
          },
          "metadata": {},
          "execution_count": 209
        }
      ]
    },
    {
      "cell_type": "code",
      "source": [
        "for i in ['g','r','i','z','y']:\n",
        "  df_star[f'{i}PSFFlux']     = 3631*pow(10,-df_star[f'{i}PSFMag']/2.5)*1000            #mJy\n",
        "\n",
        "  df_star[f'{i}PSFFlux_err'] = (df_star[f'{i}PSFMagErr']*df_star[f'{i}PSFFlux'])/1.09  #mJy"
      ],
      "metadata": {
        "id": "387c96A46Q6S"
      },
      "execution_count": 210,
      "outputs": []
    },
    {
      "cell_type": "markdown",
      "source": [
        "#### **Fit**"
      ],
      "metadata": {
        "id": "WQrCLm-A6k6J"
      }
    },
    {
      "cell_type": "code",
      "source": [
        "def chi2_func(Md,flux,model_flux,flux_err):\n",
        "  chi = (flux - Md*model_flux)/flux_err\n",
        "  return chi@chi"
      ],
      "metadata": {
        "id": "6Ncs6VwBZhN5"
      },
      "execution_count": 239,
      "outputs": []
    },
    {
      "cell_type": "code",
      "source": [
        "# Convolved Filters\n",
        "\n",
        "f1 = Table.read('models_kurucz/convolved/PS1g.fits',hdu=1)['TOTAL_FLUX'].value[:,0]\n",
        "f2 = Table.read('models_kurucz/convolved/PS1r.fits',hdu=1)['TOTAL_FLUX'].value[:,0]\n",
        "f3 = Table.read('models_kurucz/convolved/PS1i.fits',hdu=1)['TOTAL_FLUX'].value[:,0]\n",
        "f4 = Table.read('models_kurucz/convolved/PS1z.fits',hdu=1)['TOTAL_FLUX'].value[:,0]\n",
        "f5 = Table.read('models_kurucz/convolved/PS1y.fits',hdu=1)['TOTAL_FLUX'].value[:,0]\n",
        "\n",
        "model_name = [ i  for i in Table.read('models_kurucz/convolved/PS1g.fits',hdu=1)['MODEL_NAME']]\n",
        "chi_set = []\n",
        "\n",
        "# Chi2 loop : Takes about 5 minutes with current settings\n",
        "for i,row in df_star[:1].iterrows():\n",
        "  flux     = row[['gPSFFlux', 'rPSFFlux', 'iPSFFlux', 'zPSFFlux', 'yPSFFlux']].values\n",
        "  flux_err = row[['gPSFFlux_err', 'rPSFFlux_err', 'iPSFFlux_err', 'zPSFFlux_err', 'yPSFFlux_err']].values\n",
        "\n",
        "  for j,model_flux in enumerate(zip(f1,f2,f3,f4,f5)):\n",
        "    model_flux = np.array(model_flux)\n",
        "    \n",
        "    Md = minimize_scalar(chi2_func,args=(flux,model_flux,flux_err)).x\n",
        "    \n",
        "    chi2   = chi2_func(Md,flux,model_flux,flux_err)\n",
        "    chi_set.append([row['objid'],model_name[j],Md,chi2])"
      ],
      "metadata": {
        "id": "KJl-6PRgSPPr"
      },
      "execution_count": 240,
      "outputs": []
    },
    {
      "cell_type": "code",
      "source": [
        "df_chi = pd.DataFrame(chi_set, columns = ['objid','model_name','Md','chi2'])"
      ],
      "metadata": {
        "id": "Id5BL9rDcx8_"
      },
      "execution_count": 241,
      "outputs": []
    },
    {
      "cell_type": "markdown",
      "source": [
        "#### **With Extinction**"
      ],
      "metadata": {
        "id": "S1Zj9mGVaWcx"
      }
    },
    {
      "cell_type": "markdown",
      "source": [
        "$\\chi^2 =\\dfrac{1}{N - n_p}\\sum\\limits_{i=1}^j\\left(\\dfrac{Y_{i,o} -M_d \\times Y_{i,M}\\times10^{-0.4\\times ext_i\\times A_v}}{\\sigma_{i,o}}\\right)^2$"
      ],
      "metadata": {
        "id": "kMPkihTNsf9T"
      }
    },
    {
      "cell_type": "code",
      "source": [
        "def chi2_func(params,flux,model_flux,flux_err,ext):\n",
        "  Md, av = params\n",
        "  chi = (flux - Md*model_flux*pow(10,-0.4*av*ext))/flux_err\n",
        "  return chi@chi"
      ],
      "metadata": {
        "id": "FtlzBKAGFSj-"
      },
      "execution_count": 234,
      "outputs": []
    },
    {
      "cell_type": "code",
      "source": [
        "# Convolved Filters\n",
        "\n",
        "f1 = Table.read('models_kurucz/convolved/PS1g.fits',hdu=1)['TOTAL_FLUX'].value[:,0]\n",
        "f2 = Table.read('models_kurucz/convolved/PS1r.fits',hdu=1)['TOTAL_FLUX'].value[:,0]\n",
        "f3 = Table.read('models_kurucz/convolved/PS1i.fits',hdu=1)['TOTAL_FLUX'].value[:,0]\n",
        "f4 = Table.read('models_kurucz/convolved/PS1z.fits',hdu=1)['TOTAL_FLUX'].value[:,0]\n",
        "f5 = Table.read('models_kurucz/convolved/PS1y.fits',hdu=1)['TOTAL_FLUX'].value[:,0]\n",
        "\n",
        "model_name = [ i  for i in Table.read('models_kurucz/convolved/PS1g.fits',hdu=1)['MODEL_NAME']]\n",
        "ext = np.array([1.18, 0.881, 0.667, 0.534,0.457])\n",
        "chi_set = []\n",
        "\n",
        "# Chi2 loop : Takes about 5 minutes with current settings\n",
        "for i,row in df_star[:1].iterrows():\n",
        "  flux     = row[['gPSFFlux', 'rPSFFlux', 'iPSFFlux', 'zPSFFlux', 'yPSFFlux']].values\n",
        "  flux_err = row[['gPSFFlux_err', 'rPSFFlux_err', 'iPSFFlux_err', 'zPSFFlux_err', 'yPSFFlux_err']].values\n",
        "\n",
        "  for j,model_flux in enumerate(zip(f1,f2,f3,f4,f5)):\n",
        "    model_flux = np.array(model_flux)\n",
        "    \n",
        "    params = minimize(chi2_func,x0 = (1e-2,0.5),bounds=([0,np.inf],[0,np.inf]),args=(flux,model_flux,flux_err,ext)).x\n",
        "    Md, Av = params\n",
        "    chi2   = chi2_func(params,flux,model_flux,flux_err,ext)\n",
        "    chi_set.append([row['objid'],model_name[j],Md,Av,chi2])"
      ],
      "metadata": {
        "id": "N6H7xdrqZrQa"
      },
      "execution_count": 235,
      "outputs": []
    },
    {
      "cell_type": "code",
      "source": [
        "df_chi = pd.DataFrame(chi_set, columns = ['objid','model_name','Md','Av','chi2'])"
      ],
      "metadata": {
        "id": "X02-rJYpcvJV"
      },
      "execution_count": 236,
      "outputs": []
    },
    {
      "cell_type": "markdown",
      "source": [
        "#### **Minimize chi**"
      ],
      "metadata": {
        "id": "92Neow1Mac8I"
      }
    },
    {
      "cell_type": "code",
      "source": [
        "df_chi_min = df_chi[0:0]\n",
        "for i in df_chi['objid'].unique():\n",
        "  df_temp = df_chi[ df_chi['objid'] == i]\n",
        "  df_chi_min = df_chi_min.append(df_temp[df_temp['chi2']==df_temp['chi2'].min()])"
      ],
      "metadata": {
        "id": "Tt69f08oTkND"
      },
      "execution_count": 242,
      "outputs": []
    },
    {
      "cell_type": "code",
      "source": [
        "df_chi_min"
      ],
      "metadata": {
        "id": "P5cxrco0pKMN",
        "outputId": "2f48cfd9-3c59-4eb8-ce85-fdc6a083483d",
        "colab": {
          "base_uri": "https://localhost:8080/",
          "height": 81
        }
      },
      "execution_count": 243,
      "outputs": [
        {
          "output_type": "execute_result",
          "data": {
            "text/html": [
              "\n",
              "  <div id=\"df-c192ab95-6767-4607-b4da-db5fed330f19\">\n",
              "    <div class=\"colab-df-container\">\n",
              "      <div>\n",
              "<style scoped>\n",
              "    .dataframe tbody tr th:only-of-type {\n",
              "        vertical-align: middle;\n",
              "    }\n",
              "\n",
              "    .dataframe tbody tr th {\n",
              "        vertical-align: top;\n",
              "    }\n",
              "\n",
              "    .dataframe thead th {\n",
              "        text-align: right;\n",
              "    }\n",
              "</style>\n",
              "<table border=\"1\" class=\"dataframe\">\n",
              "  <thead>\n",
              "    <tr style=\"text-align: right;\">\n",
              "      <th></th>\n",
              "      <th>objid</th>\n",
              "      <th>model_name</th>\n",
              "      <th>Md</th>\n",
              "      <th>chi2</th>\n",
              "    </tr>\n",
              "  </thead>\n",
              "  <tbody>\n",
              "    <tr>\n",
              "      <th>864</th>\n",
              "      <td>1.219713e+17</td>\n",
              "      <td>kt05750g+4.5z+0.0</td>\n",
              "      <td>1.33485</td>\n",
              "      <td>2323.872461</td>\n",
              "    </tr>\n",
              "  </tbody>\n",
              "</table>\n",
              "</div>\n",
              "      <button class=\"colab-df-convert\" onclick=\"convertToInteractive('df-c192ab95-6767-4607-b4da-db5fed330f19')\"\n",
              "              title=\"Convert this dataframe to an interactive table.\"\n",
              "              style=\"display:none;\">\n",
              "        \n",
              "  <svg xmlns=\"http://www.w3.org/2000/svg\" height=\"24px\"viewBox=\"0 0 24 24\"\n",
              "       width=\"24px\">\n",
              "    <path d=\"M0 0h24v24H0V0z\" fill=\"none\"/>\n",
              "    <path d=\"M18.56 5.44l.94 2.06.94-2.06 2.06-.94-2.06-.94-.94-2.06-.94 2.06-2.06.94zm-11 1L8.5 8.5l.94-2.06 2.06-.94-2.06-.94L8.5 2.5l-.94 2.06-2.06.94zm10 10l.94 2.06.94-2.06 2.06-.94-2.06-.94-.94-2.06-.94 2.06-2.06.94z\"/><path d=\"M17.41 7.96l-1.37-1.37c-.4-.4-.92-.59-1.43-.59-.52 0-1.04.2-1.43.59L10.3 9.45l-7.72 7.72c-.78.78-.78 2.05 0 2.83L4 21.41c.39.39.9.59 1.41.59.51 0 1.02-.2 1.41-.59l7.78-7.78 2.81-2.81c.8-.78.8-2.07 0-2.86zM5.41 20L4 18.59l7.72-7.72 1.47 1.35L5.41 20z\"/>\n",
              "  </svg>\n",
              "      </button>\n",
              "      \n",
              "  <style>\n",
              "    .colab-df-container {\n",
              "      display:flex;\n",
              "      flex-wrap:wrap;\n",
              "      gap: 12px;\n",
              "    }\n",
              "\n",
              "    .colab-df-convert {\n",
              "      background-color: #E8F0FE;\n",
              "      border: none;\n",
              "      border-radius: 50%;\n",
              "      cursor: pointer;\n",
              "      display: none;\n",
              "      fill: #1967D2;\n",
              "      height: 32px;\n",
              "      padding: 0 0 0 0;\n",
              "      width: 32px;\n",
              "    }\n",
              "\n",
              "    .colab-df-convert:hover {\n",
              "      background-color: #E2EBFA;\n",
              "      box-shadow: 0px 1px 2px rgba(60, 64, 67, 0.3), 0px 1px 3px 1px rgba(60, 64, 67, 0.15);\n",
              "      fill: #174EA6;\n",
              "    }\n",
              "\n",
              "    [theme=dark] .colab-df-convert {\n",
              "      background-color: #3B4455;\n",
              "      fill: #D2E3FC;\n",
              "    }\n",
              "\n",
              "    [theme=dark] .colab-df-convert:hover {\n",
              "      background-color: #434B5C;\n",
              "      box-shadow: 0px 1px 3px 1px rgba(0, 0, 0, 0.15);\n",
              "      filter: drop-shadow(0px 1px 2px rgba(0, 0, 0, 0.3));\n",
              "      fill: #FFFFFF;\n",
              "    }\n",
              "  </style>\n",
              "\n",
              "      <script>\n",
              "        const buttonEl =\n",
              "          document.querySelector('#df-c192ab95-6767-4607-b4da-db5fed330f19 button.colab-df-convert');\n",
              "        buttonEl.style.display =\n",
              "          google.colab.kernel.accessAllowed ? 'block' : 'none';\n",
              "\n",
              "        async function convertToInteractive(key) {\n",
              "          const element = document.querySelector('#df-c192ab95-6767-4607-b4da-db5fed330f19');\n",
              "          const dataTable =\n",
              "            await google.colab.kernel.invokeFunction('convertToInteractive',\n",
              "                                                     [key], {});\n",
              "          if (!dataTable) return;\n",
              "\n",
              "          const docLinkHtml = 'Like what you see? Visit the ' +\n",
              "            '<a target=\"_blank\" href=https://colab.research.google.com/notebooks/data_table.ipynb>data table notebook</a>'\n",
              "            + ' to learn more about interactive tables.';\n",
              "          element.innerHTML = '';\n",
              "          dataTable['output_type'] = 'display_data';\n",
              "          await google.colab.output.renderOutput(dataTable, element);\n",
              "          const docLink = document.createElement('div');\n",
              "          docLink.innerHTML = docLinkHtml;\n",
              "          element.appendChild(docLink);\n",
              "        }\n",
              "      </script>\n",
              "    </div>\n",
              "  </div>\n",
              "  "
            ],
            "text/plain": [
              "            objid         model_name       Md         chi2\n",
              "864  1.219713e+17  kt05750g+4.5z+0.0  1.33485  2323.872461"
            ]
          },
          "metadata": {},
          "execution_count": 243
        }
      ]
    },
    {
      "cell_type": "markdown",
      "source": [
        "# **Color Matching**"
      ],
      "metadata": {
        "id": "YM4S2IZqmFAM"
      }
    },
    {
      "cell_type": "code",
      "source": [
        ""
      ],
      "metadata": {
        "id": "aOgdff9EmIRK"
      },
      "execution_count": null,
      "outputs": []
    }
  ]
}