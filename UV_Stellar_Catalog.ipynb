{
  "nbformat": 4,
  "nbformat_minor": 0,
  "metadata": {
    "colab": {
      "name": "UV_Stellar_Catalog.ipynb",
      "provenance": [],
      "machine_shape": "hm",
      "authorship_tag": "ABX9TyOSQKB1lqD7d9pQOu9GBQzH",
      "include_colab_link": true
    },
    "kernelspec": {
      "name": "python3",
      "display_name": "Python 3"
    },
    "language_info": {
      "name": "python"
    }
  },
  "cells": [
    {
      "cell_type": "markdown",
      "metadata": {
        "id": "view-in-github",
        "colab_type": "text"
      },
      "source": [
        "<a href=\"https://colab.research.google.com/github/Jack3690/INSIST/blob/main/UV_Stellar_Catalog.ipynb\" target=\"_parent\"><img src=\"https://colab.research.google.com/assets/colab-badge.svg\" alt=\"Open In Colab\"/></a>"
      ]
    },
    {
      "cell_type": "markdown",
      "source": [
        "# **Install**"
      ],
      "metadata": {
        "id": "QOmHvVRpWmqp"
      }
    },
    {
      "cell_type": "code",
      "metadata": {
        "id": "kmKFEMMFZ74N",
        "outputId": "789b6f7f-32eb-4110-d309-eee9a623cd72",
        "colab": {
          "base_uri": "https://localhost:8080/"
        }
      },
      "source": [
        "!pip install git+https://github.com/rlwastro/mastcasjobs@master --quiet\n",
        "!pip install synphot --quiet"
      ],
      "execution_count": 1,
      "outputs": [
        {
          "output_type": "stream",
          "name": "stdout",
          "text": [
            "  Building wheel for mastcasjobs (setup.py) ... \u001b[?25l\u001b[?25hdone\n",
            "  Building wheel for casjobs (setup.py) ... \u001b[?25l\u001b[?25hdone\n",
            "\u001b[K     |████████████████████████████████| 914 kB 13.9 MB/s \n",
            "\u001b[?25h"
          ]
        }
      ]
    },
    {
      "cell_type": "markdown",
      "source": [
        "# **GitHub**"
      ],
      "metadata": {
        "id": "i1mcLAB5DFSt"
      }
    },
    {
      "cell_type": "code",
      "metadata": {
        "colab": {
          "base_uri": "https://localhost:8080/"
        },
        "id": "4D-dNXcqSeX_",
        "outputId": "feb4737f-0def-418c-bd1c-d34526cf943f"
      },
      "source": [
        "!git clone https://github.com/Jack3690/INSIST"
      ],
      "execution_count": 2,
      "outputs": [
        {
          "output_type": "stream",
          "name": "stdout",
          "text": [
            "Cloning into 'INSIST'...\n",
            "remote: Enumerating objects: 1289, done.\u001b[K\n",
            "remote: Counting objects: 100% (165/165), done.\u001b[K\n",
            "remote: Compressing objects: 100% (111/111), done.\u001b[K\n",
            "remote: Total 1289 (delta 91), reused 96 (delta 51), pack-reused 1124\u001b[K\n",
            "Receiving objects: 100% (1289/1289), 189.07 MiB | 25.94 MiB/s, done.\n",
            "Resolving deltas: 100% (703/703), done.\n"
          ]
        }
      ]
    },
    {
      "cell_type": "code",
      "metadata": {
        "id": "u7R9oIZbSjB5",
        "outputId": "c774d15d-0dc4-42a0-fb52-6a559f610e16",
        "colab": {
          "base_uri": "https://localhost:8080/"
        }
      },
      "source": [
        "cd INSIST/data"
      ],
      "execution_count": 3,
      "outputs": [
        {
          "output_type": "stream",
          "name": "stdout",
          "text": [
            "/content/INSIST/data\n"
          ]
        }
      ]
    },
    {
      "cell_type": "markdown",
      "metadata": {
        "id": "19zz7u-cSXtd"
      },
      "source": [
        "#**Imports**"
      ]
    },
    {
      "cell_type": "code",
      "metadata": {
        "id": "qVyee94faMdF"
      },
      "source": [
        "import numpy as np\n",
        "import pandas as pd\n",
        "import matplotlib\n",
        "import matplotlib.pyplot as plt\n",
        "import seaborn as sb\n",
        "\n",
        "from astropy import units as u\n",
        "from astropy.coordinates import SkyCoord\n",
        "from astropy.stats import gaussian_fwhm_to_sigma, gaussian_sigma_to_fwhm\n",
        "from astropy.modeling import models, fitting\n",
        "from astropy.visualization import LogStretch\n",
        "from astropy.visualization.mpl_normalize import ImageNormalize\n",
        "from astropy import wcs\n",
        "from matplotlib import cm\n",
        "from matplotlib.colors import ListedColormap, LinearSegmentedColormap\n",
        "from astropy.table import Table\n",
        "from astropy.io import fits\n",
        "\n",
        "import os\n",
        "from time import perf_counter\n",
        "import json\n",
        "import requests\n",
        "from scipy.interpolate import interp1d\n",
        "from scipy import integrate\n",
        "\n",
        "import mastcasjobs\n",
        "from scipy.optimize import minimize_scalar,minimize\n",
        "\n",
        "# get the WSID and password if not already defined\n",
        "if not os.environ.get('CASJOBS_USERID'):\n",
        "    os.environ['CASJOBS_USERID'] = \"avinashck90\"\n",
        "if not os.environ.get('CASJOBS_PW'):\n",
        "    os.environ['CASJOBS_PW'] = \"INSIST369\"\n",
        "\n",
        "matplotlib.rcParams['font.size']=15\n",
        "matplotlib.rcParams['figure.figsize']=(15,10)\n",
        "sb.set_style('darkgrid')"
      ],
      "execution_count": 4,
      "outputs": []
    },
    {
      "cell_type": "markdown",
      "metadata": {
        "id": "EQW8jnRkGst-"
      },
      "source": [
        "# **Data**"
      ]
    },
    {
      "cell_type": "markdown",
      "metadata": {
        "id": "gtQQDMuCTv6D"
      },
      "source": [
        "## **CasJobs Script**"
      ]
    },
    {
      "cell_type": "code",
      "metadata": {
        "id": "wkGNEfD32zu7"
      },
      "source": [
        "def mastQuery(request, json_return=False):\n",
        "    \"\"\"Perform a MAST query.\n",
        "\n",
        "    Parameters\n",
        "    ----------\n",
        "    request (dictionary): The MAST request json object\n",
        "    \n",
        "    Returns the text response or (if json_return=True) the json response\n",
        "    \"\"\"\n",
        "    \n",
        "    url = \"https://mast.stsci.edu/api/v0/invoke\"\n",
        "\n",
        "    # Encoding the request as a json string\n",
        "    requestString = json.dumps(request)\n",
        "    \n",
        "    # make the query\n",
        "    r = requests.post(url, data=dict(request=requestString))\n",
        "    \n",
        "    # raise exception on error\n",
        "    r.raise_for_status()\n",
        "    \n",
        "    if json_return:\n",
        "        return r.json()\n",
        "    else:\n",
        "        return r.text\n",
        "\n",
        "\n",
        "def resolve(name):\n",
        "    \"\"\"Get the RA and Dec for an object using the MAST name resolver\n",
        "    \n",
        "    Parameters\n",
        "    ----------\n",
        "    name (str): Name of object\n",
        "\n",
        "    Returns RA, Dec tuple with position\"\"\"\n",
        "\n",
        "    resolverRequest = {'service':'Mast.Name.Lookup',\n",
        "                       'params':{'input':name,\n",
        "                                 'format':'json'\n",
        "                                },\n",
        "                      }\n",
        "    resolvedObject = mastQuery(resolverRequest, json_return=True)\n",
        "    # The resolver returns a variety of information about the resolved object, \n",
        "    # however for our purposes all we need are the RA and Dec\n",
        "    try:\n",
        "        objRa = resolvedObject['resolvedCoordinate'][0]['ra']\n",
        "        objDec = resolvedObject['resolvedCoordinate'][0]['decl']\n",
        "    except IndexError as e:\n",
        "        raise ValueError(\"Unknown object '{}'\".format(name))\n",
        "    return (objRa, objDec)"
      ],
      "execution_count": 5,
      "outputs": []
    },
    {
      "cell_type": "code",
      "metadata": {
        "id": "wIHbrJgX4ju2"
      },
      "source": [
        "class casjobs():\n",
        "    \"\"\"PSF Generator using Source catalog or CasJobs GALEX Catalog\n",
        "\n",
        "    Parameters\n",
        "    ----------\n",
        "    name (string) : Catalog name or coordinates of the source\n",
        "\n",
        "    df   (pd.DataFrame ): Pandas dataframe with source catalog\n",
        "\n",
        "    cols (dict) : dict object with column name conversions for ra,dec,mag_nuv. Eg {'RA': 'ra','Dec' : 'dec', 'ABmag' : 'mag_nuv'}\n",
        "\n",
        "        'ra' (degrees)\n",
        "\n",
        "        'dec' (degrees)\n",
        "\n",
        "        'mag_nuv' (ABmag)\n",
        "\n",
        "    pixel_scale (float) : pixel scale of detector in the unit of arcseconds/pixels\n",
        "\n",
        "    fwhm_in (float) : Full Width at Half Maximum of the Gaussian PSF\n",
        "\n",
        "    n_pix_main (int) : Number of pixels along one axis in the detector. Total number of pixels in the detector is n_pix_main**2\n",
        "\n",
        "    n_pix_sub (int) : Number of pixels along one axis in the path. Total number of pixels in the patch is n_pix_sub**2\n",
        "\n",
        "    \"\"\"\n",
        "    def __init__(self,name = None, df = None ,cols = None):   \n",
        "\n",
        "        if name is not None and df is None:\n",
        "          self.name = name\n",
        "          self.ra,self.dec = resolve(name)\n",
        "      \n",
        "          self.jobs = mastcasjobs.MastCasJobs(context=\"PanSTARRS_DR2\")\n",
        "          self.query =   f\"\"\"select psc.objid,o.raStack,o.decStack,mag.gPSFMag, mag.gPSFMagErr,mag.rPSFMag, mag.rPSFMagErr,mag.iPSFMag, mag.iPSFMagErr,mag.zPSFMag,mag.zPSFMagErr, mag.yPSFMag,mag.yPSFMagErr,psc.ps_score\n",
        "                            from fGetNearbyObjEq({self.ra}, {self.dec}, 28) f\n",
        "                            join ObjectThin o on o.objid=f.objid\n",
        "                            join HLSP_PS1_PSC.pointsource_scores psc on psc.objid=f.objid\n",
        "                            join StackObjectThin mag on mag.objid=psc.objid\n",
        "                            WHERE\n",
        "                            mag.gPSFMag>-900 and \n",
        "                            mag.rPSFMag>-900 and \n",
        "                            mag.iPSFMag>-900 and \n",
        "                            mag.zPSFMag>-900 and \n",
        "                            mag.yPSFMag>-900 \n",
        "                          \"\"\"\n",
        "          self.df = self.jobs.quick(self.query, task_name=\"python cone search\").to_pandas()\n",
        "        else:\n",
        "          self.df = df \n",
        "        if cols is not None:\n",
        "          self.df = self.df.rename(columns=cols) \n",
        "    \n",
        "    def show_field(self,figsize=(10,10)):\n",
        "      \"\"\"\n",
        "      Function for creating a scatter plot of sources within the FoV\n",
        "      \n",
        "      Returns\n",
        "      -------\n",
        "      fig, ax\n",
        "      \"\"\"\n",
        "        \n",
        "      fig, ax = plt.subplots(1,1,figsize=figsize)\n",
        "      ax.scatter(self.df['ra'],self.df['dec'],marker='.',color='black')\n",
        "      ax.set_title(f\" Requested Center : {self.name} \\n  {len(self.df)} sources\")\n",
        "      ax.invert_xaxis()\n",
        "      ax.set_xlabel('RA (Degrees)')\n",
        "      ax.set_ylabel('Dec (Degrees)')\n",
        "      return fig,ax\n",
        "      \n",
        "        "
      ],
      "execution_count": 6,
      "outputs": []
    },
    {
      "cell_type": "markdown",
      "source": [
        "## **M 31**"
      ],
      "metadata": {
        "id": "rnSsRJIU_FtV"
      }
    },
    {
      "cell_type": "code",
      "source": [
        "df_M31 = Table.read('/content/INSIST/data/M31_UVIT_PanSTARRS_crossmatch.fits').to_pandas()"
      ],
      "metadata": {
        "id": "ISlKPkhT2hDW"
      },
      "execution_count": 35,
      "outputs": []
    },
    {
      "cell_type": "code",
      "source": [
        "df_star = df_M31[df_M31['ps_score']>0.5][:1].copy()\n",
        "df_star =  df_star.rename(columns = {'raStack':'ra','decStack':'dec'})"
      ],
      "metadata": {
        "id": "Hskutq_y2wJV"
      },
      "execution_count": 36,
      "outputs": []
    },
    {
      "cell_type": "code",
      "source": [
        "for i in ['g','r','i','z','y']:\n",
        "  df_star[f'{i}PSFFlux']     = 3631*pow(10,-df_star[f'{i}PSFMag']/2.5)*1000             # mJy\n",
        "\n",
        "  df_star[f'{i}PSFFlux_err'] = (df_star[f'{i}PSFMagErr']*df_star[f'{i}PSFFlux'])/1.082        # mJy"
      ],
      "metadata": {
        "id": "RpCLuPVA_E1_"
      },
      "execution_count": 37,
      "outputs": []
    },
    {
      "cell_type": "code",
      "source": [
        "df_star['NUVFlux']     = 3631*pow(10,-df_star['NUV']/2.5)*1000             # mJy\n",
        "df_star['NUVFlux_err'] = (df_star['NUV_err']*df_star['NUVFlux'])/1.082        # mJy\n",
        "\n",
        "df_star['FUVFlux']     = 3631*pow(10,-df_star['FUV']/2.5)*1000             # mJy\n",
        "df_star['FUVFlux_err'] = (df_star['FUV_err']*df_star['FUVFlux'])/1.082        # mJy"
      ],
      "metadata": {
        "id": "s88S57Q5rNZ7"
      },
      "execution_count": 38,
      "outputs": []
    },
    {
      "cell_type": "code",
      "source": [
        "df_star['objid'] = [str(i) for i in df_star['objid']]"
      ],
      "metadata": {
        "id": "gCBdXqmmxvBH"
      },
      "execution_count": 39,
      "outputs": []
    },
    {
      "cell_type": "code",
      "source": [
        "df_star"
      ],
      "metadata": {
        "id": "cF8JKgigsLYQ",
        "outputId": "b7af1077-fbca-4984-ccf1-1f10c47e945d",
        "colab": {
          "base_uri": "https://localhost:8080/",
          "height": 154
        }
      },
      "execution_count": 40,
      "outputs": [
        {
          "output_type": "execute_result",
          "data": {
            "text/plain": [
              "   RAJ2000  DEJ2000     FUV  FUV_err     NUV  NUV_err  gPSFMag  gPSFMagErr  \\\n",
              "0  10.8947  41.3926  21.499   19.098  20.857    0.188  20.7313     0.02506   \n",
              "\n",
              "   rPSFMag  rPSFMagErr  ...  iPSFFlux  iPSFFlux_err  zPSFFlux  zPSFFlux_err  \\\n",
              "0  20.9541    0.033309  ...  0.007752      0.000566  0.010246      0.001246   \n",
              "\n",
              "   yPSFFlux  yPSFFlux_err  NUVFlux NUVFlux_err   FUVFlux  FUVFlux_err  \n",
              "0  0.005421      0.002719  0.01649    0.002865  0.009129     0.161134  \n",
              "\n",
              "[1 rows x 32 columns]"
            ],
            "text/html": [
              "\n",
              "  <div id=\"df-b5da2f40-0a7e-49a2-9f68-ced3a0a08a15\">\n",
              "    <div class=\"colab-df-container\">\n",
              "      <div>\n",
              "<style scoped>\n",
              "    .dataframe tbody tr th:only-of-type {\n",
              "        vertical-align: middle;\n",
              "    }\n",
              "\n",
              "    .dataframe tbody tr th {\n",
              "        vertical-align: top;\n",
              "    }\n",
              "\n",
              "    .dataframe thead th {\n",
              "        text-align: right;\n",
              "    }\n",
              "</style>\n",
              "<table border=\"1\" class=\"dataframe\">\n",
              "  <thead>\n",
              "    <tr style=\"text-align: right;\">\n",
              "      <th></th>\n",
              "      <th>RAJ2000</th>\n",
              "      <th>DEJ2000</th>\n",
              "      <th>FUV</th>\n",
              "      <th>FUV_err</th>\n",
              "      <th>NUV</th>\n",
              "      <th>NUV_err</th>\n",
              "      <th>gPSFMag</th>\n",
              "      <th>gPSFMagErr</th>\n",
              "      <th>rPSFMag</th>\n",
              "      <th>rPSFMagErr</th>\n",
              "      <th>...</th>\n",
              "      <th>iPSFFlux</th>\n",
              "      <th>iPSFFlux_err</th>\n",
              "      <th>zPSFFlux</th>\n",
              "      <th>zPSFFlux_err</th>\n",
              "      <th>yPSFFlux</th>\n",
              "      <th>yPSFFlux_err</th>\n",
              "      <th>NUVFlux</th>\n",
              "      <th>NUVFlux_err</th>\n",
              "      <th>FUVFlux</th>\n",
              "      <th>FUVFlux_err</th>\n",
              "    </tr>\n",
              "  </thead>\n",
              "  <tbody>\n",
              "    <tr>\n",
              "      <th>0</th>\n",
              "      <td>10.8947</td>\n",
              "      <td>41.3926</td>\n",
              "      <td>21.499</td>\n",
              "      <td>19.098</td>\n",
              "      <td>20.857</td>\n",
              "      <td>0.188</td>\n",
              "      <td>20.7313</td>\n",
              "      <td>0.02506</td>\n",
              "      <td>20.9541</td>\n",
              "      <td>0.033309</td>\n",
              "      <td>...</td>\n",
              "      <td>0.007752</td>\n",
              "      <td>0.000566</td>\n",
              "      <td>0.010246</td>\n",
              "      <td>0.001246</td>\n",
              "      <td>0.005421</td>\n",
              "      <td>0.002719</td>\n",
              "      <td>0.01649</td>\n",
              "      <td>0.002865</td>\n",
              "      <td>0.009129</td>\n",
              "      <td>0.161134</td>\n",
              "    </tr>\n",
              "  </tbody>\n",
              "</table>\n",
              "<p>1 rows × 32 columns</p>\n",
              "</div>\n",
              "      <button class=\"colab-df-convert\" onclick=\"convertToInteractive('df-b5da2f40-0a7e-49a2-9f68-ced3a0a08a15')\"\n",
              "              title=\"Convert this dataframe to an interactive table.\"\n",
              "              style=\"display:none;\">\n",
              "        \n",
              "  <svg xmlns=\"http://www.w3.org/2000/svg\" height=\"24px\"viewBox=\"0 0 24 24\"\n",
              "       width=\"24px\">\n",
              "    <path d=\"M0 0h24v24H0V0z\" fill=\"none\"/>\n",
              "    <path d=\"M18.56 5.44l.94 2.06.94-2.06 2.06-.94-2.06-.94-.94-2.06-.94 2.06-2.06.94zm-11 1L8.5 8.5l.94-2.06 2.06-.94-2.06-.94L8.5 2.5l-.94 2.06-2.06.94zm10 10l.94 2.06.94-2.06 2.06-.94-2.06-.94-.94-2.06-.94 2.06-2.06.94z\"/><path d=\"M17.41 7.96l-1.37-1.37c-.4-.4-.92-.59-1.43-.59-.52 0-1.04.2-1.43.59L10.3 9.45l-7.72 7.72c-.78.78-.78 2.05 0 2.83L4 21.41c.39.39.9.59 1.41.59.51 0 1.02-.2 1.41-.59l7.78-7.78 2.81-2.81c.8-.78.8-2.07 0-2.86zM5.41 20L4 18.59l7.72-7.72 1.47 1.35L5.41 20z\"/>\n",
              "  </svg>\n",
              "      </button>\n",
              "      \n",
              "  <style>\n",
              "    .colab-df-container {\n",
              "      display:flex;\n",
              "      flex-wrap:wrap;\n",
              "      gap: 12px;\n",
              "    }\n",
              "\n",
              "    .colab-df-convert {\n",
              "      background-color: #E8F0FE;\n",
              "      border: none;\n",
              "      border-radius: 50%;\n",
              "      cursor: pointer;\n",
              "      display: none;\n",
              "      fill: #1967D2;\n",
              "      height: 32px;\n",
              "      padding: 0 0 0 0;\n",
              "      width: 32px;\n",
              "    }\n",
              "\n",
              "    .colab-df-convert:hover {\n",
              "      background-color: #E2EBFA;\n",
              "      box-shadow: 0px 1px 2px rgba(60, 64, 67, 0.3), 0px 1px 3px 1px rgba(60, 64, 67, 0.15);\n",
              "      fill: #174EA6;\n",
              "    }\n",
              "\n",
              "    [theme=dark] .colab-df-convert {\n",
              "      background-color: #3B4455;\n",
              "      fill: #D2E3FC;\n",
              "    }\n",
              "\n",
              "    [theme=dark] .colab-df-convert:hover {\n",
              "      background-color: #434B5C;\n",
              "      box-shadow: 0px 1px 3px 1px rgba(0, 0, 0, 0.15);\n",
              "      filter: drop-shadow(0px 1px 2px rgba(0, 0, 0, 0.3));\n",
              "      fill: #FFFFFF;\n",
              "    }\n",
              "  </style>\n",
              "\n",
              "      <script>\n",
              "        const buttonEl =\n",
              "          document.querySelector('#df-b5da2f40-0a7e-49a2-9f68-ced3a0a08a15 button.colab-df-convert');\n",
              "        buttonEl.style.display =\n",
              "          google.colab.kernel.accessAllowed ? 'block' : 'none';\n",
              "\n",
              "        async function convertToInteractive(key) {\n",
              "          const element = document.querySelector('#df-b5da2f40-0a7e-49a2-9f68-ced3a0a08a15');\n",
              "          const dataTable =\n",
              "            await google.colab.kernel.invokeFunction('convertToInteractive',\n",
              "                                                     [key], {});\n",
              "          if (!dataTable) return;\n",
              "\n",
              "          const docLinkHtml = 'Like what you see? Visit the ' +\n",
              "            '<a target=\"_blank\" href=https://colab.research.google.com/notebooks/data_table.ipynb>data table notebook</a>'\n",
              "            + ' to learn more about interactive tables.';\n",
              "          element.innerHTML = '';\n",
              "          dataTable['output_type'] = 'display_data';\n",
              "          await google.colab.output.renderOutput(dataTable, element);\n",
              "          const docLink = document.createElement('div');\n",
              "          docLink.innerHTML = docLinkHtml;\n",
              "          element.appendChild(docLink);\n",
              "        }\n",
              "      </script>\n",
              "    </div>\n",
              "  </div>\n",
              "  "
            ]
          },
          "metadata": {},
          "execution_count": 40
        }
      ]
    },
    {
      "cell_type": "markdown",
      "metadata": {
        "id": "lpFsL5gWGx8c"
      },
      "source": [
        "# **Synthetic Spectra**"
      ]
    },
    {
      "cell_type": "markdown",
      "source": [
        "## **Synphot**"
      ],
      "metadata": {
        "id": "VO9eIGcb5iI8"
      }
    },
    {
      "cell_type": "markdown",
      "source": [
        "#### **Model**"
      ],
      "metadata": {
        "id": "fMy9NiNeW4MO"
      }
    },
    {
      "cell_type": "code",
      "source": [
        "os.environ['PYSYN_CDBS'] = '/content/INSIST/data'"
      ],
      "metadata": {
        "id": "K9BIPTrcc0Nm"
      },
      "execution_count": null,
      "outputs": []
    },
    {
      "cell_type": "code",
      "source": [
        "!mkdir '/content/INSIST/data/grid'"
      ],
      "metadata": {
        "id": "wLjl70QefnJG",
        "colab": {
          "base_uri": "https://localhost:8080/"
        },
        "outputId": "36747b62-7529-4150-ab18-a603042f8ed6"
      },
      "execution_count": null,
      "outputs": [
        {
          "output_type": "stream",
          "name": "stdout",
          "text": [
            "mkdir: cannot create directory ‘/content/INSIST/data/grid’: File exists\n"
          ]
        }
      ]
    },
    {
      "cell_type": "code",
      "source": [
        "cd '/content/INSIST/data/grid/'"
      ],
      "metadata": {
        "colab": {
          "base_uri": "https://localhost:8080/"
        },
        "id": "bncHX3Y5f5lC",
        "outputId": "d14a1bd6-c2c2-4105-8e95-4ecbda6f0dda"
      },
      "execution_count": null,
      "outputs": [
        {
          "output_type": "stream",
          "name": "stdout",
          "text": [
            "/content/INSIST/data/grid\n"
          ]
        }
      ]
    },
    {
      "cell_type": "code",
      "source": [
        "!wget http://ssb.stsci.edu/trds/tarfiles/synphot3.tar.gz"
      ],
      "metadata": {
        "id": "hHxY0iEAc9hs",
        "colab": {
          "base_uri": "https://localhost:8080/"
        },
        "outputId": "da64c064-08fb-4d88-94a8-c3bf359ee2e3"
      },
      "execution_count": null,
      "outputs": [
        {
          "output_type": "stream",
          "name": "stdout",
          "text": [
            "--2022-06-10 11:22:54--  http://ssb.stsci.edu/trds/tarfiles/synphot3.tar.gz\n",
            "Resolving ssb.stsci.edu (ssb.stsci.edu)... 130.167.165.20\n",
            "Connecting to ssb.stsci.edu (ssb.stsci.edu)|130.167.165.20|:80... connected.\n",
            "HTTP request sent, awaiting response... 301 Moved Permanently\n",
            "Location: https://ssb.stsci.edu/trds/tarfiles/synphot3.tar.gz [following]\n",
            "--2022-06-10 11:22:54--  https://ssb.stsci.edu/trds/tarfiles/synphot3.tar.gz\n",
            "Connecting to ssb.stsci.edu (ssb.stsci.edu)|130.167.165.20|:443... connected.\n",
            "HTTP request sent, awaiting response... 200 OK\n",
            "Length: 18076806 (17M) [application/octet-stream]\n",
            "Saving to: ‘synphot3.tar.gz.1’\n",
            "\n",
            "synphot3.tar.gz.1   100%[===================>]  17.24M  31.0MB/s    in 0.6s    \n",
            "\n",
            "2022-06-10 11:22:55 (31.0 MB/s) - ‘synphot3.tar.gz.1’ saved [18076806/18076806]\n",
            "\n"
          ]
        }
      ]
    },
    {
      "cell_type": "code",
      "source": [
        "!tar -xf synphot3.tar.gz"
      ],
      "metadata": {
        "id": "bNirhvV6gewY"
      },
      "execution_count": null,
      "outputs": []
    },
    {
      "cell_type": "code",
      "source": [
        "!cp -a /content/INSIST/data/grid/grp/redcat/trds/grid/ck04models /content/INSIST/data/grid/"
      ],
      "metadata": {
        "id": "nl-U_R5QuN2B"
      },
      "execution_count": null,
      "outputs": []
    },
    {
      "cell_type": "code",
      "source": [
        "!rm -r grp"
      ],
      "metadata": {
        "id": "PhQ3RHRCu1Ht"
      },
      "execution_count": null,
      "outputs": []
    },
    {
      "cell_type": "code",
      "source": [
        "cat = Table.read('ck04models/catalog.fits')"
      ],
      "metadata": {
        "id": "-tpGmfGsvqXz"
      },
      "execution_count": null,
      "outputs": []
    },
    {
      "cell_type": "code",
      "source": [
        "filter_dict = {'PS1g'    : [4881.47, 'PAN-STARRS_PS1.g.dat' ],\n",
        "               'PS1r'    : [6198.41, 'PAN-STARRS_PS1.r.dat' ],\n",
        "               'PS1i'    : [7549.34, 'PAN-STARRS_PS1.i.dat' ],\n",
        "               'PS1z'    : [8701.37, 'PAN-STARRS_PS1.z.dat' ],\n",
        "               'PS1y'    : [9509.80,'PAN-STARRS_PS1.y.dat' ],\n",
        "               'UVIT_NUV': [2792.56,'Astrosat_UVIT.N279N.dat'],\n",
        "               'UVIT_FUV': [1506.00,'Astrosat_UVIT.F148Wa.dat']}"
      ],
      "metadata": {
        "id": "x9zySFKxxKML"
      },
      "execution_count": null,
      "outputs": []
    },
    {
      "cell_type": "code",
      "source": [
        ""
      ],
      "metadata": {
        "id": "3KmEBRSA0LLj"
      },
      "execution_count": null,
      "outputs": []
    },
    {
      "cell_type": "markdown",
      "source": [
        "#### **Convolving Filters**"
      ],
      "metadata": {
        "id": "sl1exXGsW_e4"
      }
    },
    {
      "cell_type": "code",
      "source": [
        "df = cat[['INDEX']][:10]\n",
        "conv_fluxes = []\n",
        "for f in cat['FILENAME'][:10]:\n",
        "  wav = Table.read(f'ck04models/ckm05/ckm05_10000.fits')['WAVELENGTH'].value\n",
        "  l = f.split('[')\n",
        "  name        = l[0]\n",
        "  col         = l[1][:3]\n",
        "  tab         = Table.read(f'ck04models/{name}')\n",
        "  flux        = tab[col].value # \n",
        "  model_func  = interp1d(wav,flux)\n",
        "  fluxes      = []\n",
        "  for filter in filter_dict:\n",
        "    file_name = filter_dict[filter][1]\n",
        "    filt_dat  = np.loadtxt(f'/content/INSIST/data/{file_name}')\n",
        "\n",
        "    x         = filt_dat[:,0]\n",
        "    y         = filt_dat[:,1]\n",
        "    \n",
        "    indices  = np.where( (wav>x[0]) & (wav<x[-1]))\n",
        "    wav_new  = wav[indices]\n",
        "    flux_new = flux[indices]\n",
        "\n",
        "    x_new = [wav[0]] + [x[0]-1] + list(x) + [x[-1]+1] + [wav[-1]]\n",
        "    y_new = [0]      + [0]      + list(y) +     [0]   + [0]\n",
        "    \n",
        "    filt_func = interp1d(x_new,y_new)\n",
        "\n",
        "    filt_flux = model_func(wav)*filt_func(wav)\n",
        "\n",
        "    const     = integrate.simps(filt_flux*wav,wav)/integrate.simps(filt_func(wav)*wav, wav)\n",
        "\n",
        "    filt_flux = interp1d(wav, filt_flux)    # erg/(s.cm2.A)\n",
        "\n",
        "    lambd = filter_dict[filter][0]                            \n",
        " \n",
        "    filt_flux_Jy =  (const*(lambd)**2*3.34e7)\n",
        "\n",
        "    fluxes.append(filt_flux_Jy)\n",
        "  conv_fluxes.append(fluxes)\n",
        "\n",
        "conv_fluxes = np.array(conv_fluxes)"
      ],
      "metadata": {
        "id": "U4Hbx9ERv141"
      },
      "execution_count": null,
      "outputs": []
    },
    {
      "cell_type": "code",
      "source": [
        "plt.plot(wav, filt_func(wav)*1e8)\n",
        "plt.plot(wav, model_func(wav))\n",
        "plt.plot(wav, filt_flux(wav))\n",
        "plt.xscale('log')\n",
        "plt.xlim(1e3,1e4)\n",
        "plt.legend(['Filter','Model','Convolved'])\n",
        "plt.xlabel(r'$\\lambda$ ($\\AA$)')\n",
        "plt.ylabel('Flux | Response')"
      ],
      "metadata": {
        "colab": {
          "base_uri": "https://localhost:8080/",
          "height": 658
        },
        "id": "Q6MB2WeVvO4-",
        "outputId": "f625c59e-3c58-4972-b492-daa57cb2f70a"
      },
      "execution_count": null,
      "outputs": [
        {
          "output_type": "execute_result",
          "data": {
            "text/plain": [
              "Text(0, 0.5, 'Flux | Response')"
            ]
          },
          "metadata": {},
          "execution_count": 80
        },
        {
          "output_type": "display_data",
          "data": {
            "text/plain": [
              "<Figure size 1080x720 with 1 Axes>"
            ],
            "image/png": "[encoded data removed]"
          },
          "metadata": {}
        }
      ]
    },
    {
      "cell_type": "code",
      "source": [
        "for i, filter in enumerate(filter_dict):\n",
        "  df[filter] = conv_fluxes[:,i]"
      ],
      "metadata": {
        "id": "2urAqzyHYVwg"
      },
      "execution_count": null,
      "outputs": []
    },
    {
      "cell_type": "code",
      "source": [
        "df.write('PanSTARRS_UVIT_conv.fits', overwrite = True)"
      ],
      "metadata": {
        "id": "DCrtBhA_GwdF"
      },
      "execution_count": null,
      "outputs": []
    },
    {
      "cell_type": "code",
      "source": [
        "tab = Table.read('PanSTARRS_UVIT_conv.fits')"
      ],
      "metadata": {
        "id": "UAIfoNZGWqG7"
      },
      "execution_count": 11,
      "outputs": []
    },
    {
      "cell_type": "code",
      "source": [
        "model_df = tab.to_pandas()"
      ],
      "metadata": {
        "id": "19z_6fNPWwAg"
      },
      "execution_count": 12,
      "outputs": []
    },
    {
      "cell_type": "code",
      "source": [
        "model_df"
      ],
      "metadata": {
        "colab": {
          "base_uri": "https://localhost:8080/",
          "height": 574
        },
        "id": "JPoNpDguXlGy",
        "outputId": "ba530360-05c3-42dc-94ad-65b0c3f326b0"
      },
      "execution_count": 13,
      "outputs": [
        {
          "output_type": "execute_result",
          "data": {
            "text/plain": [
              "                        INDEX        T  Met  logg      PS1gflux    PS1gmag  \\\n",
              "0     b'10000,-0.5,0.0      '  10000.0 -0.5   0.0  0.000000e+00        inf   \n",
              "1     b'10000,-0.5,0.5      '  10000.0 -0.5   0.5  0.000000e+00        inf   \n",
              "2     b'10000,-0.5,1.0      '  10000.0 -0.5   1.0  0.000000e+00        inf   \n",
              "3     b'10000,-0.5,1.5      '  10000.0 -0.5   1.5  0.000000e+00        inf   \n",
              "4     b'10000,-0.5,2.0      '  10000.0 -0.5   2.0  6.930797e+22 -40.701892   \n",
              "...                       ...      ...  ...   ...           ...        ...   \n",
              "6683  b'9750,0.5,3.0        '   9750.0  0.5   3.0  7.168703e+22 -40.738536   \n",
              "6684  b'9750,0.5,3.5        '   9750.0  0.5   3.5  7.152636e+22 -40.736100   \n",
              "6685  b'9750,0.5,4.0        '   9750.0  0.5   4.0  7.111748e+22 -40.729875   \n",
              "6686  b'9750,0.5,4.5        '   9750.0  0.5   4.5  7.051201e+22 -40.720592   \n",
              "6687  b'9750,0.5,5.0        '   9750.0  0.5   5.0  6.967739e+22 -40.707664   \n",
              "\n",
              "          PS1rflux    PS1rmag      PS1iflux    PS1imag  ...     PS1i_flux  \\\n",
              "0     0.000000e+00        inf  0.000000e+00        inf  ...  0.000000e+00   \n",
              "1     0.000000e+00        inf  0.000000e+00        inf  ...  0.000000e+00   \n",
              "2     0.000000e+00        inf  0.000000e+00        inf  ...  0.000000e+00   \n",
              "3     0.000000e+00        inf  0.000000e+00        inf  ...  0.000000e+00   \n",
              "4     5.508034e+22 -40.452426  4.467290e+22 -40.225045  ...  4.467290e+22   \n",
              "...            ...        ...           ...        ...  ...           ...   \n",
              "6683  5.567871e+22 -40.464157  4.446867e+22 -40.220070  ...  4.446867e+22   \n",
              "6684  5.572779e+22 -40.465114  4.460427e+22 -40.223375  ...  4.460427e+22   \n",
              "6685  5.590702e+22 -40.468600  4.493287e+22 -40.231345  ...  4.493287e+22   \n",
              "6686  5.617236e+22 -40.473741  4.538991e+22 -40.242333  ...  4.538991e+22   \n",
              "6687  5.645007e+22 -40.479096  4.591366e+22 -40.254789  ...  4.591366e+22   \n",
              "\n",
              "       PS1i_mag     PS1z_flux   PS1z_mag     PS1y_flux   PS1y_mag  \\\n",
              "0           inf  0.000000e+00        inf  0.000000e+00        inf   \n",
              "1           inf  0.000000e+00        inf  0.000000e+00        inf   \n",
              "2           inf  0.000000e+00        inf  0.000000e+00        inf   \n",
              "3           inf  0.000000e+00        inf  0.000000e+00        inf   \n",
              "4    -40.225045  4.035269e+22 -40.114616  3.658205e+22 -40.008105   \n",
              "...         ...           ...        ...           ...        ...   \n",
              "6683 -40.220070  3.952551e+22 -40.092128  3.663655e+22 -40.009721   \n",
              "6684 -40.223375  3.914202e+22 -40.081542  3.645267e+22 -40.004258   \n",
              "6685 -40.231345  3.891096e+22 -40.075114  3.625295e+22 -39.998293   \n",
              "6686 -40.242333  3.884165e+22 -40.073179  3.602792e+22 -39.991532   \n",
              "6687 -40.254789  3.892084e+22 -40.075390  3.576140e+22 -39.983471   \n",
              "\n",
              "      UVIT_NUV_flux  UVIT_NUV_mag  UVIT_FUV_flux  UVIT_FUV_mag  \n",
              "0      0.000000e+00           inf   0.000000e+00           inf  \n",
              "1      0.000000e+00           inf   0.000000e+00           inf  \n",
              "2      0.000000e+00           inf   0.000000e+00           inf  \n",
              "3      0.000000e+00           inf   0.000000e+00           inf  \n",
              "4      1.956947e+22    -39.328882   8.701942e+21    -38.448975  \n",
              "...             ...           ...            ...           ...  \n",
              "6683   1.455237e+22    -39.007269   5.022816e+21    -37.852303  \n",
              "6684   1.504988e+22    -39.043767   4.969031e+21    -37.840614  \n",
              "6685   1.572713e+22    -39.091558   4.733782e+21    -37.787955  \n",
              "6686   1.651050e+22    -39.144335   4.328091e+21    -37.690675  \n",
              "6687   1.734836e+22    -39.198081   3.792729e+21    -37.547314  \n",
              "\n",
              "[6688 rows x 32 columns]"
            ],
            "text/html": [
              "\n",
              "  <div id=\"df-22fd812d-df23-4f63-a314-d61e24fb86d1\">\n",
              "    <div class=\"colab-df-container\">\n",
              "      <div>\n",
              "<style scoped>\n",
              "    .dataframe tbody tr th:only-of-type {\n",
              "        vertical-align: middle;\n",
              "    }\n",
              "\n",
              "    .dataframe tbody tr th {\n",
              "        vertical-align: top;\n",
              "    }\n",
              "\n",
              "    .dataframe thead th {\n",
              "        text-align: right;\n",
              "    }\n",
              "</style>\n",
              "<table border=\"1\" class=\"dataframe\">\n",
              "  <thead>\n",
              "    <tr style=\"text-align: right;\">\n",
              "      <th></th>\n",
              "      <th>INDEX</th>\n",
              "      <th>T</th>\n",
              "      <th>Met</th>\n",
              "      <th>logg</th>\n",
              "      <th>PS1gflux</th>\n",
              "      <th>PS1gmag</th>\n",
              "      <th>PS1rflux</th>\n",
              "      <th>PS1rmag</th>\n",
              "      <th>PS1iflux</th>\n",
              "      <th>PS1imag</th>\n",
              "      <th>...</th>\n",
              "      <th>PS1i_flux</th>\n",
              "      <th>PS1i_mag</th>\n",
              "      <th>PS1z_flux</th>\n",
              "      <th>PS1z_mag</th>\n",
              "      <th>PS1y_flux</th>\n",
              "      <th>PS1y_mag</th>\n",
              "      <th>UVIT_NUV_flux</th>\n",
              "      <th>UVIT_NUV_mag</th>\n",
              "      <th>UVIT_FUV_flux</th>\n",
              "      <th>UVIT_FUV_mag</th>\n",
              "    </tr>\n",
              "  </thead>\n",
              "  <tbody>\n",
              "    <tr>\n",
              "      <th>0</th>\n",
              "      <td>b'10000,-0.5,0.0      '</td>\n",
              "      <td>10000.0</td>\n",
              "      <td>-0.5</td>\n",
              "      <td>0.0</td>\n",
              "      <td>0.000000e+00</td>\n",
              "      <td>inf</td>\n",
              "      <td>0.000000e+00</td>\n",
              "      <td>inf</td>\n",
              "      <td>0.000000e+00</td>\n",
              "      <td>inf</td>\n",
              "      <td>...</td>\n",
              "      <td>0.000000e+00</td>\n",
              "      <td>inf</td>\n",
              "      <td>0.000000e+00</td>\n",
              "      <td>inf</td>\n",
              "      <td>0.000000e+00</td>\n",
              "      <td>inf</td>\n",
              "      <td>0.000000e+00</td>\n",
              "      <td>inf</td>\n",
              "      <td>0.000000e+00</td>\n",
              "      <td>inf</td>\n",
              "    </tr>\n",
              "    <tr>\n",
              "      <th>1</th>\n",
              "      <td>b'10000,-0.5,0.5      '</td>\n",
              "      <td>10000.0</td>\n",
              "      <td>-0.5</td>\n",
              "      <td>0.5</td>\n",
              "      <td>0.000000e+00</td>\n",
              "      <td>inf</td>\n",
              "      <td>0.000000e+00</td>\n",
              "      <td>inf</td>\n",
              "      <td>0.000000e+00</td>\n",
              "      <td>inf</td>\n",
              "      <td>...</td>\n",
              "      <td>0.000000e+00</td>\n",
              "      <td>inf</td>\n",
              "      <td>0.000000e+00</td>\n",
              "      <td>inf</td>\n",
              "      <td>0.000000e+00</td>\n",
              "      <td>inf</td>\n",
              "      <td>0.000000e+00</td>\n",
              "      <td>inf</td>\n",
              "      <td>0.000000e+00</td>\n",
              "      <td>inf</td>\n",
              "    </tr>\n",
              "    <tr>\n",
              "      <th>2</th>\n",
              "      <td>b'10000,-0.5,1.0      '</td>\n",
              "      <td>10000.0</td>\n",
              "      <td>-0.5</td>\n",
              "      <td>1.0</td>\n",
              "      <td>0.000000e+00</td>\n",
              "      <td>inf</td>\n",
              "      <td>0.000000e+00</td>\n",
              "      <td>inf</td>\n",
              "      <td>0.000000e+00</td>\n",
              "      <td>inf</td>\n",
              "      <td>...</td>\n",
              "      <td>0.000000e+00</td>\n",
              "      <td>inf</td>\n",
              "      <td>0.000000e+00</td>\n",
              "      <td>inf</td>\n",
              "      <td>0.000000e+00</td>\n",
              "      <td>inf</td>\n",
              "      <td>0.000000e+00</td>\n",
              "      <td>inf</td>\n",
              "      <td>0.000000e+00</td>\n",
              "      <td>inf</td>\n",
              "    </tr>\n",
              "    <tr>\n",
              "      <th>3</th>\n",
              "      <td>b'10000,-0.5,1.5      '</td>\n",
              "      <td>10000.0</td>\n",
              "      <td>-0.5</td>\n",
              "      <td>1.5</td>\n",
              "      <td>0.000000e+00</td>\n",
              "      <td>inf</td>\n",
              "      <td>0.000000e+00</td>\n",
              "      <td>inf</td>\n",
              "      <td>0.000000e+00</td>\n",
              "      <td>inf</td>\n",
              "      <td>...</td>\n",
              "      <td>0.000000e+00</td>\n",
              "      <td>inf</td>\n",
              "      <td>0.000000e+00</td>\n",
              "      <td>inf</td>\n",
              "      <td>0.000000e+00</td>\n",
              "      <td>inf</td>\n",
              "      <td>0.000000e+00</td>\n",
              "      <td>inf</td>\n",
              "      <td>0.000000e+00</td>\n",
              "      <td>inf</td>\n",
              "    </tr>\n",
              "    <tr>\n",
              "      <th>4</th>\n",
              "      <td>b'10000,-0.5,2.0      '</td>\n",
              "      <td>10000.0</td>\n",
              "      <td>-0.5</td>\n",
              "      <td>2.0</td>\n",
              "      <td>6.930797e+22</td>\n",
              "      <td>-40.701892</td>\n",
              "      <td>5.508034e+22</td>\n",
              "      <td>-40.452426</td>\n",
              "      <td>4.467290e+22</td>\n",
              "      <td>-40.225045</td>\n",
              "      <td>...</td>\n",
              "      <td>4.467290e+22</td>\n",
              "      <td>-40.225045</td>\n",
              "      <td>4.035269e+22</td>\n",
              "      <td>-40.114616</td>\n",
              "      <td>3.658205e+22</td>\n",
              "      <td>-40.008105</td>\n",
              "      <td>1.956947e+22</td>\n",
              "      <td>-39.328882</td>\n",
              "      <td>8.701942e+21</td>\n",
              "      <td>-38.448975</td>\n",
              "    </tr>\n",
              "    <tr>\n",
              "      <th>...</th>\n",
              "      <td>...</td>\n",
              "      <td>...</td>\n",
              "      <td>...</td>\n",
              "      <td>...</td>\n",
              "      <td>...</td>\n",
              "      <td>...</td>\n",
              "      <td>...</td>\n",
              "      <td>...</td>\n",
              "      <td>...</td>\n",
              "      <td>...</td>\n",
              "      <td>...</td>\n",
              "      <td>...</td>\n",
              "      <td>...</td>\n",
              "      <td>...</td>\n",
              "      <td>...</td>\n",
              "      <td>...</td>\n",
              "      <td>...</td>\n",
              "      <td>...</td>\n",
              "      <td>...</td>\n",
              "      <td>...</td>\n",
              "      <td>...</td>\n",
              "    </tr>\n",
              "    <tr>\n",
              "      <th>6683</th>\n",
              "      <td>b'9750,0.5,3.0        '</td>\n",
              "      <td>9750.0</td>\n",
              "      <td>0.5</td>\n",
              "      <td>3.0</td>\n",
              "      <td>7.168703e+22</td>\n",
              "      <td>-40.738536</td>\n",
              "      <td>5.567871e+22</td>\n",
              "      <td>-40.464157</td>\n",
              "      <td>4.446867e+22</td>\n",
              "      <td>-40.220070</td>\n",
              "      <td>...</td>\n",
              "      <td>4.446867e+22</td>\n",
              "      <td>-40.220070</td>\n",
              "      <td>3.952551e+22</td>\n",
              "      <td>-40.092128</td>\n",
              "      <td>3.663655e+22</td>\n",
              "      <td>-40.009721</td>\n",
              "      <td>1.455237e+22</td>\n",
              "      <td>-39.007269</td>\n",
              "      <td>5.022816e+21</td>\n",
              "      <td>-37.852303</td>\n",
              "    </tr>\n",
              "    <tr>\n",
              "      <th>6684</th>\n",
              "      <td>b'9750,0.5,3.5        '</td>\n",
              "      <td>9750.0</td>\n",
              "      <td>0.5</td>\n",
              "      <td>3.5</td>\n",
              "      <td>7.152636e+22</td>\n",
              "      <td>-40.736100</td>\n",
              "      <td>5.572779e+22</td>\n",
              "      <td>-40.465114</td>\n",
              "      <td>4.460427e+22</td>\n",
              "      <td>-40.223375</td>\n",
              "      <td>...</td>\n",
              "      <td>4.460427e+22</td>\n",
              "      <td>-40.223375</td>\n",
              "      <td>3.914202e+22</td>\n",
              "      <td>-40.081542</td>\n",
              "      <td>3.645267e+22</td>\n",
              "      <td>-40.004258</td>\n",
              "      <td>1.504988e+22</td>\n",
              "      <td>-39.043767</td>\n",
              "      <td>4.969031e+21</td>\n",
              "      <td>-37.840614</td>\n",
              "    </tr>\n",
              "    <tr>\n",
              "      <th>6685</th>\n",
              "      <td>b'9750,0.5,4.0        '</td>\n",
              "      <td>9750.0</td>\n",
              "      <td>0.5</td>\n",
              "      <td>4.0</td>\n",
              "      <td>7.111748e+22</td>\n",
              "      <td>-40.729875</td>\n",
              "      <td>5.590702e+22</td>\n",
              "      <td>-40.468600</td>\n",
              "      <td>4.493287e+22</td>\n",
              "      <td>-40.231345</td>\n",
              "      <td>...</td>\n",
              "      <td>4.493287e+22</td>\n",
              "      <td>-40.231345</td>\n",
              "      <td>3.891096e+22</td>\n",
              "      <td>-40.075114</td>\n",
              "      <td>3.625295e+22</td>\n",
              "      <td>-39.998293</td>\n",
              "      <td>1.572713e+22</td>\n",
              "      <td>-39.091558</td>\n",
              "      <td>4.733782e+21</td>\n",
              "      <td>-37.787955</td>\n",
              "    </tr>\n",
              "    <tr>\n",
              "      <th>6686</th>\n",
              "      <td>b'9750,0.5,4.5        '</td>\n",
              "      <td>9750.0</td>\n",
              "      <td>0.5</td>\n",
              "      <td>4.5</td>\n",
              "      <td>7.051201e+22</td>\n",
              "      <td>-40.720592</td>\n",
              "      <td>5.617236e+22</td>\n",
              "      <td>-40.473741</td>\n",
              "      <td>4.538991e+22</td>\n",
              "      <td>-40.242333</td>\n",
              "      <td>...</td>\n",
              "      <td>4.538991e+22</td>\n",
              "      <td>-40.242333</td>\n",
              "      <td>3.884165e+22</td>\n",
              "      <td>-40.073179</td>\n",
              "      <td>3.602792e+22</td>\n",
              "      <td>-39.991532</td>\n",
              "      <td>1.651050e+22</td>\n",
              "      <td>-39.144335</td>\n",
              "      <td>4.328091e+21</td>\n",
              "      <td>-37.690675</td>\n",
              "    </tr>\n",
              "    <tr>\n",
              "      <th>6687</th>\n",
              "      <td>b'9750,0.5,5.0        '</td>\n",
              "      <td>9750.0</td>\n",
              "      <td>0.5</td>\n",
              "      <td>5.0</td>\n",
              "      <td>6.967739e+22</td>\n",
              "      <td>-40.707664</td>\n",
              "      <td>5.645007e+22</td>\n",
              "      <td>-40.479096</td>\n",
              "      <td>4.591366e+22</td>\n",
              "      <td>-40.254789</td>\n",
              "      <td>...</td>\n",
              "      <td>4.591366e+22</td>\n",
              "      <td>-40.254789</td>\n",
              "      <td>3.892084e+22</td>\n",
              "      <td>-40.075390</td>\n",
              "      <td>3.576140e+22</td>\n",
              "      <td>-39.983471</td>\n",
              "      <td>1.734836e+22</td>\n",
              "      <td>-39.198081</td>\n",
              "      <td>3.792729e+21</td>\n",
              "      <td>-37.547314</td>\n",
              "    </tr>\n",
              "  </tbody>\n",
              "</table>\n",
              "<p>6688 rows × 32 columns</p>\n",
              "</div>\n",
              "      <button class=\"colab-df-convert\" onclick=\"convertToInteractive('df-22fd812d-df23-4f63-a314-d61e24fb86d1')\"\n",
              "              title=\"Convert this dataframe to an interactive table.\"\n",
              "              style=\"display:none;\">\n",
              "        \n",
              "  <svg xmlns=\"http://www.w3.org/2000/svg\" height=\"24px\"viewBox=\"0 0 24 24\"\n",
              "       width=\"24px\">\n",
              "    <path d=\"M0 0h24v24H0V0z\" fill=\"none\"/>\n",
              "    <path d=\"M18.56 5.44l.94 2.06.94-2.06 2.06-.94-2.06-.94-.94-2.06-.94 2.06-2.06.94zm-11 1L8.5 8.5l.94-2.06 2.06-.94-2.06-.94L8.5 2.5l-.94 2.06-2.06.94zm10 10l.94 2.06.94-2.06 2.06-.94-2.06-.94-.94-2.06-.94 2.06-2.06.94z\"/><path d=\"M17.41 7.96l-1.37-1.37c-.4-.4-.92-.59-1.43-.59-.52 0-1.04.2-1.43.59L10.3 9.45l-7.72 7.72c-.78.78-.78 2.05 0 2.83L4 21.41c.39.39.9.59 1.41.59.51 0 1.02-.2 1.41-.59l7.78-7.78 2.81-2.81c.8-.78.8-2.07 0-2.86zM5.41 20L4 18.59l7.72-7.72 1.47 1.35L5.41 20z\"/>\n",
              "  </svg>\n",
              "      </button>\n",
              "      \n",
              "  <style>\n",
              "    .colab-df-container {\n",
              "      display:flex;\n",
              "      flex-wrap:wrap;\n",
              "      gap: 12px;\n",
              "    }\n",
              "\n",
              "    .colab-df-convert {\n",
              "      background-color: #E8F0FE;\n",
              "      border: none;\n",
              "      border-radius: 50%;\n",
              "      cursor: pointer;\n",
              "      display: none;\n",
              "      fill: #1967D2;\n",
              "      height: 32px;\n",
              "      padding: 0 0 0 0;\n",
              "      width: 32px;\n",
              "    }\n",
              "\n",
              "    .colab-df-convert:hover {\n",
              "      background-color: #E2EBFA;\n",
              "      box-shadow: 0px 1px 2px rgba(60, 64, 67, 0.3), 0px 1px 3px 1px rgba(60, 64, 67, 0.15);\n",
              "      fill: #174EA6;\n",
              "    }\n",
              "\n",
              "    [theme=dark] .colab-df-convert {\n",
              "      background-color: #3B4455;\n",
              "      fill: #D2E3FC;\n",
              "    }\n",
              "\n",
              "    [theme=dark] .colab-df-convert:hover {\n",
              "      background-color: #434B5C;\n",
              "      box-shadow: 0px 1px 3px 1px rgba(0, 0, 0, 0.15);\n",
              "      filter: drop-shadow(0px 1px 2px rgba(0, 0, 0, 0.3));\n",
              "      fill: #FFFFFF;\n",
              "    }\n",
              "  </style>\n",
              "\n",
              "      <script>\n",
              "        const buttonEl =\n",
              "          document.querySelector('#df-22fd812d-df23-4f63-a314-d61e24fb86d1 button.colab-df-convert');\n",
              "        buttonEl.style.display =\n",
              "          google.colab.kernel.accessAllowed ? 'block' : 'none';\n",
              "\n",
              "        async function convertToInteractive(key) {\n",
              "          const element = document.querySelector('#df-22fd812d-df23-4f63-a314-d61e24fb86d1');\n",
              "          const dataTable =\n",
              "            await google.colab.kernel.invokeFunction('convertToInteractive',\n",
              "                                                     [key], {});\n",
              "          if (!dataTable) return;\n",
              "\n",
              "          const docLinkHtml = 'Like what you see? Visit the ' +\n",
              "            '<a target=\"_blank\" href=https://colab.research.google.com/notebooks/data_table.ipynb>data table notebook</a>'\n",
              "            + ' to learn more about interactive tables.';\n",
              "          element.innerHTML = '';\n",
              "          dataTable['output_type'] = 'display_data';\n",
              "          await google.colab.output.renderOutput(dataTable, element);\n",
              "          const docLink = document.createElement('div');\n",
              "          docLink.innerHTML = docLinkHtml;\n",
              "          element.appendChild(docLink);\n",
              "        }\n",
              "      </script>\n",
              "    </div>\n",
              "  </div>\n",
              "  "
            ]
          },
          "metadata": {},
          "execution_count": 13
        }
      ]
    },
    {
      "cell_type": "markdown",
      "source": [
        "#### **$Chi^2$ Fitting**"
      ],
      "metadata": {
        "id": "frY_Emt3XGFx"
      }
    },
    {
      "cell_type": "code",
      "source": [
        "def chi2_func(Md,flux,model_flux,flux_err):\n",
        "  chi = (flux - pow(10,Md)*model_flux)/flux_err\n",
        "  return chi@chi"
      ],
      "metadata": {
        "id": "nMSkaefTXciW"
      },
      "execution_count": 41,
      "outputs": []
    },
    {
      "cell_type": "code",
      "source": [
        "chi_set = []\n",
        "for i,row_source in df_star.iterrows():\n",
        "\n",
        "  flux     = row_source[['gPSFFlux', 'rPSFFlux', 'iPSFFlux', 'zPSFFlux','yPSFFlux']].values\n",
        "  flux_err = row_source[['gPSFFlux_err', 'rPSFFlux_err', 'iPSFFlux_err', 'zPSFFlux_err', 'yPSFFlux_err']].values\n",
        "\n",
        "  for j, row_model in model_df.iterrows():\n",
        "\n",
        "    model_flux = row_model[['PS1gflux','PS1rflux','PS1iflux','PS1zflux','PS1yflux']].values\n",
        "\n",
        "    Md = minimize_scalar(chi2_func,args=(flux, model_flux, flux_err)).x\n",
        "    chi2       = chi2_func(Md,flux,model_flux,flux_err)\n",
        "    chi_set.append([row_source['objid'],row_model['T'],row_model['Met'],row_model['logg'],Md,chi2])"
      ],
      "metadata": {
        "id": "4N-B0JJjX3eG"
      },
      "execution_count": 42,
      "outputs": []
    },
    {
      "cell_type": "code",
      "source": [
        "df_chi = pd.DataFrame(chi_set, columns = ['objid','T','Met','logg','Md','chi2'])"
      ],
      "metadata": {
        "id": "tct4Ltbxa1ZR"
      },
      "execution_count": 43,
      "outputs": []
    },
    {
      "cell_type": "code",
      "source": [
        "df_chi_min = df_chi[0:0]\n",
        "for i in df_chi['objid'].unique():\n",
        "  df_temp = df_chi[ df_chi['objid'] == i]\n",
        "  df_chi_min = df_chi_min.append(df_temp[df_temp['chi2']==df_temp['chi2'].min()])"
      ],
      "metadata": {
        "id": "XQQ9euGIa1ZS"
      },
      "execution_count": 44,
      "outputs": []
    },
    {
      "cell_type": "code",
      "source": [
        "df_chi_min"
      ],
      "metadata": {
        "colab": {
          "base_uri": "https://localhost:8080/",
          "height": 81
        },
        "id": "ZzNYZK_ylvbE",
        "outputId": "0a5261c0-0f14-4697-8152-0d1cf088ffd2"
      },
      "execution_count": 45,
      "outputs": [
        {
          "output_type": "execute_result",
          "data": {
            "text/plain": [
              "                   objid        T  Met  logg        Md       chi2\n",
              "6044  157670108946911614  18000.0  0.5   2.5 -25.10903  33.221312"
            ],
            "text/html": [
              "\n",
              "  <div id=\"df-c52832b9-50d9-4a1d-bd8d-358b3a7d72b4\">\n",
              "    <div class=\"colab-df-container\">\n",
              "      <div>\n",
              "<style scoped>\n",
              "    .dataframe tbody tr th:only-of-type {\n",
              "        vertical-align: middle;\n",
              "    }\n",
              "\n",
              "    .dataframe tbody tr th {\n",
              "        vertical-align: top;\n",
              "    }\n",
              "\n",
              "    .dataframe thead th {\n",
              "        text-align: right;\n",
              "    }\n",
              "</style>\n",
              "<table border=\"1\" class=\"dataframe\">\n",
              "  <thead>\n",
              "    <tr style=\"text-align: right;\">\n",
              "      <th></th>\n",
              "      <th>objid</th>\n",
              "      <th>T</th>\n",
              "      <th>Met</th>\n",
              "      <th>logg</th>\n",
              "      <th>Md</th>\n",
              "      <th>chi2</th>\n",
              "    </tr>\n",
              "  </thead>\n",
              "  <tbody>\n",
              "    <tr>\n",
              "      <th>6044</th>\n",
              "      <td>157670108946911614</td>\n",
              "      <td>18000.0</td>\n",
              "      <td>0.5</td>\n",
              "      <td>2.5</td>\n",
              "      <td>-25.10903</td>\n",
              "      <td>33.221312</td>\n",
              "    </tr>\n",
              "  </tbody>\n",
              "</table>\n",
              "</div>\n",
              "      <button class=\"colab-df-convert\" onclick=\"convertToInteractive('df-c52832b9-50d9-4a1d-bd8d-358b3a7d72b4')\"\n",
              "              title=\"Convert this dataframe to an interactive table.\"\n",
              "              style=\"display:none;\">\n",
              "        \n",
              "  <svg xmlns=\"http://www.w3.org/2000/svg\" height=\"24px\"viewBox=\"0 0 24 24\"\n",
              "       width=\"24px\">\n",
              "    <path d=\"M0 0h24v24H0V0z\" fill=\"none\"/>\n",
              "    <path d=\"M18.56 5.44l.94 2.06.94-2.06 2.06-.94-2.06-.94-.94-2.06-.94 2.06-2.06.94zm-11 1L8.5 8.5l.94-2.06 2.06-.94-2.06-.94L8.5 2.5l-.94 2.06-2.06.94zm10 10l.94 2.06.94-2.06 2.06-.94-2.06-.94-.94-2.06-.94 2.06-2.06.94z\"/><path d=\"M17.41 7.96l-1.37-1.37c-.4-.4-.92-.59-1.43-.59-.52 0-1.04.2-1.43.59L10.3 9.45l-7.72 7.72c-.78.78-.78 2.05 0 2.83L4 21.41c.39.39.9.59 1.41.59.51 0 1.02-.2 1.41-.59l7.78-7.78 2.81-2.81c.8-.78.8-2.07 0-2.86zM5.41 20L4 18.59l7.72-7.72 1.47 1.35L5.41 20z\"/>\n",
              "  </svg>\n",
              "      </button>\n",
              "      \n",
              "  <style>\n",
              "    .colab-df-container {\n",
              "      display:flex;\n",
              "      flex-wrap:wrap;\n",
              "      gap: 12px;\n",
              "    }\n",
              "\n",
              "    .colab-df-convert {\n",
              "      background-color: #E8F0FE;\n",
              "      border: none;\n",
              "      border-radius: 50%;\n",
              "      cursor: pointer;\n",
              "      display: none;\n",
              "      fill: #1967D2;\n",
              "      height: 32px;\n",
              "      padding: 0 0 0 0;\n",
              "      width: 32px;\n",
              "    }\n",
              "\n",
              "    .colab-df-convert:hover {\n",
              "      background-color: #E2EBFA;\n",
              "      box-shadow: 0px 1px 2px rgba(60, 64, 67, 0.3), 0px 1px 3px 1px rgba(60, 64, 67, 0.15);\n",
              "      fill: #174EA6;\n",
              "    }\n",
              "\n",
              "    [theme=dark] .colab-df-convert {\n",
              "      background-color: #3B4455;\n",
              "      fill: #D2E3FC;\n",
              "    }\n",
              "\n",
              "    [theme=dark] .colab-df-convert:hover {\n",
              "      background-color: #434B5C;\n",
              "      box-shadow: 0px 1px 3px 1px rgba(0, 0, 0, 0.15);\n",
              "      filter: drop-shadow(0px 1px 2px rgba(0, 0, 0, 0.3));\n",
              "      fill: #FFFFFF;\n",
              "    }\n",
              "  </style>\n",
              "\n",
              "      <script>\n",
              "        const buttonEl =\n",
              "          document.querySelector('#df-c52832b9-50d9-4a1d-bd8d-358b3a7d72b4 button.colab-df-convert');\n",
              "        buttonEl.style.display =\n",
              "          google.colab.kernel.accessAllowed ? 'block' : 'none';\n",
              "\n",
              "        async function convertToInteractive(key) {\n",
              "          const element = document.querySelector('#df-c52832b9-50d9-4a1d-bd8d-358b3a7d72b4');\n",
              "          const dataTable =\n",
              "            await google.colab.kernel.invokeFunction('convertToInteractive',\n",
              "                                                     [key], {});\n",
              "          if (!dataTable) return;\n",
              "\n",
              "          const docLinkHtml = 'Like what you see? Visit the ' +\n",
              "            '<a target=\"_blank\" href=https://colab.research.google.com/notebooks/data_table.ipynb>data table notebook</a>'\n",
              "            + ' to learn more about interactive tables.';\n",
              "          element.innerHTML = '';\n",
              "          dataTable['output_type'] = 'display_data';\n",
              "          await google.colab.output.renderOutput(dataTable, element);\n",
              "          const docLink = document.createElement('div');\n",
              "          docLink.innerHTML = docLinkHtml;\n",
              "          element.appendChild(docLink);\n",
              "        }\n",
              "      </script>\n",
              "    </div>\n",
              "  </div>\n",
              "  "
            ]
          },
          "metadata": {},
          "execution_count": 45
        }
      ]
    },
    {
      "cell_type": "code",
      "source": [
        "df_out = pd.merge(df_chi_min, model_df, on = ['T','Met','logg'])"
      ],
      "metadata": {
        "id": "9FHc4RnsuJMS"
      },
      "execution_count": 46,
      "outputs": []
    },
    {
      "cell_type": "code",
      "source": [
        "for i in ['PS1gflux','PS1rflux','PS1iflux','PS1zflux', 'PS1yflux','UVIT_FUV_flux', 'UVIT_NUV_flux']:\n",
        "  df_out[i]*=pow(10,df_out['Md'].values)\n",
        "  df_out[i[:-4]+'_mag_p'] = -2.5*np.log10(df_out[i]/3631000)"
      ],
      "metadata": {
        "id": "em6gJDWeutOW"
      },
      "execution_count": 47,
      "outputs": []
    },
    {
      "cell_type": "code",
      "source": [
        "df_final = pd.merge(df_star,df_out, on = 'objid')"
      ],
      "metadata": {
        "id": "yJBzu6FAyHXI"
      },
      "execution_count": 48,
      "outputs": []
    },
    {
      "cell_type": "code",
      "source": [
        "df_final"
      ],
      "metadata": {
        "id": "bFvpnqy2MCjW",
        "outputId": "8dd86e05-562b-42eb-ef74-c3ea25c08df9",
        "colab": {
          "base_uri": "https://localhost:8080/",
          "height": 174
        }
      },
      "execution_count": 49,
      "outputs": [
        {
          "output_type": "execute_result",
          "data": {
            "text/plain": [
              "   RAJ2000  DEJ2000     FUV  FUV_err     NUV  NUV_err  gPSFMag  gPSFMagErr  \\\n",
              "0  10.8947  41.3926  21.499   19.098  20.857    0.188  20.7313     0.02506   \n",
              "\n",
              "   rPSFMag  rPSFMagErr  ...  UVIT_NUV_mag  UVIT_FUV_flux  UVIT_FUV_mag  \\\n",
              "0  20.9541    0.033309  ...    -42.307329       0.016262    -41.900472   \n",
              "\n",
              "   PS1g_mag_p  PS1r_mag_p  PS1i_mag_p  PS1z_mag_p PS1y_mag_p  UVIT_FUV__mag_p  \\\n",
              "0   20.707778   21.080903   21.396018   21.627301  21.817547        20.872102   \n",
              "\n",
              "   UVIT_NUV__mag_p  \n",
              "0        20.465246  \n",
              "\n",
              "[1 rows x 73 columns]"
            ],
            "text/html": [
              "\n",
              "  <div id=\"df-e755d310-7ba8-4d0f-b4c6-e37ae2f128fb\">\n",
              "    <div class=\"colab-df-container\">\n",
              "      <div>\n",
              "<style scoped>\n",
              "    .dataframe tbody tr th:only-of-type {\n",
              "        vertical-align: middle;\n",
              "    }\n",
              "\n",
              "    .dataframe tbody tr th {\n",
              "        vertical-align: top;\n",
              "    }\n",
              "\n",
              "    .dataframe thead th {\n",
              "        text-align: right;\n",
              "    }\n",
              "</style>\n",
              "<table border=\"1\" class=\"dataframe\">\n",
              "  <thead>\n",
              "    <tr style=\"text-align: right;\">\n",
              "      <th></th>\n",
              "      <th>RAJ2000</th>\n",
              "      <th>DEJ2000</th>\n",
              "      <th>FUV</th>\n",
              "      <th>FUV_err</th>\n",
              "      <th>NUV</th>\n",
              "      <th>NUV_err</th>\n",
              "      <th>gPSFMag</th>\n",
              "      <th>gPSFMagErr</th>\n",
              "      <th>rPSFMag</th>\n",
              "      <th>rPSFMagErr</th>\n",
              "      <th>...</th>\n",
              "      <th>UVIT_NUV_mag</th>\n",
              "      <th>UVIT_FUV_flux</th>\n",
              "      <th>UVIT_FUV_mag</th>\n",
              "      <th>PS1g_mag_p</th>\n",
              "      <th>PS1r_mag_p</th>\n",
              "      <th>PS1i_mag_p</th>\n",
              "      <th>PS1z_mag_p</th>\n",
              "      <th>PS1y_mag_p</th>\n",
              "      <th>UVIT_FUV__mag_p</th>\n",
              "      <th>UVIT_NUV__mag_p</th>\n",
              "    </tr>\n",
              "  </thead>\n",
              "  <tbody>\n",
              "    <tr>\n",
              "      <th>0</th>\n",
              "      <td>10.8947</td>\n",
              "      <td>41.3926</td>\n",
              "      <td>21.499</td>\n",
              "      <td>19.098</td>\n",
              "      <td>20.857</td>\n",
              "      <td>0.188</td>\n",
              "      <td>20.7313</td>\n",
              "      <td>0.02506</td>\n",
              "      <td>20.9541</td>\n",
              "      <td>0.033309</td>\n",
              "      <td>...</td>\n",
              "      <td>-42.307329</td>\n",
              "      <td>0.016262</td>\n",
              "      <td>-41.900472</td>\n",
              "      <td>20.707778</td>\n",
              "      <td>21.080903</td>\n",
              "      <td>21.396018</td>\n",
              "      <td>21.627301</td>\n",
              "      <td>21.817547</td>\n",
              "      <td>20.872102</td>\n",
              "      <td>20.465246</td>\n",
              "    </tr>\n",
              "  </tbody>\n",
              "</table>\n",
              "<p>1 rows × 73 columns</p>\n",
              "</div>\n",
              "      <button class=\"colab-df-convert\" onclick=\"convertToInteractive('df-e755d310-7ba8-4d0f-b4c6-e37ae2f128fb')\"\n",
              "              title=\"Convert this dataframe to an interactive table.\"\n",
              "              style=\"display:none;\">\n",
              "        \n",
              "  <svg xmlns=\"http://www.w3.org/2000/svg\" height=\"24px\"viewBox=\"0 0 24 24\"\n",
              "       width=\"24px\">\n",
              "    <path d=\"M0 0h24v24H0V0z\" fill=\"none\"/>\n",
              "    <path d=\"M18.56 5.44l.94 2.06.94-2.06 2.06-.94-2.06-.94-.94-2.06-.94 2.06-2.06.94zm-11 1L8.5 8.5l.94-2.06 2.06-.94-2.06-.94L8.5 2.5l-.94 2.06-2.06.94zm10 10l.94 2.06.94-2.06 2.06-.94-2.06-.94-.94-2.06-.94 2.06-2.06.94z\"/><path d=\"M17.41 7.96l-1.37-1.37c-.4-.4-.92-.59-1.43-.59-.52 0-1.04.2-1.43.59L10.3 9.45l-7.72 7.72c-.78.78-.78 2.05 0 2.83L4 21.41c.39.39.9.59 1.41.59.51 0 1.02-.2 1.41-.59l7.78-7.78 2.81-2.81c.8-.78.8-2.07 0-2.86zM5.41 20L4 18.59l7.72-7.72 1.47 1.35L5.41 20z\"/>\n",
              "  </svg>\n",
              "      </button>\n",
              "      \n",
              "  <style>\n",
              "    .colab-df-container {\n",
              "      display:flex;\n",
              "      flex-wrap:wrap;\n",
              "      gap: 12px;\n",
              "    }\n",
              "\n",
              "    .colab-df-convert {\n",
              "      background-color: #E8F0FE;\n",
              "      border: none;\n",
              "      border-radius: 50%;\n",
              "      cursor: pointer;\n",
              "      display: none;\n",
              "      fill: #1967D2;\n",
              "      height: 32px;\n",
              "      padding: 0 0 0 0;\n",
              "      width: 32px;\n",
              "    }\n",
              "\n",
              "    .colab-df-convert:hover {\n",
              "      background-color: #E2EBFA;\n",
              "      box-shadow: 0px 1px 2px rgba(60, 64, 67, 0.3), 0px 1px 3px 1px rgba(60, 64, 67, 0.15);\n",
              "      fill: #174EA6;\n",
              "    }\n",
              "\n",
              "    [theme=dark] .colab-df-convert {\n",
              "      background-color: #3B4455;\n",
              "      fill: #D2E3FC;\n",
              "    }\n",
              "\n",
              "    [theme=dark] .colab-df-convert:hover {\n",
              "      background-color: #434B5C;\n",
              "      box-shadow: 0px 1px 3px 1px rgba(0, 0, 0, 0.15);\n",
              "      filter: drop-shadow(0px 1px 2px rgba(0, 0, 0, 0.3));\n",
              "      fill: #FFFFFF;\n",
              "    }\n",
              "  </style>\n",
              "\n",
              "      <script>\n",
              "        const buttonEl =\n",
              "          document.querySelector('#df-e755d310-7ba8-4d0f-b4c6-e37ae2f128fb button.colab-df-convert');\n",
              "        buttonEl.style.display =\n",
              "          google.colab.kernel.accessAllowed ? 'block' : 'none';\n",
              "\n",
              "        async function convertToInteractive(key) {\n",
              "          const element = document.querySelector('#df-e755d310-7ba8-4d0f-b4c6-e37ae2f128fb');\n",
              "          const dataTable =\n",
              "            await google.colab.kernel.invokeFunction('convertToInteractive',\n",
              "                                                     [key], {});\n",
              "          if (!dataTable) return;\n",
              "\n",
              "          const docLinkHtml = 'Like what you see? Visit the ' +\n",
              "            '<a target=\"_blank\" href=https://colab.research.google.com/notebooks/data_table.ipynb>data table notebook</a>'\n",
              "            + ' to learn more about interactive tables.';\n",
              "          element.innerHTML = '';\n",
              "          dataTable['output_type'] = 'display_data';\n",
              "          await google.colab.output.renderOutput(dataTable, element);\n",
              "          const docLink = document.createElement('div');\n",
              "          docLink.innerHTML = docLinkHtml;\n",
              "          element.appendChild(docLink);\n",
              "        }\n",
              "      </script>\n",
              "    </div>\n",
              "  </div>\n",
              "  "
            ]
          },
          "metadata": {},
          "execution_count": 49
        }
      ]
    },
    {
      "cell_type": "code",
      "source": [
        "obs_mag = ['FUV','NUV','gPSFMag', 'rPSFMag', 'iPSFMag','zPSFMag',  'yPSFMag', ]\n",
        "mod_mag = ['UVIT_FUV__mag_p', 'UVIT_NUV__mag_p','PS1g_mag_p','PS1r_mag_p', 'PS1i_mag_p', 'PS1z_mag_p',  'PS1y_mag_p']"
      ],
      "metadata": {
        "id": "XrQkQVbny_yx"
      },
      "execution_count": 53,
      "outputs": []
    },
    {
      "cell_type": "code",
      "source": [
        "fig, ax = plt.subplots(figsize = (8,6))\n",
        "n = 0\n",
        "ax.plot(df_final[obs_mag].values[n],label = 'Observed' )\n",
        "ax.plot(df_final[mod_mag].values[n],label = 'Predicted')\n",
        "ax.set_xticks(range(7))\n",
        "ax.set_xticklabels(['FUV','NUV','g', 'r', 'i','z','y'])\n",
        "ax.set_xlabel('Filters')\n",
        "ax.set_ylabel('ABmag')\n",
        "ax.legend()\n",
        "ax.invert_yaxis()"
      ],
      "metadata": {
        "colab": {
          "base_uri": "https://localhost:8080/",
          "height": 401
        },
        "id": "vx-jxYGuvpyY",
        "outputId": "f9a24411-4034-4136-a592-2bf1e3117018"
      },
      "execution_count": 54,
      "outputs": [
        {
          "output_type": "display_data",
          "data": {
            "text/plain": [
              "<Figure size 576x432 with 1 Axes>"
            ],
            "image/png": "[encoded data removed]"
          },
          "metadata": {}
        }
      ]
    },
    {
      "cell_type": "code",
      "source": [
        "df_final[obs_mag].values[0], df_final[mod_mag].values[0]"
      ],
      "metadata": {
        "id": "nS2MsKDkKtca",
        "outputId": "9e0135e3-085f-41a9-b05b-61ae371c0666",
        "colab": {
          "base_uri": "https://localhost:8080/"
        }
      },
      "execution_count": 55,
      "outputs": [
        {
          "output_type": "execute_result",
          "data": {
            "text/plain": [
              "(array([21.499     , 20.857     , 20.73130035, 20.95409966, 21.6765995 ,\n",
              "        21.37369919, 22.06489944]),\n",
              " array([20.87210241, 20.46524565, 20.70777837, 21.08090315, 21.39601804,\n",
              "        21.62730075, 21.81754716]))"
            ]
          },
          "metadata": {},
          "execution_count": 55
        }
      ]
    },
    {
      "cell_type": "markdown",
      "source": [
        "### **With Av**"
      ],
      "metadata": {
        "id": "TutBqRF15OoH"
      }
    },
    {
      "cell_type": "code",
      "source": [
        "def chi2_func(params,flux,model_flux,flux_err,ext):\n",
        "  Md, av = params\n",
        "  chi = (flux - pow(10,Md)*model_flux*pow(10,-0.4*av*ext))/flux_err\n",
        "  return chi@chi"
      ],
      "metadata": {
        "id": "PsNj8tRW5Q_9"
      },
      "execution_count": 56,
      "outputs": []
    },
    {
      "cell_type": "code",
      "source": [
        "[2.67,1.95,]"
      ],
      "metadata": {
        "id": "JMbFqetCtENa"
      },
      "execution_count": null,
      "outputs": []
    },
    {
      "cell_type": "code",
      "source": [
        "ext = np.array( 1.17, 0.873, 0.664, 0.533,0.456])\n",
        "\n",
        "chi_set = []\n",
        "for i,row_source in df_star.iterrows():\n",
        "\n",
        "  flux     = row_source[['gPSFFlux', 'rPSFFlux', 'iPSFFlux', 'zPSFFlux','yPSFFlux']].values\n",
        "  flux_err = row_source[['gPSFFlux_err', 'rPSFFlux_err', 'iPSFFlux_err', 'zPSFFlux_err', 'yPSFFlux_err']].values\n",
        "\n",
        "  for j, row_model in model_df.iterrows():\n",
        "\n",
        "    model_flux = row_model[['PS1gflux','PS1rflux','PS1iflux','PS1zflux','PS1yflux']].values\n",
        "\n",
        "    params = minimize(chi2_func,x0 = (-25,0.5),bounds=([-30,-10],[0,20]),args=(flux,model_flux,flux_err,ext)).x\n",
        "    Md, Av = params\n",
        "    chi2   = chi2_func(params,flux,model_flux,flux_err,ext)\n",
        "    chi_set.append([row_source['objid'],row_model['T'],row_model['Met'],row_model['logg'],Md,chi2,Av])"
      ],
      "metadata": {
        "id": "_SFvWYBA5cFp"
      },
      "execution_count": null,
      "outputs": []
    },
    {
      "cell_type": "code",
      "source": [
        "df_chi = pd.DataFrame(chi_set, columns = ['objid','T','Met','logg','Md','chi2','Av'])"
      ],
      "metadata": {
        "id": "lZzWFinQ6-JG"
      },
      "execution_count": null,
      "outputs": []
    },
    {
      "cell_type": "code",
      "source": [
        "df_chi_min = df_chi[0:0]\n",
        "for i in df_chi['objid'].unique():\n",
        "  df_temp = df_chi[ df_chi['objid'] == i]\n",
        "  df_chi_min = df_chi_min.append(df_temp[df_temp['chi2']==df_temp['chi2'].min()])"
      ],
      "metadata": {
        "id": "hS21v9Z06-JI"
      },
      "execution_count": null,
      "outputs": []
    },
    {
      "cell_type": "code",
      "source": [
        "df_chi_min"
      ],
      "metadata": {
        "colab": {
          "base_uri": "https://localhost:8080/",
          "height": 363
        },
        "outputId": "d32c91a6-4086-4212-d1f4-1ae951fc004f",
        "id": "jKFWhhex6-JI"
      },
      "execution_count": null,
      "outputs": [
        {
          "output_type": "execute_result",
          "data": {
            "text/plain": [
              "                    objid        T  Met  logg         Md        chi2        Av\n",
              "6587   157340109227129762   7500.0  0.5   4.5 -23.519442  181.508785  0.000000\n",
              "13331  157350108218814598   8750.0  0.5   5.0 -24.093157   85.179878  0.000000\n",
              "19989  157370109140545982   8250.0  0.5   1.0 -23.780914   32.702994  0.019069\n",
              "26729  157370109233994618   9250.0  0.5   5.0 -24.388149    4.910340  0.000875\n",
              "32944  157380108253555129  31000.0  0.5   5.0 -25.235911   50.417260  0.000000\n",
              "39918  157380109041666548  50000.0  0.5   5.0 -25.417196   46.104476  0.375670\n",
              "46681  157380109152072565   6750.0  0.5   4.0 -23.497609   81.545049  0.000000\n",
              "49474  157380109682042534  14000.0 -2.0   3.5 -24.636886   47.644388  0.000000\n",
              "60078  157390108841348391   7250.0  0.5   3.5 -23.728596  171.443073  0.000000\n",
              "66054  157390108898417576  10000.0  0.5   5.0 -24.308132  330.472677  0.000000"
            ],
            "text/html": [
              "\n",
              "  <div id=\"df-e7a0070a-fbc0-4025-aba4-0ba519ac365f\">\n",
              "    <div class=\"colab-df-container\">\n",
              "      <div>\n",
              "<style scoped>\n",
              "    .dataframe tbody tr th:only-of-type {\n",
              "        vertical-align: middle;\n",
              "    }\n",
              "\n",
              "    .dataframe tbody tr th {\n",
              "        vertical-align: top;\n",
              "    }\n",
              "\n",
              "    .dataframe thead th {\n",
              "        text-align: right;\n",
              "    }\n",
              "</style>\n",
              "<table border=\"1\" class=\"dataframe\">\n",
              "  <thead>\n",
              "    <tr style=\"text-align: right;\">\n",
              "      <th></th>\n",
              "      <th>objid</th>\n",
              "      <th>T</th>\n",
              "      <th>Met</th>\n",
              "      <th>logg</th>\n",
              "      <th>Md</th>\n",
              "      <th>chi2</th>\n",
              "      <th>Av</th>\n",
              "    </tr>\n",
              "  </thead>\n",
              "  <tbody>\n",
              "    <tr>\n",
              "      <th>6587</th>\n",
              "      <td>157340109227129762</td>\n",
              "      <td>7500.0</td>\n",
              "      <td>0.5</td>\n",
              "      <td>4.5</td>\n",
              "      <td>-23.519442</td>\n",
              "      <td>181.508785</td>\n",
              "      <td>0.000000</td>\n",
              "    </tr>\n",
              "    <tr>\n",
              "      <th>13331</th>\n",
              "      <td>157350108218814598</td>\n",
              "      <td>8750.0</td>\n",
              "      <td>0.5</td>\n",
              "      <td>5.0</td>\n",
              "      <td>-24.093157</td>\n",
              "      <td>85.179878</td>\n",
              "      <td>0.000000</td>\n",
              "    </tr>\n",
              "    <tr>\n",
              "      <th>19989</th>\n",
              "      <td>157370109140545982</td>\n",
              "      <td>8250.0</td>\n",
              "      <td>0.5</td>\n",
              "      <td>1.0</td>\n",
              "      <td>-23.780914</td>\n",
              "      <td>32.702994</td>\n",
              "      <td>0.019069</td>\n",
              "    </tr>\n",
              "    <tr>\n",
              "      <th>26729</th>\n",
              "      <td>157370109233994618</td>\n",
              "      <td>9250.0</td>\n",
              "      <td>0.5</td>\n",
              "      <td>5.0</td>\n",
              "      <td>-24.388149</td>\n",
              "      <td>4.910340</td>\n",
              "      <td>0.000875</td>\n",
              "    </tr>\n",
              "    <tr>\n",
              "      <th>32944</th>\n",
              "      <td>157380108253555129</td>\n",
              "      <td>31000.0</td>\n",
              "      <td>0.5</td>\n",
              "      <td>5.0</td>\n",
              "      <td>-25.235911</td>\n",
              "      <td>50.417260</td>\n",
              "      <td>0.000000</td>\n",
              "    </tr>\n",
              "    <tr>\n",
              "      <th>39918</th>\n",
              "      <td>157380109041666548</td>\n",
              "      <td>50000.0</td>\n",
              "      <td>0.5</td>\n",
              "      <td>5.0</td>\n",
              "      <td>-25.417196</td>\n",
              "      <td>46.104476</td>\n",
              "      <td>0.375670</td>\n",
              "    </tr>\n",
              "    <tr>\n",
              "      <th>46681</th>\n",
              "      <td>157380109152072565</td>\n",
              "      <td>6750.0</td>\n",
              "      <td>0.5</td>\n",
              "      <td>4.0</td>\n",
              "      <td>-23.497609</td>\n",
              "      <td>81.545049</td>\n",
              "      <td>0.000000</td>\n",
              "    </tr>\n",
              "    <tr>\n",
              "      <th>49474</th>\n",
              "      <td>157380109682042534</td>\n",
              "      <td>14000.0</td>\n",
              "      <td>-2.0</td>\n",
              "      <td>3.5</td>\n",
              "      <td>-24.636886</td>\n",
              "      <td>47.644388</td>\n",
              "      <td>0.000000</td>\n",
              "    </tr>\n",
              "    <tr>\n",
              "      <th>60078</th>\n",
              "      <td>157390108841348391</td>\n",
              "      <td>7250.0</td>\n",
              "      <td>0.5</td>\n",
              "      <td>3.5</td>\n",
              "      <td>-23.728596</td>\n",
              "      <td>171.443073</td>\n",
              "      <td>0.000000</td>\n",
              "    </tr>\n",
              "    <tr>\n",
              "      <th>66054</th>\n",
              "      <td>157390108898417576</td>\n",
              "      <td>10000.0</td>\n",
              "      <td>0.5</td>\n",
              "      <td>5.0</td>\n",
              "      <td>-24.308132</td>\n",
              "      <td>330.472677</td>\n",
              "      <td>0.000000</td>\n",
              "    </tr>\n",
              "  </tbody>\n",
              "</table>\n",
              "</div>\n",
              "      <button class=\"colab-df-convert\" onclick=\"convertToInteractive('df-e7a0070a-fbc0-4025-aba4-0ba519ac365f')\"\n",
              "              title=\"Convert this dataframe to an interactive table.\"\n",
              "              style=\"display:none;\">\n",
              "        \n",
              "  <svg xmlns=\"http://www.w3.org/2000/svg\" height=\"24px\"viewBox=\"0 0 24 24\"\n",
              "       width=\"24px\">\n",
              "    <path d=\"M0 0h24v24H0V0z\" fill=\"none\"/>\n",
              "    <path d=\"M18.56 5.44l.94 2.06.94-2.06 2.06-.94-2.06-.94-.94-2.06-.94 2.06-2.06.94zm-11 1L8.5 8.5l.94-2.06 2.06-.94-2.06-.94L8.5 2.5l-.94 2.06-2.06.94zm10 10l.94 2.06.94-2.06 2.06-.94-2.06-.94-.94-2.06-.94 2.06-2.06.94z\"/><path d=\"M17.41 7.96l-1.37-1.37c-.4-.4-.92-.59-1.43-.59-.52 0-1.04.2-1.43.59L10.3 9.45l-7.72 7.72c-.78.78-.78 2.05 0 2.83L4 21.41c.39.39.9.59 1.41.59.51 0 1.02-.2 1.41-.59l7.78-7.78 2.81-2.81c.8-.78.8-2.07 0-2.86zM5.41 20L4 18.59l7.72-7.72 1.47 1.35L5.41 20z\"/>\n",
              "  </svg>\n",
              "      </button>\n",
              "      \n",
              "  <style>\n",
              "    .colab-df-container {\n",
              "      display:flex;\n",
              "      flex-wrap:wrap;\n",
              "      gap: 12px;\n",
              "    }\n",
              "\n",
              "    .colab-df-convert {\n",
              "      background-color: #E8F0FE;\n",
              "      border: none;\n",
              "      border-radius: 50%;\n",
              "      cursor: pointer;\n",
              "      display: none;\n",
              "      fill: #1967D2;\n",
              "      height: 32px;\n",
              "      padding: 0 0 0 0;\n",
              "      width: 32px;\n",
              "    }\n",
              "\n",
              "    .colab-df-convert:hover {\n",
              "      background-color: #E2EBFA;\n",
              "      box-shadow: 0px 1px 2px rgba(60, 64, 67, 0.3), 0px 1px 3px 1px rgba(60, 64, 67, 0.15);\n",
              "      fill: #174EA6;\n",
              "    }\n",
              "\n",
              "    [theme=dark] .colab-df-convert {\n",
              "      background-color: #3B4455;\n",
              "      fill: #D2E3FC;\n",
              "    }\n",
              "\n",
              "    [theme=dark] .colab-df-convert:hover {\n",
              "      background-color: #434B5C;\n",
              "      box-shadow: 0px 1px 3px 1px rgba(0, 0, 0, 0.15);\n",
              "      filter: drop-shadow(0px 1px 2px rgba(0, 0, 0, 0.3));\n",
              "      fill: #FFFFFF;\n",
              "    }\n",
              "  </style>\n",
              "\n",
              "      <script>\n",
              "        const buttonEl =\n",
              "          document.querySelector('#df-e7a0070a-fbc0-4025-aba4-0ba519ac365f button.colab-df-convert');\n",
              "        buttonEl.style.display =\n",
              "          google.colab.kernel.accessAllowed ? 'block' : 'none';\n",
              "\n",
              "        async function convertToInteractive(key) {\n",
              "          const element = document.querySelector('#df-e7a0070a-fbc0-4025-aba4-0ba519ac365f');\n",
              "          const dataTable =\n",
              "            await google.colab.kernel.invokeFunction('convertToInteractive',\n",
              "                                                     [key], {});\n",
              "          if (!dataTable) return;\n",
              "\n",
              "          const docLinkHtml = 'Like what you see? Visit the ' +\n",
              "            '<a target=\"_blank\" href=https://colab.research.google.com/notebooks/data_table.ipynb>data table notebook</a>'\n",
              "            + ' to learn more about interactive tables.';\n",
              "          element.innerHTML = '';\n",
              "          dataTable['output_type'] = 'display_data';\n",
              "          await google.colab.output.renderOutput(dataTable, element);\n",
              "          const docLink = document.createElement('div');\n",
              "          docLink.innerHTML = docLinkHtml;\n",
              "          element.appendChild(docLink);\n",
              "        }\n",
              "      </script>\n",
              "    </div>\n",
              "  </div>\n",
              "  "
            ]
          },
          "metadata": {},
          "execution_count": 251
        }
      ]
    },
    {
      "cell_type": "code",
      "source": [
        ""
      ],
      "metadata": {
        "id": "kV1tNCb7LR69"
      },
      "execution_count": null,
      "outputs": []
    }
  ]
}