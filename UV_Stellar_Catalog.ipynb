{
  "nbformat": 4,
  "nbformat_minor": 0,
  "metadata": {
    "colab": {
      "name": "UV_Stellar_Catalog.ipynb",
      "provenance": [],
      "machine_shape": "hm",
      "authorship_tag": "ABX9TyO879Cfzl1JjvcUbPffyBFp",
      "include_colab_link": true
    },
    "kernelspec": {
      "name": "python3",
      "display_name": "Python 3"
    },
    "language_info": {
      "name": "python"
    }
  },
  "cells": [
    {
      "cell_type": "markdown",
      "metadata": {
        "id": "view-in-github",
        "colab_type": "text"
      },
      "source": [
        "<a href=\"https://colab.research.google.com/github/Jack3690/INSIST/blob/main/UV_Stellar_Catalog.ipynb\" target=\"_parent\"><img src=\"https://colab.research.google.com/assets/colab-badge.svg\" alt=\"Open In Colab\"/></a>"
      ]
    },
    {
      "cell_type": "markdown",
      "source": [
        "# **Install**"
      ],
      "metadata": {
        "id": "QOmHvVRpWmqp"
      }
    },
    {
      "cell_type": "code",
      "metadata": {
        "id": "kmKFEMMFZ74N",
        "outputId": "8a59b66e-d7e0-453d-80d5-845e35321fd8",
        "colab": {
          "base_uri": "https://localhost:8080/"
        }
      },
      "source": [
        "!pip install git+https://github.com/rlwastro/mastcasjobs@master --quiet\n",
        "!pip install synphot --quiet"
      ],
      "execution_count": 3,
      "outputs": [
        {
          "output_type": "stream",
          "name": "stdout",
          "text": [
            "  Building wheel for mastcasjobs (setup.py) ... \u001b[?25l\u001b[?25hdone\n",
            "  Building wheel for casjobs (setup.py) ... \u001b[?25l\u001b[?25hdone\n",
            "\u001b[K     |████████████████████████████████| 914 kB 5.2 MB/s \n",
            "\u001b[?25h"
          ]
        }
      ]
    },
    {
      "cell_type": "markdown",
      "source": [
        "# **GitHub**"
      ],
      "metadata": {
        "id": "i1mcLAB5DFSt"
      }
    },
    {
      "cell_type": "code",
      "metadata": {
        "colab": {
          "base_uri": "https://localhost:8080/"
        },
        "id": "4D-dNXcqSeX_",
        "outputId": "eb5ba10d-5070-4327-bc61-cd76b718667c"
      },
      "source": [
        "!git clone https://github.com/Jack3690/INSIST"
      ],
      "execution_count": 4,
      "outputs": [
        {
          "output_type": "stream",
          "name": "stdout",
          "text": [
            "Cloning into 'INSIST'...\n",
            "remote: Enumerating objects: 1263, done.\u001b[K\n",
            "remote: Counting objects: 100% (139/139), done.\u001b[K\n",
            "remote: Compressing objects: 100% (85/85), done.\u001b[K\n",
            "remote: Total 1263 (delta 74), reused 96 (delta 51), pack-reused 1124\u001b[K\n",
            "Receiving objects: 100% (1263/1263), 188.73 MiB | 38.01 MiB/s, done.\n",
            "Resolving deltas: 100% (686/686), done.\n"
          ]
        }
      ]
    },
    {
      "cell_type": "code",
      "metadata": {
        "id": "u7R9oIZbSjB5",
        "outputId": "a47e3e4e-8165-4258-b4bd-a93726f3c161",
        "colab": {
          "base_uri": "https://localhost:8080/"
        }
      },
      "source": [
        "cd INSIST/data"
      ],
      "execution_count": 5,
      "outputs": [
        {
          "output_type": "stream",
          "name": "stdout",
          "text": [
            "/content/INSIST/data\n"
          ]
        }
      ]
    },
    {
      "cell_type": "markdown",
      "metadata": {
        "id": "19zz7u-cSXtd"
      },
      "source": [
        "#**Imports**"
      ]
    },
    {
      "cell_type": "code",
      "metadata": {
        "id": "qVyee94faMdF"
      },
      "source": [
        "import numpy as np\n",
        "import pandas as pd\n",
        "import matplotlib\n",
        "import matplotlib.pyplot as plt\n",
        "import seaborn as sb\n",
        "\n",
        "from astropy import units as u\n",
        "from astropy.coordinates import SkyCoord\n",
        "from astropy.stats import gaussian_fwhm_to_sigma, gaussian_sigma_to_fwhm\n",
        "from astropy.modeling import models, fitting\n",
        "from astropy.visualization import LogStretch\n",
        "from astropy.visualization.mpl_normalize import ImageNormalize\n",
        "from astropy import wcs\n",
        "from matplotlib import cm\n",
        "from matplotlib.colors import ListedColormap, LinearSegmentedColormap\n",
        "from astropy.table import Table\n",
        "from astropy.io import fits\n",
        "\n",
        "import os\n",
        "from time import perf_counter\n",
        "import json\n",
        "import requests\n",
        "from scipy.interpolate import interp1d\n",
        "from scipy import integrate\n",
        "\n",
        "import mastcasjobs\n",
        "from scipy.optimize import minimize_scalar,minimize\n",
        "\n",
        "# get the WSID and password if not already defined\n",
        "if not os.environ.get('CASJOBS_USERID'):\n",
        "    os.environ['CASJOBS_USERID'] = \"avinashck90\"\n",
        "if not os.environ.get('CASJOBS_PW'):\n",
        "    os.environ['CASJOBS_PW'] = \"INSIST369\"\n",
        "\n",
        "matplotlib.rcParams['font.size']=15\n",
        "matplotlib.rcParams['figure.figsize']=(15,10)\n",
        "sb.set_style('darkgrid')"
      ],
      "execution_count": 6,
      "outputs": []
    },
    {
      "cell_type": "markdown",
      "metadata": {
        "id": "EQW8jnRkGst-"
      },
      "source": [
        "# **Data**"
      ]
    },
    {
      "cell_type": "markdown",
      "metadata": {
        "id": "gtQQDMuCTv6D"
      },
      "source": [
        "## **CasJobs Script**"
      ]
    },
    {
      "cell_type": "code",
      "metadata": {
        "id": "wkGNEfD32zu7"
      },
      "source": [
        "def mastQuery(request, json_return=False):\n",
        "    \"\"\"Perform a MAST query.\n",
        "\n",
        "    Parameters\n",
        "    ----------\n",
        "    request (dictionary): The MAST request json object\n",
        "    \n",
        "    Returns the text response or (if json_return=True) the json response\n",
        "    \"\"\"\n",
        "    \n",
        "    url = \"https://mast.stsci.edu/api/v0/invoke\"\n",
        "\n",
        "    # Encoding the request as a json string\n",
        "    requestString = json.dumps(request)\n",
        "    \n",
        "    # make the query\n",
        "    r = requests.post(url, data=dict(request=requestString))\n",
        "    \n",
        "    # raise exception on error\n",
        "    r.raise_for_status()\n",
        "    \n",
        "    if json_return:\n",
        "        return r.json()\n",
        "    else:\n",
        "        return r.text\n",
        "\n",
        "\n",
        "def resolve(name):\n",
        "    \"\"\"Get the RA and Dec for an object using the MAST name resolver\n",
        "    \n",
        "    Parameters\n",
        "    ----------\n",
        "    name (str): Name of object\n",
        "\n",
        "    Returns RA, Dec tuple with position\"\"\"\n",
        "\n",
        "    resolverRequest = {'service':'Mast.Name.Lookup',\n",
        "                       'params':{'input':name,\n",
        "                                 'format':'json'\n",
        "                                },\n",
        "                      }\n",
        "    resolvedObject = mastQuery(resolverRequest, json_return=True)\n",
        "    # The resolver returns a variety of information about the resolved object, \n",
        "    # however for our purposes all we need are the RA and Dec\n",
        "    try:\n",
        "        objRa = resolvedObject['resolvedCoordinate'][0]['ra']\n",
        "        objDec = resolvedObject['resolvedCoordinate'][0]['decl']\n",
        "    except IndexError as e:\n",
        "        raise ValueError(\"Unknown object '{}'\".format(name))\n",
        "    return (objRa, objDec)"
      ],
      "execution_count": 7,
      "outputs": []
    },
    {
      "cell_type": "code",
      "metadata": {
        "id": "wIHbrJgX4ju2"
      },
      "source": [
        "class casjobs():\n",
        "    \"\"\"PSF Generator using Source catalog or CasJobs GALEX Catalog\n",
        "\n",
        "    Parameters\n",
        "    ----------\n",
        "    name (string) : Catalog name or coordinates of the source\n",
        "\n",
        "    df   (pd.DataFrame ): Pandas dataframe with source catalog\n",
        "\n",
        "    cols (dict) : dict object with column name conversions for ra,dec,mag_nuv. Eg {'RA': 'ra','Dec' : 'dec', 'ABmag' : 'mag_nuv'}\n",
        "\n",
        "        'ra' (degrees)\n",
        "\n",
        "        'dec' (degrees)\n",
        "\n",
        "        'mag_nuv' (ABmag)\n",
        "\n",
        "    pixel_scale (float) : pixel scale of detector in the unit of arcseconds/pixels\n",
        "\n",
        "    fwhm_in (float) : Full Width at Half Maximum of the Gaussian PSF\n",
        "\n",
        "    n_pix_main (int) : Number of pixels along one axis in the detector. Total number of pixels in the detector is n_pix_main**2\n",
        "\n",
        "    n_pix_sub (int) : Number of pixels along one axis in the path. Total number of pixels in the patch is n_pix_sub**2\n",
        "\n",
        "    \"\"\"\n",
        "    def __init__(self,name = None, df = None ,cols = None):   \n",
        "\n",
        "        if name is not None and df is None:\n",
        "          self.name = name\n",
        "          self.ra,self.dec = resolve(name)\n",
        "      \n",
        "          self.jobs = mastcasjobs.MastCasJobs(context=\"PanSTARRS_DR2\")\n",
        "          self.query =   f\"\"\"select psc.objid,o.raStack,o.decStack,mag.gPSFMag, mag.gPSFMagErr,mag.rPSFMag, mag.rPSFMagErr,mag.iPSFMag, mag.iPSFMagErr,mag.zPSFMag,mag.zPSFMagErr, mag.yPSFMag,mag.yPSFMagErr,psc.ps_score\n",
        "                            from fGetNearbyObjEq({self.ra}, {self.dec}, 28) f\n",
        "                            join ObjectThin o on o.objid=f.objid\n",
        "                            join HLSP_PS1_PSC.pointsource_scores psc on psc.objid=f.objid\n",
        "                            join StackObjectThin mag on mag.objid=psc.objid\n",
        "                            WHERE\n",
        "                            mag.gPSFMag>-900 and \n",
        "                            mag.rPSFMag>-900 and \n",
        "                            mag.iPSFMag>-900 and \n",
        "                            mag.zPSFMag>-900 and \n",
        "                            mag.yPSFMag>-900 \n",
        "                          \"\"\"\n",
        "          self.df = self.jobs.quick(self.query, task_name=\"python cone search\").to_pandas()\n",
        "        else:\n",
        "          self.df = df \n",
        "        if cols is not None:\n",
        "          self.df = self.df.rename(columns=cols) \n",
        "    \n",
        "    def show_field(self,figsize=(10,10)):\n",
        "      \"\"\"\n",
        "      Function for creating a scatter plot of sources within the FoV\n",
        "      \n",
        "      Returns\n",
        "      -------\n",
        "      fig, ax\n",
        "      \"\"\"\n",
        "        \n",
        "      fig, ax = plt.subplots(1,1,figsize=figsize)\n",
        "      ax.scatter(self.df['ra'],self.df['dec'],marker='.',color='black')\n",
        "      ax.set_title(f\" Requested Center : {self.name} \\n  {len(self.df)} sources\")\n",
        "      ax.invert_xaxis()\n",
        "      ax.set_xlabel('RA (Degrees)')\n",
        "      ax.set_ylabel('Dec (Degrees)')\n",
        "      return fig,ax\n",
        "      \n",
        "        "
      ],
      "execution_count": 8,
      "outputs": []
    },
    {
      "cell_type": "markdown",
      "source": [
        "## **M 31**"
      ],
      "metadata": {
        "id": "rnSsRJIU_FtV"
      }
    },
    {
      "cell_type": "code",
      "source": [
        "df_M31 = Table.read('/content/INSIST/data/M31_UVIT_PanSTARRS_crossmatch.fits').to_pandas()"
      ],
      "metadata": {
        "id": "ISlKPkhT2hDW"
      },
      "execution_count": 9,
      "outputs": []
    },
    {
      "cell_type": "code",
      "source": [
        "df_star = df_M31[df_M31['ps_score']>0.5][:1].copy()\n",
        "df_star =  df_star.rename(columns = {'raStack':'ra','decStack':'dec'})"
      ],
      "metadata": {
        "id": "Hskutq_y2wJV"
      },
      "execution_count": 10,
      "outputs": []
    },
    {
      "cell_type": "code",
      "source": [
        "for i in ['g','r','i','z','y']:\n",
        "  df_star[f'{i}PSFFlux']     = 3631*pow(10,-df_star[f'{i}PSFMag']/2.5)*1000             # mJy\n",
        "\n",
        "  df_star[f'{i}PSFFlux_err'] = (df_star[f'{i}PSFMagErr']*df_star[f'{i}PSFFlux'])/1.082        # mJy"
      ],
      "metadata": {
        "id": "RpCLuPVA_E1_"
      },
      "execution_count": 11,
      "outputs": []
    },
    {
      "cell_type": "code",
      "metadata": {
        "id": "-aTHfno94j2D",
        "colab": {
          "base_uri": "https://localhost:8080/",
          "height": 0
        },
        "outputId": "ccc86589-05fb-44d9-cfbc-16bd6e286cd0"
      },
      "source": [
        "df_star"
      ],
      "execution_count": 12,
      "outputs": [
        {
          "output_type": "execute_result",
          "data": {
            "text/plain": [
              "                objid         ra      dec  gPSFMag  gPSFMagErr  rPSFMag  \\\n",
              "0  157340109227129762  10.922739  41.1243  19.1668    0.006854  19.0145   \n",
              "\n",
              "   rPSFMagErr    iPSFMag  iPSFMagErr    zPSFMag  ...  gPSFFlux  gPSFFlux_err  \\\n",
              "0    0.007228  19.201599    0.006759  19.291201  ...  0.078218      0.000495   \n",
              "\n",
              "   rPSFFlux  rPSFFlux_err  iPSFFlux iPSFFlux_err  zPSFFlux  zPSFFlux_err  \\\n",
              "0  0.089997      0.000601  0.075751     0.000473   0.06975      0.001217   \n",
              "\n",
              "   yPSFFlux  yPSFFlux_err  \n",
              "0  0.057547      0.001607  \n",
              "\n",
              "[1 rows x 40 columns]"
            ],
            "text/html": [
              "\n",
              "  <div id=\"df-46347cea-c96e-4d2b-ab5c-65c3ae1829e8\">\n",
              "    <div class=\"colab-df-container\">\n",
              "      <div>\n",
              "<style scoped>\n",
              "    .dataframe tbody tr th:only-of-type {\n",
              "        vertical-align: middle;\n",
              "    }\n",
              "\n",
              "    .dataframe tbody tr th {\n",
              "        vertical-align: top;\n",
              "    }\n",
              "\n",
              "    .dataframe thead th {\n",
              "        text-align: right;\n",
              "    }\n",
              "</style>\n",
              "<table border=\"1\" class=\"dataframe\">\n",
              "  <thead>\n",
              "    <tr style=\"text-align: right;\">\n",
              "      <th></th>\n",
              "      <th>objid</th>\n",
              "      <th>ra</th>\n",
              "      <th>dec</th>\n",
              "      <th>gPSFMag</th>\n",
              "      <th>gPSFMagErr</th>\n",
              "      <th>rPSFMag</th>\n",
              "      <th>rPSFMagErr</th>\n",
              "      <th>iPSFMag</th>\n",
              "      <th>iPSFMagErr</th>\n",
              "      <th>zPSFMag</th>\n",
              "      <th>...</th>\n",
              "      <th>gPSFFlux</th>\n",
              "      <th>gPSFFlux_err</th>\n",
              "      <th>rPSFFlux</th>\n",
              "      <th>rPSFFlux_err</th>\n",
              "      <th>iPSFFlux</th>\n",
              "      <th>iPSFFlux_err</th>\n",
              "      <th>zPSFFlux</th>\n",
              "      <th>zPSFFlux_err</th>\n",
              "      <th>yPSFFlux</th>\n",
              "      <th>yPSFFlux_err</th>\n",
              "    </tr>\n",
              "  </thead>\n",
              "  <tbody>\n",
              "    <tr>\n",
              "      <th>0</th>\n",
              "      <td>157340109227129762</td>\n",
              "      <td>10.922739</td>\n",
              "      <td>41.1243</td>\n",
              "      <td>19.1668</td>\n",
              "      <td>0.006854</td>\n",
              "      <td>19.0145</td>\n",
              "      <td>0.007228</td>\n",
              "      <td>19.201599</td>\n",
              "      <td>0.006759</td>\n",
              "      <td>19.291201</td>\n",
              "      <td>...</td>\n",
              "      <td>0.078218</td>\n",
              "      <td>0.000495</td>\n",
              "      <td>0.089997</td>\n",
              "      <td>0.000601</td>\n",
              "      <td>0.075751</td>\n",
              "      <td>0.000473</td>\n",
              "      <td>0.06975</td>\n",
              "      <td>0.001217</td>\n",
              "      <td>0.057547</td>\n",
              "      <td>0.001607</td>\n",
              "    </tr>\n",
              "  </tbody>\n",
              "</table>\n",
              "<p>1 rows × 40 columns</p>\n",
              "</div>\n",
              "      <button class=\"colab-df-convert\" onclick=\"convertToInteractive('df-46347cea-c96e-4d2b-ab5c-65c3ae1829e8')\"\n",
              "              title=\"Convert this dataframe to an interactive table.\"\n",
              "              style=\"display:none;\">\n",
              "        \n",
              "  <svg xmlns=\"http://www.w3.org/2000/svg\" height=\"24px\"viewBox=\"0 0 24 24\"\n",
              "       width=\"24px\">\n",
              "    <path d=\"M0 0h24v24H0V0z\" fill=\"none\"/>\n",
              "    <path d=\"M18.56 5.44l.94 2.06.94-2.06 2.06-.94-2.06-.94-.94-2.06-.94 2.06-2.06.94zm-11 1L8.5 8.5l.94-2.06 2.06-.94-2.06-.94L8.5 2.5l-.94 2.06-2.06.94zm10 10l.94 2.06.94-2.06 2.06-.94-2.06-.94-.94-2.06-.94 2.06-2.06.94z\"/><path d=\"M17.41 7.96l-1.37-1.37c-.4-.4-.92-.59-1.43-.59-.52 0-1.04.2-1.43.59L10.3 9.45l-7.72 7.72c-.78.78-.78 2.05 0 2.83L4 21.41c.39.39.9.59 1.41.59.51 0 1.02-.2 1.41-.59l7.78-7.78 2.81-2.81c.8-.78.8-2.07 0-2.86zM5.41 20L4 18.59l7.72-7.72 1.47 1.35L5.41 20z\"/>\n",
              "  </svg>\n",
              "      </button>\n",
              "      \n",
              "  <style>\n",
              "    .colab-df-container {\n",
              "      display:flex;\n",
              "      flex-wrap:wrap;\n",
              "      gap: 12px;\n",
              "    }\n",
              "\n",
              "    .colab-df-convert {\n",
              "      background-color: #E8F0FE;\n",
              "      border: none;\n",
              "      border-radius: 50%;\n",
              "      cursor: pointer;\n",
              "      display: none;\n",
              "      fill: #1967D2;\n",
              "      height: 32px;\n",
              "      padding: 0 0 0 0;\n",
              "      width: 32px;\n",
              "    }\n",
              "\n",
              "    .colab-df-convert:hover {\n",
              "      background-color: #E2EBFA;\n",
              "      box-shadow: 0px 1px 2px rgba(60, 64, 67, 0.3), 0px 1px 3px 1px rgba(60, 64, 67, 0.15);\n",
              "      fill: #174EA6;\n",
              "    }\n",
              "\n",
              "    [theme=dark] .colab-df-convert {\n",
              "      background-color: #3B4455;\n",
              "      fill: #D2E3FC;\n",
              "    }\n",
              "\n",
              "    [theme=dark] .colab-df-convert:hover {\n",
              "      background-color: #434B5C;\n",
              "      box-shadow: 0px 1px 3px 1px rgba(0, 0, 0, 0.15);\n",
              "      filter: drop-shadow(0px 1px 2px rgba(0, 0, 0, 0.3));\n",
              "      fill: #FFFFFF;\n",
              "    }\n",
              "  </style>\n",
              "\n",
              "      <script>\n",
              "        const buttonEl =\n",
              "          document.querySelector('#df-46347cea-c96e-4d2b-ab5c-65c3ae1829e8 button.colab-df-convert');\n",
              "        buttonEl.style.display =\n",
              "          google.colab.kernel.accessAllowed ? 'block' : 'none';\n",
              "\n",
              "        async function convertToInteractive(key) {\n",
              "          const element = document.querySelector('#df-46347cea-c96e-4d2b-ab5c-65c3ae1829e8');\n",
              "          const dataTable =\n",
              "            await google.colab.kernel.invokeFunction('convertToInteractive',\n",
              "                                                     [key], {});\n",
              "          if (!dataTable) return;\n",
              "\n",
              "          const docLinkHtml = 'Like what you see? Visit the ' +\n",
              "            '<a target=\"_blank\" href=https://colab.research.google.com/notebooks/data_table.ipynb>data table notebook</a>'\n",
              "            + ' to learn more about interactive tables.';\n",
              "          element.innerHTML = '';\n",
              "          dataTable['output_type'] = 'display_data';\n",
              "          await google.colab.output.renderOutput(dataTable, element);\n",
              "          const docLink = document.createElement('div');\n",
              "          docLink.innerHTML = docLinkHtml;\n",
              "          element.appendChild(docLink);\n",
              "        }\n",
              "      </script>\n",
              "    </div>\n",
              "  </div>\n",
              "  "
            ]
          },
          "metadata": {},
          "execution_count": 12
        }
      ]
    },
    {
      "cell_type": "markdown",
      "metadata": {
        "id": "lpFsL5gWGx8c"
      },
      "source": [
        "# **Synthetic Spectra**"
      ]
    },
    {
      "cell_type": "markdown",
      "source": [
        "## **Synphot**"
      ],
      "metadata": {
        "id": "VO9eIGcb5iI8"
      }
    },
    {
      "cell_type": "markdown",
      "source": [
        "#### **Model**"
      ],
      "metadata": {
        "id": "fMy9NiNeW4MO"
      }
    },
    {
      "cell_type": "code",
      "source": [
        "os.environ['PYSYN_CDBS'] = '/content/INSIST/data'"
      ],
      "metadata": {
        "id": "K9BIPTrcc0Nm"
      },
      "execution_count": null,
      "outputs": []
    },
    {
      "cell_type": "code",
      "source": [
        "!mkdir '/content/INSIST/data/grid'"
      ],
      "metadata": {
        "id": "wLjl70QefnJG",
        "colab": {
          "base_uri": "https://localhost:8080/"
        },
        "outputId": "36747b62-7529-4150-ab18-a603042f8ed6"
      },
      "execution_count": null,
      "outputs": [
        {
          "output_type": "stream",
          "name": "stdout",
          "text": [
            "mkdir: cannot create directory ‘/content/INSIST/data/grid’: File exists\n"
          ]
        }
      ]
    },
    {
      "cell_type": "code",
      "source": [
        "cd '/content/INSIST/data/grid/'"
      ],
      "metadata": {
        "colab": {
          "base_uri": "https://localhost:8080/"
        },
        "id": "bncHX3Y5f5lC",
        "outputId": "d14a1bd6-c2c2-4105-8e95-4ecbda6f0dda"
      },
      "execution_count": null,
      "outputs": [
        {
          "output_type": "stream",
          "name": "stdout",
          "text": [
            "/content/INSIST/data/grid\n"
          ]
        }
      ]
    },
    {
      "cell_type": "code",
      "source": [
        "!wget http://ssb.stsci.edu/trds/tarfiles/synphot3.tar.gz"
      ],
      "metadata": {
        "id": "hHxY0iEAc9hs",
        "colab": {
          "base_uri": "https://localhost:8080/"
        },
        "outputId": "da64c064-08fb-4d88-94a8-c3bf359ee2e3"
      },
      "execution_count": null,
      "outputs": [
        {
          "output_type": "stream",
          "name": "stdout",
          "text": [
            "--2022-06-10 11:22:54--  http://ssb.stsci.edu/trds/tarfiles/synphot3.tar.gz\n",
            "Resolving ssb.stsci.edu (ssb.stsci.edu)... 130.167.165.20\n",
            "Connecting to ssb.stsci.edu (ssb.stsci.edu)|130.167.165.20|:80... connected.\n",
            "HTTP request sent, awaiting response... 301 Moved Permanently\n",
            "Location: https://ssb.stsci.edu/trds/tarfiles/synphot3.tar.gz [following]\n",
            "--2022-06-10 11:22:54--  https://ssb.stsci.edu/trds/tarfiles/synphot3.tar.gz\n",
            "Connecting to ssb.stsci.edu (ssb.stsci.edu)|130.167.165.20|:443... connected.\n",
            "HTTP request sent, awaiting response... 200 OK\n",
            "Length: 18076806 (17M) [application/octet-stream]\n",
            "Saving to: ‘synphot3.tar.gz.1’\n",
            "\n",
            "synphot3.tar.gz.1   100%[===================>]  17.24M  31.0MB/s    in 0.6s    \n",
            "\n",
            "2022-06-10 11:22:55 (31.0 MB/s) - ‘synphot3.tar.gz.1’ saved [18076806/18076806]\n",
            "\n"
          ]
        }
      ]
    },
    {
      "cell_type": "code",
      "source": [
        "!tar -xf synphot3.tar.gz"
      ],
      "metadata": {
        "id": "bNirhvV6gewY"
      },
      "execution_count": null,
      "outputs": []
    },
    {
      "cell_type": "code",
      "source": [
        "!cp -a /content/INSIST/data/grid/grp/redcat/trds/grid/ck04models /content/INSIST/data/grid/"
      ],
      "metadata": {
        "id": "nl-U_R5QuN2B"
      },
      "execution_count": null,
      "outputs": []
    },
    {
      "cell_type": "code",
      "source": [
        "!rm -r grp"
      ],
      "metadata": {
        "id": "PhQ3RHRCu1Ht"
      },
      "execution_count": null,
      "outputs": []
    },
    {
      "cell_type": "code",
      "source": [
        "cat = Table.read('ck04models/catalog.fits')"
      ],
      "metadata": {
        "id": "-tpGmfGsvqXz"
      },
      "execution_count": null,
      "outputs": []
    },
    {
      "cell_type": "code",
      "source": [
        "filter_dict = {'PS1g'    : [4881.47, 'PAN-STARRS_PS1.g.dat' ],\n",
        "               'PS1r'    : [6198.41, 'PAN-STARRS_PS1.r.dat' ],\n",
        "               'PS1i'    : [7549.34, 'PAN-STARRS_PS1.i.dat' ],\n",
        "               'PS1z'    : [8701.37, 'PAN-STARRS_PS1.z.dat' ],\n",
        "               'PS1y'    : [9509.80,'PAN-STARRS_PS1.y.dat' ],\n",
        "               'UVIT_NUV': [2792.56,'Astrosat_UVIT.N279N.dat'],\n",
        "               'UVIT_FUV': [1506.00,'Astrosat_UVIT.F148Wa.dat']}"
      ],
      "metadata": {
        "id": "x9zySFKxxKML"
      },
      "execution_count": null,
      "outputs": []
    },
    {
      "cell_type": "code",
      "source": [
        ""
      ],
      "metadata": {
        "id": "3KmEBRSA0LLj"
      },
      "execution_count": null,
      "outputs": []
    },
    {
      "cell_type": "markdown",
      "source": [
        "#### **Convolving Filters**"
      ],
      "metadata": {
        "id": "sl1exXGsW_e4"
      }
    },
    {
      "cell_type": "code",
      "source": [
        "df = cat[['INDEX']][:10]\n",
        "conv_fluxes = []\n",
        "for f in cat['FILENAME'][:10]:\n",
        "  wav = Table.read(f'ck04models/ckm05/ckm05_10000.fits')['WAVELENGTH'].value\n",
        "  l = f.split('[')\n",
        "  name        = l[0]\n",
        "  col         = l[1][:3]\n",
        "  tab         = Table.read(f'ck04models/{name}')\n",
        "  flux        = tab[col].value # \n",
        "  model_func  = interp1d(wav,flux)\n",
        "  fluxes      = []\n",
        "  for filter in filter_dict:\n",
        "    file_name = filter_dict[filter][1]\n",
        "    filt_dat  = np.loadtxt(f'/content/INSIST/data/{file_name}')\n",
        "\n",
        "    x         = filt_dat[:,0]\n",
        "    y         = filt_dat[:,1]\n",
        "    \n",
        "    indices  = np.where( (wav>x[0]) & (wav<x[-1]))\n",
        "    wav_new  = wav[indices]\n",
        "    flux_new = flux[indices]\n",
        "\n",
        "    x_new = [wav[0]] + [x[0]-1] + list(x) + [x[-1]+1] + [wav[-1]]\n",
        "    y_new = [0]      + [0]      + list(y) +     [0]   + [0]\n",
        "    \n",
        "    filt_func = interp1d(x_new,y_new)\n",
        "\n",
        "    filt_flux = model_func(wav)*filt_func(wav)\n",
        "\n",
        "    const     = integrate.simps(filt_flux*wav,wav)/integrate.simps(filt_func(wav)*wav, wav)\n",
        "\n",
        "    filt_flux = interp1d(wav, filt_flux)    # erg/(s.cm2.A)\n",
        "\n",
        "    lambd = filter_dict[filter][0]                            \n",
        " \n",
        "    filt_flux_Jy =  (const*(lambd)**2*3.34e7)\n",
        "\n",
        "    fluxes.append(filt_flux_Jy)\n",
        "  conv_fluxes.append(fluxes)\n",
        "\n",
        "conv_fluxes = np.array(conv_fluxes)"
      ],
      "metadata": {
        "id": "U4Hbx9ERv141"
      },
      "execution_count": null,
      "outputs": []
    },
    {
      "cell_type": "code",
      "source": [
        "plt.plot(wav, filt_func(wav)*1e8)\n",
        "plt.plot(wav, model_func(wav))\n",
        "plt.plot(wav, filt_flux(wav))\n",
        "plt.xscale('log')\n",
        "plt.xlim(1e3,1e4)\n",
        "plt.legend(['Filter','Model','Convolved'])\n",
        "plt.xlabel(r'$\\lambda$ ($\\AA$)')\n",
        "plt.ylabel('Flux | Response')"
      ],
      "metadata": {
        "colab": {
          "base_uri": "https://localhost:8080/",
          "height": 658
        },
        "id": "Q6MB2WeVvO4-",
        "outputId": "f625c59e-3c58-4972-b492-daa57cb2f70a"
      },
      "execution_count": null,
      "outputs": [
        {
          "output_type": "execute_result",
          "data": {
            "text/plain": [
              "Text(0, 0.5, 'Flux | Response')"
            ]
          },
          "metadata": {},
          "execution_count": 80
        },
        {
          "output_type": "display_data",
          "data": {
            "text/plain": [
              "<Figure size 1080x720 with 1 Axes>"
            ],
            "image/png": "[encoded data removed]"
          },
          "metadata": {}
        }
      ]
    },
    {
      "cell_type": "code",
      "source": [
        "for i, filter in enumerate(filter_dict):\n",
        "  df[filter] = conv_fluxes[:,i]"
      ],
      "metadata": {
        "id": "2urAqzyHYVwg"
      },
      "execution_count": null,
      "outputs": []
    },
    {
      "cell_type": "code",
      "source": [
        "df.write('PanSTARRS_UVIT_conv.fits', overwrite = True)"
      ],
      "metadata": {
        "id": "DCrtBhA_GwdF"
      },
      "execution_count": null,
      "outputs": []
    },
    {
      "cell_type": "code",
      "source": [
        "tab = Table.read('PanSTARRS_UVIT_conv.fits')"
      ],
      "metadata": {
        "id": "UAIfoNZGWqG7"
      },
      "execution_count": 13,
      "outputs": []
    },
    {
      "cell_type": "code",
      "source": [
        "model_df = tab.to_pandas()"
      ],
      "metadata": {
        "id": "19z_6fNPWwAg"
      },
      "execution_count": 15,
      "outputs": []
    },
    {
      "cell_type": "code",
      "source": [
        "model_df"
      ],
      "metadata": {
        "colab": {
          "base_uri": "https://localhost:8080/",
          "height": 488
        },
        "id": "JPoNpDguXlGy",
        "outputId": "126a58b8-3bdc-496b-c894-864f650a1fa1"
      },
      "execution_count": 16,
      "outputs": [
        {
          "output_type": "execute_result",
          "data": {
            "text/plain": [
              "                  INDEX        T  logg  F_H      PS1gflux    PS1gmag  \\\n",
              "0     b'10000,-0.5,0.0'  10000.0  -0.5  0.0  0.000000e+00        inf   \n",
              "1     b'10000,-0.5,0.5'  10000.0  -0.5  0.5  0.000000e+00        inf   \n",
              "2     b'10000,-0.5,1.0'  10000.0  -0.5  1.0  0.000000e+00        inf   \n",
              "3     b'10000,-0.5,1.5'  10000.0  -0.5  1.5  0.000000e+00        inf   \n",
              "4     b'10000,-0.5,2.0'  10000.0  -0.5  2.0  6.930797e+22 -40.701892   \n",
              "...                 ...      ...   ...  ...           ...        ...   \n",
              "6683    b'9750,0.5,3.0'   9750.0   0.5  3.0  7.168703e+22 -40.738536   \n",
              "6684    b'9750,0.5,3.5'   9750.0   0.5  3.5  7.152636e+22 -40.736100   \n",
              "6685    b'9750,0.5,4.0'   9750.0   0.5  4.0  7.111748e+22 -40.729875   \n",
              "6686    b'9750,0.5,4.5'   9750.0   0.5  4.5  7.051201e+22 -40.720592   \n",
              "6687    b'9750,0.5,5.0'   9750.0   0.5  5.0  6.967739e+22 -40.707664   \n",
              "\n",
              "          PS1rflux    PS1rmag      PS1iflux    PS1imag  ...     PS1i_flux  \\\n",
              "0     0.000000e+00        inf  0.000000e+00        inf  ...  0.000000e+00   \n",
              "1     0.000000e+00        inf  0.000000e+00        inf  ...  0.000000e+00   \n",
              "2     0.000000e+00        inf  0.000000e+00        inf  ...  0.000000e+00   \n",
              "3     0.000000e+00        inf  0.000000e+00        inf  ...  0.000000e+00   \n",
              "4     5.508034e+22 -40.452426  4.467290e+22 -40.225045  ...  4.467290e+22   \n",
              "...            ...        ...           ...        ...  ...           ...   \n",
              "6683  5.567871e+22 -40.464157  4.446867e+22 -40.220070  ...  4.446867e+22   \n",
              "6684  5.572779e+22 -40.465114  4.460427e+22 -40.223375  ...  4.460427e+22   \n",
              "6685  5.590702e+22 -40.468600  4.493287e+22 -40.231345  ...  4.493287e+22   \n",
              "6686  5.617236e+22 -40.473741  4.538991e+22 -40.242333  ...  4.538991e+22   \n",
              "6687  5.645007e+22 -40.479096  4.591366e+22 -40.254789  ...  4.591366e+22   \n",
              "\n",
              "       PS1i_mag     PS1z_flux   PS1z_mag     PS1y_flux   PS1y_mag  \\\n",
              "0           inf  0.000000e+00        inf  0.000000e+00        inf   \n",
              "1           inf  0.000000e+00        inf  0.000000e+00        inf   \n",
              "2           inf  0.000000e+00        inf  0.000000e+00        inf   \n",
              "3           inf  0.000000e+00        inf  0.000000e+00        inf   \n",
              "4    -40.225045  4.035269e+22 -40.114616  3.658205e+22 -40.008105   \n",
              "...         ...           ...        ...           ...        ...   \n",
              "6683 -40.220070  3.952551e+22 -40.092128  3.663655e+22 -40.009721   \n",
              "6684 -40.223375  3.914202e+22 -40.081542  3.645267e+22 -40.004258   \n",
              "6685 -40.231345  3.891096e+22 -40.075114  3.625295e+22 -39.998293   \n",
              "6686 -40.242333  3.884165e+22 -40.073179  3.602792e+22 -39.991532   \n",
              "6687 -40.254789  3.892084e+22 -40.075390  3.576140e+22 -39.983471   \n",
              "\n",
              "      UVIT_NUV_flux  UVIT_NUV_mag  UVIT_FUV_flux  UVIT_FUV_mag  \n",
              "0      0.000000e+00           inf   0.000000e+00           inf  \n",
              "1      0.000000e+00           inf   0.000000e+00           inf  \n",
              "2      0.000000e+00           inf   0.000000e+00           inf  \n",
              "3      0.000000e+00           inf   0.000000e+00           inf  \n",
              "4      1.956947e+22    -39.328882   8.701942e+21    -38.448975  \n",
              "...             ...           ...            ...           ...  \n",
              "6683   1.455237e+22    -39.007269   5.022816e+21    -37.852303  \n",
              "6684   1.504988e+22    -39.043767   4.969031e+21    -37.840614  \n",
              "6685   1.572713e+22    -39.091558   4.733782e+21    -37.787955  \n",
              "6686   1.651050e+22    -39.144335   4.328091e+21    -37.690675  \n",
              "6687   1.734836e+22    -39.198081   3.792729e+21    -37.547314  \n",
              "\n",
              "[6688 rows x 32 columns]"
            ],
            "text/html": [
              "\n",
              "  <div id=\"df-4ff08ff3-e5be-4796-a542-d342de32747c\">\n",
              "    <div class=\"colab-df-container\">\n",
              "      <div>\n",
              "<style scoped>\n",
              "    .dataframe tbody tr th:only-of-type {\n",
              "        vertical-align: middle;\n",
              "    }\n",
              "\n",
              "    .dataframe tbody tr th {\n",
              "        vertical-align: top;\n",
              "    }\n",
              "\n",
              "    .dataframe thead th {\n",
              "        text-align: right;\n",
              "    }\n",
              "</style>\n",
              "<table border=\"1\" class=\"dataframe\">\n",
              "  <thead>\n",
              "    <tr style=\"text-align: right;\">\n",
              "      <th></th>\n",
              "      <th>INDEX</th>\n",
              "      <th>T</th>\n",
              "      <th>logg</th>\n",
              "      <th>F_H</th>\n",
              "      <th>PS1gflux</th>\n",
              "      <th>PS1gmag</th>\n",
              "      <th>PS1rflux</th>\n",
              "      <th>PS1rmag</th>\n",
              "      <th>PS1iflux</th>\n",
              "      <th>PS1imag</th>\n",
              "      <th>...</th>\n",
              "      <th>PS1i_flux</th>\n",
              "      <th>PS1i_mag</th>\n",
              "      <th>PS1z_flux</th>\n",
              "      <th>PS1z_mag</th>\n",
              "      <th>PS1y_flux</th>\n",
              "      <th>PS1y_mag</th>\n",
              "      <th>UVIT_NUV_flux</th>\n",
              "      <th>UVIT_NUV_mag</th>\n",
              "      <th>UVIT_FUV_flux</th>\n",
              "      <th>UVIT_FUV_mag</th>\n",
              "    </tr>\n",
              "  </thead>\n",
              "  <tbody>\n",
              "    <tr>\n",
              "      <th>0</th>\n",
              "      <td>b'10000,-0.5,0.0'</td>\n",
              "      <td>10000.0</td>\n",
              "      <td>-0.5</td>\n",
              "      <td>0.0</td>\n",
              "      <td>0.000000e+00</td>\n",
              "      <td>inf</td>\n",
              "      <td>0.000000e+00</td>\n",
              "      <td>inf</td>\n",
              "      <td>0.000000e+00</td>\n",
              "      <td>inf</td>\n",
              "      <td>...</td>\n",
              "      <td>0.000000e+00</td>\n",
              "      <td>inf</td>\n",
              "      <td>0.000000e+00</td>\n",
              "      <td>inf</td>\n",
              "      <td>0.000000e+00</td>\n",
              "      <td>inf</td>\n",
              "      <td>0.000000e+00</td>\n",
              "      <td>inf</td>\n",
              "      <td>0.000000e+00</td>\n",
              "      <td>inf</td>\n",
              "    </tr>\n",
              "    <tr>\n",
              "      <th>1</th>\n",
              "      <td>b'10000,-0.5,0.5'</td>\n",
              "      <td>10000.0</td>\n",
              "      <td>-0.5</td>\n",
              "      <td>0.5</td>\n",
              "      <td>0.000000e+00</td>\n",
              "      <td>inf</td>\n",
              "      <td>0.000000e+00</td>\n",
              "      <td>inf</td>\n",
              "      <td>0.000000e+00</td>\n",
              "      <td>inf</td>\n",
              "      <td>...</td>\n",
              "      <td>0.000000e+00</td>\n",
              "      <td>inf</td>\n",
              "      <td>0.000000e+00</td>\n",
              "      <td>inf</td>\n",
              "      <td>0.000000e+00</td>\n",
              "      <td>inf</td>\n",
              "      <td>0.000000e+00</td>\n",
              "      <td>inf</td>\n",
              "      <td>0.000000e+00</td>\n",
              "      <td>inf</td>\n",
              "    </tr>\n",
              "    <tr>\n",
              "      <th>2</th>\n",
              "      <td>b'10000,-0.5,1.0'</td>\n",
              "      <td>10000.0</td>\n",
              "      <td>-0.5</td>\n",
              "      <td>1.0</td>\n",
              "      <td>0.000000e+00</td>\n",
              "      <td>inf</td>\n",
              "      <td>0.000000e+00</td>\n",
              "      <td>inf</td>\n",
              "      <td>0.000000e+00</td>\n",
              "      <td>inf</td>\n",
              "      <td>...</td>\n",
              "      <td>0.000000e+00</td>\n",
              "      <td>inf</td>\n",
              "      <td>0.000000e+00</td>\n",
              "      <td>inf</td>\n",
              "      <td>0.000000e+00</td>\n",
              "      <td>inf</td>\n",
              "      <td>0.000000e+00</td>\n",
              "      <td>inf</td>\n",
              "      <td>0.000000e+00</td>\n",
              "      <td>inf</td>\n",
              "    </tr>\n",
              "    <tr>\n",
              "      <th>3</th>\n",
              "      <td>b'10000,-0.5,1.5'</td>\n",
              "      <td>10000.0</td>\n",
              "      <td>-0.5</td>\n",
              "      <td>1.5</td>\n",
              "      <td>0.000000e+00</td>\n",
              "      <td>inf</td>\n",
              "      <td>0.000000e+00</td>\n",
              "      <td>inf</td>\n",
              "      <td>0.000000e+00</td>\n",
              "      <td>inf</td>\n",
              "      <td>...</td>\n",
              "      <td>0.000000e+00</td>\n",
              "      <td>inf</td>\n",
              "      <td>0.000000e+00</td>\n",
              "      <td>inf</td>\n",
              "      <td>0.000000e+00</td>\n",
              "      <td>inf</td>\n",
              "      <td>0.000000e+00</td>\n",
              "      <td>inf</td>\n",
              "      <td>0.000000e+00</td>\n",
              "      <td>inf</td>\n",
              "    </tr>\n",
              "    <tr>\n",
              "      <th>4</th>\n",
              "      <td>b'10000,-0.5,2.0'</td>\n",
              "      <td>10000.0</td>\n",
              "      <td>-0.5</td>\n",
              "      <td>2.0</td>\n",
              "      <td>6.930797e+22</td>\n",
              "      <td>-40.701892</td>\n",
              "      <td>5.508034e+22</td>\n",
              "      <td>-40.452426</td>\n",
              "      <td>4.467290e+22</td>\n",
              "      <td>-40.225045</td>\n",
              "      <td>...</td>\n",
              "      <td>4.467290e+22</td>\n",
              "      <td>-40.225045</td>\n",
              "      <td>4.035269e+22</td>\n",
              "      <td>-40.114616</td>\n",
              "      <td>3.658205e+22</td>\n",
              "      <td>-40.008105</td>\n",
              "      <td>1.956947e+22</td>\n",
              "      <td>-39.328882</td>\n",
              "      <td>8.701942e+21</td>\n",
              "      <td>-38.448975</td>\n",
              "    </tr>\n",
              "    <tr>\n",
              "      <th>...</th>\n",
              "      <td>...</td>\n",
              "      <td>...</td>\n",
              "      <td>...</td>\n",
              "      <td>...</td>\n",
              "      <td>...</td>\n",
              "      <td>...</td>\n",
              "      <td>...</td>\n",
              "      <td>...</td>\n",
              "      <td>...</td>\n",
              "      <td>...</td>\n",
              "      <td>...</td>\n",
              "      <td>...</td>\n",
              "      <td>...</td>\n",
              "      <td>...</td>\n",
              "      <td>...</td>\n",
              "      <td>...</td>\n",
              "      <td>...</td>\n",
              "      <td>...</td>\n",
              "      <td>...</td>\n",
              "      <td>...</td>\n",
              "      <td>...</td>\n",
              "    </tr>\n",
              "    <tr>\n",
              "      <th>6683</th>\n",
              "      <td>b'9750,0.5,3.0'</td>\n",
              "      <td>9750.0</td>\n",
              "      <td>0.5</td>\n",
              "      <td>3.0</td>\n",
              "      <td>7.168703e+22</td>\n",
              "      <td>-40.738536</td>\n",
              "      <td>5.567871e+22</td>\n",
              "      <td>-40.464157</td>\n",
              "      <td>4.446867e+22</td>\n",
              "      <td>-40.220070</td>\n",
              "      <td>...</td>\n",
              "      <td>4.446867e+22</td>\n",
              "      <td>-40.220070</td>\n",
              "      <td>3.952551e+22</td>\n",
              "      <td>-40.092128</td>\n",
              "      <td>3.663655e+22</td>\n",
              "      <td>-40.009721</td>\n",
              "      <td>1.455237e+22</td>\n",
              "      <td>-39.007269</td>\n",
              "      <td>5.022816e+21</td>\n",
              "      <td>-37.852303</td>\n",
              "    </tr>\n",
              "    <tr>\n",
              "      <th>6684</th>\n",
              "      <td>b'9750,0.5,3.5'</td>\n",
              "      <td>9750.0</td>\n",
              "      <td>0.5</td>\n",
              "      <td>3.5</td>\n",
              "      <td>7.152636e+22</td>\n",
              "      <td>-40.736100</td>\n",
              "      <td>5.572779e+22</td>\n",
              "      <td>-40.465114</td>\n",
              "      <td>4.460427e+22</td>\n",
              "      <td>-40.223375</td>\n",
              "      <td>...</td>\n",
              "      <td>4.460427e+22</td>\n",
              "      <td>-40.223375</td>\n",
              "      <td>3.914202e+22</td>\n",
              "      <td>-40.081542</td>\n",
              "      <td>3.645267e+22</td>\n",
              "      <td>-40.004258</td>\n",
              "      <td>1.504988e+22</td>\n",
              "      <td>-39.043767</td>\n",
              "      <td>4.969031e+21</td>\n",
              "      <td>-37.840614</td>\n",
              "    </tr>\n",
              "    <tr>\n",
              "      <th>6685</th>\n",
              "      <td>b'9750,0.5,4.0'</td>\n",
              "      <td>9750.0</td>\n",
              "      <td>0.5</td>\n",
              "      <td>4.0</td>\n",
              "      <td>7.111748e+22</td>\n",
              "      <td>-40.729875</td>\n",
              "      <td>5.590702e+22</td>\n",
              "      <td>-40.468600</td>\n",
              "      <td>4.493287e+22</td>\n",
              "      <td>-40.231345</td>\n",
              "      <td>...</td>\n",
              "      <td>4.493287e+22</td>\n",
              "      <td>-40.231345</td>\n",
              "      <td>3.891096e+22</td>\n",
              "      <td>-40.075114</td>\n",
              "      <td>3.625295e+22</td>\n",
              "      <td>-39.998293</td>\n",
              "      <td>1.572713e+22</td>\n",
              "      <td>-39.091558</td>\n",
              "      <td>4.733782e+21</td>\n",
              "      <td>-37.787955</td>\n",
              "    </tr>\n",
              "    <tr>\n",
              "      <th>6686</th>\n",
              "      <td>b'9750,0.5,4.5'</td>\n",
              "      <td>9750.0</td>\n",
              "      <td>0.5</td>\n",
              "      <td>4.5</td>\n",
              "      <td>7.051201e+22</td>\n",
              "      <td>-40.720592</td>\n",
              "      <td>5.617236e+22</td>\n",
              "      <td>-40.473741</td>\n",
              "      <td>4.538991e+22</td>\n",
              "      <td>-40.242333</td>\n",
              "      <td>...</td>\n",
              "      <td>4.538991e+22</td>\n",
              "      <td>-40.242333</td>\n",
              "      <td>3.884165e+22</td>\n",
              "      <td>-40.073179</td>\n",
              "      <td>3.602792e+22</td>\n",
              "      <td>-39.991532</td>\n",
              "      <td>1.651050e+22</td>\n",
              "      <td>-39.144335</td>\n",
              "      <td>4.328091e+21</td>\n",
              "      <td>-37.690675</td>\n",
              "    </tr>\n",
              "    <tr>\n",
              "      <th>6687</th>\n",
              "      <td>b'9750,0.5,5.0'</td>\n",
              "      <td>9750.0</td>\n",
              "      <td>0.5</td>\n",
              "      <td>5.0</td>\n",
              "      <td>6.967739e+22</td>\n",
              "      <td>-40.707664</td>\n",
              "      <td>5.645007e+22</td>\n",
              "      <td>-40.479096</td>\n",
              "      <td>4.591366e+22</td>\n",
              "      <td>-40.254789</td>\n",
              "      <td>...</td>\n",
              "      <td>4.591366e+22</td>\n",
              "      <td>-40.254789</td>\n",
              "      <td>3.892084e+22</td>\n",
              "      <td>-40.075390</td>\n",
              "      <td>3.576140e+22</td>\n",
              "      <td>-39.983471</td>\n",
              "      <td>1.734836e+22</td>\n",
              "      <td>-39.198081</td>\n",
              "      <td>3.792729e+21</td>\n",
              "      <td>-37.547314</td>\n",
              "    </tr>\n",
              "  </tbody>\n",
              "</table>\n",
              "<p>6688 rows × 32 columns</p>\n",
              "</div>\n",
              "      <button class=\"colab-df-convert\" onclick=\"convertToInteractive('df-4ff08ff3-e5be-4796-a542-d342de32747c')\"\n",
              "              title=\"Convert this dataframe to an interactive table.\"\n",
              "              style=\"display:none;\">\n",
              "        \n",
              "  <svg xmlns=\"http://www.w3.org/2000/svg\" height=\"24px\"viewBox=\"0 0 24 24\"\n",
              "       width=\"24px\">\n",
              "    <path d=\"M0 0h24v24H0V0z\" fill=\"none\"/>\n",
              "    <path d=\"M18.56 5.44l.94 2.06.94-2.06 2.06-.94-2.06-.94-.94-2.06-.94 2.06-2.06.94zm-11 1L8.5 8.5l.94-2.06 2.06-.94-2.06-.94L8.5 2.5l-.94 2.06-2.06.94zm10 10l.94 2.06.94-2.06 2.06-.94-2.06-.94-.94-2.06-.94 2.06-2.06.94z\"/><path d=\"M17.41 7.96l-1.37-1.37c-.4-.4-.92-.59-1.43-.59-.52 0-1.04.2-1.43.59L10.3 9.45l-7.72 7.72c-.78.78-.78 2.05 0 2.83L4 21.41c.39.39.9.59 1.41.59.51 0 1.02-.2 1.41-.59l7.78-7.78 2.81-2.81c.8-.78.8-2.07 0-2.86zM5.41 20L4 18.59l7.72-7.72 1.47 1.35L5.41 20z\"/>\n",
              "  </svg>\n",
              "      </button>\n",
              "      \n",
              "  <style>\n",
              "    .colab-df-container {\n",
              "      display:flex;\n",
              "      flex-wrap:wrap;\n",
              "      gap: 12px;\n",
              "    }\n",
              "\n",
              "    .colab-df-convert {\n",
              "      background-color: #E8F0FE;\n",
              "      border: none;\n",
              "      border-radius: 50%;\n",
              "      cursor: pointer;\n",
              "      display: none;\n",
              "      fill: #1967D2;\n",
              "      height: 32px;\n",
              "      padding: 0 0 0 0;\n",
              "      width: 32px;\n",
              "    }\n",
              "\n",
              "    .colab-df-convert:hover {\n",
              "      background-color: #E2EBFA;\n",
              "      box-shadow: 0px 1px 2px rgba(60, 64, 67, 0.3), 0px 1px 3px 1px rgba(60, 64, 67, 0.15);\n",
              "      fill: #174EA6;\n",
              "    }\n",
              "\n",
              "    [theme=dark] .colab-df-convert {\n",
              "      background-color: #3B4455;\n",
              "      fill: #D2E3FC;\n",
              "    }\n",
              "\n",
              "    [theme=dark] .colab-df-convert:hover {\n",
              "      background-color: #434B5C;\n",
              "      box-shadow: 0px 1px 3px 1px rgba(0, 0, 0, 0.15);\n",
              "      filter: drop-shadow(0px 1px 2px rgba(0, 0, 0, 0.3));\n",
              "      fill: #FFFFFF;\n",
              "    }\n",
              "  </style>\n",
              "\n",
              "      <script>\n",
              "        const buttonEl =\n",
              "          document.querySelector('#df-4ff08ff3-e5be-4796-a542-d342de32747c button.colab-df-convert');\n",
              "        buttonEl.style.display =\n",
              "          google.colab.kernel.accessAllowed ? 'block' : 'none';\n",
              "\n",
              "        async function convertToInteractive(key) {\n",
              "          const element = document.querySelector('#df-4ff08ff3-e5be-4796-a542-d342de32747c');\n",
              "          const dataTable =\n",
              "            await google.colab.kernel.invokeFunction('convertToInteractive',\n",
              "                                                     [key], {});\n",
              "          if (!dataTable) return;\n",
              "\n",
              "          const docLinkHtml = 'Like what you see? Visit the ' +\n",
              "            '<a target=\"_blank\" href=https://colab.research.google.com/notebooks/data_table.ipynb>data table notebook</a>'\n",
              "            + ' to learn more about interactive tables.';\n",
              "          element.innerHTML = '';\n",
              "          dataTable['output_type'] = 'display_data';\n",
              "          await google.colab.output.renderOutput(dataTable, element);\n",
              "          const docLink = document.createElement('div');\n",
              "          docLink.innerHTML = docLinkHtml;\n",
              "          element.appendChild(docLink);\n",
              "        }\n",
              "      </script>\n",
              "    </div>\n",
              "  </div>\n",
              "  "
            ]
          },
          "metadata": {},
          "execution_count": 16
        }
      ]
    },
    {
      "cell_type": "markdown",
      "source": [
        "#### **$Chi^2$ Fitting**"
      ],
      "metadata": {
        "id": "frY_Emt3XGFx"
      }
    },
    {
      "cell_type": "code",
      "source": [
        "def chi2_func(Md,flux,model_flux,flux_err):\n",
        "  chi = (flux - pow(10,Md)*model_flux)/flux_err\n",
        "  return chi@chi"
      ],
      "metadata": {
        "id": "nMSkaefTXciW"
      },
      "execution_count": 17,
      "outputs": []
    },
    {
      "cell_type": "code",
      "source": [
        "model_df[['PS1gflux','PS1rflux','PS1iflux','PS1zflux']]"
      ],
      "metadata": {
        "colab": {
          "base_uri": "https://localhost:8080/",
          "height": 424
        },
        "id": "DxDUeCZBYu2L",
        "outputId": "32b18a99-306f-44aa-b165-37d8abb1dc2b"
      },
      "execution_count": 18,
      "outputs": [
        {
          "output_type": "execute_result",
          "data": {
            "text/plain": [
              "          PS1gflux      PS1rflux      PS1iflux      PS1zflux\n",
              "0     0.000000e+00  0.000000e+00  0.000000e+00  0.000000e+00\n",
              "1     0.000000e+00  0.000000e+00  0.000000e+00  0.000000e+00\n",
              "2     0.000000e+00  0.000000e+00  0.000000e+00  0.000000e+00\n",
              "3     0.000000e+00  0.000000e+00  0.000000e+00  0.000000e+00\n",
              "4     6.930797e+22  5.508034e+22  4.467290e+22  4.035269e+22\n",
              "...            ...           ...           ...           ...\n",
              "6683  7.168703e+22  5.567871e+22  4.446867e+22  3.952551e+22\n",
              "6684  7.152636e+22  5.572779e+22  4.460427e+22  3.914202e+22\n",
              "6685  7.111748e+22  5.590702e+22  4.493287e+22  3.891096e+22\n",
              "6686  7.051201e+22  5.617236e+22  4.538991e+22  3.884165e+22\n",
              "6687  6.967739e+22  5.645007e+22  4.591366e+22  3.892084e+22\n",
              "\n",
              "[6688 rows x 4 columns]"
            ],
            "text/html": [
              "\n",
              "  <div id=\"df-3493e30a-40b1-4831-a10e-6a71fae8a015\">\n",
              "    <div class=\"colab-df-container\">\n",
              "      <div>\n",
              "<style scoped>\n",
              "    .dataframe tbody tr th:only-of-type {\n",
              "        vertical-align: middle;\n",
              "    }\n",
              "\n",
              "    .dataframe tbody tr th {\n",
              "        vertical-align: top;\n",
              "    }\n",
              "\n",
              "    .dataframe thead th {\n",
              "        text-align: right;\n",
              "    }\n",
              "</style>\n",
              "<table border=\"1\" class=\"dataframe\">\n",
              "  <thead>\n",
              "    <tr style=\"text-align: right;\">\n",
              "      <th></th>\n",
              "      <th>PS1gflux</th>\n",
              "      <th>PS1rflux</th>\n",
              "      <th>PS1iflux</th>\n",
              "      <th>PS1zflux</th>\n",
              "    </tr>\n",
              "  </thead>\n",
              "  <tbody>\n",
              "    <tr>\n",
              "      <th>0</th>\n",
              "      <td>0.000000e+00</td>\n",
              "      <td>0.000000e+00</td>\n",
              "      <td>0.000000e+00</td>\n",
              "      <td>0.000000e+00</td>\n",
              "    </tr>\n",
              "    <tr>\n",
              "      <th>1</th>\n",
              "      <td>0.000000e+00</td>\n",
              "      <td>0.000000e+00</td>\n",
              "      <td>0.000000e+00</td>\n",
              "      <td>0.000000e+00</td>\n",
              "    </tr>\n",
              "    <tr>\n",
              "      <th>2</th>\n",
              "      <td>0.000000e+00</td>\n",
              "      <td>0.000000e+00</td>\n",
              "      <td>0.000000e+00</td>\n",
              "      <td>0.000000e+00</td>\n",
              "    </tr>\n",
              "    <tr>\n",
              "      <th>3</th>\n",
              "      <td>0.000000e+00</td>\n",
              "      <td>0.000000e+00</td>\n",
              "      <td>0.000000e+00</td>\n",
              "      <td>0.000000e+00</td>\n",
              "    </tr>\n",
              "    <tr>\n",
              "      <th>4</th>\n",
              "      <td>6.930797e+22</td>\n",
              "      <td>5.508034e+22</td>\n",
              "      <td>4.467290e+22</td>\n",
              "      <td>4.035269e+22</td>\n",
              "    </tr>\n",
              "    <tr>\n",
              "      <th>...</th>\n",
              "      <td>...</td>\n",
              "      <td>...</td>\n",
              "      <td>...</td>\n",
              "      <td>...</td>\n",
              "    </tr>\n",
              "    <tr>\n",
              "      <th>6683</th>\n",
              "      <td>7.168703e+22</td>\n",
              "      <td>5.567871e+22</td>\n",
              "      <td>4.446867e+22</td>\n",
              "      <td>3.952551e+22</td>\n",
              "    </tr>\n",
              "    <tr>\n",
              "      <th>6684</th>\n",
              "      <td>7.152636e+22</td>\n",
              "      <td>5.572779e+22</td>\n",
              "      <td>4.460427e+22</td>\n",
              "      <td>3.914202e+22</td>\n",
              "    </tr>\n",
              "    <tr>\n",
              "      <th>6685</th>\n",
              "      <td>7.111748e+22</td>\n",
              "      <td>5.590702e+22</td>\n",
              "      <td>4.493287e+22</td>\n",
              "      <td>3.891096e+22</td>\n",
              "    </tr>\n",
              "    <tr>\n",
              "      <th>6686</th>\n",
              "      <td>7.051201e+22</td>\n",
              "      <td>5.617236e+22</td>\n",
              "      <td>4.538991e+22</td>\n",
              "      <td>3.884165e+22</td>\n",
              "    </tr>\n",
              "    <tr>\n",
              "      <th>6687</th>\n",
              "      <td>6.967739e+22</td>\n",
              "      <td>5.645007e+22</td>\n",
              "      <td>4.591366e+22</td>\n",
              "      <td>3.892084e+22</td>\n",
              "    </tr>\n",
              "  </tbody>\n",
              "</table>\n",
              "<p>6688 rows × 4 columns</p>\n",
              "</div>\n",
              "      <button class=\"colab-df-convert\" onclick=\"convertToInteractive('df-3493e30a-40b1-4831-a10e-6a71fae8a015')\"\n",
              "              title=\"Convert this dataframe to an interactive table.\"\n",
              "              style=\"display:none;\">\n",
              "        \n",
              "  <svg xmlns=\"http://www.w3.org/2000/svg\" height=\"24px\"viewBox=\"0 0 24 24\"\n",
              "       width=\"24px\">\n",
              "    <path d=\"M0 0h24v24H0V0z\" fill=\"none\"/>\n",
              "    <path d=\"M18.56 5.44l.94 2.06.94-2.06 2.06-.94-2.06-.94-.94-2.06-.94 2.06-2.06.94zm-11 1L8.5 8.5l.94-2.06 2.06-.94-2.06-.94L8.5 2.5l-.94 2.06-2.06.94zm10 10l.94 2.06.94-2.06 2.06-.94-2.06-.94-.94-2.06-.94 2.06-2.06.94z\"/><path d=\"M17.41 7.96l-1.37-1.37c-.4-.4-.92-.59-1.43-.59-.52 0-1.04.2-1.43.59L10.3 9.45l-7.72 7.72c-.78.78-.78 2.05 0 2.83L4 21.41c.39.39.9.59 1.41.59.51 0 1.02-.2 1.41-.59l7.78-7.78 2.81-2.81c.8-.78.8-2.07 0-2.86zM5.41 20L4 18.59l7.72-7.72 1.47 1.35L5.41 20z\"/>\n",
              "  </svg>\n",
              "      </button>\n",
              "      \n",
              "  <style>\n",
              "    .colab-df-container {\n",
              "      display:flex;\n",
              "      flex-wrap:wrap;\n",
              "      gap: 12px;\n",
              "    }\n",
              "\n",
              "    .colab-df-convert {\n",
              "      background-color: #E8F0FE;\n",
              "      border: none;\n",
              "      border-radius: 50%;\n",
              "      cursor: pointer;\n",
              "      display: none;\n",
              "      fill: #1967D2;\n",
              "      height: 32px;\n",
              "      padding: 0 0 0 0;\n",
              "      width: 32px;\n",
              "    }\n",
              "\n",
              "    .colab-df-convert:hover {\n",
              "      background-color: #E2EBFA;\n",
              "      box-shadow: 0px 1px 2px rgba(60, 64, 67, 0.3), 0px 1px 3px 1px rgba(60, 64, 67, 0.15);\n",
              "      fill: #174EA6;\n",
              "    }\n",
              "\n",
              "    [theme=dark] .colab-df-convert {\n",
              "      background-color: #3B4455;\n",
              "      fill: #D2E3FC;\n",
              "    }\n",
              "\n",
              "    [theme=dark] .colab-df-convert:hover {\n",
              "      background-color: #434B5C;\n",
              "      box-shadow: 0px 1px 3px 1px rgba(0, 0, 0, 0.15);\n",
              "      filter: drop-shadow(0px 1px 2px rgba(0, 0, 0, 0.3));\n",
              "      fill: #FFFFFF;\n",
              "    }\n",
              "  </style>\n",
              "\n",
              "      <script>\n",
              "        const buttonEl =\n",
              "          document.querySelector('#df-3493e30a-40b1-4831-a10e-6a71fae8a015 button.colab-df-convert');\n",
              "        buttonEl.style.display =\n",
              "          google.colab.kernel.accessAllowed ? 'block' : 'none';\n",
              "\n",
              "        async function convertToInteractive(key) {\n",
              "          const element = document.querySelector('#df-3493e30a-40b1-4831-a10e-6a71fae8a015');\n",
              "          const dataTable =\n",
              "            await google.colab.kernel.invokeFunction('convertToInteractive',\n",
              "                                                     [key], {});\n",
              "          if (!dataTable) return;\n",
              "\n",
              "          const docLinkHtml = 'Like what you see? Visit the ' +\n",
              "            '<a target=\"_blank\" href=https://colab.research.google.com/notebooks/data_table.ipynb>data table notebook</a>'\n",
              "            + ' to learn more about interactive tables.';\n",
              "          element.innerHTML = '';\n",
              "          dataTable['output_type'] = 'display_data';\n",
              "          await google.colab.output.renderOutput(dataTable, element);\n",
              "          const docLink = document.createElement('div');\n",
              "          docLink.innerHTML = docLinkHtml;\n",
              "          element.appendChild(docLink);\n",
              "        }\n",
              "      </script>\n",
              "    </div>\n",
              "  </div>\n",
              "  "
            ]
          },
          "metadata": {},
          "execution_count": 18
        }
      ]
    },
    {
      "cell_type": "code",
      "source": [
        "chi_set = []\n",
        "for i,row_source in df_star.iterrows():\n",
        "\n",
        "  flux     = row_source[['gPSFFlux', 'rPSFFlux', 'iPSFFlux', 'zPSFFlux']].values\n",
        "  flux_err = row_source[['gPSFFlux_err', 'rPSFFlux_err', 'iPSFFlux_err', 'zPSFFlux_err']].values\n",
        "\n",
        "  for j, row_model in model_df.iterrows():\n",
        "\n",
        "    model_flux = row_model[['PS1gflux','PS1rflux','PS1iflux','PS1zflux']].values\n",
        "\n",
        "    Md = minimize_scalar(chi2_func,args=(flux, model_flux, flux_err)).x\n",
        "    chi2       = chi2_func(Md,flux,model_flux,flux_err)\n",
        "    chi_set.append([row_source['objid'],row_model['INDEX'],Md,chi2])"
      ],
      "metadata": {
        "id": "4N-B0JJjX3eG"
      },
      "execution_count": 28,
      "outputs": []
    },
    {
      "cell_type": "code",
      "source": [
        "df_chi = pd.DataFrame(chi_set, columns = ['objid','model_name','Md','chi2'])"
      ],
      "metadata": {
        "id": "tct4Ltbxa1ZR"
      },
      "execution_count": 29,
      "outputs": []
    },
    {
      "cell_type": "code",
      "source": [
        "df_chi_min = df_chi[0:0]\n",
        "for i in df_chi['objid'].unique():\n",
        "  df_temp = df_chi[ df_chi['objid'] == i]\n",
        "  df_chi_min = df_chi_min.append(df_temp[df_temp['chi2']==df_temp['chi2'].min()])"
      ],
      "metadata": {
        "id": "XQQ9euGIa1ZS"
      },
      "execution_count": 30,
      "outputs": []
    },
    {
      "cell_type": "code",
      "source": [
        "df_chi_min"
      ],
      "metadata": {
        "colab": {
          "base_uri": "https://localhost:8080/",
          "height": 81
        },
        "id": "ZzNYZK_ylvbE",
        "outputId": "00a73df7-b9c5-4fbf-abda-69257ef319ec"
      },
      "execution_count": 31,
      "outputs": [
        {
          "output_type": "execute_result",
          "data": {
            "text/plain": [
              "                   objid       model_name         Md        chi2\n",
              "6587  157340109227129762  b'7500,0.5,4.5' -23.518157  151.294526"
            ],
            "text/html": [
              "\n",
              "  <div id=\"df-6e2268cd-3f60-474d-ab54-51fcf4b8987a\">\n",
              "    <div class=\"colab-df-container\">\n",
              "      <div>\n",
              "<style scoped>\n",
              "    .dataframe tbody tr th:only-of-type {\n",
              "        vertical-align: middle;\n",
              "    }\n",
              "\n",
              "    .dataframe tbody tr th {\n",
              "        vertical-align: top;\n",
              "    }\n",
              "\n",
              "    .dataframe thead th {\n",
              "        text-align: right;\n",
              "    }\n",
              "</style>\n",
              "<table border=\"1\" class=\"dataframe\">\n",
              "  <thead>\n",
              "    <tr style=\"text-align: right;\">\n",
              "      <th></th>\n",
              "      <th>objid</th>\n",
              "      <th>model_name</th>\n",
              "      <th>Md</th>\n",
              "      <th>chi2</th>\n",
              "    </tr>\n",
              "  </thead>\n",
              "  <tbody>\n",
              "    <tr>\n",
              "      <th>6587</th>\n",
              "      <td>157340109227129762</td>\n",
              "      <td>b'7500,0.5,4.5'</td>\n",
              "      <td>-23.518157</td>\n",
              "      <td>151.294526</td>\n",
              "    </tr>\n",
              "  </tbody>\n",
              "</table>\n",
              "</div>\n",
              "      <button class=\"colab-df-convert\" onclick=\"convertToInteractive('df-6e2268cd-3f60-474d-ab54-51fcf4b8987a')\"\n",
              "              title=\"Convert this dataframe to an interactive table.\"\n",
              "              style=\"display:none;\">\n",
              "        \n",
              "  <svg xmlns=\"http://www.w3.org/2000/svg\" height=\"24px\"viewBox=\"0 0 24 24\"\n",
              "       width=\"24px\">\n",
              "    <path d=\"M0 0h24v24H0V0z\" fill=\"none\"/>\n",
              "    <path d=\"M18.56 5.44l.94 2.06.94-2.06 2.06-.94-2.06-.94-.94-2.06-.94 2.06-2.06.94zm-11 1L8.5 8.5l.94-2.06 2.06-.94-2.06-.94L8.5 2.5l-.94 2.06-2.06.94zm10 10l.94 2.06.94-2.06 2.06-.94-2.06-.94-.94-2.06-.94 2.06-2.06.94z\"/><path d=\"M17.41 7.96l-1.37-1.37c-.4-.4-.92-.59-1.43-.59-.52 0-1.04.2-1.43.59L10.3 9.45l-7.72 7.72c-.78.78-.78 2.05 0 2.83L4 21.41c.39.39.9.59 1.41.59.51 0 1.02-.2 1.41-.59l7.78-7.78 2.81-2.81c.8-.78.8-2.07 0-2.86zM5.41 20L4 18.59l7.72-7.72 1.47 1.35L5.41 20z\"/>\n",
              "  </svg>\n",
              "      </button>\n",
              "      \n",
              "  <style>\n",
              "    .colab-df-container {\n",
              "      display:flex;\n",
              "      flex-wrap:wrap;\n",
              "      gap: 12px;\n",
              "    }\n",
              "\n",
              "    .colab-df-convert {\n",
              "      background-color: #E8F0FE;\n",
              "      border: none;\n",
              "      border-radius: 50%;\n",
              "      cursor: pointer;\n",
              "      display: none;\n",
              "      fill: #1967D2;\n",
              "      height: 32px;\n",
              "      padding: 0 0 0 0;\n",
              "      width: 32px;\n",
              "    }\n",
              "\n",
              "    .colab-df-convert:hover {\n",
              "      background-color: #E2EBFA;\n",
              "      box-shadow: 0px 1px 2px rgba(60, 64, 67, 0.3), 0px 1px 3px 1px rgba(60, 64, 67, 0.15);\n",
              "      fill: #174EA6;\n",
              "    }\n",
              "\n",
              "    [theme=dark] .colab-df-convert {\n",
              "      background-color: #3B4455;\n",
              "      fill: #D2E3FC;\n",
              "    }\n",
              "\n",
              "    [theme=dark] .colab-df-convert:hover {\n",
              "      background-color: #434B5C;\n",
              "      box-shadow: 0px 1px 3px 1px rgba(0, 0, 0, 0.15);\n",
              "      filter: drop-shadow(0px 1px 2px rgba(0, 0, 0, 0.3));\n",
              "      fill: #FFFFFF;\n",
              "    }\n",
              "  </style>\n",
              "\n",
              "      <script>\n",
              "        const buttonEl =\n",
              "          document.querySelector('#df-6e2268cd-3f60-474d-ab54-51fcf4b8987a button.colab-df-convert');\n",
              "        buttonEl.style.display =\n",
              "          google.colab.kernel.accessAllowed ? 'block' : 'none';\n",
              "\n",
              "        async function convertToInteractive(key) {\n",
              "          const element = document.querySelector('#df-6e2268cd-3f60-474d-ab54-51fcf4b8987a');\n",
              "          const dataTable =\n",
              "            await google.colab.kernel.invokeFunction('convertToInteractive',\n",
              "                                                     [key], {});\n",
              "          if (!dataTable) return;\n",
              "\n",
              "          const docLinkHtml = 'Like what you see? Visit the ' +\n",
              "            '<a target=\"_blank\" href=https://colab.research.google.com/notebooks/data_table.ipynb>data table notebook</a>'\n",
              "            + ' to learn more about interactive tables.';\n",
              "          element.innerHTML = '';\n",
              "          dataTable['output_type'] = 'display_data';\n",
              "          await google.colab.output.renderOutput(dataTable, element);\n",
              "          const docLink = document.createElement('div');\n",
              "          docLink.innerHTML = docLinkHtml;\n",
              "          element.appendChild(docLink);\n",
              "        }\n",
              "      </script>\n",
              "    </div>\n",
              "  </div>\n",
              "  "
            ]
          },
          "metadata": {},
          "execution_count": 31
        }
      ]
    },
    {
      "cell_type": "markdown",
      "source": [
        "# **SED Fitting Routine**"
      ],
      "metadata": {
        "id": "DZz_lg2LgAeH"
      }
    },
    {
      "cell_type": "markdown",
      "source": [
        "EMCEE : Bayesian. "
      ],
      "metadata": {
        "id": "1zoGmWyp_rhl"
      }
    },
    {
      "cell_type": "markdown",
      "source": [
        "#### **Without UV**"
      ],
      "metadata": {
        "id": "iSYz8ahu-kvc"
      }
    },
    {
      "cell_type": "code",
      "source": [
        "df_star = df_star.reset_index()"
      ],
      "metadata": {
        "id": "6MFlhQNQ6Q6R"
      },
      "execution_count": null,
      "outputs": []
    },
    {
      "cell_type": "code",
      "source": [
        "for i in ['g','r','i','z','y']:\n",
        "  df_star[f'{i}PSFFlux']     = 3631*pow(10,-df_star[f'{i}PSFMag']/2.5)*1000            #mJy\n",
        "\n",
        "  df_star[f'{i}PSFFlux_err'] = (df_star[f'{i}PSFMagErr']*df_star[f'{i}PSFFlux'])/1.09  #mJy"
      ],
      "metadata": {
        "id": "387c96A46Q6S"
      },
      "execution_count": null,
      "outputs": []
    },
    {
      "cell_type": "markdown",
      "source": [
        "##### **Without Av**"
      ],
      "metadata": {
        "id": "WQrCLm-A6k6J"
      }
    },
    {
      "cell_type": "code",
      "source": [
        "def chi2_func(Md,flux,model_flux,flux_err):\n",
        "  chi = (flux - Md*model_flux)/flux_err\n",
        "  return chi@chi"
      ],
      "metadata": {
        "id": "6Ncs6VwBZhN5"
      },
      "execution_count": null,
      "outputs": []
    },
    {
      "cell_type": "code",
      "source": [
        "# Convolved Filters\n",
        "\n",
        "f1 = Table.read('models_kurucz/convolved/PS1g.fits',hdu=1)['TOTAL_FLUX'].value[:,0]\n",
        "f2 = Table.read('models_kurucz/convolved/PS1r.fits',hdu=1)['TOTAL_FLUX'].value[:,0]\n",
        "f3 = Table.read('models_kurucz/convolved/PS1i.fits',hdu=1)['TOTAL_FLUX'].value[:,0]\n",
        "f4 = Table.read('models_kurucz/convolved/PS1z.fits',hdu=1)['TOTAL_FLUX'].value[:,0]\n",
        "f5 = Table.read('models_kurucz/convolved/PS1y.fits',hdu=1)['TOTAL_FLUX'].value[:,0]\n",
        "\n",
        "model_name = [ i  for i in Table.read('models_kurucz/convolved/PS1g.fits',hdu=1)['MODEL_NAME']]\n",
        "chi_set = []\n",
        "\n",
        "# Chi2 loop : Takes about 5 minutes with current settings\n",
        "for i,row in df_star.iterrows():\n",
        "  flux     = row[['gPSFFlux', 'rPSFFlux', 'iPSFFlux', 'zPSFFlux']].values\n",
        "  flux_err = row[['gPSFFlux_err', 'rPSFFlux_err', 'iPSFFlux_err', 'zPSFFlux_err']].values\n",
        "\n",
        "  for j,model_flux in enumerate(zip(f1,f2,f3,f4)):\n",
        "    model_flux = np.array(model_flux)\n",
        "    \n",
        "    Md = minimize_scalar(chi2_func,args=(flux,model_flux,flux_err)).x\n",
        "    \n",
        "    chi2   = chi2_func(Md,flux,model_flux,flux_err)\n",
        "    chi_set.append([row['objid'],model_name[j],Md,chi2])"
      ],
      "metadata": {
        "id": "KJl-6PRgSPPr"
      },
      "execution_count": null,
      "outputs": []
    },
    {
      "cell_type": "code",
      "source": [
        "df_chi = pd.DataFrame(chi_set, columns = ['objid','model_name','Md','chi2'])"
      ],
      "metadata": {
        "id": "Id5BL9rDcx8_"
      },
      "execution_count": null,
      "outputs": []
    },
    {
      "cell_type": "code",
      "source": [
        "df_chi_min = df_chi[0:0]\n",
        "for i in df_chi['objid'].unique():\n",
        "  df_temp = df_chi[ df_chi['objid'] == i]\n",
        "  df_chi_min = df_chi_min.append(df_temp[df_temp['chi2']==df_temp['chi2'].min()])"
      ],
      "metadata": {
        "id": "UYajgAQl-2by"
      },
      "execution_count": null,
      "outputs": []
    },
    {
      "cell_type": "code",
      "source": [
        "df_chi_min "
      ],
      "metadata": {
        "colab": {
          "base_uri": "https://localhost:8080/",
          "height": 363
        },
        "id": "IK_dUxZw-3wh",
        "outputId": "72ed333b-9a12-4c4b-cc04-83b83aedac2d"
      },
      "execution_count": null,
      "outputs": [
        {
          "output_type": "execute_result",
          "data": {
            "text/html": [
              "\n",
              "  <div id=\"df-53b0b497-993f-4d68-befa-37ebfccce0d7\">\n",
              "    <div class=\"colab-df-container\">\n",
              "      <div>\n",
              "<style scoped>\n",
              "    .dataframe tbody tr th:only-of-type {\n",
              "        vertical-align: middle;\n",
              "    }\n",
              "\n",
              "    .dataframe tbody tr th {\n",
              "        vertical-align: top;\n",
              "    }\n",
              "\n",
              "    .dataframe thead th {\n",
              "        text-align: right;\n",
              "    }\n",
              "</style>\n",
              "<table border=\"1\" class=\"dataframe\">\n",
              "  <thead>\n",
              "    <tr style=\"text-align: right;\">\n",
              "      <th></th>\n",
              "      <th>objid</th>\n",
              "      <th>model_name</th>\n",
              "      <th>Md</th>\n",
              "      <th>chi2</th>\n",
              "    </tr>\n",
              "  </thead>\n",
              "  <tbody>\n",
              "    <tr>\n",
              "      <th>1434</th>\n",
              "      <td>157340109227129762</td>\n",
              "      <td>kt07500g+4.5z+0.5</td>\n",
              "      <td>0.006007</td>\n",
              "      <td>129.188182</td>\n",
              "    </tr>\n",
              "    <tr>\n",
              "      <th>5594</th>\n",
              "      <td>157350108218814598</td>\n",
              "      <td>kt08750g+5.0z+0.5</td>\n",
              "      <td>0.001600</td>\n",
              "      <td>42.080573</td>\n",
              "    </tr>\n",
              "    <tr>\n",
              "      <th>8994</th>\n",
              "      <td>157370109140545982</td>\n",
              "      <td>kt07500g+1.0z+0.5</td>\n",
              "      <td>0.004211</td>\n",
              "      <td>11.711089</td>\n",
              "    </tr>\n",
              "    <tr>\n",
              "      <th>13330</th>\n",
              "      <td>157370109233994618</td>\n",
              "      <td>kt09250g+5.0z+0.5</td>\n",
              "      <td>0.000810</td>\n",
              "      <td>2.865534</td>\n",
              "    </tr>\n",
              "    <tr>\n",
              "      <th>18642</th>\n",
              "      <td>157380108253555129</td>\n",
              "      <td>kt30000g+5.0z+0.5</td>\n",
              "      <td>0.000122</td>\n",
              "      <td>33.548876</td>\n",
              "    </tr>\n",
              "    <tr>\n",
              "      <th>20910</th>\n",
              "      <td>157380109041666548</td>\n",
              "      <td>kt09250g+2.5z-2.0</td>\n",
              "      <td>0.000661</td>\n",
              "      <td>27.096881</td>\n",
              "    </tr>\n",
              "    <tr>\n",
              "      <th>23914</th>\n",
              "      <td>157380109152072565</td>\n",
              "      <td>kt06500g+1.5z+0.5</td>\n",
              "      <td>0.007069</td>\n",
              "      <td>39.765395</td>\n",
              "    </tr>\n",
              "    <tr>\n",
              "      <th>29486</th>\n",
              "      <td>157380109682042534</td>\n",
              "      <td>kt16000g+3.0z-2.0</td>\n",
              "      <td>0.000360</td>\n",
              "      <td>39.190511</td>\n",
              "    </tr>\n",
              "    <tr>\n",
              "      <th>31594</th>\n",
              "      <td>157390108841348391</td>\n",
              "      <td>kt06750g+0.5z+0.5</td>\n",
              "      <td>0.004714</td>\n",
              "      <td>145.152360</td>\n",
              "    </tr>\n",
              "    <tr>\n",
              "      <th>36402</th>\n",
              "      <td>157390108898417576</td>\n",
              "      <td>kt10250g+5.0z+0.5</td>\n",
              "      <td>0.000927</td>\n",
              "      <td>315.386455</td>\n",
              "    </tr>\n",
              "  </tbody>\n",
              "</table>\n",
              "</div>\n",
              "      <button class=\"colab-df-convert\" onclick=\"convertToInteractive('df-53b0b497-993f-4d68-befa-37ebfccce0d7')\"\n",
              "              title=\"Convert this dataframe to an interactive table.\"\n",
              "              style=\"display:none;\">\n",
              "        \n",
              "  <svg xmlns=\"http://www.w3.org/2000/svg\" height=\"24px\"viewBox=\"0 0 24 24\"\n",
              "       width=\"24px\">\n",
              "    <path d=\"M0 0h24v24H0V0z\" fill=\"none\"/>\n",
              "    <path d=\"M18.56 5.44l.94 2.06.94-2.06 2.06-.94-2.06-.94-.94-2.06-.94 2.06-2.06.94zm-11 1L8.5 8.5l.94-2.06 2.06-.94-2.06-.94L8.5 2.5l-.94 2.06-2.06.94zm10 10l.94 2.06.94-2.06 2.06-.94-2.06-.94-.94-2.06-.94 2.06-2.06.94z\"/><path d=\"M17.41 7.96l-1.37-1.37c-.4-.4-.92-.59-1.43-.59-.52 0-1.04.2-1.43.59L10.3 9.45l-7.72 7.72c-.78.78-.78 2.05 0 2.83L4 21.41c.39.39.9.59 1.41.59.51 0 1.02-.2 1.41-.59l7.78-7.78 2.81-2.81c.8-.78.8-2.07 0-2.86zM5.41 20L4 18.59l7.72-7.72 1.47 1.35L5.41 20z\"/>\n",
              "  </svg>\n",
              "      </button>\n",
              "      \n",
              "  <style>\n",
              "    .colab-df-container {\n",
              "      display:flex;\n",
              "      flex-wrap:wrap;\n",
              "      gap: 12px;\n",
              "    }\n",
              "\n",
              "    .colab-df-convert {\n",
              "      background-color: #E8F0FE;\n",
              "      border: none;\n",
              "      border-radius: 50%;\n",
              "      cursor: pointer;\n",
              "      display: none;\n",
              "      fill: #1967D2;\n",
              "      height: 32px;\n",
              "      padding: 0 0 0 0;\n",
              "      width: 32px;\n",
              "    }\n",
              "\n",
              "    .colab-df-convert:hover {\n",
              "      background-color: #E2EBFA;\n",
              "      box-shadow: 0px 1px 2px rgba(60, 64, 67, 0.3), 0px 1px 3px 1px rgba(60, 64, 67, 0.15);\n",
              "      fill: #174EA6;\n",
              "    }\n",
              "\n",
              "    [theme=dark] .colab-df-convert {\n",
              "      background-color: #3B4455;\n",
              "      fill: #D2E3FC;\n",
              "    }\n",
              "\n",
              "    [theme=dark] .colab-df-convert:hover {\n",
              "      background-color: #434B5C;\n",
              "      box-shadow: 0px 1px 3px 1px rgba(0, 0, 0, 0.15);\n",
              "      filter: drop-shadow(0px 1px 2px rgba(0, 0, 0, 0.3));\n",
              "      fill: #FFFFFF;\n",
              "    }\n",
              "  </style>\n",
              "\n",
              "      <script>\n",
              "        const buttonEl =\n",
              "          document.querySelector('#df-53b0b497-993f-4d68-befa-37ebfccce0d7 button.colab-df-convert');\n",
              "        buttonEl.style.display =\n",
              "          google.colab.kernel.accessAllowed ? 'block' : 'none';\n",
              "\n",
              "        async function convertToInteractive(key) {\n",
              "          const element = document.querySelector('#df-53b0b497-993f-4d68-befa-37ebfccce0d7');\n",
              "          const dataTable =\n",
              "            await google.colab.kernel.invokeFunction('convertToInteractive',\n",
              "                                                     [key], {});\n",
              "          if (!dataTable) return;\n",
              "\n",
              "          const docLinkHtml = 'Like what you see? Visit the ' +\n",
              "            '<a target=\"_blank\" href=https://colab.research.google.com/notebooks/data_table.ipynb>data table notebook</a>'\n",
              "            + ' to learn more about interactive tables.';\n",
              "          element.innerHTML = '';\n",
              "          dataTable['output_type'] = 'display_data';\n",
              "          await google.colab.output.renderOutput(dataTable, element);\n",
              "          const docLink = document.createElement('div');\n",
              "          docLink.innerHTML = docLinkHtml;\n",
              "          element.appendChild(docLink);\n",
              "        }\n",
              "      </script>\n",
              "    </div>\n",
              "  </div>\n",
              "  "
            ],
            "text/plain": [
              "                    objid         model_name        Md        chi2\n",
              "1434   157340109227129762  kt07500g+4.5z+0.5  0.006007  129.188182\n",
              "5594   157350108218814598  kt08750g+5.0z+0.5  0.001600   42.080573\n",
              "8994   157370109140545982  kt07500g+1.0z+0.5  0.004211   11.711089\n",
              "13330  157370109233994618  kt09250g+5.0z+0.5  0.000810    2.865534\n",
              "18642  157380108253555129  kt30000g+5.0z+0.5  0.000122   33.548876\n",
              "20910  157380109041666548  kt09250g+2.5z-2.0  0.000661   27.096881\n",
              "23914  157380109152072565  kt06500g+1.5z+0.5  0.007069   39.765395\n",
              "29486  157380109682042534  kt16000g+3.0z-2.0  0.000360   39.190511\n",
              "31594  157390108841348391  kt06750g+0.5z+0.5  0.004714  145.152360\n",
              "36402  157390108898417576  kt10250g+5.0z+0.5  0.000927  315.386455"
            ]
          },
          "metadata": {},
          "execution_count": 108
        }
      ]
    },
    {
      "cell_type": "code",
      "source": [
        "FUV = Table.read('models_kurucz/convolved/UVIT_FUV.fits',hdu=1) \n",
        "NUV = Table.read('models_kurucz/convolved/UVIT_NUV.fits',hdu=1) \n",
        "f1 = Table.read('models_kurucz/convolved/PS1g.fits',hdu=1)\n",
        "f2 = Table.read('models_kurucz/convolved/PS1r.fits',hdu=1)\n",
        "f3 = Table.read('models_kurucz/convolved/PS1i.fits',hdu=1)\n",
        "f4 = Table.read('models_kurucz/convolved/PS1z.fits',hdu=1)\n",
        "f5 = Table.read('models_kurucz/convolved/PS1y.fits',hdu=1)\n",
        "\n",
        "\n",
        "flux     = []\n",
        "flux_err = []\n",
        "Mds      = []\n",
        "model_names = []\n",
        "for i,row in df_chi_min.iterrows():\n",
        "  model_name = row['model_name']\n",
        "  Md         = row['Md']\n",
        "\n",
        "  fuv =[FUV[FUV['MODEL_NAME'] == model_name]['TOTAL_FLUX'].value[0][0] , FUV[FUV['MODEL_NAME'] == model_name]['TOTAL_FLUX_ERR'].value[0][0]]\n",
        "  nuv =[NUV[NUV['MODEL_NAME'] == model_name]['TOTAL_FLUX'].value[0][0] , NUV[NUV['MODEL_NAME'] == model_name]['TOTAL_FLUX_ERR'].value[0][0]]\n",
        "  g = [f1[f1['MODEL_NAME'] == model_name]['TOTAL_FLUX'].value[0][0] , f1[f1['MODEL_NAME'] == model_name]['TOTAL_FLUX_ERR'].value[0][0]]\n",
        "  r = [f2[f2['MODEL_NAME'] == model_name]['TOTAL_FLUX'].value[0][0] , f2[f2['MODEL_NAME'] == model_name]['TOTAL_FLUX_ERR'].value[0][0]]\n",
        "  i = [f3[f3['MODEL_NAME'] == model_name]['TOTAL_FLUX'].value[0][0] , f3[f3['MODEL_NAME'] == model_name]['TOTAL_FLUX_ERR'].value[0][0]]\n",
        "  z = [f4[f4['MODEL_NAME'] == model_name]['TOTAL_FLUX'].value[0][0] , f4[f4['MODEL_NAME'] == model_name]['TOTAL_FLUX_ERR'].value[0][0]]\n",
        "  y = [f5[f5['MODEL_NAME'] == model_name]['TOTAL_FLUX'].value[0][0] , f5[f5['MODEL_NAME'] == model_name]['TOTAL_FLUX_ERR'].value[0][0]]\n",
        "  fuv =[FUV[FUV['MODEL_NAME'] == model_name]['TOTAL_FLUX'].value[0][0] , FUV[FUV['MODEL_NAME'] == model_name]['TOTAL_FLUX_ERR'].value[0][0]]\n",
        "\n",
        "  flux.append([fuv[0], nuv[0], g[0], r[0], i[0], z[0], y[0]])\n",
        "\n",
        "  flux_err.append([fuv[1], nuv[1], g[1], r[1], i[1], z[1], y[1]])\n",
        "\n",
        "  Mds.append(Md)\n",
        "\n",
        "flux = np.array(flux)\n",
        "\n",
        "flux_err = np.array(flux_err)\n",
        "\n",
        "Mds = np.array(Mds)"
      ],
      "metadata": {
        "id": "TZqco-0ImBGy"
      },
      "execution_count": null,
      "outputs": []
    },
    {
      "cell_type": "code",
      "source": [
        "df_star['FUVmag_pred'] = -2.5*np.log10((flux[:,0]*Mds)/3631e3)\n",
        "\n",
        "df_star['NUVmag_pred'] = -2.5*np.log10((flux[:,1]*Mds)/3631e3)\n",
        "\n",
        "df_star['chi2'] = df_chi_min['chi2'].values"
      ],
      "metadata": {
        "id": "1nt0vttwmPiB"
      },
      "execution_count": null,
      "outputs": []
    },
    {
      "cell_type": "code",
      "source": [
        "diff = df_star['ABmag1'] - df_star['FUVmag_pred']\n",
        "plt.plot(diff,'o-')\n",
        "\n",
        "diff = df_star['ABmag2'] - df_star['NUVmag_pred']\n",
        "\n",
        "plt.plot(diff,'o-')\n",
        "\n",
        "plt.legend(['FUV','NUV'])\n",
        "\n",
        "plt.xlabel('Sources')\n",
        "\n",
        "plt.title('Without Av')"
      ],
      "metadata": {
        "colab": {
          "base_uri": "https://localhost:8080/",
          "height": 642
        },
        "id": "o0tzpHTlm4Jv",
        "outputId": "9d0f2a77-d216-4b91-826e-806e8fc8c03b"
      },
      "execution_count": null,
      "outputs": [
        {
          "output_type": "execute_result",
          "data": {
            "text/plain": [
              "Text(0.5, 1.0, 'Without Av')"
            ]
          },
          "metadata": {},
          "execution_count": 111
        },
        {
          "output_type": "display_data",
          "data": {
            "image/png": "[encoded data removed]",
            "text/plain": [
              "<Figure size 1080x720 with 1 Axes>"
            ]
          },
          "metadata": {}
        }
      ]
    },
    {
      "cell_type": "code",
      "source": [
        "df_star[['objid','ABmag1','FUVmag_pred','ABmag2','NUVmag_pred','chi2']]"
      ],
      "metadata": {
        "id": "fg1Jq_FdnSna",
        "outputId": "ec6e3532-dd35-4000-a313-8ac67c36db60",
        "colab": {
          "base_uri": "https://localhost:8080/",
          "height": 363
        }
      },
      "execution_count": null,
      "outputs": [
        {
          "output_type": "execute_result",
          "data": {
            "text/html": [
              "\n",
              "  <div id=\"df-00c15ade-d877-41db-9b7a-30301c951f18\">\n",
              "    <div class=\"colab-df-container\">\n",
              "      <div>\n",
              "<style scoped>\n",
              "    .dataframe tbody tr th:only-of-type {\n",
              "        vertical-align: middle;\n",
              "    }\n",
              "\n",
              "    .dataframe tbody tr th {\n",
              "        vertical-align: top;\n",
              "    }\n",
              "\n",
              "    .dataframe thead th {\n",
              "        text-align: right;\n",
              "    }\n",
              "</style>\n",
              "<table border=\"1\" class=\"dataframe\">\n",
              "  <thead>\n",
              "    <tr style=\"text-align: right;\">\n",
              "      <th></th>\n",
              "      <th>objid</th>\n",
              "      <th>ABmag1</th>\n",
              "      <th>FUVmag_pred</th>\n",
              "      <th>ABmag2</th>\n",
              "      <th>NUVmag_pred</th>\n",
              "      <th>chi2</th>\n",
              "    </tr>\n",
              "  </thead>\n",
              "  <tbody>\n",
              "    <tr>\n",
              "      <th>0</th>\n",
              "      <td>157340109227129762</td>\n",
              "      <td>22.156</td>\n",
              "      <td>27.682612</td>\n",
              "      <td>20.267</td>\n",
              "      <td>21.685585</td>\n",
              "      <td>129.188182</td>\n",
              "    </tr>\n",
              "    <tr>\n",
              "      <th>1</th>\n",
              "      <td>157350108218814598</td>\n",
              "      <td>22.973</td>\n",
              "      <td>25.274757</td>\n",
              "      <td>20.959</td>\n",
              "      <td>21.767460</td>\n",
              "      <td>42.080573</td>\n",
              "    </tr>\n",
              "    <tr>\n",
              "      <th>2</th>\n",
              "      <td>157370109140545982</td>\n",
              "      <td>21.984</td>\n",
              "      <td>27.707778</td>\n",
              "      <td>20.669</td>\n",
              "      <td>23.108514</td>\n",
              "      <td>11.711089</td>\n",
              "    </tr>\n",
              "    <tr>\n",
              "      <th>3</th>\n",
              "      <td>157370109233994618</td>\n",
              "      <td>21.955</td>\n",
              "      <td>24.560651</td>\n",
              "      <td>20.833</td>\n",
              "      <td>22.119675</td>\n",
              "      <td>2.865534</td>\n",
              "    </tr>\n",
              "    <tr>\n",
              "      <th>4</th>\n",
              "      <td>157380108253555129</td>\n",
              "      <td>21.068</td>\n",
              "      <td>18.704944</td>\n",
              "      <td>19.989</td>\n",
              "      <td>19.296730</td>\n",
              "      <td>33.548876</td>\n",
              "    </tr>\n",
              "    <tr>\n",
              "      <th>5</th>\n",
              "      <td>157380109041666548</td>\n",
              "      <td>20.982</td>\n",
              "      <td>23.321835</td>\n",
              "      <td>20.423</td>\n",
              "      <td>22.396773</td>\n",
              "      <td>27.096881</td>\n",
              "    </tr>\n",
              "    <tr>\n",
              "      <th>6</th>\n",
              "      <td>157380109152072565</td>\n",
              "      <td>22.216</td>\n",
              "      <td>32.286424</td>\n",
              "      <td>20.471</td>\n",
              "      <td>24.264151</td>\n",
              "      <td>39.765395</td>\n",
              "    </tr>\n",
              "    <tr>\n",
              "      <th>7</th>\n",
              "      <td>157380109682042534</td>\n",
              "      <td>20.445</td>\n",
              "      <td>20.324139</td>\n",
              "      <td>19.935</td>\n",
              "      <td>20.358100</td>\n",
              "      <td>39.190511</td>\n",
              "    </tr>\n",
              "    <tr>\n",
              "      <th>8</th>\n",
              "      <td>157390108841348391</td>\n",
              "      <td>20.654</td>\n",
              "      <td>31.399739</td>\n",
              "      <td>19.753</td>\n",
              "      <td>24.523585</td>\n",
              "      <td>145.152360</td>\n",
              "    </tr>\n",
              "    <tr>\n",
              "      <th>9</th>\n",
              "      <td>157390108898417576</td>\n",
              "      <td>20.115</td>\n",
              "      <td>22.467006</td>\n",
              "      <td>19.719</td>\n",
              "      <td>21.347925</td>\n",
              "      <td>315.386455</td>\n",
              "    </tr>\n",
              "  </tbody>\n",
              "</table>\n",
              "</div>\n",
              "      <button class=\"colab-df-convert\" onclick=\"convertToInteractive('df-00c15ade-d877-41db-9b7a-30301c951f18')\"\n",
              "              title=\"Convert this dataframe to an interactive table.\"\n",
              "              style=\"display:none;\">\n",
              "        \n",
              "  <svg xmlns=\"http://www.w3.org/2000/svg\" height=\"24px\"viewBox=\"0 0 24 24\"\n",
              "       width=\"24px\">\n",
              "    <path d=\"M0 0h24v24H0V0z\" fill=\"none\"/>\n",
              "    <path d=\"M18.56 5.44l.94 2.06.94-2.06 2.06-.94-2.06-.94-.94-2.06-.94 2.06-2.06.94zm-11 1L8.5 8.5l.94-2.06 2.06-.94-2.06-.94L8.5 2.5l-.94 2.06-2.06.94zm10 10l.94 2.06.94-2.06 2.06-.94-2.06-.94-.94-2.06-.94 2.06-2.06.94z\"/><path d=\"M17.41 7.96l-1.37-1.37c-.4-.4-.92-.59-1.43-.59-.52 0-1.04.2-1.43.59L10.3 9.45l-7.72 7.72c-.78.78-.78 2.05 0 2.83L4 21.41c.39.39.9.59 1.41.59.51 0 1.02-.2 1.41-.59l7.78-7.78 2.81-2.81c.8-.78.8-2.07 0-2.86zM5.41 20L4 18.59l7.72-7.72 1.47 1.35L5.41 20z\"/>\n",
              "  </svg>\n",
              "      </button>\n",
              "      \n",
              "  <style>\n",
              "    .colab-df-container {\n",
              "      display:flex;\n",
              "      flex-wrap:wrap;\n",
              "      gap: 12px;\n",
              "    }\n",
              "\n",
              "    .colab-df-convert {\n",
              "      background-color: #E8F0FE;\n",
              "      border: none;\n",
              "      border-radius: 50%;\n",
              "      cursor: pointer;\n",
              "      display: none;\n",
              "      fill: #1967D2;\n",
              "      height: 32px;\n",
              "      padding: 0 0 0 0;\n",
              "      width: 32px;\n",
              "    }\n",
              "\n",
              "    .colab-df-convert:hover {\n",
              "      background-color: #E2EBFA;\n",
              "      box-shadow: 0px 1px 2px rgba(60, 64, 67, 0.3), 0px 1px 3px 1px rgba(60, 64, 67, 0.15);\n",
              "      fill: #174EA6;\n",
              "    }\n",
              "\n",
              "    [theme=dark] .colab-df-convert {\n",
              "      background-color: #3B4455;\n",
              "      fill: #D2E3FC;\n",
              "    }\n",
              "\n",
              "    [theme=dark] .colab-df-convert:hover {\n",
              "      background-color: #434B5C;\n",
              "      box-shadow: 0px 1px 3px 1px rgba(0, 0, 0, 0.15);\n",
              "      filter: drop-shadow(0px 1px 2px rgba(0, 0, 0, 0.3));\n",
              "      fill: #FFFFFF;\n",
              "    }\n",
              "  </style>\n",
              "\n",
              "      <script>\n",
              "        const buttonEl =\n",
              "          document.querySelector('#df-00c15ade-d877-41db-9b7a-30301c951f18 button.colab-df-convert');\n",
              "        buttonEl.style.display =\n",
              "          google.colab.kernel.accessAllowed ? 'block' : 'none';\n",
              "\n",
              "        async function convertToInteractive(key) {\n",
              "          const element = document.querySelector('#df-00c15ade-d877-41db-9b7a-30301c951f18');\n",
              "          const dataTable =\n",
              "            await google.colab.kernel.invokeFunction('convertToInteractive',\n",
              "                                                     [key], {});\n",
              "          if (!dataTable) return;\n",
              "\n",
              "          const docLinkHtml = 'Like what you see? Visit the ' +\n",
              "            '<a target=\"_blank\" href=https://colab.research.google.com/notebooks/data_table.ipynb>data table notebook</a>'\n",
              "            + ' to learn more about interactive tables.';\n",
              "          element.innerHTML = '';\n",
              "          dataTable['output_type'] = 'display_data';\n",
              "          await google.colab.output.renderOutput(dataTable, element);\n",
              "          const docLink = document.createElement('div');\n",
              "          docLink.innerHTML = docLinkHtml;\n",
              "          element.appendChild(docLink);\n",
              "        }\n",
              "      </script>\n",
              "    </div>\n",
              "  </div>\n",
              "  "
            ],
            "text/plain": [
              "                objid  ABmag1  FUVmag_pred  ABmag2  NUVmag_pred        chi2\n",
              "0  157340109227129762  22.156    27.682612  20.267    21.685585  129.188182\n",
              "1  157350108218814598  22.973    25.274757  20.959    21.767460   42.080573\n",
              "2  157370109140545982  21.984    27.707778  20.669    23.108514   11.711089\n",
              "3  157370109233994618  21.955    24.560651  20.833    22.119675    2.865534\n",
              "4  157380108253555129  21.068    18.704944  19.989    19.296730   33.548876\n",
              "5  157380109041666548  20.982    23.321835  20.423    22.396773   27.096881\n",
              "6  157380109152072565  22.216    32.286424  20.471    24.264151   39.765395\n",
              "7  157380109682042534  20.445    20.324139  19.935    20.358100   39.190511\n",
              "8  157390108841348391  20.654    31.399739  19.753    24.523585  145.152360\n",
              "9  157390108898417576  20.115    22.467006  19.719    21.347925  315.386455"
            ]
          },
          "metadata": {},
          "execution_count": 112
        }
      ]
    },
    {
      "cell_type": "markdown",
      "source": [
        "##### **With Av**"
      ],
      "metadata": {
        "id": "S1Zj9mGVaWcx"
      }
    },
    {
      "cell_type": "markdown",
      "source": [
        "$\\chi^2 =\\dfrac{1}{N - n_p}\\sum\\limits_{i=1}^j\\left(\\dfrac{Y_{i,o} -M_d \\times Y_{i,M}\\times10^{-0.4\\times ext_i\\times A_v}}{\\sigma_{i,o}}\\right)^2$"
      ],
      "metadata": {
        "id": "kMPkihTNsf9T"
      }
    },
    {
      "cell_type": "code",
      "source": [
        "def chi2_func(params,flux,model_flux,flux_err,ext):\n",
        "  Md, av = params\n",
        "  chi = (flux - Md*model_flux*pow(10,-0.4*av*ext))/flux_err\n",
        "  return chi@chi"
      ],
      "metadata": {
        "id": "FtlzBKAGFSj-"
      },
      "execution_count": null,
      "outputs": []
    },
    {
      "cell_type": "code",
      "source": [
        "# Convolved Filters\n",
        "\n",
        "f1 = Table.read('models_kurucz/convolved/PS1g.fits',hdu=1)['TOTAL_FLUX'].value[:,0]\n",
        "f2 = Table.read('models_kurucz/convolved/PS1r.fits',hdu=1)['TOTAL_FLUX'].value[:,0]\n",
        "f3 = Table.read('models_kurucz/convolved/PS1i.fits',hdu=1)['TOTAL_FLUX'].value[:,0]\n",
        "f4 = Table.read('models_kurucz/convolved/PS1z.fits',hdu=1)['TOTAL_FLUX'].value[:,0]\n",
        "f5 = Table.read('models_kurucz/convolved/PS1y.fits',hdu=1)['TOTAL_FLUX'].value[:,0]\n",
        "\n",
        "model_name = [ i  for i in Table.read('models_kurucz/convolved/PS1g.fits',hdu=1)['MODEL_NAME']]\n",
        "ext = np.array([1.18, 0.881, 0.667, 0.534,0.457])\n",
        "chi_set = []\n",
        "\n",
        "# Chi2 loop : Takes about 5 minutes with current settings\n",
        "for i,row in df_star.iterrows():\n",
        "  flux     = row[['gPSFFlux', 'rPSFFlux', 'iPSFFlux', 'zPSFFlux', 'yPSFFlux']].values\n",
        "  flux_err = row[['gPSFFlux_err', 'rPSFFlux_err', 'iPSFFlux_err', 'zPSFFlux_err', 'yPSFFlux_err']].values\n",
        "\n",
        "  for j,model_flux in enumerate(zip(f1,f2,f3,f4,f5)):\n",
        "    model_flux = np.array(model_flux)\n",
        "    \n",
        "    params = minimize(chi2_func,x0 = (1e-2,0.5),bounds=([0,np.inf],[0,np.inf]),args=(flux,model_flux,flux_err,ext)).x\n",
        "    Md, Av = params\n",
        "    chi2   = chi2_func(params,flux,model_flux,flux_err,ext)\n",
        "    chi_set.append([row['objid'],model_name[j],Md,Av,chi2])"
      ],
      "metadata": {
        "id": "N6H7xdrqZrQa"
      },
      "execution_count": null,
      "outputs": []
    },
    {
      "cell_type": "code",
      "source": [
        "df_chi = pd.DataFrame(chi_set, columns = ['objid','model_name','Md','Av','chi2'])"
      ],
      "metadata": {
        "id": "X02-rJYpcvJV"
      },
      "execution_count": null,
      "outputs": []
    },
    {
      "cell_type": "code",
      "source": [
        "df_chi_min = df_chi[0:0]\n",
        "for i in df_chi['objid'].unique():\n",
        "  df_temp = df_chi[ df_chi['objid'] == i]\n",
        "  df_chi_min = df_chi_min.append(df_temp[df_temp['chi2']==df_temp['chi2'].min()])"
      ],
      "metadata": {
        "id": "xgCUaU18-7Ij"
      },
      "execution_count": null,
      "outputs": []
    },
    {
      "cell_type": "code",
      "source": [
        "df_chi_min "
      ],
      "metadata": {
        "colab": {
          "base_uri": "https://localhost:8080/",
          "height": 363
        },
        "id": "Qsfp4nzd-82o",
        "outputId": "ad2fef0d-d6d9-4e3b-b63d-5fde71780dcb"
      },
      "execution_count": null,
      "outputs": [
        {
          "output_type": "execute_result",
          "data": {
            "text/html": [
              "\n",
              "  <div id=\"df-20e25aea-484c-4df4-b7f5-4c881eed28fa\">\n",
              "    <div class=\"colab-df-container\">\n",
              "      <div>\n",
              "<style scoped>\n",
              "    .dataframe tbody tr th:only-of-type {\n",
              "        vertical-align: middle;\n",
              "    }\n",
              "\n",
              "    .dataframe tbody tr th {\n",
              "        vertical-align: top;\n",
              "    }\n",
              "\n",
              "    .dataframe thead th {\n",
              "        text-align: right;\n",
              "    }\n",
              "</style>\n",
              "<table border=\"1\" class=\"dataframe\">\n",
              "  <thead>\n",
              "    <tr style=\"text-align: right;\">\n",
              "      <th></th>\n",
              "      <th>objid</th>\n",
              "      <th>model_name</th>\n",
              "      <th>Md</th>\n",
              "      <th>Av</th>\n",
              "      <th>chi2</th>\n",
              "    </tr>\n",
              "  </thead>\n",
              "  <tbody>\n",
              "    <tr>\n",
              "      <th>1514</th>\n",
              "      <td>157340109227129762</td>\n",
              "      <td>kt07750g+5.0z+0.5</td>\n",
              "      <td>0.005458</td>\n",
              "      <td>0.011774</td>\n",
              "      <td>163.507443</td>\n",
              "    </tr>\n",
              "    <tr>\n",
              "      <th>5594</th>\n",
              "      <td>157350108218814598</td>\n",
              "      <td>kt08750g+5.0z+0.5</td>\n",
              "      <td>0.001595</td>\n",
              "      <td>0.000000</td>\n",
              "      <td>81.514517</td>\n",
              "    </tr>\n",
              "    <tr>\n",
              "      <th>9210</th>\n",
              "      <td>157370109140545982</td>\n",
              "      <td>kt08250g+1.0z+0.5</td>\n",
              "      <td>0.003258</td>\n",
              "      <td>0.036439</td>\n",
              "      <td>33.166431</td>\n",
              "    </tr>\n",
              "    <tr>\n",
              "      <th>14842</th>\n",
              "      <td>157370109233994618</td>\n",
              "      <td>kt31000g+3.5z+0.5</td>\n",
              "      <td>0.000183</td>\n",
              "      <td>0.859586</td>\n",
              "      <td>4.119895</td>\n",
              "    </tr>\n",
              "    <tr>\n",
              "      <th>18674</th>\n",
              "      <td>157380108253555129</td>\n",
              "      <td>kt31000g+5.0z+0.5</td>\n",
              "      <td>0.000114</td>\n",
              "      <td>0.000092</td>\n",
              "      <td>48.453917</td>\n",
              "    </tr>\n",
              "    <tr>\n",
              "      <th>20655</th>\n",
              "      <td>157380109041666548</td>\n",
              "      <td>kt08250g+2.0z-2.5</td>\n",
              "      <td>0.000901</td>\n",
              "      <td>0.000000</td>\n",
              "      <td>49.071020</td>\n",
              "    </tr>\n",
              "    <tr>\n",
              "      <th>24130</th>\n",
              "      <td>157380109152072565</td>\n",
              "      <td>kt07000g+5.0z+0.5</td>\n",
              "      <td>0.005743</td>\n",
              "      <td>0.035046</td>\n",
              "      <td>79.281452</td>\n",
              "    </tr>\n",
              "    <tr>\n",
              "      <th>29438</th>\n",
              "      <td>157380109682042534</td>\n",
              "      <td>kt15000g+3.0z-2.0</td>\n",
              "      <td>0.000403</td>\n",
              "      <td>0.000000</td>\n",
              "      <td>50.107667</td>\n",
              "    </tr>\n",
              "    <tr>\n",
              "      <th>31834</th>\n",
              "      <td>157390108841348391</td>\n",
              "      <td>kt07500g+0.5z+0.5</td>\n",
              "      <td>0.003974</td>\n",
              "      <td>0.254648</td>\n",
              "      <td>156.384746</td>\n",
              "    </tr>\n",
              "    <tr>\n",
              "      <th>36402</th>\n",
              "      <td>157390108898417576</td>\n",
              "      <td>kt10250g+5.0z+0.5</td>\n",
              "      <td>0.000928</td>\n",
              "      <td>0.000000</td>\n",
              "      <td>317.702866</td>\n",
              "    </tr>\n",
              "  </tbody>\n",
              "</table>\n",
              "</div>\n",
              "      <button class=\"colab-df-convert\" onclick=\"convertToInteractive('df-20e25aea-484c-4df4-b7f5-4c881eed28fa')\"\n",
              "              title=\"Convert this dataframe to an interactive table.\"\n",
              "              style=\"display:none;\">\n",
              "        \n",
              "  <svg xmlns=\"http://www.w3.org/2000/svg\" height=\"24px\"viewBox=\"0 0 24 24\"\n",
              "       width=\"24px\">\n",
              "    <path d=\"M0 0h24v24H0V0z\" fill=\"none\"/>\n",
              "    <path d=\"M18.56 5.44l.94 2.06.94-2.06 2.06-.94-2.06-.94-.94-2.06-.94 2.06-2.06.94zm-11 1L8.5 8.5l.94-2.06 2.06-.94-2.06-.94L8.5 2.5l-.94 2.06-2.06.94zm10 10l.94 2.06.94-2.06 2.06-.94-2.06-.94-.94-2.06-.94 2.06-2.06.94z\"/><path d=\"M17.41 7.96l-1.37-1.37c-.4-.4-.92-.59-1.43-.59-.52 0-1.04.2-1.43.59L10.3 9.45l-7.72 7.72c-.78.78-.78 2.05 0 2.83L4 21.41c.39.39.9.59 1.41.59.51 0 1.02-.2 1.41-.59l7.78-7.78 2.81-2.81c.8-.78.8-2.07 0-2.86zM5.41 20L4 18.59l7.72-7.72 1.47 1.35L5.41 20z\"/>\n",
              "  </svg>\n",
              "      </button>\n",
              "      \n",
              "  <style>\n",
              "    .colab-df-container {\n",
              "      display:flex;\n",
              "      flex-wrap:wrap;\n",
              "      gap: 12px;\n",
              "    }\n",
              "\n",
              "    .colab-df-convert {\n",
              "      background-color: #E8F0FE;\n",
              "      border: none;\n",
              "      border-radius: 50%;\n",
              "      cursor: pointer;\n",
              "      display: none;\n",
              "      fill: #1967D2;\n",
              "      height: 32px;\n",
              "      padding: 0 0 0 0;\n",
              "      width: 32px;\n",
              "    }\n",
              "\n",
              "    .colab-df-convert:hover {\n",
              "      background-color: #E2EBFA;\n",
              "      box-shadow: 0px 1px 2px rgba(60, 64, 67, 0.3), 0px 1px 3px 1px rgba(60, 64, 67, 0.15);\n",
              "      fill: #174EA6;\n",
              "    }\n",
              "\n",
              "    [theme=dark] .colab-df-convert {\n",
              "      background-color: #3B4455;\n",
              "      fill: #D2E3FC;\n",
              "    }\n",
              "\n",
              "    [theme=dark] .colab-df-convert:hover {\n",
              "      background-color: #434B5C;\n",
              "      box-shadow: 0px 1px 3px 1px rgba(0, 0, 0, 0.15);\n",
              "      filter: drop-shadow(0px 1px 2px rgba(0, 0, 0, 0.3));\n",
              "      fill: #FFFFFF;\n",
              "    }\n",
              "  </style>\n",
              "\n",
              "      <script>\n",
              "        const buttonEl =\n",
              "          document.querySelector('#df-20e25aea-484c-4df4-b7f5-4c881eed28fa button.colab-df-convert');\n",
              "        buttonEl.style.display =\n",
              "          google.colab.kernel.accessAllowed ? 'block' : 'none';\n",
              "\n",
              "        async function convertToInteractive(key) {\n",
              "          const element = document.querySelector('#df-20e25aea-484c-4df4-b7f5-4c881eed28fa');\n",
              "          const dataTable =\n",
              "            await google.colab.kernel.invokeFunction('convertToInteractive',\n",
              "                                                     [key], {});\n",
              "          if (!dataTable) return;\n",
              "\n",
              "          const docLinkHtml = 'Like what you see? Visit the ' +\n",
              "            '<a target=\"_blank\" href=https://colab.research.google.com/notebooks/data_table.ipynb>data table notebook</a>'\n",
              "            + ' to learn more about interactive tables.';\n",
              "          element.innerHTML = '';\n",
              "          dataTable['output_type'] = 'display_data';\n",
              "          await google.colab.output.renderOutput(dataTable, element);\n",
              "          const docLink = document.createElement('div');\n",
              "          docLink.innerHTML = docLinkHtml;\n",
              "          element.appendChild(docLink);\n",
              "        }\n",
              "      </script>\n",
              "    </div>\n",
              "  </div>\n",
              "  "
            ],
            "text/plain": [
              "                    objid         model_name        Md        Av        chi2\n",
              "1514   157340109227129762  kt07750g+5.0z+0.5  0.005458  0.011774  163.507443\n",
              "5594   157350108218814598  kt08750g+5.0z+0.5  0.001595  0.000000   81.514517\n",
              "9210   157370109140545982  kt08250g+1.0z+0.5  0.003258  0.036439   33.166431\n",
              "14842  157370109233994618  kt31000g+3.5z+0.5  0.000183  0.859586    4.119895\n",
              "18674  157380108253555129  kt31000g+5.0z+0.5  0.000114  0.000092   48.453917\n",
              "20655  157380109041666548  kt08250g+2.0z-2.5  0.000901  0.000000   49.071020\n",
              "24130  157380109152072565  kt07000g+5.0z+0.5  0.005743  0.035046   79.281452\n",
              "29438  157380109682042534  kt15000g+3.0z-2.0  0.000403  0.000000   50.107667\n",
              "31834  157390108841348391  kt07500g+0.5z+0.5  0.003974  0.254648  156.384746\n",
              "36402  157390108898417576  kt10250g+5.0z+0.5  0.000928  0.000000  317.702866"
            ]
          },
          "metadata": {},
          "execution_count": 117
        }
      ]
    },
    {
      "cell_type": "code",
      "source": [
        "plt.plot(df_chi_min['chi2'].values,'o-')\n",
        "plt.ylabel(r'$\\chi^2$')\n",
        "plt.xlabel('Sources')\n",
        "plt.yscale('log')"
      ],
      "metadata": {
        "colab": {
          "base_uri": "https://localhost:8080/",
          "height": 609
        },
        "id": "1IVlCt-l--3y",
        "outputId": "2e4e9672-1185-4cc4-d8d9-14658cce9caa"
      },
      "execution_count": null,
      "outputs": [
        {
          "output_type": "display_data",
          "data": {
            "image/png": "[encoded data removed]",
            "text/plain": [
              "<Figure size 1080x720 with 1 Axes>"
            ]
          },
          "metadata": {}
        }
      ]
    },
    {
      "cell_type": "code",
      "source": [
        "FUV = Table.read('models_kurucz/convolved/UVIT_FUV.fits',hdu=1) \n",
        "NUV = Table.read('models_kurucz/convolved/UVIT_NUV.fits',hdu=1) \n",
        "f1 = Table.read('models_kurucz/convolved/PS1g.fits',hdu=1)\n",
        "f2 = Table.read('models_kurucz/convolved/PS1r.fits',hdu=1)\n",
        "f3 = Table.read('models_kurucz/convolved/PS1i.fits',hdu=1)\n",
        "f4 = Table.read('models_kurucz/convolved/PS1z.fits',hdu=1)\n",
        "f5 = Table.read('models_kurucz/convolved/PS1y.fits',hdu=1)\n",
        "\n",
        "\n",
        "flux        = []\n",
        "flux_err    = []\n",
        "model_names = []\n",
        "Mds         = []\n",
        "for i,row in df_chi_min.iterrows():\n",
        "  model_name = row['model_name']\n",
        "\n",
        "  Md         = row['Md']\n",
        "\n",
        "  fuv =[FUV[FUV['MODEL_NAME'] == model_name]['TOTAL_FLUX'].value[0][0] , FUV[FUV['MODEL_NAME'] == model_name]['TOTAL_FLUX_ERR'].value[0][0]]\n",
        "  nuv =[NUV[NUV['MODEL_NAME'] == model_name]['TOTAL_FLUX'].value[0][0] , NUV[NUV['MODEL_NAME'] == model_name]['TOTAL_FLUX_ERR'].value[0][0]]\n",
        "  g = [f1[f1['MODEL_NAME'] == model_name]['TOTAL_FLUX'].value[0][0] , f1[f1['MODEL_NAME'] == model_name]['TOTAL_FLUX_ERR'].value[0][0]]\n",
        "  r = [f2[f2['MODEL_NAME'] == model_name]['TOTAL_FLUX'].value[0][0] , f2[f2['MODEL_NAME'] == model_name]['TOTAL_FLUX_ERR'].value[0][0]]\n",
        "  i = [f3[f3['MODEL_NAME'] == model_name]['TOTAL_FLUX'].value[0][0] , f3[f3['MODEL_NAME'] == model_name]['TOTAL_FLUX_ERR'].value[0][0]]\n",
        "  z = [f4[f4['MODEL_NAME'] == model_name]['TOTAL_FLUX'].value[0][0] , f4[f4['MODEL_NAME'] == model_name]['TOTAL_FLUX_ERR'].value[0][0]]\n",
        "  y = [f5[f5['MODEL_NAME'] == model_name]['TOTAL_FLUX'].value[0][0] , f5[f5['MODEL_NAME'] == model_name]['TOTAL_FLUX_ERR'].value[0][0]]\n",
        "  fuv =[FUV[FUV['MODEL_NAME'] == model_name]['TOTAL_FLUX'].value[0][0] , FUV[FUV['MODEL_NAME'] == model_name]['TOTAL_FLUX_ERR'].value[0][0]]\n",
        "\n",
        "  flux.append([fuv[0], nuv[0], g[0], r[0], i[0], z[0], y[0]])\n",
        "\n",
        "  flux_err.append([fuv[1], nuv[1], g[1], r[1], i[1], z[1], y[1]])\n",
        "\n",
        "  Mds.append(Md)\n",
        "\n",
        "flux = np.array(flux)\n",
        "\n",
        "flux_err = np.array(flux_err)\n",
        "\n",
        "Mds = np.array(Mds)"
      ],
      "metadata": {
        "id": "18wLJT1Uon0e"
      },
      "execution_count": null,
      "outputs": []
    },
    {
      "cell_type": "code",
      "source": [
        "df_star['FUVmag_pred'] = -2.5*np.log10((flux[:,0]*Mds*pow(10,-0.4*2.67*df_chi_min['Av'].values))/3631e3)\n",
        "\n",
        "df_star['NUVmag_pred'] = -2.5*np.log10((flux[:,1]*Mds*pow(10,-0.4*1.95*df_chi_min['Av'].values))/3631e3)\n",
        "\n",
        "df_star['chi2'] = df_chi_min['chi2'].values"
      ],
      "metadata": {
        "id": "5lRnTfO-pAWz"
      },
      "execution_count": null,
      "outputs": []
    },
    {
      "cell_type": "code",
      "source": [
        "df_star[['objid','ABmag1','FUVmag_pred','ABmag2','NUVmag_pred']]"
      ],
      "metadata": {
        "id": "mAaqz6YKpbu8",
        "outputId": "655fa84d-2c44-4d99-8d68-044520063c8e",
        "colab": {
          "base_uri": "https://localhost:8080/",
          "height": 363
        }
      },
      "execution_count": null,
      "outputs": [
        {
          "output_type": "execute_result",
          "data": {
            "text/html": [
              "\n",
              "  <div id=\"df-e7100e71-a2d0-45a4-80e2-3f08f87d743f\">\n",
              "    <div class=\"colab-df-container\">\n",
              "      <div>\n",
              "<style scoped>\n",
              "    .dataframe tbody tr th:only-of-type {\n",
              "        vertical-align: middle;\n",
              "    }\n",
              "\n",
              "    .dataframe tbody tr th {\n",
              "        vertical-align: top;\n",
              "    }\n",
              "\n",
              "    .dataframe thead th {\n",
              "        text-align: right;\n",
              "    }\n",
              "</style>\n",
              "<table border=\"1\" class=\"dataframe\">\n",
              "  <thead>\n",
              "    <tr style=\"text-align: right;\">\n",
              "      <th></th>\n",
              "      <th>objid</th>\n",
              "      <th>ABmag1</th>\n",
              "      <th>FUVmag_pred</th>\n",
              "      <th>ABmag2</th>\n",
              "      <th>NUVmag_pred</th>\n",
              "    </tr>\n",
              "  </thead>\n",
              "  <tbody>\n",
              "    <tr>\n",
              "      <th>0</th>\n",
              "      <td>157340109227129762</td>\n",
              "      <td>22.156</td>\n",
              "      <td>27.078961</td>\n",
              "      <td>20.267</td>\n",
              "      <td>21.416396</td>\n",
              "    </tr>\n",
              "    <tr>\n",
              "      <th>1</th>\n",
              "      <td>157350108218814598</td>\n",
              "      <td>22.973</td>\n",
              "      <td>25.278756</td>\n",
              "      <td>20.959</td>\n",
              "      <td>21.771458</td>\n",
              "    </tr>\n",
              "    <tr>\n",
              "      <th>2</th>\n",
              "      <td>157370109140545982</td>\n",
              "      <td>21.984</td>\n",
              "      <td>24.487151</td>\n",
              "      <td>20.669</td>\n",
              "      <td>22.001637</td>\n",
              "    </tr>\n",
              "    <tr>\n",
              "      <th>3</th>\n",
              "      <td>157370109233994618</td>\n",
              "      <td>21.955</td>\n",
              "      <td>20.554050</td>\n",
              "      <td>20.833</td>\n",
              "      <td>20.310166</td>\n",
              "    </tr>\n",
              "    <tr>\n",
              "      <th>4</th>\n",
              "      <td>157380108253555129</td>\n",
              "      <td>21.068</td>\n",
              "      <td>18.644515</td>\n",
              "      <td>19.989</td>\n",
              "      <td>19.264713</td>\n",
              "    </tr>\n",
              "    <tr>\n",
              "      <th>5</th>\n",
              "      <td>157380109041666548</td>\n",
              "      <td>20.982</td>\n",
              "      <td>24.537468</td>\n",
              "      <td>20.423</td>\n",
              "      <td>22.890511</td>\n",
              "    </tr>\n",
              "    <tr>\n",
              "      <th>6</th>\n",
              "      <td>157380109152072565</td>\n",
              "      <td>22.216</td>\n",
              "      <td>30.139127</td>\n",
              "      <td>20.471</td>\n",
              "      <td>22.422554</td>\n",
              "    </tr>\n",
              "    <tr>\n",
              "      <th>7</th>\n",
              "      <td>157380109682042534</td>\n",
              "      <td>20.445</td>\n",
              "      <td>20.535069</td>\n",
              "      <td>19.935</td>\n",
              "      <td>20.492146</td>\n",
              "    </tr>\n",
              "    <tr>\n",
              "      <th>8</th>\n",
              "      <td>157390108841348391</td>\n",
              "      <td>20.654</td>\n",
              "      <td>27.815670</td>\n",
              "      <td>19.753</td>\n",
              "      <td>23.559156</td>\n",
              "    </tr>\n",
              "    <tr>\n",
              "      <th>9</th>\n",
              "      <td>157390108898417576</td>\n",
              "      <td>20.115</td>\n",
              "      <td>22.465812</td>\n",
              "      <td>19.719</td>\n",
              "      <td>21.346730</td>\n",
              "    </tr>\n",
              "  </tbody>\n",
              "</table>\n",
              "</div>\n",
              "      <button class=\"colab-df-convert\" onclick=\"convertToInteractive('df-e7100e71-a2d0-45a4-80e2-3f08f87d743f')\"\n",
              "              title=\"Convert this dataframe to an interactive table.\"\n",
              "              style=\"display:none;\">\n",
              "        \n",
              "  <svg xmlns=\"http://www.w3.org/2000/svg\" height=\"24px\"viewBox=\"0 0 24 24\"\n",
              "       width=\"24px\">\n",
              "    <path d=\"M0 0h24v24H0V0z\" fill=\"none\"/>\n",
              "    <path d=\"M18.56 5.44l.94 2.06.94-2.06 2.06-.94-2.06-.94-.94-2.06-.94 2.06-2.06.94zm-11 1L8.5 8.5l.94-2.06 2.06-.94-2.06-.94L8.5 2.5l-.94 2.06-2.06.94zm10 10l.94 2.06.94-2.06 2.06-.94-2.06-.94-.94-2.06-.94 2.06-2.06.94z\"/><path d=\"M17.41 7.96l-1.37-1.37c-.4-.4-.92-.59-1.43-.59-.52 0-1.04.2-1.43.59L10.3 9.45l-7.72 7.72c-.78.78-.78 2.05 0 2.83L4 21.41c.39.39.9.59 1.41.59.51 0 1.02-.2 1.41-.59l7.78-7.78 2.81-2.81c.8-.78.8-2.07 0-2.86zM5.41 20L4 18.59l7.72-7.72 1.47 1.35L5.41 20z\"/>\n",
              "  </svg>\n",
              "      </button>\n",
              "      \n",
              "  <style>\n",
              "    .colab-df-container {\n",
              "      display:flex;\n",
              "      flex-wrap:wrap;\n",
              "      gap: 12px;\n",
              "    }\n",
              "\n",
              "    .colab-df-convert {\n",
              "      background-color: #E8F0FE;\n",
              "      border: none;\n",
              "      border-radius: 50%;\n",
              "      cursor: pointer;\n",
              "      display: none;\n",
              "      fill: #1967D2;\n",
              "      height: 32px;\n",
              "      padding: 0 0 0 0;\n",
              "      width: 32px;\n",
              "    }\n",
              "\n",
              "    .colab-df-convert:hover {\n",
              "      background-color: #E2EBFA;\n",
              "      box-shadow: 0px 1px 2px rgba(60, 64, 67, 0.3), 0px 1px 3px 1px rgba(60, 64, 67, 0.15);\n",
              "      fill: #174EA6;\n",
              "    }\n",
              "\n",
              "    [theme=dark] .colab-df-convert {\n",
              "      background-color: #3B4455;\n",
              "      fill: #D2E3FC;\n",
              "    }\n",
              "\n",
              "    [theme=dark] .colab-df-convert:hover {\n",
              "      background-color: #434B5C;\n",
              "      box-shadow: 0px 1px 3px 1px rgba(0, 0, 0, 0.15);\n",
              "      filter: drop-shadow(0px 1px 2px rgba(0, 0, 0, 0.3));\n",
              "      fill: #FFFFFF;\n",
              "    }\n",
              "  </style>\n",
              "\n",
              "      <script>\n",
              "        const buttonEl =\n",
              "          document.querySelector('#df-e7100e71-a2d0-45a4-80e2-3f08f87d743f button.colab-df-convert');\n",
              "        buttonEl.style.display =\n",
              "          google.colab.kernel.accessAllowed ? 'block' : 'none';\n",
              "\n",
              "        async function convertToInteractive(key) {\n",
              "          const element = document.querySelector('#df-e7100e71-a2d0-45a4-80e2-3f08f87d743f');\n",
              "          const dataTable =\n",
              "            await google.colab.kernel.invokeFunction('convertToInteractive',\n",
              "                                                     [key], {});\n",
              "          if (!dataTable) return;\n",
              "\n",
              "          const docLinkHtml = 'Like what you see? Visit the ' +\n",
              "            '<a target=\"_blank\" href=https://colab.research.google.com/notebooks/data_table.ipynb>data table notebook</a>'\n",
              "            + ' to learn more about interactive tables.';\n",
              "          element.innerHTML = '';\n",
              "          dataTable['output_type'] = 'display_data';\n",
              "          await google.colab.output.renderOutput(dataTable, element);\n",
              "          const docLink = document.createElement('div');\n",
              "          docLink.innerHTML = docLinkHtml;\n",
              "          element.appendChild(docLink);\n",
              "        }\n",
              "      </script>\n",
              "    </div>\n",
              "  </div>\n",
              "  "
            ],
            "text/plain": [
              "                objid  ABmag1  FUVmag_pred  ABmag2  NUVmag_pred\n",
              "0  157340109227129762  22.156    27.078961  20.267    21.416396\n",
              "1  157350108218814598  22.973    25.278756  20.959    21.771458\n",
              "2  157370109140545982  21.984    24.487151  20.669    22.001637\n",
              "3  157370109233994618  21.955    20.554050  20.833    20.310166\n",
              "4  157380108253555129  21.068    18.644515  19.989    19.264713\n",
              "5  157380109041666548  20.982    24.537468  20.423    22.890511\n",
              "6  157380109152072565  22.216    30.139127  20.471    22.422554\n",
              "7  157380109682042534  20.445    20.535069  19.935    20.492146\n",
              "8  157390108841348391  20.654    27.815670  19.753    23.559156\n",
              "9  157390108898417576  20.115    22.465812  19.719    21.346730"
            ]
          },
          "metadata": {},
          "execution_count": 121
        }
      ]
    },
    {
      "cell_type": "code",
      "source": [
        "diff = df_star['ABmag1'] - df_star['FUVmag_pred']\n",
        "plt.plot(diff,'o-')\n",
        "\n",
        "diff = df_star['ABmag2'] - df_star['NUVmag_pred']\n",
        "\n",
        "plt.plot(diff,'o-')\n",
        "\n",
        "plt.legend(['FUV','NUV'])\n",
        "\n",
        "\n",
        "plt.xlabel('Sources')\n",
        "\n",
        "plt.title('With Av')"
      ],
      "metadata": {
        "id": "JTWZ6zBoticN",
        "outputId": "f09b5dfe-368b-43a0-d222-0f22daefc26b",
        "colab": {
          "base_uri": "https://localhost:8080/",
          "height": 642
        }
      },
      "execution_count": null,
      "outputs": [
        {
          "output_type": "execute_result",
          "data": {
            "text/plain": [
              "Text(0.5, 1.0, 'With Av')"
            ]
          },
          "metadata": {},
          "execution_count": 122
        },
        {
          "output_type": "display_data",
          "data": {
            "image/png": "[encoded data removed]",
            "text/plain": [
              "<Figure size 1080x720 with 1 Axes>"
            ]
          },
          "metadata": {}
        }
      ]
    },
    {
      "cell_type": "markdown",
      "source": [
        "#### **With UV**"
      ],
      "metadata": {
        "id": "MQKQ-Yma_Ldo"
      }
    },
    {
      "cell_type": "code",
      "source": [
        "df_star = df_M31[df_M31['ps_score']>0.5][:10].copy()\n",
        "df_star =  df_star.rename(columns = {'raStack':'ra','decStack':'dec'})"
      ],
      "metadata": {
        "id": "mQzstaBW_PBf"
      },
      "execution_count": null,
      "outputs": []
    },
    {
      "cell_type": "code",
      "source": [
        "for i in ['g','r','i','z','y']:\n",
        "  df_star[f'{i}PSFFlux']     = 3631*pow(10,-df_star[f'{i}PSFMag']/2.5)*1000            #mJy\n",
        "\n",
        "  df_star[f'{i}PSFFlux_err'] = (df_star[f'{i}PSFMagErr']*df_star[f'{i}PSFFlux'])/1.09  #mJy\n",
        "\n",
        "df_star['FUVFlux'] = 3631*pow(10,-df_star['ABmag1']/2.5)*1000 \n",
        "df_star['FUVFlux_err'] = (df_star['Errmag1']*df_star['FUVFlux'])/1.09  #mJy \n",
        "\n",
        "df_star['NUVFlux'] = 3631*pow(10,-df_star['ABmag2']/2.5)*1000 \n",
        "df_star['NUVFlux_err'] = (df_star['Errmag2']*df_star['NUVFlux'])/1.09  #mJy "
      ],
      "metadata": {
        "id": "rxrye2F6_PBg"
      },
      "execution_count": null,
      "outputs": []
    },
    {
      "cell_type": "markdown",
      "source": [
        "##### **Without Av**"
      ],
      "metadata": {
        "id": "5QL8_iHd_PBh"
      }
    },
    {
      "cell_type": "code",
      "source": [
        "def chi2_func(Md,flux,model_flux,flux_err):\n",
        "  chi = (flux - Md*model_flux)/flux_err\n",
        "  return chi@chi"
      ],
      "metadata": {
        "id": "diyURy4K_PBi"
      },
      "execution_count": null,
      "outputs": []
    },
    {
      "cell_type": "code",
      "source": [
        "# Convolved Filters\n",
        "\n",
        "fuv = Table.read('models_kurucz/convolved/UVIT_FUV.fits',hdu=1)['TOTAL_FLUX'].value[:,0]\n",
        "nuv = Table.read('models_kurucz/convolved/UVIT_NUV.fits',hdu=1)['TOTAL_FLUX'].value[:,0]\n",
        "\n",
        "f1 = Table.read('models_kurucz/convolved/PS1g.fits',hdu=1)['TOTAL_FLUX'].value[:,0]\n",
        "f2 = Table.read('models_kurucz/convolved/PS1r.fits',hdu=1)['TOTAL_FLUX'].value[:,0]\n",
        "f3 = Table.read('models_kurucz/convolved/PS1i.fits',hdu=1)['TOTAL_FLUX'].value[:,0]\n",
        "f4 = Table.read('models_kurucz/convolved/PS1z.fits',hdu=1)['TOTAL_FLUX'].value[:,0]\n",
        "f5 = Table.read('models_kurucz/convolved/PS1y.fits',hdu=1)['TOTAL_FLUX'].value[:,0]\n",
        "\n",
        "model_name = [ i  for i in Table.read('models_kurucz/convolved/PS1g.fits',hdu=1)['MODEL_NAME']]\n",
        "chi_set = []\n",
        "\n",
        "# Chi2 loop : Takes about 5 minutes with current settings\n",
        "for i,row in df_star.iterrows():\n",
        "  flux     = row[['FUVFlux','NUVFlux','gPSFFlux', 'rPSFFlux', 'iPSFFlux', 'zPSFFlux','yPSFFlux']].values\n",
        "  flux_err = row[['FUVFlux_err','NUVFlux_err','gPSFFlux_err',  'rPSFFlux_err', 'iPSFFlux_err', 'zPSFFlux_err', 'yPSFFlux_err']].values\n",
        "\n",
        "  for j,model_flux in enumerate(zip(fuv,nuv,f1,f2,f3,f4,f5)):\n",
        "    model_flux = np.array(model_flux)\n",
        "    \n",
        "    Md = minimize_scalar(chi2_func,args=(flux,model_flux,flux_err)).x\n",
        "    \n",
        "    chi2   = chi2_func(Md,flux,model_flux,flux_err)\n",
        "    chi_set.append([row['objid'],model_name[j],Md,chi2])"
      ],
      "metadata": {
        "id": "S-tJxnTt_PBi"
      },
      "execution_count": null,
      "outputs": []
    },
    {
      "cell_type": "code",
      "source": [
        "df_chi = pd.DataFrame(chi_set, columns = ['objid','model_name','Md','chi2'])"
      ],
      "metadata": {
        "id": "teLpvHHr_PBj"
      },
      "execution_count": null,
      "outputs": []
    },
    {
      "cell_type": "code",
      "source": [
        "df_chi_min = df_chi[0:0]\n",
        "for i in df_chi['objid'].unique():\n",
        "  df_temp = df_chi[ df_chi['objid'] == i]\n",
        "  df_chi_min = df_chi_min.append(df_temp[df_temp['chi2']==df_temp['chi2'].min()])"
      ],
      "metadata": {
        "id": "_uR26Lct_PBk"
      },
      "execution_count": null,
      "outputs": []
    },
    {
      "cell_type": "code",
      "source": [
        "df_chi_min "
      ],
      "metadata": {
        "colab": {
          "base_uri": "https://localhost:8080/",
          "height": 363
        },
        "id": "kcq-SHzi_PBk",
        "outputId": "222aa7f8-ffb6-4007-88bb-55e5618d0c6e"
      },
      "execution_count": null,
      "outputs": [
        {
          "output_type": "execute_result",
          "data": {
            "text/html": [
              "\n",
              "  <div id=\"df-a1e40783-e442-4eb6-81e7-fe3299cb0007\">\n",
              "    <div class=\"colab-df-container\">\n",
              "      <div>\n",
              "<style scoped>\n",
              "    .dataframe tbody tr th:only-of-type {\n",
              "        vertical-align: middle;\n",
              "    }\n",
              "\n",
              "    .dataframe tbody tr th {\n",
              "        vertical-align: top;\n",
              "    }\n",
              "\n",
              "    .dataframe thead th {\n",
              "        text-align: right;\n",
              "    }\n",
              "</style>\n",
              "<table border=\"1\" class=\"dataframe\">\n",
              "  <thead>\n",
              "    <tr style=\"text-align: right;\">\n",
              "      <th></th>\n",
              "      <th>objid</th>\n",
              "      <th>model_name</th>\n",
              "      <th>Md</th>\n",
              "      <th>chi2</th>\n",
              "    </tr>\n",
              "  </thead>\n",
              "  <tbody>\n",
              "    <tr>\n",
              "      <th>1514</th>\n",
              "      <td>157340109227129762</td>\n",
              "      <td>kt07750g+5.0z+0.5</td>\n",
              "      <td>0.005407</td>\n",
              "      <td>263.422705</td>\n",
              "    </tr>\n",
              "    <tr>\n",
              "      <th>5663</th>\n",
              "      <td>157350108218814598</td>\n",
              "      <td>kt09000g+5.0z-2.5</td>\n",
              "      <td>0.001629</td>\n",
              "      <td>101.985217</td>\n",
              "    </tr>\n",
              "    <tr>\n",
              "      <th>9407</th>\n",
              "      <td>157370109140545982</td>\n",
              "      <td>kt08750g+5.0z-2.5</td>\n",
              "      <td>0.002960</td>\n",
              "      <td>91.538836</td>\n",
              "    </tr>\n",
              "    <tr>\n",
              "      <th>13679</th>\n",
              "      <td>157370109233994618</td>\n",
              "      <td>kt11000g+2.0z-2.5</td>\n",
              "      <td>0.000626</td>\n",
              "      <td>26.546198</td>\n",
              "    </tr>\n",
              "    <tr>\n",
              "      <th>17970</th>\n",
              "      <td>157380108253555129</td>\n",
              "      <td>kt14000g+3.5z+0.5</td>\n",
              "      <td>0.000433</td>\n",
              "      <td>154.423458</td>\n",
              "    </tr>\n",
              "    <tr>\n",
              "      <th>21815</th>\n",
              "      <td>157380109041666548</td>\n",
              "      <td>kt15000g+2.5z-2.5</td>\n",
              "      <td>0.000269</td>\n",
              "      <td>92.263099</td>\n",
              "    </tr>\n",
              "    <tr>\n",
              "      <th>24130</th>\n",
              "      <td>157380109152072565</td>\n",
              "      <td>kt07000g+5.0z+0.5</td>\n",
              "      <td>0.005584</td>\n",
              "      <td>186.000414</td>\n",
              "    </tr>\n",
              "    <tr>\n",
              "      <th>29521</th>\n",
              "      <td>157380109682042534</td>\n",
              "      <td>kt17000g+2.5z+0.2</td>\n",
              "      <td>0.000286</td>\n",
              "      <td>58.929088</td>\n",
              "    </tr>\n",
              "    <tr>\n",
              "      <th>31978</th>\n",
              "      <td>157390108841348391</td>\n",
              "      <td>kt07750g+5.0z+0.5</td>\n",
              "      <td>0.003015</td>\n",
              "      <td>495.231572</td>\n",
              "    </tr>\n",
              "    <tr>\n",
              "      <th>37093</th>\n",
              "      <td>157390108898417576</td>\n",
              "      <td>kt16000g+2.5z-1.5</td>\n",
              "      <td>0.000454</td>\n",
              "      <td>385.695704</td>\n",
              "    </tr>\n",
              "  </tbody>\n",
              "</table>\n",
              "</div>\n",
              "      <button class=\"colab-df-convert\" onclick=\"convertToInteractive('df-a1e40783-e442-4eb6-81e7-fe3299cb0007')\"\n",
              "              title=\"Convert this dataframe to an interactive table.\"\n",
              "              style=\"display:none;\">\n",
              "        \n",
              "  <svg xmlns=\"http://www.w3.org/2000/svg\" height=\"24px\"viewBox=\"0 0 24 24\"\n",
              "       width=\"24px\">\n",
              "    <path d=\"M0 0h24v24H0V0z\" fill=\"none\"/>\n",
              "    <path d=\"M18.56 5.44l.94 2.06.94-2.06 2.06-.94-2.06-.94-.94-2.06-.94 2.06-2.06.94zm-11 1L8.5 8.5l.94-2.06 2.06-.94-2.06-.94L8.5 2.5l-.94 2.06-2.06.94zm10 10l.94 2.06.94-2.06 2.06-.94-2.06-.94-.94-2.06-.94 2.06-2.06.94z\"/><path d=\"M17.41 7.96l-1.37-1.37c-.4-.4-.92-.59-1.43-.59-.52 0-1.04.2-1.43.59L10.3 9.45l-7.72 7.72c-.78.78-.78 2.05 0 2.83L4 21.41c.39.39.9.59 1.41.59.51 0 1.02-.2 1.41-.59l7.78-7.78 2.81-2.81c.8-.78.8-2.07 0-2.86zM5.41 20L4 18.59l7.72-7.72 1.47 1.35L5.41 20z\"/>\n",
              "  </svg>\n",
              "      </button>\n",
              "      \n",
              "  <style>\n",
              "    .colab-df-container {\n",
              "      display:flex;\n",
              "      flex-wrap:wrap;\n",
              "      gap: 12px;\n",
              "    }\n",
              "\n",
              "    .colab-df-convert {\n",
              "      background-color: #E8F0FE;\n",
              "      border: none;\n",
              "      border-radius: 50%;\n",
              "      cursor: pointer;\n",
              "      display: none;\n",
              "      fill: #1967D2;\n",
              "      height: 32px;\n",
              "      padding: 0 0 0 0;\n",
              "      width: 32px;\n",
              "    }\n",
              "\n",
              "    .colab-df-convert:hover {\n",
              "      background-color: #E2EBFA;\n",
              "      box-shadow: 0px 1px 2px rgba(60, 64, 67, 0.3), 0px 1px 3px 1px rgba(60, 64, 67, 0.15);\n",
              "      fill: #174EA6;\n",
              "    }\n",
              "\n",
              "    [theme=dark] .colab-df-convert {\n",
              "      background-color: #3B4455;\n",
              "      fill: #D2E3FC;\n",
              "    }\n",
              "\n",
              "    [theme=dark] .colab-df-convert:hover {\n",
              "      background-color: #434B5C;\n",
              "      box-shadow: 0px 1px 3px 1px rgba(0, 0, 0, 0.15);\n",
              "      filter: drop-shadow(0px 1px 2px rgba(0, 0, 0, 0.3));\n",
              "      fill: #FFFFFF;\n",
              "    }\n",
              "  </style>\n",
              "\n",
              "      <script>\n",
              "        const buttonEl =\n",
              "          document.querySelector('#df-a1e40783-e442-4eb6-81e7-fe3299cb0007 button.colab-df-convert');\n",
              "        buttonEl.style.display =\n",
              "          google.colab.kernel.accessAllowed ? 'block' : 'none';\n",
              "\n",
              "        async function convertToInteractive(key) {\n",
              "          const element = document.querySelector('#df-a1e40783-e442-4eb6-81e7-fe3299cb0007');\n",
              "          const dataTable =\n",
              "            await google.colab.kernel.invokeFunction('convertToInteractive',\n",
              "                                                     [key], {});\n",
              "          if (!dataTable) return;\n",
              "\n",
              "          const docLinkHtml = 'Like what you see? Visit the ' +\n",
              "            '<a target=\"_blank\" href=https://colab.research.google.com/notebooks/data_table.ipynb>data table notebook</a>'\n",
              "            + ' to learn more about interactive tables.';\n",
              "          element.innerHTML = '';\n",
              "          dataTable['output_type'] = 'display_data';\n",
              "          await google.colab.output.renderOutput(dataTable, element);\n",
              "          const docLink = document.createElement('div');\n",
              "          docLink.innerHTML = docLinkHtml;\n",
              "          element.appendChild(docLink);\n",
              "        }\n",
              "      </script>\n",
              "    </div>\n",
              "  </div>\n",
              "  "
            ],
            "text/plain": [
              "                    objid         model_name        Md        chi2\n",
              "1514   157340109227129762  kt07750g+5.0z+0.5  0.005407  263.422705\n",
              "5663   157350108218814598  kt09000g+5.0z-2.5  0.001629  101.985217\n",
              "9407   157370109140545982  kt08750g+5.0z-2.5  0.002960   91.538836\n",
              "13679  157370109233994618  kt11000g+2.0z-2.5  0.000626   26.546198\n",
              "17970  157380108253555129  kt14000g+3.5z+0.5  0.000433  154.423458\n",
              "21815  157380109041666548  kt15000g+2.5z-2.5  0.000269   92.263099\n",
              "24130  157380109152072565  kt07000g+5.0z+0.5  0.005584  186.000414\n",
              "29521  157380109682042534  kt17000g+2.5z+0.2  0.000286   58.929088\n",
              "31978  157390108841348391  kt07750g+5.0z+0.5  0.003015  495.231572\n",
              "37093  157390108898417576  kt16000g+2.5z-1.5  0.000454  385.695704"
            ]
          },
          "metadata": {},
          "execution_count": 60
        }
      ]
    },
    {
      "cell_type": "markdown",
      "source": [
        "##### **With Av**"
      ],
      "metadata": {
        "id": "Ba_P5Lhc_PBl"
      }
    },
    {
      "cell_type": "markdown",
      "source": [
        "$\\chi^2 =\\dfrac{1}{N - n_p}\\sum\\limits_{i=1}^j\\left(\\dfrac{Y_{i,o} -M_d \\times Y_{i,M}\\times10^{-0.4\\times ext_i\\times A_v}}{\\sigma_{i,o}}\\right)^2$"
      ],
      "metadata": {
        "id": "PBEjGE-d_PBl"
      }
    },
    {
      "cell_type": "code",
      "source": [
        "def chi2_func(params,flux,model_flux,flux_err,ext):\n",
        "  Md, av = params\n",
        "  chi = (flux - Md*model_flux*pow(10,-0.4*av*ext))/flux_err\n",
        "  return chi@chi"
      ],
      "metadata": {
        "id": "NoyurR-t_PBm"
      },
      "execution_count": null,
      "outputs": []
    },
    {
      "cell_type": "code",
      "source": [
        "# Convolved Filters\n",
        "\n",
        "\n",
        "fuv = Table.read('models_kurucz/convolved/UVIT_FUV.fits',hdu=1)['TOTAL_FLUX'].value[:,0]\n",
        "nuv = Table.read('models_kurucz/convolved/UVIT_NUV.fits',hdu=1)['TOTAL_FLUX'].value[:,0]\n",
        "\n",
        "f1 = Table.read('models_kurucz/convolved/PS1g.fits',hdu=1)['TOTAL_FLUX'].value[:,0]\n",
        "f2 = Table.read('models_kurucz/convolved/PS1r.fits',hdu=1)['TOTAL_FLUX'].value[:,0]\n",
        "f3 = Table.read('models_kurucz/convolved/PS1i.fits',hdu=1)['TOTAL_FLUX'].value[:,0]\n",
        "f4 = Table.read('models_kurucz/convolved/PS1z.fits',hdu=1)['TOTAL_FLUX'].value[:,0]\n",
        "f5 = Table.read('models_kurucz/convolved/PS1y.fits',hdu=1)['TOTAL_FLUX'].value[:,0]\n",
        "\n",
        "model_name = [ i  for i in Table.read('models_kurucz/convolved/PS1g.fits',hdu=1)['MODEL_NAME']]\n",
        "ext = np.array([2.67,1.95, 1.18, 0.881, 0.667, 0.534,0.457])\n",
        "chi_set = []\n",
        "\n",
        "# Chi2 loop : Takes about 5 minutes with current settings\n",
        "for i,row in df_star.iterrows():\n",
        "  flux     = row[['FUVFlux','NUVFlux','gPSFFlux', 'rPSFFlux', 'iPSFFlux', 'zPSFFlux','yPSFFlux']].values\n",
        "  flux_err = row[['FUVFlux_err','NUVFlux_err','gPSFFlux_err',  'rPSFFlux_err', 'iPSFFlux_err', 'zPSFFlux_err', 'yPSFFlux_err']].values\n",
        "\n",
        "  for j,model_flux in enumerate(zip(fuv,nuv,f1,f2,f3,f4,f5)):\n",
        "    model_flux = np.array(model_flux)\n",
        "    \n",
        "    params = minimize(chi2_func,x0 = (1e-2,0.5),bounds=([0,np.inf],[0,np.inf]),args=(flux,model_flux,flux_err,ext)).x\n",
        "    Md, Av = params\n",
        "    chi2   = chi2_func(params,flux,model_flux,flux_err,ext)\n",
        "    chi_set.append([row['objid'],model_name[j],Md,Av,chi2])"
      ],
      "metadata": {
        "id": "lThiHqC__PBn"
      },
      "execution_count": null,
      "outputs": []
    },
    {
      "cell_type": "code",
      "source": [
        "df_chi = pd.DataFrame(chi_set, columns = ['objid','model_name','Md','Av','chi2'])"
      ],
      "metadata": {
        "id": "FtyBzSPh_PBo"
      },
      "execution_count": null,
      "outputs": []
    },
    {
      "cell_type": "code",
      "source": [
        "df_chi_min = df_chi[0:0]\n",
        "for i in df_chi['objid'].unique():\n",
        "  df_temp = df_chi[ df_chi['objid'] == i]\n",
        "  df_chi_min = df_chi_min.append(df_temp[df_temp['chi2']==df_temp['chi2'].min()])"
      ],
      "metadata": {
        "id": "fkvpe4ZL_PBo"
      },
      "execution_count": null,
      "outputs": []
    },
    {
      "cell_type": "code",
      "source": [
        "df_chi_min "
      ],
      "metadata": {
        "colab": {
          "base_uri": "https://localhost:8080/",
          "height": 363
        },
        "id": "bJCGjxyR_PBp",
        "outputId": "d4d0f220-0adf-4670-8817-fd1fbab9d0b3"
      },
      "execution_count": null,
      "outputs": [
        {
          "output_type": "execute_result",
          "data": {
            "text/html": [
              "\n",
              "  <div id=\"df-9c051c36-0d10-42d4-ae86-6628fff56cc0\">\n",
              "    <div class=\"colab-df-container\">\n",
              "      <div>\n",
              "<style scoped>\n",
              "    .dataframe tbody tr th:only-of-type {\n",
              "        vertical-align: middle;\n",
              "    }\n",
              "\n",
              "    .dataframe tbody tr th {\n",
              "        vertical-align: top;\n",
              "    }\n",
              "\n",
              "    .dataframe thead th {\n",
              "        text-align: right;\n",
              "    }\n",
              "</style>\n",
              "<table border=\"1\" class=\"dataframe\">\n",
              "  <thead>\n",
              "    <tr style=\"text-align: right;\">\n",
              "      <th></th>\n",
              "      <th>objid</th>\n",
              "      <th>model_name</th>\n",
              "      <th>Md</th>\n",
              "      <th>Av</th>\n",
              "      <th>chi2</th>\n",
              "    </tr>\n",
              "  </thead>\n",
              "  <tbody>\n",
              "    <tr>\n",
              "      <th>1514</th>\n",
              "      <td>157340109227129762</td>\n",
              "      <td>kt07750g+5.0z+0.5</td>\n",
              "      <td>0.005442</td>\n",
              "      <td>0.008087</td>\n",
              "      <td>263.174917</td>\n",
              "    </tr>\n",
              "    <tr>\n",
              "      <th>5663</th>\n",
              "      <td>157350108218814598</td>\n",
              "      <td>kt09000g+5.0z-2.5</td>\n",
              "      <td>0.001639</td>\n",
              "      <td>0.007097</td>\n",
              "      <td>101.934111</td>\n",
              "    </tr>\n",
              "    <tr>\n",
              "      <th>9978</th>\n",
              "      <td>157370109140545982</td>\n",
              "      <td>kt11500g+2.0z+0.5</td>\n",
              "      <td>0.002225</td>\n",
              "      <td>0.502804</td>\n",
              "      <td>42.476191</td>\n",
              "    </tr>\n",
              "    <tr>\n",
              "      <th>14138</th>\n",
              "      <td>157370109233994618</td>\n",
              "      <td>kt14000g+2.0z+0.5</td>\n",
              "      <td>0.000486</td>\n",
              "      <td>0.357264</td>\n",
              "      <td>5.908130</td>\n",
              "    </tr>\n",
              "    <tr>\n",
              "      <th>17970</th>\n",
              "      <td>157380108253555129</td>\n",
              "      <td>kt14000g+3.5z+0.5</td>\n",
              "      <td>0.000433</td>\n",
              "      <td>0.000000</td>\n",
              "      <td>154.423458</td>\n",
              "    </tr>\n",
              "    <tr>\n",
              "      <th>22298</th>\n",
              "      <td>157380109041666548</td>\n",
              "      <td>kt26000g+3.5z+0.5</td>\n",
              "      <td>0.000178</td>\n",
              "      <td>0.757146</td>\n",
              "      <td>65.993708</td>\n",
              "    </tr>\n",
              "    <tr>\n",
              "      <th>25810</th>\n",
              "      <td>157380109152072565</td>\n",
              "      <td>kt19000g+2.5z+0.5</td>\n",
              "      <td>0.002312</td>\n",
              "      <td>1.653586</td>\n",
              "      <td>149.723738</td>\n",
              "    </tr>\n",
              "    <tr>\n",
              "      <th>29570</th>\n",
              "      <td>157380109682042534</td>\n",
              "      <td>kt18000g+2.5z+0.5</td>\n",
              "      <td>0.000262</td>\n",
              "      <td>0.053402</td>\n",
              "      <td>57.938705</td>\n",
              "    </tr>\n",
              "    <tr>\n",
              "      <th>33930</th>\n",
              "      <td>157390108841348391</td>\n",
              "      <td>kt32000g+5.0z+0.5</td>\n",
              "      <td>0.000763</td>\n",
              "      <td>1.595344</td>\n",
              "      <td>238.452884</td>\n",
              "    </tr>\n",
              "    <tr>\n",
              "      <th>37482</th>\n",
              "      <td>157390108898417576</td>\n",
              "      <td>kt25000g+3.0z+0.5</td>\n",
              "      <td>0.000289</td>\n",
              "      <td>0.547760</td>\n",
              "      <td>332.189277</td>\n",
              "    </tr>\n",
              "  </tbody>\n",
              "</table>\n",
              "</div>\n",
              "      <button class=\"colab-df-convert\" onclick=\"convertToInteractive('df-9c051c36-0d10-42d4-ae86-6628fff56cc0')\"\n",
              "              title=\"Convert this dataframe to an interactive table.\"\n",
              "              style=\"display:none;\">\n",
              "        \n",
              "  <svg xmlns=\"http://www.w3.org/2000/svg\" height=\"24px\"viewBox=\"0 0 24 24\"\n",
              "       width=\"24px\">\n",
              "    <path d=\"M0 0h24v24H0V0z\" fill=\"none\"/>\n",
              "    <path d=\"M18.56 5.44l.94 2.06.94-2.06 2.06-.94-2.06-.94-.94-2.06-.94 2.06-2.06.94zm-11 1L8.5 8.5l.94-2.06 2.06-.94-2.06-.94L8.5 2.5l-.94 2.06-2.06.94zm10 10l.94 2.06.94-2.06 2.06-.94-2.06-.94-.94-2.06-.94 2.06-2.06.94z\"/><path d=\"M17.41 7.96l-1.37-1.37c-.4-.4-.92-.59-1.43-.59-.52 0-1.04.2-1.43.59L10.3 9.45l-7.72 7.72c-.78.78-.78 2.05 0 2.83L4 21.41c.39.39.9.59 1.41.59.51 0 1.02-.2 1.41-.59l7.78-7.78 2.81-2.81c.8-.78.8-2.07 0-2.86zM5.41 20L4 18.59l7.72-7.72 1.47 1.35L5.41 20z\"/>\n",
              "  </svg>\n",
              "      </button>\n",
              "      \n",
              "  <style>\n",
              "    .colab-df-container {\n",
              "      display:flex;\n",
              "      flex-wrap:wrap;\n",
              "      gap: 12px;\n",
              "    }\n",
              "\n",
              "    .colab-df-convert {\n",
              "      background-color: #E8F0FE;\n",
              "      border: none;\n",
              "      border-radius: 50%;\n",
              "      cursor: pointer;\n",
              "      display: none;\n",
              "      fill: #1967D2;\n",
              "      height: 32px;\n",
              "      padding: 0 0 0 0;\n",
              "      width: 32px;\n",
              "    }\n",
              "\n",
              "    .colab-df-convert:hover {\n",
              "      background-color: #E2EBFA;\n",
              "      box-shadow: 0px 1px 2px rgba(60, 64, 67, 0.3), 0px 1px 3px 1px rgba(60, 64, 67, 0.15);\n",
              "      fill: #174EA6;\n",
              "    }\n",
              "\n",
              "    [theme=dark] .colab-df-convert {\n",
              "      background-color: #3B4455;\n",
              "      fill: #D2E3FC;\n",
              "    }\n",
              "\n",
              "    [theme=dark] .colab-df-convert:hover {\n",
              "      background-color: #434B5C;\n",
              "      box-shadow: 0px 1px 3px 1px rgba(0, 0, 0, 0.15);\n",
              "      filter: drop-shadow(0px 1px 2px rgba(0, 0, 0, 0.3));\n",
              "      fill: #FFFFFF;\n",
              "    }\n",
              "  </style>\n",
              "\n",
              "      <script>\n",
              "        const buttonEl =\n",
              "          document.querySelector('#df-9c051c36-0d10-42d4-ae86-6628fff56cc0 button.colab-df-convert');\n",
              "        buttonEl.style.display =\n",
              "          google.colab.kernel.accessAllowed ? 'block' : 'none';\n",
              "\n",
              "        async function convertToInteractive(key) {\n",
              "          const element = document.querySelector('#df-9c051c36-0d10-42d4-ae86-6628fff56cc0');\n",
              "          const dataTable =\n",
              "            await google.colab.kernel.invokeFunction('convertToInteractive',\n",
              "                                                     [key], {});\n",
              "          if (!dataTable) return;\n",
              "\n",
              "          const docLinkHtml = 'Like what you see? Visit the ' +\n",
              "            '<a target=\"_blank\" href=https://colab.research.google.com/notebooks/data_table.ipynb>data table notebook</a>'\n",
              "            + ' to learn more about interactive tables.';\n",
              "          element.innerHTML = '';\n",
              "          dataTable['output_type'] = 'display_data';\n",
              "          await google.colab.output.renderOutput(dataTable, element);\n",
              "          const docLink = document.createElement('div');\n",
              "          docLink.innerHTML = docLinkHtml;\n",
              "          element.appendChild(docLink);\n",
              "        }\n",
              "      </script>\n",
              "    </div>\n",
              "  </div>\n",
              "  "
            ],
            "text/plain": [
              "                    objid         model_name        Md        Av        chi2\n",
              "1514   157340109227129762  kt07750g+5.0z+0.5  0.005442  0.008087  263.174917\n",
              "5663   157350108218814598  kt09000g+5.0z-2.5  0.001639  0.007097  101.934111\n",
              "9978   157370109140545982  kt11500g+2.0z+0.5  0.002225  0.502804   42.476191\n",
              "14138  157370109233994618  kt14000g+2.0z+0.5  0.000486  0.357264    5.908130\n",
              "17970  157380108253555129  kt14000g+3.5z+0.5  0.000433  0.000000  154.423458\n",
              "22298  157380109041666548  kt26000g+3.5z+0.5  0.000178  0.757146   65.993708\n",
              "25810  157380109152072565  kt19000g+2.5z+0.5  0.002312  1.653586  149.723738\n",
              "29570  157380109682042534  kt18000g+2.5z+0.5  0.000262  0.053402   57.938705\n",
              "33930  157390108841348391  kt32000g+5.0z+0.5  0.000763  1.595344  238.452884\n",
              "37482  157390108898417576  kt25000g+3.0z+0.5  0.000289  0.547760  332.189277"
            ]
          },
          "metadata": {},
          "execution_count": 66
        }
      ]
    },
    {
      "cell_type": "code",
      "source": [
        "plt.plot(df_chi_min['chi2'].values,'o-')\n",
        "plt.ylabel(r'$\\chi^2$')\n",
        "plt.xlabel('Sources')\n",
        "plt.yscale('log')"
      ],
      "metadata": {
        "id": "6DqBvl69_PBp"
      },
      "execution_count": null,
      "outputs": []
    },
    {
      "cell_type": "markdown",
      "source": [
        "# **Predicting using SED Fitting**"
      ],
      "metadata": {
        "id": "a5-0ZqhsbCtG"
      }
    },
    {
      "cell_type": "code",
      "source": [
        "FUV = Table.read('models_kurucz/convolved/UVIT_FUV.fits',hdu=1) \n",
        "NUV = Table.read('models_kurucz/convolved/UVIT_NUV.fits',hdu=1) \n",
        "f1 = Table.read('models_kurucz/convolved/PS1g.fits',hdu=1)\n",
        "f2 = Table.read('models_kurucz/convolved/PS1r.fits',hdu=1)\n",
        "f3 = Table.read('models_kurucz/convolved/PS1i.fits',hdu=1)\n",
        "f4 = Table.read('models_kurucz/convolved/PS1z.fits',hdu=1)\n",
        "f5 = Table.read('models_kurucz/convolved/PS1y.fits',hdu=1)\n",
        "\n",
        "\n",
        "flux     = []\n",
        "flux_err = []\n",
        "model_names = []\n",
        "for i,row in df_chi_min.iterrows():\n",
        "  model_name = row['model_name']\n",
        "\n",
        "  fuv =[FUV[FUV['MODEL_NAME'] == model_name]['TOTAL_FLUX'].value[0][0] , FUV[FUV['MODEL_NAME'] == model_name]['TOTAL_FLUX_ERR'].value[0][0]]\n",
        "  nuv =[NUV[NUV['MODEL_NAME'] == model_name]['TOTAL_FLUX'].value[0][0] , NUV[NUV['MODEL_NAME'] == model_name]['TOTAL_FLUX_ERR'].value[0][0]]\n",
        "  g = [f1[f1['MODEL_NAME'] == model_name]['TOTAL_FLUX'].value[0][0] , f1[f1['MODEL_NAME'] == model_name]['TOTAL_FLUX_ERR'].value[0][0]]\n",
        "  r = [f2[f2['MODEL_NAME'] == model_name]['TOTAL_FLUX'].value[0][0] , f2[f2['MODEL_NAME'] == model_name]['TOTAL_FLUX_ERR'].value[0][0]]\n",
        "  i = [f3[f3['MODEL_NAME'] == model_name]['TOTAL_FLUX'].value[0][0] , f3[f3['MODEL_NAME'] == model_name]['TOTAL_FLUX_ERR'].value[0][0]]\n",
        "  z = [f4[f4['MODEL_NAME'] == model_name]['TOTAL_FLUX'].value[0][0] , f4[f4['MODEL_NAME'] == model_name]['TOTAL_FLUX_ERR'].value[0][0]]\n",
        "  y = [f5[f5['MODEL_NAME'] == model_name]['TOTAL_FLUX'].value[0][0] , f5[f5['MODEL_NAME'] == model_name]['TOTAL_FLUX_ERR'].value[0][0]]\n",
        "  fuv =[FUV[FUV['MODEL_NAME'] == model_name]['TOTAL_FLUX'].value[0][0] , FUV[FUV['MODEL_NAME'] == model_name]['TOTAL_FLUX_ERR'].value[0][0]]\n",
        "\n",
        "  flux.append([fuv[0], nuv[0], g[0], r[0], i[0], z[0], y[0]])\n",
        "\n",
        "  flux_err.append([fuv[1], nuv[1], g[1], r[1], i[1], z[1], y[1]])\n",
        "\n",
        "flux = np.array(flux)\n",
        "\n",
        "flux_err = np.array(flux_err)"
      ],
      "metadata": {
        "id": "1f8dObnL4MdP"
      },
      "execution_count": null,
      "outputs": []
    },
    {
      "cell_type": "code",
      "source": [
        "tab_star = Table.from_pandas(df_star)\n",
        "\n",
        "tab_star['model_flux']     = flux\n",
        "tab_star['Md']             = df_chi_min['Md']\n",
        "tab_star['Av']             = df_chi_min['Av']\n",
        "\n",
        "model_mag = []\n",
        "ext = np.array([2.67,1.95, 1.18, 0.881, 0.667, 0.534,0.457])\n",
        "\n",
        "for row in tab_star:\n",
        "  Av = row['Av']\n",
        "  Md = row['Md']\n",
        "  model_flux = row['model_flux']\n",
        "\n",
        "  model_mag.append(-2.5*np.log10(Md*model_flux*pow(10,-0.4*ext*Av)/3631e3))\n",
        "\n",
        "tab_star['model_mag']  = model_mag\n",
        "tab_star['chi2'] = df_chi_min['chi2']"
      ],
      "metadata": {
        "id": "MRNprdk63ziW"
      },
      "execution_count": null,
      "outputs": []
    },
    {
      "cell_type": "code",
      "source": [
        ""
      ],
      "metadata": {
        "id": "69Zf_9bVRqi2"
      },
      "execution_count": null,
      "outputs": []
    },
    {
      "cell_type": "code",
      "source": [
        "filters = ['ABmag1','ABmag2','gPSFMag','rPSFMag','iPSFMag','zPSFMag','yPSFMag']\n",
        "\n",
        "x = ['FUV', 'NUV', 'gPSFMag','rPSFMag','iPSFMag','zPSFMag','yPSFMag']\n",
        "\n",
        "FUV_diff = []\n",
        "FUV_obs = []\n",
        "\n",
        "NUV_diff = []\n",
        "NUV_obs = []\n",
        "for i,fl in df_star[filters].iterrows():\n",
        "  #plt.plot(x,fl, 'o-', color = 'black')\n",
        "  #plt.plot(x,tab_star['model_mag'].value[i],'s--')\n",
        "  FUV_obs.append(fl[0])\n",
        "  FUV_diff.append(fl[0] - tab_star['model_mag'].value[i][0])\n",
        "\n",
        "  NUV_obs.append(fl[1])\n",
        "  NUV_diff.append(fl[1] - tab_star['model_mag'].value[i][1])\n",
        " # plt.legend(['Observed','Model'])\n",
        " # plt.show()"
      ],
      "metadata": {
        "id": "AOr67Krp5jUd"
      },
      "execution_count": null,
      "outputs": []
    },
    {
      "cell_type": "code",
      "source": [
        "plt.scatter(FUV_obs,FUV_diff)\n",
        "plt.ylabel('FUV (Observed - Predicted )')\n",
        "plt.xlabel('FUV observed')\n",
        "plt.title('SED Fitting with Md and Av')\n"
      ],
      "metadata": {
        "id": "_2KsFLK0HpSi"
      },
      "execution_count": null,
      "outputs": []
    },
    {
      "cell_type": "code",
      "source": [
        "plt.scatter(NUV_obs,NUV_diff)\n",
        "plt.ylabel('NUV (Observed - Predicted )')\n",
        "plt.xlabel('NUV observed')\n",
        "plt.title('SED Fitting with Md and Av')\n"
      ],
      "metadata": {
        "id": "4bfpAduqSaAV"
      },
      "execution_count": null,
      "outputs": []
    },
    {
      "cell_type": "code",
      "source": [
        "df_chi_min['chi2']"
      ],
      "metadata": {
        "id": "_Oo6qTVOKg8p"
      },
      "execution_count": null,
      "outputs": []
    },
    {
      "cell_type": "code",
      "source": [
        ""
      ],
      "metadata": {
        "id": "lq7CmDFyTTqc"
      },
      "execution_count": null,
      "outputs": []
    }
  ]
}