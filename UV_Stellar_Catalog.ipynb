{
  "nbformat": 4,
  "nbformat_minor": 0,
  "metadata": {
    "colab": {
      "name": "UV_Stellar_Catalog.ipynb",
      "provenance": [],
      "authorship_tag": "ABX9TyMRG1gql4yG+ZroWs+bisdc",
      "include_colab_link": true
    },
    "kernelspec": {
      "name": "python3",
      "display_name": "Python 3"
    },
    "language_info": {
      "name": "python"
    }
  },
  "cells": [
    {
      "cell_type": "markdown",
      "metadata": {
        "id": "view-in-github",
        "colab_type": "text"
      },
      "source": [
        "<a href=\"https://colab.research.google.com/github/Jack3690/INSIST/blob/main/UV_Stellar_Catalog.ipynb\" target=\"_parent\"><img src=\"https://colab.research.google.com/assets/colab-badge.svg\" alt=\"Open In Colab\"/></a>"
      ]
    },
    {
      "cell_type": "markdown",
      "source": [
        "# **Install**"
      ],
      "metadata": {
        "id": "QOmHvVRpWmqp"
      }
    },
    {
      "cell_type": "code",
      "metadata": {
        "colab": {
          "base_uri": "https://localhost:8080/"
        },
        "id": "kmKFEMMFZ74N",
        "outputId": "3c77111a-c647-4a75-da1c-43c729aa1656"
      },
      "source": [
        "!pip install pysynphot --quiet\n",
        "!pip install git+https://github.com/rlwastro/mastcasjobs@master --quiet\n",
        "!pip install git+https://github.com/astrofrog/sedfitter@master --quiet"
      ],
      "execution_count": 1,
      "outputs": [
        {
          "output_type": "stream",
          "name": "stdout",
          "text": [
            "\u001b[K     |████████████████████████████████| 10.8 MB 4.6 MB/s \n",
            "\u001b[?25h  Installing build dependencies ... \u001b[?25l\u001b[?25hdone\n",
            "  Getting requirements to build wheel ... \u001b[?25l\u001b[?25hdone\n",
            "  Installing backend dependencies ... \u001b[?25l\u001b[?25hdone\n",
            "    Preparing wheel metadata ... \u001b[?25l\u001b[?25hdone\n",
            "  Building wheel for pysynphot (PEP 517) ... \u001b[?25l\u001b[?25hdone\n",
            "  Building wheel for mastcasjobs (setup.py) ... \u001b[?25l\u001b[?25hdone\n",
            "  Building wheel for casjobs (setup.py) ... \u001b[?25l\u001b[?25hdone\n",
            "  Building wheel for sedfitter (setup.py) ... \u001b[?25l\u001b[?25hdone\n"
          ]
        }
      ]
    },
    {
      "cell_type": "markdown",
      "metadata": {
        "id": "19zz7u-cSXtd"
      },
      "source": [
        "#**Imports**"
      ]
    },
    {
      "cell_type": "code",
      "metadata": {
        "colab": {
          "base_uri": "https://localhost:8080/"
        },
        "id": "8rbZ1cHlQ892",
        "outputId": "7f013409-70c6-410d-c15c-d87b72a08fc2"
      },
      "source": [
        "import pysynphot as S"
      ],
      "execution_count": 2,
      "outputs": [
        {
          "output_type": "stream",
          "name": "stderr",
          "text": [
            "/usr/local/lib/python3.7/dist-packages/pysynphot/locations.py:46: UserWarning: PYSYN_CDBS is undefined; functionality will be SEVERELY crippled.\n",
            "  warnings.warn(\"PYSYN_CDBS is undefined; functionality will be SEVERELY \"\n",
            "/usr/local/lib/python3.7/dist-packages/pysynphot/locations.py:345: UserWarning: Extinction files not found in extinction\n",
            "  warnings.warn('Extinction files not found in %s' % (extdir, ))\n"
          ]
        }
      ]
    },
    {
      "cell_type": "code",
      "metadata": {
        "id": "ben7JXnefwTQ"
      },
      "source": [
        "!export PYSYN_CDBS=/my/local/dir/trds/"
      ],
      "execution_count": 3,
      "outputs": []
    },
    {
      "cell_type": "code",
      "metadata": {
        "id": "qVyee94faMdF"
      },
      "source": [
        "import numpy as np\n",
        "import pandas as pd\n",
        "import matplotlib\n",
        "import matplotlib.pyplot as plt\n",
        "import seaborn as sb\n",
        "\n",
        "from astropy import units as u\n",
        "from astropy.coordinates import SkyCoord\n",
        "from astropy.stats import gaussian_fwhm_to_sigma, gaussian_sigma_to_fwhm\n",
        "from astropy.modeling import models, fitting\n",
        "from astropy.visualization import LogStretch\n",
        "from astropy.visualization.mpl_normalize import ImageNormalize\n",
        "from astropy import wcs\n",
        "from matplotlib import cm\n",
        "from matplotlib.colors import ListedColormap, LinearSegmentedColormap\n",
        "from astropy.table import Table\n",
        "from astropy.io import fits\n",
        "\n",
        "import os\n",
        "from time import perf_counter\n",
        "import json\n",
        "import requests\n",
        "import pysynphot as S\n",
        "import sedfitter as sed\n",
        "\n",
        "import mastcasjobs\n",
        "from scipy.optimize import minimize_scalar,minimize\n",
        "\n",
        "# get the WSID and password if not already defined\n",
        "if not os.environ.get('CASJOBS_USERID'):\n",
        "    os.environ['CASJOBS_USERID'] = \"avinashck90\"\n",
        "if not os.environ.get('CASJOBS_PW'):\n",
        "    os.environ['CASJOBS_PW'] = \"INSIST369\"\n",
        "\n",
        "matplotlib.rcParams['font.size']=15\n",
        "matplotlib.rcParams['figure.figsize']=(15,10)\n",
        "sb.set_style('darkgrid')"
      ],
      "execution_count": 4,
      "outputs": []
    },
    {
      "cell_type": "markdown",
      "source": [
        "# **GitHub**"
      ],
      "metadata": {
        "id": "i1mcLAB5DFSt"
      }
    },
    {
      "cell_type": "code",
      "metadata": {
        "colab": {
          "base_uri": "https://localhost:8080/"
        },
        "id": "4D-dNXcqSeX_",
        "outputId": "c8170ede-8bf2-4a91-b86c-013b4217f117"
      },
      "source": [
        "!git clone https://github.com/Jack3690/INSIST"
      ],
      "execution_count": 5,
      "outputs": [
        {
          "output_type": "stream",
          "name": "stdout",
          "text": [
            "Cloning into 'INSIST'...\n",
            "remote: Enumerating objects: 631, done.\u001b[K\n",
            "remote: Counting objects: 100% (256/256), done.\u001b[K\n",
            "remote: Compressing objects: 100% (252/252), done.\u001b[K\n",
            "remote: Total 631 (delta 140), reused 4 (delta 2), pack-reused 375\u001b[K\n",
            "Receiving objects: 100% (631/631), 65.55 MiB | 19.49 MiB/s, done.\n",
            "Resolving deltas: 100% (328/328), done.\n"
          ]
        }
      ]
    },
    {
      "cell_type": "code",
      "metadata": {
        "id": "u7R9oIZbSjB5",
        "outputId": "7dfc10b7-56e3-4b2a-9975-7559636eb732",
        "colab": {
          "base_uri": "https://localhost:8080/"
        }
      },
      "source": [
        "cd INSIST/data"
      ],
      "execution_count": 6,
      "outputs": [
        {
          "output_type": "stream",
          "name": "stdout",
          "text": [
            "/content/INSIST/data\n"
          ]
        }
      ]
    },
    {
      "cell_type": "code",
      "source": [
        "!cp -a plot.py /usr/local/lib/python3.7/dist-packages/sedfitter"
      ],
      "metadata": {
        "id": "AqO9xmcu88zH"
      },
      "execution_count": 7,
      "outputs": []
    },
    {
      "cell_type": "markdown",
      "metadata": {
        "id": "EQW8jnRkGst-"
      },
      "source": [
        "# **Data**"
      ]
    },
    {
      "cell_type": "markdown",
      "metadata": {
        "id": "gtQQDMuCTv6D"
      },
      "source": [
        "## **CasJobs Script**"
      ]
    },
    {
      "cell_type": "code",
      "metadata": {
        "id": "wkGNEfD32zu7"
      },
      "source": [
        "def mastQuery(request, json_return=False):\n",
        "    \"\"\"Perform a MAST query.\n",
        "\n",
        "    Parameters\n",
        "    ----------\n",
        "    request (dictionary): The MAST request json object\n",
        "    \n",
        "    Returns the text response or (if json_return=True) the json response\n",
        "    \"\"\"\n",
        "    \n",
        "    url = \"https://mast.stsci.edu/api/v0/invoke\"\n",
        "\n",
        "    # Encoding the request as a json string\n",
        "    requestString = json.dumps(request)\n",
        "    \n",
        "    # make the query\n",
        "    r = requests.post(url, data=dict(request=requestString))\n",
        "    \n",
        "    # raise exception on error\n",
        "    r.raise_for_status()\n",
        "    \n",
        "    if json_return:\n",
        "        return r.json()\n",
        "    else:\n",
        "        return r.text\n",
        "\n",
        "\n",
        "def resolve(name):\n",
        "    \"\"\"Get the RA and Dec for an object using the MAST name resolver\n",
        "    \n",
        "    Parameters\n",
        "    ----------\n",
        "    name (str): Name of object\n",
        "\n",
        "    Returns RA, Dec tuple with position\"\"\"\n",
        "\n",
        "    resolverRequest = {'service':'Mast.Name.Lookup',\n",
        "                       'params':{'input':name,\n",
        "                                 'format':'json'\n",
        "                                },\n",
        "                      }\n",
        "    resolvedObject = mastQuery(resolverRequest, json_return=True)\n",
        "    # The resolver returns a variety of information about the resolved object, \n",
        "    # however for our purposes all we need are the RA and Dec\n",
        "    try:\n",
        "        objRa = resolvedObject['resolvedCoordinate'][0]['ra']\n",
        "        objDec = resolvedObject['resolvedCoordinate'][0]['decl']\n",
        "    except IndexError as e:\n",
        "        raise ValueError(\"Unknown object '{}'\".format(name))\n",
        "    return (objRa, objDec)"
      ],
      "execution_count": null,
      "outputs": []
    },
    {
      "cell_type": "code",
      "metadata": {
        "id": "wIHbrJgX4ju2"
      },
      "source": [
        "class casjobs():\n",
        "    \"\"\"PSF Generator using Source catalog or CasJobs GALEX Catalog\n",
        "\n",
        "    Parameters\n",
        "    ----------\n",
        "    name (string) : Catalog name or coordinates of the source\n",
        "\n",
        "    df   (pd.DataFrame ): Pandas dataframe with source catalog\n",
        "\n",
        "    cols (dict) : dict object with column name conversions for ra,dec,mag_nuv. Eg {'RA': 'ra','Dec' : 'dec', 'ABmag' : 'mag_nuv'}\n",
        "\n",
        "        'ra' (degrees)\n",
        "\n",
        "        'dec' (degrees)\n",
        "\n",
        "        'mag_nuv' (ABmag)\n",
        "\n",
        "    pixel_scale (float) : pixel scale of detector in the unit of arcseconds/pixels\n",
        "\n",
        "    fwhm_in (float) : Full Width at Half Maximum of the Gaussian PSF\n",
        "\n",
        "    n_pix_main (int) : Number of pixels along one axis in the detector. Total number of pixels in the detector is n_pix_main**2\n",
        "\n",
        "    n_pix_sub (int) : Number of pixels along one axis in the path. Total number of pixels in the patch is n_pix_sub**2\n",
        "\n",
        "    \"\"\"\n",
        "    def __init__(self,name = None, df = None ,cols = None):   \n",
        "\n",
        "        if name is not None and df is None:\n",
        "          self.name = name\n",
        "          self.ra,self.dec = resolve(name)\n",
        "      \n",
        "          self.jobs = mastcasjobs.MastCasJobs(context=\"PanSTARRS_DR2\")\n",
        "          self.query =   f\"\"\"select psc.objid,o.raStack,o.decStack,mag.gPSFMag, mag.gPSFMagErr,mag.rPSFMag, mag.rPSFMagErr,mag.iPSFMag, mag.iPSFMagErr,mag.zPSFMag,mag.zPSFMagErr, mag.yPSFMag,mag.yPSFMagErr,psc.ps_score\n",
        "                            from fGetNearbyObjEq({self.ra}, {self.dec}, 28) f\n",
        "                            join ObjectThin o on o.objid=f.objid\n",
        "                            join HLSP_PS1_PSC.pointsource_scores psc on psc.objid=f.objid\n",
        "                            join StackObjectThin mag on mag.objid=psc.objid\n",
        "                            WHERE\n",
        "                            mag.gPSFMag>-900 and \n",
        "                            mag.rPSFMag>-900 and \n",
        "                            mag.iPSFMag>-900 and \n",
        "                            mag.zPSFMag>-900 and \n",
        "                            mag.yPSFMag>-900 \n",
        "                          \"\"\"\n",
        "          self.df = self.jobs.quick(self.query, task_name=\"python cone search\").to_pandas()\n",
        "        else:\n",
        "          self.df = df \n",
        "        if cols is not None:\n",
        "          self.df = self.df.rename(columns=cols) \n",
        "    \n",
        "    def show_field(self,figsize=(10,10)):\n",
        "      \"\"\"\n",
        "      Function for creating a scatter plot of sources within the FoV\n",
        "      \n",
        "      Returns\n",
        "      -------\n",
        "      fig, ax\n",
        "      \"\"\"\n",
        "        \n",
        "      fig, ax = plt.subplots(1,1,figsize=figsize)\n",
        "      ax.scatter(self.df['ra'],self.df['dec'],marker='.',color='black')\n",
        "      ax.set_title(f\" Requested Center : {self.name} \\n  {len(self.df)} sources\")\n",
        "      ax.invert_xaxis()\n",
        "      ax.set_xlabel('RA (Degrees)')\n",
        "      ax.set_ylabel('Dec (Degrees)')\n",
        "      return fig,ax\n",
        "      \n",
        "        "
      ],
      "execution_count": null,
      "outputs": []
    },
    {
      "cell_type": "markdown",
      "source": [
        "## **M 31 Test**"
      ],
      "metadata": {
        "id": "-2fMGvQErfNo"
      }
    },
    {
      "cell_type": "code",
      "source": [
        "df_M31 = Table.read('M31_crossmatch.fits')\n",
        "t=[]\n",
        "for i in df_M31['Filter']:\n",
        "  t.append(i.split()[0])\n",
        "\n",
        "df_M31 = df_M31.to_pandas().rename(columns = {'raStack':'ra','decStack':'dec'})\n",
        "\n",
        "df_M31['Filter'] = t\n",
        "df_M31"
      ],
      "metadata": {
        "id": "qlJdfzY940RN",
        "outputId": "804853d8-c942-4503-b129-63c667d6ee0f",
        "colab": {
          "base_uri": "https://localhost:8080/",
          "height": 0
        }
      },
      "execution_count": 8,
      "outputs": [
        {
          "output_type": "execute_result",
          "data": {
            "text/html": [
              "\n",
              "  <div id=\"df-f45dda59-9098-40ec-a3f0-dffa75e2f4be\">\n",
              "    <div class=\"colab-df-container\">\n",
              "      <div>\n",
              "<style scoped>\n",
              "    .dataframe tbody tr th:only-of-type {\n",
              "        vertical-align: middle;\n",
              "    }\n",
              "\n",
              "    .dataframe tbody tr th {\n",
              "        vertical-align: top;\n",
              "    }\n",
              "\n",
              "    .dataframe thead th {\n",
              "        text-align: right;\n",
              "    }\n",
              "</style>\n",
              "<table border=\"1\" class=\"dataframe\">\n",
              "  <thead>\n",
              "    <tr style=\"text-align: right;\">\n",
              "      <th></th>\n",
              "      <th>Filter</th>\n",
              "      <th>RAJ2000</th>\n",
              "      <th>DEJ2000</th>\n",
              "      <th>ABmag</th>\n",
              "      <th>mag</th>\n",
              "      <th>Errmag</th>\n",
              "      <th>Field</th>\n",
              "      <th>M31Cat</th>\n",
              "      <th>objid</th>\n",
              "      <th>ra</th>\n",
              "      <th>dec</th>\n",
              "      <th>gPSFMag</th>\n",
              "      <th>gPSFMagErr</th>\n",
              "      <th>rPSFMag</th>\n",
              "      <th>rPSFMagErr</th>\n",
              "      <th>iPSFMag</th>\n",
              "      <th>iPSFMagErr</th>\n",
              "      <th>zPSFMag</th>\n",
              "      <th>zPSFMagErr</th>\n",
              "      <th>yPSFMag</th>\n",
              "      <th>yPSFMagErr</th>\n",
              "      <th>ps_score</th>\n",
              "      <th>Separation</th>\n",
              "    </tr>\n",
              "  </thead>\n",
              "  <tbody>\n",
              "    <tr>\n",
              "      <th>0</th>\n",
              "      <td>FUVCaF2</td>\n",
              "      <td>11.0050</td>\n",
              "      <td>41.372601</td>\n",
              "      <td>22.556999</td>\n",
              "      <td>20.156000</td>\n",
              "      <td>0.104</td>\n",
              "      <td>b'1, 2      '</td>\n",
              "      <td>3</td>\n",
              "      <td>157640110050187706</td>\n",
              "      <td>11.005001</td>\n",
              "      <td>41.372588</td>\n",
              "      <td>20.251699</td>\n",
              "      <td>0.016611</td>\n",
              "      <td>20.385599</td>\n",
              "      <td>0.022176</td>\n",
              "      <td>20.485701</td>\n",
              "      <td>0.024243</td>\n",
              "      <td>20.354401</td>\n",
              "      <td>0.062501</td>\n",
              "      <td>20.303400</td>\n",
              "      <td>0.096491</td>\n",
              "      <td>0.369685</td>\n",
              "      <td>0.043593</td>\n",
              "    </tr>\n",
              "    <tr>\n",
              "      <th>1</th>\n",
              "      <td>FUVCaF2</td>\n",
              "      <td>10.8824</td>\n",
              "      <td>41.446201</td>\n",
              "      <td>22.525999</td>\n",
              "      <td>20.125000</td>\n",
              "      <td>0.102</td>\n",
              "      <td>b'1, 2      '</td>\n",
              "      <td>3</td>\n",
              "      <td>157730108824256022</td>\n",
              "      <td>10.882441</td>\n",
              "      <td>41.446148</td>\n",
              "      <td>21.872499</td>\n",
              "      <td>0.063081</td>\n",
              "      <td>22.364799</td>\n",
              "      <td>0.120779</td>\n",
              "      <td>21.684299</td>\n",
              "      <td>0.077272</td>\n",
              "      <td>21.827299</td>\n",
              "      <td>0.198476</td>\n",
              "      <td>22.543200</td>\n",
              "      <td>0.806140</td>\n",
              "      <td>0.012833</td>\n",
              "      <td>0.222159</td>\n",
              "    </tr>\n",
              "    <tr>\n",
              "      <th>2</th>\n",
              "      <td>FUVCaF2</td>\n",
              "      <td>11.0068</td>\n",
              "      <td>41.368599</td>\n",
              "      <td>22.677999</td>\n",
              "      <td>20.277000</td>\n",
              "      <td>0.113</td>\n",
              "      <td>b'1, 2      '</td>\n",
              "      <td>3</td>\n",
              "      <td>157640110067852870</td>\n",
              "      <td>11.006835</td>\n",
              "      <td>41.368553</td>\n",
              "      <td>20.694000</td>\n",
              "      <td>0.022622</td>\n",
              "      <td>20.539499</td>\n",
              "      <td>0.021383</td>\n",
              "      <td>20.524500</td>\n",
              "      <td>0.028266</td>\n",
              "      <td>20.584499</td>\n",
              "      <td>0.054087</td>\n",
              "      <td>20.421499</td>\n",
              "      <td>0.097740</td>\n",
              "      <td>0.040125</td>\n",
              "      <td>0.192727</td>\n",
              "    </tr>\n",
              "    <tr>\n",
              "      <th>3</th>\n",
              "      <td>FUVCaF2</td>\n",
              "      <td>10.9376</td>\n",
              "      <td>41.415699</td>\n",
              "      <td>22.198000</td>\n",
              "      <td>19.797001</td>\n",
              "      <td>0.093</td>\n",
              "      <td>b'1, 2      '</td>\n",
              "      <td>3</td>\n",
              "      <td>157690109375969504</td>\n",
              "      <td>10.937593</td>\n",
              "      <td>41.415661</td>\n",
              "      <td>20.555000</td>\n",
              "      <td>0.022185</td>\n",
              "      <td>20.558201</td>\n",
              "      <td>0.025005</td>\n",
              "      <td>20.419001</td>\n",
              "      <td>0.022528</td>\n",
              "      <td>20.097500</td>\n",
              "      <td>0.036679</td>\n",
              "      <td>20.198799</td>\n",
              "      <td>0.090087</td>\n",
              "      <td>0.012375</td>\n",
              "      <td>0.137362</td>\n",
              "    </tr>\n",
              "    <tr>\n",
              "      <th>4</th>\n",
              "      <td>FUVCaF2</td>\n",
              "      <td>10.9585</td>\n",
              "      <td>41.384899</td>\n",
              "      <td>23.364000</td>\n",
              "      <td>20.962999</td>\n",
              "      <td>0.161</td>\n",
              "      <td>b'1, 2      '</td>\n",
              "      <td>3</td>\n",
              "      <td>157660109585222564</td>\n",
              "      <td>10.958540</td>\n",
              "      <td>41.385006</td>\n",
              "      <td>21.745300</td>\n",
              "      <td>0.072161</td>\n",
              "      <td>21.099100</td>\n",
              "      <td>0.037309</td>\n",
              "      <td>20.879101</td>\n",
              "      <td>0.032354</td>\n",
              "      <td>20.508499</td>\n",
              "      <td>0.050840</td>\n",
              "      <td>20.969400</td>\n",
              "      <td>0.200653</td>\n",
              "      <td>0.075208</td>\n",
              "      <td>0.400405</td>\n",
              "    </tr>\n",
              "    <tr>\n",
              "      <th>...</th>\n",
              "      <td>...</td>\n",
              "      <td>...</td>\n",
              "      <td>...</td>\n",
              "      <td>...</td>\n",
              "      <td>...</td>\n",
              "      <td>...</td>\n",
              "      <td>...</td>\n",
              "      <td>...</td>\n",
              "      <td>...</td>\n",
              "      <td>...</td>\n",
              "      <td>...</td>\n",
              "      <td>...</td>\n",
              "      <td>...</td>\n",
              "      <td>...</td>\n",
              "      <td>...</td>\n",
              "      <td>...</td>\n",
              "      <td>...</td>\n",
              "      <td>...</td>\n",
              "      <td>...</td>\n",
              "      <td>...</td>\n",
              "      <td>...</td>\n",
              "      <td>...</td>\n",
              "      <td>...</td>\n",
              "    </tr>\n",
              "    <tr>\n",
              "      <th>7598</th>\n",
              "      <td>NUVN2</td>\n",
              "      <td>11.0671</td>\n",
              "      <td>41.070000</td>\n",
              "      <td>19.358999</td>\n",
              "      <td>17.858999</td>\n",
              "      <td>0.105</td>\n",
              "      <td>b'7         '</td>\n",
              "      <td>0</td>\n",
              "      <td>157280110671684643</td>\n",
              "      <td>11.067159</td>\n",
              "      <td>41.070006</td>\n",
              "      <td>14.721900</td>\n",
              "      <td>0.000689</td>\n",
              "      <td>14.072800</td>\n",
              "      <td>0.000365</td>\n",
              "      <td>14.068700</td>\n",
              "      <td>0.000323</td>\n",
              "      <td>13.782600</td>\n",
              "      <td>0.000537</td>\n",
              "      <td>13.736200</td>\n",
              "      <td>0.000622</td>\n",
              "      <td>0.988167</td>\n",
              "      <td>0.162084</td>\n",
              "    </tr>\n",
              "    <tr>\n",
              "      <th>7599</th>\n",
              "      <td>NUVN2</td>\n",
              "      <td>11.0833</td>\n",
              "      <td>41.296700</td>\n",
              "      <td>19.736000</td>\n",
              "      <td>18.236000</td>\n",
              "      <td>0.138</td>\n",
              "      <td>b'7         '</td>\n",
              "      <td>9</td>\n",
              "      <td>157550110833086707</td>\n",
              "      <td>11.083265</td>\n",
              "      <td>41.296760</td>\n",
              "      <td>18.607800</td>\n",
              "      <td>0.005139</td>\n",
              "      <td>18.419201</td>\n",
              "      <td>0.003868</td>\n",
              "      <td>18.445499</td>\n",
              "      <td>0.004408</td>\n",
              "      <td>18.419901</td>\n",
              "      <td>0.011739</td>\n",
              "      <td>18.325100</td>\n",
              "      <td>0.016152</td>\n",
              "      <td>0.003542</td>\n",
              "      <td>0.238476</td>\n",
              "    </tr>\n",
              "    <tr>\n",
              "      <th>7600</th>\n",
              "      <td>NUVN2</td>\n",
              "      <td>11.0289</td>\n",
              "      <td>41.079399</td>\n",
              "      <td>18.735001</td>\n",
              "      <td>17.235001</td>\n",
              "      <td>0.081</td>\n",
              "      <td>b'7         '</td>\n",
              "      <td>0</td>\n",
              "      <td>157290110289975982</td>\n",
              "      <td>11.029001</td>\n",
              "      <td>41.079458</td>\n",
              "      <td>15.802300</td>\n",
              "      <td>0.000937</td>\n",
              "      <td>15.466000</td>\n",
              "      <td>0.000743</td>\n",
              "      <td>15.331300</td>\n",
              "      <td>0.000581</td>\n",
              "      <td>15.224300</td>\n",
              "      <td>0.001314</td>\n",
              "      <td>15.386800</td>\n",
              "      <td>0.001587</td>\n",
              "      <td>0.982369</td>\n",
              "      <td>0.346155</td>\n",
              "    </tr>\n",
              "    <tr>\n",
              "      <th>7601</th>\n",
              "      <td>NUVN2</td>\n",
              "      <td>11.1346</td>\n",
              "      <td>41.028301</td>\n",
              "      <td>19.311001</td>\n",
              "      <td>17.811001</td>\n",
              "      <td>0.103</td>\n",
              "      <td>b'7         '</td>\n",
              "      <td>0</td>\n",
              "      <td>157230111346554603</td>\n",
              "      <td>11.134657</td>\n",
              "      <td>41.028309</td>\n",
              "      <td>15.547000</td>\n",
              "      <td>0.000800</td>\n",
              "      <td>15.182300</td>\n",
              "      <td>0.000643</td>\n",
              "      <td>14.996400</td>\n",
              "      <td>0.000561</td>\n",
              "      <td>14.892900</td>\n",
              "      <td>0.001008</td>\n",
              "      <td>14.937400</td>\n",
              "      <td>0.001074</td>\n",
              "      <td>0.969958</td>\n",
              "      <td>0.159610</td>\n",
              "    </tr>\n",
              "    <tr>\n",
              "      <th>7602</th>\n",
              "      <td>NUVN2</td>\n",
              "      <td>10.9757</td>\n",
              "      <td>41.238400</td>\n",
              "      <td>21.011000</td>\n",
              "      <td>19.511000</td>\n",
              "      <td>0.224</td>\n",
              "      <td>b'7         '</td>\n",
              "      <td>3</td>\n",
              "      <td>157480109756396585</td>\n",
              "      <td>10.975620</td>\n",
              "      <td>41.238344</td>\n",
              "      <td>20.956499</td>\n",
              "      <td>0.029092</td>\n",
              "      <td>20.614799</td>\n",
              "      <td>0.021377</td>\n",
              "      <td>20.267099</td>\n",
              "      <td>0.018775</td>\n",
              "      <td>20.139000</td>\n",
              "      <td>0.044767</td>\n",
              "      <td>20.216801</td>\n",
              "      <td>0.085587</td>\n",
              "      <td>0.451369</td>\n",
              "      <td>0.294241</td>\n",
              "    </tr>\n",
              "  </tbody>\n",
              "</table>\n",
              "<p>7603 rows × 23 columns</p>\n",
              "</div>\n",
              "      <button class=\"colab-df-convert\" onclick=\"convertToInteractive('df-f45dda59-9098-40ec-a3f0-dffa75e2f4be')\"\n",
              "              title=\"Convert this dataframe to an interactive table.\"\n",
              "              style=\"display:none;\">\n",
              "        \n",
              "  <svg xmlns=\"http://www.w3.org/2000/svg\" height=\"24px\"viewBox=\"0 0 24 24\"\n",
              "       width=\"24px\">\n",
              "    <path d=\"M0 0h24v24H0V0z\" fill=\"none\"/>\n",
              "    <path d=\"M18.56 5.44l.94 2.06.94-2.06 2.06-.94-2.06-.94-.94-2.06-.94 2.06-2.06.94zm-11 1L8.5 8.5l.94-2.06 2.06-.94-2.06-.94L8.5 2.5l-.94 2.06-2.06.94zm10 10l.94 2.06.94-2.06 2.06-.94-2.06-.94-.94-2.06-.94 2.06-2.06.94z\"/><path d=\"M17.41 7.96l-1.37-1.37c-.4-.4-.92-.59-1.43-.59-.52 0-1.04.2-1.43.59L10.3 9.45l-7.72 7.72c-.78.78-.78 2.05 0 2.83L4 21.41c.39.39.9.59 1.41.59.51 0 1.02-.2 1.41-.59l7.78-7.78 2.81-2.81c.8-.78.8-2.07 0-2.86zM5.41 20L4 18.59l7.72-7.72 1.47 1.35L5.41 20z\"/>\n",
              "  </svg>\n",
              "      </button>\n",
              "      \n",
              "  <style>\n",
              "    .colab-df-container {\n",
              "      display:flex;\n",
              "      flex-wrap:wrap;\n",
              "      gap: 12px;\n",
              "    }\n",
              "\n",
              "    .colab-df-convert {\n",
              "      background-color: #E8F0FE;\n",
              "      border: none;\n",
              "      border-radius: 50%;\n",
              "      cursor: pointer;\n",
              "      display: none;\n",
              "      fill: #1967D2;\n",
              "      height: 32px;\n",
              "      padding: 0 0 0 0;\n",
              "      width: 32px;\n",
              "    }\n",
              "\n",
              "    .colab-df-convert:hover {\n",
              "      background-color: #E2EBFA;\n",
              "      box-shadow: 0px 1px 2px rgba(60, 64, 67, 0.3), 0px 1px 3px 1px rgba(60, 64, 67, 0.15);\n",
              "      fill: #174EA6;\n",
              "    }\n",
              "\n",
              "    [theme=dark] .colab-df-convert {\n",
              "      background-color: #3B4455;\n",
              "      fill: #D2E3FC;\n",
              "    }\n",
              "\n",
              "    [theme=dark] .colab-df-convert:hover {\n",
              "      background-color: #434B5C;\n",
              "      box-shadow: 0px 1px 3px 1px rgba(0, 0, 0, 0.15);\n",
              "      filter: drop-shadow(0px 1px 2px rgba(0, 0, 0, 0.3));\n",
              "      fill: #FFFFFF;\n",
              "    }\n",
              "  </style>\n",
              "\n",
              "      <script>\n",
              "        const buttonEl =\n",
              "          document.querySelector('#df-f45dda59-9098-40ec-a3f0-dffa75e2f4be button.colab-df-convert');\n",
              "        buttonEl.style.display =\n",
              "          google.colab.kernel.accessAllowed ? 'block' : 'none';\n",
              "\n",
              "        async function convertToInteractive(key) {\n",
              "          const element = document.querySelector('#df-f45dda59-9098-40ec-a3f0-dffa75e2f4be');\n",
              "          const dataTable =\n",
              "            await google.colab.kernel.invokeFunction('convertToInteractive',\n",
              "                                                     [key], {});\n",
              "          if (!dataTable) return;\n",
              "\n",
              "          const docLinkHtml = 'Like what you see? Visit the ' +\n",
              "            '<a target=\"_blank\" href=https://colab.research.google.com/notebooks/data_table.ipynb>data table notebook</a>'\n",
              "            + ' to learn more about interactive tables.';\n",
              "          element.innerHTML = '';\n",
              "          dataTable['output_type'] = 'display_data';\n",
              "          await google.colab.output.renderOutput(dataTable, element);\n",
              "          const docLink = document.createElement('div');\n",
              "          docLink.innerHTML = docLinkHtml;\n",
              "          element.appendChild(docLink);\n",
              "        }\n",
              "      </script>\n",
              "    </div>\n",
              "  </div>\n",
              "  "
            ],
            "text/plain": [
              "       Filter  RAJ2000    DEJ2000  ...  yPSFMagErr  ps_score  Separation\n",
              "0     FUVCaF2  11.0050  41.372601  ...    0.096491  0.369685    0.043593\n",
              "1     FUVCaF2  10.8824  41.446201  ...    0.806140  0.012833    0.222159\n",
              "2     FUVCaF2  11.0068  41.368599  ...    0.097740  0.040125    0.192727\n",
              "3     FUVCaF2  10.9376  41.415699  ...    0.090087  0.012375    0.137362\n",
              "4     FUVCaF2  10.9585  41.384899  ...    0.200653  0.075208    0.400405\n",
              "...       ...      ...        ...  ...         ...       ...         ...\n",
              "7598    NUVN2  11.0671  41.070000  ...    0.000622  0.988167    0.162084\n",
              "7599    NUVN2  11.0833  41.296700  ...    0.016152  0.003542    0.238476\n",
              "7600    NUVN2  11.0289  41.079399  ...    0.001587  0.982369    0.346155\n",
              "7601    NUVN2  11.1346  41.028301  ...    0.001074  0.969958    0.159610\n",
              "7602    NUVN2  10.9757  41.238400  ...    0.085587  0.451369    0.294241\n",
              "\n",
              "[7603 rows x 23 columns]"
            ]
          },
          "metadata": {},
          "execution_count": 8
        }
      ]
    },
    {
      "cell_type": "markdown",
      "metadata": {
        "id": "0gXXf6vJR5EO"
      },
      "source": [
        "## **Query**"
      ]
    },
    {
      "cell_type": "code",
      "metadata": {
        "id": "lWTKb3fV4jyw"
      },
      "source": [
        "try:\n",
        "  df = casjobs('M 67', cols = {'raStack':'ra','decStack':'dec'}).df\n",
        "except:\n",
        "  df = pd.read_csv('M67_PS1.csv')\n",
        "  df =  df.rename(columns = {'raStack':'ra','decStack':'dec'})"
      ],
      "execution_count": null,
      "outputs": []
    },
    {
      "cell_type": "code",
      "metadata": {
        "id": "Ag0wgh7Y7GQN"
      },
      "source": [
        "df_star = df[df['ps_score']>0.5].copy()"
      ],
      "execution_count": null,
      "outputs": []
    },
    {
      "cell_type": "code",
      "metadata": {
        "colab": {
          "base_uri": "https://localhost:8080/"
        },
        "id": "-aTHfno94j2D",
        "outputId": "6fc1fafa-14e6-434f-8b0f-990b7afbf8b6"
      },
      "source": [
        "df_star"
      ],
      "execution_count": null,
      "outputs": [
        {
          "output_type": "execute_result",
          "data": {
            "text/html": [
              "\n",
              "  <div id=\"df-1d7374c4-e295-49ab-bd97-3ee6bf56f8d6\">\n",
              "    <div class=\"colab-df-container\">\n",
              "      <div>\n",
              "<style scoped>\n",
              "    .dataframe tbody tr th:only-of-type {\n",
              "        vertical-align: middle;\n",
              "    }\n",
              "\n",
              "    .dataframe tbody tr th {\n",
              "        vertical-align: top;\n",
              "    }\n",
              "\n",
              "    .dataframe thead th {\n",
              "        text-align: right;\n",
              "    }\n",
              "</style>\n",
              "<table border=\"1\" class=\"dataframe\">\n",
              "  <thead>\n",
              "    <tr style=\"text-align: right;\">\n",
              "      <th></th>\n",
              "      <th>objid</th>\n",
              "      <th>ra</th>\n",
              "      <th>dec</th>\n",
              "      <th>gPSFMag</th>\n",
              "      <th>gPSFMagErr</th>\n",
              "      <th>rPSFMag</th>\n",
              "      <th>rPSFMagErr</th>\n",
              "      <th>iPSFMag</th>\n",
              "      <th>iPSFMagErr</th>\n",
              "      <th>zPSFMag</th>\n",
              "      <th>zPSFMagErr</th>\n",
              "      <th>yPSFMag</th>\n",
              "      <th>yPSFMagErr</th>\n",
              "      <th>ps_score</th>\n",
              "    </tr>\n",
              "  </thead>\n",
              "  <tbody>\n",
              "    <tr>\n",
              "      <th>2</th>\n",
              "      <td>121971328494717854</td>\n",
              "      <td>132.849460</td>\n",
              "      <td>11.647811</td>\n",
              "      <td>14.869100</td>\n",
              "      <td>0.000533</td>\n",
              "      <td>14.360300</td>\n",
              "      <td>0.000274</td>\n",
              "      <td>14.238800</td>\n",
              "      <td>0.000320</td>\n",
              "      <td>14.228000</td>\n",
              "      <td>0.000519</td>\n",
              "      <td>14.180500</td>\n",
              "      <td>0.000877</td>\n",
              "      <td>0.997500</td>\n",
              "    </tr>\n",
              "    <tr>\n",
              "      <th>3</th>\n",
              "      <td>121981327802535449</td>\n",
              "      <td>132.780255</td>\n",
              "      <td>11.654201</td>\n",
              "      <td>22.408501</td>\n",
              "      <td>0.070046</td>\n",
              "      <td>21.075701</td>\n",
              "      <td>0.020825</td>\n",
              "      <td>19.894899</td>\n",
              "      <td>0.010747</td>\n",
              "      <td>19.387800</td>\n",
              "      <td>0.012878</td>\n",
              "      <td>19.222099</td>\n",
              "      <td>0.028750</td>\n",
              "      <td>0.967161</td>\n",
              "    </tr>\n",
              "    <tr>\n",
              "      <th>7</th>\n",
              "      <td>121981328054472261</td>\n",
              "      <td>132.805456</td>\n",
              "      <td>11.651512</td>\n",
              "      <td>20.532900</td>\n",
              "      <td>0.016547</td>\n",
              "      <td>20.011999</td>\n",
              "      <td>0.012918</td>\n",
              "      <td>19.655001</td>\n",
              "      <td>0.009876</td>\n",
              "      <td>19.598499</td>\n",
              "      <td>0.015401</td>\n",
              "      <td>19.531300</td>\n",
              "      <td>0.032895</td>\n",
              "      <td>0.973104</td>\n",
              "    </tr>\n",
              "    <tr>\n",
              "      <th>8</th>\n",
              "      <td>121981328218108430</td>\n",
              "      <td>132.821806</td>\n",
              "      <td>11.656615</td>\n",
              "      <td>21.308001</td>\n",
              "      <td>0.035670</td>\n",
              "      <td>20.095501</td>\n",
              "      <td>0.021422</td>\n",
              "      <td>18.960800</td>\n",
              "      <td>0.006396</td>\n",
              "      <td>18.470501</td>\n",
              "      <td>0.006572</td>\n",
              "      <td>18.143700</td>\n",
              "      <td>0.010728</td>\n",
              "      <td>0.987833</td>\n",
              "    </tr>\n",
              "    <tr>\n",
              "      <th>10</th>\n",
              "      <td>121981328277113751</td>\n",
              "      <td>132.827729</td>\n",
              "      <td>11.652668</td>\n",
              "      <td>21.941999</td>\n",
              "      <td>0.059630</td>\n",
              "      <td>20.682800</td>\n",
              "      <td>0.015879</td>\n",
              "      <td>19.333900</td>\n",
              "      <td>0.007499</td>\n",
              "      <td>18.809700</td>\n",
              "      <td>0.007518</td>\n",
              "      <td>18.456301</td>\n",
              "      <td>0.013550</td>\n",
              "      <td>0.969271</td>\n",
              "    </tr>\n",
              "    <tr>\n",
              "      <th>...</th>\n",
              "      <td>...</td>\n",
              "      <td>...</td>\n",
              "      <td>...</td>\n",
              "      <td>...</td>\n",
              "      <td>...</td>\n",
              "      <td>...</td>\n",
              "      <td>...</td>\n",
              "      <td>...</td>\n",
              "      <td>...</td>\n",
              "      <td>...</td>\n",
              "      <td>...</td>\n",
              "      <td>...</td>\n",
              "      <td>...</td>\n",
              "      <td>...</td>\n",
              "    </tr>\n",
              "    <tr>\n",
              "      <th>1825</th>\n",
              "      <td>122361328754558683</td>\n",
              "      <td>132.875457</td>\n",
              "      <td>11.973499</td>\n",
              "      <td>14.265200</td>\n",
              "      <td>0.000371</td>\n",
              "      <td>13.934200</td>\n",
              "      <td>0.000273</td>\n",
              "      <td>13.864500</td>\n",
              "      <td>0.000378</td>\n",
              "      <td>13.834500</td>\n",
              "      <td>0.000453</td>\n",
              "      <td>13.799800</td>\n",
              "      <td>0.000760</td>\n",
              "      <td>0.998333</td>\n",
              "    </tr>\n",
              "    <tr>\n",
              "      <th>1826</th>\n",
              "      <td>122361328754558683</td>\n",
              "      <td>132.875457</td>\n",
              "      <td>11.973499</td>\n",
              "      <td>14.207000</td>\n",
              "      <td>0.000346</td>\n",
              "      <td>13.959600</td>\n",
              "      <td>0.000281</td>\n",
              "      <td>13.872400</td>\n",
              "      <td>0.000384</td>\n",
              "      <td>13.830000</td>\n",
              "      <td>0.000452</td>\n",
              "      <td>13.809400</td>\n",
              "      <td>0.000760</td>\n",
              "      <td>0.998333</td>\n",
              "    </tr>\n",
              "    <tr>\n",
              "      <th>1827</th>\n",
              "      <td>122361328818090634</td>\n",
              "      <td>132.881819</td>\n",
              "      <td>11.966787</td>\n",
              "      <td>16.971201</td>\n",
              "      <td>0.001754</td>\n",
              "      <td>16.576300</td>\n",
              "      <td>0.001196</td>\n",
              "      <td>16.217600</td>\n",
              "      <td>0.002029</td>\n",
              "      <td>16.417000</td>\n",
              "      <td>0.002133</td>\n",
              "      <td>16.384300</td>\n",
              "      <td>0.003584</td>\n",
              "      <td>0.997500</td>\n",
              "    </tr>\n",
              "    <tr>\n",
              "      <th>1828</th>\n",
              "      <td>122371328134963003</td>\n",
              "      <td>132.813494</td>\n",
              "      <td>11.977090</td>\n",
              "      <td>14.216200</td>\n",
              "      <td>0.000410</td>\n",
              "      <td>13.841900</td>\n",
              "      <td>0.000236</td>\n",
              "      <td>13.694600</td>\n",
              "      <td>0.000315</td>\n",
              "      <td>13.673500</td>\n",
              "      <td>0.000408</td>\n",
              "      <td>13.638000</td>\n",
              "      <td>0.000744</td>\n",
              "      <td>0.994167</td>\n",
              "    </tr>\n",
              "    <tr>\n",
              "      <th>1829</th>\n",
              "      <td>122371328134963003</td>\n",
              "      <td>132.813494</td>\n",
              "      <td>11.977090</td>\n",
              "      <td>14.193700</td>\n",
              "      <td>0.000410</td>\n",
              "      <td>13.831600</td>\n",
              "      <td>0.000233</td>\n",
              "      <td>13.704800</td>\n",
              "      <td>0.000319</td>\n",
              "      <td>13.673500</td>\n",
              "      <td>0.000409</td>\n",
              "      <td>13.623900</td>\n",
              "      <td>0.000734</td>\n",
              "      <td>0.994167</td>\n",
              "    </tr>\n",
              "  </tbody>\n",
              "</table>\n",
              "<p>1058 rows × 14 columns</p>\n",
              "</div>\n",
              "      <button class=\"colab-df-convert\" onclick=\"convertToInteractive('df-1d7374c4-e295-49ab-bd97-3ee6bf56f8d6')\"\n",
              "              title=\"Convert this dataframe to an interactive table.\"\n",
              "              style=\"display:none;\">\n",
              "        \n",
              "  <svg xmlns=\"http://www.w3.org/2000/svg\" height=\"24px\"viewBox=\"0 0 24 24\"\n",
              "       width=\"24px\">\n",
              "    <path d=\"M0 0h24v24H0V0z\" fill=\"none\"/>\n",
              "    <path d=\"M18.56 5.44l.94 2.06.94-2.06 2.06-.94-2.06-.94-.94-2.06-.94 2.06-2.06.94zm-11 1L8.5 8.5l.94-2.06 2.06-.94-2.06-.94L8.5 2.5l-.94 2.06-2.06.94zm10 10l.94 2.06.94-2.06 2.06-.94-2.06-.94-.94-2.06-.94 2.06-2.06.94z\"/><path d=\"M17.41 7.96l-1.37-1.37c-.4-.4-.92-.59-1.43-.59-.52 0-1.04.2-1.43.59L10.3 9.45l-7.72 7.72c-.78.78-.78 2.05 0 2.83L4 21.41c.39.39.9.59 1.41.59.51 0 1.02-.2 1.41-.59l7.78-7.78 2.81-2.81c.8-.78.8-2.07 0-2.86zM5.41 20L4 18.59l7.72-7.72 1.47 1.35L5.41 20z\"/>\n",
              "  </svg>\n",
              "      </button>\n",
              "      \n",
              "  <style>\n",
              "    .colab-df-container {\n",
              "      display:flex;\n",
              "      flex-wrap:wrap;\n",
              "      gap: 12px;\n",
              "    }\n",
              "\n",
              "    .colab-df-convert {\n",
              "      background-color: #E8F0FE;\n",
              "      border: none;\n",
              "      border-radius: 50%;\n",
              "      cursor: pointer;\n",
              "      display: none;\n",
              "      fill: #1967D2;\n",
              "      height: 32px;\n",
              "      padding: 0 0 0 0;\n",
              "      width: 32px;\n",
              "    }\n",
              "\n",
              "    .colab-df-convert:hover {\n",
              "      background-color: #E2EBFA;\n",
              "      box-shadow: 0px 1px 2px rgba(60, 64, 67, 0.3), 0px 1px 3px 1px rgba(60, 64, 67, 0.15);\n",
              "      fill: #174EA6;\n",
              "    }\n",
              "\n",
              "    [theme=dark] .colab-df-convert {\n",
              "      background-color: #3B4455;\n",
              "      fill: #D2E3FC;\n",
              "    }\n",
              "\n",
              "    [theme=dark] .colab-df-convert:hover {\n",
              "      background-color: #434B5C;\n",
              "      box-shadow: 0px 1px 3px 1px rgba(0, 0, 0, 0.15);\n",
              "      filter: drop-shadow(0px 1px 2px rgba(0, 0, 0, 0.3));\n",
              "      fill: #FFFFFF;\n",
              "    }\n",
              "  </style>\n",
              "\n",
              "      <script>\n",
              "        const buttonEl =\n",
              "          document.querySelector('#df-1d7374c4-e295-49ab-bd97-3ee6bf56f8d6 button.colab-df-convert');\n",
              "        buttonEl.style.display =\n",
              "          google.colab.kernel.accessAllowed ? 'block' : 'none';\n",
              "\n",
              "        async function convertToInteractive(key) {\n",
              "          const element = document.querySelector('#df-1d7374c4-e295-49ab-bd97-3ee6bf56f8d6');\n",
              "          const dataTable =\n",
              "            await google.colab.kernel.invokeFunction('convertToInteractive',\n",
              "                                                     [key], {});\n",
              "          if (!dataTable) return;\n",
              "\n",
              "          const docLinkHtml = 'Like what you see? Visit the ' +\n",
              "            '<a target=\"_blank\" href=https://colab.research.google.com/notebooks/data_table.ipynb>data table notebook</a>'\n",
              "            + ' to learn more about interactive tables.';\n",
              "          element.innerHTML = '';\n",
              "          dataTable['output_type'] = 'display_data';\n",
              "          await google.colab.output.renderOutput(dataTable, element);\n",
              "          const docLink = document.createElement('div');\n",
              "          docLink.innerHTML = docLinkHtml;\n",
              "          element.appendChild(docLink);\n",
              "        }\n",
              "      </script>\n",
              "    </div>\n",
              "  </div>\n",
              "  "
            ],
            "text/plain": [
              "                   objid          ra  ...  yPSFMagErr  ps_score\n",
              "2     121971328494717854  132.849460  ...    0.000877  0.997500\n",
              "3     121981327802535449  132.780255  ...    0.028750  0.967161\n",
              "7     121981328054472261  132.805456  ...    0.032895  0.973104\n",
              "8     121981328218108430  132.821806  ...    0.010728  0.987833\n",
              "10    121981328277113751  132.827729  ...    0.013550  0.969271\n",
              "...                  ...         ...  ...         ...       ...\n",
              "1825  122361328754558683  132.875457  ...    0.000760  0.998333\n",
              "1826  122361328754558683  132.875457  ...    0.000760  0.998333\n",
              "1827  122361328818090634  132.881819  ...    0.003584  0.997500\n",
              "1828  122371328134963003  132.813494  ...    0.000744  0.994167\n",
              "1829  122371328134963003  132.813494  ...    0.000734  0.994167\n",
              "\n",
              "[1058 rows x 14 columns]"
            ]
          },
          "metadata": {},
          "execution_count": 78
        }
      ]
    },
    {
      "cell_type": "code",
      "metadata": {
        "colab": {
          "base_uri": "https://localhost:8080/"
        },
        "id": "HKEgcj152hpd",
        "outputId": "221a653b-5cbb-446d-fc7b-f64dd017f4fe"
      },
      "source": [
        "bin_min = 12\n",
        "bin_max = 28\n",
        "step  = 0.5\n",
        "bins = np.arange(bin_min,bin_max, step)\n",
        "\n",
        "plt.hist(df_star['gPSFMag'],bins=bins,alpha=0.7,color = 'green')\n",
        "plt.hist(df_star['rPSFMag'],bins=bins,alpha=0.7,color = 'red')\n",
        "plt.hist(df_star['iPSFMag'],bins=bins,alpha=0.7,color = 'pink')\n",
        "plt.hist(df_star['zPSFMag'],bins=bins,alpha=0.7,color = 'orange')\n",
        "plt.hist(df_star['yPSFMag'],bins=bins,alpha=0.7,color = 'blue');\n",
        "plt.legend(['gPSFMag','rPSFMag','iPSFMag','zPSFMag','yPSFMag',])"
      ],
      "execution_count": null,
      "outputs": [
        {
          "output_type": "execute_result",
          "data": {
            "text/plain": [
              "<matplotlib.legend.Legend at 0x7f2ed9e3bad0>"
            ]
          },
          "metadata": {},
          "execution_count": 79
        },
        {
          "output_type": "display_data",
          "data": {
            "image/png": "[encoded data removed]",
            "text/plain": [
              "<Figure size 1080x720 with 1 Axes>"
            ]
          },
          "metadata": {}
        }
      ]
    },
    {
      "cell_type": "markdown",
      "metadata": {
        "id": "lpFsL5gWGx8c"
      },
      "source": [
        "# **Synthetic Spectra**"
      ]
    },
    {
      "cell_type": "markdown",
      "metadata": {
        "id": "6M19ommnIJ9F"
      },
      "source": [
        "## **Model**"
      ]
    },
    {
      "cell_type": "code",
      "metadata": {
        "id": "y8m_Kx4YlcfE"
      },
      "source": [
        "if os.path.exists('models_kurucz'):\n",
        "  os.system('rm -r models_kurucz')"
      ],
      "execution_count": 9,
      "outputs": []
    },
    {
      "cell_type": "code",
      "metadata": {
        "colab": {
          "base_uri": "https://localhost:8080/"
        },
        "id": "isKoiK_IaAPo",
        "outputId": "7bf4657f-dbbc-4541-d9b0-5a24670b7384"
      },
      "source": [
        "!curl -o models ftp://ftp.astro.wisc.edu/outgoing/tom/model_packages/models_kurucz_05sep11.tgz"
      ],
      "execution_count": 10,
      "outputs": [
        {
          "output_type": "stream",
          "name": "stdout",
          "text": [
            "  % Total    % Received % Xferd  Average Speed   Time    Time     Time  Current\n",
            "                                 Dload  Upload   Total   Spent    Left  Speed\n",
            "100 83.0M  100 83.0M    0     0  7093k      0  0:00:11  0:00:11 --:--:-- 11.5M\n"
          ]
        }
      ]
    },
    {
      "cell_type": "code",
      "metadata": {
        "id": "H1pHXnSTb4qs"
      },
      "source": [
        "!tar -xzf models"
      ],
      "execution_count": 11,
      "outputs": []
    },
    {
      "cell_type": "code",
      "metadata": {
        "id": "xKCvXhlRSDpM"
      },
      "source": [
        "!rm models"
      ],
      "execution_count": 12,
      "outputs": []
    },
    {
      "cell_type": "markdown",
      "metadata": {
        "id": "Uzzj0EYnIM_k"
      },
      "source": [
        "## **Filters**\n",
        "\n",
        "Initializing filter parameters using response curves"
      ]
    },
    {
      "cell_type": "code",
      "metadata": {
        "id": "_UsoB6lmQKSn"
      },
      "source": [
        "filter_dict = {'PS1g'    : [4881.47, 'PAN-STARRS_PS1.g.dat' ],\n",
        "               'PS1r'    : [6198.41, 'PAN-STARRS_PS1.r.dat' ],\n",
        "               'PS1i'    : [7549.34, 'PAN-STARRS_PS1.i.dat' ],\n",
        "               'PS1z'    : [8701.37, 'PAN-STARRS_PS1.z.dat' ],\n",
        "               'PS1y'    : [9509.80,'PAN-STARRS_PS1.y.dat' ],\n",
        "               'UVIT_NUV': [2792.56,'Astrosat_UVIT.N279N.dat'],\n",
        "               'UVIT_FUV': [1506.00,'Astrosat_UVIT.F148Wa.dat']}\n",
        "\n",
        "model_dir = 'models_kurucz'\n",
        "\n",
        "filter_list = []\n",
        "for filter in filter_dict.keys():\n",
        "\n",
        "  filt_obj = sed.filter.Filter()\n",
        "  filt_obj.name = filter\n",
        "  filt_obj.central_wavelength = (filter_dict[filter][0]*u.angstrom).to(u.micron)\n",
        "  filt_obj_wl, filt_obj_rsr = np.loadtxt(filter_dict[filter][1], usecols=(0, 1), unpack=True)\n",
        "  filt_obj.nu = 3.0e18 * u.Hz / np.flip(filt_obj_wl)\n",
        "  filt_obj.response = filt_obj_rsr/filt_obj_rsr.max() \n",
        "  filt_obj.normalize()\n",
        "  filter_list.append(filt_obj)"
      ],
      "execution_count": 13,
      "outputs": []
    },
    {
      "cell_type": "markdown",
      "source": [
        "Convolving filters with models"
      ],
      "metadata": {
        "id": "Mm94n46FfuyF"
      }
    },
    {
      "cell_type": "code",
      "source": [
        "sed.convolve.convolve_model_dir(model_dir, filter_list)"
      ],
      "metadata": {
        "id": "Mt88zrxnNY7v",
        "outputId": "62fc8b69-f431-41e1-d562-c74bca53453f",
        "colab": {
          "base_uri": "https://localhost:8080/"
        }
      },
      "execution_count": 14,
      "outputs": [
        {
          "output_type": "stream",
          "name": "stderr",
          "text": [
            "WARNING: VerifyWarning: It is strongly recommended that column names contain only upper and lower-case ASCII letters, digits, or underscores for maximum compatibility with other software (got '[Z/H]'). [astropy.io.fits.column]\n"
          ]
        },
        {
          "output_type": "stream",
          "name": "stdout",
          "text": [
            "INFO: 3808 SEDs found in models_kurucz [sedfitter.convolve.convolve]\n",
            "INFO: Rebinning filters [sedfitter.convolve.convolve]\n"
          ]
        },
        {
          "output_type": "stream",
          "name": "stderr",
          "text": [
            "WARNING: AstropyDeprecationWarning: \"clobber\" was deprecated in version 2.0 and will be removed in a future version. Use argument \"overwrite\" instead. [sedfitter.convolved_fluxes.convolved_fluxes]\n"
          ]
        }
      ]
    },
    {
      "cell_type": "code",
      "metadata": {
        "colab": {
          "base_uri": "https://localhost:8080/",
          "height": 431
        },
        "id": "QvT2qTaxWQSW",
        "outputId": "1e0497e7-b91d-4144-9f78-efa2037ed5c5"
      },
      "source": [
        "plt.figure(figsize = (30,10))\n",
        "for filter in filter_list:\n",
        "  plt.plot(filter.nu,filter.response)\n",
        "\n",
        "plt.xlabel(r'$\\nu$ (Hz)')\n",
        "plt.title('Normalized Filter Response',size=20)\n",
        "plt.legend(['g','r','i','z','y' ,'NUV','FUV'])"
      ],
      "execution_count": 15,
      "outputs": [
        {
          "output_type": "execute_result",
          "data": {
            "text/plain": [
              "<matplotlib.legend.Legend at 0x7fa7e6668950>"
            ]
          },
          "metadata": {},
          "execution_count": 15
        },
        {
          "output_type": "display_data",
          "data": {
            "image/png": "[encoded data removed]",
            "text/plain": [
              "<Figure size 2160x720 with 1 Axes>"
            ]
          },
          "metadata": {}
        }
      ]
    },
    {
      "cell_type": "markdown",
      "source": [
        "## **SED Fitting**"
      ],
      "metadata": {
        "id": "sf7SXtANK_t9"
      }
    },
    {
      "cell_type": "markdown",
      "source": [
        "### **SED Fitter**"
      ],
      "metadata": {
        "id": "_c01Mj7XLCxg"
      }
    },
    {
      "cell_type": "markdown",
      "source": [
        "#### **Data**"
      ],
      "metadata": {
        "id": "squc81iS6Z0u"
      }
    },
    {
      "cell_type": "code",
      "source": [
        "df_star = df_M31[df_M31['Filter']=='NUVN2'][:1]\n",
        "df_star"
      ],
      "metadata": {
        "id": "Z7gWYTHK9CPw",
        "outputId": "b73579f0-0d93-4202-890e-f1ea2d534a31",
        "colab": {
          "base_uri": "https://localhost:8080/",
          "height": 0
        }
      },
      "execution_count": 16,
      "outputs": [
        {
          "output_type": "execute_result",
          "data": {
            "text/html": [
              "\n",
              "  <div id=\"df-f619389d-99d2-481e-bdd1-5133604369f4\">\n",
              "    <div class=\"colab-df-container\">\n",
              "      <div>\n",
              "<style scoped>\n",
              "    .dataframe tbody tr th:only-of-type {\n",
              "        vertical-align: middle;\n",
              "    }\n",
              "\n",
              "    .dataframe tbody tr th {\n",
              "        vertical-align: top;\n",
              "    }\n",
              "\n",
              "    .dataframe thead th {\n",
              "        text-align: right;\n",
              "    }\n",
              "</style>\n",
              "<table border=\"1\" class=\"dataframe\">\n",
              "  <thead>\n",
              "    <tr style=\"text-align: right;\">\n",
              "      <th></th>\n",
              "      <th>Filter</th>\n",
              "      <th>RAJ2000</th>\n",
              "      <th>DEJ2000</th>\n",
              "      <th>ABmag</th>\n",
              "      <th>mag</th>\n",
              "      <th>Errmag</th>\n",
              "      <th>Field</th>\n",
              "      <th>M31Cat</th>\n",
              "      <th>objid</th>\n",
              "      <th>ra</th>\n",
              "      <th>dec</th>\n",
              "      <th>gPSFMag</th>\n",
              "      <th>gPSFMagErr</th>\n",
              "      <th>rPSFMag</th>\n",
              "      <th>rPSFMagErr</th>\n",
              "      <th>iPSFMag</th>\n",
              "      <th>iPSFMagErr</th>\n",
              "      <th>zPSFMag</th>\n",
              "      <th>zPSFMagErr</th>\n",
              "      <th>yPSFMag</th>\n",
              "      <th>yPSFMagErr</th>\n",
              "      <th>ps_score</th>\n",
              "      <th>Separation</th>\n",
              "    </tr>\n",
              "  </thead>\n",
              "  <tbody>\n",
              "    <tr>\n",
              "      <th>6104</th>\n",
              "      <td>NUVN2</td>\n",
              "      <td>10.8409</td>\n",
              "      <td>41.4216</td>\n",
              "      <td>18.524</td>\n",
              "      <td>17.024</td>\n",
              "      <td>0.055</td>\n",
              "      <td>b'1, 2      '</td>\n",
              "      <td>0</td>\n",
              "      <td>157700108409766519</td>\n",
              "      <td>10.840969</td>\n",
              "      <td>41.421568</td>\n",
              "      <td>15.1915</td>\n",
              "      <td>0.000671</td>\n",
              "      <td>14.8708</td>\n",
              "      <td>0.000536</td>\n",
              "      <td>14.8466</td>\n",
              "      <td>0.000476</td>\n",
              "      <td>14.8092</td>\n",
              "      <td>0.001326</td>\n",
              "      <td>14.7037</td>\n",
              "      <td>0.001396</td>\n",
              "      <td>0.940364</td>\n",
              "      <td>0.218805</td>\n",
              "    </tr>\n",
              "  </tbody>\n",
              "</table>\n",
              "</div>\n",
              "      <button class=\"colab-df-convert\" onclick=\"convertToInteractive('df-f619389d-99d2-481e-bdd1-5133604369f4')\"\n",
              "              title=\"Convert this dataframe to an interactive table.\"\n",
              "              style=\"display:none;\">\n",
              "        \n",
              "  <svg xmlns=\"http://www.w3.org/2000/svg\" height=\"24px\"viewBox=\"0 0 24 24\"\n",
              "       width=\"24px\">\n",
              "    <path d=\"M0 0h24v24H0V0z\" fill=\"none\"/>\n",
              "    <path d=\"M18.56 5.44l.94 2.06.94-2.06 2.06-.94-2.06-.94-.94-2.06-.94 2.06-2.06.94zm-11 1L8.5 8.5l.94-2.06 2.06-.94-2.06-.94L8.5 2.5l-.94 2.06-2.06.94zm10 10l.94 2.06.94-2.06 2.06-.94-2.06-.94-.94-2.06-.94 2.06-2.06.94z\"/><path d=\"M17.41 7.96l-1.37-1.37c-.4-.4-.92-.59-1.43-.59-.52 0-1.04.2-1.43.59L10.3 9.45l-7.72 7.72c-.78.78-.78 2.05 0 2.83L4 21.41c.39.39.9.59 1.41.59.51 0 1.02-.2 1.41-.59l7.78-7.78 2.81-2.81c.8-.78.8-2.07 0-2.86zM5.41 20L4 18.59l7.72-7.72 1.47 1.35L5.41 20z\"/>\n",
              "  </svg>\n",
              "      </button>\n",
              "      \n",
              "  <style>\n",
              "    .colab-df-container {\n",
              "      display:flex;\n",
              "      flex-wrap:wrap;\n",
              "      gap: 12px;\n",
              "    }\n",
              "\n",
              "    .colab-df-convert {\n",
              "      background-color: #E8F0FE;\n",
              "      border: none;\n",
              "      border-radius: 50%;\n",
              "      cursor: pointer;\n",
              "      display: none;\n",
              "      fill: #1967D2;\n",
              "      height: 32px;\n",
              "      padding: 0 0 0 0;\n",
              "      width: 32px;\n",
              "    }\n",
              "\n",
              "    .colab-df-convert:hover {\n",
              "      background-color: #E2EBFA;\n",
              "      box-shadow: 0px 1px 2px rgba(60, 64, 67, 0.3), 0px 1px 3px 1px rgba(60, 64, 67, 0.15);\n",
              "      fill: #174EA6;\n",
              "    }\n",
              "\n",
              "    [theme=dark] .colab-df-convert {\n",
              "      background-color: #3B4455;\n",
              "      fill: #D2E3FC;\n",
              "    }\n",
              "\n",
              "    [theme=dark] .colab-df-convert:hover {\n",
              "      background-color: #434B5C;\n",
              "      box-shadow: 0px 1px 3px 1px rgba(0, 0, 0, 0.15);\n",
              "      filter: drop-shadow(0px 1px 2px rgba(0, 0, 0, 0.3));\n",
              "      fill: #FFFFFF;\n",
              "    }\n",
              "  </style>\n",
              "\n",
              "      <script>\n",
              "        const buttonEl =\n",
              "          document.querySelector('#df-f619389d-99d2-481e-bdd1-5133604369f4 button.colab-df-convert');\n",
              "        buttonEl.style.display =\n",
              "          google.colab.kernel.accessAllowed ? 'block' : 'none';\n",
              "\n",
              "        async function convertToInteractive(key) {\n",
              "          const element = document.querySelector('#df-f619389d-99d2-481e-bdd1-5133604369f4');\n",
              "          const dataTable =\n",
              "            await google.colab.kernel.invokeFunction('convertToInteractive',\n",
              "                                                     [key], {});\n",
              "          if (!dataTable) return;\n",
              "\n",
              "          const docLinkHtml = 'Like what you see? Visit the ' +\n",
              "            '<a target=\"_blank\" href=https://colab.research.google.com/notebooks/data_table.ipynb>data table notebook</a>'\n",
              "            + ' to learn more about interactive tables.';\n",
              "          element.innerHTML = '';\n",
              "          dataTable['output_type'] = 'display_data';\n",
              "          await google.colab.output.renderOutput(dataTable, element);\n",
              "          const docLink = document.createElement('div');\n",
              "          docLink.innerHTML = docLinkHtml;\n",
              "          element.appendChild(docLink);\n",
              "        }\n",
              "      </script>\n",
              "    </div>\n",
              "  </div>\n",
              "  "
            ],
            "text/plain": [
              "     Filter  RAJ2000  DEJ2000  ...  yPSFMagErr  ps_score  Separation\n",
              "6104  NUVN2  10.8409  41.4216  ...    0.001396  0.940364    0.218805\n",
              "\n",
              "[1 rows x 23 columns]"
            ]
          },
          "metadata": {},
          "execution_count": 16
        }
      ]
    },
    {
      "cell_type": "code",
      "source": [
        "for i in ['g','r','i','z','y']:\n",
        "  df_star[f'{i}PSFFlux']     = 3631*pow(10,-df_star[f'{i}PSFMag']/2.5)*1000            #mJy\n",
        "\n",
        "  df_star[f'{i}PSFFlux_err'] = (df_star[f'{i}PSFMagErr']*df_star[f'{i}PSFFlux'])/1.09  #mJy"
      ],
      "metadata": {
        "id": "qImQe0eKB4kX"
      },
      "execution_count": 17,
      "outputs": []
    },
    {
      "cell_type": "code",
      "metadata": {
        "id": "2kTmpx6BX-nn"
      },
      "source": [
        "df_star['g_flag'] = 1\n",
        "df_star['i_flag'] = 1\n",
        "df_star['r_flag'] = 1\n",
        "df_star['z_flag'] = 1\n",
        "df_star['y_flag'] = 1"
      ],
      "execution_count": 18,
      "outputs": []
    },
    {
      "cell_type": "code",
      "metadata": {
        "id": "aO34sL0xnECU",
        "outputId": "2341747c-eb10-4d6b-8a55-7ae3fed05e0a",
        "colab": {
          "base_uri": "https://localhost:8080/",
          "height": 0
        }
      },
      "source": [
        "df_star = df_star.drop_duplicates('objid')\n",
        "df_star"
      ],
      "execution_count": 19,
      "outputs": [
        {
          "output_type": "execute_result",
          "data": {
            "text/html": [
              "\n",
              "  <div id=\"df-80de4579-dfa0-41ce-9d76-a5a4601815a5\">\n",
              "    <div class=\"colab-df-container\">\n",
              "      <div>\n",
              "<style scoped>\n",
              "    .dataframe tbody tr th:only-of-type {\n",
              "        vertical-align: middle;\n",
              "    }\n",
              "\n",
              "    .dataframe tbody tr th {\n",
              "        vertical-align: top;\n",
              "    }\n",
              "\n",
              "    .dataframe thead th {\n",
              "        text-align: right;\n",
              "    }\n",
              "</style>\n",
              "<table border=\"1\" class=\"dataframe\">\n",
              "  <thead>\n",
              "    <tr style=\"text-align: right;\">\n",
              "      <th></th>\n",
              "      <th>Filter</th>\n",
              "      <th>RAJ2000</th>\n",
              "      <th>DEJ2000</th>\n",
              "      <th>ABmag</th>\n",
              "      <th>mag</th>\n",
              "      <th>Errmag</th>\n",
              "      <th>Field</th>\n",
              "      <th>M31Cat</th>\n",
              "      <th>objid</th>\n",
              "      <th>ra</th>\n",
              "      <th>dec</th>\n",
              "      <th>gPSFMag</th>\n",
              "      <th>gPSFMagErr</th>\n",
              "      <th>rPSFMag</th>\n",
              "      <th>rPSFMagErr</th>\n",
              "      <th>iPSFMag</th>\n",
              "      <th>iPSFMagErr</th>\n",
              "      <th>zPSFMag</th>\n",
              "      <th>zPSFMagErr</th>\n",
              "      <th>yPSFMag</th>\n",
              "      <th>yPSFMagErr</th>\n",
              "      <th>ps_score</th>\n",
              "      <th>Separation</th>\n",
              "      <th>gPSFFlux</th>\n",
              "      <th>gPSFFlux_err</th>\n",
              "      <th>rPSFFlux</th>\n",
              "      <th>rPSFFlux_err</th>\n",
              "      <th>iPSFFlux</th>\n",
              "      <th>iPSFFlux_err</th>\n",
              "      <th>zPSFFlux</th>\n",
              "      <th>zPSFFlux_err</th>\n",
              "      <th>yPSFFlux</th>\n",
              "      <th>yPSFFlux_err</th>\n",
              "      <th>g_flag</th>\n",
              "      <th>i_flag</th>\n",
              "      <th>r_flag</th>\n",
              "      <th>z_flag</th>\n",
              "      <th>y_flag</th>\n",
              "    </tr>\n",
              "  </thead>\n",
              "  <tbody>\n",
              "    <tr>\n",
              "      <th>6104</th>\n",
              "      <td>NUVN2</td>\n",
              "      <td>10.8409</td>\n",
              "      <td>41.4216</td>\n",
              "      <td>18.524</td>\n",
              "      <td>17.024</td>\n",
              "      <td>0.055</td>\n",
              "      <td>b'1, 2      '</td>\n",
              "      <td>0</td>\n",
              "      <td>157700108409766519</td>\n",
              "      <td>10.840969</td>\n",
              "      <td>41.421568</td>\n",
              "      <td>15.1915</td>\n",
              "      <td>0.000671</td>\n",
              "      <td>14.8708</td>\n",
              "      <td>0.000536</td>\n",
              "      <td>14.8466</td>\n",
              "      <td>0.000476</td>\n",
              "      <td>14.8092</td>\n",
              "      <td>0.001326</td>\n",
              "      <td>14.7037</td>\n",
              "      <td>0.001396</td>\n",
              "      <td>0.940364</td>\n",
              "      <td>0.218805</td>\n",
              "      <td>3.043872</td>\n",
              "      <td>0.001874</td>\n",
              "      <td>4.089839</td>\n",
              "      <td>0.002011</td>\n",
              "      <td>4.182023</td>\n",
              "      <td>0.001826</td>\n",
              "      <td>4.328587</td>\n",
              "      <td>0.005266</td>\n",
              "      <td>4.770306</td>\n",
              "      <td>0.006109</td>\n",
              "      <td>1</td>\n",
              "      <td>1</td>\n",
              "      <td>1</td>\n",
              "      <td>1</td>\n",
              "      <td>1</td>\n",
              "    </tr>\n",
              "  </tbody>\n",
              "</table>\n",
              "</div>\n",
              "      <button class=\"colab-df-convert\" onclick=\"convertToInteractive('df-80de4579-dfa0-41ce-9d76-a5a4601815a5')\"\n",
              "              title=\"Convert this dataframe to an interactive table.\"\n",
              "              style=\"display:none;\">\n",
              "        \n",
              "  <svg xmlns=\"http://www.w3.org/2000/svg\" height=\"24px\"viewBox=\"0 0 24 24\"\n",
              "       width=\"24px\">\n",
              "    <path d=\"M0 0h24v24H0V0z\" fill=\"none\"/>\n",
              "    <path d=\"M18.56 5.44l.94 2.06.94-2.06 2.06-.94-2.06-.94-.94-2.06-.94 2.06-2.06.94zm-11 1L8.5 8.5l.94-2.06 2.06-.94-2.06-.94L8.5 2.5l-.94 2.06-2.06.94zm10 10l.94 2.06.94-2.06 2.06-.94-2.06-.94-.94-2.06-.94 2.06-2.06.94z\"/><path d=\"M17.41 7.96l-1.37-1.37c-.4-.4-.92-.59-1.43-.59-.52 0-1.04.2-1.43.59L10.3 9.45l-7.72 7.72c-.78.78-.78 2.05 0 2.83L4 21.41c.39.39.9.59 1.41.59.51 0 1.02-.2 1.41-.59l7.78-7.78 2.81-2.81c.8-.78.8-2.07 0-2.86zM5.41 20L4 18.59l7.72-7.72 1.47 1.35L5.41 20z\"/>\n",
              "  </svg>\n",
              "      </button>\n",
              "      \n",
              "  <style>\n",
              "    .colab-df-container {\n",
              "      display:flex;\n",
              "      flex-wrap:wrap;\n",
              "      gap: 12px;\n",
              "    }\n",
              "\n",
              "    .colab-df-convert {\n",
              "      background-color: #E8F0FE;\n",
              "      border: none;\n",
              "      border-radius: 50%;\n",
              "      cursor: pointer;\n",
              "      display: none;\n",
              "      fill: #1967D2;\n",
              "      height: 32px;\n",
              "      padding: 0 0 0 0;\n",
              "      width: 32px;\n",
              "    }\n",
              "\n",
              "    .colab-df-convert:hover {\n",
              "      background-color: #E2EBFA;\n",
              "      box-shadow: 0px 1px 2px rgba(60, 64, 67, 0.3), 0px 1px 3px 1px rgba(60, 64, 67, 0.15);\n",
              "      fill: #174EA6;\n",
              "    }\n",
              "\n",
              "    [theme=dark] .colab-df-convert {\n",
              "      background-color: #3B4455;\n",
              "      fill: #D2E3FC;\n",
              "    }\n",
              "\n",
              "    [theme=dark] .colab-df-convert:hover {\n",
              "      background-color: #434B5C;\n",
              "      box-shadow: 0px 1px 3px 1px rgba(0, 0, 0, 0.15);\n",
              "      filter: drop-shadow(0px 1px 2px rgba(0, 0, 0, 0.3));\n",
              "      fill: #FFFFFF;\n",
              "    }\n",
              "  </style>\n",
              "\n",
              "      <script>\n",
              "        const buttonEl =\n",
              "          document.querySelector('#df-80de4579-dfa0-41ce-9d76-a5a4601815a5 button.colab-df-convert');\n",
              "        buttonEl.style.display =\n",
              "          google.colab.kernel.accessAllowed ? 'block' : 'none';\n",
              "\n",
              "        async function convertToInteractive(key) {\n",
              "          const element = document.querySelector('#df-80de4579-dfa0-41ce-9d76-a5a4601815a5');\n",
              "          const dataTable =\n",
              "            await google.colab.kernel.invokeFunction('convertToInteractive',\n",
              "                                                     [key], {});\n",
              "          if (!dataTable) return;\n",
              "\n",
              "          const docLinkHtml = 'Like what you see? Visit the ' +\n",
              "            '<a target=\"_blank\" href=https://colab.research.google.com/notebooks/data_table.ipynb>data table notebook</a>'\n",
              "            + ' to learn more about interactive tables.';\n",
              "          element.innerHTML = '';\n",
              "          dataTable['output_type'] = 'display_data';\n",
              "          await google.colab.output.renderOutput(dataTable, element);\n",
              "          const docLink = document.createElement('div');\n",
              "          docLink.innerHTML = docLinkHtml;\n",
              "          element.appendChild(docLink);\n",
              "        }\n",
              "      </script>\n",
              "    </div>\n",
              "  </div>\n",
              "  "
            ],
            "text/plain": [
              "     Filter  RAJ2000  DEJ2000   ABmag  ...  i_flag  r_flag z_flag  y_flag\n",
              "6104  NUVN2  10.8409  41.4216  18.524  ...       1       1      1       1\n",
              "\n",
              "[1 rows x 38 columns]"
            ]
          },
          "metadata": {},
          "execution_count": 19
        }
      ]
    },
    {
      "cell_type": "code",
      "source": [
        "filters = ['ABmag','gPSFMag','rPSFMag','iPSFMag','zPSFMag','yPSFMag', ]"
      ],
      "metadata": {
        "id": "XIEl7rtSgK9c"
      },
      "execution_count": 20,
      "outputs": []
    },
    {
      "cell_type": "code",
      "source": [
        "df_star[filters]"
      ],
      "metadata": {
        "id": "HiLQ8Y8OhGtR",
        "outputId": "d7b694bc-0fa6-4a79-ff51-eb5193c894ae",
        "colab": {
          "base_uri": "https://localhost:8080/",
          "height": 0
        }
      },
      "execution_count": 21,
      "outputs": [
        {
          "output_type": "execute_result",
          "data": {
            "text/html": [
              "\n",
              "  <div id=\"df-5b0d5a51-fc07-4c52-bf1f-b9db68f648bd\">\n",
              "    <div class=\"colab-df-container\">\n",
              "      <div>\n",
              "<style scoped>\n",
              "    .dataframe tbody tr th:only-of-type {\n",
              "        vertical-align: middle;\n",
              "    }\n",
              "\n",
              "    .dataframe tbody tr th {\n",
              "        vertical-align: top;\n",
              "    }\n",
              "\n",
              "    .dataframe thead th {\n",
              "        text-align: right;\n",
              "    }\n",
              "</style>\n",
              "<table border=\"1\" class=\"dataframe\">\n",
              "  <thead>\n",
              "    <tr style=\"text-align: right;\">\n",
              "      <th></th>\n",
              "      <th>ABmag</th>\n",
              "      <th>gPSFMag</th>\n",
              "      <th>rPSFMag</th>\n",
              "      <th>iPSFMag</th>\n",
              "      <th>zPSFMag</th>\n",
              "      <th>yPSFMag</th>\n",
              "    </tr>\n",
              "  </thead>\n",
              "  <tbody>\n",
              "    <tr>\n",
              "      <th>6104</th>\n",
              "      <td>18.524</td>\n",
              "      <td>15.1915</td>\n",
              "      <td>14.8708</td>\n",
              "      <td>14.8466</td>\n",
              "      <td>14.8092</td>\n",
              "      <td>14.7037</td>\n",
              "    </tr>\n",
              "  </tbody>\n",
              "</table>\n",
              "</div>\n",
              "      <button class=\"colab-df-convert\" onclick=\"convertToInteractive('df-5b0d5a51-fc07-4c52-bf1f-b9db68f648bd')\"\n",
              "              title=\"Convert this dataframe to an interactive table.\"\n",
              "              style=\"display:none;\">\n",
              "        \n",
              "  <svg xmlns=\"http://www.w3.org/2000/svg\" height=\"24px\"viewBox=\"0 0 24 24\"\n",
              "       width=\"24px\">\n",
              "    <path d=\"M0 0h24v24H0V0z\" fill=\"none\"/>\n",
              "    <path d=\"M18.56 5.44l.94 2.06.94-2.06 2.06-.94-2.06-.94-.94-2.06-.94 2.06-2.06.94zm-11 1L8.5 8.5l.94-2.06 2.06-.94-2.06-.94L8.5 2.5l-.94 2.06-2.06.94zm10 10l.94 2.06.94-2.06 2.06-.94-2.06-.94-.94-2.06-.94 2.06-2.06.94z\"/><path d=\"M17.41 7.96l-1.37-1.37c-.4-.4-.92-.59-1.43-.59-.52 0-1.04.2-1.43.59L10.3 9.45l-7.72 7.72c-.78.78-.78 2.05 0 2.83L4 21.41c.39.39.9.59 1.41.59.51 0 1.02-.2 1.41-.59l7.78-7.78 2.81-2.81c.8-.78.8-2.07 0-2.86zM5.41 20L4 18.59l7.72-7.72 1.47 1.35L5.41 20z\"/>\n",
              "  </svg>\n",
              "      </button>\n",
              "      \n",
              "  <style>\n",
              "    .colab-df-container {\n",
              "      display:flex;\n",
              "      flex-wrap:wrap;\n",
              "      gap: 12px;\n",
              "    }\n",
              "\n",
              "    .colab-df-convert {\n",
              "      background-color: #E8F0FE;\n",
              "      border: none;\n",
              "      border-radius: 50%;\n",
              "      cursor: pointer;\n",
              "      display: none;\n",
              "      fill: #1967D2;\n",
              "      height: 32px;\n",
              "      padding: 0 0 0 0;\n",
              "      width: 32px;\n",
              "    }\n",
              "\n",
              "    .colab-df-convert:hover {\n",
              "      background-color: #E2EBFA;\n",
              "      box-shadow: 0px 1px 2px rgba(60, 64, 67, 0.3), 0px 1px 3px 1px rgba(60, 64, 67, 0.15);\n",
              "      fill: #174EA6;\n",
              "    }\n",
              "\n",
              "    [theme=dark] .colab-df-convert {\n",
              "      background-color: #3B4455;\n",
              "      fill: #D2E3FC;\n",
              "    }\n",
              "\n",
              "    [theme=dark] .colab-df-convert:hover {\n",
              "      background-color: #434B5C;\n",
              "      box-shadow: 0px 1px 3px 1px rgba(0, 0, 0, 0.15);\n",
              "      filter: drop-shadow(0px 1px 2px rgba(0, 0, 0, 0.3));\n",
              "      fill: #FFFFFF;\n",
              "    }\n",
              "  </style>\n",
              "\n",
              "      <script>\n",
              "        const buttonEl =\n",
              "          document.querySelector('#df-5b0d5a51-fc07-4c52-bf1f-b9db68f648bd button.colab-df-convert');\n",
              "        buttonEl.style.display =\n",
              "          google.colab.kernel.accessAllowed ? 'block' : 'none';\n",
              "\n",
              "        async function convertToInteractive(key) {\n",
              "          const element = document.querySelector('#df-5b0d5a51-fc07-4c52-bf1f-b9db68f648bd');\n",
              "          const dataTable =\n",
              "            await google.colab.kernel.invokeFunction('convertToInteractive',\n",
              "                                                     [key], {});\n",
              "          if (!dataTable) return;\n",
              "\n",
              "          const docLinkHtml = 'Like what you see? Visit the ' +\n",
              "            '<a target=\"_blank\" href=https://colab.research.google.com/notebooks/data_table.ipynb>data table notebook</a>'\n",
              "            + ' to learn more about interactive tables.';\n",
              "          element.innerHTML = '';\n",
              "          dataTable['output_type'] = 'display_data';\n",
              "          await google.colab.output.renderOutput(dataTable, element);\n",
              "          const docLink = document.createElement('div');\n",
              "          docLink.innerHTML = docLinkHtml;\n",
              "          element.appendChild(docLink);\n",
              "        }\n",
              "      </script>\n",
              "    </div>\n",
              "  </div>\n",
              "  "
            ],
            "text/plain": [
              "       ABmag  gPSFMag  rPSFMag  iPSFMag  zPSFMag  yPSFMag\n",
              "6104  18.524  15.1915  14.8708  14.8466  14.8092  14.7037"
            ]
          },
          "metadata": {},
          "execution_count": 21
        }
      ]
    },
    {
      "cell_type": "code",
      "source": [
        "for i,flux in df_star[filters].iterrows():\n",
        "  plt.scatter(['NUV ABmag','gPSFMag','rPSFMag','iPSFMag','zPSFMag','yPSFMag', ],flux,marker = 'o', color = 'black')\n",
        "  plt.plot(['NUV ABmag','gPSFMag','rPSFMag','iPSFMag','zPSFMag','yPSFMag', ],flux)\n",
        "  break"
      ],
      "metadata": {
        "id": "MTY-uRBdgklm",
        "outputId": "14b43c9d-20ea-4b26-8293-b20b779eca1c",
        "colab": {
          "base_uri": "https://localhost:8080/",
          "height": 0
        }
      },
      "execution_count": 22,
      "outputs": [
        {
          "output_type": "display_data",
          "data": {
            "image/png": "[encoded data removed]",
            "text/plain": [
              "<Figure size 1080x720 with 1 Axes>"
            ]
          },
          "metadata": {}
        }
      ]
    },
    {
      "cell_type": "code",
      "metadata": {
        "id": "CGBh1IRhDcnL"
      },
      "source": [
        "df_out = df_star[['objid', 'ra', 'dec', 'g_flag', 'i_flag', 'r_flag', 'z_flag','y_flag','gPSFFlux','gPSFFlux_err','rPSFFlux', 'rPSFFlux_err','iPSFFlux', 'iPSFFlux_err','zPSFFlux', 'zPSFFlux_err','yPSFFlux', 'yPSFFlux_err']]"
      ],
      "execution_count": 23,
      "outputs": []
    },
    {
      "cell_type": "code",
      "metadata": {
        "colab": {
          "base_uri": "https://localhost:8080/",
          "height": 0
        },
        "id": "X9MV-0Y8JBJS",
        "outputId": "455811a7-79d6-4a33-c1c5-9fbb0e4c5ff6"
      },
      "source": [
        "df_out "
      ],
      "execution_count": 24,
      "outputs": [
        {
          "output_type": "execute_result",
          "data": {
            "text/html": [
              "\n",
              "  <div id=\"df-45a7eb64-7cdc-47c7-8392-321a232152b9\">\n",
              "    <div class=\"colab-df-container\">\n",
              "      <div>\n",
              "<style scoped>\n",
              "    .dataframe tbody tr th:only-of-type {\n",
              "        vertical-align: middle;\n",
              "    }\n",
              "\n",
              "    .dataframe tbody tr th {\n",
              "        vertical-align: top;\n",
              "    }\n",
              "\n",
              "    .dataframe thead th {\n",
              "        text-align: right;\n",
              "    }\n",
              "</style>\n",
              "<table border=\"1\" class=\"dataframe\">\n",
              "  <thead>\n",
              "    <tr style=\"text-align: right;\">\n",
              "      <th></th>\n",
              "      <th>objid</th>\n",
              "      <th>ra</th>\n",
              "      <th>dec</th>\n",
              "      <th>g_flag</th>\n",
              "      <th>i_flag</th>\n",
              "      <th>r_flag</th>\n",
              "      <th>z_flag</th>\n",
              "      <th>y_flag</th>\n",
              "      <th>gPSFFlux</th>\n",
              "      <th>gPSFFlux_err</th>\n",
              "      <th>rPSFFlux</th>\n",
              "      <th>rPSFFlux_err</th>\n",
              "      <th>iPSFFlux</th>\n",
              "      <th>iPSFFlux_err</th>\n",
              "      <th>zPSFFlux</th>\n",
              "      <th>zPSFFlux_err</th>\n",
              "      <th>yPSFFlux</th>\n",
              "      <th>yPSFFlux_err</th>\n",
              "    </tr>\n",
              "  </thead>\n",
              "  <tbody>\n",
              "    <tr>\n",
              "      <th>6104</th>\n",
              "      <td>157700108409766519</td>\n",
              "      <td>10.840969</td>\n",
              "      <td>41.421568</td>\n",
              "      <td>1</td>\n",
              "      <td>1</td>\n",
              "      <td>1</td>\n",
              "      <td>1</td>\n",
              "      <td>1</td>\n",
              "      <td>3.043872</td>\n",
              "      <td>0.001874</td>\n",
              "      <td>4.089839</td>\n",
              "      <td>0.002011</td>\n",
              "      <td>4.182023</td>\n",
              "      <td>0.001826</td>\n",
              "      <td>4.328587</td>\n",
              "      <td>0.005266</td>\n",
              "      <td>4.770306</td>\n",
              "      <td>0.006109</td>\n",
              "    </tr>\n",
              "  </tbody>\n",
              "</table>\n",
              "</div>\n",
              "      <button class=\"colab-df-convert\" onclick=\"convertToInteractive('df-45a7eb64-7cdc-47c7-8392-321a232152b9')\"\n",
              "              title=\"Convert this dataframe to an interactive table.\"\n",
              "              style=\"display:none;\">\n",
              "        \n",
              "  <svg xmlns=\"http://www.w3.org/2000/svg\" height=\"24px\"viewBox=\"0 0 24 24\"\n",
              "       width=\"24px\">\n",
              "    <path d=\"M0 0h24v24H0V0z\" fill=\"none\"/>\n",
              "    <path d=\"M18.56 5.44l.94 2.06.94-2.06 2.06-.94-2.06-.94-.94-2.06-.94 2.06-2.06.94zm-11 1L8.5 8.5l.94-2.06 2.06-.94-2.06-.94L8.5 2.5l-.94 2.06-2.06.94zm10 10l.94 2.06.94-2.06 2.06-.94-2.06-.94-.94-2.06-.94 2.06-2.06.94z\"/><path d=\"M17.41 7.96l-1.37-1.37c-.4-.4-.92-.59-1.43-.59-.52 0-1.04.2-1.43.59L10.3 9.45l-7.72 7.72c-.78.78-.78 2.05 0 2.83L4 21.41c.39.39.9.59 1.41.59.51 0 1.02-.2 1.41-.59l7.78-7.78 2.81-2.81c.8-.78.8-2.07 0-2.86zM5.41 20L4 18.59l7.72-7.72 1.47 1.35L5.41 20z\"/>\n",
              "  </svg>\n",
              "      </button>\n",
              "      \n",
              "  <style>\n",
              "    .colab-df-container {\n",
              "      display:flex;\n",
              "      flex-wrap:wrap;\n",
              "      gap: 12px;\n",
              "    }\n",
              "\n",
              "    .colab-df-convert {\n",
              "      background-color: #E8F0FE;\n",
              "      border: none;\n",
              "      border-radius: 50%;\n",
              "      cursor: pointer;\n",
              "      display: none;\n",
              "      fill: #1967D2;\n",
              "      height: 32px;\n",
              "      padding: 0 0 0 0;\n",
              "      width: 32px;\n",
              "    }\n",
              "\n",
              "    .colab-df-convert:hover {\n",
              "      background-color: #E2EBFA;\n",
              "      box-shadow: 0px 1px 2px rgba(60, 64, 67, 0.3), 0px 1px 3px 1px rgba(60, 64, 67, 0.15);\n",
              "      fill: #174EA6;\n",
              "    }\n",
              "\n",
              "    [theme=dark] .colab-df-convert {\n",
              "      background-color: #3B4455;\n",
              "      fill: #D2E3FC;\n",
              "    }\n",
              "\n",
              "    [theme=dark] .colab-df-convert:hover {\n",
              "      background-color: #434B5C;\n",
              "      box-shadow: 0px 1px 3px 1px rgba(0, 0, 0, 0.15);\n",
              "      filter: drop-shadow(0px 1px 2px rgba(0, 0, 0, 0.3));\n",
              "      fill: #FFFFFF;\n",
              "    }\n",
              "  </style>\n",
              "\n",
              "      <script>\n",
              "        const buttonEl =\n",
              "          document.querySelector('#df-45a7eb64-7cdc-47c7-8392-321a232152b9 button.colab-df-convert');\n",
              "        buttonEl.style.display =\n",
              "          google.colab.kernel.accessAllowed ? 'block' : 'none';\n",
              "\n",
              "        async function convertToInteractive(key) {\n",
              "          const element = document.querySelector('#df-45a7eb64-7cdc-47c7-8392-321a232152b9');\n",
              "          const dataTable =\n",
              "            await google.colab.kernel.invokeFunction('convertToInteractive',\n",
              "                                                     [key], {});\n",
              "          if (!dataTable) return;\n",
              "\n",
              "          const docLinkHtml = 'Like what you see? Visit the ' +\n",
              "            '<a target=\"_blank\" href=https://colab.research.google.com/notebooks/data_table.ipynb>data table notebook</a>'\n",
              "            + ' to learn more about interactive tables.';\n",
              "          element.innerHTML = '';\n",
              "          dataTable['output_type'] = 'display_data';\n",
              "          await google.colab.output.renderOutput(dataTable, element);\n",
              "          const docLink = document.createElement('div');\n",
              "          docLink.innerHTML = docLinkHtml;\n",
              "          element.appendChild(docLink);\n",
              "        }\n",
              "      </script>\n",
              "    </div>\n",
              "  </div>\n",
              "  "
            ],
            "text/plain": [
              "                   objid         ra  ...  yPSFFlux  yPSFFlux_err\n",
              "6104  157700108409766519  10.840969  ...  4.770306      0.006109\n",
              "\n",
              "[1 rows x 18 columns]"
            ]
          },
          "metadata": {},
          "execution_count": 24
        }
      ]
    },
    {
      "cell_type": "code",
      "source": [
        "df_out.to_csv('data_input.dat', sep = \" \",index=False, header=False)"
      ],
      "metadata": {
        "id": "mEWSzpiPaBUr"
      },
      "execution_count": 25,
      "outputs": []
    },
    {
      "cell_type": "markdown",
      "source": [
        "#### **Fit**"
      ],
      "metadata": {
        "id": "QXepz9-O6gMK"
      }
    },
    {
      "cell_type": "code",
      "metadata": {
        "colab": {
          "base_uri": "https://localhost:8080/"
        },
        "id": "hISQHnrhh4oa",
        "outputId": "4fb976f1-015b-4854-dc59-e59b1e2f9562"
      },
      "source": [
        "model_dir = 'models_kurucz'\n",
        "\n",
        "# Read in extinction law)\n",
        "extinction = sed.Extinction.from_file('kmh94.par', columns=[0, 3],\n",
        "                                  wav_unit=u.micron, chi_unit=u.cm**2 / u.g)\n",
        "\n",
        "# Define filters and apertures\n",
        "filters = ['PS1g', 'PS1r', 'PS1i', 'PS1z', 'PS1y']\n",
        "apertures = [3., 3., 3., 3., 3.] * u.arcsec\n",
        "\n",
        "# Run the fitting\n",
        "d = sed.fit('data_input.dat', filters, apertures, model_dir, 'output.fitinfo', extinction_law=extinction, distance_range=[0.01, 2.] * u.Mpc,av_range=[0., 40.],output_convolved=True)"
      ],
      "execution_count": 26,
      "outputs": [
        {
          "output_type": "stream",
          "name": "stdout",
          "text": [
            " ------------------------------------------------------------\n",
            "  => Model parameters\n",
            " ------------------------------------------------------------\n",
            "\n",
            "   Models              :  Kurucz stellar photospheres\n",
            "   Log[d] stepping     :  0.02\n",
            "\n",
            " ------------------------------------------------------------\n",
            "  => Reading in convolved fluxes\n",
            " ------------------------------------------------------------\n",
            "\n",
            "   Reading models_kurucz/convolved/PS1g.fits\n",
            "   Reading models_kurucz/convolved/PS1r.fits\n",
            "   Reading models_kurucz/convolved/PS1i.fits\n",
            "   Reading models_kurucz/convolved/PS1z.fits\n",
            "   Reading models_kurucz/convolved/PS1y.fits\n",
            " ------------------------------------------------------------\n",
            "  => Fitting parameters\n",
            " ------------------------------------------------------------\n",
            "\n",
            "   Minimum A_V      :     0.000 mag\n",
            "   Maximum A_V      :    40.000 mag\n",
            "   Minimum distance :     0.010 Mpc\n",
            "   Maximum distance :     2.000 Mpc\n",
            "\n",
            " ------------------------------------------------------------\n",
            "  => Output parameters\n",
            " ------------------------------------------------------------\n",
            "\n",
            "   File   : output.fitinfo\n",
            "   Format : F\n",
            "   Number : 6\n",
            "\n",
            " ------------------------------------------------------------\n",
            "  => Data format parameters\n",
            " ------------------------------------------------------------\n",
            "\n",
            "   Number of filters :  5\n",
            "\n",
            "\n",
            "     Filter    Wavelength    Aperture (\")   \n",
            "    ----------------------------------------\n",
            "        PS1g        0.49       3.00        \n",
            "        PS1r        0.62       3.00        \n",
            "        PS1i        0.75       3.00        \n",
            "        PS1z        0.87       3.00        \n",
            "        PS1y        0.95       3.00        \n",
            "\n",
            "   # Sources    CPU time (sec)    Sources/sec  \n",
            " ----------------------------------------------\n",
            "          2              0.0         100.72\n"
          ]
        }
      ]
    },
    {
      "cell_type": "code",
      "source": [
        "from sedfitter import plot\n",
        "plot('output.fitinfo', 'plots_seds', select_format=('F', 3), show_convolved=True,format='png')"
      ],
      "metadata": {
        "id": "f29CgenLg6Ba"
      },
      "execution_count": null,
      "outputs": []
    },
    {
      "cell_type": "markdown",
      "source": [
        "\n",
        "Extracting fitting parameters from SED Fitter output"
      ],
      "metadata": {
        "id": "8cXsO5H0fzVS"
      }
    },
    {
      "cell_type": "code",
      "source": [
        "fin = sed.FitInfoFile('output.fitinfo', 'r')\n",
        "modpar = sed.utils.parfile.read(\"%s/models.conf\" % fin.meta.model_dir, 'conf')\n",
        "\n",
        "f1 = Table.read('models_kurucz/convolved/PS1g.fits',hdu=1)\n",
        "f2 = Table.read('models_kurucz/convolved/PS1r.fits',hdu=1)\n",
        "f3 = Table.read('models_kurucz/convolved/PS1i.fits',hdu=1)\n",
        "f4 = Table.read('models_kurucz/convolved/PS1z.fits',hdu=1)\n",
        "f5 = Table.read('models_kurucz/convolved/PS1y.fits',hdu=1)\n",
        "\n",
        "nuv_filter = Table.read('models_kurucz/convolved/UVIT_NUV.fits',hdu=1)\n",
        "fuv_filter = Table.read('models_kurucz/convolved/UVIT_FUV.fits',hdu=1)\n",
        "\n",
        "flux     = []\n",
        "flux_err = []\n",
        "chi2     = []\n",
        "Avs      = []\n",
        "for info in fin:\n",
        "  Avs.append([info.av]*7)\n",
        "  model_name = info.model_name[0]\n",
        "  chi2.append(info.chi2[0])\n",
        "\n",
        "  g = [f1[f1['MODEL_NAME'] == model_name]['TOTAL_FLUX'].value[0][0] , f1[f1['MODEL_NAME'] == model_name]['TOTAL_FLUX_ERR'].value[0][0]]\n",
        "  r = [f2[f2['MODEL_NAME'] == model_name]['TOTAL_FLUX'].value[0][0] , f2[f2['MODEL_NAME'] == model_name]['TOTAL_FLUX_ERR'].value[0][0]]\n",
        "  i = [f3[f3['MODEL_NAME'] == model_name]['TOTAL_FLUX'].value[0][0] , f3[f3['MODEL_NAME'] == model_name]['TOTAL_FLUX_ERR'].value[0][0]]\n",
        "  z = [f4[f4['MODEL_NAME'] == model_name]['TOTAL_FLUX'].value[0][0] , f4[f4['MODEL_NAME'] == model_name]['TOTAL_FLUX_ERR'].value[0][0]]\n",
        "  y = [f5[f5['MODEL_NAME'] == model_name]['TOTAL_FLUX'].value[0][0] , f5[f5['MODEL_NAME'] == model_name]['TOTAL_FLUX_ERR'].value[0][0]]\n",
        "\n",
        "  NUV = [nuv_filter[nuv_filter['MODEL_NAME'] == model_name]['TOTAL_FLUX'].value[0][0] , nuv_filter[nuv_filter['MODEL_NAME'] == model_name]['TOTAL_FLUX_ERR'].value[0][0]]\n",
        "  FUV = [fuv_filter[fuv_filter['MODEL_NAME'] == model_name]['TOTAL_FLUX'].value[0][0] , fuv_filter[fuv_filter['MODEL_NAME'] == model_name]['TOTAL_FLUX_ERR'].value[0][0]]\n",
        "\n",
        "  flux.append([FUV[0]*sc, NUV[0]*sc, g[0]*sc, r[0]*sc, i[0]*sc, z[0]*sc, y[0]*sc])\n",
        "\n",
        "  flux_err.append([FUV[1], NUV[1], g[1], r[1], i[1], z[1], y[1]])\n",
        "\n",
        "  \n",
        "\n",
        "flux = np.array(flux)\n",
        "\n",
        "Avs = np.array(Avs)\n",
        "\n",
        "flux_err = np.array(flux_err)"
      ],
      "metadata": {
        "id": "CPqVMcz-kYBp"
      },
      "execution_count": 33,
      "outputs": []
    },
    {
      "cell_type": "code",
      "source": [
        "info.model_name[0] == 'kt06500g+0.5z+0.5'"
      ],
      "metadata": {
        "id": "w7UM9y8g9Lrr",
        "outputId": "2d2ce6ae-4ade-4a88-85ea-5f4884e09788",
        "colab": {
          "base_uri": "https://localhost:8080/"
        }
      },
      "execution_count": 34,
      "outputs": [
        {
          "output_type": "execute_result",
          "data": {
            "text/plain": [
              "True"
            ]
          },
          "metadata": {},
          "execution_count": 34
        }
      ]
    },
    {
      "cell_type": "code",
      "source": [
        "tab_star = Table.from_pandas(df_star)\n",
        "\n",
        "tab_star['model_flux']     = flux\n",
        "tab_star['model_flux_err'] = flux_err\n",
        "tab_star['Av']             = Avs\n",
        "tab_star['model_mag']      = -2.5*np.log10(tab_star['model_flux']*pow(10,-0.4*tab_star['Av'])/3631e3) \n",
        "tab_star['model_mag_err']  =  1.09*tab_star['model_flux_err']/tab_star['model_mag'] \n",
        "tab_star['chi2'] =chi2"
      ],
      "metadata": {
        "id": "ZivaWg7o9dNl"
      },
      "execution_count": 35,
      "outputs": []
    },
    {
      "cell_type": "code",
      "source": [
        "filters = ['ABmag','gPSFMag','rPSFMag','iPSFMag','zPSFMag','yPSFMag']\n",
        "\n",
        "x = ['NUV ABmag','gPSFMag','rPSFMag','iPSFMag','zPSFMag','yPSFMag']\n",
        "for i,fl in df_star[filters].iterrows():\n",
        "  plt.scatter(x,fl,marker = 'o', color = 'black')\n",
        "  plt.plot(x,fl)\n",
        "  break\n",
        "  \n",
        "plt.plot(x,tab_star['model_mag'].value[0][1:])\n",
        "plt.scatter(x,tab_star['model_mag'].value[0][1:])"
      ],
      "metadata": {
        "colab": {
          "base_uri": "https://localhost:8080/",
          "height": 0
        },
        "id": "LLu_sLr5eHnX",
        "outputId": "4a97ee24-8b74-4966-9a1c-0cfe008990ee"
      },
      "execution_count": 36,
      "outputs": [
        {
          "output_type": "execute_result",
          "data": {
            "text/plain": [
              "<matplotlib.collections.PathCollection at 0x7fa7e14a2d10>"
            ]
          },
          "metadata": {},
          "execution_count": 36
        },
        {
          "output_type": "display_data",
          "data": {
            "image/png": "[encoded data removed]",
            "text/plain": [
              "<Figure size 1080x720 with 1 Axes>"
            ]
          },
          "metadata": {}
        }
      ]
    },
    {
      "cell_type": "code",
      "source": [
        "plt.plot(chi2)\n",
        "plt.yscale('log')\n",
        "plt.ylabel(r'$\\chi^2$')\n",
        "plt.xlabel('Sources')\n",
        "plt.title('SED Fitter')"
      ],
      "metadata": {
        "id": "xVZ6bNQSNsKm",
        "outputId": "9d8d502e-51e5-44d6-ead0-f5280fa23336",
        "colab": {
          "base_uri": "https://localhost:8080/",
          "height": 0
        }
      },
      "execution_count": 39,
      "outputs": [
        {
          "output_type": "execute_result",
          "data": {
            "text/plain": [
              "Text(0.5, 1.0, 'SED Fitter')"
            ]
          },
          "metadata": {},
          "execution_count": 39
        },
        {
          "output_type": "display_data",
          "data": {
            "image/png": "[encoded data removed]",
            "text/plain": [
              "<Figure size 1080x720 with 1 Axes>"
            ]
          },
          "metadata": {}
        }
      ]
    },
    {
      "cell_type": "markdown",
      "source": [
        "### **SED Fitting Routine**"
      ],
      "metadata": {
        "id": "DZz_lg2LgAeH"
      }
    },
    {
      "cell_type": "markdown",
      "source": [
        "EMCEE : Bayesian. "
      ],
      "metadata": {
        "id": "1zoGmWyp_rhl"
      }
    },
    {
      "cell_type": "code",
      "source": [
        "74 EMCEE"
      ],
      "metadata": {
        "id": "MBvFK3In_p8U"
      },
      "execution_count": null,
      "outputs": []
    },
    {
      "cell_type": "markdown",
      "source": [
        "#### **Data**"
      ],
      "metadata": {
        "id": "B-m7KaGO6R7D"
      }
    },
    {
      "cell_type": "code",
      "source": [
        "df_star = df_star = df_M31[df_M31['Filter']=='NUVN2'][:1]\n",
        "df_star.head(5)"
      ],
      "metadata": {
        "id": "6MFlhQNQ6Q6R",
        "outputId": "107f9a3b-e428-4712-c4ac-637be26faf11",
        "colab": {
          "base_uri": "https://localhost:8080/",
          "height": 145
        }
      },
      "execution_count": 40,
      "outputs": [
        {
          "output_type": "execute_result",
          "data": {
            "text/html": [
              "\n",
              "  <div id=\"df-3d130ae4-cef2-4fec-b271-1c582be2504d\">\n",
              "    <div class=\"colab-df-container\">\n",
              "      <div>\n",
              "<style scoped>\n",
              "    .dataframe tbody tr th:only-of-type {\n",
              "        vertical-align: middle;\n",
              "    }\n",
              "\n",
              "    .dataframe tbody tr th {\n",
              "        vertical-align: top;\n",
              "    }\n",
              "\n",
              "    .dataframe thead th {\n",
              "        text-align: right;\n",
              "    }\n",
              "</style>\n",
              "<table border=\"1\" class=\"dataframe\">\n",
              "  <thead>\n",
              "    <tr style=\"text-align: right;\">\n",
              "      <th></th>\n",
              "      <th>Filter</th>\n",
              "      <th>RAJ2000</th>\n",
              "      <th>DEJ2000</th>\n",
              "      <th>ABmag</th>\n",
              "      <th>mag</th>\n",
              "      <th>Errmag</th>\n",
              "      <th>Field</th>\n",
              "      <th>M31Cat</th>\n",
              "      <th>objid</th>\n",
              "      <th>ra</th>\n",
              "      <th>dec</th>\n",
              "      <th>gPSFMag</th>\n",
              "      <th>gPSFMagErr</th>\n",
              "      <th>rPSFMag</th>\n",
              "      <th>rPSFMagErr</th>\n",
              "      <th>iPSFMag</th>\n",
              "      <th>iPSFMagErr</th>\n",
              "      <th>zPSFMag</th>\n",
              "      <th>zPSFMagErr</th>\n",
              "      <th>yPSFMag</th>\n",
              "      <th>yPSFMagErr</th>\n",
              "      <th>ps_score</th>\n",
              "      <th>Separation</th>\n",
              "    </tr>\n",
              "  </thead>\n",
              "  <tbody>\n",
              "    <tr>\n",
              "      <th>6104</th>\n",
              "      <td>NUVN2</td>\n",
              "      <td>10.8409</td>\n",
              "      <td>41.4216</td>\n",
              "      <td>18.524</td>\n",
              "      <td>17.024</td>\n",
              "      <td>0.055</td>\n",
              "      <td>b'1, 2      '</td>\n",
              "      <td>0</td>\n",
              "      <td>157700108409766519</td>\n",
              "      <td>10.840969</td>\n",
              "      <td>41.421568</td>\n",
              "      <td>15.1915</td>\n",
              "      <td>0.000671</td>\n",
              "      <td>14.8708</td>\n",
              "      <td>0.000536</td>\n",
              "      <td>14.8466</td>\n",
              "      <td>0.000476</td>\n",
              "      <td>14.8092</td>\n",
              "      <td>0.001326</td>\n",
              "      <td>14.7037</td>\n",
              "      <td>0.001396</td>\n",
              "      <td>0.940364</td>\n",
              "      <td>0.218805</td>\n",
              "    </tr>\n",
              "  </tbody>\n",
              "</table>\n",
              "</div>\n",
              "      <button class=\"colab-df-convert\" onclick=\"convertToInteractive('df-3d130ae4-cef2-4fec-b271-1c582be2504d')\"\n",
              "              title=\"Convert this dataframe to an interactive table.\"\n",
              "              style=\"display:none;\">\n",
              "        \n",
              "  <svg xmlns=\"http://www.w3.org/2000/svg\" height=\"24px\"viewBox=\"0 0 24 24\"\n",
              "       width=\"24px\">\n",
              "    <path d=\"M0 0h24v24H0V0z\" fill=\"none\"/>\n",
              "    <path d=\"M18.56 5.44l.94 2.06.94-2.06 2.06-.94-2.06-.94-.94-2.06-.94 2.06-2.06.94zm-11 1L8.5 8.5l.94-2.06 2.06-.94-2.06-.94L8.5 2.5l-.94 2.06-2.06.94zm10 10l.94 2.06.94-2.06 2.06-.94-2.06-.94-.94-2.06-.94 2.06-2.06.94z\"/><path d=\"M17.41 7.96l-1.37-1.37c-.4-.4-.92-.59-1.43-.59-.52 0-1.04.2-1.43.59L10.3 9.45l-7.72 7.72c-.78.78-.78 2.05 0 2.83L4 21.41c.39.39.9.59 1.41.59.51 0 1.02-.2 1.41-.59l7.78-7.78 2.81-2.81c.8-.78.8-2.07 0-2.86zM5.41 20L4 18.59l7.72-7.72 1.47 1.35L5.41 20z\"/>\n",
              "  </svg>\n",
              "      </button>\n",
              "      \n",
              "  <style>\n",
              "    .colab-df-container {\n",
              "      display:flex;\n",
              "      flex-wrap:wrap;\n",
              "      gap: 12px;\n",
              "    }\n",
              "\n",
              "    .colab-df-convert {\n",
              "      background-color: #E8F0FE;\n",
              "      border: none;\n",
              "      border-radius: 50%;\n",
              "      cursor: pointer;\n",
              "      display: none;\n",
              "      fill: #1967D2;\n",
              "      height: 32px;\n",
              "      padding: 0 0 0 0;\n",
              "      width: 32px;\n",
              "    }\n",
              "\n",
              "    .colab-df-convert:hover {\n",
              "      background-color: #E2EBFA;\n",
              "      box-shadow: 0px 1px 2px rgba(60, 64, 67, 0.3), 0px 1px 3px 1px rgba(60, 64, 67, 0.15);\n",
              "      fill: #174EA6;\n",
              "    }\n",
              "\n",
              "    [theme=dark] .colab-df-convert {\n",
              "      background-color: #3B4455;\n",
              "      fill: #D2E3FC;\n",
              "    }\n",
              "\n",
              "    [theme=dark] .colab-df-convert:hover {\n",
              "      background-color: #434B5C;\n",
              "      box-shadow: 0px 1px 3px 1px rgba(0, 0, 0, 0.15);\n",
              "      filter: drop-shadow(0px 1px 2px rgba(0, 0, 0, 0.3));\n",
              "      fill: #FFFFFF;\n",
              "    }\n",
              "  </style>\n",
              "\n",
              "      <script>\n",
              "        const buttonEl =\n",
              "          document.querySelector('#df-3d130ae4-cef2-4fec-b271-1c582be2504d button.colab-df-convert');\n",
              "        buttonEl.style.display =\n",
              "          google.colab.kernel.accessAllowed ? 'block' : 'none';\n",
              "\n",
              "        async function convertToInteractive(key) {\n",
              "          const element = document.querySelector('#df-3d130ae4-cef2-4fec-b271-1c582be2504d');\n",
              "          const dataTable =\n",
              "            await google.colab.kernel.invokeFunction('convertToInteractive',\n",
              "                                                     [key], {});\n",
              "          if (!dataTable) return;\n",
              "\n",
              "          const docLinkHtml = 'Like what you see? Visit the ' +\n",
              "            '<a target=\"_blank\" href=https://colab.research.google.com/notebooks/data_table.ipynb>data table notebook</a>'\n",
              "            + ' to learn more about interactive tables.';\n",
              "          element.innerHTML = '';\n",
              "          dataTable['output_type'] = 'display_data';\n",
              "          await google.colab.output.renderOutput(dataTable, element);\n",
              "          const docLink = document.createElement('div');\n",
              "          docLink.innerHTML = docLinkHtml;\n",
              "          element.appendChild(docLink);\n",
              "        }\n",
              "      </script>\n",
              "    </div>\n",
              "  </div>\n",
              "  "
            ],
            "text/plain": [
              "     Filter  RAJ2000  DEJ2000  ...  yPSFMagErr  ps_score  Separation\n",
              "6104  NUVN2  10.8409  41.4216  ...    0.001396  0.940364    0.218805\n",
              "\n",
              "[1 rows x 23 columns]"
            ]
          },
          "metadata": {},
          "execution_count": 40
        }
      ]
    },
    {
      "cell_type": "code",
      "source": [
        "for i in ['g','r','i','z','y']:\n",
        "  df_star[f'{i}PSFFlux']     = 3631*pow(10,-df_star[f'{i}PSFMag']/2.5)*1000            #mJy\n",
        "\n",
        "  df_star[f'{i}PSFFlux_err'] = (df_star[f'{i}PSFMagErr']*df_star[f'{i}PSFFlux'])/1.09  #mJy"
      ],
      "metadata": {
        "id": "387c96A46Q6S"
      },
      "execution_count": 41,
      "outputs": []
    },
    {
      "cell_type": "markdown",
      "source": [
        "#### **Fit**"
      ],
      "metadata": {
        "id": "WQrCLm-A6k6J"
      }
    },
    {
      "cell_type": "code",
      "source": [
        "def chi2_func(params,flux,model_flux,flux_err,ext):\n",
        "  Md, av = params\n",
        "  chi = (flux - Md*model_flux*pow(10,-0.4*av*ext))/flux_err\n",
        "  return chi@chi"
      ],
      "metadata": {
        "id": "FtlzBKAGFSj-"
      },
      "execution_count": 42,
      "outputs": []
    },
    {
      "cell_type": "markdown",
      "source": [
        "$\\chi^2 =\\dfrac{1}{N - n_p}\\sum\\limits_{i=1}^j\\left(\\dfrac{Y_{i,o} -M_d \\times Y_{i,M}\\times10^{-0.4\\times ext_i\\times A_v}}{\\sigma_{i,o}}\\right)^2$"
      ],
      "metadata": {
        "id": "kMPkihTNsf9T"
      }
    },
    {
      "cell_type": "code",
      "source": [
        "# Convolved Filters\n",
        "f1 = Table.read('models_kurucz/convolved/PS1g.fits',hdu=1)['TOTAL_FLUX'].value[:,0]\n",
        "f2 = Table.read('models_kurucz/convolved/PS1r.fits',hdu=1)['TOTAL_FLUX'].value[:,0]\n",
        "f3 = Table.read('models_kurucz/convolved/PS1i.fits',hdu=1)['TOTAL_FLUX'].value[:,0]\n",
        "f4 = Table.read('models_kurucz/convolved/PS1z.fits',hdu=1)['TOTAL_FLUX'].value[:,0]\n",
        "f5 = Table.read('models_kurucz/convolved/PS1y.fits',hdu=1)['TOTAL_FLUX'].value[:,0]\n",
        "\n",
        "model_name = [ i  for i in Table.read('models_kurucz/convolved/PS1g.fits',hdu=1)['MODEL_NAME']]\n",
        "ext = np.array([1.18, 0.881, 0.667, 0.534,0.457])\n",
        "chi_set = []\n",
        "\n",
        "# Chi2 loop : Takes about 5 minutes with current settings\n",
        "for i,row in df_star.iterrows():\n",
        "  flux     = row[['gPSFFlux', 'rPSFFlux', 'iPSFFlux', 'zPSFFlux', 'yPSFFlux']].values\n",
        "  flux_err = row[['gPSFFlux_err', 'rPSFFlux_err', 'iPSFFlux_err', 'zPSFFlux_err', 'yPSFFlux_err']].values\n",
        "\n",
        "  for j,model_flux in enumerate(zip(f1,f2,f3,f4,f5)):\n",
        "    model_flux = np.array(model_flux)\n",
        "\n",
        "    params = minimize(chi2_func,x0 = (1e-2,0.5),bounds=([0,np.inf],[0,np.inf]),args=(flux,model_flux,flux_err,ext)).x\n",
        "    Md, Av = params\n",
        "    chi2   = chi2_func(params,flux,model_flux,flux_err,ext)\n",
        "    chi_set.append([row['objid'],model_name[j],Md,Av,chi2])"
      ],
      "metadata": {
        "id": "KJl-6PRgSPPr"
      },
      "execution_count": 43,
      "outputs": []
    },
    {
      "cell_type": "code",
      "source": [
        "df_chi = pd.DataFrame(chi_set, columns = ['objid','model_name','Md','Av','chi2'])"
      ],
      "metadata": {
        "id": "MumhItyuS6Oy"
      },
      "execution_count": 44,
      "outputs": []
    },
    {
      "cell_type": "code",
      "source": [
        "df_chi_min = df_chi[0:0]\n",
        "for i in df_chi['objid'].unique():\n",
        "  df_temp = df_chi[ df_chi['objid'] == i]\n",
        "  df_chi_min = df_chi_min.append(df_temp[df_temp['chi2']==df_temp['chi2'].min()])"
      ],
      "metadata": {
        "id": "Tt69f08oTkND"
      },
      "execution_count": 45,
      "outputs": []
    },
    {
      "cell_type": "code",
      "source": [
        "df_chi_min"
      ],
      "metadata": {
        "colab": {
          "base_uri": "https://localhost:8080/",
          "height": 81
        },
        "id": "5LSKiTB7j1Xx",
        "outputId": "6290141e-e4b6-4d34-847e-a12ece7a1726"
      },
      "execution_count": 46,
      "outputs": [
        {
          "output_type": "execute_result",
          "data": {
            "text/html": [
              "\n",
              "  <div id=\"df-ada1d0f4-2780-4e02-902c-356af72a965b\">\n",
              "    <div class=\"colab-df-container\">\n",
              "      <div>\n",
              "<style scoped>\n",
              "    .dataframe tbody tr th:only-of-type {\n",
              "        vertical-align: middle;\n",
              "    }\n",
              "\n",
              "    .dataframe tbody tr th {\n",
              "        vertical-align: top;\n",
              "    }\n",
              "\n",
              "    .dataframe thead th {\n",
              "        text-align: right;\n",
              "    }\n",
              "</style>\n",
              "<table border=\"1\" class=\"dataframe\">\n",
              "  <thead>\n",
              "    <tr style=\"text-align: right;\">\n",
              "      <th></th>\n",
              "      <th>objid</th>\n",
              "      <th>model_name</th>\n",
              "      <th>Md</th>\n",
              "      <th>Av</th>\n",
              "      <th>chi2</th>\n",
              "    </tr>\n",
              "  </thead>\n",
              "  <tbody>\n",
              "    <tr>\n",
              "      <th>1050</th>\n",
              "      <td>157700108409766519</td>\n",
              "      <td>kt06500g+0.5z+0.5</td>\n",
              "      <td>0.6383</td>\n",
              "      <td>0.386339</td>\n",
              "      <td>5032.017178</td>\n",
              "    </tr>\n",
              "  </tbody>\n",
              "</table>\n",
              "</div>\n",
              "      <button class=\"colab-df-convert\" onclick=\"convertToInteractive('df-ada1d0f4-2780-4e02-902c-356af72a965b')\"\n",
              "              title=\"Convert this dataframe to an interactive table.\"\n",
              "              style=\"display:none;\">\n",
              "        \n",
              "  <svg xmlns=\"http://www.w3.org/2000/svg\" height=\"24px\"viewBox=\"0 0 24 24\"\n",
              "       width=\"24px\">\n",
              "    <path d=\"M0 0h24v24H0V0z\" fill=\"none\"/>\n",
              "    <path d=\"M18.56 5.44l.94 2.06.94-2.06 2.06-.94-2.06-.94-.94-2.06-.94 2.06-2.06.94zm-11 1L8.5 8.5l.94-2.06 2.06-.94-2.06-.94L8.5 2.5l-.94 2.06-2.06.94zm10 10l.94 2.06.94-2.06 2.06-.94-2.06-.94-.94-2.06-.94 2.06-2.06.94z\"/><path d=\"M17.41 7.96l-1.37-1.37c-.4-.4-.92-.59-1.43-.59-.52 0-1.04.2-1.43.59L10.3 9.45l-7.72 7.72c-.78.78-.78 2.05 0 2.83L4 21.41c.39.39.9.59 1.41.59.51 0 1.02-.2 1.41-.59l7.78-7.78 2.81-2.81c.8-.78.8-2.07 0-2.86zM5.41 20L4 18.59l7.72-7.72 1.47 1.35L5.41 20z\"/>\n",
              "  </svg>\n",
              "      </button>\n",
              "      \n",
              "  <style>\n",
              "    .colab-df-container {\n",
              "      display:flex;\n",
              "      flex-wrap:wrap;\n",
              "      gap: 12px;\n",
              "    }\n",
              "\n",
              "    .colab-df-convert {\n",
              "      background-color: #E8F0FE;\n",
              "      border: none;\n",
              "      border-radius: 50%;\n",
              "      cursor: pointer;\n",
              "      display: none;\n",
              "      fill: #1967D2;\n",
              "      height: 32px;\n",
              "      padding: 0 0 0 0;\n",
              "      width: 32px;\n",
              "    }\n",
              "\n",
              "    .colab-df-convert:hover {\n",
              "      background-color: #E2EBFA;\n",
              "      box-shadow: 0px 1px 2px rgba(60, 64, 67, 0.3), 0px 1px 3px 1px rgba(60, 64, 67, 0.15);\n",
              "      fill: #174EA6;\n",
              "    }\n",
              "\n",
              "    [theme=dark] .colab-df-convert {\n",
              "      background-color: #3B4455;\n",
              "      fill: #D2E3FC;\n",
              "    }\n",
              "\n",
              "    [theme=dark] .colab-df-convert:hover {\n",
              "      background-color: #434B5C;\n",
              "      box-shadow: 0px 1px 3px 1px rgba(0, 0, 0, 0.15);\n",
              "      filter: drop-shadow(0px 1px 2px rgba(0, 0, 0, 0.3));\n",
              "      fill: #FFFFFF;\n",
              "    }\n",
              "  </style>\n",
              "\n",
              "      <script>\n",
              "        const buttonEl =\n",
              "          document.querySelector('#df-ada1d0f4-2780-4e02-902c-356af72a965b button.colab-df-convert');\n",
              "        buttonEl.style.display =\n",
              "          google.colab.kernel.accessAllowed ? 'block' : 'none';\n",
              "\n",
              "        async function convertToInteractive(key) {\n",
              "          const element = document.querySelector('#df-ada1d0f4-2780-4e02-902c-356af72a965b');\n",
              "          const dataTable =\n",
              "            await google.colab.kernel.invokeFunction('convertToInteractive',\n",
              "                                                     [key], {});\n",
              "          if (!dataTable) return;\n",
              "\n",
              "          const docLinkHtml = 'Like what you see? Visit the ' +\n",
              "            '<a target=\"_blank\" href=https://colab.research.google.com/notebooks/data_table.ipynb>data table notebook</a>'\n",
              "            + ' to learn more about interactive tables.';\n",
              "          element.innerHTML = '';\n",
              "          dataTable['output_type'] = 'display_data';\n",
              "          await google.colab.output.renderOutput(dataTable, element);\n",
              "          const docLink = document.createElement('div');\n",
              "          docLink.innerHTML = docLinkHtml;\n",
              "          element.appendChild(docLink);\n",
              "        }\n",
              "      </script>\n",
              "    </div>\n",
              "  </div>\n",
              "  "
            ],
            "text/plain": [
              "                   objid         model_name      Md        Av         chi2\n",
              "1050  157700108409766519  kt06500g+0.5z+0.5  0.6383  0.386339  5032.017178"
            ]
          },
          "metadata": {},
          "execution_count": 46
        }
      ]
    },
    {
      "cell_type": "code",
      "source": [
        "'kt06500g+0.5z+0.5'"
      ],
      "metadata": {
        "id": "ZUtUyGJnIXTQ",
        "outputId": "32a96242-e2d8-4d2d-b879-6dccdfe13592",
        "colab": {
          "base_uri": "https://localhost:8080/",
          "height": 35
        }
      },
      "execution_count": 47,
      "outputs": [
        {
          "output_type": "execute_result",
          "data": {
            "application/vnd.google.colaboratory.intrinsic+json": {
              "type": "string"
            },
            "text/plain": [
              "'kt06500g+0.5z+0.5'"
            ]
          },
          "metadata": {},
          "execution_count": 47
        }
      ]
    },
    {
      "cell_type": "code",
      "source": [
        "len(df_chi_min.model_name.unique())"
      ],
      "metadata": {
        "colab": {
          "base_uri": "https://localhost:8080/"
        },
        "id": "G42EPj2PXbhY",
        "outputId": "c06b6fd2-e695-456f-fe00-35f2bb01bc8b"
      },
      "execution_count": 48,
      "outputs": [
        {
          "output_type": "execute_result",
          "data": {
            "text/plain": [
              "1"
            ]
          },
          "metadata": {},
          "execution_count": 48
        }
      ]
    },
    {
      "cell_type": "code",
      "source": [
        "f1 = Table.read('models_kurucz/convolved/PS1g.fits',hdu=1)\n",
        "f2 = Table.read('models_kurucz/convolved/PS1r.fits',hdu=1)\n",
        "f3 = Table.read('models_kurucz/convolved/PS1i.fits',hdu=1)\n",
        "f4 = Table.read('models_kurucz/convolved/PS1z.fits',hdu=1)\n",
        "f5 = Table.read('models_kurucz/convolved/PS1y.fits',hdu=1)\n",
        "\n",
        "nuv_filter = Table.read('models_kurucz/convolved/UVIT_NUV.fits',hdu=1)\n",
        "fuv_filter = Table.read('models_kurucz/convolved/UVIT_FUV.fits',hdu=1)\n",
        "\n",
        "flux     = []\n",
        "flux_err = []\n",
        "Avs      = []\n",
        "Mds      = []\n",
        "ext = np.array([2.67, 1.95,1.18, 0.881, 0.667, 0.534,0.457])\n",
        "for i,row in df_chi_min.iterrows():\n",
        "  model_name = row['model_name']\n",
        "  Md = row['Md'] \n",
        "  Av = row['Av']\n",
        "  g = [f1[f1['MODEL_NAME'] == model_name]['TOTAL_FLUX'].value[0][0] , f1[f1['MODEL_NAME'] == model_name]['TOTAL_FLUX_ERR'].value[0][0]]\n",
        "  r = [f2[f2['MODEL_NAME'] == model_name]['TOTAL_FLUX'].value[0][0] , f2[f2['MODEL_NAME'] == model_name]['TOTAL_FLUX_ERR'].value[0][0]]\n",
        "  i = [f3[f3['MODEL_NAME'] == model_name]['TOTAL_FLUX'].value[0][0] , f3[f3['MODEL_NAME'] == model_name]['TOTAL_FLUX_ERR'].value[0][0]]\n",
        "  z = [f4[f4['MODEL_NAME'] == model_name]['TOTAL_FLUX'].value[0][0] , f4[f4['MODEL_NAME'] == model_name]['TOTAL_FLUX_ERR'].value[0][0]]\n",
        "  y = [f5[f5['MODEL_NAME'] == model_name]['TOTAL_FLUX'].value[0][0] , f5[f5['MODEL_NAME'] == model_name]['TOTAL_FLUX_ERR'].value[0][0]]\n",
        "\n",
        "  NUV = [nuv_filter[nuv_filter['MODEL_NAME'] == model_name]['TOTAL_FLUX'].value[0][0] , nuv_filter[nuv_filter['MODEL_NAME'] == model_name]['TOTAL_FLUX_ERR'].value[0][0]]\n",
        "  FUV = [fuv_filter[fuv_filter['MODEL_NAME'] == model_name]['TOTAL_FLUX'].value[0][0] , fuv_filter[fuv_filter['MODEL_NAME'] == model_name]['TOTAL_FLUX_ERR'].value[0][0]]\n",
        "\n",
        "  flux.append([Md*FUV[0]*pow(10,-0.4*ext[0]*Av), Md*NUV[0]*pow(10,-0.4*ext[1]*Av), Md*g[0]*pow(10,-0.4*ext[2]*Av), Md*r[0]*pow(10,-0.4*ext[3]*Av), Md*i[0]*pow(10,-0.4*ext[4]*Av), Md*z[0]*pow(10,-0.4*ext[5]*Av), Md*y[0]*pow(10,-0.4*ext[6]*Av)])\n",
        "  flux_err.append([FUV[1], NUV[1], g[1], r[1], i[1], z[1], y[1]])\n",
        "\n",
        "  Avs.append(row['Av'])\n",
        "  Mds.append(row['Md'])\n",
        "\n",
        "flux = np.array(flux)\n",
        "\n",
        "flux_err = np.array(flux_err)\n",
        "\n",
        "Avs = np.array(Avs)\n",
        "\n",
        "Mds = np.array(Mds)"
      ],
      "metadata": {
        "id": "krHin-s6cvgT"
      },
      "execution_count": 98,
      "outputs": []
    },
    {
      "cell_type": "code",
      "source": [
        "tab_star = Table.from_pandas(df_star)\n",
        "tab_star['model_flux'] =  flux\n",
        "tab_star['model_mag']  =  -2.5*np.log10(flux/3631000)"
      ],
      "metadata": {
        "id": "128NBSCIH38A"
      },
      "execution_count": 95,
      "outputs": []
    },
    {
      "cell_type": "code",
      "source": [
        "df_star"
      ],
      "metadata": {
        "colab": {
          "base_uri": "https://localhost:8080/",
          "height": 145
        },
        "id": "UsvUK8iR1P4t",
        "outputId": "b76dfb8b-e1fc-4e2a-9920-3a1776248eb9"
      },
      "execution_count": 96,
      "outputs": [
        {
          "output_type": "execute_result",
          "data": {
            "text/html": [
              "\n",
              "  <div id=\"df-e64c3dee-1877-4d6d-b0bf-964cbe7005ed\">\n",
              "    <div class=\"colab-df-container\">\n",
              "      <div>\n",
              "<style scoped>\n",
              "    .dataframe tbody tr th:only-of-type {\n",
              "        vertical-align: middle;\n",
              "    }\n",
              "\n",
              "    .dataframe tbody tr th {\n",
              "        vertical-align: top;\n",
              "    }\n",
              "\n",
              "    .dataframe thead th {\n",
              "        text-align: right;\n",
              "    }\n",
              "</style>\n",
              "<table border=\"1\" class=\"dataframe\">\n",
              "  <thead>\n",
              "    <tr style=\"text-align: right;\">\n",
              "      <th></th>\n",
              "      <th>Filter</th>\n",
              "      <th>RAJ2000</th>\n",
              "      <th>DEJ2000</th>\n",
              "      <th>ABmag</th>\n",
              "      <th>mag</th>\n",
              "      <th>Errmag</th>\n",
              "      <th>Field</th>\n",
              "      <th>M31Cat</th>\n",
              "      <th>objid</th>\n",
              "      <th>ra</th>\n",
              "      <th>dec</th>\n",
              "      <th>gPSFMag</th>\n",
              "      <th>gPSFMagErr</th>\n",
              "      <th>rPSFMag</th>\n",
              "      <th>rPSFMagErr</th>\n",
              "      <th>iPSFMag</th>\n",
              "      <th>iPSFMagErr</th>\n",
              "      <th>zPSFMag</th>\n",
              "      <th>zPSFMagErr</th>\n",
              "      <th>yPSFMag</th>\n",
              "      <th>yPSFMagErr</th>\n",
              "      <th>ps_score</th>\n",
              "      <th>Separation</th>\n",
              "      <th>gPSFFlux</th>\n",
              "      <th>gPSFFlux_err</th>\n",
              "      <th>rPSFFlux</th>\n",
              "      <th>rPSFFlux_err</th>\n",
              "      <th>iPSFFlux</th>\n",
              "      <th>iPSFFlux_err</th>\n",
              "      <th>zPSFFlux</th>\n",
              "      <th>zPSFFlux_err</th>\n",
              "      <th>yPSFFlux</th>\n",
              "      <th>yPSFFlux_err</th>\n",
              "    </tr>\n",
              "  </thead>\n",
              "  <tbody>\n",
              "    <tr>\n",
              "      <th>6104</th>\n",
              "      <td>NUVN2</td>\n",
              "      <td>10.8409</td>\n",
              "      <td>41.4216</td>\n",
              "      <td>18.524</td>\n",
              "      <td>17.024</td>\n",
              "      <td>0.055</td>\n",
              "      <td>b'1, 2      '</td>\n",
              "      <td>0</td>\n",
              "      <td>157700108409766519</td>\n",
              "      <td>10.840969</td>\n",
              "      <td>41.421568</td>\n",
              "      <td>15.1915</td>\n",
              "      <td>0.000671</td>\n",
              "      <td>14.8708</td>\n",
              "      <td>0.000536</td>\n",
              "      <td>14.8466</td>\n",
              "      <td>0.000476</td>\n",
              "      <td>14.8092</td>\n",
              "      <td>0.001326</td>\n",
              "      <td>14.7037</td>\n",
              "      <td>0.001396</td>\n",
              "      <td>0.940364</td>\n",
              "      <td>0.218805</td>\n",
              "      <td>3.043872</td>\n",
              "      <td>0.001874</td>\n",
              "      <td>4.089839</td>\n",
              "      <td>0.002011</td>\n",
              "      <td>4.182023</td>\n",
              "      <td>0.001826</td>\n",
              "      <td>4.328587</td>\n",
              "      <td>0.005266</td>\n",
              "      <td>4.770306</td>\n",
              "      <td>0.006109</td>\n",
              "    </tr>\n",
              "  </tbody>\n",
              "</table>\n",
              "</div>\n",
              "      <button class=\"colab-df-convert\" onclick=\"convertToInteractive('df-e64c3dee-1877-4d6d-b0bf-964cbe7005ed')\"\n",
              "              title=\"Convert this dataframe to an interactive table.\"\n",
              "              style=\"display:none;\">\n",
              "        \n",
              "  <svg xmlns=\"http://www.w3.org/2000/svg\" height=\"24px\"viewBox=\"0 0 24 24\"\n",
              "       width=\"24px\">\n",
              "    <path d=\"M0 0h24v24H0V0z\" fill=\"none\"/>\n",
              "    <path d=\"M18.56 5.44l.94 2.06.94-2.06 2.06-.94-2.06-.94-.94-2.06-.94 2.06-2.06.94zm-11 1L8.5 8.5l.94-2.06 2.06-.94-2.06-.94L8.5 2.5l-.94 2.06-2.06.94zm10 10l.94 2.06.94-2.06 2.06-.94-2.06-.94-.94-2.06-.94 2.06-2.06.94z\"/><path d=\"M17.41 7.96l-1.37-1.37c-.4-.4-.92-.59-1.43-.59-.52 0-1.04.2-1.43.59L10.3 9.45l-7.72 7.72c-.78.78-.78 2.05 0 2.83L4 21.41c.39.39.9.59 1.41.59.51 0 1.02-.2 1.41-.59l7.78-7.78 2.81-2.81c.8-.78.8-2.07 0-2.86zM5.41 20L4 18.59l7.72-7.72 1.47 1.35L5.41 20z\"/>\n",
              "  </svg>\n",
              "      </button>\n",
              "      \n",
              "  <style>\n",
              "    .colab-df-container {\n",
              "      display:flex;\n",
              "      flex-wrap:wrap;\n",
              "      gap: 12px;\n",
              "    }\n",
              "\n",
              "    .colab-df-convert {\n",
              "      background-color: #E8F0FE;\n",
              "      border: none;\n",
              "      border-radius: 50%;\n",
              "      cursor: pointer;\n",
              "      display: none;\n",
              "      fill: #1967D2;\n",
              "      height: 32px;\n",
              "      padding: 0 0 0 0;\n",
              "      width: 32px;\n",
              "    }\n",
              "\n",
              "    .colab-df-convert:hover {\n",
              "      background-color: #E2EBFA;\n",
              "      box-shadow: 0px 1px 2px rgba(60, 64, 67, 0.3), 0px 1px 3px 1px rgba(60, 64, 67, 0.15);\n",
              "      fill: #174EA6;\n",
              "    }\n",
              "\n",
              "    [theme=dark] .colab-df-convert {\n",
              "      background-color: #3B4455;\n",
              "      fill: #D2E3FC;\n",
              "    }\n",
              "\n",
              "    [theme=dark] .colab-df-convert:hover {\n",
              "      background-color: #434B5C;\n",
              "      box-shadow: 0px 1px 3px 1px rgba(0, 0, 0, 0.15);\n",
              "      filter: drop-shadow(0px 1px 2px rgba(0, 0, 0, 0.3));\n",
              "      fill: #FFFFFF;\n",
              "    }\n",
              "  </style>\n",
              "\n",
              "      <script>\n",
              "        const buttonEl =\n",
              "          document.querySelector('#df-e64c3dee-1877-4d6d-b0bf-964cbe7005ed button.colab-df-convert');\n",
              "        buttonEl.style.display =\n",
              "          google.colab.kernel.accessAllowed ? 'block' : 'none';\n",
              "\n",
              "        async function convertToInteractive(key) {\n",
              "          const element = document.querySelector('#df-e64c3dee-1877-4d6d-b0bf-964cbe7005ed');\n",
              "          const dataTable =\n",
              "            await google.colab.kernel.invokeFunction('convertToInteractive',\n",
              "                                                     [key], {});\n",
              "          if (!dataTable) return;\n",
              "\n",
              "          const docLinkHtml = 'Like what you see? Visit the ' +\n",
              "            '<a target=\"_blank\" href=https://colab.research.google.com/notebooks/data_table.ipynb>data table notebook</a>'\n",
              "            + ' to learn more about interactive tables.';\n",
              "          element.innerHTML = '';\n",
              "          dataTable['output_type'] = 'display_data';\n",
              "          await google.colab.output.renderOutput(dataTable, element);\n",
              "          const docLink = document.createElement('div');\n",
              "          docLink.innerHTML = docLinkHtml;\n",
              "          element.appendChild(docLink);\n",
              "        }\n",
              "      </script>\n",
              "    </div>\n",
              "  </div>\n",
              "  "
            ],
            "text/plain": [
              "     Filter  RAJ2000  DEJ2000  ...  zPSFFlux_err  yPSFFlux  yPSFFlux_err\n",
              "6104  NUVN2  10.8409  41.4216  ...      0.005266  4.770306      0.006109\n",
              "\n",
              "[1 rows x 33 columns]"
            ]
          },
          "metadata": {},
          "execution_count": 96
        }
      ]
    },
    {
      "cell_type": "code",
      "source": [
        "filters = ['ABmag','gPSFMag','rPSFMag','iPSFMag','zPSFMag','yPSFMag']\n",
        "\n",
        "x = ['UVmag','gPSFMag','rPSFMag','iPSFMag','zPSFMag','yPSFMag']\n",
        "for i,fl in df_star[filters].iterrows():\n",
        "  plt.scatter(x,fl,marker = 'o', color = 'black')\n",
        "  plt.plot(x,fl)\n",
        "  break\n",
        "plt.plot(x,tab_star['model_mag'].value[0][[1,2,3,4,5,6]])\n",
        "\n",
        "plt.scatter(x,tab_star['model_mag'].value[0][[1,2,3,4,5,6]])"
      ],
      "metadata": {
        "colab": {
          "base_uri": "https://localhost:8080/",
          "height": 609
        },
        "id": "k_MBoTNPmBbj",
        "outputId": "05934f72-c332-4802-8507-2e13da255f3b"
      },
      "execution_count": 97,
      "outputs": [
        {
          "output_type": "execute_result",
          "data": {
            "text/plain": [
              "<matplotlib.collections.PathCollection at 0x7fa7e0a47390>"
            ]
          },
          "metadata": {},
          "execution_count": 97
        },
        {
          "output_type": "display_data",
          "data": {
            "image/png": "[encoded data removed]",
            "text/plain": [
              "<Figure size 1080x720 with 1 Axes>"
            ]
          },
          "metadata": {}
        }
      ]
    },
    {
      "cell_type": "code",
      "source": [
        "model_name = df_chi_min['model_name'].values[0]\n",
        "model_name"
      ],
      "metadata": {
        "id": "Sk-XOs2T6zGh",
        "outputId": "e7a6b52f-b119-487b-f63a-0279f7463100",
        "colab": {
          "base_uri": "https://localhost:8080/",
          "height": 35
        }
      },
      "execution_count": 93,
      "outputs": [
        {
          "output_type": "execute_result",
          "data": {
            "application/vnd.google.colaboratory.intrinsic+json": {
              "type": "string"
            },
            "text/plain": [
              "'kt06500g+0.5z+0.5'"
            ]
          },
          "metadata": {},
          "execution_count": 93
        }
      ]
    },
    {
      "cell_type": "code",
      "source": [
        "model_sed = Table.read(f'models_kurucz/seds/{model_name}_sed.fits.gz',hdu=1)"
      ],
      "metadata": {
        "id": "TnfM0pl45_d3"
      },
      "execution_count": null,
      "outputs": []
    },
    {
      "cell_type": "code",
      "source": [
        "plt.plot(model_sed['FREQUENCY'],model_sed['STELLAR_FLUX'])"
      ],
      "metadata": {
        "id": "1gy-RxYk7ZZu",
        "outputId": "2975fa1e-3c97-45b0-b263-431a43cdbc43",
        "colab": {
          "base_uri": "https://localhost:8080/",
          "height": 622
        }
      },
      "execution_count": null,
      "outputs": [
        {
          "output_type": "execute_result",
          "data": {
            "text/plain": [
              "[<matplotlib.lines.Line2D at 0x7f673ab51310>]"
            ]
          },
          "metadata": {},
          "execution_count": 91
        },
        {
          "output_type": "display_data",
          "data": {
            "image/png": "[encoded data removed]",
            "text/plain": [
              "<Figure size 1080x720 with 1 Axes>"
            ]
          },
          "metadata": {}
        }
      ]
    },
    {
      "cell_type": "markdown",
      "source": [
        "## **Testing**"
      ],
      "metadata": {
        "id": "KRdwPHMHQ82b"
      }
    },
    {
      "cell_type": "code",
      "source": [
        "df_star = df_M31[:1].copy()"
      ],
      "metadata": {
        "id": "zWBIUzAW24zW"
      },
      "execution_count": null,
      "outputs": []
    },
    {
      "cell_type": "code",
      "source": [
        "for i in ['g','r','i','z','y']:\n",
        "  df_star[f'{i}PSFFlux']     = 3631*pow(10,-df_star[f'{i}PSFMag']/2.5)*1000            #mJy\n",
        "\n",
        "  df_star[f'{i}PSFFlux_err'] = (df_star[f'{i}PSFMagErr']*df_star[f'{i}PSFFlux'])/1.09  #mJy"
      ],
      "metadata": {
        "id": "--wvbaSs24zW"
      },
      "execution_count": null,
      "outputs": []
    },
    {
      "cell_type": "code",
      "source": [
        "df_star"
      ],
      "metadata": {
        "colab": {
          "base_uri": "https://localhost:8080/",
          "height": 145
        },
        "id": "ez0bf55w3WGI",
        "outputId": "8c5a9c46-a960-4ecf-803b-66a1ac21758e"
      },
      "execution_count": null,
      "outputs": [
        {
          "output_type": "execute_result",
          "data": {
            "text/html": [
              "\n",
              "  <div id=\"df-043679a8-d69c-4112-ac75-258b5576bdb7\">\n",
              "    <div class=\"colab-df-container\">\n",
              "      <div>\n",
              "<style scoped>\n",
              "    .dataframe tbody tr th:only-of-type {\n",
              "        vertical-align: middle;\n",
              "    }\n",
              "\n",
              "    .dataframe tbody tr th {\n",
              "        vertical-align: top;\n",
              "    }\n",
              "\n",
              "    .dataframe thead th {\n",
              "        text-align: right;\n",
              "    }\n",
              "</style>\n",
              "<table border=\"1\" class=\"dataframe\">\n",
              "  <thead>\n",
              "    <tr style=\"text-align: right;\">\n",
              "      <th></th>\n",
              "      <th>Filter</th>\n",
              "      <th>RAJ2000</th>\n",
              "      <th>DEJ2000</th>\n",
              "      <th>ABmag</th>\n",
              "      <th>mag</th>\n",
              "      <th>Errmag</th>\n",
              "      <th>Field</th>\n",
              "      <th>M31Cat</th>\n",
              "      <th>objid</th>\n",
              "      <th>ra</th>\n",
              "      <th>dec</th>\n",
              "      <th>gPSFMag</th>\n",
              "      <th>gPSFMagErr</th>\n",
              "      <th>rPSFMag</th>\n",
              "      <th>rPSFMagErr</th>\n",
              "      <th>iPSFMag</th>\n",
              "      <th>iPSFMagErr</th>\n",
              "      <th>zPSFMag</th>\n",
              "      <th>zPSFMagErr</th>\n",
              "      <th>yPSFMag</th>\n",
              "      <th>yPSFMagErr</th>\n",
              "      <th>ps_score</th>\n",
              "      <th>Separation</th>\n",
              "      <th>gPSFFlux</th>\n",
              "      <th>gPSFFlux_err</th>\n",
              "      <th>rPSFFlux</th>\n",
              "      <th>rPSFFlux_err</th>\n",
              "      <th>iPSFFlux</th>\n",
              "      <th>iPSFFlux_err</th>\n",
              "      <th>zPSFFlux</th>\n",
              "      <th>zPSFFlux_err</th>\n",
              "      <th>yPSFFlux</th>\n",
              "      <th>yPSFFlux_err</th>\n",
              "    </tr>\n",
              "  </thead>\n",
              "  <tbody>\n",
              "    <tr>\n",
              "      <th>0</th>\n",
              "      <td>FUVCaF2</td>\n",
              "      <td>11.005</td>\n",
              "      <td>41.372601</td>\n",
              "      <td>22.556999</td>\n",
              "      <td>20.156</td>\n",
              "      <td>0.104</td>\n",
              "      <td>b'1, 2      '</td>\n",
              "      <td>3</td>\n",
              "      <td>157640110050187706</td>\n",
              "      <td>11.005001</td>\n",
              "      <td>41.372588</td>\n",
              "      <td>20.251699</td>\n",
              "      <td>0.016611</td>\n",
              "      <td>20.385599</td>\n",
              "      <td>0.022176</td>\n",
              "      <td>20.485701</td>\n",
              "      <td>0.024243</td>\n",
              "      <td>20.354401</td>\n",
              "      <td>0.062501</td>\n",
              "      <td>20.3034</td>\n",
              "      <td>0.096491</td>\n",
              "      <td>0.369685</td>\n",
              "      <td>0.043593</td>\n",
              "      <td>0.028797</td>\n",
              "      <td>0.000439</td>\n",
              "      <td>0.025456</td>\n",
              "      <td>0.000518</td>\n",
              "      <td>0.023214</td>\n",
              "      <td>0.000516</td>\n",
              "      <td>0.026198</td>\n",
              "      <td>0.001502</td>\n",
              "      <td>0.027458</td>\n",
              "      <td>0.002431</td>\n",
              "    </tr>\n",
              "  </tbody>\n",
              "</table>\n",
              "</div>\n",
              "      <button class=\"colab-df-convert\" onclick=\"convertToInteractive('df-043679a8-d69c-4112-ac75-258b5576bdb7')\"\n",
              "              title=\"Convert this dataframe to an interactive table.\"\n",
              "              style=\"display:none;\">\n",
              "        \n",
              "  <svg xmlns=\"http://www.w3.org/2000/svg\" height=\"24px\"viewBox=\"0 0 24 24\"\n",
              "       width=\"24px\">\n",
              "    <path d=\"M0 0h24v24H0V0z\" fill=\"none\"/>\n",
              "    <path d=\"M18.56 5.44l.94 2.06.94-2.06 2.06-.94-2.06-.94-.94-2.06-.94 2.06-2.06.94zm-11 1L8.5 8.5l.94-2.06 2.06-.94-2.06-.94L8.5 2.5l-.94 2.06-2.06.94zm10 10l.94 2.06.94-2.06 2.06-.94-2.06-.94-.94-2.06-.94 2.06-2.06.94z\"/><path d=\"M17.41 7.96l-1.37-1.37c-.4-.4-.92-.59-1.43-.59-.52 0-1.04.2-1.43.59L10.3 9.45l-7.72 7.72c-.78.78-.78 2.05 0 2.83L4 21.41c.39.39.9.59 1.41.59.51 0 1.02-.2 1.41-.59l7.78-7.78 2.81-2.81c.8-.78.8-2.07 0-2.86zM5.41 20L4 18.59l7.72-7.72 1.47 1.35L5.41 20z\"/>\n",
              "  </svg>\n",
              "      </button>\n",
              "      \n",
              "  <style>\n",
              "    .colab-df-container {\n",
              "      display:flex;\n",
              "      flex-wrap:wrap;\n",
              "      gap: 12px;\n",
              "    }\n",
              "\n",
              "    .colab-df-convert {\n",
              "      background-color: #E8F0FE;\n",
              "      border: none;\n",
              "      border-radius: 50%;\n",
              "      cursor: pointer;\n",
              "      display: none;\n",
              "      fill: #1967D2;\n",
              "      height: 32px;\n",
              "      padding: 0 0 0 0;\n",
              "      width: 32px;\n",
              "    }\n",
              "\n",
              "    .colab-df-convert:hover {\n",
              "      background-color: #E2EBFA;\n",
              "      box-shadow: 0px 1px 2px rgba(60, 64, 67, 0.3), 0px 1px 3px 1px rgba(60, 64, 67, 0.15);\n",
              "      fill: #174EA6;\n",
              "    }\n",
              "\n",
              "    [theme=dark] .colab-df-convert {\n",
              "      background-color: #3B4455;\n",
              "      fill: #D2E3FC;\n",
              "    }\n",
              "\n",
              "    [theme=dark] .colab-df-convert:hover {\n",
              "      background-color: #434B5C;\n",
              "      box-shadow: 0px 1px 3px 1px rgba(0, 0, 0, 0.15);\n",
              "      filter: drop-shadow(0px 1px 2px rgba(0, 0, 0, 0.3));\n",
              "      fill: #FFFFFF;\n",
              "    }\n",
              "  </style>\n",
              "\n",
              "      <script>\n",
              "        const buttonEl =\n",
              "          document.querySelector('#df-043679a8-d69c-4112-ac75-258b5576bdb7 button.colab-df-convert');\n",
              "        buttonEl.style.display =\n",
              "          google.colab.kernel.accessAllowed ? 'block' : 'none';\n",
              "\n",
              "        async function convertToInteractive(key) {\n",
              "          const element = document.querySelector('#df-043679a8-d69c-4112-ac75-258b5576bdb7');\n",
              "          const dataTable =\n",
              "            await google.colab.kernel.invokeFunction('convertToInteractive',\n",
              "                                                     [key], {});\n",
              "          if (!dataTable) return;\n",
              "\n",
              "          const docLinkHtml = 'Like what you see? Visit the ' +\n",
              "            '<a target=\"_blank\" href=https://colab.research.google.com/notebooks/data_table.ipynb>data table notebook</a>'\n",
              "            + ' to learn more about interactive tables.';\n",
              "          element.innerHTML = '';\n",
              "          dataTable['output_type'] = 'display_data';\n",
              "          await google.colab.output.renderOutput(dataTable, element);\n",
              "          const docLink = document.createElement('div');\n",
              "          docLink.innerHTML = docLinkHtml;\n",
              "          element.appendChild(docLink);\n",
              "        }\n",
              "      </script>\n",
              "    </div>\n",
              "  </div>\n",
              "  "
            ],
            "text/plain": [
              "    Filter  RAJ2000    DEJ2000  ...  zPSFFlux_err  yPSFFlux  yPSFFlux_err\n",
              "0  FUVCaF2   11.005  41.372601  ...      0.001502  0.027458      0.002431\n",
              "\n",
              "[1 rows x 33 columns]"
            ]
          },
          "metadata": {},
          "execution_count": 58
        }
      ]
    },
    {
      "cell_type": "code",
      "source": [
        "def chi2_func(Md,flux,model_flux,flux_err):\n",
        "  chi = (flux - Md*model_flux)/flux_err\n",
        "  return (chi**2).sum()"
      ],
      "metadata": {
        "id": "ghNO20ovQ9Sr"
      },
      "execution_count": null,
      "outputs": []
    },
    {
      "cell_type": "code",
      "source": [
        "# Convolved Filters\n",
        "f1 = Table.read('models_kurucz/convolved/PS1g.fits',hdu=1)['TOTAL_FLUX'].value[:,0]\n",
        "f2 = Table.read('models_kurucz/convolved/PS1r.fits',hdu=1)['TOTAL_FLUX'].value[:,0]\n",
        "f3 = Table.read('models_kurucz/convolved/PS1i.fits',hdu=1)['TOTAL_FLUX'].value[:,0]\n",
        "f4 = Table.read('models_kurucz/convolved/PS1z.fits',hdu=1)['TOTAL_FLUX'].value[:,0]\n",
        "\n",
        "f5 = Table.read('models_kurucz/convolved/PS1y.fits',hdu=1)['TOTAL_FLUX'].value[:,0]\n",
        "\n",
        "model_name = [ i  for i in Table.read('models_kurucz/convolved/PS1g.fits',hdu=1)['MODEL_NAME']]\n",
        "\n",
        "chi_set = []\n",
        "\n",
        "# Chi2 loop : Takes about 5 minutes with current settings\n",
        "for i,row in df_star.iterrows():\n",
        "\n",
        "  flux     = row[['gPSFFlux', 'rPSFFlux', 'iPSFFlux', 'zPSFFlux']].values[0]\n",
        "  flux_err = row[['gPSFFlux_err', 'rPSFFlux_err', 'iPSFFlux_err', 'zPSFFlux_err']].values[0]\n",
        "\n",
        "  for j,model_flux in enumerate(zip(f1,f2,f3,f4)):\n",
        "    model_flux = np.array(model_flux)\n",
        "    Md         = minimize_scalar(chi2_func,args=(flux,model_flux,flux_err)).x\n",
        "    chi2       = chi2_func(Md,flux,model_flux,flux_err)\n",
        "    chi_set.append([row['objid'],model_name[j],Md,chi2])"
      ],
      "metadata": {
        "id": "C-DdGndXQ9Ss"
      },
      "execution_count": null,
      "outputs": []
    },
    {
      "cell_type": "code",
      "source": [
        "df_chi = pd.DataFrame(chi_set, columns = ['objid','model_name','Md','chi2'])"
      ],
      "metadata": {
        "id": "ZI-V3pVtQ9St"
      },
      "execution_count": null,
      "outputs": []
    },
    {
      "cell_type": "code",
      "source": [
        "df_chi_min = df_chi[0:0]\n",
        "for i in df_chi['objid'].unique():\n",
        "  df_temp = df_chi[ df_chi['objid'] == i]\n",
        "  df_chi_min = df_chi_min.append(df_temp[df_temp['chi2']==df_temp['chi2'].min()])"
      ],
      "metadata": {
        "id": "P1IWYsEVQ9Su"
      },
      "execution_count": null,
      "outputs": []
    },
    {
      "cell_type": "code",
      "source": [
        "0.003362**2"
      ],
      "metadata": {
        "id": "tBkKM6cI8N6q",
        "outputId": "e662ce8b-3762-4a83-b123-003c8dedd518",
        "colab": {
          "base_uri": "https://localhost:8080/"
        }
      },
      "execution_count": null,
      "outputs": [
        {
          "output_type": "execute_result",
          "data": {
            "text/plain": [
              "1.1303044e-05"
            ]
          },
          "metadata": {},
          "execution_count": 83
        }
      ]
    },
    {
      "cell_type": "code",
      "source": [
        "df_chi_min"
      ],
      "metadata": {
        "colab": {
          "base_uri": "https://localhost:8080/",
          "height": 81
        },
        "outputId": "22f0a6e3-692b-4615-d2ae-9b283a616808",
        "id": "1HL_G_MhQ9Su"
      },
      "execution_count": null,
      "outputs": [
        {
          "output_type": "execute_result",
          "data": {
            "text/html": [
              "\n",
              "  <div id=\"df-707d0201-34a5-4eac-a885-3272d6b08f40\">\n",
              "    <div class=\"colab-df-container\">\n",
              "      <div>\n",
              "<style scoped>\n",
              "    .dataframe tbody tr th:only-of-type {\n",
              "        vertical-align: middle;\n",
              "    }\n",
              "\n",
              "    .dataframe tbody tr th {\n",
              "        vertical-align: top;\n",
              "    }\n",
              "\n",
              "    .dataframe thead th {\n",
              "        text-align: right;\n",
              "    }\n",
              "</style>\n",
              "<table border=\"1\" class=\"dataframe\">\n",
              "  <thead>\n",
              "    <tr style=\"text-align: right;\">\n",
              "      <th></th>\n",
              "      <th>objid</th>\n",
              "      <th>model_name</th>\n",
              "      <th>Md</th>\n",
              "      <th>chi2</th>\n",
              "    </tr>\n",
              "  </thead>\n",
              "  <tbody>\n",
              "    <tr>\n",
              "      <th>1151</th>\n",
              "      <td>157640110050187706</td>\n",
              "      <td>kt06750g+1.5z-2.5</td>\n",
              "      <td>0.003362</td>\n",
              "      <td>5.204099</td>\n",
              "    </tr>\n",
              "  </tbody>\n",
              "</table>\n",
              "</div>\n",
              "      <button class=\"colab-df-convert\" onclick=\"convertToInteractive('df-707d0201-34a5-4eac-a885-3272d6b08f40')\"\n",
              "              title=\"Convert this dataframe to an interactive table.\"\n",
              "              style=\"display:none;\">\n",
              "        \n",
              "  <svg xmlns=\"http://www.w3.org/2000/svg\" height=\"24px\"viewBox=\"0 0 24 24\"\n",
              "       width=\"24px\">\n",
              "    <path d=\"M0 0h24v24H0V0z\" fill=\"none\"/>\n",
              "    <path d=\"M18.56 5.44l.94 2.06.94-2.06 2.06-.94-2.06-.94-.94-2.06-.94 2.06-2.06.94zm-11 1L8.5 8.5l.94-2.06 2.06-.94-2.06-.94L8.5 2.5l-.94 2.06-2.06.94zm10 10l.94 2.06.94-2.06 2.06-.94-2.06-.94-.94-2.06-.94 2.06-2.06.94z\"/><path d=\"M17.41 7.96l-1.37-1.37c-.4-.4-.92-.59-1.43-.59-.52 0-1.04.2-1.43.59L10.3 9.45l-7.72 7.72c-.78.78-.78 2.05 0 2.83L4 21.41c.39.39.9.59 1.41.59.51 0 1.02-.2 1.41-.59l7.78-7.78 2.81-2.81c.8-.78.8-2.07 0-2.86zM5.41 20L4 18.59l7.72-7.72 1.47 1.35L5.41 20z\"/>\n",
              "  </svg>\n",
              "      </button>\n",
              "      \n",
              "  <style>\n",
              "    .colab-df-container {\n",
              "      display:flex;\n",
              "      flex-wrap:wrap;\n",
              "      gap: 12px;\n",
              "    }\n",
              "\n",
              "    .colab-df-convert {\n",
              "      background-color: #E8F0FE;\n",
              "      border: none;\n",
              "      border-radius: 50%;\n",
              "      cursor: pointer;\n",
              "      display: none;\n",
              "      fill: #1967D2;\n",
              "      height: 32px;\n",
              "      padding: 0 0 0 0;\n",
              "      width: 32px;\n",
              "    }\n",
              "\n",
              "    .colab-df-convert:hover {\n",
              "      background-color: #E2EBFA;\n",
              "      box-shadow: 0px 1px 2px rgba(60, 64, 67, 0.3), 0px 1px 3px 1px rgba(60, 64, 67, 0.15);\n",
              "      fill: #174EA6;\n",
              "    }\n",
              "\n",
              "    [theme=dark] .colab-df-convert {\n",
              "      background-color: #3B4455;\n",
              "      fill: #D2E3FC;\n",
              "    }\n",
              "\n",
              "    [theme=dark] .colab-df-convert:hover {\n",
              "      background-color: #434B5C;\n",
              "      box-shadow: 0px 1px 3px 1px rgba(0, 0, 0, 0.15);\n",
              "      filter: drop-shadow(0px 1px 2px rgba(0, 0, 0, 0.3));\n",
              "      fill: #FFFFFF;\n",
              "    }\n",
              "  </style>\n",
              "\n",
              "      <script>\n",
              "        const buttonEl =\n",
              "          document.querySelector('#df-707d0201-34a5-4eac-a885-3272d6b08f40 button.colab-df-convert');\n",
              "        buttonEl.style.display =\n",
              "          google.colab.kernel.accessAllowed ? 'block' : 'none';\n",
              "\n",
              "        async function convertToInteractive(key) {\n",
              "          const element = document.querySelector('#df-707d0201-34a5-4eac-a885-3272d6b08f40');\n",
              "          const dataTable =\n",
              "            await google.colab.kernel.invokeFunction('convertToInteractive',\n",
              "                                                     [key], {});\n",
              "          if (!dataTable) return;\n",
              "\n",
              "          const docLinkHtml = 'Like what you see? Visit the ' +\n",
              "            '<a target=\"_blank\" href=https://colab.research.google.com/notebooks/data_table.ipynb>data table notebook</a>'\n",
              "            + ' to learn more about interactive tables.';\n",
              "          element.innerHTML = '';\n",
              "          dataTable['output_type'] = 'display_data';\n",
              "          await google.colab.output.renderOutput(dataTable, element);\n",
              "          const docLink = document.createElement('div');\n",
              "          docLink.innerHTML = docLinkHtml;\n",
              "          element.appendChild(docLink);\n",
              "        }\n",
              "      </script>\n",
              "    </div>\n",
              "  </div>\n",
              "  "
            ],
            "text/plain": [
              "                   objid         model_name        Md      chi2\n",
              "1151  157640110050187706  kt06750g+1.5z-2.5  0.003362  5.204099"
            ]
          },
          "metadata": {},
          "execution_count": 84
        }
      ]
    },
    {
      "cell_type": "code",
      "source": [
        "len(df_chi_min.model_name.unique())"
      ],
      "metadata": {
        "colab": {
          "base_uri": "https://localhost:8080/"
        },
        "outputId": "b3077eb8-f8f2-448d-a4f9-5d1c1af0ecaf",
        "id": "3XTURX-DQ9Sw"
      },
      "execution_count": null,
      "outputs": [
        {
          "output_type": "execute_result",
          "data": {
            "text/plain": [
              "1"
            ]
          },
          "metadata": {},
          "execution_count": 453
        }
      ]
    },
    {
      "cell_type": "code",
      "source": [
        "f1 = Table.read('models_kurucz/convolved/PS1g.fits',hdu=1)\n",
        "f2 = Table.read('models_kurucz/convolved/PS1r.fits',hdu=1)\n",
        "f3 = Table.read('models_kurucz/convolved/PS1i.fits',hdu=1)\n",
        "f4 = Table.read('models_kurucz/convolved/PS1z.fits',hdu=1)\n",
        "f5 = Table.read('models_kurucz/convolved/PS1y.fits',hdu=1)\n",
        "\n",
        "flux     = []\n",
        "flux_err = []\n",
        "for i,row in df_chi_min.iterrows():\n",
        "  model_name = row['model_name']\n",
        "  Md = row['Md'] \n",
        "  g = [f1[f1['MODEL_NAME'] == model_name]['TOTAL_FLUX'].value[0][0] , f1[f1['MODEL_NAME'] == model_name]['TOTAL_FLUX_ERR'].value[0][0]]\n",
        "  r = [f2[f2['MODEL_NAME'] == model_name]['TOTAL_FLUX'].value[0][0] , f2[f2['MODEL_NAME'] == model_name]['TOTAL_FLUX_ERR'].value[0][0]]\n",
        "  i = [f3[f3['MODEL_NAME'] == model_name]['TOTAL_FLUX'].value[0][0] , f3[f3['MODEL_NAME'] == model_name]['TOTAL_FLUX_ERR'].value[0][0]]\n",
        "  z = [f4[f4['MODEL_NAME'] == model_name]['TOTAL_FLUX'].value[0][0] , f4[f4['MODEL_NAME'] == model_name]['TOTAL_FLUX_ERR'].value[0][0]]\n",
        "\n",
        "  y = [f5[f5['MODEL_NAME'] == model_name]['TOTAL_FLUX'].value[0][0] , f5[f5['MODEL_NAME'] == model_name]['TOTAL_FLUX_ERR'].value[0][0]]\n",
        "\n",
        "  flux.append([ g[0], r[0], i[0], z[0], y[0]])\n",
        "  flux_err.append([g[1], r[1], i[1], z[1], y[1]])\n",
        "\n",
        "flux = np.array(flux)"
      ],
      "metadata": {
        "id": "Hj_Lp4p-Q9Sx"
      },
      "execution_count": null,
      "outputs": []
    },
    {
      "cell_type": "code",
      "source": [
        "Md, flux "
      ],
      "metadata": {
        "id": "_NWsT_RI9muW",
        "outputId": "8c6b42b1-a7c3-467a-ad6b-8f03ae3bdde1",
        "colab": {
          "base_uri": "https://localhost:8080/"
        }
      },
      "execution_count": null,
      "outputs": [
        {
          "output_type": "execute_result",
          "data": {
            "text/plain": [
              "(0.0033620263453063735,\n",
              " array([[8.47003588, 8.81700778, 8.51638143, 8.447642  , 8.10657498]]))"
            ]
          },
          "metadata": {},
          "execution_count": 86
        }
      ]
    },
    {
      "cell_type": "code",
      "source": [
        "tab_star                   = Table.from_pandas(df_star)\n",
        "tab_star['model_flux']     =  flux\n",
        "tab_star['model_flux_err'] =  flux_err\n",
        "tab_star['model_mag']      =  -2.5*np.log10(tab_star['model_flux']/3631000)"
      ],
      "metadata": {
        "id": "X6ku9UYmQ9Sy"
      },
      "execution_count": null,
      "outputs": []
    },
    {
      "cell_type": "code",
      "source": [
        "df_star[['gPSFFlux', 'rPSFFlux', 'iPSFFlux', 'zPSFFlux','yPSFFlux']].values, tab_star['model_flux'].value"
      ],
      "metadata": {
        "colab": {
          "base_uri": "https://localhost:8080/"
        },
        "id": "71DHB7dIvd-Y",
        "outputId": "5795a08f-120b-4012-98be-95f8d442ff18"
      },
      "execution_count": null,
      "outputs": [
        {
          "output_type": "execute_result",
          "data": {
            "text/plain": [
              "(array([[0.02879695, 0.02545579, 0.02321379, 0.02619787, 0.02745783]]),\n",
              " array([[0.02847648, 0.02964301, 0.0286323 , 0.02840119, 0.02725452]]))"
            ]
          },
          "metadata": {},
          "execution_count": 69
        }
      ]
    },
    {
      "cell_type": "markdown",
      "source": [
        "# **Color Matching**"
      ],
      "metadata": {
        "id": "YM4S2IZqmFAM"
      }
    },
    {
      "cell_type": "code",
      "source": [
        ""
      ],
      "metadata": {
        "id": "aOgdff9EmIRK"
      },
      "execution_count": null,
      "outputs": []
    }
  ]
}