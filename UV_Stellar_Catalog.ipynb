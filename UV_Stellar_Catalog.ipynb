{
  "nbformat": 4,
  "nbformat_minor": 0,
  "metadata": {
    "colab": {
      "name": "UV_Stellar_Catalog.ipynb",
      "provenance": [],
      "authorship_tag": "ABX9TyMbZGQat66J6R2SYYg81+GU",
      "include_colab_link": true
    },
    "kernelspec": {
      "name": "python3",
      "display_name": "Python 3"
    },
    "language_info": {
      "name": "python"
    }
  },
  "cells": [
    {
      "cell_type": "markdown",
      "metadata": {
        "id": "view-in-github",
        "colab_type": "text"
      },
      "source": [
        "<a href=\"https://colab.research.google.com/github/Jack3690/INSIST/blob/main/UV_Stellar_Catalog.ipynb\" target=\"_parent\"><img src=\"https://colab.research.google.com/assets/colab-badge.svg\" alt=\"Open In Colab\"/></a>"
      ]
    },
    {
      "cell_type": "code",
      "metadata": {
        "colab": {
          "base_uri": "https://localhost:8080/"
        },
        "id": "kmKFEMMFZ74N",
        "outputId": "87de731e-0df7-49b4-9f63-706b3fa9e72f"
      },
      "source": [
        "!pip install pysynphot --quiet\n",
        "!pip install git+https://github.com/rlwastro/mastcasjobs@master --quiet\n",
        "!pip install git+https://github.com/astrofrog/sedfitter@master --quiet"
      ],
      "execution_count": 1,
      "outputs": [
        {
          "output_type": "stream",
          "name": "stdout",
          "text": [
            "\u001b[K     |████████████████████████████████| 10.8 MB 5.2 MB/s \n",
            "\u001b[?25h  Installing build dependencies ... \u001b[?25l\u001b[?25hdone\n",
            "  Getting requirements to build wheel ... \u001b[?25l\u001b[?25hdone\n",
            "  Installing backend dependencies ... \u001b[?25l\u001b[?25hdone\n",
            "    Preparing wheel metadata ... \u001b[?25l\u001b[?25hdone\n",
            "  Building wheel for pysynphot (PEP 517) ... \u001b[?25l\u001b[?25hdone\n",
            "  Building wheel for mastcasjobs (setup.py) ... \u001b[?25l\u001b[?25hdone\n",
            "  Building wheel for casjobs (setup.py) ... \u001b[?25l\u001b[?25hdone\n",
            "  Building wheel for sedfitter (setup.py) ... \u001b[?25l\u001b[?25hdone\n"
          ]
        }
      ]
    },
    {
      "cell_type": "code",
      "metadata": {
        "id": "8rbZ1cHlQ892",
        "outputId": "20c21429-950c-4fd0-df55-5919723a1cce",
        "colab": {
          "base_uri": "https://localhost:8080/"
        }
      },
      "source": [
        "import pysynphot as S"
      ],
      "execution_count": 2,
      "outputs": [
        {
          "output_type": "stream",
          "name": "stderr",
          "text": [
            "/usr/local/lib/python3.7/dist-packages/pysynphot/locations.py:46: UserWarning: PYSYN_CDBS is undefined; functionality will be SEVERELY crippled.\n",
            "  warnings.warn(\"PYSYN_CDBS is undefined; functionality will be SEVERELY \"\n",
            "/usr/local/lib/python3.7/dist-packages/pysynphot/locations.py:345: UserWarning: Extinction files not found in extinction\n",
            "  warnings.warn('Extinction files not found in %s' % (extdir, ))\n"
          ]
        }
      ]
    },
    {
      "cell_type": "code",
      "metadata": {
        "id": "ben7JXnefwTQ"
      },
      "source": [
        "!export PYSYN_CDBS=/my/local/dir/trds/"
      ],
      "execution_count": 3,
      "outputs": []
    },
    {
      "cell_type": "code",
      "metadata": {
        "id": "qVyee94faMdF"
      },
      "source": [
        "import numpy as np\n",
        "import pandas as pd\n",
        "import matplotlib\n",
        "import matplotlib.pyplot as plt\n",
        "import seaborn as sb\n",
        "\n",
        "from astropy import units as u\n",
        "from astropy.coordinates import SkyCoord\n",
        "from astropy.stats import gaussian_fwhm_to_sigma, gaussian_sigma_to_fwhm\n",
        "from astropy.modeling import models, fitting\n",
        "from astropy.visualization import LogStretch\n",
        "from astropy.visualization.mpl_normalize import ImageNormalize\n",
        "from astropy import wcs\n",
        "from matplotlib import cm\n",
        "from matplotlib.colors import ListedColormap, LinearSegmentedColormap\n",
        "\n",
        "import os\n",
        "from time import perf_counter\n",
        "import json\n",
        "import requests\n",
        "import pysynphot as S\n",
        "import sedfitter as sed\n",
        "\n",
        "import mastcasjobs\n",
        "\n",
        "# get the WSID and password if not already defined\n",
        "if not os.environ.get('CASJOBS_USERID'):\n",
        "    os.environ['CASJOBS_USERID'] = \"avinashck90\"\n",
        "if not os.environ.get('CASJOBS_PW'):\n",
        "    os.environ['CASJOBS_PW'] = \"INSIST369\"\n",
        "\n",
        "sb.set_style('darkgrid')\n",
        "matplotlib.rcParams['font.size']=12\n",
        "matplotlib.rcParams['figure.figsize']=(10,10)\n"
      ],
      "execution_count": 4,
      "outputs": []
    },
    {
      "cell_type": "markdown",
      "metadata": {
        "id": "EQW8jnRkGst-"
      },
      "source": [
        "# **CasJobs**"
      ]
    },
    {
      "cell_type": "code",
      "metadata": {
        "id": "wkGNEfD32zu7"
      },
      "source": [
        "def mastQuery(request, json_return=False):\n",
        "    \"\"\"Perform a MAST query.\n",
        "\n",
        "    Parameters\n",
        "    ----------\n",
        "    request (dictionary): The MAST request json object\n",
        "    \n",
        "    Returns the text response or (if json_return=True) the json response\n",
        "    \"\"\"\n",
        "    \n",
        "    url = \"https://mast.stsci.edu/api/v0/invoke\"\n",
        "\n",
        "    # Encoding the request as a json string\n",
        "    requestString = json.dumps(request)\n",
        "    \n",
        "    # make the query\n",
        "    r = requests.post(url, data=dict(request=requestString))\n",
        "    \n",
        "    # raise exception on error\n",
        "    r.raise_for_status()\n",
        "    \n",
        "    if json_return:\n",
        "        return r.json()\n",
        "    else:\n",
        "        return r.text\n",
        "\n",
        "\n",
        "def resolve(name):\n",
        "    \"\"\"Get the RA and Dec for an object using the MAST name resolver\n",
        "    \n",
        "    Parameters\n",
        "    ----------\n",
        "    name (str): Name of object\n",
        "\n",
        "    Returns RA, Dec tuple with position\"\"\"\n",
        "\n",
        "    resolverRequest = {'service':'Mast.Name.Lookup',\n",
        "                       'params':{'input':name,\n",
        "                                 'format':'json'\n",
        "                                },\n",
        "                      }\n",
        "    resolvedObject = mastQuery(resolverRequest, json_return=True)\n",
        "    # The resolver returns a variety of information about the resolved object, \n",
        "    # however for our purposes all we need are the RA and Dec\n",
        "    try:\n",
        "        objRa = resolvedObject['resolvedCoordinate'][0]['ra']\n",
        "        objDec = resolvedObject['resolvedCoordinate'][0]['decl']\n",
        "    except IndexError as e:\n",
        "        raise ValueError(\"Unknown object '{}'\".format(name))\n",
        "    return (objRa, objDec)"
      ],
      "execution_count": 6,
      "outputs": []
    },
    {
      "cell_type": "code",
      "metadata": {
        "id": "wIHbrJgX4ju2"
      },
      "source": [
        "class casjobs():\n",
        "    \"\"\"PSF Generator using Source catalog or CasJobs GALEX Catalog\n",
        "\n",
        "    Parameters\n",
        "    ----------\n",
        "    name (string) : Catalog name or coordinates of the source\n",
        "\n",
        "    df   (pd.DataFrame ): Pandas dataframe with source catalog\n",
        "\n",
        "    cols (dict) : dict object with column name conversions for ra,dec,mag_nuv. Eg {'RA': 'ra','Dec' : 'dec', 'ABmag' : 'mag_nuv'}\n",
        "\n",
        "        'ra' (degrees)\n",
        "\n",
        "        'dec' (degrees)\n",
        "\n",
        "        'mag_nuv' (ABmag)\n",
        "\n",
        "    pixel_scale (float) : pixel scale of detector in the unit of arcseconds/pixels\n",
        "\n",
        "    fwhm_in (float) : Full Width at Half Maximum of the Gaussian PSF\n",
        "\n",
        "    n_pix_main (int) : Number of pixels along one axis in the detector. Total number of pixels in the detector is n_pix_main**2\n",
        "\n",
        "    n_pix_sub (int) : Number of pixels along one axis in the path. Total number of pixels in the patch is n_pix_sub**2\n",
        "\n",
        "    \"\"\"\n",
        "    def __init__(self,name = 'M 67',cols = None):   \n",
        "\n",
        "\n",
        "        self.name = name\n",
        "        self.ra,self.dec = resolve(name)\n",
        "    \n",
        "        self.jobs = mastcasjobs.MastCasJobs(context=\"PanSTARRS_DR2\")\n",
        "        self.query =   f\"\"\"select psc.objid,o.raStack,o.decStack,mag.gPSFMag, mag.gPSFMagErr,mag.rPSFMag, mag.rPSFMagErr,mag.iPSFMag, mag.iPSFMagErr,mag.zPSFMag,mag.zPSFMagErr, mag.yPSFMag,mag.yPSFMagErr,psc.ps_score\n",
        "                          from fGetNearbyObjEq({self.ra}, {self.dec}, 10) f\n",
        "                          join ObjectThin o on o.objid=f.objid\n",
        "                          join HLSP_PS1_PSC.pointsource_scores psc on psc.objid=f.objid\n",
        "                          join StackObjectThin mag on mag.objid=psc.objid\n",
        "                          WHERE\n",
        "                          mag.gPSFMag>-900 and \n",
        "                          mag.rPSFMag>-900 and \n",
        "                          mag.iPSFMag>-900 and \n",
        "                          mag.zPSFMag>-900 and \n",
        "                          mag.yPSFMag>-900 \n",
        "                        \"\"\"\n",
        "        self.df = self.jobs.quick(self.query, task_name=\"python cone search\").to_pandas() \n",
        "        if cols is not None:\n",
        "          self.df = self.df.rename(columns=cols) \n",
        "    \n",
        "    def show_field(self,figsize=(10,10)):\n",
        "      \"\"\"\n",
        "      Function for creating a scatter plot of sources within the FoV\n",
        "      \n",
        "      Returns\n",
        "      -------\n",
        "      fig, ax\n",
        "      \"\"\"\n",
        "        \n",
        "      fig, ax = plt.subplots(1,1,figsize=figsize)\n",
        "      ax.scatter(self.df['ra'],self.df['dec'],marker='.',color='black')\n",
        "      ax.set_title(f\" Requested Center : {self.name} \\n  {len(self.df)} sources\")\n",
        "      ax.invert_xaxis()\n",
        "      ax.set_xlabel('RA (Degrees)')\n",
        "      ax.set_ylabel('Dec (Degrees)')\n",
        "      return fig,ax\n",
        "      \n",
        "        "
      ],
      "execution_count": 7,
      "outputs": []
    },
    {
      "cell_type": "markdown",
      "metadata": {
        "id": "0gXXf6vJR5EO"
      },
      "source": [
        "## **Query**"
      ]
    },
    {
      "cell_type": "code",
      "metadata": {
        "id": "lWTKb3fV4jyw"
      },
      "source": [
        "obj = casjobs('M 67', cols = {'raStack':'ra','decStack':'dec'})"
      ],
      "execution_count": null,
      "outputs": []
    },
    {
      "cell_type": "code",
      "metadata": {
        "id": "Ag0wgh7Y7GQN"
      },
      "source": [
        "df_star = obj.df[obj.df['ps_score']>0.5]"
      ],
      "execution_count": 90,
      "outputs": []
    },
    {
      "cell_type": "code",
      "metadata": {
        "colab": {
          "base_uri": "https://localhost:8080/",
          "height": 424
        },
        "id": "-aTHfno94j2D",
        "outputId": "f20c96e4-1791-4e78-b4ea-6e87053d0116"
      },
      "source": [
        "df_star"
      ],
      "execution_count": 91,
      "outputs": [
        {
          "output_type": "execute_result",
          "data": {
            "text/html": [
              "<div>\n",
              "<style scoped>\n",
              "    .dataframe tbody tr th:only-of-type {\n",
              "        vertical-align: middle;\n",
              "    }\n",
              "\n",
              "    .dataframe tbody tr th {\n",
              "        vertical-align: top;\n",
              "    }\n",
              "\n",
              "    .dataframe thead th {\n",
              "        text-align: right;\n",
              "    }\n",
              "</style>\n",
              "<table border=\"1\" class=\"dataframe\">\n",
              "  <thead>\n",
              "    <tr style=\"text-align: right;\">\n",
              "      <th></th>\n",
              "      <th>objid</th>\n",
              "      <th>ra</th>\n",
              "      <th>dec</th>\n",
              "      <th>gPSFMag</th>\n",
              "      <th>gPSFMagErr</th>\n",
              "      <th>rPSFMag</th>\n",
              "      <th>rPSFMagErr</th>\n",
              "      <th>iPSFMag</th>\n",
              "      <th>iPSFMagErr</th>\n",
              "      <th>zPSFMag</th>\n",
              "      <th>zPSFMagErr</th>\n",
              "      <th>yPSFMag</th>\n",
              "      <th>yPSFMagErr</th>\n",
              "      <th>ps_score</th>\n",
              "    </tr>\n",
              "  </thead>\n",
              "  <tbody>\n",
              "    <tr>\n",
              "      <th>2</th>\n",
              "      <td>121971328494717854</td>\n",
              "      <td>132.849460</td>\n",
              "      <td>11.647811</td>\n",
              "      <td>14.8691</td>\n",
              "      <td>0.000533</td>\n",
              "      <td>14.3603</td>\n",
              "      <td>0.000274</td>\n",
              "      <td>14.2388</td>\n",
              "      <td>0.000320</td>\n",
              "      <td>14.2280</td>\n",
              "      <td>0.000519</td>\n",
              "      <td>14.1805</td>\n",
              "      <td>0.000877</td>\n",
              "      <td>0.997500</td>\n",
              "    </tr>\n",
              "    <tr>\n",
              "      <th>3</th>\n",
              "      <td>121981327802535449</td>\n",
              "      <td>132.780255</td>\n",
              "      <td>11.654201</td>\n",
              "      <td>22.4085</td>\n",
              "      <td>0.070046</td>\n",
              "      <td>21.0757</td>\n",
              "      <td>0.020825</td>\n",
              "      <td>19.8949</td>\n",
              "      <td>0.010747</td>\n",
              "      <td>19.3878</td>\n",
              "      <td>0.012878</td>\n",
              "      <td>19.2221</td>\n",
              "      <td>0.028750</td>\n",
              "      <td>0.967161</td>\n",
              "    </tr>\n",
              "    <tr>\n",
              "      <th>7</th>\n",
              "      <td>121981328054472261</td>\n",
              "      <td>132.805456</td>\n",
              "      <td>11.651512</td>\n",
              "      <td>20.5329</td>\n",
              "      <td>0.016547</td>\n",
              "      <td>20.0120</td>\n",
              "      <td>0.012918</td>\n",
              "      <td>19.6550</td>\n",
              "      <td>0.009876</td>\n",
              "      <td>19.5985</td>\n",
              "      <td>0.015401</td>\n",
              "      <td>19.5313</td>\n",
              "      <td>0.032895</td>\n",
              "      <td>0.973104</td>\n",
              "    </tr>\n",
              "    <tr>\n",
              "      <th>8</th>\n",
              "      <td>121981328218108430</td>\n",
              "      <td>132.821806</td>\n",
              "      <td>11.656615</td>\n",
              "      <td>21.3080</td>\n",
              "      <td>0.035670</td>\n",
              "      <td>20.0955</td>\n",
              "      <td>0.021422</td>\n",
              "      <td>18.9608</td>\n",
              "      <td>0.006396</td>\n",
              "      <td>18.4705</td>\n",
              "      <td>0.006572</td>\n",
              "      <td>18.1437</td>\n",
              "      <td>0.010728</td>\n",
              "      <td>0.987833</td>\n",
              "    </tr>\n",
              "    <tr>\n",
              "      <th>10</th>\n",
              "      <td>121981328277113751</td>\n",
              "      <td>132.827729</td>\n",
              "      <td>11.652668</td>\n",
              "      <td>21.9420</td>\n",
              "      <td>0.059630</td>\n",
              "      <td>20.6828</td>\n",
              "      <td>0.015879</td>\n",
              "      <td>19.3339</td>\n",
              "      <td>0.007499</td>\n",
              "      <td>18.8097</td>\n",
              "      <td>0.007518</td>\n",
              "      <td>18.4563</td>\n",
              "      <td>0.013550</td>\n",
              "      <td>0.969271</td>\n",
              "    </tr>\n",
              "    <tr>\n",
              "      <th>...</th>\n",
              "      <td>...</td>\n",
              "      <td>...</td>\n",
              "      <td>...</td>\n",
              "      <td>...</td>\n",
              "      <td>...</td>\n",
              "      <td>...</td>\n",
              "      <td>...</td>\n",
              "      <td>...</td>\n",
              "      <td>...</td>\n",
              "      <td>...</td>\n",
              "      <td>...</td>\n",
              "      <td>...</td>\n",
              "      <td>...</td>\n",
              "      <td>...</td>\n",
              "    </tr>\n",
              "    <tr>\n",
              "      <th>1825</th>\n",
              "      <td>122361328754558683</td>\n",
              "      <td>132.875457</td>\n",
              "      <td>11.973499</td>\n",
              "      <td>14.2652</td>\n",
              "      <td>0.000371</td>\n",
              "      <td>13.9342</td>\n",
              "      <td>0.000273</td>\n",
              "      <td>13.8645</td>\n",
              "      <td>0.000378</td>\n",
              "      <td>13.8345</td>\n",
              "      <td>0.000453</td>\n",
              "      <td>13.7998</td>\n",
              "      <td>0.000760</td>\n",
              "      <td>0.998333</td>\n",
              "    </tr>\n",
              "    <tr>\n",
              "      <th>1826</th>\n",
              "      <td>122361328754558683</td>\n",
              "      <td>132.875457</td>\n",
              "      <td>11.973499</td>\n",
              "      <td>14.2070</td>\n",
              "      <td>0.000346</td>\n",
              "      <td>13.9596</td>\n",
              "      <td>0.000281</td>\n",
              "      <td>13.8724</td>\n",
              "      <td>0.000384</td>\n",
              "      <td>13.8300</td>\n",
              "      <td>0.000452</td>\n",
              "      <td>13.8094</td>\n",
              "      <td>0.000760</td>\n",
              "      <td>0.998333</td>\n",
              "    </tr>\n",
              "    <tr>\n",
              "      <th>1827</th>\n",
              "      <td>122361328818090634</td>\n",
              "      <td>132.881819</td>\n",
              "      <td>11.966787</td>\n",
              "      <td>16.9712</td>\n",
              "      <td>0.001754</td>\n",
              "      <td>16.5763</td>\n",
              "      <td>0.001196</td>\n",
              "      <td>16.2176</td>\n",
              "      <td>0.002029</td>\n",
              "      <td>16.4170</td>\n",
              "      <td>0.002133</td>\n",
              "      <td>16.3843</td>\n",
              "      <td>0.003584</td>\n",
              "      <td>0.997500</td>\n",
              "    </tr>\n",
              "    <tr>\n",
              "      <th>1828</th>\n",
              "      <td>122371328134963003</td>\n",
              "      <td>132.813494</td>\n",
              "      <td>11.977090</td>\n",
              "      <td>14.2162</td>\n",
              "      <td>0.000410</td>\n",
              "      <td>13.8419</td>\n",
              "      <td>0.000236</td>\n",
              "      <td>13.6946</td>\n",
              "      <td>0.000315</td>\n",
              "      <td>13.6735</td>\n",
              "      <td>0.000408</td>\n",
              "      <td>13.6380</td>\n",
              "      <td>0.000744</td>\n",
              "      <td>0.994167</td>\n",
              "    </tr>\n",
              "    <tr>\n",
              "      <th>1829</th>\n",
              "      <td>122371328134963003</td>\n",
              "      <td>132.813494</td>\n",
              "      <td>11.977090</td>\n",
              "      <td>14.1937</td>\n",
              "      <td>0.000410</td>\n",
              "      <td>13.8316</td>\n",
              "      <td>0.000233</td>\n",
              "      <td>13.7048</td>\n",
              "      <td>0.000319</td>\n",
              "      <td>13.6735</td>\n",
              "      <td>0.000409</td>\n",
              "      <td>13.6239</td>\n",
              "      <td>0.000734</td>\n",
              "      <td>0.994167</td>\n",
              "    </tr>\n",
              "  </tbody>\n",
              "</table>\n",
              "<p>1058 rows × 14 columns</p>\n",
              "</div>"
            ],
            "text/plain": [
              "                   objid          ra        dec  ...  yPSFMag  yPSFMagErr  ps_score\n",
              "2     121971328494717854  132.849460  11.647811  ...  14.1805    0.000877  0.997500\n",
              "3     121981327802535449  132.780255  11.654201  ...  19.2221    0.028750  0.967161\n",
              "7     121981328054472261  132.805456  11.651512  ...  19.5313    0.032895  0.973104\n",
              "8     121981328218108430  132.821806  11.656615  ...  18.1437    0.010728  0.987833\n",
              "10    121981328277113751  132.827729  11.652668  ...  18.4563    0.013550  0.969271\n",
              "...                  ...         ...        ...  ...      ...         ...       ...\n",
              "1825  122361328754558683  132.875457  11.973499  ...  13.7998    0.000760  0.998333\n",
              "1826  122361328754558683  132.875457  11.973499  ...  13.8094    0.000760  0.998333\n",
              "1827  122361328818090634  132.881819  11.966787  ...  16.3843    0.003584  0.997500\n",
              "1828  122371328134963003  132.813494  11.977090  ...  13.6380    0.000744  0.994167\n",
              "1829  122371328134963003  132.813494  11.977090  ...  13.6239    0.000734  0.994167\n",
              "\n",
              "[1058 rows x 14 columns]"
            ]
          },
          "metadata": {},
          "execution_count": 91
        }
      ]
    },
    {
      "cell_type": "code",
      "metadata": {
        "id": "1pN5pW-5Ae7z",
        "outputId": "a5642a62-2f4c-4ae1-acce-5144b735e6fe",
        "colab": {
          "base_uri": "https://localhost:8080/"
        }
      },
      "source": [
        "df_star['gPSFMag'].describe()"
      ],
      "execution_count": 92,
      "outputs": [
        {
          "output_type": "execute_result",
          "data": {
            "text/plain": [
              "count    1058.000000\n",
              "mean       19.314388\n",
              "std         3.376858\n",
              "min        12.298300\n",
              "25%        16.248150\n",
              "50%        19.823050\n",
              "75%        21.971900\n",
              "max        27.986600\n",
              "Name: gPSFMag, dtype: float64"
            ]
          },
          "metadata": {},
          "execution_count": 92
        }
      ]
    },
    {
      "cell_type": "code",
      "metadata": {
        "id": "HKEgcj152hpd",
        "outputId": "647bb238-6dba-4705-f18c-f49f66c07dbe",
        "colab": {
          "base_uri": "https://localhost:8080/",
          "height": 612
        }
      },
      "source": [
        "bin_min = 12\n",
        "bin_max = 28\n",
        "step  = 0.5\n",
        "bins = np.arange(bin_min,bin_max, step)\n",
        "\n",
        "plt.figure(figsize = (15,10))\n",
        "plt.hist(df_star['gPSFMag'],bins=bins,alpha=0.7,color = 'green')\n",
        "plt.hist(df_star['rPSFMag'],bins=bins,alpha=0.7,color = 'red')\n",
        "plt.hist(df_star['iPSFMag'],bins=bins,alpha=0.7,color = 'pink')\n",
        "plt.hist(df_star['zPSFMag'],bins=bins,alpha=0.7,color = 'orange')\n",
        "plt.hist(df_star['yPSFMag'],bins=bins,alpha=0.7,color = 'blue');\n",
        "plt.legend(['gPSFMag','rPSFMag','iPSFMag','zPSFMag','yPSFMag',])"
      ],
      "execution_count": 93,
      "outputs": [
        {
          "output_type": "execute_result",
          "data": {
            "text/plain": [
              "<matplotlib.legend.Legend at 0x7f3aaaa4c810>"
            ]
          },
          "metadata": {},
          "execution_count": 93
        },
        {
          "output_type": "display_data",
          "data": {
            "image/png": "[encoded data removed]",
            "text/plain": [
              "<Figure size 1080x720 with 1 Axes>"
            ]
          },
          "metadata": {}
        }
      ]
    },
    {
      "cell_type": "markdown",
      "metadata": {
        "id": "lpFsL5gWGx8c"
      },
      "source": [
        "# **Synthetic Spectra**"
      ]
    },
    {
      "cell_type": "code",
      "metadata": {
        "id": "knvJSYrjAX91"
      },
      "source": [
        "bp = S.FileBandpass('PAN-STARRS_PS1.open.dat')"
      ],
      "execution_count": 84,
      "outputs": []
    },
    {
      "cell_type": "code",
      "metadata": {
        "id": "hNhnQ3InJgDV",
        "outputId": "862b92eb-3c29-488f-866a-a5a5f418b2c5",
        "colab": {
          "base_uri": "https://localhost:8080/",
          "height": 612
        }
      },
      "source": [
        "plt.plot(bp.wave, bp.throughput, 'k', label='acs,wfc1,f555w')"
      ],
      "execution_count": 85,
      "outputs": [
        {
          "output_type": "execute_result",
          "data": {
            "text/plain": [
              "[<matplotlib.lines.Line2D at 0x7f3aa98939d0>]"
            ]
          },
          "metadata": {},
          "execution_count": 85
        },
        {
          "output_type": "display_data",
          "data": {
            "image/png": "[encoded data removed]",
            "text/plain": [
              "<Figure size 720x720 with 1 Axes>"
            ]
          },
          "metadata": {}
        }
      ]
    },
    {
      "cell_type": "code",
      "metadata": {
        "id": "44WfBGRKJijh"
      },
      "source": [
        ""
      ],
      "execution_count": null,
      "outputs": []
    }
  ]
}