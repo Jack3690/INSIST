{
  "nbformat": 4,
  "nbformat_minor": 0,
  "metadata": {
    "colab": {
      "provenance": [],
      "authorship_tag": "ABX9TyOTPCmiuEXUySwHC2rK2x9G",
      "include_colab_link": true
    },
    "kernelspec": {
      "name": "python3",
      "display_name": "Python 3"
    },
    "language_info": {
      "name": "python"
    }
  },
  "cells": [
    {
      "cell_type": "markdown",
      "metadata": {
        "id": "view-in-github",
        "colab_type": "text"
      },
      "source": [
        "<a href=\"https://colab.research.google.com/github/Jack3690/INSIST/blob/main/notebooks/Galaxy_Clump_Simulation.ipynb\" target=\"_parent\"><img src=\"https://colab.research.google.com/assets/colab-badge.svg\" alt=\"Open In Colab\"/></a>"
      ]
    },
    {
      "cell_type": "code",
      "execution_count": null,
      "metadata": {
        "id": "cary91WO5xyo"
      },
      "outputs": [],
      "source": [
        "!pip install astroquery --quiet\n",
        "!pip install photutils --quiet\n",
        "!pip install insist-pista --quiet"
      ]
    },
    {
      "cell_type": "code",
      "source": [
        "from astropy.stats import SigmaClip, gaussian_fwhm_to_sigma\n",
        "import astropy.units as u\n",
        "from astropy.wcs import WCS\n",
        "from astropy.modeling import models, fitting\n",
        "from astropy.convolution import Gaussian2DKernel,convolve\n",
        "\n",
        "from astroquery.skyview import SkyView\n",
        "\n",
        "from photutils.background import Background2D, MedianBackground,SExtractorBackground\n",
        "from photutils.segmentation import SourceCatalog, deblend_sources, detect_sources\n",
        "\n",
        "from scipy.interpolate import interp2d\n",
        "from skimage import io, feature\n",
        "from skimage.measure import label, regionprops\n",
        "\n",
        "from scipy.optimize import curve_fit\n",
        "from scipy.signal import fftconvolve\n",
        "\n",
        "import skimage\n",
        "from skimage import io, feature, filters, morphology, segmentation, restoration, measure\n",
        "\n",
        "import matplotlib\n",
        "import matplotlib.colors as col\n",
        "import matplotlib.pyplot as plt\n",
        "\n",
        "import numpy as np\n",
        "import pista as pt"
      ],
      "metadata": {
        "id": "IpXzfWdo5_x3"
      },
      "execution_count": 34,
      "outputs": []
    },
    {
      "cell_type": "code",
      "source": [
        "data_path = pt.data_dir"
      ],
      "metadata": {
        "id": "xNdF2elF8cN4"
      },
      "execution_count": 29,
      "outputs": []
    },
    {
      "cell_type": "code",
      "source": [
        "path = SkyView.get_images(position = 'UGC 5272', radius = 0.05*u.degree,\n",
        "                          survey = ['GALEX Near UV'])"
      ],
      "metadata": {
        "id": "zweKeYYw6CP8"
      },
      "execution_count": 7,
      "outputs": []
    },
    {
      "cell_type": "code",
      "source": [
        "data = path[0][0].data.copy()\n",
        "wcs = WCS(path[0][0].header)"
      ],
      "metadata": {
        "id": "QwjOGdvoZpUe"
      },
      "execution_count": 10,
      "outputs": []
    },
    {
      "cell_type": "code",
      "source": [
        "sigma_clip    = SigmaClip(sigma= 5)\n",
        "bkg_estimator = SExtractorBackground()\n",
        "bkg           = Background2D(data, (5, 5), filter_size = (3, 3),\n",
        "                sigma_clip=sigma_clip, bkg_estimator = bkg_estimator)\n",
        "\n",
        "bkg_image     = bkg.background"
      ],
      "metadata": {
        "id": "obml24nerFNv"
      },
      "execution_count": 11,
      "outputs": []
    },
    {
      "cell_type": "code",
      "source": [
        "plt.imshow(bkg_image , origin = 'lower', cmap = 'jet', norm = col.LogNorm())"
      ],
      "metadata": {
        "id": "nAWu2l9Tdl5E"
      },
      "execution_count": null,
      "outputs": []
    },
    {
      "cell_type": "code",
      "source": [
        "FWHM   = 4.2/(wcs.wcs.cdelt[1]*3600) # FWHM of the source image in pixels\n",
        "\n",
        "sigma  = FWHM*gaussian_fwhm_to_sigma\n",
        "\n",
        "kernel = Gaussian2DKernel(sigma)\n",
        "kernel.normalize()\n",
        "\n",
        "deconvolved_data = restoration.richardson_lucy(data.astype(float), kernel.array,\n",
        "                                               num_iter = 20)"
      ],
      "metadata": {
        "id": "y-UUNjTKr886"
      },
      "execution_count": 16,
      "outputs": []
    },
    {
      "cell_type": "code",
      "source": [
        "plt.imshow(deconvolved_data, origin = 'lower',cmap = 'jet' , norm=col.LogNorm())"
      ],
      "metadata": {
        "id": "86iaFLiaje39"
      },
      "execution_count": null,
      "outputs": []
    },
    {
      "cell_type": "code",
      "source": [
        "# Source Image\n",
        "galaxy_img = deconvolved_data\n",
        "\n",
        "# Smoothed image\n",
        "image_data = deconvolved_data\n",
        "\n",
        "# Set the parameters for blob detection\n",
        "min_sigma = 3\n",
        "max_sigma = 5\n",
        "num_sigma = 20\n",
        "threshold = 0.02\n",
        "\n",
        "# Detect blobs in the image\n",
        "blobs = feature.blob_log(image_data, min_sigma=min_sigma, max_sigma=max_sigma,\n",
        "                 num_sigma=num_sigma, threshold=threshold)\n",
        "\n",
        "# Plot the image with the detected blobs\n",
        "fig, ax = plt.subplots()\n",
        "ax.imshow(image_data, origin=\"lower\", cmap = 'jet', norm = col.LogNorm())\n",
        "for blob in blobs:\n",
        "    y, x, r = blob\n",
        "    c = plt.Circle((x, y), r, color=\"black\", linewidth=2, fill=False)\n",
        "    ax.add_patch(c)\n",
        "plt.show()"
      ],
      "metadata": {
        "id": "ZNSqdX03RIoY"
      },
      "execution_count": null,
      "outputs": []
    },
    {
      "cell_type": "code",
      "source": [
        "s_ps_scale = (wcs.wcs.cdelt[1]*3600)\n",
        "out_ps_scale = 0.1\n",
        "scale = s_ps_scale/out_ps_scale\n",
        "out_size = int(scale*data.shape[0])"
      ],
      "metadata": {
        "id": "82DC4rvr0_NL"
      },
      "execution_count": 19,
      "outputs": []
    },
    {
      "cell_type": "code",
      "source": [
        "# Interpolated Galaxy Diffused Image\n",
        "x = np.arange(0,data.shape[0],1)/data.shape[1]\n",
        "y = np.arange(0,data.shape[1],1)/data.shape[1]\n",
        "\n",
        "func = interp2d(x,y,bkg_image )\n",
        "\n",
        "x_n = np.arange(0,out_size,1)/out_size\n",
        "y_n = np.arange(0,out_size,1)/out_size\n",
        "\n",
        "bkg_img = func(x_n,y_n)"
      ],
      "metadata": {
        "id": "Fz4rDxHF0vN7"
      },
      "execution_count": null,
      "outputs": []
    },
    {
      "cell_type": "code",
      "source": [
        "clumps = []\n",
        "y_in, x_in = np.mgrid[0:galaxy_img.shape[0], 0:galaxy_img.shape[1]]\n",
        "y_out, x_out =  np.mgrid[0:out_size, 0:out_size]\n",
        "sim_img = 0\n",
        "\n",
        "\n",
        "for blob in blobs:\n",
        "    y, x, r = blob\n",
        "    # Create a circular mask around the blob\n",
        "    y, x, r = int(y), int(x), int(r)\n",
        "    mask = np.zeros_like(galaxy_img)\n",
        "    rr, cc = skimage.draw.disk((y, x), r, shape=mask.shape)\n",
        "    mask[rr, cc] = 1\n",
        "\n",
        "    # Extract the pixels within the mask\n",
        "    masked_image = galaxy_img*mask\n",
        "\n",
        "    # Define the function to fit to the masked pixels\n",
        "\n",
        "    init = models.Gaussian2D(x_mean= x,\n",
        "                             y_mean= y,\n",
        "                             x_stddev=r/2,\n",
        "                             y_stddev=r/2\n",
        "                            )\n",
        "    fit  = fitting.LevMarLSQFitter()\n",
        "\n",
        "    model = fit(init,x_in, y_in, masked_image)\n",
        "    model.x_mean*=scale\n",
        "    model.y_mean*=scale\n",
        "    model.x_stddev*=scale\n",
        "    model.y_stddev*=scale\n",
        "\n",
        "    sim_img += model(x_out,y_out)"
      ],
      "metadata": {
        "id": "slZpZ4e6Mcp3"
      },
      "execution_count": 25,
      "outputs": []
    },
    {
      "cell_type": "code",
      "source": [
        "psf = np.load(f'{data_path}/PSF/INSIST/off_axis_poppy.npy')"
      ],
      "metadata": {
        "id": "H4IAW6daUFV1"
      },
      "execution_count": 31,
      "outputs": []
    },
    {
      "cell_type": "code",
      "source": [
        "x = np.arange(0,data.shape[0],1)/data.shape[1]\n",
        "y = np.arange(0,data.shape[1],1)/data.shape[1]\n",
        "\n",
        "func = interp2d(x,y,bkg_image )\n",
        "\n",
        "x_n = np.arange(0,out_size,1)/out_size\n",
        "y_n = np.arange(0,out_size,1)/out_size\n",
        "\n",
        "bkg_img = func(x_n,y_n)"
      ],
      "metadata": {
        "id": "JFNcl_KuUwRd"
      },
      "execution_count": null,
      "outputs": []
    },
    {
      "cell_type": "code",
      "source": [
        "plt.imshow(sim_img+ bkg_img, origin = 'lower', cmap = 'jet', norm = col.LogNorm())"
      ],
      "metadata": {
        "id": "qamFKV73T6KV"
      },
      "execution_count": null,
      "outputs": []
    },
    {
      "cell_type": "code",
      "source": [
        "conv_img = fftconvolve(sim_img + bkg_img, psf, mode = 'same')"
      ],
      "metadata": {
        "id": "sDfqinulQXuQ"
      },
      "execution_count": 35,
      "outputs": []
    },
    {
      "cell_type": "code",
      "source": [
        "plt.imshow(conv_img, origin = 'lower', cmap = 'jet', norm = col.LogNorm())"
      ],
      "metadata": {
        "id": "_5UyGLDYLnNj"
      },
      "execution_count": null,
      "outputs": []
    },
    {
      "cell_type": "code",
      "source": [
        "matplotlib.rcParams['font.size'] = 20"
      ],
      "metadata": {
        "id": "SmvgZRo682ja"
      },
      "execution_count": 37,
      "outputs": []
    },
    {
      "cell_type": "code",
      "source": [
        "fig, ax = plt.subplots(2,3, figsize = (30,20))\n",
        "\n",
        "ax[0,0].imshow(data , origin = 'lower', cmap = 'jet', norm = col.LogNorm())\n",
        "ax[0,0].set_title('Original')\n",
        "ax[0,0]\n",
        "\n",
        "ax[0,1].imshow(bkg_image , origin = 'lower', cmap = 'jet', norm = col.LogNorm())\n",
        "ax[0,1].set_title('Diffuse Galaxy Image')\n",
        "\n",
        "ax[0,2].imshow(deconvolved_data , origin = 'lower', cmap = 'jet', norm = col.LogNorm())\n",
        "ax[0,2].set_title('Deconvolved')\n",
        "\n",
        "ax[1,0].imshow(image_data, origin = 'lower', cmap = 'jet', norm = col.LogNorm())\n",
        "ax[1,0].set_title('Detected blobs')\n",
        "\n",
        "for blob in blobs:\n",
        "    y, x, r = blob\n",
        "    c = plt.Circle((x, y), r, color=\"black\", linewidth=2, fill=False)\n",
        "    ax[1,0].add_patch(c)\n",
        "\n",
        "ax[1,1].imshow(sim_img + bkg_img , origin = 'lower', cmap = 'jet', norm = col.LogNorm())\n",
        "ax[1,1].set_title('Clumps fitted with Gaussians with background added')\n",
        "\n",
        "ax[1,2].imshow(conv_img , origin = 'lower', cmap = 'jet', norm = col.LogNorm())\n",
        "ax[1,2].set_title('Convolved with INSIST PSF')"
      ],
      "metadata": {
        "id": "oJ8slzYicbmk"
      },
      "execution_count": null,
      "outputs": []
    }
  ]
}