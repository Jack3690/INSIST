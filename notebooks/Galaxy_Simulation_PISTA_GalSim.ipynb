{
  "nbformat": 4,
  "nbformat_minor": 0,
  "metadata": {
    "colab": {
      "provenance": [],
      "authorship_tag": "ABX9TyPoDtvyL3mUStSxYnGvAUSN",
      "include_colab_link": true
    },
    "kernelspec": {
      "name": "python3",
      "display_name": "Python 3"
    },
    "language_info": {
      "name": "python"
    }
  },
  "cells": [
    {
      "cell_type": "markdown",
      "metadata": {
        "id": "view-in-github",
        "colab_type": "text"
      },
      "source": [
        "<a href=\"https://colab.research.google.com/github/Jack3690/INSIST/blob/main/notebooks/Galaxy_Simulation_PISTA_GalSim.ipynb\" target=\"_parent\"><img src=\"https://colab.research.google.com/assets/colab-badge.svg\" alt=\"Open In Colab\"/></a>"
      ]
    },
    {
      "cell_type": "code",
      "execution_count": null,
      "metadata": {
        "id": "sFc5ckJ2twkE"
      },
      "outputs": [],
      "source": [
        "!pip install insist-pista --quiet\n",
        "!pip install galsim --quiet"
      ]
    },
    {
      "cell_type": "code",
      "source": [
        "!pip install GalSim --quiet"
      ],
      "metadata": {
        "id": "YxiIC4ZiuCer"
      },
      "execution_count": null,
      "outputs": []
    },
    {
      "cell_type": "code",
      "source": [
        "import pista as pt\n",
        "import galsim\n",
        "from pista.simulation import Imager\n",
        "from astropy.io import fits\n",
        "\n",
        "import numpy as np\n",
        "import pandas as pd\n",
        "import matplotlib.pyplot as plt"
      ],
      "metadata": {
        "id": "IY4i-j9St5ew"
      },
      "execution_count": 12,
      "outputs": []
    },
    {
      "cell_type": "code",
      "source": [
        "data_path = pt.data_dir"
      ],
      "metadata": {
        "id": "8agV_CZ744BM"
      },
      "execution_count": 15,
      "outputs": []
    },
    {
      "cell_type": "code",
      "source": [
        "class Galaxy(Imager):\n",
        "  \"\"\"Class for simulating Spectra\"\"\"\n",
        "  def __init__(self, df, coords=None, tel_params={}, n_x=1000,\n",
        "                n_y=1000, exp_time=100, plot=False, user_profiles={},\n",
        "                **kwargs):\n",
        "    self.gal_width = n_x if n_x>=n_y else n_y\n",
        "    super().__init__(df, coords, tel_params, n_x, n_y, exp_time, plot,\n",
        "                      user_profiles, **kwargs)\n",
        "\n",
        "  def generate_sim_field(self, plot):\n",
        "      \"\"\"This function creates array with FoV a bit wider\n",
        "      than user defined size for flux conservation\"\"\"\n",
        "      if self.df is not None:\n",
        "          self.calc_zp(plot=plot)\n",
        "          self.init_psf_patch()\n",
        "\n",
        "          # Cropping df to sim_field\n",
        "          x_left = self.n_pix_psf//2 + self.gal_width//2\n",
        "          x_right = self.n_x_sim - self.n_pix_psf//2 - self.gal_width//2\n",
        "          y_left = self.n_pix_psf//2 + self.gal_width//2\n",
        "          y_right = self.n_y_sim - self.n_pix_psf//2 - self.gal_width//2\n",
        "\n",
        "          self.sim_df = self.init_df(df=self.df,\n",
        "                                      n_x=self.n_x_sim, n_y=self.n_y_sim,\n",
        "                                      x_left=x_left, x_right=x_right,\n",
        "                                      y_left=y_left, y_right=y_right)\n",
        "          if len(self.sim_df) < 1:\n",
        "              print(\"Not Enough sources inside FoV. Increase n_x\\\n",
        "                              and n_y\")\n",
        "      else:\n",
        "          print(\"df cannot be None\")\n",
        "\n",
        "  def check_df(self):\n",
        "      # Input Dataframe\n",
        "      if 'mag' not in self.df.keys():\n",
        "          raise Exception(\"'mag' column not found input dataframe\")\n",
        "\n",
        "      if 'ra' not in self.df or 'dec' not in self.df.keys():\n",
        "          if 'x' in self.df.keys() and 'y' in self.df.keys():\n",
        "              print(\"Converting xy to ra-dec\")\n",
        "              self.df.x = self.df.x + 2\n",
        "              self.df.y = self.df.y + 2\n",
        "              self.df = self.xy_to_radec(self.df, self.n_x, self.n_y,\n",
        "                                          self.pixel_scale)\n",
        "          else:\n",
        "              raise Exception(\"'ra','dec','x',or 'y', \\\n",
        "                columns not found in input dataframe \")\n",
        "\n",
        "  def init_psf_patch(self, return_psf=False):\n",
        "      \"\"\"Creates PSF array from NPY or fits files\"\"\"\n",
        "      ext = self.psf_file.split('.')[-1]\n",
        "\n",
        "      if ext == 'npy':\n",
        "          image = np.load(self.psf_file)\n",
        "      elif ext == 'fits':\n",
        "          image = fits.open(self.psf_file)[0].data\n",
        "\n",
        "      image /= image.sum()  # Flux normalized to 1\n",
        "      self.psf = image\n",
        "\n",
        "      self.n_pix_psf = self.psf.shape[0]\n",
        "\n",
        "      # Defining shape of simulation field\n",
        "      self.n_x_sim = self.n_x + 2*self.gal_width\n",
        "      self.n_y_sim = self.n_y + 2*self.gal_width\n",
        "\n",
        "      if return_psf:\n",
        "          return image*self.zero_flux\n",
        "  def generate_photons(self, image, patch_width, df):\n",
        "\n",
        "    psf_array = self.psf\n",
        "    psf = galsim.Image(psf_array.shape[0], psf_array.shape[1])\n",
        "    psf.array[:,:] = psf_array\n",
        "\n",
        "    psf = galsim.InterpolatedImage(psf, scale = self.pixel_scale)\n",
        "\n",
        "    for i, row in df.iterrows():\n",
        "      # Bulge\n",
        "      flux  = self.zero_flux*10**(-0.4*row['bulge_M'])  # total counts on the image\n",
        "      rhalf = row['bulge_Re']/self.pixel_scale\n",
        "\n",
        "      gal = galsim.Sersic(row['bulge_n'],flux=flux, half_light_radius=rhalf)\n",
        "\n",
        "      ellipticity = galsim.Shear(  q=row['bulge_ba'],\n",
        "                                beta=row['bulge_pa']*galsim.degrees)\n",
        "\n",
        "      gal = gal.shear(ellipticity)\n",
        "\n",
        "      bulge = galsim.Convolve([gal, psf])\n",
        "\n",
        "      # Bar\n",
        "      flux  = self.zero_flux*10**(-0.4*row['bar_M'])  # total counts on the image\n",
        "      rhalf = row['bar_Re']/self.pixel_scale # arcsec\n",
        "\n",
        "      gal  = galsim.Sersic(row['bar_n'],flux=flux, half_light_radius=rhalf)\n",
        "\n",
        "      ellipticity = galsim.Shear(   q=row['bar_ba'],\n",
        "                                 beta=row['bar_pa']*galsim.degrees)\n",
        "      gal = gal.shear(ellipticity)\n",
        "\n",
        "      bar = galsim.Convolve([gal, psf])\n",
        "\n",
        "\n",
        "      # Disk\n",
        "      flux  = self.zero_flux*10**(-0.4*row['disk_M'])  # total counts on the image\n",
        "      rhalf = row['disk_Re']/self.pixel_scale # arcsec\n",
        "\n",
        "      gal     = galsim.Sersic(row['disk_n'],flux=flux, half_light_radius=rhalf)\n",
        "\n",
        "      ellipticity = galsim.Shear(   q=row['disk_ba'],\n",
        "                                 beta=row['disk_pa']*galsim.degrees)\n",
        "      gal = gal.shear(ellipticity)\n",
        "\n",
        "      disk   = galsim.Convolve([gal, psf])\n",
        "\n",
        "      final = galsim.Add(bulge, bar, disk)\n",
        "      bounds = galsim.BoundsI(1, self.gal_width, 1, self.gal_width)\n",
        "      final = final.drawImage(scale=self.pixel_scale, bounds=bounds)\n",
        "\n",
        "      galaxy_img = final.array\n",
        "\n",
        "      x0 = int(row['x'])\n",
        "      y0 = int(row['y'])\n",
        "\n",
        "      x1 = x0 - self.gal_width//2\n",
        "      x2 = x1 + self.gal_width\n",
        "      y1 = y0 - self.gal_width//2\n",
        "      y2 = y1 + self.gal_width\n",
        "\n",
        "      image[y1:y2, x1:x2] += galaxy_img\n",
        "\n",
        "    image = image[self.gal_width:-self.gal_width,\n",
        "                  self.gal_width:-self.gal_width]\n",
        "    return image\n",
        "\n",
        "    def __call__(self, det_params=None, n_stack=1, stack_type='median',\n",
        "                 photometry=None, fwhm=None, detect_sources=False, **kwargs):\n",
        "        self.ZP = 1\n",
        "        super().__call__(det_params=det_params, n_stack=n_stack,\n",
        "                         photometry=None,\n",
        "                         stack_type=stack_type, ZP=1,**kwargs)"
      ],
      "metadata": {
        "id": "K66JgYYjt3rA"
      },
      "execution_count": 13,
      "outputs": []
    },
    {
      "cell_type": "code",
      "source": [
        "# Coma cluster properties\n",
        "cluster_center_ra = 194.9558  # RA of the Coma cluster center\n",
        "cluster_center_dec = 27.9807  # Dec of the Coma cluster center\n",
        "cluster_size_arcsec = 20/60 # Size of the Coma cluster in arcseconds\n",
        "num_galaxies = 100  # Number of galaxies to generate\n",
        "\n",
        "# Generate galaxy positions using a Gaussian distribution\n",
        "np.random.seed(42)\n",
        "\n",
        "ra = np.random.normal(cluster_center_ra, cluster_size_arcsec / np.sqrt(8*np.log(2)), num_galaxies)\n",
        "dec = np.random.normal(cluster_center_dec, cluster_size_arcsec / np.sqrt(8*np.log(2)), num_galaxies)\n",
        "mag = np.random.uniform(16, 20, num_galaxies)\n",
        "\n",
        "# Generate parameters for bulge, bar, and disk components\n",
        "bulge_M = np.random.uniform(18, 19, num_galaxies)\n",
        "bulge_Re = np.random.uniform(0.2, 1.0, num_galaxies)\n",
        "bulge_n = np.random.uniform(1.0, 4.0, num_galaxies)\n",
        "bulge_ba = np.random.uniform(0.5, 0.9, num_galaxies)\n",
        "bulge_pa = np.random.uniform(0, 180, num_galaxies)\n",
        "\n",
        "bar_M = np.random.uniform(17, 18, num_galaxies)\n",
        "bar_Re = np.random.uniform(1.0, 3.0, num_galaxies)\n",
        "bar_n = np.random.uniform(0.4, 1.0, num_galaxies)\n",
        "bar_ba = np.random.uniform(0.3, 0.7, num_galaxies)\n",
        "bar_pa = np.random.uniform(0, 180, num_galaxies)\n",
        "\n",
        "disk_M = np.random.uniform(16, 17, num_galaxies)\n",
        "disk_Re = np.random.uniform(2.0, 4.0, num_galaxies)\n",
        "disk_n = np.random.uniform(0.8, 1.2, num_galaxies)\n",
        "disk_ba = np.random.uniform(0.6, 0.95, num_galaxies)\n",
        "disk_pa = np.random.uniform(0, 180, num_galaxies)\n",
        "\n",
        "# Create the DataFrame for galaxy cluster\n",
        "df = pd.DataFrame({'ra': ra, 'dec': dec, 'mag': mag,\n",
        "                   'bulge_M': bulge_M, 'bulge_Re': bulge_Re, 'bulge_n': bulge_n,\n",
        "                   'bulge_ba': bulge_ba, 'bulge_pa': bulge_pa,\n",
        "                   'bar_M': bar_M, 'bar_Re': bar_Re, 'bar_n': bar_n,\n",
        "                   'bar_ba': bar_ba, 'bar_pa': bar_pa,\n",
        "                   'disk_M': disk_M, 'disk_Re': disk_Re, 'disk_n': disk_n,\n",
        "                   'disk_ba': disk_ba, 'disk_pa': disk_pa})"
      ],
      "metadata": {
        "id": "dt9p8qBDuAi4"
      },
      "execution_count": 19,
      "outputs": []
    },
    {
      "cell_type": "code",
      "source": [
        "tel_params ={\n",
        "            'aperture'       : 100,\n",
        "            'pixel_scale'    : 0.1,\n",
        "            'psf_file'       : f'{data_path}/PSF/INSIST/off_axis_poppy.npy',\n",
        "            'response_funcs' :  [ f'{data_path}/INSIST/UV/Coating.dat,5,100',   # 6 mirrors\n",
        "                                  f'{data_path}/INSIST/UV/Filter.dat,1,100',\n",
        "                                  f'{data_path}/INSIST/UV/Dichroic.dat,2,100',   # 2 dichroics\n",
        "                                ],\n",
        "             'coeffs'       : 1,\n",
        "             'theta'        : 0\n",
        "            }"
      ],
      "metadata": {
        "id": "rifs5N7d16Na"
      },
      "execution_count": 20,
      "outputs": []
    },
    {
      "cell_type": "code",
      "source": [
        "sim = Galaxy(df = df, coords = (cluster_center_ra, cluster_center_dec),\n",
        "             tel_params = tel_params, exp_time = 2400, plot = False,\n",
        "             n_x = 6000, n_y = 6000)"
      ],
      "metadata": {
        "id": "W7ewv9a640_R"
      },
      "execution_count": 21,
      "outputs": []
    },
    {
      "cell_type": "code",
      "source": [
        "sim.show_field()"
      ],
      "metadata": {
        "id": "LGSsKggi41BS"
      },
      "execution_count": null,
      "outputs": []
    },
    {
      "cell_type": "code",
      "source": [
        "det_params = {'shot_noise' :  'Poisson',\n",
        "              'qe_response': [],# [f'{data_path}/INSIST/UV/QE.dat,1,100'],\n",
        "              'qe_mean'    : 0.95,\n",
        "              'G1'         :  1,\n",
        "              'bias'       : 10,\n",
        "              'PRNU_frac'  :  0.25/100,\n",
        "              'DCNU'       :  0.1/100,\n",
        "              'RN'         :  3,\n",
        "              'T'          :  218,\n",
        "              'DN'         :  0.01/100\n",
        "              }"
      ],
      "metadata": {
        "id": "9b23OhZFJ_8_"
      },
      "execution_count": 23,
      "outputs": []
    },
    {
      "cell_type": "code",
      "source": [
        "sim(det_params=det_params)"
      ],
      "metadata": {
        "id": "RLa1K-d4dxxY"
      },
      "execution_count": null,
      "outputs": []
    },
    {
      "cell_type": "code",
      "source": [
        "sim.show_image()"
      ],
      "metadata": {
        "id": "hpYzIfXIKYiU"
      },
      "execution_count": null,
      "outputs": []
    }
  ]
}