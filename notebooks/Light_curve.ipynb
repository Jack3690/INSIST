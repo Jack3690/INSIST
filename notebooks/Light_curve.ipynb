{
  "cells": [
    {
      "cell_type": "markdown",
      "metadata": {
        "id": "view-in-github",
        "colab_type": "text"
      },
      "source": [
        "<a href=\"https://colab.research.google.com/github/Jack3690/INSIST/blob/main/notebooks/Light_curve.ipynb\" target=\"_parent\"><img src=\"https://colab.research.google.com/assets/colab-badge.svg\" alt=\"Open In Colab\"/></a>"
      ]
    },
    {
      "cell_type": "code",
      "execution_count": null,
      "metadata": {
        "id": "C_TImcfWw7Wq"
      },
      "outputs": [],
      "source": [
        "!pip install insist-pista --quiet"
      ]
    },
    {
      "cell_type": "code",
      "execution_count": null,
      "metadata": {
        "id": "XNzPjOlgxWVH"
      },
      "outputs": [],
      "source": [
        "import matplotlib.tri as mtri\n",
        "import matplotlib.pyplot as plt\n",
        "import os\n",
        "from mpl_toolkits.axes_grid1 import make_axes_locatable"
      ]
    },
    {
      "cell_type": "code",
      "execution_count": null,
      "metadata": {
        "id": "W3WL5v401ZXe"
      },
      "outputs": [],
      "source": [
        "import pista as pt\n",
        "from pista.utils import Xmatch, generate_psf\n",
        "import matplotlib.pyplot as plt\n",
        "import matplotlib.colors as col\n",
        "import numpy as np\n",
        "from scipy.interpolate import interp1d\n",
        "import pandas as pd\n",
        "from astropy.table import Table, vstack\n",
        "from astropy.modeling.fitting import LevMarLSQFitter\n",
        "from PIL import Image, ImageDraw\n",
        "import cv2\n",
        "import imageio\n",
        "import glob\n",
        "from scipy.stats import skewnorm\n",
        "from astropy.stats import gaussian_fwhm_to_sigma\n",
        "from astropy.io import fits\n",
        "import requests\n"
      ]
    },
    {
      "cell_type": "code",
      "execution_count": null,
      "metadata": {
        "id": "vC_BuOcOaOrb"
      },
      "outputs": [],
      "source": [
        "data_path = pt.data_dir"
      ]
    },
    {
      "cell_type": "code",
      "execution_count": null,
      "metadata": {
        "id": "EyWwqUXv5jJX"
      },
      "outputs": [],
      "source": [
        "def light_curve(x, y, cadence):\n",
        "  x_new = np.arange(x[0], x[-1], cadence)\n",
        "  y_new = np.interp(x_new, x, y)\n",
        "  return x_new, y_new"
      ]
    },
    {
      "cell_type": "code",
      "source": [
        "morse = {'A': [0,1,0,1,1,1],\n",
        "         'B': [0,1,1,1,0,1,0,1,0,1],\n",
        "         'C': [0,1,1,1,0,1,0,1,1,1,0,1],\n",
        "         'D': [0,1,1,1,0,1,0,1],\n",
        "         'E': [0,1],\n",
        "         'F': [0,1,0,1,0,1,1,1,0,1],\n",
        "         'G': [0,1,1,1,0,1,1,1,0,1],\n",
        "         'H': [0,1,0,1,0,1,0,1],\n",
        "         'I': [0,1,0,1],\n",
        "         'J': [0,1,0,1,1,1,0,1,1,1,0,1,1,1],\n",
        "         'K': [0,1,1,1,0,1,0,1,1,1],\n",
        "         'L': [0,1,0,1,1,1,0,1,0,1],\n",
        "         'M': [0,1,1,1,0,1,1,1],\n",
        "         'N': [0,1,1,1,0,1],\n",
        "         'O': [0,1,1,1,0,1,1,1,0,1,1,1],\n",
        "         'P': [0,1,0,1,1,1,0,1,1,1,0,1],\n",
        "         'Q': [0,1,1,1,0,1,1,1,0,1,0,1,1,1],\n",
        "         'R': [0,1,0,1,1,1,0,1],\n",
        "         'S': [0,1,0,1,0,1],\n",
        "         'T': [0,1,1,1],\n",
        "         'U': [0,1,0,1,0,1,1,1],\n",
        "         'V': [0,1,0,1,0,1,0,1,1,1],\n",
        "         'W': [0,1,0,1,1,1,0,1,1,1],\n",
        "         'X': [0,1,1,1,0,1,0,1,0,1,1,1],\n",
        "         'Y': [0,1,1,1,0,1,0,1,1,1,0,1,1,1],\n",
        "         'Z': [0,1,1,1,0,1,1,1,0,1,0,1],\n",
        "         ' ': [0,0,0],\n",
        "         }"
      ],
      "metadata": {
        "id": "Ce50AsIpiF1M"
      },
      "execution_count": null,
      "outputs": []
    },
    {
      "cell_type": "code",
      "source": [
        "x_in = np.arange(0, len(y_in), 1)\n",
        "t,dmag = light_curve(x_in, y_in, 0.1)\n",
        "len(dmag)"
      ],
      "metadata": {
        "id": "v16McWwNl3f_"
      },
      "execution_count": null,
      "outputs": []
    },
    {
      "cell_type": "code",
      "execution_count": null,
      "metadata": {
        "id": "VWddYUgc6hXH"
      },
      "outputs": [],
      "source": [
        "start = 0\n",
        "end = 20*60\n",
        "\n",
        "num_points = 1000\n",
        "\n",
        "x_in = np.arange(start, end, 1)\n",
        "y_in = skewnorm.pdf(x_in, 10, loc=400, scale=2*60)\n",
        "\n",
        "t,dmag = light_curve(x_in, y_in, 0.1)\n",
        "dmag = -dmag/dmag.max()"
      ]
    },
    {
      "cell_type": "code",
      "source": [],
      "metadata": {
        "id": "KwIHB8Ghk4Kc"
      },
      "execution_count": null,
      "outputs": []
    },
    {
      "cell_type": "code",
      "source": [
        "plt.plot(t,dmag)"
      ],
      "metadata": {
        "id": "HVKF4VZLVeJs"
      },
      "execution_count": null,
      "outputs": []
    },
    {
      "cell_type": "code",
      "source": [
        "fwhm = 4\n",
        "sigma = fwhm*gaussian_fwhm_to_sigma"
      ],
      "metadata": {
        "id": "XBTqsUpe8xhF"
      },
      "execution_count": null,
      "outputs": []
    },
    {
      "cell_type": "code",
      "source": [
        "params = {\n",
        "          'sigma_x' : sigma,\n",
        "          'sigma_y' : sigma,\n",
        "}"
      ],
      "metadata": {
        "id": "bidQoiGL-inW"
      },
      "execution_count": null,
      "outputs": []
    },
    {
      "cell_type": "code",
      "source": [
        "psf = generate_psf(201, params, 'Gaussian' )"
      ],
      "metadata": {
        "id": "Emk2UB5S8xnZ"
      },
      "execution_count": null,
      "outputs": []
    },
    {
      "cell_type": "code",
      "source": [
        "hdu = fits.PrimaryHDU(psf)\n",
        "hdul = fits.HDUList([hdu])\n",
        "hdul.writeto('psf.fits', overwrite=True)"
      ],
      "metadata": {
        "id": "jDDFlYgR_OxL"
      },
      "execution_count": null,
      "outputs": []
    },
    {
      "cell_type": "code",
      "execution_count": null,
      "metadata": {
        "id": "o68YUw8oM-pE"
      },
      "outputs": [],
      "source": [
        "tel_params ={\n",
        "            'aperture'       : 11*2.5,\n",
        "            'pixel_scale'    : 1.25,\n",
        "            'psf_file'       : f'psf.fits',\n",
        "            'response_funcs' :  [ f'{data_path}/INSIST/UV/Coating.dat,5,100',   # 6 mirrors\n",
        "                                  f'{data_path}/INSIST/UV/Dichroic.dat,2,100',   # 2 dichroics\n",
        "                                  f'{data_path}/INSIST/UV/Filter.dat,1,100',\n",
        "                                ],\n",
        "             'coeffs'       : 3.8e-2,\n",
        "             'theta'        : 0\n",
        "            }"
      ]
    },
    {
      "cell_type": "code",
      "execution_count": null,
      "metadata": {
        "id": "624Bj7MzyLaq"
      },
      "outputs": [],
      "source": [
        "det_params = {'shot_noise' :  'Poisson',\n",
        "              'qe_response': [],# [f'{data_path}/INSIST/UV/QE.dat,1,100'],\n",
        "              'qe_mean'    : 0.95,\n",
        "              'G1'         : 68,\n",
        "              'FWC'        : 58e3,\n",
        "              'bias'       : 20,\n",
        "              'PRNU_frac'  :  0.25/100,\n",
        "              'DCNU'       :  0.1/100,\n",
        "              'RN'         :  3.4,\n",
        "              'T'          :  225,\n",
        "              'DN'         :  0.01/100\n",
        "              }"
      ]
    },
    {
      "cell_type": "markdown",
      "source": [
        "# **Example 1**"
      ],
      "metadata": {
        "id": "Ufx6tirGWYQw"
      }
    },
    {
      "cell_type": "code",
      "source": [
        "x = np.random.uniform(20,280,15)\n",
        "y = np.random.uniform(20,280,15)\n",
        "mag = np.random.uniform(8,12,15)\n",
        "df = pd.DataFrame(zip(x,y,mag), columns = ['x', 'y', 'mag'])"
      ],
      "metadata": {
        "id": "1ODwMQD4Wazo"
      },
      "execution_count": null,
      "outputs": []
    },
    {
      "cell_type": "code",
      "source": [
        "tabs = []\n",
        "for i in range(len(dmag)):\n",
        "  df['x'] = x + np.random.uniform(-10,10,1)[0]\n",
        "  df['y'] = y + np.random.uniform(-10,10,1)[0]\n",
        "  df['mag'][0] =  8 + dmag[i]\n",
        "\n",
        "  sim = pt.Imager(df = df,tel_params = tel_params, exp_time = 10, plot = False,\n",
        "             n_x = 300, n_y = 300)\n",
        "\n",
        "  sim(det_params = det_params, photometry = 'Aper')\n",
        "  tabs.append(sim.phot_table[sim.phot_table['mag_in']==8 + dmag[i]])\n",
        "  sim.writecomp(f'/content/{i}_sim.fits')\n",
        "  del sim"
      ],
      "metadata": {
        "id": "w_KTSsvEWa98"
      },
      "execution_count": null,
      "outputs": []
    },
    {
      "cell_type": "code",
      "source": [
        "tab_t = vstack(tabs)"
      ],
      "metadata": {
        "id": "-_HhZ4BmPsZC"
      },
      "execution_count": null,
      "outputs": []
    },
    {
      "cell_type": "code",
      "source": [
        "!zip  flare_sim.zip flare/*"
      ],
      "metadata": {
        "id": "rmuos7eDfl0G"
      },
      "execution_count": null,
      "outputs": []
    },
    {
      "cell_type": "code",
      "source": [
        "tab_t.write('Phot_table.fits')"
      ],
      "metadata": {
        "id": "bvKU9Xw1fV5t"
      },
      "execution_count": null,
      "outputs": []
    },
    {
      "cell_type": "code",
      "source": [
        "fig, ax = plt.subplots()\n",
        "ax.plot(tab_t['mag_out'])\n",
        "#ax.plot(tab_t['mag_in'])\n",
        "ax.set_xlabel('Frames')\n",
        "ax.set_ylabel('mag')\n",
        "#ax.invert_yaxis()\n",
        "plt.legend(['Output','Input'])"
      ],
      "metadata": {
        "id": "zTQpYLSCffIU"
      },
      "execution_count": null,
      "outputs": []
    },
    {
      "cell_type": "code",
      "source": [
        "from google.colab import drive\n",
        "drive.mount('/content/drive')"
      ],
      "metadata": {
        "id": "cXuGQDyhg-bM"
      },
      "execution_count": null,
      "outputs": []
    },
    {
      "cell_type": "code",
      "source": [
        "!cp flare/* drive/MyDrive/Flare_sim/"
      ],
      "metadata": {
        "id": "h2Lh0UHIhBlC"
      },
      "execution_count": null,
      "outputs": []
    },
    {
      "cell_type": "code",
      "source": [
        "lc = []\n",
        "lc_err = []\n",
        "for sim in sims:\n",
        "  lc.append(sim.phot_table['mag_out'].value[0])\n",
        "  lc_err.append(sim.phot_table['mag_err'].value[0])"
      ],
      "metadata": {
        "id": "vZVD4OTSZTj8"
      },
      "execution_count": null,
      "outputs": []
    },
    {
      "cell_type": "code",
      "source": [
        "y = np.array(lc)\n",
        "y_err = np.array(lc_err)\n",
        "\n",
        "plt.errorbar(t[:10],y,yerr= y_err,fmt='-o', color = 'black', markersize=4, capsize=5)\n",
        "plt.xlabel('Time (Days)')\n",
        "plt.ylabel('Magnitude')"
      ],
      "metadata": {
        "id": "oLDLCuoqZwuy"
      },
      "execution_count": null,
      "outputs": []
    },
    {
      "cell_type": "markdown",
      "source": [
        "# **Example 2**"
      ],
      "metadata": {
        "id": "GT5TfpPMXABi"
      }
    },
    {
      "cell_type": "code",
      "source": [
        "!mkdir GIF"
      ],
      "metadata": {
        "id": "Q6no6BrliGn9"
      },
      "execution_count": null,
      "outputs": []
    },
    {
      "cell_type": "code",
      "source": [
        "tab = Table.read(f'{data_path}/sample.fits')\n",
        "\n",
        "mult = np.zeros(len(tab))\n",
        "mult[tab['mag'].argmin()]=1\n",
        "\n",
        "tab['mags'] = tab['mag'].value.reshape(-1,1) + mult.reshape(-1,1)*dmag.reshape(1,-1)"
      ],
      "metadata": {
        "id": "NrwqCB2OXIVS"
      },
      "execution_count": null,
      "outputs": []
    },
    {
      "cell_type": "code",
      "execution_count": null,
      "metadata": {
        "id": "GoZvDsrKXIfK"
      },
      "outputs": [],
      "source": [
        "sims=[]\n",
        "for i in range (len(tab['mags'][0])):\n",
        "\n",
        "  df = tab[['ra','dec']].to_pandas().copy()\n",
        "\n",
        "  df['mag'] = tab['mags'].value[:,i]\n",
        "\n",
        "  sim = pt.Imager(df = df,tel_params = tel_params, exp_time = 2400, plot = False,\n",
        "             n_x = 800, n_y = 800)\n",
        "\n",
        "  sim(det_params = det_params, photometry = 'Aper')\n",
        "  sim.show_image()\n",
        "  plt.savefig(f'GIF/{i:003}', dpi = 100, bbox_inches='tight')\n",
        "\n",
        "  sims.append(sim)"
      ]
    },
    {
      "cell_type": "code",
      "execution_count": null,
      "metadata": {
        "id": "HoB7qN2dXIfK"
      },
      "outputs": [],
      "source": [
        "import os\n",
        "from PIL import Image\n",
        "\n",
        "image_dir = 'GIF'  # Replace with the path to your image directory\n",
        "output_filename = 'animation.gif'  # Replace with the desired output filename\n",
        "\n",
        "# Get a list of image filenames in the directory\n",
        "image_filenames = [filename for filename in os.listdir(image_dir) if filename.endswith('.png')]\n",
        "\n",
        "# Sort the filenames to ensure proper ordering\n",
        "image_filenames.sort()\n",
        "\n",
        "# Open and load each image\n",
        "image_gif = []\n",
        "for filename in image_filenames:\n",
        "    image_path = os.path.join(image_dir, filename)\n",
        "    image = Image.open(image_path)\n",
        "    image_gif.append(image)\n",
        "\n",
        "# Save the images as an animated GIF"
      ]
    },
    {
      "cell_type": "code",
      "execution_count": null,
      "metadata": {
        "id": "P1fWqaEw_YSL"
      },
      "outputs": [],
      "source": [
        "imageio.mimsave(output_filename, image_gif, 'GIF')"
      ]
    },
    {
      "cell_type": "code",
      "source": [
        "df1 = sims[0].phot_table\n",
        "\n",
        "mags = []\n",
        "for i in range(len(sims)):\n",
        "  df2 = sims[i].phot_table\n",
        "  matched = np.array(Xmatch(df1,df2))\n",
        "  mag = df2['mag_out'].value[matched[:,1].astype(int)]\n",
        "  mags.append(mag)\n",
        "mags = np.array(mags)"
      ],
      "metadata": {
        "id": "fIIy2CMukKLb"
      },
      "execution_count": null,
      "outputs": []
    },
    {
      "cell_type": "code",
      "source": [
        "index = np.where((np.nanstd(mags, axis = 0)>0.3) & (np.std(mags, axis = 0) != np.nan) )[0]"
      ],
      "metadata": {
        "id": "aXS35CP1w0uE"
      },
      "execution_count": null,
      "outputs": []
    },
    {
      "cell_type": "code",
      "source": [
        "index"
      ],
      "metadata": {
        "id": "ChBHF4602coh"
      },
      "execution_count": null,
      "outputs": []
    },
    {
      "cell_type": "code",
      "source": [
        "for i in index:\n",
        "  plt.plot(mags[:,i])\n",
        "  plt.show()"
      ],
      "metadata": {
        "id": "whvu4kLBw64K"
      },
      "execution_count": null,
      "outputs": []
    },
    {
      "cell_type": "code",
      "source": [],
      "metadata": {
        "id": "At80BkH1z44z"
      },
      "execution_count": null,
      "outputs": []
    }
  ],
  "metadata": {
    "colab": {
      "provenance": [],
      "include_colab_link": true
    },
    "kernelspec": {
      "display_name": "Python 3",
      "name": "python3"
    },
    "language_info": {
      "name": "python"
    }
  },
  "nbformat": 4,
  "nbformat_minor": 0
}