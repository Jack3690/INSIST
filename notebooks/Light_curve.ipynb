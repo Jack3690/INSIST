{
  "cells": [
    {
      "cell_type": "markdown",
      "metadata": {
        "id": "view-in-github",
        "colab_type": "text"
      },
      "source": [
        "<a href=\"https://colab.research.google.com/github/Jack3690/INSIST/blob/main/notebooks/Light_curve.ipynb\" target=\"_parent\"><img src=\"https://colab.research.google.com/assets/colab-badge.svg\" alt=\"Open In Colab\"/></a>"
      ]
    },
    {
      "cell_type": "code",
      "execution_count": null,
      "metadata": {
        "id": "C_TImcfWw7Wq"
      },
      "outputs": [],
      "source": [
        "!pip install git+https://github.com/Jack3690/INSIST --quiet\n",
        "!pip install git+https://github.com/Srivardini/tara --quiet"
      ]
    },
    {
      "cell_type": "code",
      "execution_count": null,
      "metadata": {
        "id": "W3WL5v401ZXe"
      },
      "outputs": [],
      "source": [
        "import pista as pt\n",
        "from pista.utils import Xmatch, generate_psf\n",
        "import matplotlib.pyplot as plt\n",
        "import matplotlib.colors as col\n",
        "import numpy as np\n",
        "from scipy.interpolate import interp1d\n",
        "import pandas as pd\n",
        "from astropy.table import Table, vstack\n",
        "from astropy.modeling.fitting import LevMarLSQFitter\n",
        "from PIL import Image, ImageDraw\n",
        "import cv2\n",
        "import imageio\n",
        "from glob import glob\n",
        "from scipy.stats import skewnorm\n",
        "from astropy.stats import gaussian_fwhm_to_sigma\n",
        "from astropy.io import fits"
      ]
    },
    {
      "cell_type": "code",
      "execution_count": null,
      "metadata": {
        "id": "XNzPjOlgxWVH"
      },
      "outputs": [],
      "source": [
        "import matplotlib.tri as mtri\n",
        "import matplotlib.pyplot as plt\n",
        "import os\n",
        "from mpl_toolkits.axes_grid1 import make_axes_locatable"
      ]
    },
    {
      "cell_type": "code",
      "execution_count": null,
      "metadata": {
        "id": "vC_BuOcOaOrb"
      },
      "outputs": [],
      "source": [
        "data_path = pt.data_dir"
      ]
    },
    {
      "cell_type": "code",
      "execution_count": null,
      "metadata": {
        "id": "EyWwqUXv5jJX"
      },
      "outputs": [],
      "source": [
        "def light_curve(x, y, cadence):\n",
        "  x_new = np.arange(x[0], x[-1], cadence)\n",
        "  y_new = np.interp(x_new, x, y)\n",
        "  return x_new, y_new"
      ]
    },
    {
      "cell_type": "code",
      "execution_count": null,
      "metadata": {
        "id": "VWddYUgc6hXH"
      },
      "outputs": [],
      "source": [
        "start = 0\n",
        "end = 12*60\n",
        "\n",
        "num_points = 1000\n",
        "\n",
        "x_in = np.arange(start, end, 1)\n",
        "y_in = skewnorm.pdf(x_in, 10, loc=100, scale=3*60)\n",
        "\n",
        "t,dmag = light_curve(x_in, y_in, 0.1)\n",
        "dmag = -dmag/dmag.max()"
      ]
    },
    {
      "cell_type": "code",
      "source": [
        "x_in = np.arange(0, len(y_in), 1)\n",
        "t,dmag = light_curve(x_in, y_in, 0.1)\n",
        "dmag /= dmag.max()\n",
        "len(dmag)"
      ],
      "metadata": {
        "id": "v16McWwNl3f_"
      },
      "execution_count": null,
      "outputs": []
    },
    {
      "cell_type": "code",
      "source": [
        "plt.plot(t/60,dmag,'o')"
      ],
      "metadata": {
        "id": "KwIHB8Ghk4Kc"
      },
      "execution_count": null,
      "outputs": []
    },
    {
      "cell_type": "code",
      "source": [
        "fwhm = 1\n",
        "sigma = fwhm*gaussian_fwhm_to_sigma"
      ],
      "metadata": {
        "id": "XBTqsUpe8xhF"
      },
      "execution_count": null,
      "outputs": []
    },
    {
      "cell_type": "code",
      "source": [
        "params = {\n",
        "          'sigma_x' : sigma,\n",
        "          'sigma_y' : sigma,\n",
        "}"
      ],
      "metadata": {
        "id": "bidQoiGL-inW"
      },
      "execution_count": null,
      "outputs": []
    },
    {
      "cell_type": "code",
      "source": [
        "psf = generate_psf(201, params, 'Gaussian' )"
      ],
      "metadata": {
        "id": "Emk2UB5S8xnZ"
      },
      "execution_count": null,
      "outputs": []
    },
    {
      "cell_type": "code",
      "source": [
        "hdu = fits.PrimaryHDU(psf)\n",
        "hdul = fits.HDUList([hdu])\n",
        "hdul.writeto('psf.fits', overwrite=True)"
      ],
      "metadata": {
        "id": "jDDFlYgR_OxL"
      },
      "execution_count": null,
      "outputs": []
    },
    {
      "cell_type": "code",
      "source": [
        "3.3e-6*3.3e-6/1e-4"
      ],
      "metadata": {
        "id": "_Wfoz-U6pK2a"
      },
      "execution_count": null,
      "outputs": []
    },
    {
      "cell_type": "code",
      "execution_count": null,
      "metadata": {
        "id": "o68YUw8oM-pE"
      },
      "outputs": [],
      "source": [
        "tel_params ={\n",
        "            'aperture'       : 11*2.5,\n",
        "            'pixel_scale'    : 1.25,\n",
        "            'psf_file'       : f'psf.fits',\n",
        "            'response_funcs' :  [],\n",
        "             'coeffs'       : 3e-2,\n",
        "             'theta'        : 0,\n",
        "              'M_sky'      : 18,\n",
        "            }"
      ]
    },
    {
      "cell_type": "code",
      "execution_count": null,
      "metadata": {
        "id": "624Bj7MzyLaq"
      },
      "outputs": [],
      "source": [
        "det_params = {'shot_noise' :  'Poisson',\n",
        "              'qe_response': [],# [f'{data_path}/INSIST/UV/QE.dat,1,100'],\n",
        "              'qe_mean'    : 0.95,\n",
        "              'G1'         : 0.885009765625*68,\n",
        "              'FWC'        : 58e3,\n",
        "              'bit_res'    : 16,\n",
        "              'bias'       : 20,\n",
        "              'DFM'        : 0.01424,\n",
        "              'PRNU_frac'  :  0.25/100,\n",
        "              'pixel_area' : 1.089e-07,\n",
        "              'DCNU'       :  0.01/100,\n",
        "              'RN'         :  3.4,\n",
        "              'T'          :  300,\n",
        "              'DN'         :  0.01/100\n",
        "              }"
      ]
    },
    {
      "cell_type": "markdown",
      "source": [
        "# **Example 1**"
      ],
      "metadata": {
        "id": "Ufx6tirGWYQw"
      }
    },
    {
      "cell_type": "code",
      "source": [
        "if not os.path.exists('/content/output'):\n",
        "  os.mkdir('/content/output')\n",
        "\n",
        "if not os.path.exists('/content/tar_out'):\n",
        "  os.mkdir('/content/tar_out')"
      ],
      "metadata": {
        "id": "x_bEno3HqNaV"
      },
      "execution_count": null,
      "outputs": []
    },
    {
      "cell_type": "code",
      "source": [
        "ra = np.random.uniform(10, 10+ 200/3600,10)\n",
        "dec = np.random.uniform(10, 10 + 200/3600,10)\n",
        "mag = np.random.uniform(10,11,10)\n",
        "df = pd.DataFrame(zip(ra, dec, mag), columns = ['ra', 'dec', 'mag'])"
      ],
      "metadata": {
        "id": "1ODwMQD4Wazo"
      },
      "execution_count": null,
      "outputs": []
    },
    {
      "cell_type": "code",
      "source": [
        "tabs = []\n",
        "for i in range(len(dmag)):\n",
        "  df['ra'] = ra + np.random.uniform(-2/3600,2/3600,1)[0]\n",
        "  df['dec'] = dec + np.random.uniform(-2/3600,2/3600,1)[0]\n",
        "  df['mag'][0] =  10 - dmag[i]\n",
        "\n",
        "  sim = pt.Imager(df = df,tel_params = tel_params, exp_time = 0.1, plot = False,\n",
        "             n_x = 300, n_y = 300)\n",
        "\n",
        "  sim(det_params = det_params, photometry = 'Aper', detect_sources=False,\n",
        "        fwhm=2)\n",
        "  tabs.append(sim.phot_table[sim.phot_table['mag_in']==10 - dmag[i]])\n",
        "  sim.writecomp(f'/content/output/{i}_sim.fits')"
      ],
      "metadata": {
        "id": "w_KTSsvEWa98"
      },
      "execution_count": null,
      "outputs": []
    },
    {
      "cell_type": "code",
      "source": [
        "sim.zero_flux*pow(10,-11/2.5)/sim.gain"
      ],
      "metadata": {
        "id": "m3Ou0G8fvIJJ"
      },
      "execution_count": null,
      "outputs": []
    },
    {
      "cell_type": "code",
      "source": [
        "sim.show_image(overlay_apertures=True)"
      ],
      "metadata": {
        "id": "VIG76UCbXywT"
      },
      "execution_count": null,
      "outputs": []
    },
    {
      "cell_type": "code",
      "source": [
        "sim.phot_table"
      ],
      "metadata": {
        "id": "okisgOIZq3p4"
      },
      "execution_count": null,
      "outputs": []
    },
    {
      "cell_type": "code",
      "source": [
        "sim.det_params"
      ],
      "metadata": {
        "id": "EQWYPJBJdTxt"
      },
      "execution_count": null,
      "outputs": []
    },
    {
      "cell_type": "code",
      "source": [
        "tab_t = vstack(tabs)"
      ],
      "metadata": {
        "id": "-_HhZ4BmPsZC"
      },
      "execution_count": null,
      "outputs": []
    },
    {
      "cell_type": "code",
      "source": [
        "tab_t.write('/content/Phot_table.fits', overwrite=True)"
      ],
      "metadata": {
        "id": "bvKU9Xw1fV5t"
      },
      "execution_count": null,
      "outputs": []
    },
    {
      "cell_type": "code",
      "source": [
        "!zip /content/sim.zip /content/output/*"
      ],
      "metadata": {
        "id": "G3ajMyvn3skq"
      },
      "execution_count": null,
      "outputs": []
    },
    {
      "cell_type": "code",
      "source": [
        "fig, ax = plt.subplots(figsize=(5,5))\n",
        "ax.plot(tab_t['mag_out'])\n",
        "ax.plot(tab_t['mag_in'])\n",
        "ax.set_xlabel('Frames')\n",
        "ax.set_ylabel('mag')\n",
        "ax.invert_yaxis()\n",
        "plt.legend(['Output','Input'])"
      ],
      "metadata": {
        "id": "zTQpYLSCffIU",
        "outputId": "174c7939-2631-4479-e469-446cb5f6109c",
        "colab": {
          "base_uri": "https://localhost:8080/",
          "height": 494
        }
      },
      "execution_count": 97,
      "outputs": [
        {
          "output_type": "execute_result",
          "data": {
            "text/plain": [
              "<matplotlib.legend.Legend at 0x7b6fe519a290>"
            ]
          },
          "metadata": {},
          "execution_count": 97
        },
        {
          "output_type": "display_data",
          "data": {
            "text/plain": [
              "<Figure size 500x500 with 1 Axes>"
            ],
            "image/png": "[encoded data removed]"
          },
          "metadata": {}
        }
      ]
    },
    {
      "cell_type": "markdown",
      "source": [
        "# **TARA**"
      ],
      "metadata": {
        "id": "kEyud1SrkcIG"
      }
    },
    {
      "cell_type": "code",
      "source": [
        "import tara\n",
        "from tara.utils import gen_plot"
      ],
      "metadata": {
        "id": "hldaZHA1lIkY"
      },
      "execution_count": null,
      "outputs": []
    },
    {
      "cell_type": "code",
      "source": [
        "exps = glob('/content/output/*.fits')"
      ],
      "metadata": {
        "id": "M-C9dVddkcow"
      },
      "execution_count": null,
      "outputs": []
    },
    {
      "cell_type": "code",
      "source": [
        "exps = sorted(exps, key=lambda x: int(x.split('/')[-1].split('_')[0]))"
      ],
      "metadata": {
        "id": "zTS5EWtpksj6"
      },
      "execution_count": null,
      "outputs": []
    },
    {
      "cell_type": "code",
      "source": [
        "tar_obj = tara.tara(exps, '/content/tar_out')"
      ],
      "metadata": {
        "id": "Iy0bshQ9lA5x"
      },
      "execution_count": null,
      "outputs": []
    },
    {
      "cell_type": "code",
      "source": [
        "tar_obj.show_image(th=0.5, r=3, r_in=5, r_out=7)"
      ],
      "metadata": {
        "id": "RUE2jcEclBfu"
      },
      "execution_count": null,
      "outputs": []
    },
    {
      "cell_type": "code",
      "source": [
        "rnge = [0,2]\n",
        "step = 10\n",
        "\n",
        "ref_pos, ref_img= tar_obj(th=0.8, rnge=rnge, step=step)"
      ],
      "metadata": {
        "id": "F9OWS3g2lZXo"
      },
      "execution_count": null,
      "outputs": []
    },
    {
      "cell_type": "code",
      "source": [
        "phot_table = tar_obj.merge_phot_table('/content/tar_out')"
      ],
      "metadata": {
        "id": "iY7zBRZiq8sn"
      },
      "execution_count": null,
      "outputs": []
    },
    {
      "cell_type": "code",
      "source": [
        "fig, ax = gen_plot(phot_table, 'SNR',out_dir='/content/tar_out',fmt='-o')"
      ],
      "metadata": {
        "id": "9xcd9gd6rsZO"
      },
      "execution_count": null,
      "outputs": []
    },
    {
      "cell_type": "code",
      "source": [],
      "metadata": {
        "id": "p8jNqiLHrtsy"
      },
      "execution_count": null,
      "outputs": []
    }
  ],
  "metadata": {
    "colab": {
      "provenance": [],
      "include_colab_link": true
    },
    "kernelspec": {
      "display_name": "Python 3",
      "name": "python3"
    },
    "language_info": {
      "name": "python"
    }
  },
  "nbformat": 4,
  "nbformat_minor": 0
}