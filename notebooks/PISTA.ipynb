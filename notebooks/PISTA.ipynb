{
  "cells": [
    {
      "cell_type": "markdown",
      "metadata": {
        "colab_type": "text",
        "id": "view-in-github"
      },
      "source": [
        "<a href=\"https://colab.research.google.com/github/Jack3690/INSIST/blob/main/notebooks/PISTA.ipynb\" target=\"_parent\"><img src=\"https://colab.research.google.com/assets/colab-badge.svg\" alt=\"Open In Colab\"/></a>"
      ]
    },
    {
      "cell_type": "markdown",
      "metadata": {
        "id": "BjftpAkWjQek"
      },
      "source": [
        "<center><h1><b>This notebook breaksdown the PISTA package</b></h1></center>"
      ]
    },
    {
      "cell_type": "markdown",
      "metadata": {
        "id": "_Puv8uUejaDW"
      },
      "source": [
        "# **Install**"
      ]
    },
    {
      "cell_type": "code",
      "execution_count": null,
      "metadata": {
        "id": "b-3oyuBVOK6-"
      },
      "outputs": [],
      "source": [
        "!pip install photutils==1.9 --quiet\n",
        "!pip install reproject --quiet\n",
        "!pip install GalSim --quiet"
      ]
    },
    {
      "cell_type": "code",
      "execution_count": 1,
      "metadata": {
        "id": "LjlrY3fxwKJl"
      },
      "outputs": [],
      "source": [
        "import photutils"
      ]
    },
    {
      "cell_type": "markdown",
      "metadata": {
        "id": "Jky8ToHfhEEX"
      },
      "source": [
        "# **Imports**"
      ]
    },
    {
      "cell_type": "code",
      "execution_count": 2,
      "metadata": {
        "id": "Auvo_cCRP4mi"
      },
      "outputs": [
        {
          "ename": "ModuleNotFoundError",
          "evalue": "No module named 'galsim'",
          "output_type": "error",
          "traceback": [
            "\u001b[1;31m---------------------------------------------------------------------------\u001b[0m",
            "\u001b[1;31mModuleNotFoundError\u001b[0m                       Traceback (most recent call last)",
            "Cell \u001b[1;32mIn[2], line 55\u001b[0m\n\u001b[0;32m     52\u001b[0m \u001b[38;5;28;01mfrom\u001b[39;00m \u001b[38;5;21;01mreproject\u001b[39;00m\u001b[38;5;21;01m.\u001b[39;00m\u001b[38;5;21;01mmosaicking\u001b[39;00m \u001b[38;5;28;01mimport\u001b[39;00m reproject_and_coadd\n\u001b[0;32m     53\u001b[0m \u001b[38;5;28;01mfrom\u001b[39;00m \u001b[38;5;21;01mreproject\u001b[39;00m\u001b[38;5;21;01m.\u001b[39;00m\u001b[38;5;21;01mmosaicking\u001b[39;00m \u001b[38;5;28;01mimport\u001b[39;00m find_optimal_celestial_wcs\n\u001b[1;32m---> 55\u001b[0m \u001b[38;5;28;01mimport\u001b[39;00m \u001b[38;5;21;01mgalsim\u001b[39;00m\n\u001b[0;32m     57\u001b[0m \u001b[38;5;28;01mfrom\u001b[39;00m \u001b[38;5;21;01mscipy\u001b[39;00m\u001b[38;5;21;01m.\u001b[39;00m\u001b[38;5;21;01mstats\u001b[39;00m \u001b[38;5;28;01mimport\u001b[39;00m norm\n\u001b[0;32m     58\u001b[0m \u001b[38;5;28;01mfrom\u001b[39;00m \u001b[38;5;21;01mscipy\u001b[39;00m\u001b[38;5;21;01m.\u001b[39;00m\u001b[38;5;21;01mconstants\u001b[39;00m \u001b[38;5;28;01mimport\u001b[39;00m c\n",
            "\u001b[1;31mModuleNotFoundError\u001b[0m: No module named 'galsim'"
          ]
        }
      ],
      "source": [
        "import numpy as np\n",
        "import pandas as pd\n",
        "import matplotlib\n",
        "import matplotlib.pyplot as plt\n",
        "import seaborn as sb\n",
        "\n",
        "from tqdm.contrib import tzip\n",
        "\n",
        "import cv2\n",
        "from astropy import units as u\n",
        "from astropy.coordinates import SkyCoord, Angle, Distance, ICRS\n",
        "from astropy.modeling import models, fitting\n",
        "from astropy.visualization import LogStretch\n",
        "from astropy.io import fits\n",
        "from astropy.io.fits import CompImageHDU\n",
        "from astropy.convolution import Gaussian2DKernel, convolve\n",
        "from astropy.stats import gaussian_sigma_to_fwhm, sigma_clipped_stats\n",
        "from astropy.table import Table, vstack, join_skycoord, join, QTable\n",
        "from astropy.modeling.models import custom_model\n",
        "\n",
        "from matplotlib import cm\n",
        "from matplotlib.ticker import LogLocator\n",
        "from matplotlib.colors import ListedColormap, LinearSegmentedColormap\n",
        "import matplotlib.gridspec as gridspec\n",
        "from matplotlib import colors as col\n",
        "from matplotlib.ticker import MultipleLocator, AutoMinorLocator\n",
        "\n",
        "from astropy.wcs import WCS\n",
        "from astropy.stats import gaussian_fwhm_to_sigma, gaussian_sigma_to_fwhm\n",
        "from astropy.stats import SigmaClip, sigma_clipped_stats\n",
        "from astropy.cosmology import WMAP9 as cosmo\n",
        "from astropy.coordinates import angular_separation\n",
        "\n",
        "from photutils.aperture import aperture_photometry\n",
        "from photutils.aperture import CircularAperture, CircularAnnulus, ApertureStats\n",
        "from photutils.isophote import Ellipse\n",
        "\n",
        "import photutils as phot\n",
        "from photutils.segmentation import SourceCatalog, deblend_sources, detect_sources\n",
        "\n",
        "from photutils.detection import IRAFStarFinder, DAOStarFinder\n",
        "from photutils.psf import IntegratedGaussianPRF, DAOGroup, FittableImageModel\n",
        "\n",
        "from photutils.background import MMMBackground, Background2D, LocalBackground\n",
        "from photutils.detection import DAOStarFinder\n",
        "from photutils.psf import EPSFBuilder, GriddedPSFModel\n",
        "from photutils.psf import SourceGrouper, extract_stars, IterativePSFPhotometry, DAOPhotPSFPhotometry\n",
        "\n",
        "from astropy.modeling.fitting import LevMarLSQFitter\n",
        "\n",
        "from reproject import reproject_interp, reproject_exact\n",
        "from reproject.mosaicking import reproject_and_coadd\n",
        "from reproject.mosaicking import find_optimal_celestial_wcs\n",
        "\n",
        "import galsim\n",
        "\n",
        "from scipy.stats import norm\n",
        "from scipy.constants import c\n",
        "from scipy.signal import fftconvolve\n",
        "from sklearn.cluster import KMeans\n",
        "from scipy.spatial import cKDTree\n",
        "import copy\n",
        "\n",
        "import os\n",
        "from time import perf_counter\n",
        "import json\n",
        "import requests\n",
        "\n",
        "sb.set_style('white')\n",
        "matplotlib.rcParams['font.size']= 20\n",
        "matplotlib.rcParams['figure.figsize']=(10,10)"
      ]
    },
    {
      "cell_type": "code",
      "execution_count": null,
      "metadata": {
        "id": "70FXrrXyFC7E"
      },
      "outputs": [],
      "source": [
        "import torch\n",
        "import torch.nn.functional as F\n",
        "from torch.autograd import Variable"
      ]
    },
    {
      "cell_type": "code",
      "execution_count": null,
      "metadata": {
        "id": "_I8QR30TkOk4"
      },
      "outputs": [],
      "source": [
        "data_path = '/content/INSIST/src/pista/data'"
      ]
    },
    {
      "cell_type": "markdown",
      "metadata": {
        "id": "4SQuD7gS4XpF"
      },
      "source": [
        "# **Utils**"
      ]
    },
    {
      "cell_type": "code",
      "execution_count": null,
      "metadata": {
        "id": "ZIKcPsf0BW9g"
      },
      "outputs": [],
      "source": [
        "def bandpass(wav, flux, inputs, plot = True, fig = None, ax = None):\n",
        "  \"\"\"\n",
        "  Function to convolve response functions\n",
        "\n",
        "  Parameters\n",
        "  ----------\n",
        "  wav : numpy.ndarray\n",
        "        wavelenth in angstrom\n",
        "  flux: numpy.ndarray\n",
        "        flux normalized to [0,1]\n",
        "  plot: bool,\n",
        "        If true shows plots with input and convolved response functions\n",
        "\n",
        "  fig : matplotlib.pyplot.figure\n",
        "        User defined figure\n",
        "  ax  : matplotlib.pyplot.axes\n",
        "        User defined axes\n",
        "\n",
        "  Returns\n",
        "  -------\n",
        "\n",
        "  fig, ax, data, params\n",
        "\n",
        "  data : tuple,\n",
        "        (wavelenth array, flux_array, convolved flux array)\n",
        "\n",
        "  params: tuple,\n",
        "          (effective wavelength, integrated flux, Effective Width)\n",
        "\n",
        "  \"\"\"\n",
        "  lambda_   =  wav\n",
        "  flux_AB   = flux\n",
        "\n",
        "  if plot:\n",
        "    if fig is None or ax is None:\n",
        "        fig, ax = plt.subplots(1,1, figsize = (12,8))\n",
        "    ax.plot(lambda_ ,flux_AB/flux_AB.max(),label = r'$F(\\lambda)$', alpha = 0.7 )\n",
        "\n",
        "  R_eff = 1\n",
        "\n",
        "  for i in inputs:\n",
        "    file_name = i.split(',')[0]\n",
        "    n         = float(i.split(',')[1])\n",
        "    f_max     = float(i.split(',')[2])\n",
        "\n",
        "    filt_dat  = np.loadtxt(file_name)\n",
        "    wav  = filt_dat[:,0]\n",
        "    flux = filt_dat[:,1]\n",
        "\n",
        "    if np.amax(flux)>1:\n",
        "      flux/=f_max\n",
        "\n",
        "    indices  = np.where( (wav>lambda_ [0]) & (wav<lambda_[-1]))\n",
        "    wav_new  = wav[indices]\n",
        "    flux_new = flux[indices]\n",
        "\n",
        "    wav_new  = np.concatenate([[lambda_ [0]], [wav_new[0]- 1], wav_new,\n",
        "                               [wav_new[-1]+ 1], [lambda_[-1]]])\n",
        "\n",
        "    flux_new = np.concatenate([[0], [0], flux_new, [0], [0]])\n",
        "\n",
        "    flux_out = np.interp(lambda_,wav_new,flux_new)\n",
        "\n",
        "    R_eff      *= flux_out**n\n",
        "\n",
        "    if plot:\n",
        "      ax.plot(lambda_ ,flux_out/flux_out.max(),\n",
        "              label=f\"{file_name.split('/')[-1][:-4]}x{n}\", alpha = 0.7)\n",
        "\n",
        "  # Wavelength units\n",
        "  conv_flux    = R_eff*flux_AB\n",
        "  int_flux     = np.trapz(lambda_*conv_flux,lambda_)/np.trapz(lambda_*R_eff,\n",
        "                                                              lambda_)\n",
        "  W_eff        = np.trapz(R_eff,lambda_)/R_eff.max()\n",
        "  lambda_phot  = np.trapz(lambda_**2*conv_flux,\n",
        "                          lambda_)/np.trapz(lambda_*conv_flux,lambda_)\n",
        "\n",
        "  c1 = lambda_ >= lambda_phot-W_eff/2\n",
        "  c2 = lambda_ <= lambda_phot+W_eff/2\n",
        "\n",
        "  R_sq         = np.where((c1 & c2),1,0)\n",
        "  flux_ratio   = np.trapz(R_eff,lambda_)/np.trapz(R_sq,lambda_)\n",
        "\n",
        "  if plot:\n",
        "      ax.plot(lambda_ ,R_sq,\n",
        "              label=\"Square Filter\", alpha = 0.7)\n",
        "\n",
        "  # Frequency units\n",
        "  R_eff_Jy      = R_eff*lambda_**2*3.34e4\n",
        "  flux_AB       = flux_AB*lambda_**2*3.34e4\n",
        "  nu            = 3e18/lambda_\n",
        "\n",
        "  conv_flux_Jy  = R_eff_Jy*flux_AB\n",
        "  int_flux_Jy   = np.trapz(nu*conv_flux_Jy,nu)/np.trapz(nu*R_eff_Jy, nu)\n",
        "\n",
        "  # Comparing to a square filter with same width\n",
        "\n",
        "  data       =  lambda_, conv_flux, R_eff\n",
        "  params     =  lambda_phot, int_flux, int_flux_Jy, W_eff, flux_ratio\n",
        "\n",
        "  if plot:\n",
        "    ax.plot(lambda_,conv_flux/conv_flux.max(),label = 'Convloved Flux',\n",
        "            linewidth = 5)\n",
        "    y = np.linspace(0,1)\n",
        "    x = y*0 + lambda_phot\n",
        "    label = r'$\\lambda_{phot} = $' + f'{round(lambda_phot,3)}' + r' $\\AA$'\n",
        "    ax.plot(x,y,'--', color = 'black',label = label )\n",
        "\n",
        "    ax.set_xlabel(r'$\\AA$')\n",
        "    ax.set_ylabel(r'Normalized Flux')\n",
        "    fig.suptitle('Bandpass', fontsize = 20, y = 0.95)\n",
        "    ax.legend()\n",
        "\n",
        "  return fig, ax, data, params"
      ]
    },
    {
      "cell_type": "code",
      "execution_count": null,
      "metadata": {
        "id": "kkmNr_GG5NKN"
      },
      "outputs": [],
      "source": [
        "def generate_psf(npix, params, function = 'Gaussian'):\n",
        "\n",
        "    \"\"\"\n",
        "    Function for generating user defined PSF\n",
        "\n",
        "    npix : int,\n",
        "           number of pixels along one axis for pixel array\n",
        "\n",
        "    sigma: float,\n",
        "           standard deviation of the PSF in pixels\n",
        "\n",
        "    function: str,\n",
        "               type of PSF function\n",
        "\n",
        "    Returns\n",
        "    -------\n",
        "\n",
        "    numpy.ndarray\n",
        "\n",
        "    \"\"\"\n",
        "    x       = np.linspace(0, npix - 1, npix)\n",
        "    y       = x\n",
        "    yy,xx   = np.meshgrid(x,y)\n",
        "    if function == 'Gaussian':\n",
        "        sigma_x = params['sigma_x']\n",
        "        sigma_y = params['sigma_y']\n",
        "        psf = models.Gaussian2D(1, npix//2, npix//2,\n",
        "                                sigma_x, sigma_y)(xx,yy)\n",
        "        psf /= psf.sum()\n",
        "\n",
        "    elif function == 'Moffat':\n",
        "      gamma = params['gamma']\n",
        "      alpha = params['alpha']\n",
        "      psf = models.Moffat2D(1, npix//2, npix//2,\n",
        "                          gamma, alpha)(xx,yy)\n",
        "      psf /= psf.sum()\n",
        "\n",
        "    np.save('user_defined_psf.npy',psf)\n",
        "    return psf"
      ]
    },
    {
      "cell_type": "code",
      "execution_count": null,
      "metadata": {
        "id": "q-nBvWuMC8YL"
      },
      "outputs": [],
      "source": [
        "def redshift_corr(df):\n",
        "  \"\"\"\n",
        "  Function for redshift correction of input data\n",
        "\n",
        "   Parameters\n",
        "    ----------\n",
        "\n",
        "    df: astropy.table.Table or pandas.DataFrame\n",
        "        table with columns 'wav', 'flux', 'z1' and 'z2'\n",
        "\n",
        "        wav: numpy.ndarray\n",
        "            wavelength in Angstrom\n",
        "        flux: numpy.ndarray\n",
        "              flux in ergs/s/cm2/A\n",
        "\n",
        "        z1: float,\n",
        "            Original redshift to star\n",
        "        z2: float,\n",
        "            New redshift to star\n",
        "\n",
        "    Returns\n",
        "    -------\n",
        "\n",
        "    astropy.table.Table or pandas.DataFrame\n",
        "  \"\"\"\n",
        "  if 'z1' in df.keys() and 'z2' in df.keys():\n",
        "    red_corr = df['z2'].value.reshape(-1,1)-df['z1'].value.reshape(-1,1)\n",
        "    df['wav'] = df['wav'].value*(1 + red_corr)\n",
        "    d1 = cosmo.luminosity_distance(df['z1']).value\n",
        "    d2 = cosmo.luminosity_distance(df['z2']).value\n",
        "    flux_corr = (d1/d2)**2\n",
        "\n",
        "  elif 'd1' in df.keys() and 'd2' in df.keys():\n",
        "    flux_corr = (df['d1'].value/df['d2'].value)**2\n",
        "\n",
        "  df['flux'] = df['flux'].value*flux_corr.reshape(-1,1)\n",
        "\n",
        "  return df"
      ]
    },
    {
      "cell_type": "code",
      "execution_count": null,
      "metadata": {
        "id": "i1Dc3ZYm2VAn"
      },
      "outputs": [],
      "source": [
        "def spectra_to_mags_df(df,inputs):\n",
        "  \"\"\"\n",
        "    Function to convert spectra to magnitude using telescope response functions\n",
        "    Using Astropy Table\n",
        "\n",
        "    Parameters\n",
        "    ----------\n",
        "\n",
        "    df: astropy.table.Table\n",
        "        table with columns 'wav', 'flux', 'd1' and 'd2' or 'z1' or 'z2'\n",
        "\n",
        "        wav: numpy.ndarray\n",
        "            wavelength in Angstrom\n",
        "        flux: numpy.ndarray\n",
        "              flux in ergs/s/cm2/A\n",
        "\n",
        "        d1: float,\n",
        "            Original distance to star.\n",
        "        d2: float\n",
        "            New distance to star\n",
        "\n",
        "        z1: float,\n",
        "            Original redshift to star\n",
        "        z2: float,\n",
        "            New redshift to star\n",
        "\n",
        "    inputs: list,\n",
        "            list of path to response functions\n",
        "\n",
        "    Returns\n",
        "    -------\n",
        "\n",
        "    astropy.table.Table\n",
        "\n",
        "  \"\"\"\n",
        "  mags = []\n",
        "  c1 = ('z1' in df.keys() and 'z2' in df.keys())\n",
        "  c2 = ('d1' in df.keys() and 'd2' in df.keys())\n",
        "\n",
        "  if c1 or c2 :\n",
        "    df = redshift_corr(df)\n",
        "  else:\n",
        "    KeyError(\"z1 and z2 or d1 and d2\")\n",
        "\n",
        "  fluxes = df['flux'].value\n",
        "  wavs = df['wav'].value\n",
        "\n",
        "  for wav, flux in zip(wavs, fluxes):\n",
        "    out = bandpass(wav, flux,inputs = inputs,\n",
        "                                          plot = False)\n",
        "    params = out[3]\n",
        "    int_flux_Jy = params[2]\n",
        "    ABmag = -2.5*np.log10(int_flux_Jy/3631)\n",
        "\n",
        "    if ABmag == np.nan:\n",
        "      ABmag  = 100\n",
        "    mags.append(ABmag)\n",
        "\n",
        "  df['mag'] = mags\n",
        "\n",
        "  return df"
      ]
    },
    {
      "cell_type": "code",
      "execution_count": null,
      "metadata": {
        "id": "JQT5a72GuLm3"
      },
      "outputs": [],
      "source": [
        "def spectra_to_mags(wav, flux, inputs, z1=None, z2=None, d1=None,d2=None):\n",
        "  \"\"\"\n",
        "    Function to convert spectra to magnitude using telescope response functions\n",
        "    Using Astropy Table\n",
        "\n",
        "    Parameters\n",
        "    ----------\n",
        "\n",
        "    wav: list of numpy.ndarray\n",
        "        wavelength in Angstrom\n",
        "    flux: list of numpy.ndarray\n",
        "          flux in ergs/s/cm2/A\n",
        "\n",
        "    inputs: list,\n",
        "        list of path to response functions\n",
        "\n",
        "    d1: float,\n",
        "        Original distance to star.\n",
        "    d2: float\n",
        "        New distance to star\n",
        "\n",
        "    z1: float,\n",
        "        Original redshift to star\n",
        "    z2: float,\n",
        "        New redshift to star\n",
        "\n",
        "    Returns\n",
        "    -------\n",
        "    ABmag: numpy.ndarray\n",
        "           magnitude of stars from spectra\n",
        "  \"\"\"\n",
        "  c1 = z1 is not None and z2 is not None\n",
        "  c2 = d1 is not None and d2 is not None\n",
        "\n",
        "  if c1:\n",
        "\n",
        "    wav = wav*(1 + z1 - z2)\n",
        "    d1 = cosmo.luminosity_distance(z1).value\n",
        "    d2 = cosmo.luminosity_distance(z2).value\n",
        "    flux_corr = (d1/d2)**2\n",
        "\n",
        "  elif c2:\n",
        "    flux_corr = (d1/d2)**2\n",
        "\n",
        "  flux *= flux_corr\n",
        "  out           = bandpass(wav, flux,inputs = inputs,\n",
        "                                        plot = False)\n",
        "  params         = out[3]\n",
        "  int_flux_Jy    = params[2]\n",
        "  ABmag          = -2.5*np.log10(int_flux_Jy/3631)\n",
        "\n",
        "  if ABmag == np.nan:\n",
        "    ABmag  = 100\n",
        "\n",
        "  return ABmag"
      ]
    },
    {
      "cell_type": "code",
      "execution_count": null,
      "metadata": {
        "id": "26kag12XT71q"
      },
      "outputs": [],
      "source": [
        "def calc_mos_size(L,B,PA,l):\n",
        "  \"\"\"\n",
        "    Function to calculate minimum size of a Multi-object Spectrometer (MOS)\n",
        "    detector based on it's orientation and shape\n",
        "\n",
        "    Parameters\n",
        "    ----------\n",
        "\n",
        "    L: float,\n",
        "        Length of MOS Field of View (FoV).\n",
        "\n",
        "    B: float,\n",
        "        Breadth of MOS FoV.\n",
        "\n",
        "    PA: float,\n",
        "          Orientation of MOS FoV with respect to sky plane. (degrees)\n",
        "\n",
        "    l: int,\n",
        "          Number of pixels in dispersion direction.\n",
        "\n",
        "    Returns\n",
        "    -------\n",
        "\n",
        "    x_size, y_size: tuple\n",
        "                      (int,int)\n",
        "  \"\"\"\n",
        "  PA *= np.pi/180\n",
        "  x_size = l + B*np.sin(PA) + L*np.cos(PA)\n",
        "  y_size = B*np.cos(PA) + L*np.sin(PA)\n",
        "  x_size = int(np.round(x_size,0))\n",
        "  y_size = int(np.round(y_size,0))\n",
        "\n",
        "  return x_size, y_size"
      ]
    },
    {
      "cell_type": "code",
      "execution_count": null,
      "metadata": {
        "id": "qqFKR-Rfo5Jh"
      },
      "outputs": [],
      "source": [
        "def select_mos(df, cen_x, cen_y, radius = 10, min_sep = 10,ny =1000):\n",
        "  \"\"\"\n",
        "    Function to select sources from a given database such that overlap of\n",
        "    spectra is minimum\n",
        "    Parameters\n",
        "    ----------\n",
        "\n",
        "     df1: astropy.table.Table,\n",
        "        table with columns 'ra' and 'dec'\n",
        "\n",
        "        ra: float,\n",
        "            Right Ascension in degrees\n",
        "\n",
        "        dec: float,\n",
        "            Declnation in degrees\n",
        "\n",
        "      cen_x, float,\n",
        "              Reference x position in pixel coordinates\n",
        "\n",
        "      cen_y: float,\n",
        "              Reference x position in pixel coordinates\n",
        "\n",
        "      radius: float,\n",
        "              Radius of circle to count stars within.\n",
        "\n",
        "      min_sep: float,\n",
        "                minimum separation between stars in the spatial axis,\n",
        "\n",
        "\n",
        "      ny: int,\n",
        "            length of spatial axis in pixels\n",
        "\n",
        "\n",
        "    Returns\n",
        "    -------\n",
        "\n",
        "    mos_df: astropy.table.Table,\n",
        "              table containing list of selected sources\n",
        "    res_df: astropy.table.Table,\n",
        "              table containing list of remaining sources\n",
        "\n",
        "\n",
        "  \"\"\"\n",
        "  catalog = df[['x', 'y']].values\n",
        "  result = count_sources_within_radius(catalog, radius)\n",
        "  df['n_density'] = result\n",
        "\n",
        "  top = np.flip(np.arange(cen_y, 0, -min_sep))\n",
        "  bottom = np.arange(cen_y + min_sep, ny, min_sep)\n",
        "\n",
        "  y_pos = np.concatenate([top, bottom])\n",
        "  mos_df = []\n",
        "  df['x_sep'] = abs(df['x']- cen_x)\n",
        "  for i in y_pos:\n",
        "    p = df[(df['y']>i-2) & (df['y']<i+2)]\n",
        "    p = p[p['n_density']==0]\n",
        "\n",
        "    if len(p)>0:\n",
        "      p = p[p['x_sep']==p['x_sep'].min()]\n",
        "      mos_df.append(p.values[0])\n",
        "\n",
        "  mos_df = pd.DataFrame(mos_df, columns = df.keys())\n",
        "\n",
        "  res_df = mos_df[0:0]\n",
        "  for id in df['objid']:\n",
        "    if id not in mos_df['objid'].values:\n",
        "      t = df[df['objid']==id]\n",
        "      res_df = pd.concat([res_df,t])\n",
        "\n",
        "  return mos_df, res_df, cen_x, cen_y"
      ]
    },
    {
      "cell_type": "code",
      "execution_count": null,
      "metadata": {
        "id": "GHG0YbEEw8yP"
      },
      "outputs": [],
      "source": [
        "def count_sources_within_radius(catalog, radius):\n",
        "  \"\"\"\n",
        "    Function for counting the number of source around each stat within a given\n",
        "    radius using KDTree\n",
        "\n",
        "    Parameters\n",
        "    ----------\n",
        "\n",
        "    catalog: (np.ndarray, np.ndarray),\n",
        "              source coordinates\n",
        "\n",
        "    radius: float,\n",
        "              radius of circle to count sources within\n",
        "\n",
        "    Returns\n",
        "    -------\n",
        "\n",
        "    counts: list,\n",
        "            number density of sources around each star\n",
        "\n",
        "  \"\"\"\n",
        "  tree = cKDTree(catalog)\n",
        "  counts = []\n",
        "\n",
        "  for star in catalog:\n",
        "      indices = tree.query_ball_point(star, radius)\n",
        "      count = len(indices) - 1  # Exclude the star itself from the count\n",
        "      counts.append(count)\n",
        "\n",
        "  return counts"
      ]
    },
    {
      "cell_type": "code",
      "execution_count": null,
      "metadata": {
        "id": "rewYr4bVs0qs"
      },
      "outputs": [],
      "source": [
        "def distance_transform(ras,decs, cen_ra,cen_dec, d1,d2):\n",
        "\n",
        "  \"\"\"\n",
        "    Function for distance transformation of sources scattered around a point.\n",
        "\n",
        "    Parameters\n",
        "    ----------\n",
        "\n",
        "    ras: np.ndarray,\n",
        "          Right Ascension of sources.\n",
        "\n",
        "    decs: np.ndarray,\n",
        "          Declination of sources.\n",
        "\n",
        "    cen_ra: float,\n",
        "            Reference Right Ascension\n",
        "\n",
        "    cen_dec: float,\n",
        "              Reference Declination\n",
        "\n",
        "    d1: astropy.units.ly, astropy.units.pc, astropy.units.Mpc\n",
        "\n",
        "    d2: astropy.units.ly, astropy.units.pc, astropy.units.Mpc\n",
        "\n",
        "    Returns\n",
        "    -------\n",
        "\n",
        "   new_star_coords.ra.value, new_star_coords.ra.value: np.ndarray, np.ndarray\n",
        "\n",
        "  \"\"\"\n",
        "\n",
        "  # Define the coordinates of the galaxy in the original catalog\n",
        "  galaxy_ra = cen_ra*u.deg\n",
        "  galaxy_dec = cen_dec*u.deg\n",
        "\n",
        "  # Define the coordinates of the stars in the original catalog\n",
        "  star_ra = ras*u.deg\n",
        "  star_dec = decs*u.deg\n",
        "\n",
        "  # Create a SkyCoord object for the galaxy in the original catalog\n",
        "  galaxy_coord = SkyCoord(ra=galaxy_ra, dec=galaxy_dec, distance=Distance(d1), frame=ICRS())\n",
        "\n",
        "  # Create a SkyCoord object for the stars in the original catalog\n",
        "  star_coords = SkyCoord(ra=star_ra, dec=star_dec, frame=ICRS())\n",
        "\n",
        "  # Calculate the factor by which to scale the coordinates\n",
        "  scale_factor = d1/d2\n",
        "\n",
        "  # Calculate the separation between the stars and the galaxy\n",
        "  separation = star_coords.separation(galaxy_coord)\n",
        "\n",
        "  # Calculate the new position angle using the original coordinates\n",
        "  position_angle = star_coords.position_angle(galaxy_coord)\n",
        "\n",
        "  # Scale the separation by the scale factor\n",
        "  scaled_separation = np.arctan(np.tan(separation)*scale_factor)\n",
        "\n",
        "  # Calculate the new star coordinates using the scaled separation and position angle\n",
        "  new_star_coords = galaxy_coord.directional_offset_by(position_angle, scaled_separation)\n",
        "\n",
        "  return new_star_coords.ra.value, new_star_coords.dec.value"
      ]
    },
    {
      "cell_type": "markdown",
      "metadata": {
        "id": "9ybaFMRvDDyF"
      },
      "source": [
        "# **Photometry**"
      ]
    },
    {
      "cell_type": "code",
      "execution_count": null,
      "metadata": {
        "id": "REmJccUWLvRu"
      },
      "outputs": [],
      "source": [
        "class Analyzer(object):\n",
        "    def __init__(self):\n",
        "        \"\"\"\n",
        "        A class to visualize and analyze the simulated image\n",
        "\n",
        "        Parameters\n",
        "        ----------\n",
        "\n",
        "\n",
        "        Returns\n",
        "        -------\n",
        "        None.\n",
        "\n",
        "        \"\"\"\n",
        "    def __call__(self, df=None, wcs=None, data=None,\n",
        "                 photometry=None, detect_sources=False, fwhm=3, sigma=13,\n",
        "                 ZP=None):\n",
        "        \"\"\"\n",
        "        Performs sim simulation and sim Photometry\n",
        "\n",
        "        Imager.call()\n",
        "\n",
        "        do_photometry : Bool, Default : True\n",
        "                        Do Aperture Photometry\n",
        "        \"\"\"\n",
        "        self.photometry_type = photometry\n",
        "        if photometry == 'Aper':\n",
        "            self.aper_photometry(data, wcs, df, fwhm, sigma, detect_sources,\n",
        "                                 ZP)\n",
        "        elif photometry == 'PSF':\n",
        "            self.psf_photometry(data, wcs, df, fwhm, sigma, ZP)\n",
        "\n",
        "    def aper_photometry(self, data, wcs, df, fwhm, sigma, detect, ZP):\n",
        "      \"\"\"\n",
        "      Function to perform Aperture photometry\n",
        "\n",
        "      Parameters\n",
        "      ----------\n",
        "\n",
        "      data: np.ndarray,\n",
        "            image to perform photometry on\n",
        "\n",
        "      wcs: astropy.wcs.WCS\n",
        "            WCS object of the image\n",
        "\n",
        "      df: pandas.DataFrame,\n",
        "          Source catalog of source in the image from simulation for\n",
        "          reference\n",
        "\n",
        "      fwhm : float, pixels\n",
        "                  During aperture photometry,\n",
        "                  fwhm corresponds to FWHM circular aperture for\n",
        "                  aperture photometry\n",
        "                  During PSF photometry,\n",
        "                  fwhm corresponds FWHM kernel to use for PSF photometry\n",
        "      sigma: float,\n",
        "              The numbers of standard deviations above which source has to be\n",
        "              detected\n",
        "      detect: bool,\n",
        "              If true, DARStarFinder is used to detect sources for aperture\n",
        "              photometry\n",
        "\n",
        "              if false, input catalog is used for getting positions\n",
        "              of sources for aperture photometry\n",
        "      ZP    : float,\n",
        "              zero point of the telescope.\n",
        "\n",
        "      Returns\n",
        "      -------\n",
        "\n",
        "      phot_table: astropy.table.Table\n",
        "                  table containing photometry of the souces\n",
        "\n",
        "                  Columns\n",
        "                    'x-centeroid'\n",
        "                    'y-centeroid'\n",
        "                    'sky'\n",
        "                    'flux'\n",
        "                    'mag_in'\n",
        "                    'mag_out'\n",
        "                    'mag_err'\n",
        "                    'SNR'\n",
        "\n",
        "      \"\"\"\n",
        "\n",
        "      # if detect flag is set to True, detect sources in the image\n",
        "      if detect:\n",
        "\n",
        "          mmm_bkg = MMMBackground()\n",
        "\n",
        "          sigma_clip = SigmaClip(sigma_lower=2.25, sigma_upper=2.00)\n",
        "\n",
        "          if self.Cal0:\n",
        "            print(\"Performing photometry on Level 1 data\")\n",
        "            mask = np.where(np.isnan(data) | np.isinf(data) | \\\n",
        "                                                (data<0),1, 0)\n",
        "          else:\n",
        "            print(\"Performing photometry on Level 0 data\")\n",
        "            mask = np.where(data<0,1,0)\n",
        "\n",
        "          try:\n",
        "            bkg = Background2D(data, (64, 64),\n",
        "                                  filter_size=(3, 3),\n",
        "                                  sigma_clip=sigma_clip,\n",
        "                                  bkg_estimator=mmm_bkg,\n",
        "                               #   coverage_mask=mask,\n",
        "                                  fill_value = 0.0)\n",
        "            data_bkgsub = data.copy() - bkg.background\n",
        "          except:\n",
        "            print(\"Background Estimation failed\")\n",
        "            data_bkgsub = data\n",
        "\n",
        "\n",
        "          _, _, std = sigma_clipped_stats(data_bkgsub)\n",
        "\n",
        "          daofind = DAOStarFinder(threshold=sigma*std, fwhm=fwhm)\n",
        "\n",
        "          sources = daofind(data_bkgsub, mask=mask)\n",
        "          # Get the source positions\n",
        "          positions = np.transpose((sources['xcentroid'],\n",
        "                                    sources['ycentroid']))\n",
        "\n",
        "      else:\n",
        "\n",
        "          # create SkyCoord object from ra and dec values in the dataframe\n",
        "          coords = np.array([df['ra'],df['dec']])\n",
        "          # convert the sky coordinates to pixel coordinates\n",
        "          pix = wcs.world_to_pixel_values(coords.T)\n",
        "          positions = np.array(pix)\n",
        "\n",
        "      # create circular aperture object\n",
        "      self.aps = CircularAperture(positions, r=2*fwhm)\n",
        "      # count number of pixels within the aperture\n",
        "      ap_pix = self.aps.area\n",
        "      # create circular annulus object\n",
        "\n",
        "      self.bags = CircularAnnulus(positions, r_in=3*fwhm,\n",
        "                                        r_out=5*fwhm)\n",
        "      # count number of pixels within the annulus\n",
        "      sky_median = ApertureStats(data, self.bags).median\n",
        "\n",
        "      # perform aperture photometry on the data\n",
        "      phot_table = aperture_photometry(data, self.aps)\n",
        "\n",
        "      # calculate sky flux. electrons\n",
        "      phot_table['sky_flux'] = sky_median*ap_pix*self.gain*u.electron\n",
        "\n",
        "      # calculate source flux\n",
        "      phot_table['flux'] = (self.gain*phot_table['aperture_sum'].value - \\\n",
        "                           phot_table['sky_flux'].value)*u.electron\n",
        "\n",
        "      # calculate error on the source flux\n",
        "      NE_2 =  phot_table['flux'].value + phot_table['sky_flux'].value + \\\n",
        "              (self.DC_array.mean() + self.det_params['RN']**2 + \\\n",
        "                            (self.gain/2)**2)*ap_pix\n",
        "\n",
        "      phot_table['flux_err'] = np.sqrt(NE_2)*u.electron\n",
        "\n",
        "      # calculate signal to noise ratio\n",
        "      phot_table['SNR'] = phot_table['flux']/phot_table['flux_err']\n",
        "\n",
        "      if not detect:\n",
        "\n",
        "          phot_table['ra'] = df['ra'].values\n",
        "          phot_table['dec'] = df['dec'].values\n",
        "          phot_table['mag_in'] = df['mag'].values\n",
        "\n",
        "      else:\n",
        "          coords = np.array(wcs.pixel_to_world_values(positions))\n",
        "\n",
        "          phot_table['SkyCoord'] = SkyCoord(ra = coords[:, 0],\n",
        "                                            dec = coords[:, 1],\n",
        "                                            unit = 'deg')\n",
        "          tab2 = Table.from_pandas(df)\n",
        "\n",
        "          tab2['SkyCoord'] = SkyCoord(ra = df['ra'],\n",
        "                                      dec = df['dec'],\n",
        "                                      unit = 'deg')\n",
        "\n",
        "          min_dist = join_skycoord(2*self.pixel_scale*u.arcsec)\n",
        "\n",
        "          phot_table = join(phot_table, tab2['mag', 'x', 'y', 'SkyCoord'],\n",
        "                           join_funcs={'SkyCoord': min_dist})\n",
        "\n",
        "          phot_table.rename_column('mag', 'mag_in')\n",
        "\n",
        "      phot_table['mag_out'] = -2.5*np.log10(phot_table['flux'].value) + ZP\n",
        "      phot_table['mag_err'] = 1.082/phot_table['SNR'].value\n",
        "\n",
        "      self.phot_table = phot_table\n",
        "\n",
        "    def psf_photometry(self, data, wcs, df, fwhm, sigma, ZP):\n",
        "        \"\"\"\n",
        "        Function to perform PSF photometry\n",
        "\n",
        "        Parameters\n",
        "        ----------\n",
        "\n",
        "        data: np.ndarray,\n",
        "              image to perform photometry on\n",
        "\n",
        "        wcs: astropy.wcs.WCS\n",
        "              WCS object of the image\n",
        "\n",
        "        df: pandas.DataFrame,\n",
        "            Source catalog of source in the image from simulation for\n",
        "            reference\n",
        "\n",
        "        fwhm : float, pixels\n",
        "                    During aperture photometry,\n",
        "                    fwhm corresponds to FWHM circular aperture for\n",
        "                    aperture photometry\n",
        "                    During PSF photometry,\n",
        "                    fwhm corresponds FWHM kernel to use for PSF photometry\n",
        "        sigma: float,\n",
        "                The numbers of standard deviations above which source has to be\n",
        "                detected\n",
        "        detect: bool,\n",
        "                If true, DARStarFinder is used to detect sources for aperture\n",
        "                photometry\n",
        "\n",
        "                if false, input catalog is used for getting positions\n",
        "                of sources for aperture photometry\n",
        "        ZP    : float,\n",
        "                zero point of the telescope.\n",
        "\n",
        "        Returns\n",
        "        -------\n",
        "\n",
        "        phot_table: astropy.table.Table\n",
        "                    table containing photometry of the souces\n",
        "\n",
        "                    Columns\n",
        "                      'x-centeroid'\n",
        "                      'y-centeroid'\n",
        "                      'sky'\n",
        "                      'flux'\n",
        "                      'mag_in'\n",
        "                      'mag_out'\n",
        "                      'mag_err'\n",
        "                      'SNR'\n",
        "        \"\"\"\n",
        "        mean, median, std = sigma_clipped_stats(data, sigma=3)\n",
        "\n",
        "        psf_model = FittableImageModel(self.psf)\n",
        "        self.psf_model = psf_model\n",
        "\n",
        "        fitter = LevMarLSQFitter()\n",
        "        sigma_clip = SigmaClip(sigma=3.00)\n",
        "\n",
        "        \"\"\"\n",
        "        bkgstat = MMMBackground(sigma_clip=sigma_clip)\n",
        "        localbkg_estimator = LocalBackground(15, 35, bkgstat)\n",
        "\n",
        "        fwhm_psf = fwhm\n",
        "\n",
        "        mmm_bkg = MMMBackground()\n",
        "        sigma_clip = SigmaClip(sigma=3)\n",
        "\n",
        "        daofind = DAOStarFinder(threshold=5*std, fwhm=fwhm_psf)\n",
        "        grouper = SourceGrouper(2*fwhm_psf)\n",
        "\n",
        "        photometry = IterativePSFPhotometry(finder=daofind, grouper=grouper,\n",
        "                                  localbkg_estimator=localbkg_estimator,\n",
        "                                  psf_model=psf_model,fitter=fitter,\n",
        "                                  maxiters=1, fit_shape=(11,11),\n",
        "                                  aperture_radius=3*fwhm,\n",
        "                                  sub_shape=self.psf.shape,\n",
        "                                  progress_bar=True) \"\"\"\n",
        "\n",
        "        photometry = DAOPhotPSFPhotometry(crit_separation=3,\n",
        "                                          threshold = mean + sigma*std,\n",
        "                                          fwhm=2,\n",
        "                                          psf_model=psf_model,\n",
        "                                          fitshape=(7,7),\n",
        "                                          sigma=sigma,\n",
        "                                          fitter=fitter,\n",
        "                                          niters=3, aperture_radius=6)\n",
        "\n",
        "        phot_table = photometry(data)\n",
        "\n",
        "        \"\"\"\n",
        "        self.resid = photometry.make_residual_image(data_bkgsub,\n",
        "                                                    self.psf.shape)\"\"\"\n",
        "\n",
        "        positions = np.array([phot_table['x_fit'], phot_table['y_fit']]).T\n",
        "        coords = np.array(wcs.pixel_to_world_values(positions))\n",
        "\n",
        "        ap_pix = 7*7\n",
        "\n",
        "        phot_table['flux_fit_err'] = self.gain*phot_table['flux_unc']\n",
        "\n",
        "        phot_table['flux_fit'] = self.gain*phot_table['flux_fit']*u.electron\n",
        "\n",
        "        NE_2 = (phot_table['flux_fit'].value + \\\n",
        "                phot_table['flux_fit_err'].value) + \\\n",
        "                (self.DC_array.mean() + self.det_params['RN']**2 + \\\n",
        "                (self.gain/2)**2)*ap_pix\n",
        "\n",
        "        phot_table['flux_err'] = np.sqrt(NE_2)*u.electron\n",
        "\n",
        "        phot_table['SNR'] = phot_table['flux_fit']/ phot_table['flux_err']\n",
        "\n",
        "        phot_table['mag_out'] = -2.5*np.log10(phot_table['flux_fit'].value)\n",
        "        phot_table['mag_out'] += ZP\n",
        "        phot_table['mag_err'] = 1.082/phot_table['SNR'].value\n",
        "\n",
        "        phot_table['SkyCoord'] = SkyCoord(ra = coords[:, 0],\n",
        "                                            dec = coords[:, 1],\n",
        "                                            unit = 'deg')\n",
        "        tab2 = Table.from_pandas(df)\n",
        "\n",
        "        tab2['SkyCoord'] = SkyCoord(ra = df['ra'],\n",
        "                                    dec = df['dec'],\n",
        "                                      unit = 'deg')\n",
        "        min_dist = join_skycoord(2*self.pixel_scale*u.arcsec)\n",
        "        phot_table = join(phot_table, tab2['mag', 'x', 'y', 'SkyCoord'],\n",
        "                          join_funcs={'SkyCoord': min_dist})\n",
        "\n",
        "        phot_table.rename_column('mag', 'mag_in')\n",
        "\n",
        "        positions = np.array([phot_table['x_fit'].value,\n",
        "                              phot_table['y_fit'].value]).T\n",
        "        self.aps = CircularAperture(positions, r=2*fwhm)\n",
        "\n",
        "        self.phot_table = phot_table\n",
        "\n",
        "    def show_field(self, figsize=(12, 10), marker='.', cmap='jet'):\n",
        "        \"\"\"\n",
        "        Function for creating a scatter plot of sources within the FoV\n",
        "\n",
        "        Parameters\n",
        "        ----------\n",
        "        figsize : tuple,\n",
        "                Figure size\n",
        "\n",
        "        Returns\n",
        "        -------\n",
        "        fig, ax\n",
        "        \"\"\"\n",
        "        scale = self.n_x/self.n_y\n",
        "        figsize = figsize[0]*scale, figsize[1]\n",
        "\n",
        "        # Cropping Dataframe based on FoV\n",
        "        left = (self.n_x_sim - self.n_x)//2\n",
        "        right = left + self.n_x\n",
        "\n",
        "        df = self.sim_df\n",
        "\n",
        "        x_min_cut = (df['x'] > left)\n",
        "        x_max_cut = (df['x'] < right)\n",
        "\n",
        "        df = df[x_min_cut & x_max_cut]\n",
        "\n",
        "        bottom = (self.n_y_sim - self.n_y)//2\n",
        "        top = bottom + self.n_y\n",
        "\n",
        "        y_min_cut = (df['y'] > bottom)\n",
        "        y_max_cut = (df['y'] < top)\n",
        "\n",
        "        fov_x = (self.n_x*self.pixel_scale)/3600\n",
        "        fov_y = (self.n_y*self.pixel_scale)/3600\n",
        "\n",
        "        fov_x = np.round(fov_x, 4)\n",
        "        fov_y = np.round(fov_y, 4)\n",
        "\n",
        "        df = df[y_min_cut & y_max_cut]\n",
        "\n",
        "        fig, ax = plt.subplots(1, 1, figsize=figsize)\n",
        "\n",
        "        if hasattr(self, 'spec_bins'):\n",
        "          x = df['x']\n",
        "          y = df['y']\n",
        "          c = None\n",
        "          cmap = None\n",
        "          color = None\n",
        "\n",
        "          if 'mag' in df.keys():\n",
        "            c = df['mag']\n",
        "            cmap = 'jet'\n",
        "            color = None\n",
        "\n",
        "          img = ax.scatter(x, y, c=c, color = color, cmap=cmap, marker=marker)\n",
        "          cb = plt.colorbar(img, fraction = 1/scale, pad =0.01)\n",
        "          cb.set_label('mag (ABmag)')\n",
        "          ax.set_title(f\"\"\"Requested Center : {self.name} | {len(df)} sources\n",
        "          Fov(RA) : {fov_x} (deg) | Fov(Dec) : {fov_y} (deg)\"\"\")\n",
        "          ax.set_xlabel('x (pix)')\n",
        "          ax.set_ylabel('y (pix)')\n",
        "\n",
        "          if hasattr(self, 'L'):\n",
        "            B = self.B\n",
        "            L = self.L\n",
        "            l = len(self.spec_bins)\n",
        "            PA = self.PA\n",
        "\n",
        "            delta = np.arctan(B/L)\n",
        "            d = np.sqrt(L**2 + B**2)/2\n",
        "            om = PA - delta\n",
        "\n",
        "            x_corr = self.n_x_sim//2 - d*np.cos(om) - l/2\n",
        "            y_corr = self.n_y_sim//2 - d*np.sin(om) - B*np.cos(PA)\n",
        "\n",
        "            start = B*np.sin(PA) + l/2 + x_corr\n",
        "            end = start + L*np.cos(PA)\n",
        "            x = np.linspace(start,end,100)\n",
        "            y = np.tan(PA)*(x - B*np.sin(PA) - l/2 - x_corr) + y_corr\n",
        "\n",
        "            ax.plot(x,y,color = 'red')\n",
        "\n",
        "            start = l/2 + x_corr\n",
        "            end = start + L*np.cos(PA)\n",
        "            x = np.linspace(start, end, 100)\n",
        "            y = np.tan(PA)*(x - l/2  - x_corr) + B*np.cos(PA) + y_corr\n",
        "\n",
        "            ax.plot(x,y,color = 'red')\n",
        "\n",
        "            start = y_corr\n",
        "            end = start + B*np.cos(PA)\n",
        "            y = np.linspace(start, end, 100)\n",
        "            x = -np.tan(PA)*(y - B*np.cos(PA) - y_corr) + l/2 + x_corr\n",
        "\n",
        "            ax.plot(x,y,color = 'red')\n",
        "\n",
        "            start = y_corr +  L*np.sin(PA)\n",
        "            end = start + B*np.cos(PA)\n",
        "            y = np.linspace(start, end, 100)\n",
        "            x = -np.tan(PA)*(y - B*np.cos(PA) - L*np.sin(PA) - y_corr) + L*np.cos(PA) + l/2 + x_corr\n",
        "\n",
        "            ax.plot(x,y,color = 'red')\n",
        "            ax.set_xlim(0,self.n_x_sim)\n",
        "            ax.set_ylim(0,self.n_y_sim)\n",
        "\n",
        "        else:\n",
        "\n",
        "          x = df['ra']\n",
        "          y = df['dec']\n",
        "          c = df['mag']\n",
        "\n",
        "          img = ax.scatter(x, y, c=c, marker=marker, cmap=cmap)\n",
        "          cb = plt.colorbar(img)\n",
        "          cb.set_label('mag (ABmag)')\n",
        "\n",
        "          ax.set_title(f\"\"\"Requested Center : {self.name} | {len(df)} sources\n",
        "          Fov(RA) : {fov_x} (deg) | Fov(Dec) : {fov_y} (deg)\"\"\")\n",
        "          ax.invert_xaxis()\n",
        "          ax.set_xlabel('RA (Degrees)')\n",
        "          ax.set_ylabel('Dec (Degrees)')\n",
        "          ax.invert_xaxis()\n",
        "          ax.set_xlim(self.ra+fov_x/2, self.ra-fov_x/2)\n",
        "          ax.set_ylim(self.dec-fov_y/2,self.dec+fov_y/2)\n",
        "\n",
        "        ax.xaxis.set_minor_locator(AutoMinorLocator())\n",
        "        ax.yaxis.set_minor_locator(AutoMinorLocator())\n",
        "\n",
        "        ax.tick_params(which='both', width=2,direction=\"in\", top = True,right = True,\n",
        "                      bottom = True, left = True)\n",
        "\n",
        "        return fig, ax\n",
        "\n",
        "    def show_image(self, source='Digital', fig=None, ax=None, cmap='jet',\n",
        "                   figsize=(15, 10), download=False, show_wcs=True,\n",
        "                   overlay_apertures=False):\n",
        "        \"\"\"\n",
        "        Function for plotting the simulated field image\n",
        "\n",
        "        Source: str,\n",
        "                Choose from\n",
        "                            'Digital' : Final digial image\n",
        "                            'Charge'  : electrons, Light(Source + sky) +\n",
        "                                         Dark Current + Noises\n",
        "                            'Source'  : Source + Sky + Noises\n",
        "                            'Sky'     : Sky + shot_noise\n",
        "                            'DC'      : Dark Current + DNFP\n",
        "                            'QE'      : Quantum efficiency fluctuation across\n",
        "                                        detector\n",
        "                            'Bias'    : Charge offset\n",
        "                            'PRNU'    : Photon Response Non-Uniformity\n",
        "                            'DNFP'    : Dark Noise Fixed Pattern\n",
        "                            'QN'      : Quantization Noise\n",
        "                            'Resid'   : Residual Image If PSF Photometry\n",
        "                                         was performed\n",
        "\n",
        "\n",
        "        fig : matplotlib.pyplot.figure\n",
        "            User defined figure\n",
        "        ax  : matplotlib.pyplot.axes\n",
        "            User defined axes\n",
        "        cmap : str,\n",
        "            matplotlib.pyplot colormap\n",
        "        figsize : tuple\n",
        "        download : bool\n",
        "        show_wcs : bool\n",
        "                If true adds WCS projection to the image\n",
        "        Returns\n",
        "        -------\n",
        "        Image\n",
        "\n",
        "        fig, ax\n",
        "        \"\"\"\n",
        "        if hasattr(self,'digital'):\n",
        "            if fig is None or ax is None:\n",
        "                fig = plt.figure(figsize=figsize)\n",
        "                if show_wcs:\n",
        "                    ax = fig.add_subplot(projection=self.wcs)\n",
        "                else:\n",
        "                    ax = fig.add_subplot()\n",
        "\n",
        "            norm = None\n",
        "            if source == 'Digital':\n",
        "                data = self.digital.copy()\n",
        "                norm = col.LogNorm()\n",
        "            elif source == 'Charge':\n",
        "                data = self.charge.copy()\n",
        "                norm = col.LogNorm()\n",
        "            elif source == 'Source':\n",
        "                data = self.light_array.copy()\n",
        "                norm = col.LogNorm()\n",
        "            elif source == 'Sky':\n",
        "                data = self.sky_photons.copy()\n",
        "            elif source == 'DC':\n",
        "                data = self.DC_array.copy()\n",
        "            elif source == 'Bias':\n",
        "                data = self.bias_array.copy()\n",
        "            elif source == 'PRNU':\n",
        "                data = self.PRNU_array.copy()\n",
        "            elif source == 'DNFP':\n",
        "                norm = col.LogNorm()\n",
        "                data = self.DNFP_array.copy()\n",
        "            elif source == 'QN':\n",
        "                data = self.QN_array.copy()\n",
        "            elif source == 'Resid':\n",
        "              if self.photometry_type == \"PSF\":\n",
        "                data = self.resid.copy()\n",
        "              else:\n",
        "                print(\"Run PSF Photometry!\")\n",
        "                return None, None\n",
        "            else:\n",
        "                print(\"Invalid Input\")\n",
        "                return None, None\n",
        "\n",
        "            if data.min() < 0:\n",
        "                print('Negative values in image. Increase Bias')\n",
        "                data += data.min()\n",
        "\n",
        "            img = ax.imshow(data, cmap=cmap, norm=norm)\n",
        "            ax.grid(False)\n",
        "            cb = plt.colorbar(img, ax=ax)\n",
        "            cb.set_label('DN')\n",
        "            ax.set_title(f'{source} \\nRequested center : {self.name}')\n",
        "            ax.grid(False)\n",
        "\n",
        "            if overlay_apertures:\n",
        "              if self.photometry_type == \"Aper\":\n",
        "                for aperture in self.aps:\n",
        "                    if aperture is not None:\n",
        "                        aperture.plot(ax=ax, color='red', lw=1.5)\n",
        "                for aperture in self.bags:\n",
        "                    if aperture is not None:\n",
        "                        aperture.plot(ax=ax, color='yellow', lw=1.5)\n",
        "\n",
        "              elif self.photometry_type == \"PSF\":\n",
        "                for aperture in self.aps:\n",
        "                    if aperture is not None:\n",
        "                        aperture.plot(ax=ax, color='red', lw=1.5)\n",
        "\n",
        "\n",
        "            if hasattr(self, 'L'):\n",
        "              B = self.B\n",
        "              L = self.L\n",
        "              l = len(self.spec_bins)\n",
        "              PA = self.PA\n",
        "\n",
        "              delta = np.arctan(B/L)\n",
        "              d = np.sqrt(L**2 + B**2)/2\n",
        "              om = PA - delta\n",
        "\n",
        "              x_corr = self.n_x//2 - d*np.cos(om) - l/2\n",
        "              y_corr = self.n_y//2 - d*np.sin(om) - B*np.cos(PA)\n",
        "\n",
        "              start = B*np.sin(PA) + l/2 + x_corr\n",
        "              end = start + L*np.cos(PA)\n",
        "              x = np.linspace(start,end,100)\n",
        "              y = np.tan(PA)*(x - B*np.sin(PA) - l/2 - x_corr) + y_corr\n",
        "\n",
        "              ax.plot(x,y,color = 'red')\n",
        "\n",
        "              start = l/2 + x_corr\n",
        "              end = start + L*np.cos(PA)\n",
        "              x = np.linspace(start, end, 100)\n",
        "              y = np.tan(PA)*(x - l/2  - x_corr) + B*np.cos(PA) + y_corr\n",
        "\n",
        "              ax.plot(x,y,color = 'red')\n",
        "\n",
        "              start = y_corr\n",
        "              end = start + B*np.cos(PA)\n",
        "              y = np.linspace(start, end, 100)\n",
        "              x = -np.tan(PA)*(y - B*np.cos(PA) - y_corr) + l/2 + x_corr\n",
        "\n",
        "              ax.plot(x,y,color = 'red')\n",
        "\n",
        "              start = y_corr +  L*np.sin(PA)\n",
        "              end = start + B*np.cos(PA)\n",
        "              y = np.linspace(start, end, 100)\n",
        "              x = -np.tan(PA)*(y - B*np.cos(PA) - L*np.sin(PA) - y_corr) + L*np.cos(PA) + l/2 + x_corr\n",
        "\n",
        "              ax.plot(x,y,color = 'red')\n",
        "\n",
        "            if download:\n",
        "                fig.savefig(f\"{source}.png\", format='png')\n",
        "            return fig, ax\n",
        "\n",
        "        else:\n",
        "            print(\"Run Simulation\")\n",
        "\n",
        "    def show_hist(self, source='Digital', bins=None,\n",
        "                  fig=None, ax=None, figsize=(15, 8)):\n",
        "        \"\"\"\n",
        "        Function for plotting histogram of various stages of simulation\n",
        "\n",
        "        Parameters\n",
        "        ----------\n",
        "\n",
        "        Source: str,\n",
        "                Choose from\n",
        "                        'Digital' : Final digial image\n",
        "                        'Charge'  : electrons, Light(Source + sky)\n",
        "                                    + Dark Current + Noises\n",
        "                        'Source'  : Source + Sky + Noises\n",
        "                        'Sky'     : Sky + shot_noise\n",
        "                        'DC'      : Dark Current + DNFP\n",
        "                        'QE'      : Quantum efficiency fluctuation across\n",
        "                                    detector\n",
        "                        'Bias'    : Charge offset\n",
        "                        'PRNU'    : Photon Response Non-Uniformity\n",
        "                        'DNFP'    : Dark Noise Fixed Pattern\n",
        "                        'QN'      : Quantization Noise\n",
        "\n",
        "        bins : numpy.array,\n",
        "            bins for making histogram\n",
        "        fig : matplotlib.pyplot.figure\n",
        "            User defined figure\n",
        "        ax  : matplotlib.pyplot.axes\n",
        "            User defined axes\n",
        "        figsize : tuple\n",
        "        \"\"\"\n",
        "\n",
        "        if hasattr(self,'digital'):\n",
        "            if fig is None or ax is None:\n",
        "                fig, ax = plt.subplots(1, 1, figsize=figsize)\n",
        "\n",
        "            if source == 'Digital':\n",
        "                data = self.digital.ravel()\n",
        "            elif source == 'Charge':\n",
        "                data = self.charge.ravel()\n",
        "            elif source == 'Source':\n",
        "                data = self.light_array\n",
        "            elif source == 'Sky':\n",
        "                data = self.sky_photons.ravel()\n",
        "            elif source == 'DC':\n",
        "                data = self.DC_array.ravel()\n",
        "            elif source == 'Bias':\n",
        "                data = self.bias_array.ravel()\n",
        "            elif source == 'PRNU':\n",
        "                data = self.PRNU_array.ravel()\n",
        "            elif source == 'DNFP':\n",
        "                data = self.DNFP_array.ravel()\n",
        "            elif source == 'QN':\n",
        "                data = self.QN_array.ravel()\n",
        "\n",
        "            if bins is None:\n",
        "                bins = np.linspace(data.min(), data.max(), 20)\n",
        "            ax.hist(data, bins=bins)\n",
        "            ax.set_title(f'{source} histogram')\n",
        "            ax.set_ylabel('Count')\n",
        "            ax.set_yscale('log')\n",
        "            return fig, ax\n",
        "        else:\n",
        "            print(\"Run Simulation\")\n",
        "\n",
        "    def getImage(self, source='Digital'):\n",
        "        \"\"\"\n",
        "        Function of retrieving image array at different stages of simulation.\n",
        "\n",
        "        Parameters\n",
        "        ----------\n",
        "\n",
        "        Source: str,\n",
        "            Choose from\n",
        "                        'Digital' : Final digial image\n",
        "                        'Charge'  : electrons, Light(Source + sky)\n",
        "                                    + Dark Current + Noises\n",
        "                        'Source'  : Source + Sky + Noises\n",
        "                        'Sky'     : Sky + shot_noise\n",
        "                        'DC'      : Dark Current + DNFP\n",
        "                        'QE'      : Quantum efficiency fluctuation across\n",
        "                                    detector\n",
        "                        'Bias'    : Charge offset\n",
        "                        'PRNU'    : Photon Response Non-Uniformity\n",
        "                        'DNFP'    : Dark Noise Fixed Pattern\n",
        "                        'QN'      : Quantization Noise\n",
        "        \"\"\"\n",
        "\n",
        "        if hasattr(self, 'digital'):\n",
        "            if source == 'Digital':\n",
        "                data = self.digital\n",
        "            elif source == 'Charge':\n",
        "                data = self.charge\n",
        "            elif source == 'Sky':\n",
        "                data = self.sky_photoelec\n",
        "            elif source == 'DC':\n",
        "                data = self.DC_array\n",
        "            elif source == 'QE':\n",
        "                data = self.qe_array\n",
        "            elif source == 'Bias':\n",
        "                data = (self.bias_array + self.DC_array)\n",
        "            elif source == 'PRNU':\n",
        "                data = self.PRNU_array\n",
        "            elif source == 'DNFP':\n",
        "                data = self.DNFP_array\n",
        "            elif source == 'QN':\n",
        "                data = self.QN_array\n",
        "            else:\n",
        "                data = 0\n",
        "            return data\n",
        "        else:\n",
        "            print(\"Run Simulation\")\n",
        "\n",
        "    def writeto(self, name, source='Digital', user_source=None,\n",
        "                with_dark_flat = False):\n",
        "\n",
        "        \"\"\"\n",
        "        Function for downloading a fits file of simulated field image\n",
        "\n",
        "        Parameters\n",
        "        ----------\n",
        "        name : str\n",
        "            filename, Example : simulation.fits\n",
        "\n",
        "        Source: str,\n",
        "            Choose from\n",
        "                        'Digital' : Final digial image\n",
        "                        'Charge'  : electrons, Light(Source + sky)\n",
        "                                    + Dark Current + Noises\n",
        "                        'Source'  : Source + Sky + Noises\n",
        "                        'Sky'     : Sky + shot_noise\n",
        "                        'DC'      : Dark Current + DNFP\n",
        "                        'Bias'    : Charge offset\n",
        "                        'PRNU'    : Photon Response Non-Uniformity\n",
        "                        'DNFP'    : Dark Noise Fixed Pattern\n",
        "                        'QN'      : Quantization Noise\n",
        "\n",
        "        user_source : numpy.ndarray\n",
        "                    2D numpy array user wants to save as FITS\n",
        "        with_dark_flat : bool\n",
        "                          True : Output fits will provide dark and flat frames\n",
        "        \"\"\"\n",
        "        if hasattr(self, 'digital'):\n",
        "            if user_source is not None and isinstance(user_source) == np.ndarray:\n",
        "                data = user_source\n",
        "            elif source == 'Digital':\n",
        "                data = self.digital\n",
        "            elif source == 'Charge':\n",
        "                data = self.charge\n",
        "            elif source == 'Source':\n",
        "                data = self.light_array\n",
        "            elif source == 'Sky':\n",
        "                data = self.sky_photoelec\n",
        "            elif source == 'DC':\n",
        "                data = self.DC_array\n",
        "            elif source == 'Bias':\n",
        "                data = self.bias_array\n",
        "            elif source == 'PRNU':\n",
        "                data = self.PRNU_array\n",
        "            elif source == 'DNFP':\n",
        "                data = self.DNFP_array\n",
        "            elif source == 'QN':\n",
        "                data = self.QN_array\n",
        "\n",
        "            else:\n",
        "                print(f\"{source} is not a valid source\")\n",
        "\n",
        "            hdu = fits.PrimaryHDU(data, header=self.header)\n",
        "            hdu.wcs = self.wcs\n",
        "            hdus = [hdu]\n",
        "\n",
        "            if with_dark_flat:\n",
        "              bias = self.bias_frame\n",
        "              header = self.header\n",
        "              header['FRAME'] = 'Bias'\n",
        "\n",
        "              hdu = fits.ImageHDU(bias, header=header)\n",
        "              hdus.append(hdu)\n",
        "\n",
        "              dark = self.dark_frame\n",
        "              header = self.header\n",
        "              header['FRAME'] = 'Dark'\n",
        "\n",
        "              hdu = fits.ImageHDU(dark, header=header)\n",
        "              hdus.append(hdu)\n",
        "\n",
        "              flat = self.flat_frame\n",
        "              header['FRAME'] = 'Flat'\n",
        "\n",
        "              hdu = fits.ImageHDU(flat, header=header)\n",
        "              hdus.append(hdu)\n",
        "\n",
        "              header['FRAME'] = 'PSF'\n",
        "\n",
        "              hdu = fits.ImageHDU(self.psf, header=header)\n",
        "              hdus.append(hdu)\n",
        "\n",
        "            hdul = fits.HDUList(hdus)\n",
        "            hdul.writeto(f'{name}', overwrite=True, checksum=True)\n",
        "        else:\n",
        "            print(\"Run Simulation\")\n",
        "\n",
        "    def writecomp(self, name):\n",
        "\n",
        "      hdu = CompImageHDU(data=self.digital, header=self.header)\n",
        "      hdus = [fits.PrimaryHDU(), hdu]\n",
        "      hdul = fits.HDUList(hdus)\n",
        "      hdul.writeto(name, overwrite = True, checksum = True)"
      ]
    },
    {
      "cell_type": "code",
      "execution_count": null,
      "metadata": {
        "id": "Qcm01sddBc0H"
      },
      "outputs": [],
      "source": [
        "class SpecAnalyzer(object):\n",
        "\n",
        "    def __init__(self):\n",
        "        \"\"\"\n",
        "        A class to visualize and analyze the simulated image\n",
        "\n",
        "        Parameters\n",
        "        ----------\n",
        "        Imager.init()\n",
        "\n",
        "        Returns\n",
        "        -------\n",
        "        None.\n",
        "\n",
        "        \"\"\"\n",
        "    def extract(self, data, wcs, df, width=50, sep=5):\n",
        "\n",
        "        \"\"\"\n",
        "        Extracts Spectra for Slitless Spectroscopy\n",
        "\n",
        "        \"\"\"\n",
        "        coords = np.array([df['ra'], df['dec']])\n",
        "        # convert the sky coordinates to pixel coordinates\n",
        "        pix = wcs.world_to_pixel_values(coords.T)\n",
        "        positions = np.array(pix)\n",
        "\n",
        "        bin_mid = len(self.spec_bins)//2\n",
        "        w = width//2\n",
        "\n",
        "        fluxes = []\n",
        "        for i, j in positions:\n",
        "\n",
        "          i = np.round(i,1).astype(int)\n",
        "          j = np.round(j,1).astype(int)\n",
        "\n",
        "          start = i-bin_mid if i-bin_mid >= 0 else 0\n",
        "          end = i+bin_mid if i+bin_mid <= self.n_x else self.n_x\n",
        "\n",
        "          top = j - w  if j - w >= 0 else 0\n",
        "          bottom = j + w if j + w <= self.n_y else self.n_y\n",
        "\n",
        "          flux = data[top : bottom, start:end+1]\n",
        "\n",
        "          if top >= w + sep  and bottom <= self.n_y - w - sep:\n",
        "            top_ = top - w - sep\n",
        "            bottom_ = top - sep\n",
        "            sky = data[top_:bottom_, start:end+1]\n",
        "\n",
        "            top_ = bottom + sep\n",
        "            bottom_ = bottom + w + sep\n",
        "            sky += data[top_:bottom_, start:end+1]\n",
        "\n",
        "          elif top < w + sep:\n",
        "              top_ = bottom + sep\n",
        "              bottom_ = bottom + width + sep\n",
        "              sky = data[top_ : bottom_, start:end+1]\n",
        "\n",
        "          elif bottom > self.n_y - w - sep :\n",
        "            top_ = top - sep - width\n",
        "            bottom_ = top - sep\n",
        "            sky = data[top_ : bottom_, start:end+1]\n",
        "\n",
        "          fluxes.append(flux.sum(axis=0) - sky.sum(axis=0))\n",
        "\n",
        "        self.spec_width = width\n",
        "        self.phot_table = df[['ra', 'dec', 'z1', 'z2']]\n",
        "        self.phot_table['flux'] = fluxes\n",
        "\n",
        "    def cal_flux(self, flux, A=0, B=0.15):\n",
        "      \"\"\"\n",
        "        Calibrate Flux by converting flux in counts to ergs/s/cm2/A\n",
        "      \"\"\"\n",
        "      self.phot_table['flux'] = self.phot_table['flux']/self.UC"
      ]
    },
    {
      "cell_type": "markdown",
      "metadata": {
        "id": "Lw5wI3xshRjh"
      },
      "source": [
        "# **Simulator**"
      ]
    },
    {
      "cell_type": "markdown",
      "metadata": {
        "id": "Etfx09_5wV13"
      },
      "source": [
        "## **Imaging**"
      ]
    },
    {
      "cell_type": "code",
      "execution_count": 3,
      "metadata": {
        "id": "2kufoQvbGh-D"
      },
      "outputs": [
        {
          "ename": "NameError",
          "evalue": "name 'Analyzer' is not defined",
          "output_type": "error",
          "traceback": [
            "\u001b[1;31m---------------------------------------------------------------------------\u001b[0m",
            "\u001b[1;31mNameError\u001b[0m                                 Traceback (most recent call last)",
            "Cell \u001b[1;32mIn[3], line 1\u001b[0m\n\u001b[1;32m----> 1\u001b[0m \u001b[38;5;28;01mclass\u001b[39;00m \u001b[38;5;21;01mImager\u001b[39;00m(\u001b[43mAnalyzer\u001b[49m):\n\u001b[0;32m      2\u001b[0m \u001b[38;5;250m    \u001b[39m\u001b[38;5;124;03m\"\"\"Imager class uses dataframe containing position and magntidue\u001b[39;00m\n\u001b[0;32m      3\u001b[0m \u001b[38;5;124;03m    information to simulate image based on user defined telescope\u001b[39;00m\n\u001b[0;32m      4\u001b[0m \u001b[38;5;124;03m    and detector characteristics\u001b[39;00m\n\u001b[0;32m      5\u001b[0m \u001b[38;5;124;03m    \"\"\"\u001b[39;00m\n\u001b[0;32m      6\u001b[0m     \u001b[38;5;28;01mdef\u001b[39;00m \u001b[38;5;21m__init__\u001b[39m(\u001b[38;5;28mself\u001b[39m, df, coords\u001b[38;5;241m=\u001b[39m\u001b[38;5;28;01mNone\u001b[39;00m, tel_params\u001b[38;5;241m=\u001b[39m\u001b[38;5;28;01mNone\u001b[39;00m, n_x\u001b[38;5;241m=\u001b[39m\u001b[38;5;241m1000\u001b[39m,\n\u001b[0;32m      7\u001b[0m                  n_y\u001b[38;5;241m=\u001b[39m\u001b[38;5;241m1000\u001b[39m, exp_time\u001b[38;5;241m=\u001b[39m\u001b[38;5;241m100\u001b[39m, plot\u001b[38;5;241m=\u001b[39m\u001b[38;5;28;01mFalse\u001b[39;00m, user_profiles\u001b[38;5;241m=\u001b[39m\u001b[38;5;28;01mNone\u001b[39;00m):\n",
            "\u001b[1;31mNameError\u001b[0m: name 'Analyzer' is not defined"
          ]
        }
      ],
      "source": [
        "class Imager(Analyzer):\n",
        "    \"\"\"Imager class uses dataframe containing position and magntidue\n",
        "    information to simulate image based on user defined telescope\n",
        "    and detector characteristics\n",
        "    \"\"\"\n",
        "    def __init__(self, df, coords=None, tel_params=None, n_x=1000,\n",
        "                 n_y=1000, exp_time=100, plot=False, user_profiles=None):\n",
        "        \"\"\"\n",
        "        Parameters\n",
        "        ----------\n",
        "        df     : pd.DataFrame,\n",
        "                 Pandas dataframe with source catalog\n",
        "        coords : (float, float),\n",
        "                 (RA, Dec) in degrees\n",
        "        tel_params : dict,\n",
        "                     {'aperture'       : float,  cm\n",
        "                      'pixel_scale'    : float,  arcsecs/pixels\n",
        "                      'sim_file'       : fits,npy\n",
        "                      'response_funcs' : list, [filename.dat, n] where n is\n",
        "                                              number of times to multiply\n",
        "                                              filter\n",
        "                                              profile\n",
        "                      'coeffs'         : float, filter coefficients if not\n",
        "                                              response_funcs\n",
        "                      }\n",
        "        n_x      : int,\n",
        "                   number of pixels along RA direction\n",
        "        n_y      : int,\n",
        "                   number of pixels along Dec direction\n",
        "        exp_time : float\n",
        "                   Exposure time in seconds\n",
        "        \"\"\"\n",
        "        super().__init__()\n",
        "\n",
        "        # Flags\n",
        "        self.shot_noise = True\n",
        "        self.QE = True\n",
        "        self.sky = True\n",
        "        self.PRNU = True\n",
        "        self.DC = True\n",
        "        self.DCNU = True\n",
        "        self.DNFP = True\n",
        "        self.QN = True\n",
        "        self.Bias = True\n",
        "\n",
        "        # Detector\n",
        "        self.Cal0 = False\n",
        "\n",
        "        # Flux\n",
        "        self.Cal1 = False\n",
        "\n",
        "        # TBD\n",
        "        self.cosmic_rays = False\n",
        "\n",
        "        # Telescope and Detector Parameters\n",
        "        psf_file = f'{data_path}/PSF/INSIST/off_axis_hcipy.npy'\n",
        "        sky_resp = f'{data_path}/Sky_mag.dat'\n",
        "\n",
        "        self.tel_params = {'aperture': 100,  # cm\n",
        "                           'pixel_scale': 0.1,\n",
        "                           'psf_file': psf_file,\n",
        "                           'response_funcs': [],\n",
        "                           'sky_resp': sky_resp,\n",
        "                           'coeffs': 1,\n",
        "                           'theta': 0\n",
        "                           }\n",
        "\n",
        "        self.user_profiles = {\n",
        "                              'sky': None,\n",
        "                              'PRNU': None,\n",
        "                              'QE': None,\n",
        "                              'T': None,\n",
        "                              'DC': None,\n",
        "                              'DNFP': None,\n",
        "                              'Bias': None,\n",
        "                             }\n",
        "        if user_profiles is not None:\n",
        "            self.user_profiles.update(user_profiles)\n",
        "        if tel_params is not None:\n",
        "            self.tel_params.update(tel_params)\n",
        "\n",
        "        self.det_params = {\n",
        "                          'shot_noise': 'Gaussian',\n",
        "                          'M_sky': 27,\n",
        "                          'qe_response':  '',     # Wavelength dependence\n",
        "                          'qe_mean': None,        # Effective QE\n",
        "                          'bias': 35,             # electrons\n",
        "                          'G1': 1,\n",
        "                          'bit_res': 14,\n",
        "                          'RN':  5,               # elec/pix\n",
        "                          'PRNU_frac': 0.25/100,  # PRNU sigma\n",
        "                          'T': 218,               # K\n",
        "                          'DFM': 1.424e-2,        # 14.24 pA\n",
        "                          'pixel_area': 1e-6,     # cm2\n",
        "                          'DCNU': 0.1/100,        # percentage\n",
        "                          'DNFP': 0.,             # electrons\n",
        "                          'NF': 0.,               # electrons\n",
        "                          'FWC': 1.4e5,           # electrons\n",
        "                          'C_ray_r': 2/50         # hits/second\n",
        "                          }\n",
        "\n",
        "\n",
        "        self.df = df.copy()\n",
        "        self.n_x = n_x\n",
        "        self.n_y = n_y\n",
        "        self.pixel_scale = self.tel_params['pixel_scale']\n",
        "        self.theta = self.tel_params['theta']*np.pi/180\n",
        "\n",
        "        self.response_funcs = self.tel_params['response_funcs']\n",
        "        self.coeffs = self.tel_params['coeffs']\n",
        "\n",
        "        # electrons/ADUs\n",
        "        self.gain = self.det_params['FWC']/pow(2, self.det_params['bit_res'])\n",
        "        self.gain /= self.det_params['G1']\n",
        "\n",
        "        self.tel_area = np.pi*(self.tel_params['aperture']/2)**2\n",
        "\n",
        "        self.exp_time = exp_time  # seconds\n",
        "\n",
        "        self.psf_file = self.tel_params['psf_file']\n",
        "\n",
        "        self.check_df()\n",
        "\n",
        "        if coords is None:\n",
        "            self.ra = np.median(self.df['ra'])\n",
        "            self.dec = np.median(self.df['dec'])\n",
        "        else:\n",
        "            self.ra = coords[0]\n",
        "            self.dec = coords[1]\n",
        "\n",
        "        ra_n = np.round(self.ra, 3)\n",
        "        dec_n = np.round(self.dec, 3)\n",
        "        self.name = f\" RA : {ra_n} degrees, Dec : {dec_n} degrees\"\n",
        "\n",
        "        self.generate_sim_field(plot)\n",
        "\n",
        "    def generate_sim_field(self, plot):\n",
        "        \"\"\"This function creates array with FoV a bit wider\n",
        "        than user defined size for flux conservation\"\"\"\n",
        "        if self.df is not None:\n",
        "            self.calc_zp(plot=plot)\n",
        "            self.init_psf_patch()\n",
        "\n",
        "            # Cropping df to sim_field\n",
        "            x_left = self.n_pix_psf//2\n",
        "            x_right = self.n_x_sim - self.n_pix_psf//2\n",
        "            y_left = self.n_pix_psf//2\n",
        "            y_right = self.n_y_sim - self.n_pix_psf//2\n",
        "\n",
        "            self.sim_df = self.init_df(df=self.df,\n",
        "                                       n_x=self.n_x_sim, n_y=self.n_y_sim,\n",
        "                                       x_left=x_left, x_right=x_right,\n",
        "                                       y_left=y_left, y_right=y_right)\n",
        "            if len(self.sim_df) < 1:\n",
        "                print(\"Not Enough sources inside FoV. Increase n_x\\\n",
        "                                and n_y\")\n",
        "        else:\n",
        "            print(\"df cannot be None\")\n",
        "\n",
        "    def check_df(self):\n",
        "        # Input Dataframe\n",
        "        if 'mag' not in self.df.keys():\n",
        "            raise Exception(\"'mag' column not found input dataframe\")\n",
        "\n",
        "        if 'ra' not in self.df or 'dec' not in self.df.keys():\n",
        "            if 'x' in self.df.keys() and 'y' in self.df.keys():\n",
        "                print(\"Converting xy to ra-dec\")\n",
        "                self.df = self.xy_to_radec(self.df, self.n_x, self.n_y,\n",
        "                                           self.pixel_scale)\n",
        "            else:\n",
        "                raise Exception(\"'ra','dec','x',or 'y', \\\n",
        "                 columns not found in input dataframe \")\n",
        "\n",
        "    def calc_zp(self, plot=False):\n",
        "        if len(self.response_funcs) > 0:\n",
        "            wav = np.linspace(1000, 10000, 10000)\n",
        "            flux = 3631/(3.34e4*wav**2)   # AB flux\n",
        "\n",
        "\n",
        "            fig, ax, _, params = bandpass(wav, flux, self.response_funcs,\n",
        "                                          plot=plot)\n",
        "            self.fig_bp, self.ax_bp = fig, ax\n",
        "            lambda_phot, int_flux, int_flux_Jy, W_eff, flux_ratio = params\n",
        "\n",
        "            self.lambda_phot = lambda_phot\n",
        "            self.int_flux = int_flux\n",
        "            self.W_eff = W_eff\n",
        "            self.int_flux_Jy = int_flux_Jy\n",
        "            self.flux_ratio = flux_ratio\n",
        "\n",
        "            filt_dat = np.loadtxt(self.tel_params['sky_resp'])\n",
        "\n",
        "            wav = filt_dat[:, 0]\n",
        "            flux = filt_dat[:, 1]\n",
        "\n",
        "            _, _, _, params = bandpass(wav, flux, self.response_funcs,\n",
        "                                       plot=False)\n",
        "\n",
        "            int_flux = params[1]\n",
        "            self.det_params['M_sky'] = int_flux\n",
        "\n",
        "        else:\n",
        "\n",
        "            print(\"Response functions not provided. Using default values\")\n",
        "            self.int_flux_Jy = 3631\n",
        "            self.W_eff = 1000\n",
        "            self.lambda_phot = 2250\n",
        "            self.flux_ratio = 1\n",
        "\n",
        "        self.photons = 1.51e3*self.int_flux_Jy*(self.W_eff/self.lambda_phot)\n",
        "        self.photons *= self.flux_ratio\n",
        "\n",
        "        self.zero_flux = self.exp_time*self.tel_area*self.photons\n",
        "        self.zero_flux *= self.coeffs\n",
        "        self.M_sky_p = self.det_params['M_sky'] \\\n",
        "            - 2.5*np.log10(self.pixel_scale**2)\n",
        "        self.sky_bag_flux = self.zero_flux*pow(10, -0.4*self.M_sky_p)\n",
        "\n",
        "        if self.sky:\n",
        "            if self.user_profiles['sky'] is not None:\n",
        "                if self.user_profiles['sky'].shape == (self.n_x, self.n_y):\n",
        "                    self.sky_photons = self.user_profiles['sky']\n",
        "                else:\n",
        "                    raise Exception(f\"\"\"User defined sky array shape: \\\n",
        "                    {self.user_profiles['sky'].shape} \\\n",
        "                    is not same as detector shape {(self.n_x, self.n_y)}\"\"\")\n",
        "            else:\n",
        "                self.sky_photons = self.compute_shot_noise(self.sky_bag_flux)\n",
        "        else:\n",
        "            self.sky_photons = 0\n",
        "\n",
        "    def init_psf_patch(self, return_psf=False):\n",
        "        \"\"\"Creates PSF array from NPY or fits files\"\"\"\n",
        "        ext = self.psf_file.split('.')[-1]\n",
        "\n",
        "        if ext == 'npy':\n",
        "            image = np.load(self.psf_file)\n",
        "        elif ext == 'fits':\n",
        "            image = fits.open(self.psf_file)[0].data\n",
        "\n",
        "        if image.min()<0:\n",
        "          print(\"PSF data has negative values!\\n Modulus of PSF used instead\")\n",
        "          image =  abs(image)\n",
        "\n",
        "        image /= image.sum()  # Flux normalized to 1\n",
        "\n",
        "        self.psf = image\n",
        "\n",
        "        self.n_pix_psf = self.psf.shape[0]\n",
        "\n",
        "        # Defining shape of simulation field\n",
        "        self.n_x_sim = self.n_x + 2*(self.n_pix_psf-1)\n",
        "        self.n_y_sim = self.n_y + 2*(self.n_pix_psf-1)\n",
        "\n",
        "        if return_psf:\n",
        "            return image*self.zero_flux\n",
        "\n",
        "    def init_df(self, df, n_x, n_y, x_left, x_right, y_left, y_right):\n",
        "        \"\"\"Bounds sources to boundary defined by x and y limits\"\"\"\n",
        "        wcs = self.create_wcs(n_x, n_y, self.ra, self.dec,\n",
        "                              self.pixel_scale, self.theta)\n",
        "\n",
        "        coords = np.array([df['ra'], df['dec']])\n",
        "        pix = np.array(wcs.world_to_array_index_values(coords.T))\n",
        "        if len(df)<2:\n",
        "          raise print(\"Input DataFrame must have atleast 2 sources\")\n",
        "\n",
        "        df['x'] = np.flip(pix[:, 0])\n",
        "        df['y'] = np.flip(pix[:, 1])\n",
        "\n",
        "        # Cropping Dataframe based on FoV\n",
        "        x_min_cut = (df['x'] > x_left)\n",
        "        x_max_cut = (df['x'] < x_right)\n",
        "\n",
        "        df = df[x_min_cut & x_max_cut]\n",
        "\n",
        "        y_min_cut = (df['y'] > y_left)\n",
        "        y_max_cut = (df['y'] < y_right)\n",
        "\n",
        "        df = df[y_min_cut & y_max_cut]\n",
        "\n",
        "        return df\n",
        "\n",
        "    def init_image_array(self, return_img=False):\n",
        "        \"\"\"\n",
        "        Creates a base image array for adding photons\n",
        "\n",
        "        Parameters\n",
        "        ----------\n",
        "        return_img : bool, optional\n",
        "            DESCRIPTION. The default is False.\n",
        "\n",
        "        Returns\n",
        "        -------\n",
        "        numpy.ndarray\n",
        "            if return_img is true return base image array\n",
        "\n",
        "        \"\"\"\n",
        "        image = np.zeros((self.n_y_sim, self.n_x_sim))\n",
        "        wcs = self.create_wcs(self.n_x_sim, self.n_y_sim,\n",
        "                                   self.ra, self.dec, self.pixel_scale,\n",
        "                                   self.theta)\n",
        "\n",
        "        return image, wcs\n",
        "\n",
        "    def xy_to_radec(self, df, n_x, n_y, pixel_scale):\n",
        "\n",
        "        w = WCS(naxis=2)\n",
        "        w.wcs.crpix = [n_x//2, n_y//2]\n",
        "        w.wcs.cdelt = np.array([-pixel_scale/3600, pixel_scale/3600])\n",
        "        w.wcs.crval = [10, 10]\n",
        "        w.wcs.ctype = ['RA---TAN', 'DEC--TAN']\n",
        "\n",
        "        pos = np.array([df['x'], df['y']])\n",
        "        coords = np.array(w.pixel_to_world_values(pos.T))\n",
        "        df['ra'] = np.flip(coords[:, 0])\n",
        "        df['dec'] = np.flip(coords[:, 1])\n",
        "\n",
        "        return df\n",
        "\n",
        "    def create_wcs(self, n_x, n_y, ra, dec, pixel_scale, theta=0):\n",
        "        \"\"\"\n",
        "        Parameters\n",
        "        ----------\n",
        "        n_x : int\n",
        "            number of pixels in RA direction\n",
        "        n_y : int\n",
        "            number of pixels in Dec direction\n",
        "        ra : float (degrees)\n",
        "            right ascension of center of image.\n",
        "        dec : float (degrees)\n",
        "            declination of center of image.\n",
        "        pixel_scale : floats\n",
        "            arcsecs/pixel.\n",
        "\n",
        "        Returns\n",
        "        -------\n",
        "        w : wcs object\n",
        "\n",
        "        \"\"\"\n",
        "        w = WCS(naxis=2)\n",
        "        w.wcs.crpix = [n_x//2, n_y//2]\n",
        "        w.wcs.cdelt = np.array([-pixel_scale/3600, self.pixel_scale/3600])\n",
        "        w.wcs.crval = [ra, dec]\n",
        "        w.wcs.ctype = [\"RA---TAN\", \"DEC--TAN\"]\n",
        "        w.wcs.pc = np.array([[np.cos(theta), -np.sin(theta)],\n",
        "                             [np.sin(theta),  np.cos(theta)]])\n",
        "        return w\n",
        "\n",
        "    def compute_shot_noise(self, array, type_='Poisson'):\n",
        "        \"\"\"\n",
        "        Parameters\n",
        "        ----------\n",
        "        array : numpy.ndarray\n",
        "            input array\n",
        "        type_ : str, optional\n",
        "             The default is 'Poisson'.\n",
        "        Returns\n",
        "        -------\n",
        "        shot_noise : numpy.ndarray\n",
        "             Return array with shot noise\n",
        "        \"\"\"\n",
        "        if isinstance(array, np.ndarray):\n",
        "            n_x = array.shape[0]\n",
        "            n_y = array.shape[1]\n",
        "        else:\n",
        "            n_x = self.n_y\n",
        "            n_y = self.n_x\n",
        "\n",
        "        if type_ == 'Gaussian':\n",
        "            shot_noise = np.random.normal(loc=array, scale=np.sqrt(array),\n",
        "                                          size=(n_x, n_y))\n",
        "        elif type_ == 'Poisson':\n",
        "            shot_noise = np.random.poisson(lam=array,\n",
        "                                           size=(n_x, n_y)\n",
        "                                           ).astype(np.float64)\n",
        "        else:\n",
        "            print('Invalid type')\n",
        "        return shot_noise\n",
        "\n",
        "    def compute_coeff_arrays(self):\n",
        "        \"\"\"\n",
        "\n",
        "        Computed coefficients based on input parameters\n",
        "        Returns\n",
        "        -------\n",
        "        None.\n",
        "        \"\"\"\n",
        "        n_x = self.n_y\n",
        "        n_y = self.n_x\n",
        "\n",
        "         # Quantum Efficiency\n",
        "        if self.QE:\n",
        "          if self.det_params['qe_mean'] is None:\n",
        "            if os.path.exists(self.det_params['qe_response']):\n",
        "                wav = np.linspace(1000, 10000, 10000)\n",
        "                flux = 3631/(3.34e4*wav**2)   # AB flux\n",
        "\n",
        "                resp = f\"{self.det_params['qe_response']},1,100\"\n",
        "\n",
        "                _, _, _, params = bandpass(wav, flux,\n",
        "                                            [resp],\n",
        "                                            plot=False)\n",
        "\n",
        "                _, _, _, _, flux_ratio = params\n",
        "                self.det_params['qe_mean'] = flux_ratio\n",
        "            else:\n",
        "              raise Exception(\"Path does not exists!\")\n",
        "        else:\n",
        "          self.det_params['qe_mean'] = 1\n",
        "\n",
        "        # Bias\n",
        "        if self.Bias:\n",
        "          if self.user_profiles['Bias'] is not None:\n",
        "              if self.user_profiles['Bias'].shape == (n_x, n_y):\n",
        "                  self.bias_array = self.user_profiles['Bias']\n",
        "              else:\n",
        "                  raise Exception(f\"\"\"User defined Bias array shape: \\\n",
        "                  {self.user_profiles['Bias'].shape} \\\n",
        "                  is not same as detector shape {(n_x,n_y)}\"\"\")\n",
        "          else:\n",
        "              self.bias_array = np.random.normal(loc=self.det_params['bias'],\n",
        "                                                scale=self.det_params['RN'],\n",
        "                                                size=(n_x, n_y))\n",
        "        else:\n",
        "          self.bias_array = 0\n",
        "\n",
        "        # Photon Response Not Uniformity\n",
        "        if self.PRNU:\n",
        "            if self.user_profiles['PRNU'] is not None:\n",
        "                if self.user_profiles['PRNU'].shape == (n_x, n_y):\n",
        "                    self.PRNU_array = self.user_profiles['PRNU']\n",
        "                else:\n",
        "                    raise Exception(f\"\"\"User defined PRNU array shape: \\\n",
        "                    {self.user_profiles['PRNU'].shape} \\\n",
        "                    is not same as detector shape {(n_x,n_y)}\"\"\")\n",
        "            else:\n",
        "                scale = self.det_params['PRNU_frac']\n",
        "                self.PRNU_array = np.random.normal(loc=0,\n",
        "                                                   scale=scale,\n",
        "                                                   size=(n_x, n_y))\n",
        "        else:\n",
        "            self.PRNU_array = 0\n",
        "\n",
        "        # Dark Current\n",
        "        self.compute_DC()\n",
        "\n",
        "        # Quantization Noise\n",
        "        if self.QN:\n",
        "            # electrons\n",
        "            A = self.det_params['FWC']\n",
        "            B = pow(2, self.det_params['bit_res'])*np.sqrt(12)\n",
        "            self.QN_value = (A/B)\n",
        "            self.QN_array = self.QN_value*np.random.randint(-1, 2,\n",
        "                                                            size=(n_x, n_y))\n",
        "        else:\n",
        "            self.QN_array = 0\n",
        "    def compute_DC(self):\n",
        "      n_x = self.n_y\n",
        "      n_y = self.n_x\n",
        "      if self.DC:\n",
        "            if self.user_profiles['DC'] is not None:\n",
        "                if self.user_profiles['DC'].shape == (n_x, n_y):\n",
        "                    self.DR = self.user_profiles['DC']\n",
        "                else:\n",
        "                    raise Exception(f\"\"\"User defined DC array shape:\n",
        "                    {self.user_profiles['DC'].shape}\n",
        "                    is not same as detector shape {(n_x,n_y)}\"\"\")\n",
        "            else:\n",
        "                if self.user_profiles['T'] is not None:\n",
        "                    if self.user_profiles['T'].shape == (n_x, n_y):\n",
        "                        area = self.det_params['pixel_area']\n",
        "                        self.DR = self.dark_current(self.user_profiles['T'],\n",
        "                                                    self.det_params['DFM'],\n",
        "                                                    area)\n",
        "                    else:\n",
        "                        raise Exception(f\"\"\"User defined DC array shape:\n",
        "                        {self.user_profiles['DC'].shape}\n",
        "                        is not same as detector shape {(n_x,n_y)}\"\"\")\n",
        "                else:\n",
        "                    self.DR = self.dark_current(self.det_params['T'],\n",
        "                                                self.det_params['DFM'],\n",
        "                                                self.det_params['pixel_area'])\n",
        "            # Dark Current Non-uniformity\n",
        "            if self.DCNU:\n",
        "                sigma = self.det_params['DCNU']\n",
        "                self.DCNU_array = np.random.lognormal(mean=0,\n",
        "                                                      sigma=sigma,\n",
        "                                                      size=(n_x, n_y))\n",
        "                self.DR *= self.DCNU_array\n",
        "            self.DC_array = self.compute_shot_noise(self.DR*self.exp_time)\n",
        "            # Dark Current Fixed Pattern\n",
        "            if self.DNFP:\n",
        "                if self.user_profiles['DNFP'] is not None:\n",
        "                    if self.user_profiles['DNFP'].shape == (n_x, n_y):\n",
        "                        self.DNFP_array = self.user_profiles['DNFP']\n",
        "                    else:\n",
        "                        raise Exception(f\"\"\"User defined DNFP array shape:\n",
        "                                            {self.user_profiles['DNFP'].shape}\n",
        "                                is not same as detector shape {(n_x,n_y)}\"\"\")\n",
        "                else:\n",
        "                    arr = self.compute_shot_noise(self.det_params['DNFP'])\n",
        "                    self.DNFP_array = arr\n",
        "                self.DC_array += self.DNFP_array\n",
        "      else:\n",
        "          self.DR = 0\n",
        "          self.DC_array = 0\n",
        "\n",
        "    def dark_current(self, T, DFM, pixel_area):\n",
        "        \"\"\"\n",
        "          Parameters\n",
        "          ----------\n",
        "          T : float\n",
        "              Detector Temperature\n",
        "          DFM : float\n",
        "              Dark current figure of merit\n",
        "          pixel_area : float\n",
        "              Area of pixel\n",
        "\n",
        "          Returns\n",
        "          -------\n",
        "          DR : float\n",
        "              Dark current rate e/s/pixels\n",
        "        \"\"\"\n",
        "        Kb = 8.62e-5\n",
        "        const = 2.55741439581387e15\n",
        "\n",
        "        EgT = 1.1557 - (7.021e-4*T**2/(1108+T))\n",
        "        DR = const*pixel_area*(T**1.5)*DFM*np.exp(-EgT/(2*Kb*T))\n",
        "        return DR\n",
        "\n",
        "    def generate_photons(self, image, patch_width, df, zero_flux):\n",
        "        \"\"\"\n",
        "          This function creates sims based on ABmag  on a\n",
        "          small patch (2D array) of size n_pix_s*n_pix_s.\n",
        "\n",
        "          The patch with the sim is then added to the image array of size\n",
        "          n_pix_m*n_pix_m using wcs object.\n",
        "\n",
        "          Parameters\n",
        "          ----------\n",
        "          image       : numpy.ndarray\n",
        "                        base image array for inserting star sims\n",
        "          patch_width : int\n",
        "                        number of pixels (length) in sim patch image\n",
        "          df          : pandas.dataframe\n",
        "                        Dataframe containing source list\n",
        "          Returns\n",
        "          -------\n",
        "          image : numpy.ndarray\n",
        "              Array with sims added based on df\n",
        "\n",
        "        \"\"\"\n",
        "        patch_width_mid = patch_width//2\n",
        "\n",
        "        x0, y0 = df['x'].astype(int), df['y'].astype(int)\n",
        "        ABmag = df['mag'].values\n",
        "        flux = zero_flux* 10**(-ABmag/2.5)\n",
        "        patch = self.psf\n",
        "\n",
        "        x1 = x0 - patch_width_mid\n",
        "        x2 = x1 + patch_width\n",
        "        y1 = y0 - patch_width_mid\n",
        "        y2 = y1 + patch_width\n",
        "\n",
        "        for x1_, x2_, y1_, y2_, flux_ in tzip(x1, x2, y1, y2, flux):\n",
        "            image[y1_:y2_, x1_:x2_] += flux_*patch\n",
        "\n",
        "        image = image[patch_width-1:-patch_width+1,\n",
        "                      patch_width-1:-patch_width+1]\n",
        "\n",
        "        return image\n",
        "\n",
        "    def make_ccd_image(self, light_array):\n",
        "\n",
        "        # QE pixel to pixel variation | Source photoelectrons\n",
        "        self.source_photoelec = light_array*self.det_params['qe_mean']\n",
        "\n",
        "        # Photon Response (Quantum Efficiency) Non Uniformity\n",
        "        if self.PRNU:\n",
        "            self.source_photoelec *= (1+self.PRNU_array)\n",
        "\n",
        "        # Dark Current. Includes DCNU, DNFP and shot noise\n",
        "        self.photoelec_array = self.source_photoelec + self.DC_array\n",
        "\n",
        "        # Addition of Quantization error, Bias and Noise floor\n",
        "        self.charge = self.photoelec_array + self.QN_array \\\n",
        "                                           + self.det_params['NF'] \\\n",
        "                                           + self.bias_array\n",
        "\n",
        "        # Photoelec to ADUs\n",
        "        digital = np.round(self.charge/self.gain).astype(int)\n",
        "\n",
        "        # Full well condition\n",
        "        digital = np.where(digital >= pow(2, self.det_params['bit_res']),\n",
        "                           pow(2, self.det_params['bit_res']), digital)\n",
        "        return digital\n",
        "\n",
        "    @property\n",
        "    def bias_frame(self):\n",
        "      exp_time = self.exp_time\n",
        "      self.exp_time = 0\n",
        "      self.compute_DC()\n",
        "      bias = self.make_ccd_image(0)\n",
        "      self.exp_time = exp_time\n",
        "      self.compute_DC()\n",
        "      return bias\n",
        "\n",
        "    @property\n",
        "    def dark_frame(self):\n",
        "        return (self.make_ccd_image(0) - self.bias_frame)\n",
        "\n",
        "    @property\n",
        "    def flat_frame(self):\n",
        "        flat = self.make_ccd_image(100)\n",
        "        flat = flat/flat.mean()\n",
        "        return flat\n",
        "\n",
        "    def __call__(self, det_params=None, photometry='Aper', fwhm=1.5, sigma=5,\n",
        "                 detect_sources=False, ZP=None, **kwargs):\n",
        "        \"\"\"\n",
        "          Parameters\n",
        "          ----------\n",
        "          det_params: dict, optional\n",
        "          Dictionary contianing detector parameters. The default is None.\n",
        "                    {     'shot_noise' :  str,\n",
        "                          'M_sky'      :  float,\n",
        "                          'qe_mean'    :  float,  photons to photoelectrons\n",
        "                          'bias'       :  float,       electrons\n",
        "                          'G1'         :  float,\n",
        "                          'bit_res'    :  int,\n",
        "                          'RN'         :  float,       elec/pix\n",
        "                          'PRNU_frac'  :  float,       PRNU sigma\n",
        "                          'T'          :  float,       K\n",
        "                          'DFM'        :  float,       pA\n",
        "                          'pixel_area' :  float,\n",
        "                          'DCNU'       :  float        fraction\n",
        "                          'DNFP'       :  float,       electrons\n",
        "                          'NF'         :  float,       electrons\n",
        "                          'FWC'        :  float,       electrons\n",
        "                          'C_ray_r'    :  float        hits/second\n",
        "                      }\n",
        "          n_stack    : int, optional\n",
        "                      Number of observations to be stacked. The default is 1.\n",
        "\n",
        "          stack_type : str, optional\n",
        "                      Stacking method. The default is 'median'.\n",
        "          photometry : str,\n",
        "                        Type of photometry to be employed\n",
        "                        Choose from\n",
        "                        'Aper' : Aperture photometry using Photutils\n",
        "                        'PSF'  : PSF photometry using DAOPHOT\n",
        "                        None   : Simulate without photometry\n",
        "          fwhm : float, pixels\n",
        "                  During aperture photometry,\n",
        "                  fwhm corresponds to FWHM circular aperture for\n",
        "                  aperture photometry\n",
        "                  During PSF photometry,\n",
        "                  fwhm corresponds FWHM kernel to use for PSF photometry\n",
        "          sigma: float,\n",
        "                  The numbers of standard deviations above which source has to be\n",
        "                  detected\n",
        "          detect: bool,\n",
        "                  If true, DARStarFinder is used to detect sources for aperture\n",
        "                  photometry\n",
        "\n",
        "                  if false, input catalog is used for getting positions\n",
        "                  of sources for aperture photometry\n",
        "          ZP    : float,\n",
        "                  zero point of the telescope.\n",
        "                  Default None, zero point is calculated theoretically or using\n",
        "                  input catalog\n",
        "\n",
        "          Returns\n",
        "          -------\n",
        "          numpy.ndarray\n",
        "          Final image array after adding all layers of simulation\n",
        "\n",
        "        \"\"\"\n",
        "\n",
        "        if det_params is not None:\n",
        "\n",
        "            self.det_params.update(det_params)\n",
        "            A = pow(2, self.det_params['bit_res'])\n",
        "            B = self.det_params['FWC']\n",
        "\n",
        "            self.gain = B/A\n",
        "\n",
        "            self.gain /= self.det_params['G1']\n",
        "\n",
        "        image, _ = self.init_image_array()\n",
        "\n",
        "        # Source photons\n",
        "        self.source_photons = self.generate_photons(image,\n",
        "                                                    self.n_pix_psf,\n",
        "                                                    self.sim_df,\n",
        "                                                    self.zero_flux)\n",
        "        # Sky photons added to source\n",
        "        self.light_array = (self.source_photons + self.sky_photons)\n",
        "\n",
        "        # Source shot_noise\n",
        "        if self.shot_noise:\n",
        "            type_ = self.det_params['shot_noise']\n",
        "            self.light_array = self.compute_shot_noise(self.light_array,\n",
        "                                                        type_=type_)\n",
        "        # Compute Coefficient arrays\n",
        "        self.compute_coeff_arrays()\n",
        "\n",
        "        self.digital = self.make_ccd_image(self.light_array)\n",
        "\n",
        "        if self.cosmic_rays:\n",
        "            for i in range(self.n_cosmic_ray_hits):\n",
        "                x = np.random.randint(0, self.n_x_main)\n",
        "                y = np.random.randint(0, self.n_y_main)\n",
        "                self.digital[x, y] = pow(2, self.det_params['bit_res'])\n",
        "\n",
        "\n",
        "        self.wcs = self.create_wcs(self.n_x, self.n_y,\n",
        "                                   self.ra, self.dec,\n",
        "                                   self.pixel_scale, self.theta)\n",
        "\n",
        "        self.sim_flag = True\n",
        "        # Filtering out sources within Image\n",
        "        x_left = 0\n",
        "        x_right = self.n_x\n",
        "        y_left = 0\n",
        "        y_right = self.n_y\n",
        "\n",
        "        self.img_df = self.init_df(df=self.sim_df.copy(),\n",
        "                                   n_x=self.n_x, n_y=self.n_y,\n",
        "                                   x_left=x_left, x_right=x_right,\n",
        "                                   y_left=y_left, y_right=y_right)\n",
        "\n",
        "        self.header = self.wcs.to_header()\n",
        "        self.header['gain'] = (np.mean(self.det_params['G1']), 'e/ADU')\n",
        "        self.header['Temp'] = (str(np.mean(self.det_params['T'])),'K')\n",
        "        self.header['bias'] = (np.mean(self.det_params['bias']),'e')\n",
        "        self.header['RN'] = (np.mean(self.det_params['RN']),'e')\n",
        "        self.header['DR'] = (np.mean(self.DR),'e/s/pix')\n",
        "        self.header['NF'] = (np.mean(self.det_params['NF']),'e')\n",
        "        self.header['EXPTIME'] = (self.exp_time, 'seconds')\n",
        "        self.header['BUNIT'] = 'ADU'\n",
        "        self.header['CAL_LEV']= 0\n",
        "\n",
        "        if ZP is None:\n",
        "            QE = self.det_params['qe_mean']\n",
        "            zero_p_flux = self.zero_flux*QE\n",
        "            ZP = 2.5*np.log10(zero_p_flux)\n",
        "            self.ZP = ZP\n",
        "\n",
        "        if self.Cal0:\n",
        "          # Bias and Dark Correction\n",
        "          self.digital = self.digital - self.dark_frame - self.bias_frame\n",
        "          # Flat field correction\n",
        "          self.digital /= self.flat_frame\n",
        "\n",
        "          self.header['CAL_LEV']= 1\n",
        "\n",
        "        self.org_digital = self.digital.astype(float).copy()\n",
        "\n",
        "\n",
        "        self.header['ZP'] = self.ZP\n",
        "\n",
        "        super().__call__(df=self.img_df, wcs=self.wcs,\n",
        "                         data=self.digital.astype(float),\n",
        "                         photometry=photometry, fwhm=fwhm, sigma=sigma,\n",
        "                         detect_sources=detect_sources, ZP=ZP)\n",
        "\n",
        "    def add_stars(self, image_array, zero_flux, df):\n",
        "        x_size = image_array.shape[0]\n",
        "        y_size = image_array.shape[1]\n",
        "\n",
        "        patch_width = self.n_pix_psf\n",
        "        if self.n_x == x_size and self.n_y == y_size:\n",
        "          image, _ = self.init_image_array()\n",
        "\n",
        "          # Source photons\n",
        "          source_photons = self.generate_photons(image,\n",
        "                                                 self.n_pix_psf,\n",
        "                                                 df,\n",
        "                                                 zero_flux)\n",
        "          if self.shot_noise:\n",
        "                type_ = self.det_params['shot_noise']\n",
        "                source_photons = self.compute_shot_noise(source_photons,\n",
        "                                                         type_=type_)\n",
        "\n",
        "          return source_photons + image_array\n",
        "\n",
        "    def add_distortion(self, xmap, ymap):\n",
        "        \"\"\"Function for addition distortion using\n",
        "        x and y mappings\"\"\"\n",
        "        self.x_map = xmap\n",
        "        self.y_map = ymap\n",
        "        # Interpolation to be added\n",
        "        data = self.digital.astype(float).copy()\n",
        "        distorted_img = cv2.remap(data, xmap.astype(np.float32),\n",
        "                                  ymap.astype(np.float32), cv2.INTER_LANCZOS4)\n",
        "        distorted_img = distorted_img.astype(int)\n",
        "        self.digital = np.where(distorted_img > 0, distorted_img, 1)\n",
        "\n",
        "    def remove_distortion(self):\n",
        "        \"\"\"Function for returning the image to state\n",
        "        before adding distortion\"\"\"\n",
        "        # undistort to be added\n",
        "        self.digital = self.org_digital\n",
        "\n",
        "    def __del__(self):\n",
        "      for i in self.__dict__:\n",
        "        del i"
      ]
    },
    {
      "cell_type": "markdown",
      "metadata": {
        "id": "7lbuqBepwdyW"
      },
      "source": [
        "## **Mosaicing**"
      ]
    },
    {
      "cell_type": "code",
      "execution_count": null,
      "metadata": {
        "id": "5Xhw_EOawhSY"
      },
      "outputs": [],
      "source": [
        "class Mosaic(Imager):\n",
        "    \"\"\"\n",
        "    A class to split bigger images to tiles and stitch them together\n",
        "\n",
        "    \"\"\"\n",
        "\n",
        "    def __init__(self, df=None, coords=None, ras=None, decs=None,\n",
        "                 tel_params=None, exp_time=100,\n",
        "                 n_x=1000, n_y=1000, mos_n=1, mos_m=1, **kwargs):\n",
        "\n",
        "        \"\"\"\n",
        "        Analyzer.init()\n",
        "\n",
        "        Parameters\n",
        "        ----------\n",
        "        mos_n : int,\n",
        "                number of tiles in RA direction\n",
        "\n",
        "        mos_m : int,\n",
        "                number of tiles in Dec direction\n",
        "        \"\"\"\n",
        "\n",
        "        super().__init__(df=df, coords=coords, exp_time=exp_time, n_x=n_x,\n",
        "                         n_y=n_y, tel_params=tel_params, **kwargs)\n",
        "        self.n = mos_n\n",
        "        self.m = mos_m\n",
        "\n",
        "        if ras is None or decs is None:\n",
        "            self.mosaic_ra = self.ra\n",
        "            self.mosaic_dec = self.dec\n",
        "            self.mosaic_n_x = n_x\n",
        "            self.mosaic_n_y = n_y\n",
        "            self.mosaic_df = df\n",
        "            self.mosaic_wcs = self.create_wcs(self.mosaic_n_x, self.mosaic_n_y,\n",
        "                                              self.mosaic_ra, self.mosaic_dec,\n",
        "                                              self.pixel_scale)\n",
        "\n",
        "            self.df_split(df, self.n, self.m, n_x, n_y, self.mosaic_wcs)\n",
        "        else:\n",
        "            self.ras = ras\n",
        "            self.decs = decs\n",
        "\n",
        "    def df_split(self, df, n, m, n_x, n_y, wcs):\n",
        "\n",
        "        \"\"\"\n",
        "        Function to split dataframe based shape and number of tiles\n",
        "\n",
        "        Parameters\n",
        "        ----------\n",
        "        n : int,\n",
        "            number of tiles in RA direction\n",
        "\n",
        "        m : int,\n",
        "            number of tiles in Dec direction\n",
        "\n",
        "        n_x : int,\n",
        "            number of pixels in RA direction\n",
        "\n",
        "        n_y : int,\n",
        "            number of pixels in Dec direction\n",
        "        \"\"\"\n",
        "\n",
        "        x_bins = np.linspace(0, n_x, n+1)\n",
        "        y_bins = np.linspace(0, n_y, m+1)\n",
        "\n",
        "        x_cens = 0.5*(x_bins[:-1] + x_bins[1:]) - 1\n",
        "        y_cens = 0.5*(y_bins[:-1] + y_bins[1:]) - 1\n",
        "        cens = wcs.array_index_to_world_values(y_cens, x_cens)\n",
        "        ra_cens = cens[0]\n",
        "        ra_cens = np.where(np.round(ra_cens, 1) == 360, ra_cens - 360, ra_cens)\n",
        "        dec_cens = cens[1]\n",
        "\n",
        "        self.ras = ra_cens\n",
        "        self.decs = dec_cens\n",
        "        self.filenames = []\n",
        "\n",
        "    def __call__(self, det_params=None, tel_params=None,\n",
        "                 n_stack=1, stack_type='median',\n",
        "                 photometry=True, fwhm=None):\n",
        "        \"\"\"\n",
        "          Imager.call()\n",
        "\n",
        "          Calls the Imager class iteratively to generate image tiles\n",
        "          and stitches the tiles together\n",
        "\n",
        "          det_params: list\n",
        "                      list of det_params with same shape as the mosaic\n",
        "\n",
        "          tel_params: list\n",
        "                      list of tel_params with same shape as the mosaic\n",
        "\n",
        "        \"\"\"\n",
        "        # Flags\n",
        "        n_x = self.n_x//self.n + 50\n",
        "        n_y = self.n_y//self.m + 50\n",
        "\n",
        "        det_params_ = None\n",
        "        tel_params_ = self.tel_params\n",
        "\n",
        "        for i in range(self.n):\n",
        "            for j in range(self.m):\n",
        "\n",
        "                df = self.mosaic_df\n",
        "                coords = (self.ras[i], self.decs[j])\n",
        "                exp_time = self.exp_time\n",
        "\n",
        "                if tel_params is not None:\n",
        "                  tel_params_ = tel_params[i][j]\n",
        "\n",
        "                if det_params is not None:\n",
        "                  det_params_ = det_params[i][j]\n",
        "\n",
        "                super().__init__(df=df, coords=coords, exp_time=exp_time,\n",
        "                                 n_x=n_x,\n",
        "                                 n_y=n_y,\n",
        "                                 tel_params=tel_params)\n",
        "\n",
        "                super().__call__(det_params=det_params_, n_stack=n_stack,\n",
        "                                 stack_type=stack_type, photometry=None)\n",
        "\n",
        "                self.writeto(f'{i}{j}_mosaic.fits')\n",
        "                self.filenames.append(f'{i}{j}_mosaic.fits')\n",
        "\n",
        "    def make_mosaic(self):\n",
        "        hdus = []\n",
        "        for fil in self.filenames:\n",
        "            hdu = fits.open(fil)[0]\n",
        "            hdus.append(hdu)\n",
        "\n",
        "        wcs_out, shape_out = find_optimal_celestial_wcs(hdus, frame='icrs',\n",
        "                                                        auto_rotate=True)\n",
        "\n",
        "        array, fp = reproject_and_coadd(hdus,\n",
        "                                        wcs_out, shape_out=(shape_out),\n",
        "                                        reproject_function=reproject_interp)\n",
        "\n",
        "        self.wcs = wcs_out\n",
        "        self.digital = array\n",
        "        self.footprint = fp"
      ]
    },
    {
      "cell_type": "markdown",
      "metadata": {
        "id": "1PipURBhwd1u"
      },
      "source": [
        "## **Spectroscopy**"
      ]
    },
    {
      "cell_type": "code",
      "execution_count": null,
      "metadata": {
        "id": "EKOD3TaHwkxz"
      },
      "outputs": [],
      "source": [
        "class Spectrograph(Imager, Analyzer, SpecAnalyzer):\n",
        "    \"\"\"Class for simulating Spectra\"\"\"\n",
        "    def __init__(self, df, coords=None, tel_params={}, n_x=1000,\n",
        "                 n_y=1000, exp_time=100, plot=False, user_profiles={},\n",
        "                 **kwargs):\n",
        "\n",
        "        if torch.cuda.is_available():\n",
        "            self.device = 'cuda'\n",
        "        else:\n",
        "            self.device = 'cpu'\n",
        "        self.tel_params = tel_params\n",
        "        bin_min = self.tel_params['lambda1'] - self.tel_params['dellambda']/2\n",
        "        bin_max = self.tel_params['lambda2'] + self.tel_params['dellambda']\n",
        "        step = self.tel_params['dellambda']\n",
        "        self.bins = np.arange(bin_min, bin_max, step)\n",
        "\n",
        "        self.spec_bins = 0.5*(self.bins[1:] + self.bins[:-1])\n",
        "        if len(self.spec_bins)%2==0:\n",
        "          raise Exception(\"\"\"Spectroscopy bins need to be odd in number\n",
        "                             Increase lambda2\"\"\")\n",
        "\n",
        "        self.interpolate_mult = 3\n",
        "\n",
        "        super().__init__(df, coords, tel_params, n_x, n_y, exp_time, plot,\n",
        "                         user_profiles, **kwargs)\n",
        "\n",
        "        self.sim_df = redshift_corr(self.sim_df)\n",
        "        self.QE = False\n",
        "\n",
        "    def check_df(self):\n",
        "\n",
        "        if 'flux' not in self.df.keys() or 'wav' not in self.df.keys():\n",
        "            raise Exception(\"'flux' or 'wav' column not found input dataframe\")\n",
        "\n",
        "        if 'ra' not in self.df.keys() or 'dec' not in self.df.keys():\n",
        "            if 'x' in self.df.keys() and 'y' in self.df.keys():\n",
        "                print(\"Converting xy to ra-dec\")\n",
        "                self.df = self.xy_to_radec(self.df, self.n_x, self.n_y,\n",
        "                                           self.pixel_scale)\n",
        "            else:\n",
        "                raise Exception(\"'ra','dec','x',or 'y', \\\n",
        "                 columns not found in input dataframe \")\n",
        "\n",
        "    def generate_sim_field(self, plot):\n",
        "        if self.df is not None:\n",
        "            self.calc_zp(plot=plot)\n",
        "            self.init_psf_patch()\n",
        "            spec_corr = len(self.spec_bins)//2\n",
        "\n",
        "            x_left  = spec_corr + self.n_pix_psf\n",
        "            x_right = self.n_x_sim - spec_corr  - self.n_pix_psf\n",
        "            y_left  = self.n_pix_psf\n",
        "            y_right = self.n_y_sim - self.n_pix_psf - 1\n",
        "\n",
        "            self.sim_df = self.init_df(df=self.df,\n",
        "                                       n_x=self.n_x_sim, n_y=self.n_y_sim,\n",
        "                                       x_left=x_left, x_right=x_right,\n",
        "                                       y_left=y_left, y_right=y_right)\n",
        "        else:\n",
        "            print(\"df cannot be None\")\n",
        "\n",
        "    def calc_zp(self, plot=False):\n",
        "        if len(self.response_funcs) > 0:\n",
        "\n",
        "            wav = np.linspace(1200, 3200, 20000)\n",
        "            flux = 3631/(3.34e4*wav**2)   # AB flux\n",
        "\n",
        "            fig, ax, data, params = bandpass(wav, flux, self.response_funcs,\n",
        "                                        plot=plot)\n",
        "\n",
        "            lambda_, _, Reff = data\n",
        "            lambda_phot, int_flux, int_flux_Jy, W_eff, flux_ratio = params\n",
        "\n",
        "            self.lambda_phot = lambda_phot\n",
        "            self.int_flux = int_flux\n",
        "            self.W_eff = W_eff\n",
        "            self.int_flux_Jy = int_flux_Jy\n",
        "            self.flux_ratio = flux_ratio\n",
        "\n",
        "            self.Reff = self.bin_xy_norm(lambda_, Reff)\n",
        "\n",
        "            self.flux_coeffs = self.Reff.copy()\n",
        "            self.flux_coeffs *= self.exp_time*self.coeffs*self.tel_area\n",
        "\n",
        "            filt_dat = np.loadtxt(self.tel_params['sky_resp'])\n",
        "\n",
        "            wav = filt_dat[:, 0]\n",
        "            flux = filt_dat[:, 1]\n",
        "\n",
        "            _, _, _, params = bandpass(wav, flux, self.response_funcs,\n",
        "                                       plot=False)\n",
        "\n",
        "            int_flux = params[1]\n",
        "            self.det_params['M_sky'] = int_flux\n",
        "        else:\n",
        "\n",
        "            print(\"Response functions not provided. Using default values\")\n",
        "            self.int_flux_Jy = 3631\n",
        "            self.W_eff = 1000\n",
        "            self.lambda_phot = 2250\n",
        "            self.flux_ratio = 1\n",
        "\n",
        "        self.photons = 1.51e3*self.int_flux_Jy*(self.W_eff/self.lambda_phot)\n",
        "        self.photons *= self.flux_ratio\n",
        "\n",
        "        self.zero_flux = self.exp_time*self.tel_area*self.photons\n",
        "        self.zero_flux *= self.coeffs\n",
        "        self.M_sky_p = self.det_params['M_sky'] \\\n",
        "            - 2.5*np.log10(self.pixel_scale**2)\n",
        "\n",
        "\n",
        "        self.sky_bag_flux = self.zero_flux*pow(10, -0.4*self.M_sky_p)\n",
        "\n",
        "        # Unit Conversion\n",
        "        self.UC = 1.51e3*(self.tel_params['dellambda']/self.spec_bins)\n",
        "        self.UC *= self.flux_coeffs\n",
        "\n",
        "        if self.sky:\n",
        "            if self.user_profiles['sky'] is not None:\n",
        "                if self.user_profiles['sky'].shape == (self.n_x, self.n_y):\n",
        "                    self.sky_photons = self.user_profiles['sky']\n",
        "                else:\n",
        "                    raise Exception(f\"\"\"User defined sky array shape: \\\n",
        "                    {self.user_profiles['sky'].shape} \\\n",
        "                    is not same as detector shape {(self.n_x, self.n_y)}\"\"\")\n",
        "            else:\n",
        "                self.sky_photons = self.compute_shot_noise(self.sky_bag_flux)\n",
        "        else:\n",
        "            self.sky_photons = 0\n",
        "\n",
        "    def init_MOS_df(self, L, B, PA, l, df):\n",
        "      delta = np.arctan(B/L)\n",
        "      d = np.sqrt(L**2 + B**2)/2\n",
        "      om = PA - delta\n",
        "\n",
        "      x_corr = self.n_x_sim//2 - d*np.cos(om) - l/2\n",
        "      y_corr = self.n_y_sim//2 - d*np.sin(om) - B*np.cos(PA)\n",
        "\n",
        "      t = df.copy()\n",
        "      x0 = B*np.sin(PA) + l/2 + x_corr\n",
        "      y0 = y_corr\n",
        "      t = t[t['y'] > np.tan(PA)*(t['x'] - x0) + y0]\n",
        "\n",
        "      x0 = l/2 + x_corr\n",
        "      y0 = B*np.cos(PA) + y_corr\n",
        "      t = t[t['y'] < np.tan(PA)*(t['x'] - x0) + y0]\n",
        "\n",
        "      x0 = l/2 + x_corr\n",
        "      y0 =  B*np.cos(PA) + y_corr\n",
        "      t = t[t['x'] > -np.tan(PA)*(t['y'] - y0) + x0]\n",
        "\n",
        "      x0 = L*np.cos(PA) + l/2 + x_corr\n",
        "      y0 = B*np.cos(PA) + L*np.sin(PA) + y_corr\n",
        "      t = t[t['x'] < -np.tan(PA)*(t['y'] - y0) + x0]\n",
        "\n",
        "      return t\n",
        "\n",
        "    def init_MOS(self,L,B,PA):\n",
        "      PA *= np.pi/180\n",
        "      l = len(self.spec_bins)\n",
        "      x_size, y_size = calc_mos_size(L,B,PA,l)\n",
        "      if x_size<self.n_x and y_size<self.n_y:\n",
        "        self.L = L\n",
        "        self.B = B\n",
        "        self.PA = PA\n",
        "\n",
        "        self.sim_df = self.init_MOS_df(L, B, PA, l, self.sim_df)\n",
        "        self.sim_df['objid'] = np.arange(0,len(self.sim_df),1)\n",
        "      else:\n",
        "        print(f\"\"\"n_x should be greater than {x_size} \\n\n",
        "                n_y should be greater than {y_size}\"\"\")\n",
        "\n",
        "    def select_MOS_sources(self, df=None, ids=[], radius=5, min_sep=8):\n",
        "      if df is None:\n",
        "        df = self.sim_df\n",
        "\n",
        "      x = df['x'].value\n",
        "      y = df['y'].value\n",
        "\n",
        "      cen_x = x[np.argmin(abs(x-np.mean(x)))]\n",
        "      cen_y = y[np.argmin(abs(y-np.mean(y)))]\n",
        "\n",
        "      mos_df, res_df, cen_x, cen_y = select_mos(df[['objid','x','y']].to_pandas()\n",
        "                                                ,cen_x, cen_y, ids, radius,\n",
        "                                                min_sep, self.n_y_sim)\n",
        "      t = []\n",
        "      for id in mos_df['objid']:\n",
        "        t.append(df[df['objid']==id])\n",
        "\n",
        "      mos_df = vstack(t)\n",
        "      self.sim_df = mos_df\n",
        "\n",
        "      t = []\n",
        "      for id in res_df['objid']:\n",
        "        t.append(df[df['objid']==id])\n",
        "\n",
        "      res_df = vstack(t)\n",
        "\n",
        "      return mos_df, res_df, cen_x, cen_y\n",
        "\n",
        "    def init_psf_patch(self, return_psf=False, plot=False):\n",
        "\n",
        "        ext = self.psf_file.split('.')[-1]\n",
        "\n",
        "        if ext == 'npy':\n",
        "            image = np.load(self.psf_file)\n",
        "        elif ext == 'fits':\n",
        "            image = fits.open(self.psf_file)[0].data\n",
        "\n",
        "        image /= image.sum()  # Flux normalized to 1\n",
        "\n",
        "        self.psf = image\n",
        "\n",
        "        self.n_pix_psf = self.psf.shape[0]\n",
        "\n",
        "        spec_corr = len(self.spec_bins) + 1\n",
        "        self.n_x_sim = self.n_x + spec_corr + 2*(self.n_pix_psf-1)\n",
        "        self.n_y_sim = self.n_y + 2*(self.n_pix_psf-1)\n",
        "\n",
        "        if return_psf:\n",
        "            return image*self.zero_flux\n",
        "\n",
        "\n",
        "    def init_image_array(self, return_img=False):\n",
        "        \"\"\"\n",
        "        Creates a base image array for adding photons\n",
        "\n",
        "        Parameters\n",
        "        ----------\n",
        "        return_img : bool, optional\n",
        "            DESCRIPTION. The default is False.\n",
        "\n",
        "        Returns\n",
        "        -------\n",
        "        numpy.ndarray\n",
        "            if return_img is true return base image array\n",
        "\n",
        "        \"\"\"\n",
        "        image = np.zeros((self.n_y_sim, self.n_x_sim))\n",
        "        self.mask = np.zeros((self.n_y_sim, self.n_x_sim))\n",
        "        wcs = self.create_wcs(self.n_x_sim, self.n_y_sim,\n",
        "                                   self.ra, self.dec, self.pixel_scale,\n",
        "                                   self.theta)\n",
        "\n",
        "        return image, wcs\n",
        "\n",
        "    def bin_xy(self, x, y):\n",
        "      step = self.tel_params['dellambda']/self.interpolate_mult\n",
        "      x_new = np.arange(x.min(), x.max(), step)\n",
        "      y_new = np.interp(x_new, x, y)\n",
        "      x,y = x_new, y_new\n",
        "\n",
        "      x_new = self.bins\n",
        "\n",
        "      bin_indices = np.digitize(x, x_new)\n",
        "      binned_y = []\n",
        "      for i in range(1,len(x_new)):\n",
        "        if i in bin_indices:\n",
        "          binned_y.append(y[bin_indices == i].mean())\n",
        "        else:\n",
        "          raise Exception(\"\"\"Interpolation Error.\n",
        "                         Increase interpolate_mult\"\"\")\n",
        "\n",
        "      return np.array(binned_y)\n",
        "\n",
        "    def bin_xy_norm(self, x, y):\n",
        "      step = self.tel_params['dellambda']/self.interpolate_mult\n",
        "      x_new = np.arange(x.min(), x.max(), step)\n",
        "      y_new = np.interp(x_new, x, y)\n",
        "      x,y = x_new, y_new\n",
        "\n",
        "      x_new = self.bins\n",
        "\n",
        "      bin_indices = np.digitize(x, x_new)\n",
        "      binned_y = []\n",
        "      for i in range(1,len(x_new)):\n",
        "        if i in bin_indices:\n",
        "          binned_y.append(np.median(y[bin_indices == i]))\n",
        "        else:\n",
        "          raise Exception(\"\"\"Interpolation Error. \\\n",
        "          Increase interpolate_mult\"\"\")\n",
        "\n",
        "      return np.array(binned_y)\n",
        "\n",
        "    def generate_photons(self, image, patch_width, df):\n",
        "        \"\"\"\n",
        "        This function creates sims based on ABmag  on a\n",
        "        small patch (2D array) of size n_pix_s*n_pix_s.\n",
        "\n",
        "        The patch with the sim is then added to the image array of size\n",
        "        n_pix_m*n_pix_m using wcs object.\n",
        "\n",
        "        Parameters\n",
        "        ----------\n",
        "        image       : numpy.ndarray\n",
        "                    base image array for inserting star sims\n",
        "        patch_width : int\n",
        "                    number of pixels (length) in sim patch image\n",
        "        df          : pandas.dataframe\n",
        "                    Dataframe containing source list\n",
        "\n",
        "\n",
        "        Returns\n",
        "        -------\n",
        "        image : numpy.ndarray\n",
        "            Array with sims added based on df\n",
        "\n",
        "        \"\"\"\n",
        "        patch_width_mid = patch_width//2\n",
        "        disp_width = len(self.spec_bins)\n",
        "        disp_width_mid = disp_width//2\n",
        "\n",
        "        patch = self.psf\n",
        "        device = self.device\n",
        "\n",
        "        # Convert to tensor once, before the loop\n",
        "        image = torch.tensor(image, dtype=torch.float32, device=device)\n",
        "        dl = self.tel_params['dellambda']\n",
        "        l = self.spec_bins\n",
        "\n",
        "\n",
        "        x0 = df['x'].value.astype(int)\n",
        "        y0 = df['y'].value.astype(int)\n",
        "\n",
        "        x1 = x0 - patch_width_mid - disp_width_mid -1\n",
        "        x2 = x1 + patch_width + disp_width -1\n",
        "        y1 = y0 - patch_width_mid\n",
        "        y2 = y1 + patch_width\n",
        "\n",
        "        fluxes = []\n",
        "\n",
        "        for row in df:\n",
        "            x = row['wav']\n",
        "            y = row['flux']\n",
        "            fluxes.append(self.bin_xy(x,y))\n",
        "\n",
        "        for x1_, x2_, y1_, y2_, flux in zip(x1, x2, y1, y2, fluxes):\n",
        "\n",
        "            flux *= l**2*3.34e4\n",
        "            flux *= 1.51e3*self.flux_coeffs*(dl/l)\n",
        "            flux = torch.tensor(flux, dtype=torch.float32, device=device)\n",
        "\n",
        "            # Generating star using sim\n",
        "\n",
        "            data = torch.tensor(flux, dtype=torch.float32, device=device)\n",
        "            data = data.view(1, 1, 1, -1)\n",
        "            kernel = torch.tensor(patch, dtype=torch.float32, device=device)\n",
        "            kernel = kernel.view(1, 1, patch_width, patch_width)\n",
        "            spectrum = F.conv2d(data, kernel, padding=patch_width-1)\n",
        "\n",
        "            image[y1_:y2_, x1_:x2_] += spectrum.squeeze()\n",
        "            y0 = y1_ + patch_width_mid\n",
        "            self.mask[y0 - 3:y0 + 4, x1_:x2_] += 0.5\n",
        "\n",
        "            # Empty GPU cache after each iteration\n",
        "            torch.cuda.empty_cache()\n",
        "\n",
        "        # Convert to numpy array once, outside of the loop\n",
        "        image = image.detach().cpu().numpy()\n",
        "        spec_corr = (len(self.spec_bins) + 1)//2\n",
        "        image = image[patch_width-1:-patch_width+1,  # Cropping Image\n",
        "                      patch_width+disp_width_mid-1:-disp_width_mid-patch_width-1]\n",
        "        return image\n",
        "\n",
        "    def __call__(self, det_params=None, n_stack=1, stack_type='median',\n",
        "                 spectroscopy=True, fwhm=None, detect_sources=False, spec_width=50,\n",
        "                 sky_sep = 5):\n",
        "\n",
        "        zero_p_flux = self.zero_flux\n",
        "        zero_p_flux *= self.gain\n",
        "        ZP = 2.5*np.log10(zero_p_flux)\n",
        "        self.ZP = ZP\n",
        "        self.UC *= self.gain\n",
        "        self.UC *= 3.34e4*sim_spec.spec_bins**2\n",
        "        super().__call__(det_params=det_params, n_stack=n_stack,\n",
        "                         photometry=None, stack_type=stack_type, ZP=1)\n",
        "\n",
        "        if spectroscopy:\n",
        "          self.extract(data=self.digital.copy(), wcs=self.wcs, df=self.img_df,\n",
        "                      width=spec_width, sep=sky_sep)"
      ]
    },
    {
      "cell_type": "markdown",
      "metadata": {
        "id": "GZEqzWuwGKh8"
      },
      "source": [
        "## **GaSP**"
      ]
    },
    {
      "cell_type": "code",
      "execution_count": null,
      "metadata": {
        "id": "u1CSoq2BGLD1"
      },
      "outputs": [],
      "source": [
        "class Galaxy(Imager):\n",
        "  \"\"\"Class for simulating Spectra\"\"\"\n",
        "  def __init__(self, df, coords=None, tel_params={}, n_x=1000,\n",
        "                n_y=1000, exp_time=100, plot=False, user_profiles={},\n",
        "                **kwargs):\n",
        "    self.gal_width = n_x if n_x>=n_y else n_y\n",
        "    super().__init__(df, coords, tel_params, n_x, n_y, exp_time, plot,\n",
        "                      user_profiles, **kwargs)\n",
        "\n",
        "  def generate_sim_field(self, plot):\n",
        "      \"\"\"This function creates array with FoV a bit wider\n",
        "      than user defined size for flux conservation\"\"\"\n",
        "      if self.df is not None:\n",
        "          self.calc_zp(plot=plot)\n",
        "          self.init_psf_patch()\n",
        "\n",
        "          # Cropping df to sim_field\n",
        "          x_left = self.n_pix_psf//2 + self.gal_width//2\n",
        "          x_right = self.n_x_sim - self.n_pix_psf//2 - self.gal_width//2\n",
        "          y_left = self.n_pix_psf//2 + self.gal_width//2\n",
        "          y_right = self.n_y_sim - self.n_pix_psf//2 - self.gal_width//2\n",
        "\n",
        "          self.sim_df = self.init_df(df=self.df,\n",
        "                                      n_x=self.n_x_sim, n_y=self.n_y_sim,\n",
        "                                      x_left=x_left, x_right=x_right,\n",
        "                                      y_left=y_left, y_right=y_right)\n",
        "          if len(self.sim_df) < 1:\n",
        "              print(\"Not Enough sources inside FoV. Increase n_x\\\n",
        "                              and n_y\")\n",
        "      else:\n",
        "          print(\"df cannot be None\")\n",
        "\n",
        "  def check_df(self):\n",
        "      # Input Dataframe\n",
        "      if 'mag' not in self.df.keys():\n",
        "          raise Exception(\"'mag' column not found input dataframe\")\n",
        "\n",
        "      if 'ra' not in self.df or 'dec' not in self.df.keys():\n",
        "          if 'x' in self.df.keys() and 'y' in self.df.keys():\n",
        "              print(\"Converting xy to ra-dec\")\n",
        "              self.df.x = self.df.x + 2\n",
        "              self.df.y = self.df.y + 2\n",
        "              self.df = self.xy_to_radec(self.df, self.n_x, self.n_y,\n",
        "                                          self.pixel_scale)\n",
        "          else:\n",
        "              raise Exception(\"'ra','dec','x',or 'y', \\\n",
        "                columns not found in input dataframe \")\n",
        "\n",
        "  def init_psf_patch(self, return_psf=False):\n",
        "      \"\"\"Creates PSF array from NPY or fits files\"\"\"\n",
        "      ext = self.psf_file.split('.')[-1]\n",
        "\n",
        "      if ext == 'npy':\n",
        "          image = np.load(self.psf_file)\n",
        "      elif ext == 'fits':\n",
        "          image = fits.open(self.psf_file)[0].data\n",
        "\n",
        "      image /= image.sum()  # Flux normalized to 1\n",
        "      self.psf = image\n",
        "\n",
        "      self.n_pix_psf = self.psf.shape[0]\n",
        "\n",
        "      # Defining shape of simulation field\n",
        "      self.n_x_sim = self.n_x + 2*self.gal_width\n",
        "      self.n_y_sim = self.n_y + 2*self.gal_width\n",
        "\n",
        "      if return_psf:\n",
        "          return image*self.zero_flux\n",
        "  def generate_photons(self, image, patch_width, df):\n",
        "\n",
        "    psf_array = self.psf\n",
        "    psf = galsim.Image(psf_array.shape[0], psf_array.shape[1])\n",
        "    psf.array[:,:] = psf_array\n",
        "\n",
        "    psf = galsim.InterpolatedImage(psf, scale = sim.pixel_scale)\n",
        "\n",
        "    for i, row in df.iterrows():\n",
        "      # Bulge\n",
        "      flux  = self.zero_flux*10**(-0.4*row['bulge_M'])  # total counts on the image\n",
        "      rhalf = row['bulge_Re']/self.pixel_scale\n",
        "\n",
        "      gal = galsim.Sersic(row['bulge_n'],flux=flux, half_light_radius=rhalf)\n",
        "\n",
        "      ellipticity = galsim.Shear(  q=row['bulge_ba'],\n",
        "                                beta=row['bulge_pa']*galsim.degrees)\n",
        "\n",
        "      gal = gal.shear(ellipticity)\n",
        "\n",
        "      bulge = galsim.Convolve([gal, psf])\n",
        "\n",
        "      # Bar\n",
        "      flux  = self.zero_flux*10**(-0.4*row['bar_M'])  # total counts on the image\n",
        "      rhalf = row['bar_Re']/self.pixel_scale # arcsec\n",
        "\n",
        "      gal  = galsim.Sersic(row['bar_n'],flux=flux, half_light_radius=rhalf)\n",
        "\n",
        "      ellipticity = galsim.Shear(   q=row['bar_ba'],\n",
        "                                 beta=row['bar_pa']*galsim.degrees)\n",
        "      gal = gal.shear(ellipticity)\n",
        "\n",
        "      bar = galsim.Convolve([gal, psf])\n",
        "\n",
        "\n",
        "      # Disk\n",
        "      flux  = self.zero_flux*10**(-0.4*row['disk_M'])  # total counts on the image\n",
        "      rhalf = row['disk_Re']/self.pixel_scale # arcsec\n",
        "\n",
        "      gal     = galsim.Sersic(row['disk_n'],flux=flux, half_light_radius=rhalf)\n",
        "\n",
        "      ellipticity = galsim.Shear(   q=row['disk_ba'],\n",
        "                                 beta=row['disk_pa']*galsim.degrees)\n",
        "      gal = gal.shear(ellipticity)\n",
        "\n",
        "      disk   = galsim.Convolve([gal, psf])\n",
        "\n",
        "      final = galsim.Add(bulge, bar, disk)\n",
        "      bounds = galsim.BoundsI(1, self.gal_width, 1, self.gal_width)\n",
        "      final = final.drawImage(scale=sim.pixel_scale, bounds=bounds)\n",
        "\n",
        "      galaxy_img = final.array\n",
        "\n",
        "      x0 = int(row['x'])\n",
        "      y0 = int(row['y'])\n",
        "\n",
        "      x1 = x0 - self.gal_width//2\n",
        "      x2 = x1 + self.gal_width\n",
        "      y1 = y0 - self.gal_width//2\n",
        "      y2 = y1 + self.gal_width\n",
        "\n",
        "      image[y1:y2, x1:x2] += galaxy_img\n",
        "\n",
        "    image = image[self.gal_width:-self.gal_width,\n",
        "                  self.gal_width:-self.gal_width]\n",
        "    return image\n",
        "\n",
        "    def __call__(self, det_params=None, n_stack=1, stack_type='median',\n",
        "                 photometry=None, fwhm=None, detect_sources=False, **kwargs):\n",
        "        self.ZP = 1\n",
        "        super().__call__(det_params=det_params, n_stack=n_stack,\n",
        "                         photometry=None,\n",
        "                         stack_type=stack_type, ZP=1,**kwargs)"
      ]
    },
    {
      "cell_type": "markdown",
      "metadata": {
        "id": "1cysdch7wmBr"
      },
      "source": [
        "# **Testing**"
      ]
    },
    {
      "cell_type": "markdown",
      "metadata": {
        "id": "t5_avb2_uIvQ"
      },
      "source": [
        "## **Utils**\n"
      ]
    },
    {
      "cell_type": "markdown",
      "metadata": {
        "id": "oDDOKbaUtlvf"
      },
      "source": [
        "### **Bandpass**"
      ]
    },
    {
      "cell_type": "markdown",
      "metadata": {
        "id": "BzZg5wVYiyYe"
      },
      "source": [
        "https://www.stsci.edu/files/live/sites/www/files/home/hst/instrumentation/wfc3/documentation/instrument-science-reports-isrs/_documents/2021/WFC3_ISR_2021-04.pdf"
      ]
    },
    {
      "cell_type": "code",
      "execution_count": null,
      "metadata": {
        "id": "MUk-6LFuuYQ1"
      },
      "outputs": [],
      "source": [
        "wav = np.arange(1000,3000,1)\n",
        "flux = 3631/(wav**2*3.34e4)\n",
        "inputs = [  '/content/INSIST/data/UVIT/filters/Astrosat_UVIT.F148W.dat,1,1',\n",
        "        ]"
      ]
    },
    {
      "cell_type": "code",
      "execution_count": null,
      "metadata": {
        "id": "sOLd7Vf5uLTk"
      },
      "outputs": [],
      "source": [
        "fig, ax = plt.subplots(figsize = (15,8))\n",
        "fig, ax, data, params = bandpass(wav, flux ,  inputs, True, fig, ax)\n",
        "ax.set_xlim(1000,3000)"
      ]
    },
    {
      "cell_type": "code",
      "execution_count": null,
      "metadata": {
        "id": "rdjjXUATcRNb"
      },
      "outputs": [],
      "source": [
        "lambda_, conv_flux, Reff = data"
      ]
    },
    {
      "cell_type": "code",
      "execution_count": null,
      "metadata": {
        "id": "5XQUNA9puLWD"
      },
      "outputs": [],
      "source": [
        "lambda_phot, int_flux, int_flux_Jy, W_eff, flux_ratio  = params\n",
        "\n",
        "tel_area = 1# np.pi*(240/2)**2\n",
        "photons = 1.51e3*int_flux_Jy*(W_eff/lambda_phot)*tel_area*flux_ratio"
      ]
    },
    {
      "cell_type": "code",
      "execution_count": null,
      "metadata": {
        "id": "coZY3Lt212N8"
      },
      "outputs": [],
      "source": [
        "zp = 2.5*np.log10(photons)\n",
        "zp"
      ]
    },
    {
      "cell_type": "code",
      "execution_count": null,
      "metadata": {
        "id": "XQs45qF3jU7U"
      },
      "outputs": [],
      "source": [
        "assert np.round(zp,2)==18.06"
      ]
    },
    {
      "cell_type": "code",
      "execution_count": null,
      "metadata": {
        "id": "q4kWirI_l6H_"
      },
      "outputs": [],
      "source": [
        "assert round(int_flux_Jy,0) == 3631"
      ]
    },
    {
      "cell_type": "markdown",
      "metadata": {
        "id": "kxjbAlnxyCXL"
      },
      "source": [
        "### **Generate PSF**"
      ]
    },
    {
      "cell_type": "code",
      "execution_count": null,
      "metadata": {
        "id": "aMwH3HWeyFYY"
      },
      "outputs": [],
      "source": [
        "params = {'sigma_x' : 0.8,\n",
        "          'sigma_y' : 0.8,\n",
        "          'gamma' : 1,\n",
        "          'alpha' : 1}"
      ]
    },
    {
      "cell_type": "code",
      "execution_count": null,
      "metadata": {
        "id": "bf_A44K7y7zJ"
      },
      "outputs": [],
      "source": [
        "psf = generate_psf(101, params, 'Gaussian')\n",
        "assert len(psf) == 101\n",
        "psf = generate_psf(101, params, 'Moffat')\n",
        "assert len(psf) == 101"
      ]
    },
    {
      "cell_type": "markdown",
      "metadata": {
        "id": "YQdKCb2Xz-j6"
      },
      "source": [
        "### **Redshift Correction**"
      ]
    },
    {
      "cell_type": "code",
      "execution_count": null,
      "metadata": {
        "id": "u4nMGWYo0Twj"
      },
      "outputs": [],
      "source": [
        "wav = np.linspace(1500, 3000, 6000)\n",
        "flux = models.Gaussian1D(1, 2250, 10)(wav)"
      ]
    },
    {
      "cell_type": "code",
      "execution_count": null,
      "metadata": {
        "id": "LxG1aio10T8u"
      },
      "outputs": [],
      "source": [
        "tab = Table()\n",
        "tab['wav'] = [wav]\n",
        "tab['flux'] = [flux]\n",
        "tab['z1'] = 1\n",
        "tab['z2'] = 1.1"
      ]
    },
    {
      "cell_type": "code",
      "execution_count": null,
      "metadata": {
        "id": "PNAMpLRX0T_9"
      },
      "outputs": [],
      "source": [
        "tab_out = redshift_corr(tab)"
      ]
    },
    {
      "cell_type": "code",
      "execution_count": null,
      "metadata": {
        "id": "Y1NwVtRr1ZV0"
      },
      "outputs": [],
      "source": [
        "wav_n = tab_out['wav'][0]\n",
        "flux_n = tab_out['flux'][0]"
      ]
    },
    {
      "cell_type": "code",
      "execution_count": null,
      "metadata": {
        "id": "bHoq2qIe2TE2"
      },
      "outputs": [],
      "source": [
        "l0 = wav[np.where(flux==flux.max())[0][0]]\n",
        "l1 = wav_n[np.where(flux_n==flux_n.max())[0][0]]"
      ]
    },
    {
      "cell_type": "code",
      "execution_count": null,
      "metadata": {
        "id": "AK9tm3cA2woQ"
      },
      "outputs": [],
      "source": [
        "assert np.round((l1-l0)/l0,2) == 0.1"
      ]
    },
    {
      "cell_type": "code",
      "execution_count": null,
      "metadata": {
        "id": "Vy3FDCFN3Fua"
      },
      "outputs": [],
      "source": [
        "d1 = cosmo.luminosity_distance(1)\n",
        "d2 = cosmo.luminosity_distance(1.1)"
      ]
    },
    {
      "cell_type": "code",
      "execution_count": null,
      "metadata": {
        "id": "Yyo-uoSw3W9r"
      },
      "outputs": [],
      "source": [
        "assert flux_n.max()/flux.max() == (d1/d2)**2"
      ]
    },
    {
      "cell_type": "markdown",
      "metadata": {
        "id": "ivsAMGsT36gr"
      },
      "source": [
        "### **Spectra to magnitude**"
      ]
    },
    {
      "cell_type": "code",
      "execution_count": null,
      "metadata": {
        "id": "EStXrBpL5s0J"
      },
      "outputs": [],
      "source": [
        "wav = np.linspace(1000, 3000, 4000)\n",
        "flux = models.Gaussian1D(1, 1500, 11)(wav)*1e-15"
      ]
    },
    {
      "cell_type": "code",
      "execution_count": null,
      "metadata": {
        "id": "Nveo9GR75s0J"
      },
      "outputs": [],
      "source": [
        "tab = Table()\n",
        "tab['wav'] = [wav,wav]\n",
        "tab['flux'] = [flux,flux]\n",
        "tab['z1'] = [1, 1]\n",
        "tab['z2'] = [1, 1.1]"
      ]
    },
    {
      "cell_type": "code",
      "execution_count": null,
      "metadata": {
        "id": "d_aQxXLz4bC7"
      },
      "outputs": [],
      "source": [
        "inputs = [  '/content/INSIST/data/UVIT/filters/Astrosat_UVIT.F148W.dat,1,1',\n",
        "        ]"
      ]
    },
    {
      "cell_type": "code",
      "execution_count": null,
      "metadata": {
        "id": "ic7grZ854zzM"
      },
      "outputs": [],
      "source": [
        "tab_new = spectra_to_mags_df(tab, inputs)"
      ]
    },
    {
      "cell_type": "code",
      "execution_count": null,
      "metadata": {
        "id": "6nB1IpmN6Bfn"
      },
      "outputs": [],
      "source": [
        "assert (np.round(tab_new['mag'].value[0], 2) == 22.31)\n",
        "assert (np.round(tab_new['mag'].value[1], 2) == 22.42)"
      ]
    },
    {
      "cell_type": "markdown",
      "metadata": {
        "id": "VGGSIfZdtSwY"
      },
      "source": [
        "## **Imager**"
      ]
    },
    {
      "cell_type": "code",
      "execution_count": null,
      "metadata": {
        "id": "IFPF_hgXofrw"
      },
      "outputs": [],
      "source": [
        "x0 = np.linspace(10,700,50)\n",
        "y0 = np.linspace(10,700,50)\n",
        "y,x = np.meshgrid(x0,y0)\n",
        "x = [350,400] #x.ravel()\n",
        "y = [350,400] #y.ravel()\n",
        "mag = [22,26] #np.random.uniform(20,30, 2500)\n",
        "\n",
        "df  = pd.DataFrame(zip(x,y,mag), columns = ['x','y','mag'])"
      ]
    },
    {
      "cell_type": "code",
      "execution_count": null,
      "metadata": {
        "id": "3te05aadS0pL"
      },
      "outputs": [],
      "source": [
        "tab = Table.read('/content/data/ngc_6723.fits')\n",
        "df = tab[tab['F275W']>0].to_pandas()[['ra','dec','F275W']].rename(columns={'F275W':'mag'})"
      ]
    },
    {
      "cell_type": "code",
      "execution_count": null,
      "metadata": {
        "id": "7UPElUT3vTyb"
      },
      "outputs": [],
      "source": [
        "d = 80\n",
        "tel_params ={\n",
        "            'aperture'       : d,\n",
        "            'pixel_scale'    : 0.1,\n",
        "            'psf_file'       : f'/content/data/off_axis_poppy_{int(d)}.npy',\n",
        "            'response_funcs' :  [ f'{data_path}/INSIST/UV/Coating.dat,5,100',   # 6 mirrors\n",
        "                                  f'{data_path}/INSIST/UV/Dichroic.dat,2,100',   # 2 dichroics\n",
        "                                  f'{data_path}/INSIST/UV/Filter.dat,1,100',\n",
        "                                  f'{data_path}/INSIST/UV/QE.dat,1,100',\n",
        "\n",
        "                                ],\n",
        "             'coeffs'       : 1, #0.87\n",
        "             'theta'        : 0\n",
        "            }"
      ]
    },
    {
      "cell_type": "code",
      "execution_count": null,
      "metadata": {
        "id": "jp6xF114tSI_"
      },
      "outputs": [],
      "source": [
        "sim = Imager(df = df, tel_params = tel_params, exp_time = 1000, plot = False\n",
        "             ,n_x = 1000, n_y = 1000)"
      ]
    },
    {
      "cell_type": "code",
      "execution_count": null,
      "metadata": {
        "id": "oT7jYRzgVMbU"
      },
      "outputs": [],
      "source": [
        "z = sim.psf[150:250,150:250]\n",
        "x = np.linspace(-50,50,100)\n",
        "\n",
        "yy,xx = np.meshgrid(x,x)\n",
        "init = models.Gaussian2D()\n",
        "fit = fitting.LevMarLSQFitter()\n",
        "model = fit(init, xx, yy,z)"
      ]
    },
    {
      "cell_type": "code",
      "execution_count": null,
      "metadata": {
        "id": "LayXGAbLq20q"
      },
      "outputs": [],
      "source": [
        "model"
      ]
    },
    {
      "cell_type": "code",
      "execution_count": null,
      "metadata": {
        "id": "32W6ZqGTV2YH"
      },
      "outputs": [],
      "source": [
        "std = np.mean([model.x_stddev.value, model.y_stddev.value])\n",
        "std*gaussian_sigma_to_fwhm"
      ]
    },
    {
      "cell_type": "code",
      "execution_count": null,
      "metadata": {
        "id": "anlOGXQxB4VN"
      },
      "outputs": [],
      "source": [
        "sim.show_field()"
      ]
    },
    {
      "cell_type": "code",
      "execution_count": null,
      "metadata": {
        "id": "92s3swKMXpCN"
      },
      "outputs": [],
      "source": [
        "T = Gaussian2DKernel(1500,1500, x_size=sim.n_x, y_size=sim.n_y).array\n",
        "T *= 218/T.max()"
      ]
    },
    {
      "cell_type": "code",
      "execution_count": null,
      "metadata": {
        "id": "AaIeZOn2Gr5i"
      },
      "outputs": [],
      "source": [
        "det_params = {'shot_noise' :  'Poisson',\n",
        "             # 'qe_response': f'{data_path}/INSIST/UV/QE.dat',\n",
        "              'qe_mean'    :  1,\n",
        "              'G1'         :  1,\n",
        "              'bias'       :  10,\n",
        "              'PRNU_frac'  :  0.25/100,\n",
        "              'DCNU'       :  0.1/100,\n",
        "              'RN'         :  3,\n",
        "              'T'          :  218,\n",
        "              'DN'         :  0.01/100\n",
        "              }"
      ]
    },
    {
      "cell_type": "code",
      "execution_count": null,
      "metadata": {
        "id": "J0ffD99ouQwY"
      },
      "outputs": [],
      "source": [
        "sim.Cal0 = False\n",
        "sim(det_params = det_params, photometry = 'PSF', detect_sources=True,\n",
        "     sigma=1)"
      ]
    },
    {
      "cell_type": "code",
      "execution_count": null,
      "metadata": {
        "id": "B0BPzrgoUI4r"
      },
      "outputs": [],
      "source": [
        "sim.show_image(overlay_apertures=False)"
      ]
    },
    {
      "cell_type": "code",
      "execution_count": 345,
      "metadata": {
        "colab": {
          "base_uri": "https://localhost:8080/"
        },
        "id": "eUBWmkntGg7p",
        "outputId": "c00cbfff-9a1a-4bcf-a3cd-538c8e4c059f"
      },
      "outputs": [
        {
          "name": "stderr",
          "output_type": "stream",
          "text": [
            "WARNING: The unit 'electron' could not be saved in native FITS format and hence will be lost to non-astropy fits readers. Within astropy, the unit can roundtrip using QTable, though one has to enable the unit before reading. [astropy.io.fits.convenience]\n",
            "WARNING:astropy:The unit 'electron' could not be saved in native FITS format and hence will be lost to non-astropy fits readers. Within astropy, the unit can roundtrip using QTable, though one has to enable the unit before reading.\n",
            "WARNING: Attribute `version` of type <class 'dict'> cannot be added to FITS Header - skipping [astropy.io.fits.convenience]\n",
            "WARNING:astropy:Attribute `version` of type <class 'dict'> cannot be added to FITS Header - skipping\n"
          ]
        }
      ],
      "source": [
        "sim.phot_table.write('/content/off_80.fits')"
      ]
    },
    {
      "cell_type": "code",
      "execution_count": null,
      "metadata": {
        "id": "b2E0iPGUJbng"
      },
      "outputs": [],
      "source": [
        "sim.phot_table"
      ]
    },
    {
      "cell_type": "code",
      "execution_count": null,
      "metadata": {
        "id": "Lb9pQvtQU2Uv"
      },
      "outputs": [],
      "source": [
        "if not os.path.exists(f'/content/output/On_{int(d)}'):\n",
        "  os.mkdir(f'/content/output/On_{int(d)}')\n",
        "sim.writeto(f'/content/output/On_{int(d)}/NGC_6723_On_{int(d)}.fits', with_dark_flat=True)\n",
        "sim.writeto(f'/content/output/On_{int(d)}/NGC_6723_On_{int(d)}_s.fits', with_dark_flat=False)"
      ]
    },
    {
      "cell_type": "code",
      "execution_count": null,
      "metadata": {
        "id": "gG-bMSAXZmr8"
      },
      "outputs": [],
      "source": [
        "sim.DC_array.mean(), sim.DR.mean()*sim.exp_time"
      ]
    },
    {
      "cell_type": "code",
      "execution_count": null,
      "metadata": {
        "id": "UVCh77-rdlAW"
      },
      "outputs": [],
      "source": [
        "sim.dark_frame.max()"
      ]
    },
    {
      "cell_type": "code",
      "execution_count": null,
      "metadata": {
        "id": "aNyuqlFMuJTb"
      },
      "outputs": [],
      "source": [
        "!zip /content/output.zip /content/output/*/*"
      ]
    },
    {
      "cell_type": "code",
      "execution_count": null,
      "metadata": {
        "id": "G4ejXJTJZ0A2"
      },
      "outputs": [],
      "source": []
    },
    {
      "cell_type": "code",
      "execution_count": null,
      "metadata": {
        "id": "VpOuDQaH-1yo"
      },
      "outputs": [],
      "source": [
        "fig, ax = plt.subplots(1,3, figsize = (35,10))\n",
        "img = ax[0].imshow(sim.bias_frame, cmap='jet', norm=col.LogNorm())\n",
        "img = ax[1].imshow(sim.dark_frame, cmap='jet', norm=col.LogNorm())\n",
        "img = ax[2].imshow(sim.flat_frame, cmap='jet', norm=col.LogNorm())\n",
        "\n",
        "ax[0].set_title('Bias')\n",
        "ax[1].set_title('Dark')\n",
        "ax[2].set_title('Flat')\n",
        "\n",
        "plt.colorbar(img, ax=ax)"
      ]
    },
    {
      "cell_type": "code",
      "execution_count": null,
      "metadata": {
        "id": "gzAPXui3_dMW"
      },
      "outputs": [],
      "source": [
        "x = sim.phot_table['mag_in']\n",
        "y = sim.phot_table['mag_out']\n",
        "y_err = abs(sim.phot_table['mag_err'].value)\n",
        "plt.errorbar(x, y, y_err, fmt='o', color = 'black', markersize=1, capsize=2)\n",
        "plt.plot([5,30],[5,30],'--', color = 'red')\n",
        "plt.xlim(18,30)\n",
        "plt.ylim(18,30)\n",
        "plt.xlabel('Input (mag)')\n",
        "plt.ylabel('Output (mag)')"
      ]
    },
    {
      "cell_type": "code",
      "execution_count": 347,
      "metadata": {
        "colab": {
          "base_uri": "https://localhost:8080/"
        },
        "id": "qwscwhOaK0hb",
        "outputId": "cfa26ddc-61a2-482a-ece7-5096dc4291dc"
      },
      "outputs": [
        {
          "data": {
            "text/plain": [
              "Text(0, 0.5, 'Out - Input (mag)')"
            ]
          },
          "execution_count": 347,
          "metadata": {},
          "output_type": "execute_result"
        },
        {
          "data": {
            "image/png": "[encoded data removed]",
            "text/plain": [
              "<Figure size 1000x1000 with 1 Axes>"
            ]
          },
          "metadata": {},
          "output_type": "display_data"
        }
      ],
      "source": [
        "x = sim.phot_table['mag_in']\n",
        "y = sim.phot_table['mag_out'] - sim.phot_table['mag_in']\n",
        "y_err = abs(sim.phot_table['mag_err'].value)\n",
        "plt.errorbar(x, y, y_err, fmt='o', color = 'black', markersize=1, capsize=2)\n",
        "plt.xlim(18,30)\n",
        "plt.ylim(-5,5)\n",
        "plt.xlabel('Input (mag)')\n",
        "plt.ylabel('Out - Input (mag)')"
      ]
    },
    {
      "cell_type": "code",
      "execution_count": null,
      "metadata": {
        "id": "03nbKIyW4qCZ"
      },
      "outputs": [],
      "source": [
        "@custom_model\n",
        "def pritchet(m,alpha=1,m_50=25):\n",
        "  return 0.5*(1 - alpha*(m - m_50)/np.sqrt(1 + alpha**2*(m-m_50)**2))"
      ]
    },
    {
      "cell_type": "code",
      "execution_count": null,
      "metadata": {
        "id": "0Y6HyD3oItJc"
      },
      "outputs": [],
      "source": [
        "y_in ,x = np.histogram(df['mag'], np.arange(20,30,0.5))\n",
        "x = 0.5*(x[:-1]+x[1:])\n",
        "\n",
        "temp = sim.phot_table[abs(sim.phot_table['mag_in']-sim.phot_table['mag_out'])<0.5]\n",
        "\n",
        "y_out ,x = np.histogram(temp['mag_in'], np.arange(20,30,0.5))\n",
        "x = 0.5*(x[:-1]+x[1:])\n",
        "\n",
        "N = y_out/y_in\n",
        "N = np.where(np.isnan(N),0,N)"
      ]
    },
    {
      "cell_type": "code",
      "execution_count": null,
      "metadata": {
        "id": "CKszTbsSXOw2"
      },
      "outputs": [],
      "source": [
        "N"
      ]
    },
    {
      "cell_type": "code",
      "execution_count": null,
      "metadata": {
        "id": "nn-a-Qr8pZZr"
      },
      "outputs": [],
      "source": [
        "x = x\n",
        "y = N\n",
        "\n",
        "offset = y.max()\n",
        "\n",
        "init = pritchet()\n",
        "plt.figure(figsize=(8,5))\n",
        "fit = fitting.LevMarLSQFitter()\n",
        "model = fit(init, x, y/offset)\n",
        "plt.plot(x,y,'ok')\n",
        "plt.plot(x,model(x)*offset,'--r' )\n",
        "plt.xlabel('mags')\n",
        "plt.ylabel(r'$N_{out}/N_{in}$')\n",
        "plt.title(r\"$\\alpha =$\" + f\" {np.round(model.alpha.value,2)}\" + r\" | $m_{50}=$\" + f\"{np.round(model.m_50.value,2)}\")\n",
        "plt.grid()"
      ]
    },
    {
      "cell_type": "code",
      "execution_count": null,
      "metadata": {
        "id": "XtORHfLuQt8I"
      },
      "outputs": [],
      "source": [
        "output = sim.add_stars(np.zeros((1000, 1000)), 10**(0.4*sim.ZP), sim.df)"
      ]
    },
    {
      "cell_type": "code",
      "execution_count": null,
      "metadata": {
        "id": "PoEaldwTQ5R0"
      },
      "outputs": [],
      "source": [
        "plt.imshow(output, cmap='jet', norm = col.LogNorm() )"
      ]
    },
    {
      "cell_type": "code",
      "execution_count": null,
      "metadata": {
        "id": "mB5Ns-xQ50et"
      },
      "outputs": [],
      "source": [
        "df_phot = sim.phot_table.to_pandas()\n",
        "df_phot = df_phot.dropna()"
      ]
    },
    {
      "cell_type": "code",
      "execution_count": null,
      "metadata": {
        "id": "hVEVRgPLdQ7R"
      },
      "outputs": [],
      "source": [
        "x = df_phot['mag_in'].values\n",
        "y = df_phot['SNR'].values\n",
        "y_err = df_phot['mag_out'] - df_phot['mag_in']\n",
        "im = plt.scatter(x,y,c = y_err, marker = '.', cmap = 'jet', vmin = 0,vmax = 0.5)\n",
        "cb = plt.colorbar(im)\n",
        "cb.set_label('Output-Input (mag)')\n",
        "max_mag = np.round(x[np.where((y<5) & (~np.isnan(y)))[0][0]],3)\n",
        "plt.title(f'Max depth for t = {sim.exp_time}s with SNR = 5 is {max_mag} mag')\n",
        "\n",
        "plt.plot([22,30],[5,5],'--', color= 'black')"
      ]
    },
    {
      "cell_type": "code",
      "execution_count": null,
      "metadata": {
        "id": "rtkJaGmYxKq2"
      },
      "outputs": [],
      "source": [
        "height, width = sim.n_x,sim.n_y\n",
        "xmap, ymap = np.meshgrid(np.arange(width), np.arange(height))\n",
        "xmap = xmap + 0.05*np.sin(ymap / 20)\n",
        "ymap = ymap + 0.05*np.cos(xmap / 20)"
      ]
    },
    {
      "cell_type": "code",
      "execution_count": null,
      "metadata": {
        "id": "931i4rgLxPy8"
      },
      "outputs": [],
      "source": [
        "sim.add_distortion(xmap,ymap)"
      ]
    },
    {
      "cell_type": "code",
      "execution_count": null,
      "metadata": {
        "id": "htbVovLvxl3-"
      },
      "outputs": [],
      "source": [
        "sim.show_image()"
      ]
    },
    {
      "cell_type": "code",
      "execution_count": null,
      "metadata": {
        "id": "4pdpcfZYyO7M"
      },
      "outputs": [],
      "source": [
        "sim.remove_distortion()"
      ]
    },
    {
      "cell_type": "code",
      "execution_count": null,
      "metadata": {
        "id": "V9z9PPV_FXxE"
      },
      "outputs": [],
      "source": [
        "sim.writecomp('test_comp.fits')"
      ]
    },
    {
      "cell_type": "code",
      "execution_count": null,
      "metadata": {
        "id": "pbe4iMk2FbRE"
      },
      "outputs": [],
      "source": [
        "sim.writeto('test.fits')"
      ]
    },
    {
      "cell_type": "code",
      "execution_count": null,
      "metadata": {
        "id": "53RKz2M0pZR_"
      },
      "outputs": [],
      "source": [
        "del sim"
      ]
    },
    {
      "cell_type": "code",
      "execution_count": null,
      "metadata": {
        "id": "z-YInkrABu9T"
      },
      "outputs": [],
      "source": [
        "tab1 = Table.read('HST_INSIST_Off_axis_cross_match.fits')\n",
        "tab2 = Table.read('HST_INSIST_On_axis_cross_match.fits')"
      ]
    },
    {
      "cell_type": "code",
      "execution_count": null,
      "metadata": {
        "id": "1qWnr_O1CSr1"
      },
      "outputs": [],
      "source": [
        "tab1['x_0'].max()"
      ]
    },
    {
      "cell_type": "code",
      "execution_count": null,
      "metadata": {
        "id": "BAN1X0JbGrL5"
      },
      "outputs": [],
      "source": [
        "plt.rcParams['text.latex.preamble'] = r'\\boldmath'"
      ]
    },
    {
      "cell_type": "code",
      "execution_count": null,
      "metadata": {
        "id": "te2AanTCB_Js"
      },
      "outputs": [],
      "source": [
        "fig,ax = plt.subplots(1,2, figsize=(25,10))\n",
        "\n",
        "x = tab1['mag']\n",
        "y = tab1['mag_out']\n",
        "c = np.sqrt((tab1['x_0']-1250)**2 + (tab1['y_0']-1250)**2)\n",
        "\n",
        "ax[0].plot([15,27], [15,27], '--', color='black')\n",
        "img = ax[0].scatter(x,y,c=c,s=2, cmap='jet',marker = '.', zorder=111)\n",
        "\n",
        "ax[0].set_xlim(15,26)\n",
        "ax[0].set_ylim(15,26)\n",
        "\n",
        "ax[0].xaxis.set_minor_locator(AutoMinorLocator())\n",
        "ax[0].yaxis.set_minor_locator(AutoMinorLocator())\n",
        "\n",
        "ax[0].tick_params(which='both', width=2,direction=\"in\", top = True,right = True,\n",
        "               bottom = True, left = True)\n",
        "ax[0].tick_params(which='major', length=7,direction=\"in\")\n",
        "ax[0].tick_params(which='minor', length=4, color='black',direction=\"in\")\n",
        "\n",
        "ax[0].set_xlabel('HST (mag)')\n",
        "ax[0].set_ylabel('INSIST (mag)')\n",
        "\n",
        "\n",
        "x = tab2['mag']\n",
        "y = tab2['mag_out']\n",
        "c = np.sqrt((tab2['x_0']-1250)**2 + (tab2['y_0']-1250)**2)\n",
        "\n",
        "ax[1].plot([15,27], [15,27], '--', color='black')\n",
        "img = ax[1].scatter(x,y,c=c,s=2, cmap='jet',marker = '.', zorder=111)\n",
        "\n",
        "ax[1].set_xlim(15,26)\n",
        "ax[1].set_ylim(15,26)\n",
        "\n",
        "ax[1].xaxis.set_minor_locator(AutoMinorLocator())\n",
        "ax[1].yaxis.set_minor_locator(AutoMinorLocator())\n",
        "\n",
        "ax[1].tick_params(which='both', width=2,direction=\"in\", top = True,right = True,\n",
        "               bottom = True, left = True)\n",
        "ax[1].tick_params(which='major', length=7,direction=\"in\")\n",
        "ax[1].tick_params(which='minor', length=4, color='black',direction=\"in\")\n",
        "\n",
        "ax[1].set_xlabel('HST (mag)')\n",
        "ax[1].set_ylabel('INSIST (mag)')\n",
        "\n",
        "cb = plt.colorbar(img, ax=ax, pad = 0.01)\n",
        "cb.set_label('Distance from center of the luster (pix)')"
      ]
    },
    {
      "cell_type": "markdown",
      "metadata": {
        "id": "29QpCarXHMwu"
      },
      "source": [
        "## **Mosaic**"
      ]
    },
    {
      "cell_type": "code",
      "execution_count": null,
      "metadata": {
        "id": "xGBO7FVqOTsi"
      },
      "outputs": [],
      "source": [
        "y,x = 2*np.mgrid[0:100,0:100]/3600\n",
        "\n",
        "ra  = 10 + x.ravel()\n",
        "dec = 10 + y.ravel()\n",
        "mag = np.linspace(22,30,10000)\n",
        "df  = pd.DataFrame(zip(ra,dec,mag), columns = ['ra','dec','mag'])"
      ]
    },
    {
      "cell_type": "code",
      "execution_count": null,
      "metadata": {
        "id": "dsPDPn7dHPP0"
      },
      "outputs": [],
      "source": [
        "tel_params ={\n",
        "            'aperture'       : 100,\n",
        "            'pixel_scale'    : 0.1,\n",
        "            'psf_file'       : f'{data_path}/PSF/INSIST/off_axis_poppy.npy',\n",
        "            'response_funcs' :  [ f'{data_path}/INSIST/UV/Filter.dat,1,100',\n",
        "                                  f'{data_path}/INSIST/UV/Coating.dat,5,100',   # 6 mirrors\n",
        "                                  f'{data_path}/INSIST/UV/Dichroic.dat,2,100',   # 2 dichroics\n",
        "                                ],\n",
        "             'coeffs'       : 1, #0.17\n",
        "             'theta'        : 0\n",
        "            }"
      ]
    },
    {
      "cell_type": "code",
      "execution_count": null,
      "metadata": {
        "id": "K7rMlK0DHPtN"
      },
      "outputs": [],
      "source": [
        "mos = Mosaic(df = df, tel_params = tel_params, exp_time = 2400,\n",
        "             n_x = 2000, n_y = 2000, mos_n = 2, mos_m = 2)"
      ]
    },
    {
      "cell_type": "code",
      "execution_count": null,
      "metadata": {
        "id": "LDZm3ysKOiAr"
      },
      "outputs": [],
      "source": [
        "mos.show_field()"
      ]
    },
    {
      "cell_type": "code",
      "execution_count": null,
      "metadata": {
        "id": "eBDiVb5qaAWA"
      },
      "outputs": [],
      "source": [
        "det_params = {'shot_noise' :  'Gaussian',\n",
        "              'G1'         :  1,\n",
        "              'qe_response': [],\n",
        "              'PRNU_frac'  :  0.25/100,\n",
        "              'RN'         :  3,\n",
        "              'T'          :  218,\n",
        "              'DN'         :  0.01/100\n",
        "                     }"
      ]
    },
    {
      "cell_type": "code",
      "execution_count": null,
      "metadata": {
        "id": "uCZ8SOnXZzTD"
      },
      "outputs": [],
      "source": [
        "mos(det_params = det_params)"
      ]
    },
    {
      "cell_type": "code",
      "execution_count": null,
      "metadata": {
        "id": "alROnDor98YI"
      },
      "outputs": [],
      "source": [
        "mos.make_mosaic()"
      ]
    },
    {
      "cell_type": "code",
      "execution_count": null,
      "metadata": {
        "id": "xU8gC3nav8By"
      },
      "outputs": [],
      "source": [
        "mos.show_image()"
      ]
    },
    {
      "cell_type": "markdown",
      "metadata": {
        "id": "mC3nug1mZI49"
      },
      "source": [
        "## **Spectroscopy**"
      ]
    },
    {
      "cell_type": "code",
      "execution_count": null,
      "metadata": {
        "id": "cs5u-SDXS-BE"
      },
      "outputs": [],
      "source": [
        "x = np.arange(1500,3000,0.1)\n",
        "y = models.Gaussian1D(mean = 2250, stddev = 300)(x)\n",
        "dat = np.stack([x,y]).T"
      ]
    },
    {
      "cell_type": "code",
      "execution_count": null,
      "metadata": {
        "id": "7q5WlEcFTqF2"
      },
      "outputs": [],
      "source": [
        "np.savetxt('Grating.dat',dat)"
      ]
    },
    {
      "cell_type": "code",
      "execution_count": null,
      "metadata": {
        "id": "2Q5CEm_Q-ebf"
      },
      "outputs": [],
      "source": [
        "input_g = [\n",
        "            f'{data_path}/INSIST/G/M1.dat,5,100',   # 6 mirrors\n",
        "            f'{data_path}/INSIST/G/Filter.dat,1,100',\n",
        "            f'{data_path}/INSIST/G/Dichroic.dat,1,100'\n",
        "          ]\n",
        "\n",
        "input_U = [\n",
        "              f'{data_path}/INSIST/U/M1.dat,5,100',   # 6 mirrors\n",
        "              f'{data_path}/INSIST/U/Filter.dat,1,100',\n",
        "              f'{data_path}/INSIST/U/Dichroic.dat,2,100'\n",
        "            ]\n",
        "\n",
        "input_UV = [\n",
        "            f'{data_path}/INSIST/UV/Coating.dat,5,100',   # 6 mirrors\n",
        "            f'{data_path}/INSIST/UV/Filter.dat,1,100',\n",
        "            f'{data_path}/INSIST/UV/Dichroic.dat,2,100'\n",
        "          ]"
      ]
    },
    {
      "cell_type": "code",
      "execution_count": null,
      "metadata": {
        "id": "UgXdvIKqkmnM"
      },
      "outputs": [],
      "source": [
        "tel_params = {\n",
        "                'aperture'    : 100,\n",
        "                'pixel_scale' : 0.1,\n",
        "                'psf_file'    : f'{data_path}/PSF/INSIST/off_axis_Zmax.npy',\n",
        "\n",
        "                'response_funcs' : input_UV,\n",
        "                'coeffs '  : 1,\n",
        "                'theta'    : 0,\n",
        "                'dellambda': 1,\n",
        "                'lambda1'  : 1500,\n",
        "                'lambda2'  : 3001\n",
        "            }"
      ]
    },
    {
      "cell_type": "markdown",
      "metadata": {
        "id": "794N0mip9p26"
      },
      "source": [
        "### **Example Input**"
      ]
    },
    {
      "cell_type": "code",
      "execution_count": null,
      "metadata": {
        "id": "fRrRiLcygnUj"
      },
      "outputs": [],
      "source": [
        "wav = np.arange(1200, 3200, 0.1)\n",
        "flux = models.Gaussian1D(1, 1500, 5)(wav)*1e-13\n",
        "flux += models.Gaussian1D(1, 2000, 5)(wav)*1e-13\n",
        "flux += models.Gaussian1D(1, 2250, 5)(wav)*1e-13\n",
        "flux += models.Gaussian1D(1, 2500, 5)(wav)*1e-13\n",
        "flux += models.Gaussian1D(1, 3000, 5)(wav)*1e-13\n",
        "flux += 1e-14"
      ]
    },
    {
      "cell_type": "code",
      "execution_count": null,
      "metadata": {
        "id": "otQg4JIjhvLq"
      },
      "outputs": [],
      "source": [
        "df_spec = Table()\n",
        "df_spec['wav'] = [wav, wav + 100, wav]\n",
        "df_spec['flux'] = [flux, flux, wav*0 + 1e-13]\n",
        "df_spec['x'] = [3450, 3450, 3450]\n",
        "df_spec['y'] = [1000, 1200, 1400]\n",
        "df_spec['z1'] = [1, 1, 1]\n",
        "df_spec['z2'] = [1, 1, 1]"
      ]
    },
    {
      "cell_type": "markdown",
      "metadata": {
        "id": "Ty8z1LWPEmmh"
      },
      "source": [
        "### **Kurucz Model**"
      ]
    },
    {
      "cell_type": "code",
      "execution_count": null,
      "metadata": {
        "id": "KgF-tiOKUs7p"
      },
      "outputs": [],
      "source": [
        "!unzip sed_models"
      ]
    },
    {
      "cell_type": "code",
      "execution_count": null,
      "metadata": {
        "id": "w4HcKtsRCTWD"
      },
      "outputs": [],
      "source": [
        "model_tab = Table.read('kurucz_models.fits')"
      ]
    },
    {
      "cell_type": "code",
      "execution_count": null,
      "metadata": {
        "id": "QA_0AfB5u8T9"
      },
      "outputs": [],
      "source": [
        "tab = Table.read('M31_subsample.fits')[['ra','dec', 'Md','id','T','logg','Met']]\n",
        "wav = np.loadtxt('kurucz_wav.dat')"
      ]
    },
    {
      "cell_type": "code",
      "execution_count": null,
      "metadata": {
        "id": "GW_U32fwFB6V"
      },
      "outputs": [],
      "source": [
        "tab = tab[:3]"
      ]
    },
    {
      "cell_type": "code",
      "execution_count": null,
      "metadata": {
        "id": "cXT2odq1X1HP"
      },
      "outputs": [],
      "source": [
        "fluxes = []\n",
        "\n",
        "for id in tab['id'][:1]:\n",
        "  id = id.split()[0]\n",
        "  flux = model_tab[model_tab['INDEX']==id]['model_flux'].value[0]\n",
        "  fluxes.append(flux)"
      ]
    },
    {
      "cell_type": "code",
      "execution_count": null,
      "metadata": {
        "id": "O_kUMUuDAg-_"
      },
      "outputs": [],
      "source": [
        "g = []\n",
        "UV = []\n",
        "U = []\n",
        "\n",
        "for flux in fluxes:\n",
        "\n",
        "  m = spectra_to_mags(wav, flux, input_g, 1,1)\n",
        "  g.append(m)\n",
        "\n",
        "  m = spectra_to_mags(wav, flux, input_UV, 1,1)\n",
        "  UV.append(m)\n",
        "\n",
        "  m = spectra_to_mags(wav, flux, input_U, 1,1)\n",
        "  U.append(m)"
      ]
    },
    {
      "cell_type": "code",
      "execution_count": null,
      "metadata": {
        "id": "Z1wfNTxu73Jv"
      },
      "outputs": [],
      "source": [
        "g = np.array(g) + 2.5*(tab['Md']-4)\n",
        "U = np.array(U) + 2.5*(tab['Md']-4)\n",
        "UV = np.array(UV) + 2.5*(tab['Md']-4)"
      ]
    },
    {
      "cell_type": "code",
      "execution_count": null,
      "metadata": {
        "id": "70ZYpHq3xEW0"
      },
      "outputs": [],
      "source": [
        "df_img = tab[['ra','dec']].to_pandas()"
      ]
    },
    {
      "cell_type": "code",
      "execution_count": null,
      "metadata": {
        "id": "OsDctCEJLpOE"
      },
      "outputs": [],
      "source": [
        "#df_img['INSIST_g'] = g\n",
        "#df_img['INSIST_U'] = U\n",
        "#df_img['INSIST_UV'] = UV\n",
        "df_img['mag'] = UV"
      ]
    },
    {
      "cell_type": "code",
      "execution_count": null,
      "metadata": {
        "id": "j5vPC4DgT7mW"
      },
      "outputs": [],
      "source": [
        "df_spec = tab"
      ]
    },
    {
      "cell_type": "code",
      "execution_count": null,
      "metadata": {
        "id": "MO7sGgclxpl3"
      },
      "outputs": [],
      "source": [
        "df_spec['flux'] = fluxes\n",
        "df_spec['wav'] = [wav]\n",
        "df_spec['z1'] = 1\n",
        "df_spec['z2'] = 1\n",
        "df_spec['mag'] = UV"
      ]
    },
    {
      "cell_type": "code",
      "execution_count": null,
      "metadata": {
        "id": "iHMiAlG9L09M"
      },
      "outputs": [],
      "source": [
        "df_spec['flux'] = df_spec['flux']*10**(-df_spec['Md'].value.reshape(-1,1)+4)"
      ]
    },
    {
      "cell_type": "markdown",
      "metadata": {
        "id": "brBjG6a7wHAD"
      },
      "source": [
        "### **Slitless**"
      ]
    },
    {
      "cell_type": "code",
      "execution_count": null,
      "metadata": {
        "id": "NeVTAoGTTEny"
      },
      "outputs": [],
      "source": [
        "spec_inputs = ['Grating.dat,1,1',\n",
        "               f'{data_path}/INSIST/UV/QE.dat,1,100']\n",
        "\n",
        "tel_params_spec = {\n",
        "                'aperture'    : 100,\n",
        "                'pixel_scale' : 0.1,\n",
        "                'psf_file'    : f'{data_path}/PSF/INSIST/off_axis_Zmax.npy',\n",
        "\n",
        "                'response_funcs' : input_UV + spec_inputs,\n",
        "                'coeffs '  : 1,\n",
        "                'theta'    : 0,\n",
        "                'dellambda': 4/3,\n",
        "                'lambda1'  : 1500,\n",
        "                'lambda2'  : 2999\n",
        "            }"
      ]
    },
    {
      "cell_type": "code",
      "execution_count": null,
      "metadata": {
        "id": "aeN0ABSNPJCk"
      },
      "outputs": [],
      "source": [
        "sim_spec = Spectrograph(df=df_spec, tel_params=tel_params_spec,\n",
        "                        exp_time=1000, n_x = 6900, n_y = 2400)"
      ]
    },
    {
      "cell_type": "code",
      "execution_count": null,
      "metadata": {
        "id": "dJSqOLuCD7fV"
      },
      "outputs": [],
      "source": [
        "sim_spec.show_field()"
      ]
    },
    {
      "cell_type": "code",
      "execution_count": null,
      "metadata": {
        "id": "yNkGovnNT4YE"
      },
      "outputs": [],
      "source": [
        "det_params = {'shot_noise' :  'Poisson',\n",
        "              'qe_response': [],# [f'{data_path}/INSIST/UV/QE.dat,1,100'],\n",
        "              'qe_mean'    : 0.95,\n",
        "              'G1'         :  1,\n",
        "              'bias'       : 10,\n",
        "              'PRNU_frac'  :  0.25/100,\n",
        "              'DCNU'       :  0.1/100,\n",
        "              'RN'         :  3,\n",
        "              'T'          :  218,\n",
        "              'DN'         :  0.01/100\n",
        "              }"
      ]
    },
    {
      "cell_type": "code",
      "execution_count": null,
      "metadata": {
        "id": "mQemnQa1T6Ia"
      },
      "outputs": [],
      "source": [
        "sim_spec(det_params=det_params, spectroscopy = True)"
      ]
    },
    {
      "cell_type": "code",
      "execution_count": null,
      "metadata": {
        "id": "qXvsOUmvHSOX"
      },
      "outputs": [],
      "source": [
        "sim_spec.show_image(figsize = (15,5), cmap = 'gray')"
      ]
    },
    {
      "cell_type": "code",
      "execution_count": null,
      "metadata": {
        "id": "YgND--p0d6ZV"
      },
      "outputs": [],
      "source": [
        "z = zip(sim_spec.img_df['wav'], sim_spec.img_df['flux'], sim_spec.phot_table['flux'] )\n",
        "\n",
        "for wav, in_flux, out_flux in z:\n",
        "  plt.figure(figsize = (15,8))\n",
        "  binned_input = sim_spec.bin_xy(wav, in_flux)\n",
        "  flux = out_flux/sim_spec.UC\n",
        "  plt.plot(sim_spec.spec_bins, flux, marker = '.',)\n",
        "  plt.plot(sim_spec.spec_bins, binned_input, color='black')\n",
        "  plt.legend([ 'Calibrated Spectra', 'Binned Input',])\n",
        "  plt.xlabel(r'Wavelength ($\\AA$)')\n",
        "  plt.ylabel(r'Flux ($ergs.s^{-1}.cm2^{-2}.\\AA^{-1})$')\n",
        "  plt.show()"
      ]
    },
    {
      "cell_type": "code",
      "execution_count": null,
      "metadata": {
        "id": "duJEc4qSranW"
      },
      "outputs": [],
      "source": [
        "plt.scatter(sim_spec.spec_bins, flux)"
      ]
    },
    {
      "cell_type": "markdown",
      "metadata": {
        "id": "JBs5MryoWBeM"
      },
      "source": [
        "#### **IUE**"
      ]
    },
    {
      "cell_type": "code",
      "execution_count": null,
      "metadata": {
        "id": "ymCZiUzyWEk7"
      },
      "outputs": [],
      "source": [
        "with open('lr09295.txt', 'r') as f:\n",
        "  dat = f.readlines()"
      ]
    },
    {
      "cell_type": "code",
      "execution_count": null,
      "metadata": {
        "id": "9-sNqgsVWOCU"
      },
      "outputs": [],
      "source": [
        "flux = []\n",
        "for i in dat[19:]:\n",
        "  flux.append([float(j) if abs(float(j))!=1 else 0 for j in i.split() ])\n",
        "flux = np.array(flux)"
      ]
    },
    {
      "cell_type": "code",
      "execution_count": null,
      "metadata": {
        "id": "VrleO1WeMeJY"
      },
      "outputs": [],
      "source": [
        "wav = 0.1*np.arange(0,12250,1) + 1900"
      ]
    },
    {
      "cell_type": "code",
      "execution_count": null,
      "metadata": {
        "id": "3XodqkEIeJwx"
      },
      "outputs": [],
      "source": [
        "f = flux[:,0]\n",
        "f -= f.min()"
      ]
    },
    {
      "cell_type": "code",
      "execution_count": null,
      "metadata": {
        "id": "fVDF8GdmMCaF"
      },
      "outputs": [],
      "source": [
        "plt.plot(wav,f)"
      ]
    },
    {
      "cell_type": "code",
      "execution_count": null,
      "metadata": {
        "id": "1c1WtkLyXTZS"
      },
      "outputs": [],
      "source": [
        "ra = [0., 0, 0,0]\n",
        "dec= [0., 5/3600, 10/3600, 15/3600 ]\n",
        "wav_ = [wav,wav,wav,wav]\n",
        "fluxes = [f,f,f,f]\n",
        "d1     = [140, 140, 140, 140]\n",
        "d2     = [140, 140, 140, 400] #[0.001, 0.0011, 0.012, 0.013]\n",
        "df_spec = Table([ra,dec,wav_,fluxes,d1,d2],\n",
        "                names = ['ra','dec', 'wav','flux','d1','d2'])"
      ]
    },
    {
      "cell_type": "code",
      "execution_count": null,
      "metadata": {
        "id": "voOlZXpOpnxL"
      },
      "outputs": [],
      "source": [
        "tel_params ={\n",
        "            'aperture'       : 100,\n",
        "            'pixel_scale'    : 0.1,\n",
        "            'psf_file'       :    f'{data_path}/data/PSF/INSIST/off_axis_Zmax.npy',\n",
        "\n",
        "            'response_funcs' :  [ f'{data_path}/data/INSIST/UV/Filter.dat,1,100',\n",
        "                                  f'{data_path}/data/INSIST/UV/Coating.dat,5,100',   # 6 mirrors\n",
        "                                  f'{data_path}/data/INSIST/UV/Dichroic.dat,2,100',   # 2 dichroics\n",
        "                                   'Grating.dat,1,1'\n",
        "                                ],\n",
        "             'coeffs '  : 0.17,\n",
        "             'theta'    : 0,\n",
        "             'dellambda': 1,\n",
        "             'lambda1'  : 1900,\n",
        "             'lambda2'  : 3000\n",
        "\n",
        "            }"
      ]
    },
    {
      "cell_type": "code",
      "execution_count": null,
      "metadata": {
        "id": "Gd1pH2r_fHmI"
      },
      "outputs": [],
      "source": [
        "df_img = spectra_to_mags(df_spec, tel_params['response_funcs']).to_pandas()"
      ]
    },
    {
      "cell_type": "code",
      "execution_count": null,
      "metadata": {
        "id": "hBk5zUYkmKyL"
      },
      "outputs": [],
      "source": [
        "df_img"
      ]
    },
    {
      "cell_type": "code",
      "execution_count": null,
      "metadata": {
        "id": "SRQcicNIgwiG"
      },
      "outputs": [],
      "source": [
        "sim_img = Imager(df = df_img, tel_params = tel_params,\n",
        "                   exp_time = 1, n_x = 2000, n_y = 2000)\n",
        "sim_spec = Spectrometer(df = df_spec, tel_params = tel_params,\n",
        "                   exp_time = 1, n_x = 2000, n_y = 2000)\n",
        "sim_img()\n",
        "sim_spec()"
      ]
    },
    {
      "cell_type": "code",
      "execution_count": null,
      "metadata": {
        "id": "BLkdJGL_gwm6"
      },
      "outputs": [],
      "source": [
        "fig, ax = plt.subplots(1,2, figsize = (20,9))\n",
        "fig, ax[0] = sim_img.show_image(fig = fig, ax = ax[0])\n",
        "fig, ax[1] = sim_spec.show_image(fig = fig, ax = ax[1])"
      ]
    },
    {
      "cell_type": "code",
      "execution_count": null,
      "metadata": {
        "id": "SCWN5IyGoTbg"
      },
      "outputs": [],
      "source": [
        "sim_spec.generate_cal_flux(source_indices = [0,1,2])"
      ]
    },
    {
      "cell_type": "code",
      "execution_count": null,
      "metadata": {
        "id": "TNUNRmrxoTbg"
      },
      "outputs": [],
      "source": [
        "sim_spec.exp_time"
      ]
    },
    {
      "cell_type": "code",
      "execution_count": null,
      "metadata": {
        "id": "FZ2HY-pMoTbh"
      },
      "outputs": [],
      "source": [
        "z = zip(sim_spec.img_df['wav'], sim_spec.img_df['flux'], sim_spec.phot_table['flux'] )\n",
        "\n",
        "for wav, in_flux, out_flux in z:\n",
        "  out_flux = out_flux*sim_spec.cal_flux\n",
        "\n",
        "  binned_input = sim_spec.bin_xy(wav, in_flux)\n",
        "  plt.plot(sim_spec.spec_bins, out_flux,'--')\n",
        "\n",
        "  plt.plot(sim_spec.spec_bins, binned_input)\n",
        "  plt.legend(['Calibrated Spectra', 'Binned Input'])\n",
        "  plt.xlabel(r'Wavelength ($\\AA$)')\n",
        "  plt.ylabel(r'Flux ($ergs.s^{-1}.cm2^{-2}.\\AA^{-1})$')\n",
        "  plt.xlim(2700,2900)\n",
        "  plt.show()\n",
        "  break"
      ]
    },
    {
      "cell_type": "markdown",
      "metadata": {
        "id": "rpeL07PH5zav"
      },
      "source": [
        "### **Multi-Object Spectroscopy**"
      ]
    },
    {
      "cell_type": "code",
      "execution_count": null,
      "metadata": {
        "id": "sE1Fy76-wy9R"
      },
      "outputs": [],
      "source": [
        "calc_mos_size(2340,1140,45,4501)"
      ]
    },
    {
      "cell_type": "code",
      "execution_count": null,
      "metadata": {
        "id": "NSk-VHdV6y4N"
      },
      "outputs": [],
      "source": [
        "sim_spec = Spectrograph(df=df_spec,tel_params=tel_params_spec,\n",
        "                        exp_time=2400, n_x = 8000, n_y = 2500)"
      ]
    },
    {
      "cell_type": "code",
      "execution_count": null,
      "metadata": {
        "id": "MhSu5_t1gstU"
      },
      "outputs": [],
      "source": [
        "matplotlib.rcParams['font.size'] = 22\n",
        "matplotlib.rcParams['figure.labelsize'] = 'x-large'"
      ]
    },
    {
      "cell_type": "code",
      "execution_count": null,
      "metadata": {
        "id": "c95db6_X61Jm"
      },
      "outputs": [],
      "source": [
        "sim_spec.show_field(figsize = (10,6))"
      ]
    },
    {
      "cell_type": "code",
      "execution_count": null,
      "metadata": {
        "id": "O_d8hWD9NyKJ"
      },
      "outputs": [],
      "source": [
        "sim_spec.init_MOS(2340,1140,45)"
      ]
    },
    {
      "cell_type": "code",
      "execution_count": null,
      "metadata": {
        "id": "MicAADJiNt7T"
      },
      "outputs": [],
      "source": [
        "sim_spec.show_field(figsize = (10,6))"
      ]
    },
    {
      "cell_type": "code",
      "execution_count": null,
      "metadata": {
        "id": "KWREunThjFev"
      },
      "outputs": [],
      "source": [
        "res_df = None"
      ]
    },
    {
      "cell_type": "code",
      "execution_count": null,
      "metadata": {
        "id": "ST7-vObUvzbH"
      },
      "outputs": [],
      "source": [
        "mos_df, res_df, _,_ = sim_spec.select_MOS_sources(df = res_df)"
      ]
    },
    {
      "cell_type": "code",
      "execution_count": null,
      "metadata": {
        "id": "REJ-0UhQAZYT"
      },
      "outputs": [],
      "source": [
        "sim_spec.show_field(figsize = (10,6))"
      ]
    },
    {
      "cell_type": "code",
      "execution_count": null,
      "metadata": {
        "id": "sDx68wEsywCr"
      },
      "outputs": [],
      "source": [
        "det_params = {'shot_noise' :  'Poisson',\n",
        "              'qe_response': [],\n",
        "              'qe_mean'    : 1,\n",
        "              'G1'         :  1,\n",
        "              'bias'       : 10,\n",
        "              'PRNU_frac'  :  0.25/100,\n",
        "              'DCNU'       :  0.1/100,\n",
        "              'RN'         :  3,\n",
        "              'T'          :  218,\n",
        "              'DN'         :  0.01/100\n",
        "              }"
      ]
    },
    {
      "cell_type": "code",
      "execution_count": null,
      "metadata": {
        "id": "DmFFDJRRy52u"
      },
      "outputs": [],
      "source": [
        "sim_spec(det_params=det_params)"
      ]
    },
    {
      "cell_type": "code",
      "execution_count": null,
      "metadata": {
        "id": "PgpNbUSb0RoS"
      },
      "outputs": [],
      "source": [
        "sim_spec.show_image()"
      ]
    },
    {
      "cell_type": "code",
      "execution_count": null,
      "metadata": {
        "id": "jnI0ThRlF2sa"
      },
      "outputs": [],
      "source": [
        "z = zip(sim_spec.img_df['wav'], sim_spec.img_df['flux'], sim_spec.phot_table['flux'] )\n",
        "plt.figure(figsize = (15,8))\n",
        "for wav, in_flux, out_flux in z:\n",
        "  binned_input = sim_spec.bin_xy(wav, in_flux)\n",
        "  flux = sim_spec.cal_flux(out_flux, A = -1, B=0.1)\n",
        "  plt.plot(sim_spec.spec_bins, flux)\n",
        "  plt.plot(sim_spec.spec_bins, binned_input, '--', color='black')\n",
        "  plt.legend(['Binned Input', 'Calibrated Spectra', ])\n",
        "  plt.xlabel(r'Wavelength ($\\AA$)')\n",
        "  plt.ylabel(r'Flux ($ergs.s^{-1}.cm2^{-2}.\\AA^{-1})$')\n",
        "  plt.show()"
      ]
    },
    {
      "cell_type": "code",
      "execution_count": null,
      "metadata": {
        "id": "JARJY5sY-9Rf"
      },
      "outputs": [],
      "source": [
        "\n",
        "sim_spec.writecomp('mos.fits')"
      ]
    },
    {
      "cell_type": "markdown",
      "metadata": {
        "id": "7IoyAetxILp9"
      },
      "source": [
        "## **Galaxy**"
      ]
    },
    {
      "cell_type": "code",
      "execution_count": null,
      "metadata": {
        "id": "cblNyWtiJ_84"
      },
      "outputs": [],
      "source": [
        "# Coma cluster properties\n",
        "cluster_center_ra = 194.9558  # RA of the Coma cluster center\n",
        "cluster_center_dec = 27.9807  # Dec of the Coma cluster center\n",
        "cluster_size_arcsec = 2/60 # Size of the Coma cluster in arcseconds\n",
        "num_galaxies = 100  # Number of galaxies to generate\n",
        "\n",
        "# Generate galaxy positions using a Gaussian distribution\n",
        "np.random.seed(42)\n",
        "\n",
        "ra = np.random.normal(cluster_center_ra, cluster_size_arcsec / np.sqrt(8*np.log(2)), num_galaxies)\n",
        "dec = np.random.normal(cluster_center_dec, cluster_size_arcsec / np.sqrt(8*np.log(2)), num_galaxies)\n",
        "mag = np.random.uniform(16, 20, num_galaxies)\n",
        "\n",
        "# Generate parameters for bulge, bar, and disk components\n",
        "bulge_M = np.random.uniform(18, 19, num_galaxies)\n",
        "bulge_Re = np.random.uniform(0.2, 1.0, num_galaxies)\n",
        "bulge_n = np.random.uniform(1.0, 4.0, num_galaxies)\n",
        "bulge_ba = np.random.uniform(0.5, 0.9, num_galaxies)\n",
        "bulge_pa = np.random.uniform(0, 180, num_galaxies)\n",
        "\n",
        "bar_M = np.random.uniform(17, 18, num_galaxies)\n",
        "bar_Re = np.random.uniform(1.0, 3.0, num_galaxies)\n",
        "bar_n = np.random.uniform(0.4, 1.0, num_galaxies)\n",
        "bar_ba = np.random.uniform(0.3, 0.7, num_galaxies)\n",
        "bar_pa = np.random.uniform(0, 180, num_galaxies)\n",
        "\n",
        "disk_M = np.random.uniform(16, 17, num_galaxies)\n",
        "disk_Re = np.random.uniform(2.0, 4.0, num_galaxies)\n",
        "disk_n = np.random.uniform(0.8, 1.2, num_galaxies)\n",
        "disk_ba = np.random.uniform(0.6, 0.95, num_galaxies)\n",
        "disk_pa = np.random.uniform(0, 180, num_galaxies)\n",
        "\n",
        "# Create the DataFrame for galaxy cluster\n",
        "df = pd.DataFrame({'ra': ra, 'dec': dec, 'mag': mag,\n",
        "                   'bulge_M': bulge_M, 'bulge_Re': bulge_Re, 'bulge_n': bulge_n,\n",
        "                   'bulge_ba': bulge_ba, 'bulge_pa': bulge_pa,\n",
        "                   'bar_M': bar_M, 'bar_Re': bar_Re, 'bar_n': bar_n,\n",
        "                   'bar_ba': bar_ba, 'bar_pa': bar_pa,\n",
        "                   'disk_M': disk_M, 'disk_Re': disk_Re, 'disk_n': disk_n,\n",
        "                   'disk_ba': disk_ba, 'disk_pa': disk_pa})"
      ]
    },
    {
      "cell_type": "code",
      "execution_count": null,
      "metadata": {
        "id": "6UGaBp0PJ_85"
      },
      "outputs": [],
      "source": [
        "tel_params ={\n",
        "            'aperture'       : 100,\n",
        "            'pixel_scale'    : 0.1,\n",
        "            'psf_file'       : f'{data_path}/PSF/INSIST/off_axis_poppy.npy',\n",
        "            'response_funcs' :  [ f'{data_path}/INSIST/UV/Coating.dat,5,100',   # 6 mirrors\n",
        "                                  f'{data_path}/INSIST/UV/Filter.dat,1,100',\n",
        "                                  f'{data_path}/INSIST/UV/Dichroic.dat,2,100',   # 2 dichroics\n",
        "                                ],\n",
        "             'coeffs'       : 1,\n",
        "             'theta'        : 0\n",
        "            }"
      ]
    },
    {
      "cell_type": "code",
      "execution_count": null,
      "metadata": {
        "id": "cMG3on71J_86"
      },
      "outputs": [],
      "source": [
        "sim = Galaxy(df = df, coords = (cluster_center_ra, cluster_center_dec),\n",
        "             tel_params = tel_params, exp_time = 2400, plot = False,\n",
        "             n_x = 6000, n_y = 6000)"
      ]
    },
    {
      "cell_type": "code",
      "execution_count": null,
      "metadata": {
        "id": "wresy5uFgB7E"
      },
      "outputs": [],
      "source": [
        "sim.show_field()"
      ]
    },
    {
      "cell_type": "code",
      "execution_count": null,
      "metadata": {
        "id": "9b23OhZFJ_8_"
      },
      "outputs": [],
      "source": [
        "det_params = {'shot_noise' :  'Poisson',\n",
        "              'qe_response': [],# [f'{data_path}/INSIST/UV/QE.dat,1,100'],\n",
        "              'qe_mean'    : 0.95,\n",
        "              'G1'         :  1,\n",
        "              'bias'       : 10,\n",
        "              'PRNU_frac'  :  0.25/100,\n",
        "              'DCNU'       :  0.1/100,\n",
        "              'RN'         :  3,\n",
        "              'T'          :  218,\n",
        "              'DN'         :  0.01/100\n",
        "              }"
      ]
    },
    {
      "cell_type": "code",
      "execution_count": null,
      "metadata": {
        "id": "RLa1K-d4dxxY"
      },
      "outputs": [],
      "source": [
        "sim(det_params=det_params)"
      ]
    },
    {
      "cell_type": "code",
      "execution_count": null,
      "metadata": {
        "id": "hpYzIfXIKYiU"
      },
      "outputs": [],
      "source": [
        "sim.show_image()"
      ]
    },
    {
      "cell_type": "markdown",
      "metadata": {
        "id": "IQ5Y4n2keWme"
      },
      "source": [
        "# **Critical Checks**"
      ]
    },
    {
      "cell_type": "markdown",
      "metadata": {
        "id": "Wiqvoinggpvh"
      },
      "source": [
        "## **INSIST Vs UVIT Vs GALEX**"
      ]
    },
    {
      "cell_type": "code",
      "execution_count": null,
      "metadata": {
        "id": "6KEMMTHQr3Gu"
      },
      "outputs": [],
      "source": [
        "data_git = '/content/INSIST/data'"
      ]
    },
    {
      "cell_type": "code",
      "execution_count": null,
      "metadata": {
        "id": "BaAIEGVvxFrH"
      },
      "outputs": [],
      "source": [
        "df = pd.read_csv(f'{data_path}/sample2.csv')"
      ]
    },
    {
      "cell_type": "code",
      "execution_count": null,
      "metadata": {
        "id": "vsrp7OGDxFrI"
      },
      "outputs": [],
      "source": [
        "df = df.rename(columns = {'F275W':'mag'})"
      ]
    },
    {
      "cell_type": "code",
      "execution_count": null,
      "metadata": {
        "id": "jusd5oTfem8f"
      },
      "outputs": [],
      "source": [
        "tel_params_insist = {\n",
        "            'aperture'       : 100,\n",
        "            'pixel_scale'    : 0.1,\n",
        "            'psf_file'       : f'{data_path}/PSF/INSIST/off_axis_hcipy.npy',\n",
        "            'response_funcs' :  [ f'{data_path}/INSIST/UV/Filter.dat,1,100',\n",
        "                                  f'{data_path}/INSIST/UV/Coating.dat,5,100',   # 5 mirrors\n",
        "                                  f'{data_path}/INSIST/UV/Dichroic.dat,2,100',   # 2 dichroics\n",
        "                                ],\n",
        "            }\n",
        "tel_params_uvit = {\n",
        "            'aperture'       : 1,\n",
        "            'pixel_scale'    : 3.33/8,\n",
        "            'psf_file'       : f'{data_git}/UVIT/PSF/on_axis_hcipy.npy',\n",
        "            'response_funcs' :  [ f'{data_git}/UVIT/filters/Astrosat_UVIT.N279N.dat,1,1'\n",
        "                                ],\n",
        "            'coeffs'         : 1/(np.pi*0.5**2)\n",
        "            }\n",
        "\n",
        "tel_params_galex = {\n",
        "            'aperture'       : 1,\n",
        "            'pixel_scale'    : 1.5,\n",
        "            'psf_file'       : f'{data_git}/GALEX/PSF/PSFnuv_faint.fits',\n",
        "            'response_funcs' :  [ f'{data_git}/GALEX/filters/GALEX_GALEX.FUV.dat,1,1'\n",
        "                                ],\n",
        "            'coeffs'         : 1/(np.pi*0.5**2)\n",
        "                  }"
      ]
    },
    {
      "cell_type": "code",
      "execution_count": null,
      "metadata": {
        "id": "JbbjeYoGfD8c"
      },
      "outputs": [],
      "source": [
        "det_params_insist = {'shot_noise': 'Poisson',\n",
        "                    'bias': 35,\n",
        "                    'G1': 1,\n",
        "                    'qe_resonse' : [f'{data_path}/data/INSIST/UV/QE.dat,1,100'],\n",
        "                    'bit_res': 14,\n",
        "                    'RN': 5,\n",
        "                    'PRNU_frac': 0.0025,\n",
        "                    'T': 218,\n",
        "                    'DFM': 0.01424,\n",
        "                    'pixel_area': 1e-06,\n",
        "                    'DN': 0.001,\n",
        "                    'NF': 12,\n",
        "                    'FWC': 140000.0,\n",
        "                    'C_ray_r': 0.04}\n",
        "\n",
        "det_params_uvit  = {'shot_noise': 'Poisson',\n",
        "                    'bias': 100,\n",
        "                    'G1': 1,\n",
        "                    'bit_res': 14,\n",
        "                    'RN': 5,\n",
        "                    'PRNU_frac': 0.0025,\n",
        "                    'T': 293,\n",
        "                    'DFM': 0.004624,\n",
        "                    'pixel_area': (25/8)*1e-6,\n",
        "                    'DN': 0.001,\n",
        "                    'NF': 0,\n",
        "                    'FWC': 150000.0}\n",
        "\n",
        "det_params_galex = {'shot_noise': 'Poisson',\n",
        "                    'bias': 35,\n",
        "                    'G1': 1,\n",
        "                    'bit_res': 14,\n",
        "                    'RN': 5,\n",
        "                    'PRNU_frac': 0.0025,\n",
        "                    'T': 293,\n",
        "                    'DFM': 0.01424,\n",
        "                    'pixel_area': (25/8)*1e-06,\n",
        "                    'DN': 0.001,\n",
        "                    'NF': 0,\n",
        "                    'FWC': 140000.0}"
      ]
    },
    {
      "cell_type": "code",
      "execution_count": null,
      "metadata": {
        "id": "8MZitorytaKM"
      },
      "outputs": [],
      "source": [
        "df_galex  = df[df['mag']<25]\n",
        "df_uvit   = df[df['mag']<27]\n",
        "df_insist = df[df['mag']<28]"
      ]
    },
    {
      "cell_type": "code",
      "execution_count": null,
      "metadata": {
        "id": "RpByfgekfv7B"
      },
      "outputs": [],
      "source": [
        "sim_insist = Imager(df = df_insist,\n",
        "                     tel_params = tel_params_insist, n_x = 800, n_y = 800,\n",
        "                     exp_time = 2000)\n",
        "sim_uvit   = Imager(df = df_uvit, coords = (sim_insist.ra, sim_insist.dec),\n",
        "                      tel_params = tel_params_uvit, n_x = 192, n_y = 192,\n",
        "                      exp_time = 10000)\n",
        "sim_galex  = Imager(df = df_galex, coords = (sim_insist.ra, sim_insist.dec),\n",
        "                        tel_params = tel_params_galex, n_x = 53, n_y = 53,\n",
        "                        exp_time = 2000)"
      ]
    },
    {
      "cell_type": "code",
      "execution_count": null,
      "metadata": {
        "id": "jewMIFJzf0R1"
      },
      "outputs": [],
      "source": [
        "sim_insist(det_params = det_params_insist)\n",
        "sim_uvit.DC = False\n",
        "sim_uvit(det_params = det_params_uvit)\n",
        "sim_galex.DC = False\n",
        "sim_galex(det_params = det_params_galex)"
      ]
    },
    {
      "cell_type": "code",
      "execution_count": null,
      "metadata": {
        "id": "4DXQF97HlPFC"
      },
      "outputs": [],
      "source": [
        "fig, ax = sim_insist.show_image(cmap = 'gray')\n",
        "fig.suptitle('INSIST | Source:  NGC 1851 | Filter: UV | FoV: 80 arcsecs | Exptime: 2000 secs')"
      ]
    },
    {
      "cell_type": "code",
      "execution_count": null,
      "metadata": {
        "id": "dSZgD8Q4oSFg"
      },
      "outputs": [],
      "source": [
        "fig,ax = sim_uvit.show_image(cmap='gray')\n",
        "fig.suptitle('UVIT | Source: NGC 1851 | Filter: N263W | FoV: 80 arcsecs | Exptime: 2000 secs')"
      ]
    },
    {
      "cell_type": "code",
      "execution_count": null,
      "metadata": {
        "id": "bIKTCmi_GWQ0"
      },
      "outputs": [],
      "source": [
        "sim_uvit.writeto('NGC_1851_UVIT.fits')\n",
        "sim_insist.writeto('NGC_1851_INSIST.fits')"
      ]
    },
    {
      "cell_type": "code",
      "execution_count": null,
      "metadata": {
        "id": "QGd0vXgVnoiC"
      },
      "outputs": [],
      "source": [
        "fig,ax = sim_galex.show_image(cmap='gray')\n",
        "fig.suptitle('GALEX | Source:  NGC 1851 | Filter: NUV | FoV: 80 arcsecs | Exptime: 2000 secs')"
      ]
    },
    {
      "cell_type": "code",
      "execution_count": null,
      "metadata": {
        "id": "nRhGKQNc_IEo"
      },
      "outputs": [],
      "source": [
        "#"
      ]
    },
    {
      "cell_type": "markdown",
      "metadata": {
        "id": "d-lj0gH3gw-c"
      },
      "source": [
        "# **HST**"
      ]
    },
    {
      "cell_type": "code",
      "execution_count": null,
      "metadata": {
        "id": "hlAeSsbIg2Xq"
      },
      "outputs": [],
      "source": [
        "data_git = '/content/INSIST/data'"
      ]
    },
    {
      "cell_type": "code",
      "execution_count": null,
      "metadata": {
        "id": "u7ShakxBg2Xq"
      },
      "outputs": [],
      "source": [
        "df = pd.read_csv(f'{data_path}/data/sample2.csv')"
      ]
    },
    {
      "cell_type": "code",
      "execution_count": null,
      "metadata": {
        "id": "KoJ8JGLUg2Xq"
      },
      "outputs": [],
      "source": [
        "df = df.rename(columns = {'F275W':'mag'})"
      ]
    },
    {
      "cell_type": "code",
      "execution_count": null,
      "metadata": {
        "id": "LqumVTVMhPEi"
      },
      "outputs": [],
      "source": [
        "tel_params_hst = {\n",
        "            'aperture'       : 240,\n",
        "            'pixel_scale'    : 0.04,\n",
        "            'psf_file'       : f'{data_git}/HST/PSF/F275.fits',\n",
        "            'response_funcs' :  [ f'{data_git}/HST/filters/HST_WFC3_UVIS1.F275W.dat,1,1'\n",
        "                                ],\n",
        "            }"
      ]
    },
    {
      "cell_type": "code",
      "execution_count": null,
      "metadata": {
        "id": "jAUOi5nUjtJI"
      },
      "outputs": [],
      "source": [
        "sim_hst = Imager(df = df,\n",
        "                     tel_params = tel_params_hst, n_x = 8000, n_y = 8000,\n",
        "                     exp_time = 1288)"
      ]
    },
    {
      "cell_type": "code",
      "execution_count": null,
      "metadata": {
        "id": "XGjpMSQ8D07b"
      },
      "outputs": [],
      "source": [
        "sim_hst(photometry='PSF', fwhm = 5)"
      ]
    },
    {
      "cell_type": "code",
      "execution_count": null,
      "metadata": {
        "id": "DGD3CZJ-EgkL"
      },
      "outputs": [],
      "source": [
        "sim_hst.show_image()"
      ]
    },
    {
      "cell_type": "code",
      "execution_count": null,
      "metadata": {
        "id": "b7lY22AVEwGF"
      },
      "outputs": [],
      "source": [
        "sim_hst.phot_table"
      ]
    },
    {
      "cell_type": "code",
      "execution_count": null,
      "metadata": {
        "id": "Ecc9g1mPE04C"
      },
      "outputs": [],
      "source": [
        "sim_hst.img_df"
      ]
    },
    {
      "cell_type": "markdown",
      "metadata": {
        "id": "-7U14LvsMuJR"
      },
      "source": [
        "# **Optimization**"
      ]
    },
    {
      "cell_type": "markdown",
      "metadata": {
        "id": "5Vj5vw4IqMVf"
      },
      "source": [
        "## **Rotational Orientation Optimization**"
      ]
    },
    {
      "cell_type": "code",
      "execution_count": null,
      "metadata": {
        "id": "XQ7RmKOWoIIl"
      },
      "outputs": [],
      "source": [
        "opt = []\n",
        "for i in range (0,180,1):\n",
        "  tel_params['theta'] = i\n",
        "  sim_spec = Spectrometer(df = df_spec, tel_params = tel_params,\n",
        "                    exp_time = 2400, n_x = 2000, n_y = 2000)\n",
        "\n",
        "  sim_spec()\n",
        "  mask = sim_spec.mask\n",
        "  mask = np.where(mask>=1,mask,0)\n",
        "  opt.append([i,mask.sum()])"
      ]
    },
    {
      "cell_type": "code",
      "execution_count": null,
      "metadata": {
        "id": "nsyEEsqwqnQw"
      },
      "outputs": [],
      "source": [
        "opt = np.array(opt)"
      ]
    },
    {
      "cell_type": "code",
      "execution_count": null,
      "metadata": {
        "id": "OuybngYPqp7z"
      },
      "outputs": [],
      "source": [
        "angles = opt[:,0]\n",
        "op_frac = opt[:,1]\n",
        "angles[np.where(op_frac==op_frac.min())[0]]"
      ]
    },
    {
      "cell_type": "code",
      "execution_count": null,
      "metadata": {
        "id": "LJoEDwFLubkt"
      },
      "outputs": [],
      "source": [
        "plt.plot(angles, op_frac)\n",
        "plt.xlabel('Angle')\n",
        "plt.ylabel('Overlap Metric')"
      ]
    },
    {
      "cell_type": "markdown",
      "metadata": {
        "id": "aA8RwNPjnPMl"
      },
      "source": [
        "## **Dynamic Range Vs Exposure time**"
      ]
    },
    {
      "cell_type": "code",
      "execution_count": null,
      "metadata": {
        "id": "uuO9QzR2wruv"
      },
      "outputs": [],
      "source": [
        "from matplotlib.ticker import (MultipleLocator, AutoMinorLocator)"
      ]
    },
    {
      "cell_type": "code",
      "execution_count": null,
      "metadata": {
        "id": "S6Vr8bRcnWs9"
      },
      "outputs": [],
      "source": [
        "y,x = 2*np.mgrid[0:100,0:100]/3600\n",
        "\n",
        "ra  = 10 + x.ravel()\n",
        "dec = 10 + y.ravel()\n",
        "mag = np.linspace(8,30,10000)\n",
        "df  = pd.DataFrame(zip(ra,dec,mag), columns = ['ra','dec','mag'])"
      ]
    },
    {
      "cell_type": "code",
      "execution_count": null,
      "metadata": {
        "id": "R789lhV-nXwg"
      },
      "outputs": [],
      "source": [
        "tel_params ={\n",
        "            'aperture'       : 100,\n",
        "            'pixel_scale'    : 0.1,\n",
        "            'psf_file'       : f'{data_path}/PSF/INSIST/off_axis_poppy.npy',\n",
        "            'response_funcs' :  [ f'{data_path}/INSIST/UV/Coating.dat,5,100',   # 6 mirrors\n",
        "                                  f'{data_path}/INSIST/UV/Filter.dat,1,100',\n",
        "                                  f'{data_path}/INSIST/UV/Dichroic.dat,2,100',   # 2 dichroics\n",
        "                                ],\n",
        "             'coeffs'       : 1,\n",
        "             'theta'        : 0\n",
        "            }\n",
        "det_params = {'shot_noise' :  'Poisson',\n",
        "              'qe_response': [],\n",
        "              'qe_mean'    : 0.95,\n",
        "              'G1'         :  1,\n",
        "              'bias'       :  50,\n",
        "              'PRNU_frac'  :  0.25/100,\n",
        "              'RN'         :  3,\n",
        "              'T'          :  218,\n",
        "              'DN'         :  0.01/100\n",
        "              }"
      ]
    },
    {
      "cell_type": "code",
      "execution_count": null,
      "metadata": {
        "id": "9RFe4X4ynXwh"
      },
      "outputs": [],
      "source": [
        "t_min_mags = []\n",
        "t_max_mags = []\n",
        "t_del_mags = []\n",
        "\n",
        "min_mags = []\n",
        "max_mags = []\n",
        "del_mags = []\n",
        "\n",
        "ts = np.logspace(0,3,100)\n",
        "for exp_time in ts:\n",
        "  sim = Imager(df = df, tel_params = tel_params, exp_time = exp_time,\n",
        "              plot = False, n_x = 2000,n_y = 2000)\n",
        "  sim(det_params = det_params, photometry = 'Aper', fwhm = 2,\n",
        "    detect_sources  = False, n_stack = 1)\n",
        "\n",
        "  F0 = 10**(0.4*sim.ZP)\n",
        "\n",
        "  max_mag = -2.5*np.log10(50/F0)\n",
        "  min_mag = -2.5*np.log10(88833/F0)\n",
        "\n",
        "  del_mag = max_mag - min_mag\n",
        "\n",
        "  t_min_mags.append(min_mag)\n",
        "  t_max_mags.append(max_mag)\n",
        "  t_del_mags.append(del_mag)\n",
        "\n",
        "  tab = sim.phot_table[sim.phot_table['SNR']>50]\n",
        "  x = tab['mag_in'].value\n",
        "  y = tab['mag_out'].value\n",
        "  min_mag = x[np.where(y> x+0.1)[0][-1]]\n",
        "\n",
        "  x = sim.phot_table['mag_in']\n",
        "  y = sim.phot_table['SNR']\n",
        "\n",
        "  max_mag = np.round(x[np.where(y<5)[0][0]],3)\n",
        "\n",
        "  del_mag = max_mag - min_mag\n",
        "\n",
        "  min_mags.append(min_mag)\n",
        "  max_mags.append(max_mag)\n",
        "  del_mags.append(del_mag)"
      ]
    },
    {
      "cell_type": "code",
      "execution_count": null,
      "metadata": {
        "id": "FJu2lI1A77iM"
      },
      "outputs": [],
      "source": [
        "from astropy.modeling.models import custom_model"
      ]
    },
    {
      "cell_type": "code",
      "execution_count": null,
      "metadata": {
        "id": "uKgKGqoI8JKe"
      },
      "outputs": [],
      "source": [
        "def mag_fit(t,C=10):\n",
        "  return 2.5*np.log10(t) + C"
      ]
    },
    {
      "cell_type": "code",
      "execution_count": null,
      "metadata": {
        "id": "UemJcBNDsenb"
      },
      "outputs": [],
      "source": [
        "fig, ax = plt.subplots(1,3, figsize = (30,5))\n",
        "x = ts\n",
        "y = min_mags\n",
        "\n",
        "init = models.custom_model(mag_fit)()\n",
        "fit = fitting.LevMarLSQFitter()\n",
        "model = fit(init, x, y)\n",
        "\n",
        "ax[0].plot(x,y,'-ko')\n",
        "ax[0].plot(x,model(x), 'r-')\n",
        "ax[0].set_title(f'Saturation Limit | C: {np.round(model.C.value,2)}')\n",
        "ax[0].set_xlabel('Exposure Time (s)')\n",
        "ax[0].set_ylabel('Magnitude (AB mag)')\n",
        "\n",
        "\n",
        "y = max_mags\n",
        "init = models.custom_model(mag_fit)()\n",
        "fit = fitting.LevMarLSQFitter()\n",
        "model = fit(init, x, y)\n",
        "\n",
        "ax[1].plot(x,y,'-ko')\n",
        "ax[1].plot(x,model(x), 'r-')\n",
        "ax[1].set_title(f'Limiting Magnitude | C: {np.round(model.C.value,2)}')\n",
        "ax[1].set_xlabel('Exposure Time (s)')\n",
        "ax[1].set_ylabel('Magnitude (AB mag)')\n",
        "\n",
        "y = del_mags\n",
        "init = models.Polynomial1D(2)\n",
        "fit = fitting.LevMarLSQFitter()\n",
        "model = fit(init, x, y)\n",
        "ax[2].plot(x,y,'-ko')\n",
        "ax[2].plot(x,model(x), 'r-')\n",
        "\n",
        "c0 = np.round(model.c0.value,5)\n",
        "c1 = np.round(model.c1.value,5)\n",
        "c2 = model.c2.value\n",
        "\n",
        "ax[2].set_title(f'Dynamic Magnitude Range \\n c0: {c0}, c1: {c1}, c2: {c2:e}')\n",
        "ax[2].set_xlabel('Exposure Time (s)')\n",
        "ax[2].set_ylabel('Magnitude (AB mag)')\n",
        "\n",
        "for i in range(3):\n",
        "  ax[i].xaxis.set_minor_locator(AutoMinorLocator())\n",
        "  ax[i].yaxis.set_minor_locator(AutoMinorLocator())\n",
        "\n",
        "\n",
        "  ax[i].tick_params(which='both', width=2,direction=\"in\", top = True,right = True,\n",
        "                bottom = True, left = True)\n",
        "  ax[i].tick_params(which='major', length=7, direction=\"in\")\n",
        "  ax[i].tick_params(which='minor', length=4, color='black',direction=\"in\")"
      ]
    },
    {
      "cell_type": "markdown",
      "metadata": {
        "id": "-_OUjCXjhOfI"
      },
      "source": [
        "## **Multi-Object Spectroscopy**"
      ]
    },
    {
      "cell_type": "code",
      "execution_count": null,
      "metadata": {
        "id": "qsf2oOuNZDP3"
      },
      "outputs": [],
      "source": [
        "def t_range(m, C1=9.68, C2=17.44):\n",
        "\n",
        "  t_max = 10**((m-C1)/2.5)\n",
        "  t_min = 10**((m-C2)/2.5)\n",
        "\n",
        "  return t_min, t_max"
      ]
    },
    {
      "cell_type": "code",
      "execution_count": null,
      "metadata": {
        "id": "PBCz-AZtKK0H"
      },
      "outputs": [],
      "source": [
        "# Exposure Bracketing\n",
        "def exp_brac(t0,t1):\n",
        "  ts = []\n",
        "  for i in range(len(t0)-1):\n",
        "    t = 0.5*(t1[i] + t0[i+1])\n",
        "    ts.append(t)\n",
        "  return ts"
      ]
    },
    {
      "cell_type": "code",
      "execution_count": null,
      "metadata": {
        "id": "XqWwWCP1lGc3"
      },
      "outputs": [],
      "source": [
        "def count_sources_within_radius(catalog, radius):\n",
        "    tree = cKDTree(catalog)\n",
        "    counts = []\n",
        "\n",
        "    for star in catalog:\n",
        "        indices = tree.query_ball_point(star, radius)\n",
        "        count = len(indices) - 1  # Exclude the star itself from the count\n",
        "        counts.append(count)\n",
        "\n",
        "    return counts"
      ]
    },
    {
      "cell_type": "code",
      "execution_count": null,
      "metadata": {
        "id": "5JD3rPr-wQjj"
      },
      "outputs": [],
      "source": [
        "df = Table.read(f'{data_path}/sample.fits').to_pandas()"
      ]
    },
    {
      "cell_type": "code",
      "execution_count": null,
      "metadata": {
        "id": "_BJ9mjdiDfQJ"
      },
      "outputs": [],
      "source": [
        "mag_bins = np.arange(df.mag.min(), df.mag.max(), 7)"
      ]
    },
    {
      "cell_type": "code",
      "execution_count": null,
      "metadata": {
        "id": "ia8QeMH3JxPq"
      },
      "outputs": [],
      "source": [
        "t0,t1 = t_range(mag_bins)"
      ]
    },
    {
      "cell_type": "code",
      "execution_count": null,
      "metadata": {
        "id": "jLPJOXj77Tat"
      },
      "outputs": [],
      "source": [
        "ts = exp_brac(t0, t1)"
      ]
    },
    {
      "cell_type": "code",
      "execution_count": null,
      "metadata": {
        "id": "Nz8cHWejb6O2"
      },
      "outputs": [],
      "source": [
        "df_bracs = []\n",
        "for i in range(len(mag_bins)-1):\n",
        "  c1 = df['mag'] >= mag_bins[i]\n",
        "  c2 = df['mag'] < mag_bins[i+1]\n",
        "  df_bracs.append(df[c1 & c2])"
      ]
    },
    {
      "cell_type": "code",
      "execution_count": null,
      "metadata": {
        "id": "oqFfk2mCc1ZD"
      },
      "outputs": [],
      "source": [
        "df_1 = df_bracs[0]"
      ]
    },
    {
      "cell_type": "code",
      "execution_count": null,
      "metadata": {
        "id": "_Pc3iqSVhaJe"
      },
      "outputs": [],
      "source": [
        "x = df_1['ra']\n",
        "y = df_1['dec']\n",
        "plt.scatter(x,y, s = 1, color = 'black')"
      ]
    },
    {
      "cell_type": "code",
      "execution_count": null,
      "metadata": {
        "id": "46A5AjsYyVZt"
      },
      "outputs": [],
      "source": [
        "tel_params ={\n",
        "            'aperture'       : 100,\n",
        "            'pixel_scale'    : 0.1,\n",
        "            'psf_file'       : f'{data_path}/PSF/INSIST/off_axis_poppy.npy',\n",
        "            'response_funcs' :  [ f'{data_path}/INSIST/UV/Coating.dat,5,100',   # 6 mirrors\n",
        "                                  f'{data_path}/INSIST/UV/Filter.dat,1,100',\n",
        "                                  f'{data_path}/INSIST/UV/Dichroic.dat,2,100',   # 2 dichroics\n",
        "                                ],\n",
        "             'coeffs'       : 1,\n",
        "             'theta'        : 0\n",
        "            }\n",
        "det_params = {'shot_noise' :  'Poisson',\n",
        "              'qe_response': [],\n",
        "              'qe_mean'    : 0.95,\n",
        "              'G1'         :  1,\n",
        "              'bias'       :  50,\n",
        "              'PRNU_frac'  :  0.25/100,\n",
        "              'RN'         :  3,\n",
        "              'T'          :  218,\n",
        "              'DN'         :  0.01/100\n",
        "              }"
      ]
    },
    {
      "cell_type": "code",
      "execution_count": null,
      "metadata": {
        "id": "3xFBgB8oyx53"
      },
      "outputs": [],
      "source": [
        "sim = Imager(df = df_1, tel_params = tel_params, exp_time = ts[0],\n",
        "            plot = False, n_x = 500,n_y = 500)\n",
        "sim(det_params = det_params, photometry = 'Aper', fwhm = 2,\n",
        "  detect_sources  = False, n_stack = 1)"
      ]
    },
    {
      "cell_type": "code",
      "execution_count": null,
      "metadata": {
        "id": "J6dYqjuyMBSX"
      },
      "outputs": [],
      "source": [
        "sim.show_image()"
      ]
    },
    {
      "cell_type": "code",
      "execution_count": null,
      "metadata": {
        "id": "Zm1D5pXd7ncp"
      },
      "outputs": [],
      "source": [
        "x = sim.phot_table['mag_in']\n",
        "y = sim.phot_table['mag_out']\n",
        "y_err = abs(sim.phot_table['mag_err'])\n",
        "plt.errorbar(x,y,yerr= y_err,fmt='o', color = 'black', markersize=2, capsize=3)\n",
        "plt.plot([5,30],[5,30],'--', color = 'red')\n",
        "plt.xlim(5,30)\n",
        "plt.ylim(5,30)\n",
        "plt.xlabel('Input (mag)')\n",
        "plt.ylabel('Output (mag)')"
      ]
    },
    {
      "cell_type": "code",
      "execution_count": null,
      "metadata": {
        "id": "ezp3OWWs8ITm"
      },
      "outputs": [],
      "source": [
        "c"
      ]
    },
    {
      "cell_type": "code",
      "execution_count": null,
      "metadata": {
        "id": "aorpDhXr7xd-"
      },
      "outputs": [],
      "source": [
        "x = sim.phot_table['ra']\n",
        "y = sim.phot_table['dec']\n",
        "c = sim.phot_table['mag_err']\n",
        "s = sim.phot_table['mag_in']\n",
        "\n",
        "fig, ax = plt.subplots()\n",
        "img = ax.scatter(x,y,c=c, s=s, cmap = 'jet', vmin = 0.5, vmax = 2)\n",
        "plt.colorbar(img)"
      ]
    },
    {
      "cell_type": "code",
      "execution_count": null,
      "metadata": {
        "id": "AmG4lb0XN76_"
      },
      "outputs": [],
      "source": [
        "def select_mos(df, cen_x, cen_y, ids = [], radius = 10, min_sep = 10):\n",
        "\n",
        "  catalog = df[['x', 'y']].values\n",
        "  result = count_sources_within_radius(catalog, radius)\n",
        "  df['n_density'] = result\n",
        "\n",
        "  top = np.flip(np.arange(cen_y, 0, -min_sep))\n",
        "  bottom = np.arange(cen_y + min_sep, sim.n_y, min_sep)\n",
        "\n",
        "  y_pos = np.concatenate([top, bottom])\n",
        "  mos_df = []\n",
        "  df['x_sep'] = abs(df['x']- cen_x)\n",
        "  for i in y_pos:\n",
        "    p = df[(df['y']>i-2) & (df['y']<i+2)]\n",
        "    p = p[p['n_density']==0]\n",
        "\n",
        "    if len(p)>0:\n",
        "      p = p[p['x_sep']==p['x_sep'].min()]\n",
        "      mos_df.append(p.values[0])\n",
        "\n",
        "  mos_df = pd.DataFrame(mos_df, columns = df.keys())\n",
        "\n",
        "  res_df = mos_df[0:0]\n",
        "  for id in df['objid']:\n",
        "    if id not in mos_df['objid'].values or id in ids:\n",
        "      t = df[df['objid']==id]\n",
        "      res_df = pd.concat([res_df,t])\n",
        "\n",
        "  return mos_df, res_df, cen_x, cen_y"
      ]
    },
    {
      "cell_type": "code",
      "execution_count": null,
      "metadata": {
        "id": "ZDL_1IKvOtW5"
      },
      "outputs": [],
      "source": [
        "fig, ax = plt.subplots(1,9, figsize = (50,5), sharey = True)\n",
        "\n",
        "img_df = sim.img_df\n",
        "img_df['objid'] = np.arange(0., len(img_df), 1.)\n",
        "res_df = img_df\n",
        "ids = []\n",
        "mos_dfs = res_df[0:0]\n",
        "for i in range(len(ax)):\n",
        "\n",
        "  x = res_df['x'].values\n",
        "  y = res_df['y'].values\n",
        "\n",
        "  cen_x = x[np.argmin(abs(x-np.mean(x)))]\n",
        "  cen_y = y[np.argmin(abs(y-np.mean(y)))]\n",
        "\n",
        "  mos_df, res_df, cen_x, cen_y = select_mos(res_df, cen_x, cen_y, ids,\n",
        "                                            radius=1.5, min_sep = 6)\n",
        "  ax[i].hlines(y = mos_df['y'],\n",
        "            xmin= 0, xmax= sim.n_x,\n",
        "            color = 'k', linestyle = '-', linewidth = 3)\n",
        "  ax[i].scatter(mos_df['x'], mos_df['y'], marker = 'o', zorder = 101,\n",
        "              color = 'red')\n",
        "  ax[i].scatter(cen_x, cen_y, marker = '+', color='blue', linewidth = 5,\n",
        "              zorder = 102)\n",
        "  ax[i].set_title(f'Number of source: {len(mos_df)}')\n",
        "\n",
        "  mos_dfs = pd.concat([mos_dfs, mos_df])\n",
        "  ids += list(mos_df['objid'].values)\n",
        "\n",
        "plt.subplots_adjust(wspace=0.01)"
      ]
    },
    {
      "cell_type": "code",
      "execution_count": null,
      "metadata": {
        "id": "85lfaxkcSFJJ"
      },
      "outputs": [],
      "source": [
        "plt.scatter(mos_dfs['x'], mos_dfs['y'])\n",
        "plt.scatter(res_df['x'], res_df['y'])\n",
        "\n",
        "plt.legend(['Observed','Residual'])"
      ]
    },
    {
      "cell_type": "code",
      "execution_count": null,
      "metadata": {
        "id": "vKMuarYLTKSK"
      },
      "outputs": [],
      "source": [
        "len(mos_dfs),len(res_df)"
      ]
    },
    {
      "cell_type": "code",
      "execution_count": null,
      "metadata": {
        "id": "_k8c1dIn-9uf"
      },
      "outputs": [],
      "source": [
        "for id in img_df['objid']:\n",
        "  if id not in mos_df['objid'].values or id not in ids:\n",
        "    print(id)\n"
      ]
    },
    {
      "cell_type": "markdown",
      "metadata": {
        "id": "9mJSmT2eB8Fx"
      },
      "source": [
        "## **INSIST-HST Bootstrap**"
      ]
    },
    {
      "cell_type": "code",
      "execution_count": null,
      "metadata": {
        "id": "__S1aQaXR3r8"
      },
      "outputs": [],
      "source": [
        "df_img = pd.read_csv('M31_INSIST_PSC_Full.csv')"
      ]
    },
    {
      "cell_type": "code",
      "execution_count": null,
      "metadata": {
        "id": "vC0V70P4FNqH"
      },
      "outputs": [],
      "source": [
        "from sklearn.linear_model import LinearRegression"
      ]
    },
    {
      "cell_type": "code",
      "execution_count": null,
      "metadata": {
        "id": "O-BAvvdnLbI1"
      },
      "outputs": [],
      "source": [
        "df_s = df_img.copy()\n",
        "df_s['diff'] = np.abs(df_s['HST_f275w'] - df_s['HST_f275w_p'])\n",
        "df_s = df_s[df_s['diff']<0.1]"
      ]
    },
    {
      "cell_type": "code",
      "execution_count": null,
      "metadata": {
        "id": "RwSsnuDTEPrD"
      },
      "outputs": [],
      "source": [
        "x1 = df_s['HST_f275w'].values\n",
        "x2 = df_s['HST_f336w'].values\n",
        "x3 = df_s['HST_f475w'].values\n",
        "x4 = df_s['HST_f1100w'].values\n",
        "x5 = df_s['HST_f1600w'].values\n",
        "\n",
        "\n",
        "x6 = df_s['HST_f275w'].values - df_s['HST_f336w'].values\n",
        "x7 = df_s['HST_f275w'].values - df_s['HST_f475w'].values\n",
        "x8 = df_s['HST_f275w'].values - df_s['HST_f1100w'].values\n",
        "x9 = df_s['HST_f275w'].values - df_s['HST_f1600w'].values\n",
        "x10 = df_s['HST_f336w'].values - df_s['HST_f475w'].values\n",
        "x11 = df_s['HST_f336w'].values - df_s['HST_f1100w'].values\n",
        "x12 = df_s['HST_f336w'].values - df_s['HST_f1600w'].values\n",
        "x13 = df_s['HST_f475w'].values - df_s['HST_f1100w'].values\n",
        "x14 = df_s['HST_f475w'].values - df_s['HST_f1600w'].values\n",
        "x15 = df_s['HST_f1100w'].values - df_s['HST_f1600w'].values\n",
        "\n",
        "x = np.array([x1, x2, x3, x4, x5,\n",
        "              x6, x7, x8, x9, x10,\n",
        "              x11,x12,x13,x14,x15]).T\n",
        "\n",
        "y1 = df_s['INSIST_UV']\n",
        "y2 = df_s['INSIST_U']\n",
        "y3 = df_s['INSIST_g']\n",
        "\n",
        "y4 = df_s['INSIST_UV'] - df_s['INSIST_U']\n",
        "y5 = df_s['INSIST_UV'] - df_s['INSIST_g']\n",
        "y6 = df_s['INSIST_U'] - df_s['INSIST_g']\n",
        "\n",
        "y = np.array([y1, y2, y3]).T\n",
        "\n",
        "reg = LinearRegression().fit(x, y)"
      ]
    },
    {
      "cell_type": "code",
      "execution_count": null,
      "metadata": {
        "id": "uXjfrPGnHLbx"
      },
      "outputs": [],
      "source": [
        "reg.score(x, y)"
      ]
    },
    {
      "cell_type": "code",
      "execution_count": null,
      "metadata": {
        "id": "p9lWQKY-wchV"
      },
      "outputs": [],
      "source": []
    },
    {
      "cell_type": "code",
      "execution_count": null,
      "metadata": {
        "id": "eOfnBpgrz6UB"
      },
      "outputs": [],
      "source": []
    },
    {
      "cell_type": "markdown",
      "metadata": {
        "id": "WkIft9h3CWkQ"
      },
      "source": [
        "## **UV Pred from Regression Model**"
      ]
    },
    {
      "cell_type": "code",
      "execution_count": null,
      "metadata": {
        "id": "3PhIfmfvQLjt"
      },
      "outputs": [],
      "source": [
        "df_u = df_img.copy()\n",
        "df_u['diff'] = np.abs(df_u['HST_f275w'] - df_u['HST_f275w_p'])\n",
        "df_u = df_u[df_u['diff']<0.1]"
      ]
    },
    {
      "cell_type": "code",
      "execution_count": null,
      "metadata": {
        "id": "XeneKlXiCaos"
      },
      "outputs": [],
      "source": [
        "x1 = df_u['HST_f336w'].values\n",
        "x2 = df_u['HST_f475w'].values\n",
        "x3 = df_u['HST_f1100w'].values\n",
        "x4 = df_u['HST_f1600w'].values\n",
        "\n",
        "x5 = df_u['HST_f336w'].values - df_u['HST_f475w'].values\n",
        "x6 = df_u['HST_f336w'].values - df_u['HST_f1100w'].values\n",
        "x7 = df_u['HST_f336w'].values - df_u['HST_f1600w'].values\n",
        "x8 = df_u['HST_f475w'].values - df_u['HST_f1100w'].values\n",
        "x9 = df_u['HST_f475w'].values - df_u['HST_f1600w'].values\n",
        "x10 = df_u['HST_f1100w'].values - df_u['HST_f1600w'].values\n",
        "\n",
        "x = np.array([x1, x2, x3, x4, x5,\n",
        "              x6, x7, x8, x9, x10]).T\n",
        "\n",
        "y1 = df_u['HST_f275w']\n",
        "\n",
        "\n",
        "y = np.array([y1]).T\n",
        "\n",
        "reg = LinearRegression().fit(x, y)"
      ]
    },
    {
      "cell_type": "code",
      "execution_count": null,
      "metadata": {
        "id": "zjx09y4BCa9T"
      },
      "outputs": [],
      "source": [
        "reg.score(x, y)"
      ]
    },
    {
      "cell_type": "code",
      "execution_count": null,
      "metadata": {
        "id": "JFI5dGGxEK9f"
      },
      "outputs": [],
      "source": [
        "df_u = df_img.copy()\n",
        "df_u['diff'] = np.abs(df_u['HST_f275w'] - df_u['HST_f275w_p'])\n",
        "df_u = df_u[df_u['diff']>0.1]"
      ]
    },
    {
      "cell_type": "code",
      "execution_count": null,
      "metadata": {
        "id": "IeduKEAOELQE"
      },
      "outputs": [],
      "source": [
        "x1 = df_u['HST_f336w'].values\n",
        "x2 = df_u['HST_f475w'].values\n",
        "x3 = df_u['HST_f1100w'].values\n",
        "x4 = df_u['HST_f1600w'].values\n",
        "\n",
        "x5 = df_u['HST_f336w'].values - df_u['HST_f475w'].values\n",
        "x6 = df_u['HST_f336w'].values - df_u['HST_f1100w'].values\n",
        "x7 = df_u['HST_f336w'].values - df_u['HST_f1600w'].values\n",
        "x8 = df_u['HST_f475w'].values - df_u['HST_f1100w'].values\n",
        "x9 = df_u['HST_f475w'].values - df_u['HST_f1600w'].values\n",
        "x10 = df_u['HST_f1100w'].values - df_u['HST_f1600w'].values\n",
        "\n",
        "x = np.array([x1, x2, x3, x4, x5,\n",
        "              x6, x7, x8, x9, x10]).T"
      ]
    },
    {
      "cell_type": "code",
      "execution_count": null,
      "metadata": {
        "id": "0lAvh8TqELh6"
      },
      "outputs": [],
      "source": [
        "f275w_pred = reg.predict(x)"
      ]
    },
    {
      "cell_type": "code",
      "execution_count": null,
      "metadata": {
        "id": "AljxJ-wvEL18"
      },
      "outputs": [],
      "source": [
        "f275w_obs = df_u['HST_f275w']"
      ]
    },
    {
      "cell_type": "code",
      "execution_count": null,
      "metadata": {
        "id": "8Ybmb7hCEqP9"
      },
      "outputs": [],
      "source": [
        "fig, ax = plt.subplots()\n",
        "img = ax.scatter(f275w_pred, f275w_obs, s = 1, c = df_u['diff'], cmap = 'jet',\n",
        "                  vmax = 0.5)\n",
        "ax.plot([17,28], [17, 28], '--', color = 'black')\n",
        "cb = plt.colorbar(img)\n",
        "ax.set_xlabel(r'$F275w_{Pred}$')\n",
        "ax.set_ylabel(r'$F275w_{Obs}$')\n",
        "cb.set_label(r'SED $F275w_{Pred}-F275w_{Obs}$ ')\n",
        "ax.set_title('HST F275w Prediction using Regression with HST F336w-F1600w')\n",
        "\n",
        "ax.xaxis.set_minor_locator(AutoMinorLocator())\n",
        "ax.yaxis.set_minor_locator(AutoMinorLocator())\n",
        "\n",
        "\n",
        "ax.tick_params(which='both', width=2,direction=\"in\", top = True,right = True,\n",
        "              bottom = True, left = True)\n",
        "ax.tick_params(which='major', length=7, direction=\"in\")\n",
        "ax.tick_params(which='minor', length=4, color='black',direction=\"in\")"
      ]
    },
    {
      "cell_type": "markdown",
      "metadata": {
        "id": "mq4jRAmy8p56"
      },
      "source": [
        "# **Galaxy Clumps Simulator**"
      ]
    },
    {
      "cell_type": "code",
      "execution_count": null,
      "metadata": {
        "id": "55GgtUgc8vYN"
      },
      "outputs": [],
      "source": [
        "!pip install astroquery --quiet"
      ]
    },
    {
      "cell_type": "code",
      "execution_count": null,
      "metadata": {
        "id": "j28OMc-n8y4s"
      },
      "outputs": [],
      "source": [
        "from astropy.stats import SigmaClip, gaussian_fwhm_to_sigma\n",
        "from astroquery.skyview import SkyView\n",
        "from astropy.convolution import Gaussian2DKernel,convolve\n",
        "from photutils.background import Background2D, MedianBackground,SExtractorBackground\n",
        "from photutils.segmentation import SourceCatalog, deblend_sources, detect_sources\n",
        "from skimage import io, feature, filters, morphology, segmentation, restoration, measure\n",
        "from scipy.interpolate import interp2d\n",
        "\n",
        "from skimage import io, feature\n",
        "from skimage.measure import label, regionprops\n",
        "from scipy.optimize import curve_fit\n",
        "import skimage"
      ]
    },
    {
      "cell_type": "code",
      "execution_count": null,
      "metadata": {
        "id": "nj7fGxsr8zET"
      },
      "outputs": [],
      "source": [
        "path = SkyView.get_images(position = 'UGC 5272', radius = 0.05*u.degree,\n",
        "                          survey = ['GALEX Near UV'])"
      ]
    },
    {
      "cell_type": "code",
      "execution_count": null,
      "metadata": {
        "id": "QwjOGdvoZpUe"
      },
      "outputs": [],
      "source": [
        "data = path[0][0].data.copy()\n",
        "wcs = WCS(path[0][0].header)"
      ]
    },
    {
      "cell_type": "code",
      "execution_count": null,
      "metadata": {
        "id": "obml24nerFNv"
      },
      "outputs": [],
      "source": [
        "sigma_clip    = SigmaClip(sigma= 5)\n",
        "bkg_estimator = SExtractorBackground()\n",
        "bkg           = Background2D(data, (5, 5), filter_size = (3, 3),\n",
        "                sigma_clip=sigma_clip, bkg_estimator = bkg_estimator)\n",
        "\n",
        "bkg_image     = bkg.background"
      ]
    },
    {
      "cell_type": "code",
      "execution_count": null,
      "metadata": {
        "id": "nAWu2l9Tdl5E"
      },
      "outputs": [],
      "source": [
        "plt.imshow(bkg_image , origin = 'lower', cmap = 'jet', norm = col.LogNorm())"
      ]
    },
    {
      "cell_type": "code",
      "execution_count": null,
      "metadata": {
        "id": "y-UUNjTKr886"
      },
      "outputs": [],
      "source": [
        "FWHM   = 4.2/(wcs.wcs.cdelt[1]*3600) # FWHM of the source image in pixels\n",
        "\n",
        "sigma  = FWHM*gaussian_fwhm_to_sigma\n",
        "\n",
        "kernel = Gaussian2DKernel(sigma)\n",
        "kernel.normalize()\n",
        "\n",
        "deconvolved_data = restoration.richardson_lucy(data.astype(float), kernel.array,\n",
        "                                               num_iter = 20)"
      ]
    },
    {
      "cell_type": "code",
      "execution_count": null,
      "metadata": {
        "id": "86iaFLiaje39"
      },
      "outputs": [],
      "source": [
        "plt.imshow(deconvolved_data, origin = 'lower',cmap = 'jet' , norm=col.LogNorm())"
      ]
    },
    {
      "cell_type": "code",
      "execution_count": null,
      "metadata": {
        "id": "ZNSqdX03RIoY"
      },
      "outputs": [],
      "source": [
        "# Source Image\n",
        "galaxy_img = deconvolved_data\n",
        "\n",
        "# Smoothed image\n",
        "image_data = deconvolved_data\n",
        "\n",
        "# Set the parameters for blob detection\n",
        "min_sigma = 3\n",
        "max_sigma = 5\n",
        "num_sigma = 20\n",
        "threshold = 0.02\n",
        "\n",
        "# Detect blobs in the image\n",
        "blobs = feature.blob_log(image_data, min_sigma=min_sigma, max_sigma=max_sigma,\n",
        "                 num_sigma=num_sigma, threshold=threshold)\n",
        "\n",
        "# Plot the image with the detected blobs\n",
        "fig, ax = plt.subplots()\n",
        "ax.imshow(image_data, origin=\"lower\", cmap = 'jet', norm = col.LogNorm())\n",
        "for blob in blobs:\n",
        "    y, x, r = blob\n",
        "    c = plt.Circle((x, y), r, color=\"black\", linewidth=2, fill=False)\n",
        "    ax.add_patch(c)\n",
        "plt.show()"
      ]
    },
    {
      "cell_type": "code",
      "execution_count": null,
      "metadata": {
        "id": "82DC4rvr0_NL"
      },
      "outputs": [],
      "source": [
        "s_ps_scale = (wcs.wcs.cdelt[1]*3600)\n",
        "out_ps_scale = 0.1\n",
        "scale = s_ps_scale/out_ps_scale\n",
        "out_size = int(scale*data.shape[0])"
      ]
    },
    {
      "cell_type": "code",
      "execution_count": null,
      "metadata": {
        "id": "Fz4rDxHF0vN7"
      },
      "outputs": [],
      "source": [
        "# Interpolated Galaxy Diffused Image\n",
        "x = np.arange(0,data.shape[0],1)/data.shape[1]\n",
        "y = np.arange(0,data.shape[1],1)/data.shape[1]\n",
        "\n",
        "func = interp2d(x,y,bkg_image )\n",
        "\n",
        "x_n = np.arange(0,out_size,1)/out_size\n",
        "y_n = np.arange(0,out_size,1)/out_size\n",
        "\n",
        "bkg_img = func(x_n,y_n)"
      ]
    },
    {
      "cell_type": "code",
      "execution_count": null,
      "metadata": {
        "id": "slZpZ4e6Mcp3"
      },
      "outputs": [],
      "source": [
        "clumps = []\n",
        "y_in, x_in = np.mgrid[0:galaxy_img.shape[0], 0:galaxy_img.shape[1]]\n",
        "y_out, x_out =  np.mgrid[0:out_size, 0:out_size]\n",
        "sim_img = 0\n",
        "\n",
        "\n",
        "for blob in blobs:\n",
        "    y, x, r = blob\n",
        "    # Create a circular mask around the blob\n",
        "    y, x, r = int(y), int(x), int(r)\n",
        "    mask = np.zeros_like(galaxy_img)\n",
        "    rr, cc = skimage.draw.disk((y, x), r, shape=mask.shape)\n",
        "    mask[rr, cc] = 1\n",
        "\n",
        "    # Extract the pixels within the mask\n",
        "    masked_image = galaxy_img*mask\n",
        "\n",
        "    # Define the function to fit to the masked pixels\n",
        "\n",
        "    init = models.Gaussian2D(x_mean= x,\n",
        "                             y_mean= y,\n",
        "                             x_stddev=r/2,\n",
        "                             y_stddev=r/2\n",
        "                            )\n",
        "    fit  = fitting.LevMarLSQFitter()\n",
        "\n",
        "    model = fit(init,x_in, y_in, masked_image)\n",
        "    model.x_mean*=scale\n",
        "    model.y_mean*=scale\n",
        "    model.x_stddev*=scale\n",
        "    model.y_stddev*=scale\n",
        "\n",
        "    sim_img += model(x_out,y_out)"
      ]
    },
    {
      "cell_type": "code",
      "execution_count": null,
      "metadata": {
        "id": "H4IAW6daUFV1"
      },
      "outputs": [],
      "source": [
        "psf = np.load(f'{data_path}/data/PSF/INSIST/off_axis_poppy.npy')"
      ]
    },
    {
      "cell_type": "code",
      "execution_count": null,
      "metadata": {
        "id": "JFNcl_KuUwRd"
      },
      "outputs": [],
      "source": [
        "x = np.arange(0,data.shape[0],1)/data.shape[1]\n",
        "y = np.arange(0,data.shape[1],1)/data.shape[1]\n",
        "\n",
        "func = interp2d(x,y,bkg_image )\n",
        "\n",
        "x_n = np.arange(0,out_size,1)/out_size\n",
        "y_n = np.arange(0,out_size,1)/out_size\n",
        "\n",
        "bkg_img = func(x_n,y_n)"
      ]
    },
    {
      "cell_type": "code",
      "execution_count": null,
      "metadata": {
        "id": "qamFKV73T6KV"
      },
      "outputs": [],
      "source": [
        "plt.imshow(sim_img+ bkg_img, origin = 'lower', cmap = 'jet', norm = col.LogNorm())"
      ]
    },
    {
      "cell_type": "code",
      "execution_count": null,
      "metadata": {
        "id": "sDfqinulQXuQ"
      },
      "outputs": [],
      "source": [
        "conv_img = fftconvolve(sim_img + bkg_img, psf, mode = 'same')"
      ]
    },
    {
      "cell_type": "code",
      "execution_count": null,
      "metadata": {
        "id": "_5UyGLDYLnNj"
      },
      "outputs": [],
      "source": [
        "plt.imshow(conv_img, origin = 'lower', cmap = 'jet', norm = col.LogNorm())"
      ]
    },
    {
      "cell_type": "code",
      "execution_count": null,
      "metadata": {
        "id": "SmvgZRo682ja"
      },
      "outputs": [],
      "source": [
        "matplotlib.rcParams['font.size'] = 20"
      ]
    },
    {
      "cell_type": "code",
      "execution_count": null,
      "metadata": {
        "id": "oJ8slzYicbmk"
      },
      "outputs": [],
      "source": [
        "fig, ax = plt.subplots(2,3, figsize = (30,20))\n",
        "\n",
        "ax[0,0].imshow(data , origin = 'lower', cmap = 'jet', norm = col.LogNorm())\n",
        "ax[0,0].set_title('Original')\n",
        "ax[0,0]\n",
        "\n",
        "ax[0,1].imshow(bkg_image , origin = 'lower', cmap = 'jet', norm = col.LogNorm())\n",
        "ax[0,1].set_title('Diffuse Galaxy Image')\n",
        "\n",
        "ax[0,2].imshow(deconvolved_data , origin = 'lower', cmap = 'jet', norm = col.LogNorm())\n",
        "ax[0,2].set_title('Deconvolved')\n",
        "\n",
        "ax[1,0].imshow(image_data, origin = 'lower', cmap = 'jet', norm = col.LogNorm())\n",
        "ax[1,0].set_title('Detected blobs')\n",
        "\n",
        "for blob in blobs:\n",
        "    y, x, r = blob\n",
        "    c = plt.Circle((x, y), r, color=\"black\", linewidth=2, fill=False)\n",
        "    ax[1,0].add_patch(c)\n",
        "\n",
        "ax[1,1].imshow(sim_img + bkg_img , origin = 'lower', cmap = 'jet', norm = col.LogNorm())\n",
        "ax[1,1].set_title('Clumps fitted with Gaussians with background added')\n",
        "\n",
        "ax[1,2].imshow(conv_img , origin = 'lower', cmap = 'jet', norm = col.LogNorm())\n",
        "ax[1,2].set_title('Convolved with INSIST PSF')"
      ]
    },
    {
      "cell_type": "code",
      "execution_count": null,
      "metadata": {
        "id": "Dp0v_GDxVdik"
      },
      "outputs": [],
      "source": []
    }
  ],
  "metadata": {
    "colab": {
      "authorship_tag": "ABX9TyP10+ZamDTHIJVfVszPY2dG",
      "collapsed_sections": [
        "JRqCRHqjhB86",
        "Jky8ToHfhEEX",
        "R6n__Fpz-I96"
      ],
      "include_colab_link": true,
      "name": "PISTA.ipynb",
      "provenance": []
    },
    "kernelspec": {
      "display_name": "Python 3",
      "name": "python3"
    },
    "language_info": {
      "codemirror_mode": {
        "name": "ipython",
        "version": 3
      },
      "file_extension": ".py",
      "mimetype": "text/x-python",
      "name": "python",
      "nbconvert_exporter": "python",
      "pygments_lexer": "ipython3",
      "version": "3.10.9"
    }
  },
  "nbformat": 4,
  "nbformat_minor": 0
}
